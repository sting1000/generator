{
 "cells": [
  {
   "cell_type": "markdown",
   "metadata": {},
   "source": [
    "# Seq2Seq with Attention"
   ]
  },
  {
   "cell_type": "code",
   "execution_count": 57,
   "metadata": {},
   "outputs": [],
   "source": [
    "from __future__ import unicode_literals, print_function, division\n",
    "from io import open\n",
    "import unicodedata\n",
    "import string\n",
    "import re\n",
    "import random\n",
    "import json\n",
    "from pathlib import Path\n",
    "import pandas as pd\n",
    "import torch\n",
    "import torch.nn as nn\n",
    "from torch import optim\n",
    "import torch.nn.functional as F\n",
    "\n",
    "device = torch.device(\"cuda\" if torch.cuda.is_available() else \"cpu\")"
   ]
  },
  {
   "cell_type": "markdown",
   "metadata": {},
   "source": [
    "Import dataset with 70K pairs of commands"
   ]
  },
  {
   "cell_type": "code",
   "execution_count": 58,
   "metadata": {},
   "outputs": [
    {
     "data": {
      "text/html": [
       "<div>\n",
       "<style scoped>\n",
       "    .dataframe tbody tr th:only-of-type {\n",
       "        vertical-align: middle;\n",
       "    }\n",
       "\n",
       "    .dataframe tbody tr th {\n",
       "        vertical-align: top;\n",
       "    }\n",
       "\n",
       "    .dataframe thead th {\n",
       "        text-align: right;\n",
       "    }\n",
       "</style>\n",
       "<table border=\"1\" class=\"dataframe\">\n",
       "  <thead>\n",
       "    <tr style=\"text-align: right;\">\n",
       "      <th></th>\n",
       "      <th>src</th>\n",
       "      <th>tgt</th>\n",
       "    </tr>\n",
       "  </thead>\n",
       "  <tbody>\n",
       "    <tr>\n",
       "      <th>0</th>\n",
       "      <td>i need the temperature for eight fifty nine in...</td>\n",
       "      <td>i need the temperature for 08:59 in mals</td>\n",
       "    </tr>\n",
       "    <tr>\n",
       "      <th>1</th>\n",
       "      <td>can you tell me the temperature for on twenty ...</td>\n",
       "      <td>can you tell me the temperature for on 27.8</td>\n",
       "    </tr>\n",
       "    <tr>\n",
       "      <th>2</th>\n",
       "      <td>how many degrees is it in munstertal black forest</td>\n",
       "      <td>how many degrees is it in munstertal black forest</td>\n",
       "    </tr>\n",
       "    <tr>\n",
       "      <th>3</th>\n",
       "      <td>how hot is it</td>\n",
       "      <td>how hot is it</td>\n",
       "    </tr>\n",
       "    <tr>\n",
       "      <th>4</th>\n",
       "      <td>do i need a coat on twentieth september</td>\n",
       "      <td>do i need a coat on 20.9</td>\n",
       "    </tr>\n",
       "  </tbody>\n",
       "</table>\n",
       "</div>"
      ],
      "text/plain": [
       "                                                 src  \\\n",
       "0  i need the temperature for eight fifty nine in...   \n",
       "1  can you tell me the temperature for on twenty ...   \n",
       "2  how many degrees is it in munstertal black forest   \n",
       "3                                      how hot is it   \n",
       "4            do i need a coat on twentieth september   \n",
       "\n",
       "                                                 tgt  \n",
       "0           i need the temperature for 08:59 in mals  \n",
       "1        can you tell me the temperature for on 27.8  \n",
       "2  how many degrees is it in munstertal black forest  \n",
       "3                                      how hot is it  \n",
       "4                           do i need a coat on 20.9  "
      ]
     },
     "execution_count": 58,
     "metadata": {},
     "output_type": "execute_result"
    }
   ],
   "source": [
    "spoken = open('data/nmt_data/commands_spoken_en.txt', encoding='UTF-8').read().strip().split('\\n')  \n",
    "written = open('data/nmt_data/commands_written_en.txt', encoding='UTF-8').read().strip().split('\\n')\n",
    "data = pd.DataFrame(list(zip(spoken, written)), columns=[\"src\", \"tgt\"])\n",
    "data.head()"
   ]
  },
  {
   "cell_type": "markdown",
   "metadata": {},
   "source": [
    "Add extra number pairs (1k). PS: using 10K will introduce quite a lot noise to dictionary"
   ]
  },
  {
   "cell_type": "code",
   "execution_count": 146,
   "metadata": {
    "scrolled": true
   },
   "outputs": [
    {
     "name": "stdout",
     "output_type": "stream",
     "text": [
      "test size: 4176 unique sentences\n",
      "train size: 256719 sample senteces (with duplication)\n"
     ]
    }
   ],
   "source": [
    "random.seed(30)\n",
    "li = random.choices(data.src.unique(), k = int(len(data.src.unique()) *0.05 ))\n",
    "train_df = data[~data.src.isin(li)]\n",
    "test_df = data[data.src.isin(li)].drop_duplicates()\n",
    "\n",
    "print(\"test size: {} unique sentences\".format(len(li)))\n",
    "print(\"train size: {} sample senteces (with duplication)\".format(sum(~data.src.isin(li))) )"
   ]
  },
  {
   "cell_type": "code",
   "execution_count": 147,
   "metadata": {},
   "outputs": [
    {
     "name": "stderr",
     "output_type": "stream",
     "text": [
      "4117it [00:00, 9015.45it/s]\n",
      "256719it [00:28, 9116.42it/s]\n"
     ]
    }
   ],
   "source": [
    "mid = len(test_df) // 2\n",
    "output_dir = '/home/zhechensu/exp/'\n",
    "f_src_test = open(output_dir + 'src_test.txt', \"w\")\n",
    "f_tgt_test = open(output_dir + 'tgt_test.txt', \"w\")\n",
    "f_src_val = open(output_dir + 'src_val.txt', \"w\")\n",
    "f_tgt_val = open(output_dir + 'tgt_val.txt', \"w\")\n",
    "f_src_train = open(output_dir + 'src_train.txt', \"w\")\n",
    "f_tgt_train = open(output_dir + 'tgt_train.txt', \"w\")\n",
    "\n",
    "# generate\n",
    "for index, row in tqdm(test_df.iterrows()):\n",
    "    if index % 2:\n",
    "        f_src_test.write(\"{}\\n\".format(row['src']))\n",
    "        f_tgt_test.write(\"{}\\n\".format(row['tgt']))\n",
    "    else:\n",
    "        f_src_val.write(\"{}\\n\".format(row['src']))\n",
    "        f_tgt_val.write(\"{}\\n\".format(row['tgt']))\n",
    "f_src_val.close()\n",
    "f_tgt_val.close()\n",
    "f_src_test.close()\n",
    "f_tgt_test.close()\n",
    "        \n",
    "for index, row in tqdm(train_df.iterrows()):\n",
    "    f_src_train.write(\"{}\\n\".format(row['src']))\n",
    "    f_tgt_train.write(\"{}\\n\".format(row['tgt']))   \n",
    "f_src_train.close()\n",
    "f_tgt_train.close()\n",
    "\n"
   ]
  },
  {
   "cell_type": "code",
   "execution_count": 60,
   "metadata": {},
   "outputs": [],
   "source": [
    "SOS_token = 0\n",
    "EOS_token = 1\n",
    "\n",
    "\n",
    "class Lang:\n",
    "    def __init__(self, name):\n",
    "        self.name = name\n",
    "        self.word2index = {}\n",
    "        self.word2count = {}\n",
    "        self.index2word = {0: \"SOS\", 1: \"EOS\"}\n",
    "        self.n_words = 2  # Count SOS and EOS\n",
    "\n",
    "    def addSentence(self, sentence):\n",
    "        for word in sentence.split(' '):\n",
    "            self.addWord(word)\n",
    "\n",
    "    def addWord(self, word):\n",
    "        if word not in self.word2index:\n",
    "            self.word2index[word] = self.n_words\n",
    "            self.word2count[word] = 1\n",
    "            self.index2word[self.n_words] = word\n",
    "            self.n_words += 1\n",
    "        else:\n",
    "            self.word2count[word] += 1"
   ]
  },
  {
   "cell_type": "code",
   "execution_count": 61,
   "metadata": {},
   "outputs": [],
   "source": [
    "# Turn a Unicode string to plain ASCII, thanks to\n",
    "# https://stackoverflow.com/a/518232/2809427\n",
    "def unicodeToAscii(s):\n",
    "    return ''.join(\n",
    "        c for c in unicodedata.normalize('NFD', s)\n",
    "        if unicodedata.category(c) != 'Mn'\n",
    "    )\n",
    "\n",
    "# Lowercase, trim, and remove non-letter characters\n",
    "\n",
    "\n",
    "def normalizeString(s):\n",
    "    s = unicodeToAscii(s.lower().strip())\n",
    "    s = re.sub(r\"([a-zA-Z]+)[\\:\\-]\", r\"\\1 \", s)  # colun:dsfa -> colun dsfa\n",
    "    s = re.sub(r\"(\\d+)[\\:](\\d+)\", r\"\\1 : \\2\", s) # 15:30 -> 15:30\n",
    "    s = re.sub(r\"([\\.\\+])\", r\" \\1 \", s)\n",
    "    s = re.sub(r\"([\\-])\", r\" \", s)\n",
    "#     s = re.sub(r\"[^a-zA-Z!?]+\", r\" \", s)\n",
    "    return s"
   ]
  },
  {
   "cell_type": "code",
   "execution_count": 62,
   "metadata": {},
   "outputs": [],
   "source": [
    "def readLangs(lang1, lang2, lang_class=Lang):\n",
    "    print(\"Reading lines...\")\n",
    "\n",
    "    # Split every line into pairs and normalize\n",
    "    pairs = [[s, t]for s, t in list(zip(lang1, lang2))] \n",
    "\n",
    "    input_lang = lang_class('src')\n",
    "    output_lang = lang_class('tgt')\n",
    "\n",
    "    return input_lang, output_lang, pairs"
   ]
  },
  {
   "cell_type": "code",
   "execution_count": 63,
   "metadata": {},
   "outputs": [
    {
     "name": "stdout",
     "output_type": "stream",
     "text": [
      "Reading lines...\n",
      "Read 256719 sentence pairs\n",
      "Counting words...\n",
      "Counted words:\n",
      "src 8197\n",
      "tgt 9547\n",
      "['can you tell me how the weather in berne on fifteenth april will be', 'can you tell me how the weather in berne on 15.4 will be']\n"
     ]
    }
   ],
   "source": [
    "def prepareData(lang1, lang2, lang_class=Lang):\n",
    "    input_lang, output_lang, pairs = readLangs(lang1, lang2, lang_class)\n",
    "    print(\"Read %s sentence pairs\" % len(pairs))\n",
    "#     pairs = filterPairs(pairs)\n",
    "#     print(\"Trimmed to %s sentence pairs\" % len(pairs))\n",
    "    print(\"Counting words...\")\n",
    "    for pair in pairs:\n",
    "        input_lang.addSentence(pair[0])\n",
    "        output_lang.addSentence(pair[1])\n",
    "    print(\"Counted words:\")\n",
    "    print(input_lang.name, input_lang.n_words)\n",
    "    print(output_lang.name, output_lang.n_words)\n",
    "    return input_lang, output_lang, pairs\n",
    "\n",
    "\n",
    "input_lang, output_lang, pairs = prepareData(train_df.src.tolist(), train_df.tgt.tolist())\n",
    "print(random.choice(pairs))"
   ]
  },
  {
   "cell_type": "code",
   "execution_count": 112,
   "metadata": {},
   "outputs": [],
   "source": [
    "from attentionRNN import DynamicEncoder, BahdanauAttnDecoderRNN"
   ]
  },
  {
   "cell_type": "code",
   "execution_count": 64,
   "metadata": {},
   "outputs": [],
   "source": [
    "class EncoderRNN(nn.Module):\n",
    "    def __init__(self, input_size, hidden_size):\n",
    "        super(EncoderRNN, self).__init__()\n",
    "        self.hidden_size = hidden_size\n",
    "\n",
    "        self.embedding = nn.Embedding(input_size, hidden_size)\n",
    "        self.gru = nn.LSTM(hidden_size, hidden_size, bidirectional=True, num_layers=2)\n",
    "\n",
    "    def forward(self, input, hidden):\n",
    "        embedded = self.embedding(input).view(1, 1, -1)\n",
    "        output = embedded\n",
    "        output, hidden = self.gru(output, hidden)\n",
    "        return output, hidden\n",
    "\n",
    "    def initHidden(self):\n",
    "        return torch.zeros(1, 1, self.hidden_size, device=device)"
   ]
  },
  {
   "cell_type": "code",
   "execution_count": 65,
   "metadata": {},
   "outputs": [],
   "source": [
    "class DecoderRNN(nn.Module):\n",
    "    def __init__(self, hidden_size, output_size):\n",
    "        super(DecoderRNN, self).__init__()\n",
    "        self.hidden_size = hidden_size\n",
    "\n",
    "        self.embedding = nn.Embedding(output_size, hidden_size)\n",
    "        self.gru = #nn.GRU(hidden_size, hidden_size)\n",
    "        self.out = nn.Linear(hidden_size, output_size)\n",
    "        self.softmax = nn.LogSoftmax(dim=1)\n",
    "\n",
    "    def forward(self, input, hidden):\n",
    "        output = self.embedding(input).view(1, 1, -1)\n",
    "        output = F.relu(output)\n",
    "        output, hidden = self.gru(output, hidden)\n",
    "        output = self.softmax(self.out(output[0]))\n",
    "        return output, hidden\n",
    "\n",
    "    def initHidden(self):\n",
    "        return torch.zeros(1, 1, self.hidden_size, device=device)"
   ]
  },
  {
   "cell_type": "code",
   "execution_count": 66,
   "metadata": {},
   "outputs": [],
   "source": [
    "class AttnDecoderRNN(nn.Module):\n",
    "    def __init__(self, hidden_size, output_size, dropout_p=0.1, max_length=30):\n",
    "        super(AttnDecoderRNN, self).__init__()\n",
    "        self.hidden_size = hidden_size\n",
    "        self.output_size = output_size\n",
    "        self.dropout_p = dropout_p\n",
    "        self.max_length = max_length\n",
    "\n",
    "        self.embedding = nn.Embedding(self.output_size, self.hidden_size)\n",
    "        self.attn = nn.Linear(self.hidden_size * 2, self.max_length)\n",
    "        self.attn_combine = nn.Linear(self.hidden_size * 2, self.hidden_size)\n",
    "        self.dropout = nn.Dropout(self.dropout_p)\n",
    "        self.gru = nn.GRU(self.hidden_size, self.hidden_size)\n",
    "        self.out = nn.Linear(self.hidden_size, self.output_size)\n",
    "\n",
    "    def forward(self, input, hidden, encoder_outputs):\n",
    "        embedded = self.embedding(input).view(1, 1, -1)\n",
    "        embedded = self.dropout(embedded)\n",
    "\n",
    "        attn_weights = F.softmax(\n",
    "            self.attn(torch.cat((embedded[0], hidden[0]), 1)), dim=1)\n",
    "        attn_applied = torch.bmm(attn_weights.unsqueeze(0),\n",
    "                                 encoder_outputs.unsqueeze(0))\n",
    "\n",
    "        output = torch.cat((embedded[0], attn_applied[0]), 1)\n",
    "        output = self.attn_combine(output).unsqueeze(0)\n",
    "\n",
    "        output = F.relu(output)\n",
    "        output, hidden = self.gru(output, hidden)\n",
    "\n",
    "        output = F.log_softmax(self.out(output[0]), dim=1)\n",
    "        return output, hidden, attn_weights\n",
    "\n",
    "    def initHidden(self):\n",
    "        return torch.zeros(1, 1, self.hidden_size, device=device)"
   ]
  },
  {
   "cell_type": "code",
   "execution_count": 67,
   "metadata": {},
   "outputs": [],
   "source": [
    "def indexesFromSentence(lang, sentence):\n",
    "    return [lang.word2index[word] for word in sentence.split(' ')]\n",
    "\n",
    "\n",
    "def tensorFromSentence(lang, sentence):\n",
    "    indexes = indexesFromSentence(lang, sentence)\n",
    "    indexes.append(EOS_token)\n",
    "    return torch.tensor(indexes, dtype=torch.long, device=device).view(-1, 1)\n",
    "\n",
    "\n",
    "def tensorsFromPair(pair):\n",
    "    input_tensor = tensorFromSentence(input_lang, pair[0])\n",
    "    target_tensor = tensorFromSentence(output_lang, pair[1])\n",
    "    return (input_tensor, target_tensor)"
   ]
  },
  {
   "cell_type": "code",
   "execution_count": 68,
   "metadata": {},
   "outputs": [],
   "source": [
    "teacher_forcing_ratio = 0.5\n",
    "\n",
    "\n",
    "def train(input_tensor, target_tensor, encoder, decoder, encoder_optimizer, decoder_optimizer, criterion, max_length=30):\n",
    "    encoder_hidden = encoder.initHidden()\n",
    "\n",
    "    encoder_optimizer.zero_grad()\n",
    "    decoder_optimizer.zero_grad()\n",
    "\n",
    "    input_length = input_tensor.size(0)\n",
    "    target_length = target_tensor.size(0)\n",
    "\n",
    "    encoder_outputs = torch.zeros(max_length, encoder.hidden_size, device=device)\n",
    "\n",
    "    loss = 0\n",
    "\n",
    "    for ei in range(input_length):\n",
    "        encoder_output, encoder_hidden = encoder(\n",
    "            input_tensor[ei], encoder_hidden)\n",
    "        encoder_outputs[ei] = encoder_output[0, 0]\n",
    "\n",
    "    decoder_input = torch.tensor([[SOS_token]], device=device)\n",
    "\n",
    "    decoder_hidden = encoder_hidden\n",
    "\n",
    "    use_teacher_forcing = True if random.random() < teacher_forcing_ratio else False\n",
    "\n",
    "    if use_teacher_forcing:\n",
    "        # Teacher forcing: Feed the target as the next input\n",
    "        for di in range(target_length):\n",
    "            decoder_output, decoder_hidden, decoder_attention = decoder(\n",
    "                decoder_input, decoder_hidden, encoder_outputs)\n",
    "            loss += criterion(decoder_output, target_tensor[di])\n",
    "            decoder_input = target_tensor[di]  # Teacher forcing\n",
    "\n",
    "    else:\n",
    "        # Without teacher forcing: use its own predictions as the next input\n",
    "        for di in range(target_length):\n",
    "            decoder_output, decoder_hidden, decoder_attention = decoder(\n",
    "                decoder_input, decoder_hidden, encoder_outputs)\n",
    "            topv, topi = decoder_output.topk(1)\n",
    "            decoder_input = topi.squeeze().detach()  # detach from history as input\n",
    "\n",
    "            loss += criterion(decoder_output, target_tensor[di])\n",
    "            if decoder_input.item() == EOS_token:\n",
    "                break\n",
    "\n",
    "    loss.backward()\n",
    "\n",
    "    encoder_optimizer.step()\n",
    "    decoder_optimizer.step()\n",
    "\n",
    "    return loss.item() / target_length"
   ]
  },
  {
   "cell_type": "code",
   "execution_count": 69,
   "metadata": {},
   "outputs": [],
   "source": [
    "import time\n",
    "import math\n",
    "\n",
    "\n",
    "def asMinutes(s):\n",
    "    m = math.floor(s / 60)\n",
    "    s -= m * 60\n",
    "    return '%dm %ds' % (m, s)\n",
    "\n",
    "\n",
    "def timeSince(since, percent):\n",
    "    now = time.time()\n",
    "    s = now - since\n",
    "    es = s / (percent)\n",
    "    rs = es - s\n",
    "    return '%s (- %s)' % (asMinutes(s), asMinutes(rs))"
   ]
  },
  {
   "cell_type": "code",
   "execution_count": 70,
   "metadata": {},
   "outputs": [],
   "source": [
    "def trainIters(encoder, decoder, n_iters, print_every=1000, plot_every=100, learning_rate=0.01):\n",
    "    start = time.time()\n",
    "    plot_losses = []\n",
    "    print_loss_total = 0  # Reset every print_every\n",
    "    plot_loss_total = 0  # Reset every plot_every\n",
    "\n",
    "    encoder_optimizer = optim.SGD(encoder.parameters(), lr=learning_rate)\n",
    "    decoder_optimizer = optim.SGD(decoder.parameters(), lr=learning_rate)\n",
    "    training_pairs = [tensorsFromPair(random.choice(pairs))\n",
    "                      for i in range(n_iters)]\n",
    "    criterion = nn.NLLLoss()\n",
    "\n",
    "    for iter in range(1, n_iters + 1):\n",
    "        training_pair = training_pairs[iter - 1]\n",
    "        input_tensor = training_pair[0]\n",
    "        target_tensor = training_pair[1]\n",
    "\n",
    "        loss = train(input_tensor, target_tensor, encoder,\n",
    "                     decoder, encoder_optimizer, decoder_optimizer, criterion)\n",
    "        print_loss_total += loss\n",
    "        plot_loss_total += loss\n",
    "\n",
    "        if iter % print_every == 0:\n",
    "            print_loss_avg = print_loss_total / print_every\n",
    "            print_loss_total = 0\n",
    "            print('%s (%d %d%%) %.4f' % (timeSince(start, iter / n_iters),\n",
    "                                         iter, iter / n_iters * 100, print_loss_avg))\n",
    "\n",
    "        if iter % plot_every == 0:\n",
    "            plot_loss_avg = plot_loss_total / plot_every\n",
    "            plot_losses.append(plot_loss_avg)\n",
    "            plot_loss_total = 0\n",
    "\n",
    "    showPlot(plot_losses)"
   ]
  },
  {
   "cell_type": "code",
   "execution_count": 71,
   "metadata": {},
   "outputs": [],
   "source": [
    "import matplotlib.pyplot as plt\n",
    "# plt.switch_backend('agg')\n",
    "import matplotlib.ticker as ticker\n",
    "import numpy as np\n",
    "\n",
    "\n",
    "def showPlot(points):\n",
    "    plt.figure()\n",
    "    fig, ax = plt.subplots()\n",
    "    # this locator puts ticks at regular intervals\n",
    "    loc = ticker.MultipleLocator(base=0.2)\n",
    "    ax.yaxis.set_major_locator(loc)\n",
    "    plt.plot(points)"
   ]
  },
  {
   "cell_type": "code",
   "execution_count": 72,
   "metadata": {},
   "outputs": [],
   "source": [
    "def evaluate(encoder, decoder, sentence, max_length=30, show_topk=0):\n",
    "    with torch.no_grad():\n",
    "        input_tensor = tensorFromSentence(input_lang, sentence)\n",
    "        input_length = input_tensor.size()[0]\n",
    "        encoder_hidden = encoder.initHidden()\n",
    "\n",
    "        encoder_outputs = torch.zeros(max_length, encoder.hidden_size, device=device)\n",
    "\n",
    "        for ei in range(input_length):\n",
    "            encoder_output, encoder_hidden = encoder(input_tensor[ei],\n",
    "                                                     encoder_hidden)\n",
    "            encoder_outputs[ei] += encoder_output[0, 0]\n",
    "\n",
    "        decoder_input = torch.tensor([[SOS_token]], device=device)  # SOS\n",
    "\n",
    "        decoder_hidden = encoder_hidden\n",
    "\n",
    "        decoded_words = []\n",
    "        decoder_attentions = torch.zeros(max_length, max_length)\n",
    "\n",
    "        for di in range(max_length):\n",
    "            decoder_output, decoder_hidden, decoder_attention = decoder(\n",
    "                decoder_input, decoder_hidden, encoder_outputs)\n",
    "            decoder_attentions[di] = decoder_attention.data\n",
    "            topv, topi = decoder_output.data.topk(1)\n",
    "            if topi.item() == EOS_token:\n",
    "                decoded_words.append('<EOS>')\n",
    "                break\n",
    "            else:\n",
    "                decoded_words.append(output_lang.index2word[topi.item()])\n",
    "\n",
    "            decoder_input = topi.squeeze().detach()\n",
    "\n",
    "        return decoded_words, decoder_attentions[:di + 1]"
   ]
  },
  {
   "cell_type": "code",
   "execution_count": 73,
   "metadata": {},
   "outputs": [],
   "source": [
    "def evaluateRandomly(encoder, decoder, data, n=10):\n",
    "    for i in range(n):\n",
    "        pair = random.choice(data)\n",
    "        print('>', pair[0])\n",
    "        print('=', pair[1])\n",
    "        output_words, attentions = evaluate(encoder, decoder, pair[0])\n",
    "        output_sentence = ' '.join(output_words)\n",
    "        print('<', output_sentence)\n",
    "        print('')"
   ]
  },
  {
   "cell_type": "code",
   "execution_count": 87,
   "metadata": {},
   "outputs": [
    {
     "name": "stdout",
     "output_type": "stream",
     "text": [
      "1m 56s (- 30m 26s) (3000 6%) 3.2651\n",
      "3m 53s (- 28m 35s) (6000 12%) 1.6919\n",
      "5m 53s (- 26m 52s) (9000 18%) 1.2174\n",
      "7m 53s (- 24m 58s) (12000 24%) 1.0175\n",
      "9m 53s (- 23m 5s) (15000 30%) 0.9479\n",
      "11m 51s (- 21m 5s) (18000 36%) 0.8524\n",
      "13m 51s (- 19m 8s) (21000 42%) 0.7951\n",
      "15m 53s (- 17m 13s) (24000 48%) 0.7149\n",
      "17m 56s (- 15m 16s) (27000 54%) 0.7463\n",
      "19m 56s (- 13m 17s) (30000 60%) 0.6248\n",
      "21m 56s (- 11m 18s) (33000 66%) 0.6425\n",
      "23m 57s (- 9m 19s) (36000 72%) 0.5979\n",
      "25m 56s (- 7m 19s) (39000 78%) 0.5946\n",
      "27m 56s (- 5m 19s) (42000 84%) 0.5452\n",
      "29m 56s (- 3m 19s) (45000 90%) 0.5424\n",
      "31m 57s (- 1m 19s) (48000 96%) 0.5570\n"
     ]
    },
    {
     "data": {
      "text/plain": [
       "<Figure size 432x288 with 0 Axes>"
      ]
     },
     "metadata": {},
     "output_type": "display_data"
    },
    {
     "data": {
      "image/png": "[encoded data removed]",
      "text/plain": [
       "<Figure size 432x288 with 1 Axes>"
      ]
     },
     "metadata": {
      "needs_background": "light"
     },
     "output_type": "display_data"
    }
   ],
   "source": [
    "hidden_size = 256\n",
    "encoder1 = EncoderRNN(input_lang.n_words, hidden_size).to(device)\n",
    "attn_decoder1 = AttnDecoderRNN(hidden_size, output_lang.n_words, dropout_p=0.1).to(device)\n",
    "\n",
    "trainIters(encoder1, attn_decoder1, 50000, print_every=3000, learning_rate=0.01)"
   ]
  },
  {
   "cell_type": "code",
   "execution_count": 96,
   "metadata": {},
   "outputs": [
    {
     "name": "stdout",
     "output_type": "stream",
     "text": [
      "> i want to know how hot it is in neumarkt from five twenty eight to fifteen seventeen\n",
      "= i want to know how hot it is in neumarkt from 05:28 to 15:17\n",
      "< i want to know how hot it is in neumarkt <EOS>\n",
      "\n",
      "> i want to know how warm it is in munstertal black forest from twenty nine minutes past midnight to fifteen twenty\n",
      "= i want to know how warm it is in munstertal black forest from 00:29 to 15:20\n",
      "< i want to know how warm it is in tremezzo from 13:20 to 20:18 <EOS>\n",
      "\n",
      "> is it going to be hot in constance on nineteenth july\n",
      "= is it going to be hot in constance on 19.7\n",
      "< is it going to be hot in constance on 19.12 <EOS>\n",
      "\n",
      "> turn on pointless\n",
      "= turn on pointless\n",
      "< turn on cams <EOS>\n",
      "\n",
      "> i would like to watch tele zentralschweiz\n",
      "= i would like to watch tele zentralschweiz\n",
      "< i would like to watch canal plus <EOS>\n",
      "\n",
      "> do i need a coat on wednesday\n",
      "= do i need a coat on wednesday\n",
      "< do i need a coat on wednesday <EOS>\n",
      "\n",
      "> i would like to know if it is raining in algund on twentieth december\n",
      "= i would like to know if it is raining in algund on 20.12\n",
      "< i would like to know if it is raining in ratschings on 31.12 <EOS>\n",
      "\n",
      "> can i please watch for greater glory the true story of cristiada\n",
      "= can i please watch for greater glory : the true story of cristiada\n",
      "< can i please watch barbie for of the the of of of <EOS>\n",
      "\n",
      "> will there be rain at twenty two forty five in lucerne\n",
      "= will there be rain at 22:45 in lucerne\n",
      "< will there be rain at 22:45 in lucerne <EOS>\n",
      "\n",
      "> i want to know how hot it is in fussen from twelve oh seven to two fifty five\n",
      "= i want to know how hot it is in fussen from 12:07 to 02:55\n",
      "< i want to know how hot it is in fussen <EOS>\n",
      "\n"
     ]
    }
   ],
   "source": [
    "test_pairs = [[s,  t]for s, t in list(zip(test_df.drop_duplicates().src, test_df.drop_duplicates().tgt))]\n",
    "evaluateRandomly(encoder1, attn_decoder1, test_pairs)"
   ]
  },
  {
   "cell_type": "code",
   "execution_count": 88,
   "metadata": {
    "scrolled": false
   },
   "outputs": [
    {
     "name": "stderr",
     "output_type": "stream",
     "text": [
      "  0%|          | 7/4117 [00:00<01:03, 64.31it/s]"
     ]
    },
    {
     "name": "stdout",
     "output_type": "stream",
     "text": [
      "WER_base: 0.2059035277177826\n"
     ]
    },
    {
     "name": "stderr",
     "output_type": "stream",
     "text": [
      "100%|██████████| 4117/4117 [00:56<00:00, 72.91it/s] "
     ]
    },
    {
     "name": "stdout",
     "output_type": "stream",
     "text": [
      "WER: 0.2007957888790723\n"
     ]
    },
    {
     "name": "stderr",
     "output_type": "stream",
     "text": [
      "\n"
     ]
    }
   ],
   "source": [
    "# evaluate in validation set\n",
    "from jiwer import wer\n",
    "from tqdm import tqdm \n",
    "\n",
    "def evaluateWER(encoder, decoder, n=10):\n",
    "    WER = 0\n",
    "    size = 0\n",
    "    for test_pair in tqdm(test_pairs):\n",
    "        try:\n",
    "            output_words, attentions = evaluate(encoder, decoder, test_pair[0])\n",
    "            output_sentence = ' '.join(output_words[:-1])\n",
    "            WER += wer(test_pair[1], output_sentence)\n",
    "            size += 1\n",
    "        except:\n",
    "            pass\n",
    "    print(\"WER: {}\".format(WER/ size))\n",
    "        \n",
    "wer_base = wer(test_df.drop_duplicates().src.tolist(), test_df.drop_duplicates().tgt.tolist())\n",
    "print(\"WER_base: {}\".format(wer_base))\n",
    "evaluateWER(encoder1, attn_decoder1)"
   ]
  },
  {
   "cell_type": "code",
   "execution_count": 97,
   "metadata": {
    "scrolled": false
   },
   "outputs": [
    {
     "name": "stdout",
     "output_type": "stream",
     "text": [
      "input = is it going to be nice outside at seventeen fifteen in milan\n",
      "output = is it going to be nice outside at 17:15 in milan <EOS>\n"
     ]
    },
    {
     "name": "stderr",
     "output_type": "stream",
     "text": [
      "<ipython-input-97-8aeba70aa22f>:9: UserWarning: FixedFormatter should only be used together with FixedLocator\n",
      "  ax.set_xticklabels([''] + input_sentence.split(' ') +\n",
      "<ipython-input-97-8aeba70aa22f>:11: UserWarning: FixedFormatter should only be used together with FixedLocator\n",
      "  ax.set_yticklabels([''] + output_words)\n"
     ]
    },
    {
     "data": {
      "image/png": "[encoded data removed]",
      "text/plain": [
       "<Figure size 432x288 with 2 Axes>"
      ]
     },
     "metadata": {
      "needs_background": "light"
     },
     "output_type": "display_data"
    },
    {
     "name": "stdout",
     "output_type": "stream",
     "text": [
      "input = tell me something about real betis sevilla\n",
      "output = tell me something about real cf cf <EOS>\n"
     ]
    },
    {
     "data": {
      "image/png": "[encoded data removed]",
      "text/plain": [
       "<Figure size 432x288 with 2 Axes>"
      ]
     },
     "metadata": {
      "needs_background": "light"
     },
     "output_type": "display_data"
    },
    {
     "name": "stdout",
     "output_type": "stream",
     "text": [
      "input = is it raining on fifteenth september\n",
      "output = is it raining on 15.9 <EOS>\n"
     ]
    },
    {
     "data": {
      "image/png": "[encoded data removed]",
      "text/plain": [
       "<Figure size 432x288 with 2 Axes>"
      ]
     },
     "metadata": {
      "needs_background": "light"
     },
     "output_type": "display_data"
    },
    {
     "name": "stdout",
     "output_type": "stream",
     "text": [
      "input = four hundred and twenty eight\n",
      "output = rainfall <EOS>\n"
     ]
    },
    {
     "data": {
      "image/png": "[encoded data removed]",
      "text/plain": [
       "<Figure size 432x288 with 2 Axes>"
      ]
     },
     "metadata": {
      "needs_background": "light"
     },
     "output_type": "display_data"
    },
    {
     "name": "stdout",
     "output_type": "stream",
     "text": [
      "input = is it raining in plateau from seven twenty five to three fifteen\n",
      "output = is it raining in zurich from 05:28 to 07:33 <EOS>\n"
     ]
    },
    {
     "data": {
      "image/png": "[encoded data removed]",
      "text/plain": [
       "<Figure size 432x288 with 2 Axes>"
      ]
     },
     "metadata": {
      "needs_background": "light"
     },
     "output_type": "display_data"
    }
   ],
   "source": [
    "def showAttention(input_sentence, output_words, attentions):\n",
    "    # Set up figure with colorbar\n",
    "    fig = plt.figure()\n",
    "    ax = fig.add_subplot(111)\n",
    "    cax = ax.matshow(attentions.numpy(), cmap='bone')\n",
    "    fig.colorbar(cax)\n",
    "\n",
    "    # Set up axes\n",
    "    ax.set_xticklabels([''] + input_sentence.split(' ') +\n",
    "                       ['<EOS>'], rotation=90)\n",
    "    ax.set_yticklabels([''] + output_words)\n",
    "\n",
    "    # Show label at every tick\n",
    "    ax.xaxis.set_major_locator(ticker.MultipleLocator(1))\n",
    "    ax.yaxis.set_major_locator(ticker.MultipleLocator(1))\n",
    "\n",
    "    plt.show()\n",
    "\n",
    "\n",
    "def evaluateAndShowAttention(input_sentence):\n",
    "    output_words, attentions = evaluate(\n",
    "        encoder1, attn_decoder1, input_sentence)\n",
    "    print('input =', input_sentence)\n",
    "    print('output =', ' '.join(output_words))\n",
    "    showAttention(input_sentence, output_words, attentions)\n",
    "    \n",
    "evaluateAndShowAttention(\"is it going to be nice outside at seventeen fifteen in milan\")\n",
    "evaluateAndShowAttention(\"tell me something about real betis sevilla\")\n",
    "evaluateAndShowAttention(\"is it raining on fifteenth september\")\n",
    "evaluateAndShowAttention(\"four hundred and twenty eight\")\n",
    "evaluateAndShowAttention(\"is it raining in plateau from seven twenty five to three fifteen\")"
   ]
  },
  {
   "cell_type": "markdown",
   "metadata": {},
   "source": [
    "## GloVe"
   ]
  },
  {
   "cell_type": "code",
   "execution_count": 98,
   "metadata": {},
   "outputs": [],
   "source": [
    "import bcolz\n",
    "import pickle\n",
    "# words = []\n",
    "# idx = 0\n",
    "# word2idx = {}\n",
    "glove_path = \"/home/zhechensu/glove/glove.6B.50d.txt\"\n",
    "rootdir = f'/home/zhechensu/glove/glove.6B/'\n",
    "# vectors = bcolz.carray(np.zeros(1), rootdir=rootdir + '6B.50.dat', mode='w')\n",
    "\n",
    "# with open(glove_path, 'rb') as f:\n",
    "#     for l in f:\n",
    "#         line = l.decode().split()\n",
    "#         word = line[0]\n",
    "#         words.append(word)\n",
    "#         word2idx[word] = idx\n",
    "#         idx += 1\n",
    "#         vect = np.array(line[1:]).astype(np.float)\n",
    "#         vectors.append(vect)\n",
    "     \n",
    "# vectors = bcolz.carray(vectors[1:].reshape((400000, 50)), rootdir= rootdir + '6B.50.dat', mode='w')\n",
    "# vectors.flush()\n",
    "# pickle.dump(words, open(rootdir + '6B.50_words.pkl', 'wb'))\n",
    "# pickle.dump(word2idx, open(rootdir + '6B.50_idx.pkl', 'wb'))"
   ]
  },
  {
   "cell_type": "code",
   "execution_count": 99,
   "metadata": {},
   "outputs": [],
   "source": [
    "# Load Glove Vectors\n",
    "vectors = bcolz.open(rootdir + '6B.50.dat')[:]\n",
    "words = pickle.load(open(rootdir + '6B.50_words.pkl', 'rb'))\n",
    "word2idx = pickle.load(open(rootdir + '6B.50_idx.pkl', 'rb'))\n",
    " \n",
    "glove = {w: vectors[word2idx[w]] for w in words}"
   ]
  },
  {
   "cell_type": "code",
   "execution_count": 101,
   "metadata": {},
   "outputs": [],
   "source": [
    "# for moving 'sos' token at index 0 and 'eos' token at index 1\n",
    "\n",
    "sos_index = word2idx['sos']\n",
    "eos_index = word2idx['eos']\n",
    "sos_swap_word = words[0]\n",
    "eos_swap_word = words[1]\n",
    " \n",
    "words[0], words[sos_index] = words[sos_index], words[0]\n",
    "words[1], words[eos_index] = words[eos_index], words[1]\n",
    "word2idx[sos_swap_word], word2idx['sos'] = word2idx['sos'], word2idx[sos_swap_word]\n",
    "word2idx[eos_swap_word], word2idx['eos'] = word2idx['eos'], word2idx[eos_swap_word]\n"
   ]
  },
  {
   "cell_type": "code",
   "execution_count": 102,
   "metadata": {},
   "outputs": [],
   "source": [
    "# Sort word2idx\n",
    "import operator\n",
    "word2idx = { k : v for k , v in sorted(word2idx.items(), key=operator.itemgetter(1))}\n"
   ]
  },
  {
   "cell_type": "code",
   "execution_count": 103,
   "metadata": {},
   "outputs": [],
   "source": [
    "class LangGlove:\n",
    "    def __init__(self, name):\n",
    "        self.name = name\n",
    "        self.word2index = { k : v for k , v in sorted(word2idx.items(), key=operator.itemgetter(1))}\n",
    "        self.word2count = { word : 1 for word in words }\n",
    "        self.index2word = { i : word for word, i in word2idx.items() }\n",
    "        self.n_words = 400001\n",
    " \n",
    "    def addSentence(self, sentence):\n",
    "        for word in sentence.split(' '):\n",
    "            self.addWord(word)\n",
    " \n",
    "    def addWord(self, word):\n",
    "        if word not in self.word2index:\n",
    "            self.word2index[word] = self.n_words\n",
    "            self.word2count[word] = 1\n",
    "            self.index2word[self.n_words] = word\n",
    "            self.n_words += 1\n",
    "        else:\n",
    "            self.word2count[word] += 1"
   ]
  },
  {
   "cell_type": "code",
   "execution_count": 104,
   "metadata": {
    "scrolled": false
   },
   "outputs": [
    {
     "name": "stdout",
     "output_type": "stream",
     "text": [
      "Reading lines...\n",
      "Read 256719 sentence pairs\n",
      "Counting words...\n",
      "Counted words:\n",
      "src 401042\n",
      "tgt 401224\n",
      "['change to radio channel eighty one please', 'change to radio channel 81 please']\n"
     ]
    }
   ],
   "source": [
    "input_lang, output_lang, pairs = prepareData(train_df.src.tolist(), train_df.tgt.tolist(), LangGlove)\n",
    "print(random.choice(pairs))"
   ]
  },
  {
   "cell_type": "code",
   "execution_count": 105,
   "metadata": {
    "scrolled": true
   },
   "outputs": [
    {
     "name": "stdout",
     "output_type": "stream",
     "text": [
      "17m 5s (- 324m 40s) (3000 5%) 3.9955\n",
      "34m 38s (- 311m 48s) (6000 10%) 2.1684\n",
      "52m 37s (- 298m 12s) (9000 15%) 1.4947\n",
      "70m 44s (- 282m 56s) (12000 20%) 1.2769\n",
      "88m 55s (- 266m 46s) (15000 25%) 1.1928\n",
      "107m 9s (- 250m 2s) (18000 30%) 1.0972\n",
      "125m 14s (- 232m 35s) (21000 35%) 1.0247\n",
      "143m 23s (- 215m 5s) (24000 40%) 0.9148\n",
      "161m 32s (- 197m 26s) (27000 45%) 0.8787\n",
      "179m 34s (- 179m 34s) (30000 50%) 0.8311\n",
      "197m 43s (- 161m 46s) (33000 55%) 0.8255\n",
      "215m 57s (- 143m 58s) (36000 60%) 0.7747\n",
      "234m 21s (- 126m 11s) (39000 65%) 0.7270\n",
      "252m 39s (- 108m 16s) (42000 70%) 0.6609\n",
      "270m 40s (- 90m 13s) (45000 75%) 0.6204\n",
      "288m 34s (- 72m 8s) (48000 80%) 0.6255\n",
      "306m 40s (- 54m 7s) (51000 85%) 0.5919\n",
      "324m 44s (- 36m 4s) (54000 90%) 0.5607\n",
      "342m 53s (- 18m 2s) (57000 95%) 0.5606\n",
      "361m 16s (- 0m 0s) (60000 100%) 0.5413\n"
     ]
    },
    {
     "data": {
      "text/plain": [
       "<Figure size 432x288 with 0 Axes>"
      ]
     },
     "metadata": {},
     "output_type": "display_data"
    },
    {
     "data": {
      "image/png": "[encoded data removed]",
      "text/plain": [
       "<Figure size 432x288 with 1 Axes>"
      ]
     },
     "metadata": {
      "needs_background": "light"
     },
     "output_type": "display_data"
    }
   ],
   "source": [
    "hidden_size = 256\n",
    "encoder1 = EncoderRNN(input_lang.n_words, hidden_size).to(device)\n",
    "attn_decoder1 = AttnDecoderRNN(hidden_size, output_lang.n_words, dropout_p=0.1).to(device)\n",
    "\n",
    "trainIters(encoder1, attn_decoder1, 60000, print_every=3000, learning_rate=0.01)"
   ]
  },
  {
   "cell_type": "code",
   "execution_count": 106,
   "metadata": {
    "scrolled": true
   },
   "outputs": [
    {
     "name": "stderr",
     "output_type": "stream",
     "text": [
      "100%|██████████| 4117/4117 [03:57<00:00, 17.36it/s]"
     ]
    },
    {
     "name": "stdout",
     "output_type": "stream",
     "text": [
      "WER: 0.1835954084369874\n"
     ]
    },
    {
     "name": "stderr",
     "output_type": "stream",
     "text": [
      "\n"
     ]
    }
   ],
   "source": [
    "evaluateWER(encoder1, attn_decoder1)"
   ]
  },
  {
   "cell_type": "code",
   "execution_count": 110,
   "metadata": {},
   "outputs": [
    {
     "name": "stdout",
     "output_type": "stream",
     "text": [
      "> how much rain can i expect in constance on seventh june\n",
      "= how much rain can i expect in constance on 7.6\n",
      "< how much rain can i expect in constance on 3.6 <EOS>\n",
      "\n",
      "> can you please switch the device hue ambiance ceiling one on\n",
      "= can you please switch the device hue ambiance ceiling 1 on\n",
      "< can you please switch the device hue ambiance candle 1 on <EOS>\n",
      "\n",
      "> weather news for one fifty in latsch\n",
      "= weather news for 01:50 in latsch\n",
      "< weather news for 01:50 in latsch <EOS>\n",
      "\n",
      "> i want to know how hot it is in neumarkt from five twenty eight to fifteen seventeen\n",
      "= i want to know how hot it is in neumarkt from 05:28 to 15:17\n",
      "< i want to know how hot it is in neumarkt from 05:28 to 05:28 <EOS>\n",
      "\n",
      "> turn on lamp in the bathroom\n",
      "= turn on lamp in the bathroom\n",
      "< turn on lamp in the bathroom <EOS>\n",
      "\n",
      "> do you know how the weather is at fourteen oh five\n",
      "= do you know how the weather is at 14:05\n",
      "< do you know how the weather is at 14:05 <EOS>\n",
      "\n",
      "> i need the temperature for eleven oh one in geneva\n",
      "= i need the temperature for 11:01 in geneva\n",
      "< i need the temperature for 11:16 in geneva <EOS>\n",
      "\n",
      "> i want the weather for twenty one twelve in latsch\n",
      "= i want the weather for 21:12 in latsch\n",
      "< i want the weather for 21:12 in latsch <EOS>\n",
      "\n",
      "> i want to look for cf illueca\n",
      "= i want to look for cf illueca\n",
      "< i want to look for fc cf <EOS>\n",
      "\n",
      "> i d like some information about the weather in latsch on sixteenth september\n",
      "= i d like some information about the weather in latsch on 16.9\n",
      "< i d like some information about the weather in latsch on 1.9 <EOS>\n",
      "\n"
     ]
    }
   ],
   "source": [
    "evaluateRandomly(encoder1, attn_decoder1, test_pairs)"
   ]
  },
  {
   "cell_type": "code",
   "execution_count": 38,
   "metadata": {
    "scrolled": false
   },
   "outputs": [
    {
     "name": "stdout",
     "output_type": "stream",
     "text": [
      "input = is it going to be nice outside at seventeen fifteen in milan\n",
      "output = is it going to be nice outside at 17 : 15 in milan <EOS>\n"
     ]
    },
    {
     "name": "stderr",
     "output_type": "stream",
     "text": [
      "<ipython-input-38-54521568c49a>:10: UserWarning: FixedFormatter should only be used together with FixedLocator\n",
      "  ax.set_xticklabels([''] + input_sentence.split(' ') +\n",
      "<ipython-input-38-54521568c49a>:12: UserWarning: FixedFormatter should only be used together with FixedLocator\n",
      "  ax.set_yticklabels([''] + output_words)\n"
     ]
    },
    {
     "data": {
      "image/png": "[encoded data removed]",
      "text/plain": [
       "<Figure size 432x288 with 2 Axes>"
      ]
     },
     "metadata": {
      "needs_background": "light"
     },
     "output_type": "display_data"
    },
    {
     "name": "stdout",
     "output_type": "stream",
     "text": [
      "input = tell me something about real betis sevilla\n",
      "output = tell me something about patrick j <EOS>\n"
     ]
    },
    {
     "data": {
      "image/png": "[encoded data removed]",
      "text/plain": [
       "<Figure size 432x288 with 2 Axes>"
      ]
     },
     "metadata": {
      "needs_background": "light"
     },
     "output_type": "display_data"
    },
    {
     "name": "stdout",
     "output_type": "stream",
     "text": [
      "input = is it raining on fifteenth september\n",
      "output = is it raining on 15 . 9 <EOS>\n"
     ]
    },
    {
     "data": {
      "image/png": "[encoded data removed]",
      "text/plain": [
       "<Figure size 432x288 with 2 Axes>"
      ]
     },
     "metadata": {
      "needs_background": "light"
     },
     "output_type": "display_data"
    },
    {
     "name": "stdout",
     "output_type": "stream",
     "text": [
      "input = four hundred and twenty eight\n",
      "output = 28 <EOS>\n"
     ]
    },
    {
     "data": {
      "image/png": "[encoded data removed]",
      "text/plain": [
       "<Figure size 432x288 with 2 Axes>"
      ]
     },
     "metadata": {
      "needs_background": "light"
     },
     "output_type": "display_data"
    },
    {
     "name": "stdout",
     "output_type": "stream",
     "text": [
      "input = is it raining in plateau from seven twenty five to three fifteen\n",
      "output = is it raining in plateau from 15 : 52 to 03 : 15 <EOS>\n"
     ]
    },
    {
     "data": {
      "image/png": "[encoded data removed]",
      "text/plain": [
       "<Figure size 432x288 with 2 Axes>"
      ]
     },
     "metadata": {
      "needs_background": "light"
     },
     "output_type": "display_data"
    }
   ],
   "source": [
    "import torch.nn.functional as F\n",
    "def showAttention(input_sentence, output_words, attentions):\n",
    "    # Set up figure with colorbar\n",
    "    fig = plt.figure()\n",
    "    ax = fig.add_subplot(111)\n",
    "    cax = ax.matshow(attentions.numpy(), cmap='bone')\n",
    "    fig.colorbar(cax)\n",
    "\n",
    "    # Set up axes\n",
    "    ax.set_xticklabels([''] + input_sentence.split(' ') +\n",
    "                       ['<EOS>'], rotation=90)\n",
    "    ax.set_yticklabels([''] + output_words)\n",
    "\n",
    "    # Show label at every tick\n",
    "    ax.xaxis.set_major_locator(ticker.MultipleLocator(1))\n",
    "    ax.yaxis.set_major_locator(ticker.MultipleLocator(1))\n",
    "\n",
    "    plt.show()\n",
    "\n",
    "\n",
    "def evaluateAndShowAttention(input_sentence):\n",
    "    output_words, attentions = evaluate(\n",
    "        encoder1, attn_decoder1, input_sentence)\n",
    "    print('input =', input_sentence)\n",
    "    print('output =', ' '.join(output_words))\n",
    "    showAttention(input_sentence, output_words, attentions)\n",
    "    \n",
    "evaluateAndShowAttention(\"is it going to be nice outside at seventeen fifteen in milan\")\n",
    "evaluateAndShowAttention(\"tell me something about real betis sevilla\")\n",
    "evaluateAndShowAttention(\"is it raining on fifteenth september\")\n",
    "evaluateAndShowAttention(\"four hundred and twenty eight\")\n",
    "evaluateAndShowAttention(\"is it raining in plateau from seven twenty five to three fifteen\")\n",
    "# evaluateAndShowAttention(\"i am looking for star wars  revenge of the sit\")"
   ]
  },
  {
   "cell_type": "code",
   "execution_count": 111,
   "metadata": {},
   "outputs": [
    {
     "data": {
      "text/plain": [
       "'models/s2s_250k+glove_decoder.pkl'"
      ]
     },
     "execution_count": 111,
     "metadata": {},
     "output_type": "execute_result"
    }
   ],
   "source": [
    "import pickle\n",
    "def save_variable(v,filename):\n",
    "    f=open(filename,'wb')\n",
    "    pickle.dump(v,f)\n",
    "    f.close()\n",
    "    return filename\n",
    " \n",
    "def load_variable(filename):\n",
    "    f=open(filename,'rb')\n",
    "    r=pickle.load(f)\n",
    "    f.close()\n",
    "    return r\n",
    "\n",
    "save_variable(encoder1, 'models/s2s_250k+glove_encoder.pkl') \n",
    "save_variable(attn_decoder1, 'models/s2s_250k+glove_decoder.pkl') "
   ]
  },
  {
   "cell_type": "markdown",
   "metadata": {},
   "source": [
    "Evaluation for 70K model"
   ]
  },
  {
   "cell_type": "code",
   "execution_count": 23,
   "metadata": {},
   "outputs": [],
   "source": [
    "name = '60k+1k+glove' #{'70k', '60k+1k', '60k+1k+glove'}\n",
    "encoder1 = load_variable('models/s2s_{}_encoder.pkl'.format(name))\n",
    "attn_decoder1 = load_variable('models/s2s_{}_decoder.pkl'.format(name))\n",
    "# evaluateRandomly(a, b)"
   ]
  },
  {
   "cell_type": "code",
   "execution_count": null,
   "metadata": {},
   "outputs": [],
   "source": []
  }
 ],
 "metadata": {
  "kernelspec": {
   "display_name": "Python 3",
   "language": "python",
   "name": "python3"
  },
  "language_info": {
   "codemirror_mode": {
    "name": "ipython",
    "version": 3
   },
   "file_extension": ".py",
   "mimetype": "text/x-python",
   "name": "python",
   "nbconvert_exporter": "python",
   "pygments_lexer": "ipython3",
   "version": "3.8.5"
  }
 },
 "nbformat": 4,
 "nbformat_minor": 1
}
