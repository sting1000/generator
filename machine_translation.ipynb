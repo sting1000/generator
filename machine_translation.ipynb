{
 "cells": [
  {
   "cell_type": "markdown",
   "metadata": {},
   "source": [
    "# Seq2Seq with Attention"
   ]
  },
  {
   "cell_type": "code",
   "execution_count": 1,
   "metadata": {},
   "outputs": [],
   "source": [
    "from __future__ import unicode_literals, print_function, division\n",
    "from io import open\n",
    "import unicodedata\n",
    "import string\n",
    "import re\n",
    "import random\n",
    "\n",
    "import torch\n",
    "import torch.nn as nn\n",
    "from torch import optim\n",
    "import torch.nn.functional as F45345\n",
    "\n",
    "device = torch.device(\"cuda\" if torch.cuda.is_available() else \"cpu\")"
   ]
  },
  {
   "cell_type": "markdown",
   "metadata": {},
   "source": [
    "Import dataset with 70K pairs of commands"
   ]
  },
  {
   "cell_type": "code",
   "execution_count": 2,
   "metadata": {},
   "outputs": [],
   "source": [
    "source = open('data/commands_source_en_70k.txt', encoding='UTF-8').read().strip().split('\\n')  \n",
    "target = open('data/commands_target_en_70k.txt', encoding='UTF-8').read().strip().split('\\n')   "
   ]
  },
  {
   "cell_type": "markdown",
   "metadata": {},
   "source": [
    "Add extra number pairs (1k). PS: using 10K will introduce quite a lot noise to dictionary"
   ]
  },
  {
   "cell_type": "code",
   "execution_count": 3,
   "metadata": {},
   "outputs": [],
   "source": [
    "# add numbers\n",
    "source_num = open('data/nums_source_en_10k.txt', encoding='UTF-8').read().strip().split('\\n')  \n",
    "target_num = open('data/nums_target_en_10k.txt', encoding='UTF-8').read().strip().split('\\n') \n",
    "source.extend(source_num[:1000])\n",
    "target.extend(target_num[:1000])"
   ]
  },
  {
   "cell_type": "code",
   "execution_count": 4,
   "metadata": {
    "scrolled": true
   },
   "outputs": [
    {
     "data": {
      "text/html": [
       "<div>\n",
       "<style scoped>\n",
       "    .dataframe tbody tr th:only-of-type {\n",
       "        vertical-align: middle;\n",
       "    }\n",
       "\n",
       "    .dataframe tbody tr th {\n",
       "        vertical-align: top;\n",
       "    }\n",
       "\n",
       "    .dataframe thead th {\n",
       "        text-align: right;\n",
       "    }\n",
       "</style>\n",
       "<table border=\"1\" class=\"dataframe\">\n",
       "  <thead>\n",
       "    <tr style=\"text-align: right;\">\n",
       "      <th></th>\n",
       "      <th>src</th>\n",
       "      <th>tgt</th>\n",
       "    </tr>\n",
       "  </thead>\n",
       "  <tbody>\n",
       "    <tr>\n",
       "      <th>0</th>\n",
       "      <td>is it warm in algund at two fifty five</td>\n",
       "      <td>is it warm in Algund at 02:55</td>\n",
       "    </tr>\n",
       "    <tr>\n",
       "      <th>1</th>\n",
       "      <td>how warm will it get</td>\n",
       "      <td>how warm will it get</td>\n",
       "    </tr>\n",
       "    <tr>\n",
       "      <th>2</th>\n",
       "      <td>how hot is it</td>\n",
       "      <td>how hot is it</td>\n",
       "    </tr>\n",
       "    <tr>\n",
       "      <th>3</th>\n",
       "      <td>how warm will it get at nineteen fifty eight</td>\n",
       "      <td>how warm will it get at 19:58</td>\n",
       "    </tr>\n",
       "    <tr>\n",
       "      <th>4</th>\n",
       "      <td>I would like to know how cold it is</td>\n",
       "      <td>I would like to know how cold it is</td>\n",
       "    </tr>\n",
       "  </tbody>\n",
       "</table>\n",
       "</div>"
      ],
      "text/plain": [
       "                                            src  \\\n",
       "0        is it warm in algund at two fifty five   \n",
       "1                          how warm will it get   \n",
       "2                                 how hot is it   \n",
       "3  how warm will it get at nineteen fifty eight   \n",
       "4           I would like to know how cold it is   \n",
       "\n",
       "                                   tgt  \n",
       "0        is it warm in Algund at 02:55  \n",
       "1                 how warm will it get  \n",
       "2                        how hot is it  \n",
       "3        how warm will it get at 19:58  \n",
       "4  I would like to know how cold it is  "
      ]
     },
     "execution_count": 4,
     "metadata": {},
     "output_type": "execute_result"
    }
   ],
   "source": [
    "import pandas as pd\n",
    "data = pd.DataFrame(list(zip(target, source)), columns=[\"src\", \"tgt\"])\n",
    "data.head()"
   ]
  },
  {
   "cell_type": "code",
   "execution_count": 5,
   "metadata": {
    "scrolled": true
   },
   "outputs": [
    {
     "name": "stdout",
     "output_type": "stream",
     "text": [
      "test size: 3155 unique sentences\n",
      "train size: 63945 sample senteces (with duplication)\n"
     ]
    }
   ],
   "source": [
    "li = random.choices(data.src.unique(), k = int(len(data.src.unique()) *0.1 ))\n",
    "train_df = data[~data.src.isin(li)]\n",
    "test_df = data[data.src.isin(li)]\n",
    "\n",
    "print(\"test size: {} unique sentences\".format(len(li)))\n",
    "print(\"train size: {} sample senteces (with duplication)\".format(sum(~data.src.isin(li))) )"
   ]
  },
  {
   "cell_type": "code",
   "execution_count": 9,
   "metadata": {},
   "outputs": [],
   "source": [
    "SOS_token = 0\n",
    "EOS_token = 1\n",
    "\n",
    "\n",
    "class Lang:\n",
    "    def __init__(self, name):\n",
    "        self.name = name\n",
    "        self.word2index = {}\n",
    "        self.word2count = {}\n",
    "        self.index2word = {0: \"SOS\", 1: \"EOS\"}\n",
    "        self.n_words = 2  # Count SOS and EOS\n",
    "\n",
    "    def addSentence(self, sentence):\n",
    "        for word in sentence.split(' '):\n",
    "            self.addWord(word)\n",
    "\n",
    "    def addWord(self, word):\n",
    "        if word not in self.word2index:\n",
    "            self.word2index[word] = self.n_words\n",
    "            self.word2count[word] = 1\n",
    "            self.index2word[self.n_words] = word\n",
    "            self.n_words += 1\n",
    "        else:\n",
    "            self.word2count[word] += 1"
   ]
  },
  {
   "cell_type": "code",
   "execution_count": 10,
   "metadata": {},
   "outputs": [],
   "source": [
    "# Turn a Unicode string to plain ASCII, thanks to\n",
    "# https://stackoverflow.com/a/518232/2809427\n",
    "def unicodeToAscii(s):\n",
    "    return ''.join(\n",
    "        c for c in unicodedata.normalize('NFD', s)\n",
    "        if unicodedata.category(c) != 'Mn'\n",
    "    )\n",
    "\n",
    "# Lowercase, trim, and remove non-letter characters\n",
    "\n",
    "\n",
    "def normalizeString(s):\n",
    "    s = unicodeToAscii(s.lower().strip())\n",
    "    s = re.sub(r\"([a-zA-Z]+)[\\:\\-]\", r\"\\1 \", s)  # colun:dsfa -> colun dsfa\n",
    "    s = re.sub(r\"(\\d+)[\\:](\\d+)\", r\"\\1 : \\2\", s) # 15:30 -> 15:30\n",
    "    s = re.sub(r\"([\\.\\+])\", r\" \\1 \", s)\n",
    "    s = re.sub(r\"([\\-])\", r\" \", s)\n",
    "#     s = re.sub(r\"[^a-zA-Z!?]+\", r\" \", s)\n",
    "    return s"
   ]
  },
  {
   "cell_type": "code",
   "execution_count": 11,
   "metadata": {},
   "outputs": [],
   "source": [
    "def readLangs(lang1, lang2, lang_class=Lang):\n",
    "    print(\"Reading lines...\")\n",
    "\n",
    "    # Split every line into pairs and normalize\n",
    "    pairs = [[normalizeString(s), normalizeString(t) ]for s, t in list(zip(lang1, lang2))] \n",
    "\n",
    "    input_lang = lang_class('src')\n",
    "    output_lang = lang_class('tgt')\n",
    "\n",
    "    return input_lang, output_lang, pairs"
   ]
  },
  {
   "cell_type": "code",
   "execution_count": 12,
   "metadata": {},
   "outputs": [
    {
     "name": "stdout",
     "output_type": "stream",
     "text": [
      "Reading lines...\n",
      "Read 63945 sentence pairs\n",
      "Counting words...\n",
      "Counted words:\n",
      "src 5940\n",
      "tgt 7064\n",
      "['is it raining', 'is it raining']\n"
     ]
    }
   ],
   "source": [
    "def prepareData(lang1, lang2, lang_class=Lang):\n",
    "    input_lang, output_lang, pairs = readLangs(lang1, lang2, lang_class)\n",
    "    print(\"Read %s sentence pairs\" % len(pairs))\n",
    "#     pairs = filterPairs(pairs)\n",
    "#     print(\"Trimmed to %s sentence pairs\" % len(pairs))\n",
    "    print(\"Counting words...\")\n",
    "    for pair in pairs:\n",
    "        input_lang.addSentence(pair[0])\n",
    "        output_lang.addSentence(pair[1])\n",
    "    print(\"Counted words:\")\n",
    "    print(input_lang.name, input_lang.n_words)\n",
    "    print(output_lang.name, output_lang.n_words)\n",
    "    return input_lang, output_lang, pairs\n",
    "\n",
    "\n",
    "input_lang, output_lang, pairs = prepareData(train_df.src.tolist(), train_df.tgt.tolist())\n",
    "print(random.choice(pairs))"
   ]
  },
  {
   "cell_type": "code",
   "execution_count": 13,
   "metadata": {},
   "outputs": [],
   "source": [
    "class EncoderRNN(nn.Module):\n",
    "    def __init__(self, input_size, hidden_size):\n",
    "        super(EncoderRNN, self).__init__()\n",
    "        self.hidden_size = hidden_size\n",
    "\n",
    "        self.embedding = nn.Embedding(input_size, hidden_size)\n",
    "        self.gru = nn.GRU(hidden_size, hidden_size)\n",
    "\n",
    "    def forward(self, input, hidden):\n",
    "        embedded = self.embedding(input).view(1, 1, -1)\n",
    "        output = embedded\n",
    "        output, hidden = self.gru(output, hidden)\n",
    "        return output, hidden\n",
    "\n",
    "    def initHidden(self):\n",
    "        return torch.zeros(1, 1, self.hidden_size, device=device)"
   ]
  },
  {
   "cell_type": "code",
   "execution_count": 14,
   "metadata": {},
   "outputs": [],
   "source": [
    "class DecoderRNN(nn.Module):\n",
    "    def __init__(self, hidden_size, output_size):\n",
    "        super(DecoderRNN, self).__init__()\n",
    "        self.hidden_size = hidden_size\n",
    "\n",
    "        self.embedding = nn.Embedding(output_size, hidden_size)\n",
    "        self.gru = nn.GRU(hidden_size, hidden_size)\n",
    "        self.out = nn.Linear(hidden_size, output_size)\n",
    "        self.softmax = nn.LogSoftmax(dim=1)\n",
    "\n",
    "    def forward(self, input, hidden):\n",
    "        output = self.embedding(input).view(1, 1, -1)\n",
    "        output = F.relu(output)\n",
    "        output, hidden = self.gru(output, hidden)\n",
    "        output = self.softmax(self.out(output[0]))\n",
    "        return output, hidden\n",
    "\n",
    "    def initHidden(self):\n",
    "        return torch.zeros(1, 1, self.hidden_size, device=device)"
   ]
  },
  {
   "cell_type": "code",
   "execution_count": 15,
   "metadata": {},
   "outputs": [],
   "source": [
    "class AttnDecoderRNN(nn.Module):\n",
    "    def __init__(self, hidden_size, output_size, dropout_p=0.1, max_length=30):\n",
    "        super(AttnDecoderRNN, self).__init__()\n",
    "        self.hidden_size = hidden_size\n",
    "        self.output_size = output_size\n",
    "        self.dropout_p = dropout_p\n",
    "        self.max_length = max_length\n",
    "\n",
    "        self.embedding = nn.Embedding(self.output_size, self.hidden_size)\n",
    "        self.attn = nn.Linear(self.hidden_size * 2, self.max_length)\n",
    "        self.attn_combine = nn.Linear(self.hidden_size * 2, self.hidden_size)\n",
    "        self.dropout = nn.Dropout(self.dropout_p)\n",
    "        self.gru = nn.GRU(self.hidden_size, self.hidden_size)\n",
    "        self.out = nn.Linear(self.hidden_size, self.output_size)\n",
    "\n",
    "    def forward(self, input, hidden, encoder_outputs):\n",
    "        embedded = self.embedding(input).view(1, 1, -1)\n",
    "        embedded = self.dropout(embedded)\n",
    "\n",
    "        attn_weights = F.softmax(\n",
    "            self.attn(torch.cat((embedded[0], hidden[0]), 1)), dim=1)\n",
    "        attn_applied = torch.bmm(attn_weights.unsqueeze(0),\n",
    "                                 encoder_outputs.unsqueeze(0))\n",
    "\n",
    "        output = torch.cat((embedded[0], attn_applied[0]), 1)\n",
    "        output = self.attn_combine(output).unsqueeze(0)\n",
    "\n",
    "        output = F.relu(output)\n",
    "        output, hidden = self.gru(output, hidden)\n",
    "\n",
    "        output = F.log_softmax(self.out(output[0]), dim=1)\n",
    "        return output, hidden, attn_weights\n",
    "\n",
    "    def initHidden(self):\n",
    "        return torch.zeros(1, 1, self.hidden_size, device=device)"
   ]
  },
  {
   "cell_type": "code",
   "execution_count": 16,
   "metadata": {},
   "outputs": [],
   "source": [
    "def indexesFromSentence(lang, sentence):\n",
    "    return [lang.word2index[word] for word in sentence.split(' ')]\n",
    "\n",
    "\n",
    "def tensorFromSentence(lang, sentence):\n",
    "    indexes = indexesFromSentence(lang, sentence)\n",
    "    indexes.append(EOS_token)\n",
    "    return torch.tensor(indexes, dtype=torch.long, device=device).view(-1, 1)\n",
    "\n",
    "\n",
    "def tensorsFromPair(pair):\n",
    "    input_tensor = tensorFromSentence(input_lang, pair[0])\n",
    "    target_tensor = tensorFromSentence(output_lang, pair[1])\n",
    "    return (input_tensor, target_tensor)"
   ]
  },
  {
   "cell_type": "code",
   "execution_count": 17,
   "metadata": {},
   "outputs": [],
   "source": [
    "teacher_forcing_ratio = 0.5\n",
    "\n",
    "\n",
    "def train(input_tensor, target_tensor, encoder, decoder, encoder_optimizer, decoder_optimizer, criterion, max_length=30):\n",
    "    encoder_hidden = encoder.initHidden()\n",
    "\n",
    "    encoder_optimizer.zero_grad()\n",
    "    decoder_optimizer.zero_grad()\n",
    "\n",
    "    input_length = input_tensor.size(0)\n",
    "    target_length = target_tensor.size(0)\n",
    "\n",
    "    encoder_outputs = torch.zeros(max_length, encoder.hidden_size, device=device)\n",
    "\n",
    "    loss = 0\n",
    "\n",
    "    for ei in range(input_length):\n",
    "        encoder_output, encoder_hidden = encoder(\n",
    "            input_tensor[ei], encoder_hidden)\n",
    "        encoder_outputs[ei] = encoder_output[0, 0]\n",
    "\n",
    "    decoder_input = torch.tensor([[SOS_token]], device=device)\n",
    "\n",
    "    decoder_hidden = encoder_hidden\n",
    "\n",
    "    use_teacher_forcing = True if random.random() < teacher_forcing_ratio else False\n",
    "\n",
    "    if use_teacher_forcing:\n",
    "        # Teacher forcing: Feed the target as the next input\n",
    "        for di in range(target_length):\n",
    "            decoder_output, decoder_hidden, decoder_attention = decoder(\n",
    "                decoder_input, decoder_hidden, encoder_outputs)\n",
    "            loss += criterion(decoder_output, target_tensor[di])\n",
    "            decoder_input = target_tensor[di]  # Teacher forcing\n",
    "\n",
    "    else:\n",
    "        # Without teacher forcing: use its own predictions as the next input\n",
    "        for di in range(target_length):\n",
    "            decoder_output, decoder_hidden, decoder_attention = decoder(\n",
    "                decoder_input, decoder_hidden, encoder_outputs)\n",
    "            topv, topi = decoder_output.topk(1)\n",
    "            decoder_input = topi.squeeze().detach()  # detach from history as input\n",
    "\n",
    "            loss += criterion(decoder_output, target_tensor[di])\n",
    "            if decoder_input.item() == EOS_token:\n",
    "                break\n",
    "\n",
    "    loss.backward()\n",
    "\n",
    "    encoder_optimizer.step()\n",
    "    decoder_optimizer.step()\n",
    "\n",
    "    return loss.item() / target_length"
   ]
  },
  {
   "cell_type": "code",
   "execution_count": 18,
   "metadata": {},
   "outputs": [],
   "source": [
    "import time\n",
    "import math\n",
    "\n",
    "\n",
    "def asMinutes(s):\n",
    "    m = math.floor(s / 60)\n",
    "    s -= m * 60\n",
    "    return '%dm %ds' % (m, s)\n",
    "\n",
    "\n",
    "def timeSince(since, percent):\n",
    "    now = time.time()\n",
    "    s = now - since\n",
    "    es = s / (percent)\n",
    "    rs = es - s\n",
    "    return '%s (- %s)' % (asMinutes(s), asMinutes(rs))"
   ]
  },
  {
   "cell_type": "code",
   "execution_count": 19,
   "metadata": {},
   "outputs": [],
   "source": [
    "def trainIters(encoder, decoder, n_iters, print_every=1000, plot_every=100, learning_rate=0.01):\n",
    "    start = time.time()\n",
    "    plot_losses = []\n",
    "    print_loss_total = 0  # Reset every print_every\n",
    "    plot_loss_total = 0  # Reset every plot_every\n",
    "\n",
    "    encoder_optimizer = optim.SGD(encoder.parameters(), lr=learning_rate)\n",
    "    decoder_optimizer = optim.SGD(decoder.parameters(), lr=learning_rate)\n",
    "    training_pairs = [tensorsFromPair(random.choice(pairs))\n",
    "                      for i in range(n_iters)]\n",
    "    criterion = nn.NLLLoss()\n",
    "\n",
    "    for iter in range(1, n_iters + 1):\n",
    "        training_pair = training_pairs[iter - 1]\n",
    "        input_tensor = training_pair[0]\n",
    "        target_tensor = training_pair[1]\n",
    "\n",
    "        loss = train(input_tensor, target_tensor, encoder,\n",
    "                     decoder, encoder_optimizer, decoder_optimizer, criterion)\n",
    "        print_loss_total += loss\n",
    "        plot_loss_total += loss\n",
    "\n",
    "        if iter % print_every == 0:\n",
    "            print_loss_avg = print_loss_total / print_every\n",
    "            print_loss_total = 0\n",
    "            print('%s (%d %d%%) %.4f' % (timeSince(start, iter / n_iters),\n",
    "                                         iter, iter / n_iters * 100, print_loss_avg))\n",
    "\n",
    "        if iter % plot_every == 0:\n",
    "            plot_loss_avg = plot_loss_total / plot_every\n",
    "            plot_losses.append(plot_loss_avg)\n",
    "            plot_loss_total = 0\n",
    "\n",
    "    showPlot(plot_losses)"
   ]
  },
  {
   "cell_type": "code",
   "execution_count": 20,
   "metadata": {},
   "outputs": [],
   "source": [
    "import matplotlib.pyplot as plt\n",
    "# plt.switch_backend('agg')\n",
    "import matplotlib.ticker as ticker\n",
    "import numpy as np\n",
    "\n",
    "\n",
    "def showPlot(points):\n",
    "    plt.figure()\n",
    "    fig, ax = plt.subplots()\n",
    "    # this locator puts ticks at regular intervals\n",
    "    loc = ticker.MultipleLocator(base=0.2)\n",
    "    ax.yaxis.set_major_locator(loc)\n",
    "    plt.plot(points)"
   ]
  },
  {
   "cell_type": "code",
   "execution_count": 21,
   "metadata": {},
   "outputs": [],
   "source": [
    "def evaluate(encoder, decoder, sentence, max_length=30):\n",
    "    with torch.no_grad():\n",
    "        input_tensor = tensorFromSentence(input_lang, sentence)\n",
    "        input_length = input_tensor.size()[0]\n",
    "        encoder_hidden = encoder.initHidden()\n",
    "\n",
    "        encoder_outputs = torch.zeros(max_length, encoder.hidden_size, device=device)\n",
    "\n",
    "        for ei in range(input_length):\n",
    "            encoder_output, encoder_hidden = encoder(input_tensor[ei],\n",
    "                                                     encoder_hidden)\n",
    "            encoder_outputs[ei] += encoder_output[0, 0]\n",
    "\n",
    "        decoder_input = torch.tensor([[SOS_token]], device=device)  # SOS\n",
    "\n",
    "        decoder_hidden = encoder_hidden\n",
    "\n",
    "        decoded_words = []\n",
    "        decoder_attentions = torch.zeros(max_length, max_length)\n",
    "\n",
    "        for di in range(max_length):\n",
    "            decoder_output, decoder_hidden, decoder_attention = decoder(\n",
    "                decoder_input, decoder_hidden, encoder_outputs)\n",
    "            decoder_attentions[di] = decoder_attention.data\n",
    "            topv, topi = decoder_output.data.topk(1)\n",
    "            if topi.item() == EOS_token:\n",
    "                decoded_words.append('<EOS>')\n",
    "                break\n",
    "            else:\n",
    "                decoded_words.append(output_lang.index2word[topi.item()])\n",
    "\n",
    "            decoder_input = topi.squeeze().detach()\n",
    "\n",
    "        return decoded_words, decoder_attentions[:di + 1]"
   ]
  },
  {
   "cell_type": "code",
   "execution_count": 22,
   "metadata": {},
   "outputs": [],
   "source": [
    "def evaluateRandomly(encoder, decoder, n=10):\n",
    "    for i in range(n):\n",
    "        pair = random.choice(pairs)\n",
    "        print('>', pair[0])\n",
    "        print('=', pair[1])\n",
    "        output_words, attentions = evaluate(encoder, decoder, pair[0])\n",
    "        output_sentence = ' '.join(output_words)\n",
    "        print('<', output_sentence)\n",
    "        print('')"
   ]
  },
  {
   "cell_type": "code",
   "execution_count": 21,
   "metadata": {},
   "outputs": [
    {
     "name": "stdout",
     "output_type": "stream",
     "text": [
      "1m 42s (- 32m 26s) (3000 5%) 3.3156\n",
      "3m 25s (- 30m 52s) (6000 10%) 1.6900\n",
      "5m 10s (- 29m 19s) (9000 15%) 1.2631\n",
      "6m 57s (- 27m 48s) (12000 20%) 1.1042\n",
      "8m 43s (- 26m 11s) (15000 25%) 0.9000\n",
      "10m 30s (- 24m 31s) (18000 30%) 0.8704\n",
      "12m 17s (- 22m 49s) (21000 35%) 0.7764\n",
      "14m 2s (- 21m 4s) (24000 40%) 0.7511\n",
      "15m 50s (- 19m 21s) (27000 45%) 0.7025\n",
      "17m 38s (- 17m 38s) (30000 50%) 0.6786\n",
      "19m 24s (- 15m 52s) (33000 55%) 0.6357\n",
      "21m 12s (- 14m 8s) (36000 60%) 0.6574\n",
      "23m 0s (- 12m 23s) (39000 65%) 0.5992\n",
      "24m 47s (- 10m 37s) (42000 70%) 0.5863\n",
      "26m 33s (- 8m 51s) (45000 75%) 0.6313\n",
      "28m 19s (- 7m 4s) (48000 80%) 0.5576\n",
      "30m 4s (- 5m 18s) (51000 85%) 0.5224\n",
      "31m 50s (- 3m 32s) (54000 90%) 0.6309\n",
      "33m 36s (- 1m 46s) (57000 95%) 0.7700\n",
      "35m 22s (- 0m 0s) (60000 100%) 0.5671\n"
     ]
    },
    {
     "data": {
      "text/plain": [
       "<Figure size 432x288 with 0 Axes>"
      ]
     },
     "metadata": {},
     "output_type": "display_data"
    },
    {
     "data": {
      "image/png": "[encoded data removed]",
      "text/plain": [
       "<Figure size 432x288 with 1 Axes>"
      ]
     },
     "metadata": {
      "needs_background": "light"
     },
     "output_type": "display_data"
    }
   ],
   "source": [
    "hidden_size = 256\n",
    "encoder1 = EncoderRNN(input_lang.n_words, hidden_size).to(device)\n",
    "attn_decoder1 = AttnDecoderRNN(hidden_size, output_lang.n_words, dropout_p=0.1).to(device)\n",
    "\n",
    "trainIters(encoder1, attn_decoder1, 60000, print_every=3000, learning_rate=0.01)"
   ]
  },
  {
   "cell_type": "code",
   "execution_count": 27,
   "metadata": {
    "scrolled": false
   },
   "outputs": [
    {
     "name": "stdout",
     "output_type": "stream",
     "text": [
      "> do you think it will rain at nineteen eighteen\n",
      "= do you think it will rain at 19 : 18\n",
      "< do you think it will rain at 19 : 19 <EOS>\n",
      "\n",
      "> do i need an umbrella in biel on sixteenth october\n",
      "= do i need an umbrella in biel on 16 . 10\n",
      "< do i need an umbrella in biel on 16 . 10 <EOS>\n",
      "\n",
      "> change the radio station please\n",
      "= change the radio station please\n",
      "< change the radio station please <EOS>\n",
      "\n",
      "> security camera on in the tv room\n",
      "= security camera on in the tv room\n",
      "< camera on on in the tv room <EOS>\n",
      "\n",
      "> should i get my umbrella\n",
      "= should i get my umbrella\n",
      "< should i get my umbrella <EOS>\n",
      "\n",
      "> i want to turn on device hue go one\n",
      "= i want to turn on device hue go 1\n",
      "< i want to turn on device hue go 1 <EOS>\n",
      "\n",
      "> turn on cameras in the home office\n",
      "= turn on cameras in the home office\n",
      "< turn on cameras in the home office <EOS>\n",
      "\n",
      "> i would like to know how cold it is in algund\n",
      "= i would like to know how cold it is in algund\n",
      "< i would like to know how cold it is in algund <EOS>\n",
      "\n",
      "> would you please change the radio station\n",
      "= would you please change the radio station\n",
      "< would you please change the radio station <EOS>\n",
      "\n",
      "> will it be raining\n",
      "= will it be raining\n",
      "< will it be raining <EOS>\n",
      "\n"
     ]
    }
   ],
   "source": [
    "# evaluate in training set\n",
    "evaluateRandomly(encoder1, attn_decoder1)"
   ]
  },
  {
   "cell_type": "code",
   "execution_count": 23,
   "metadata": {},
   "outputs": [
    {
     "name": "stderr",
     "output_type": "stream",
     "text": [
      "\r",
      "  0%|          | 0/3072 [00:00<?, ?it/s]"
     ]
    },
    {
     "name": "stdout",
     "output_type": "stream",
     "text": [
      "WER_base: 0.3243918628714224\n"
     ]
    },
    {
     "name": "stderr",
     "output_type": "stream",
     "text": [
      "100%|██████████| 3072/3072 [00:38<00:00, 79.89it/s] \n"
     ]
    },
    {
     "name": "stdout",
     "output_type": "stream",
     "text": [
      "WER: 0.2235407253357953\n",
      "> i want to know how hot it is in tremosine from eleven sixteen to ten twenty one\n",
      "= i want to know how hot it is in tremosine from 11 : 16 to 10 : 21\n",
      "< i want to know how hot it is in tremosine from 16 : 16 to 21 : 16 <EOS>\n",
      "\n",
      "> how much will it rain on fourteenth june in saint leonhard in passeier\n",
      "= how much will it rain on 14 . 6 in saint leonhard in passeier\n",
      "< how much will it rain on 14 . 6 in saint leonhard in passeier <EOS>\n",
      "\n",
      "> please switch to rtl one hundred and two five\n",
      "= please switch to rtl 102  .  5\n",
      "< please switch to 105 - - 02 2 <EOS>\n",
      "\n",
      "> turn on the irobot bulb in my home office\n",
      "= turn on the irobot bulb in my home office\n",
      "< turn on the my bulb in my home office <EOS>\n",
      "\n",
      "> the rainfall on twenty eighth september\n",
      "= the rainfall on 28 . 9\n",
      "< the rainfall on 28 . 9 <EOS>\n",
      "\n",
      "> put on canal plus decale please\n",
      "= put on canal+ decale please\n",
      "< put on canal plus - please <EOS>\n",
      "\n",
      "> how warm will it get at twenty two nineteen\n",
      "= how warm will it get at 22 : 19\n",
      "< how warm will it rain at 22 : 19 <EOS>\n",
      "\n",
      "> turn on iron man three\n",
      "= turn on iron man 3\n",
      "< turn on device vacuum <EOS>\n",
      "\n",
      "> weather update for ten sixteen in ratschings\n",
      "= weather update for 10 : 16 in ratschings\n",
      "< weather update for 10 : 16 in ratschings <EOS>\n",
      "\n",
      "> is it raining in plateau from seven twenty five to three fifteen\n",
      "= is it raining in plateau from 07 : 25 to 03 : 15\n",
      "< is it raining in plateau from 23 : 17 to 03 : 17 <EOS>\n",
      "\n",
      "> is it cold in biel\n",
      "= is it cold in biel\n",
      "< is it cold in biel <EOS>\n",
      "\n",
      "> can i please watch der kreis\n",
      "= can i please watch der kreis\n",
      "> i want to know if it will rain on thirty first february in auer\n",
      "= i want to know if it will rain on 31 . 2 in auer\n",
      "< i want to know if it will rain on 31 . 2 in naturns <EOS>\n",
      "\n",
      "> i want to change the station to radio channel srf one zurich\n",
      "= i want to change the station to radio channel srf 1 zurich\n",
      "< i want to change the station to radio channel srf 1 1 <EOS>\n",
      "\n",
      "> i'm not interested in this show\n",
      "= i'm not interested in this show\n",
      "< i do not want the weather <EOS>\n",
      "\n",
      "> switch to tsr one\n",
      "= switch to tsr 1\n",
      "< switch to switch 1 <EOS>\n",
      "\n",
      "> i would like to know how warm it will be on twenty second october between fourteen forty six and nineteen fifty five\n",
      "= i would like to know how warm it will be on 22 . 10 between 14 : 46 and 19 : 55\n",
      "< i would like to know how warm it will be on 22 . 2 <EOS>\n",
      "\n",
      "> i want you to switch on device lamp\n",
      "= i want you to switch on device lamp\n",
      "< i want you to switch on device lamp <EOS>\n",
      "\n",
      "> turn the device plant light on\n",
      "= turn the device plant light on\n",
      "< turn the device plant light on <EOS>\n",
      "\n",
      "> please activate my hue my strom wifi switch in the tv room\n",
      "= please activate my hue my strom wifi switch in the tv room\n",
      "< please activate my my my strom wifi switch in the tv room <EOS>\n",
      "\n"
     ]
    }
   ],
   "source": [
    "# evaluate in validation set\n",
    "from jiwer import wer\n",
    "from tqdm import tqdm \n",
    "\n",
    "def evaluateWER(encoder, decoder, n=10):\n",
    "    WER = 0\n",
    "    size = 0\n",
    "    for test_pair in tqdm(test_pairs):\n",
    "        try:\n",
    "            output_words, attentions = evaluate(encoder, decoder, test_pair[0])\n",
    "            output_sentence = ' '.join(output_words[:-1])\n",
    "            WER += wer(test_pair[1], output_sentence)\n",
    "            size += 1\n",
    "        except:\n",
    "            pass\n",
    "    print(\"WER: {}\".format(WER/ size))\n",
    "    for i in range(n):\n",
    "        try:\n",
    "            test_pair = random.choice(test_pairs)\n",
    "            print('>', test_pair[0])\n",
    "            print('=', test_pair[1])\n",
    "            output_words, attentions = evaluate(encoder, decoder, test_pair[0])\n",
    "            output_sentence = ' '.join(output_words)\n",
    "            print('<', output_sentence)\n",
    "            print('')\n",
    "        except:\n",
    "            pass\n",
    "        \n",
    "wer_base = wer(test_df.drop_duplicates().src.tolist(), test_df.drop_duplicates().tgt.tolist())\n",
    "print(\"WER_base: {}\".format(wer_base))\n",
    "test_pairs = [[normalizeString(s), normalizeString(t) ]for s, t in list(zip(test_df.drop_duplicates().src, test_df.drop_duplicates().tgt))] \n",
    "evaluateWER(encoder1, attn_decoder1, n=20)"
   ]
  },
  {
   "cell_type": "code",
   "execution_count": 25,
   "metadata": {
    "scrolled": false
   },
   "outputs": [
    {
     "name": "stdout",
     "output_type": "stream",
     "text": [
      "input = is it going to be nice outside at seventeen fifteen in milan\n",
      "output = is it going to be nice outside at 17 : 17 in milan <EOS>\n"
     ]
    },
    {
     "name": "stderr",
     "output_type": "stream",
     "text": [
      "<ipython-input-25-8aeba70aa22f>:9: UserWarning: FixedFormatter should only be used together with FixedLocator\n",
      "  ax.set_xticklabels([''] + input_sentence.split(' ') +\n",
      "<ipython-input-25-8aeba70aa22f>:11: UserWarning: FixedFormatter should only be used together with FixedLocator\n",
      "  ax.set_yticklabels([''] + output_words)\n"
     ]
    },
    {
     "data": {
      "image/png": "[encoded data removed]",
      "text/plain": [
       "<Figure size 432x288 with 2 Axes>"
      ]
     },
     "metadata": {
      "needs_background": "light"
     },
     "output_type": "display_data"
    },
    {
     "name": "stdout",
     "output_type": "stream",
     "text": [
      "input = tell me something about real betis sevilla\n",
      "output = tell me something about night  <EOS>\n"
     ]
    },
    {
     "data": {
      "image/png": "[encoded data removed]",
      "text/plain": [
       "<Figure size 432x288 with 2 Axes>"
      ]
     },
     "metadata": {
      "needs_background": "light"
     },
     "output_type": "display_data"
    },
    {
     "name": "stdout",
     "output_type": "stream",
     "text": [
      "input = is it raining on fifteenth september\n",
      "output = is it raining on 15 . 9 <EOS>\n"
     ]
    },
    {
     "data": {
      "image/png": "[encoded data removed]",
      "text/plain": [
       "<Figure size 432x288 with 2 Axes>"
      ]
     },
     "metadata": {
      "needs_background": "light"
     },
     "output_type": "display_data"
    },
    {
     "name": "stdout",
     "output_type": "stream",
     "text": [
      "input = four hundred and twenty eight\n",
      "output = 288 <EOS>\n"
     ]
    },
    {
     "data": {
      "image/png": "[encoded data removed]",
      "text/plain": [
       "<Figure size 432x288 with 2 Axes>"
      ]
     },
     "metadata": {
      "needs_background": "light"
     },
     "output_type": "display_data"
    },
    {
     "name": "stdout",
     "output_type": "stream",
     "text": [
      "input = is it raining in plateau from seven twenty five to three fifteen\n",
      "output = is it raining in plateau from 23 : 17 to 03 : 17 <EOS>\n"
     ]
    },
    {
     "data": {
      "image/png": "[encoded data removed]",
      "text/plain": [
       "<Figure size 432x288 with 2 Axes>"
      ]
     },
     "metadata": {
      "needs_background": "light"
     },
     "output_type": "display_data"
    }
   ],
   "source": [
    "def showAttention(input_sentence, output_words, attentions):\n",
    "    # Set up figure with colorbar\n",
    "    fig = plt.figure()\n",
    "    ax = fig.add_subplot(111)\n",
    "    cax = ax.matshow(attentions.numpy(), cmap='bone')\n",
    "    fig.colorbar(cax)\n",
    "\n",
    "    # Set up axes\n",
    "    ax.set_xticklabels([''] + input_sentence.split(' ') +\n",
    "                       ['<EOS>'], rotation=90)\n",
    "    ax.set_yticklabels([''] + output_words)\n",
    "\n",
    "    # Show label at every tick\n",
    "    ax.xaxis.set_major_locator(ticker.MultipleLocator(1))\n",
    "    ax.yaxis.set_major_locator(ticker.MultipleLocator(1))\n",
    "\n",
    "    plt.show()\n",
    "\n",
    "\n",
    "def evaluateAndShowAttention(input_sentence):\n",
    "    output_words, attentions = evaluate(\n",
    "        encoder1, attn_decoder1, input_sentence)\n",
    "    print('input =', input_sentence)\n",
    "    print('output =', ' '.join(output_words))\n",
    "    showAttention(input_sentence, output_words, attentions)\n",
    "    \n",
    "evaluateAndShowAttention(\"is it going to be nice outside at seventeen fifteen in milan\")\n",
    "evaluateAndShowAttention(\"tell me something about real betis sevilla\")\n",
    "evaluateAndShowAttention(\"is it raining on fifteenth september\")\n",
    "evaluateAndShowAttention(\"four hundred and twenty eight\")\n",
    "evaluateAndShowAttention(\"is it raining in plateau from seven twenty five to three fifteen\")"
   ]
  },
  {
   "cell_type": "markdown",
   "metadata": {},
   "source": [
    "## GloVe"
   ]
  },
  {
   "cell_type": "code",
   "execution_count": 30,
   "metadata": {},
   "outputs": [],
   "source": [
    "import bcolz\n",
    "import pickle\n",
    "# words = []\n",
    "# idx = 0\n",
    "# word2idx = {}\n",
    "glove_path = \"/home/zhechensu/glove/glove.6B.50d.txt\"\n",
    "rootdir = f'/home/zhechensu/glove/glove.6B/'\n",
    "# vectors = bcolz.carray(np.zeros(1), rootdir=rootdir + '6B.50.dat', mode='w')\n",
    "\n",
    "# with open(glove_path, 'rb') as f:\n",
    "#     for l in f:\n",
    "#         line = l.decode().split()\n",
    "#         word = line[0]\n",
    "#         words.append(word)\n",
    "#         word2idx[word] = idx\n",
    "#         idx += 1\n",
    "#         vect = np.array(line[1:]).astype(np.float)\n",
    "#         vectors.append(vect)\n",
    "     \n",
    "# vectors = bcolz.carray(vectors[1:].reshape((400000, 50)), rootdir= rootdir + '6B.50.dat', mode='w')\n",
    "# vectors.flush()\n",
    "# pickle.dump(words, open(rootdir + '6B.50_words.pkl', 'wb'))\n",
    "# pickle.dump(word2idx, open(rootdir + '6B.50_idx.pkl', 'wb'))"
   ]
  },
  {
   "cell_type": "code",
   "execution_count": 31,
   "metadata": {},
   "outputs": [],
   "source": [
    "# Load Glove Vectors\n",
    "vectors = bcolz.open(rootdir + '6B.50.dat')[:]\n",
    "words = pickle.load(open(rootdir + '6B.50_words.pkl', 'rb'))\n",
    "word2idx = pickle.load(open(rootdir + '6B.50_idx.pkl', 'rb'))\n",
    " \n",
    "glove = {w: vectors[word2idx[w]] for w in words}"
   ]
  },
  {
   "cell_type": "code",
   "execution_count": 32,
   "metadata": {},
   "outputs": [],
   "source": [
    "# for moving 'sos' token at index 0 and 'eos' token at index 1\n",
    "\n",
    "sos_index = word2idx['sos']\n",
    "eos_index = word2idx['eos']\n",
    "sos_swap_word = words[0]\n",
    "eos_swap_word = words[1]\n",
    " \n",
    "words[0], words[sos_index] = words[sos_index], words[0]\n",
    "words[1], words[eos_index] = words[eos_index], words[1]\n",
    "word2idx[sos_swap_word], word2idx['sos'] = word2idx['sos'], word2idx[sos_swap_word]\n",
    "word2idx[eos_swap_word], word2idx['eos'] = word2idx['eos'], word2idx[eos_swap_word]\n"
   ]
  },
  {
   "cell_type": "code",
   "execution_count": 33,
   "metadata": {},
   "outputs": [],
   "source": [
    "# Sort word2idx\n",
    "import operator\n",
    "word2idx = { k : v for k , v in sorted(word2idx.items(), key=operator.itemgetter(1))}\n"
   ]
  },
  {
   "cell_type": "code",
   "execution_count": 34,
   "metadata": {},
   "outputs": [],
   "source": [
    "class LangGlove:\n",
    "    def __init__(self, name):\n",
    "        self.name = name\n",
    "        self.word2index = { k : v for k , v in sorted(word2idx.items(), key=operator.itemgetter(1))}\n",
    "        self.word2count = { word : 1 for word in words }\n",
    "        self.index2word = { i : word for word, i in word2idx.items() }\n",
    "        self.n_words = 400001\n",
    " \n",
    "    def addSentence(self, sentence):\n",
    "        for word in sentence.split(' '):\n",
    "            self.addWord(word)\n",
    " \n",
    "    def addWord(self, word):\n",
    "        if word not in self.word2index:\n",
    "            self.word2index[word] = self.n_words\n",
    "            self.word2count[word] = 1\n",
    "            self.index2word[self.n_words] = word\n",
    "            self.n_words += 1\n",
    "        else:\n",
    "            self.word2count[word] += 1"
   ]
  },
  {
   "cell_type": "code",
   "execution_count": 35,
   "metadata": {
    "scrolled": false
   },
   "outputs": [
    {
     "name": "stdout",
     "output_type": "stream",
     "text": [
      "Reading lines...\n",
      "Read 63945 sentence pairs\n",
      "Counting words...\n",
      "Counted words:\n",
      "src 400792\n",
      "tgt 401024\n",
      "['change radio station', 'change radio station']\n"
     ]
    }
   ],
   "source": [
    "input_lang, output_lang, pairs = prepareData(train_df.src.tolist(), train_df.tgt.tolist(), LangGlove)\n",
    "print(random.choice(pairs))"
   ]
  },
  {
   "cell_type": "code",
   "execution_count": 58,
   "metadata": {
    "scrolled": false
   },
   "outputs": [
    {
     "name": "stdout",
     "output_type": "stream",
     "text": [
      "16m 47s (- 318m 54s) (3000 5%) 4.2590\n",
      "34m 29s (- 310m 29s) (6000 10%) 2.3016\n",
      "52m 26s (- 297m 8s) (9000 15%) 1.7287\n",
      "70m 34s (- 282m 19s) (12000 20%) 1.4103\n",
      "88m 46s (- 266m 18s) (15000 25%) 1.2898\n",
      "106m 56s (- 249m 31s) (18000 30%) 1.1217\n",
      "125m 21s (- 232m 49s) (21000 35%) 1.0638\n",
      "143m 34s (- 215m 21s) (24000 40%) 1.0004\n",
      "161m 48s (- 197m 45s) (27000 45%) 0.9114\n",
      "179m 58s (- 179m 58s) (30000 50%) 0.9374\n",
      "198m 9s (- 162m 7s) (33000 55%) 0.8319\n",
      "216m 29s (- 144m 19s) (36000 60%) 0.7930\n",
      "234m 36s (- 126m 19s) (39000 65%) 0.7657\n",
      "252m 54s (- 108m 23s) (42000 70%) 0.7559\n",
      "271m 12s (- 90m 24s) (45000 75%) 0.7139\n",
      "289m 46s (- 72m 26s) (48000 80%) 0.7102\n",
      "308m 8s (- 54m 22s) (51000 85%) 0.7126\n",
      "326m 37s (- 36m 17s) (54000 90%) 0.6842\n",
      "344m 53s (- 18m 9s) (57000 95%) 0.6298\n",
      "363m 19s (- 0m 0s) (60000 100%) 0.6678\n"
     ]
    },
    {
     "data": {
      "text/plain": [
       "<Figure size 432x288 with 0 Axes>"
      ]
     },
     "metadata": {},
     "output_type": "display_data"
    },
    {
     "data": {
      "image/png": "[encoded data removed]",
      "text/plain": [
       "<Figure size 432x288 with 1 Axes>"
      ]
     },
     "metadata": {
      "needs_background": "light"
     },
     "output_type": "display_data"
    }
   ],
   "source": [
    "hidden_size = 256\n",
    "encoder1 = EncoderRNN(input_lang.n_words, hidden_size).to(device)\n",
    "attn_decoder1 = AttnDecoderRNN(hidden_size, output_lang.n_words, dropout_p=0.1).to(device)\n",
    "\n",
    "trainIters(encoder1, attn_decoder1, 60000, print_every=3000, learning_rate=0.01)"
   ]
  },
  {
   "cell_type": "code",
   "execution_count": 59,
   "metadata": {
    "scrolled": false
   },
   "outputs": [
    {
     "name": "stderr",
     "output_type": "stream",
     "text": [
      "100%|██████████| 3072/3072 [02:53<00:00, 17.66it/s]\n"
     ]
    },
    {
     "name": "stdout",
     "output_type": "stream",
     "text": [
      "WER: 0.20611833088994097\n",
      "> switch to folx tv\n",
      "= switch to folx  .  tv\n",
      "< switch to tv tv tv <EOS>\n",
      "\n",
      "> switch to karusel int\n",
      "= switch to karusel int . \n",
      "< switch to rai monde <EOS>\n",
      "\n",
      "> show me standoff\n",
      "= show me standoff\n",
      "< show me <EOS>\n",
      "\n",
      "> which temperatures can we expect in munstertal black forest\n",
      "= which temperatures can we expect in munstertal (black forest)\n",
      "< which temperatures can we expect in munstertal (black forest) <EOS>\n",
      "\n",
      "> could you please change the radio station to rsi three\n",
      "= could you please change the radio station to rsi 3\n",
      "< could you please change the radio station to 23 3 <EOS>\n",
      "\n",
      "> is it going to be hot in saint leonhard in passeier at one forty seven\n",
      "= is it going to be hot in saint leonhard in passeier at 01 : 47\n",
      "< is it going to be hot in saint leonhard in passeier at 01 : 47 <EOS>\n",
      "\n",
      "> i want to know if it will rain on ninth december in constance\n",
      "= i want to know if it will rain on 9 . 12 in constance\n",
      "< i want to know if it will rain on 9 . 12 in constance <EOS>\n",
      "\n",
      "> i am looking for star wars revenge of the sith\n",
      "= i am looking for star wars  revenge of the sith\n",
      "< i am looking for great   of the  <EOS>\n",
      "\n",
      "> do you think it will rain on third june\n",
      "= do you think it will rain on 3 . 6\n",
      "< do you think it will rain on 3 . 6 <EOS>\n",
      "\n",
      "> eight hundred and ninety seven\n",
      "= 897\n",
      "< 77 <EOS>\n",
      "\n",
      "> put on m four sport please\n",
      "= put on m4 sport please\n",
      "< put on channel 24 please <EOS>\n",
      "\n",
      "> how is the temperature between ten forty six and two twenty four in tremosine\n",
      "= how is the temperature between 10 : 46 and 02 : 24 in tremosine\n",
      "< how is the temperature between 10 : 02 and 10 : 02 in latsch <EOS>\n",
      "\n",
      "> will there be rain on twenty first march in biel\n",
      "= will there be rain on 21 . 3 in biel\n",
      "< will there be rain on 21 . 3 in biel <EOS>\n",
      "\n",
      "> can i please watch universal soldier regeneration\n",
      "= can i please watch universal soldier  regeneration\n",
      "< can i please watch stingray j <EOS>\n",
      "\n",
      "> i'd like to listen to radio channel twenty one\n",
      "= i'd like to listen to radio channel 21\n",
      "< i'd like to listen to radio channel 21 <EOS>\n",
      "\n",
      "> turn the device front door on\n",
      "= turn the device front door on\n",
      "< turn the device up stairs on <EOS>\n",
      "\n",
      "> i want to listen to radio station ninety nine\n",
      "= i want to listen to radio station 99\n",
      "< i want to listen to radio station 99 <EOS>\n",
      "\n",
      "> can you please switch the device hue color spot three on\n",
      "= can you please switch the device hue color spot 3 on\n",
      "< can you please switch the device hue color spot 3 on <EOS>\n",
      "\n",
      "> two hundred and thirty nine\n",
      "= 239\n",
      "< a <EOS>\n",
      "\n",
      "> i need the temperature for one thirty nine in mals\n",
      "= i need the temperature for 01 : 39 in mals\n",
      "< i need the temperature for 01 : 41 in mals <EOS>\n",
      "\n"
     ]
    }
   ],
   "source": [
    "evaluateWER(encoder1, attn_decoder1, n=20)"
   ]
  },
  {
   "cell_type": "code",
   "execution_count": 38,
   "metadata": {
    "scrolled": false
   },
   "outputs": [
    {
     "name": "stdout",
     "output_type": "stream",
     "text": [
      "input = is it going to be nice outside at seventeen fifteen in milan\n",
      "output = is it going to be nice outside at 17 : 15 in milan <EOS>\n"
     ]
    },
    {
     "name": "stderr",
     "output_type": "stream",
     "text": [
      "<ipython-input-38-54521568c49a>:10: UserWarning: FixedFormatter should only be used together with FixedLocator\n",
      "  ax.set_xticklabels([''] + input_sentence.split(' ') +\n",
      "<ipython-input-38-54521568c49a>:12: UserWarning: FixedFormatter should only be used together with FixedLocator\n",
      "  ax.set_yticklabels([''] + output_words)\n"
     ]
    },
    {
     "data": {
      "image/png": "[encoded data removed]",
      "text/plain": [
       "<Figure size 432x288 with 2 Axes>"
      ]
     },
     "metadata": {
      "needs_background": "light"
     },
     "output_type": "display_data"
    },
    {
     "name": "stdout",
     "output_type": "stream",
     "text": [
      "input = tell me something about real betis sevilla\n",
      "output = tell me something about patrick j <EOS>\n"
     ]
    },
    {
     "data": {
      "image/png": "[encoded data removed]",
      "text/plain": [
       "<Figure size 432x288 with 2 Axes>"
      ]
     },
     "metadata": {
      "needs_background": "light"
     },
     "output_type": "display_data"
    },
    {
     "name": "stdout",
     "output_type": "stream",
     "text": [
      "input = is it raining on fifteenth september\n",
      "output = is it raining on 15 . 9 <EOS>\n"
     ]
    },
    {
     "data": {
      "image/png": "[encoded data removed]",
      "text/plain": [
       "<Figure size 432x288 with 2 Axes>"
      ]
     },
     "metadata": {
      "needs_background": "light"
     },
     "output_type": "display_data"
    },
    {
     "name": "stdout",
     "output_type": "stream",
     "text": [
      "input = four hundred and twenty eight\n",
      "output = 28 <EOS>\n"
     ]
    },
    {
     "data": {
      "image/png": "[encoded data removed]",
      "text/plain": [
       "<Figure size 432x288 with 2 Axes>"
      ]
     },
     "metadata": {
      "needs_background": "light"
     },
     "output_type": "display_data"
    },
    {
     "name": "stdout",
     "output_type": "stream",
     "text": [
      "input = is it raining in plateau from seven twenty five to three fifteen\n",
      "output = is it raining in plateau from 15 : 52 to 03 : 15 <EOS>\n"
     ]
    },
    {
     "data": {
      "image/png": "[encoded data removed]",
      "text/plain": [
       "<Figure size 432x288 with 2 Axes>"
      ]
     },
     "metadata": {
      "needs_background": "light"
     },
     "output_type": "display_data"
    }
   ],
   "source": [
    "import torch.nn.functional as F\n",
    "def showAttention(input_sentence, output_words, attentions):\n",
    "    # Set up figure with colorbar\n",
    "    fig = plt.figure()\n",
    "    ax = fig.add_subplot(111)\n",
    "    cax = ax.matshow(attentions.numpy(), cmap='bone')\n",
    "    fig.colorbar(cax)\n",
    "\n",
    "    # Set up axes\n",
    "    ax.set_xticklabels([''] + input_sentence.split(' ') +\n",
    "                       ['<EOS>'], rotation=90)\n",
    "    ax.set_yticklabels([''] + output_words)\n",
    "\n",
    "    # Show label at every tick\n",
    "    ax.xaxis.set_major_locator(ticker.MultipleLocator(1))\n",
    "    ax.yaxis.set_major_locator(ticker.MultipleLocator(1))\n",
    "\n",
    "    plt.show()\n",
    "\n",
    "\n",
    "def evaluateAndShowAttention(input_sentence):\n",
    "    output_words, attentions = evaluate(\n",
    "        encoder1, attn_decoder1, input_sentence)\n",
    "    print('input =', input_sentence)\n",
    "    print('output =', ' '.join(output_words))\n",
    "    showAttention(input_sentence, output_words, attentions)\n",
    "    \n",
    "evaluateAndShowAttention(\"is it going to be nice outside at seventeen fifteen in milan\")\n",
    "evaluateAndShowAttention(\"tell me something about real betis sevilla\")\n",
    "evaluateAndShowAttention(\"is it raining on fifteenth september\")\n",
    "evaluateAndShowAttention(\"four hundred and twenty eight\")\n",
    "evaluateAndShowAttention(\"is it raining in plateau from seven twenty five to three fifteen\")\n",
    "# evaluateAndShowAttention(\"i am looking for star wars  revenge of the sit\")"
   ]
  },
  {
   "cell_type": "code",
   "execution_count": 26,
   "metadata": {},
   "outputs": [],
   "source": [
    "import pickle\n",
    "def save_variable(v,filename):\n",
    "    f=open(filename,'wb')\n",
    "    pickle.dump(v,f)\n",
    "    f.close()\n",
    "    return filename\n",
    " \n",
    "def load_variable(filename):\n",
    "    f=open(filename,'rb')\n",
    "    r=pickle.load(f)\n",
    "    f.close()\n",
    "    return r\n",
    "\n",
    "# save_variable(encoder1, 'models/s2s_60k+1k+glove_encoder.pkl') \n",
    "# save_variable(attn_decoder1, 'models/s2s_60k+1k+glove_decoder.pkl') "
   ]
  },
  {
   "cell_type": "markdown",
   "metadata": {},
   "source": [
    "Evaluation for 70K model"
   ]
  },
  {
   "cell_type": "code",
   "execution_count": 23,
   "metadata": {},
   "outputs": [],
   "source": [
    "name = '60k+1k+glove' #{'70k', '60k+1k', '60k+1k+glove'}\n",
    "encoder1 = load_variable('models/s2s_{}_encoder.pkl'.format(name))\n",
    "attn_decoder1 = load_variable('models/s2s_{}_decoder.pkl'.format(name))\n",
    "# evaluateRandomly(a, b)"
   ]
  },
  {
   "cell_type": "code",
   "execution_count": null,
   "metadata": {},
   "outputs": [],
   "source": []
  }
 ],
 "metadata": {
  "kernelspec": {
   "display_name": "Python 3",
   "language": "python",
   "name": "python3"
  },
  "language_info": {
   "codemirror_mode": {
    "name": "ipython",
    "version": 3
   },
   "file_extension": ".py",
   "mimetype": "text/x-python",
   "name": "python",
   "nbconvert_exporter": "python",
   "pygments_lexer": "ipython3",
   "version": "3.7.7"
  }
 },
 "nbformat": 4,
 "nbformat_minor": 1
}