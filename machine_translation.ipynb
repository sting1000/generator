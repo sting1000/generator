{
 "cells": [
  {
   "cell_type": "markdown",
   "metadata": {},
   "source": [
    "# Seq2Seq with Attention"
   ]
  },
  {
   "cell_type": "code",
   "execution_count": 1,
   "metadata": {},
   "outputs": [],
   "source": [
    "from __future__ import unicode_literals, print_function, division\n",
    "from io import open\n",
    "import unicodedata\n",
    "import string\n",
    "import re\n",
    "import random\n",
    "\n",
    "import torch\n",
    "import torch.nn as nn\n",
    "from torch import optim\n",
    "import torch.nn.functional as F\n",
    "\n",
    "device = torch.device(\"cuda\" if torch.cuda.is_available() else \"cpu\")"
   ]
  },
  {
   "cell_type": "markdown",
   "metadata": {},
   "source": [
    "Import dataset with 70K pairs of commands"
   ]
  },
  {
   "cell_type": "code",
   "execution_count": 2,
   "metadata": {},
   "outputs": [],
   "source": [
    "source = open('data/commands_source_en_70k.txt', encoding='UTF-8').read().strip().split('\\n')  \n",
    "target = open('data/commands_target_en_70k.txt', encoding='UTF-8').read().strip().split('\\n')   "
   ]
  },
  {
   "cell_type": "markdown",
   "metadata": {},
   "source": [
    "Add extra number pairs (1k). PS: using 10K will introduce quite a lot noise to dictionary"
   ]
  },
  {
   "cell_type": "code",
   "execution_count": 3,
   "metadata": {},
   "outputs": [],
   "source": [
    "# add numbers\n",
    "source_num = open('data/nums_source_en_10k.txt', encoding='UTF-8').read().strip().split('\\n')  \n",
    "target_num = open('data/nums_target_en_10k.txt', encoding='UTF-8').read().strip().split('\\n') \n",
    "source.extend(source_num[:1000])\n",
    "target.extend(target_num[:1000])"
   ]
  },
  {
   "cell_type": "code",
   "execution_count": 4,
   "metadata": {
    "scrolled": true
   },
   "outputs": [
    {
     "data": {
      "text/html": [
       "<div>\n",
       "<style scoped>\n",
       "    .dataframe tbody tr th:only-of-type {\n",
       "        vertical-align: middle;\n",
       "    }\n",
       "\n",
       "    .dataframe tbody tr th {\n",
       "        vertical-align: top;\n",
       "    }\n",
       "\n",
       "    .dataframe thead th {\n",
       "        text-align: right;\n",
       "    }\n",
       "</style>\n",
       "<table border=\"1\" class=\"dataframe\">\n",
       "  <thead>\n",
       "    <tr style=\"text-align: right;\">\n",
       "      <th></th>\n",
       "      <th>src</th>\n",
       "      <th>tgt</th>\n",
       "    </tr>\n",
       "  </thead>\n",
       "  <tbody>\n",
       "    <tr>\n",
       "      <th>0</th>\n",
       "      <td>is it warm in algund at two fifty five</td>\n",
       "      <td>is it warm in Algund at 02:55</td>\n",
       "    </tr>\n",
       "    <tr>\n",
       "      <th>1</th>\n",
       "      <td>how warm will it get</td>\n",
       "      <td>how warm will it get</td>\n",
       "    </tr>\n",
       "    <tr>\n",
       "      <th>2</th>\n",
       "      <td>how hot is it</td>\n",
       "      <td>how hot is it</td>\n",
       "    </tr>\n",
       "    <tr>\n",
       "      <th>3</th>\n",
       "      <td>how warm will it get at nineteen fifty eight</td>\n",
       "      <td>how warm will it get at 19:58</td>\n",
       "    </tr>\n",
       "    <tr>\n",
       "      <th>4</th>\n",
       "      <td>I would like to know how cold it is</td>\n",
       "      <td>I would like to know how cold it is</td>\n",
       "    </tr>\n",
       "  </tbody>\n",
       "</table>\n",
       "</div>"
      ],
      "text/plain": [
       "                                            src  \\\n",
       "0        is it warm in algund at two fifty five   \n",
       "1                          how warm will it get   \n",
       "2                                 how hot is it   \n",
       "3  how warm will it get at nineteen fifty eight   \n",
       "4           I would like to know how cold it is   \n",
       "\n",
       "                                   tgt  \n",
       "0        is it warm in Algund at 02:55  \n",
       "1                 how warm will it get  \n",
       "2                        how hot is it  \n",
       "3        how warm will it get at 19:58  \n",
       "4  I would like to know how cold it is  "
      ]
     },
     "execution_count": 4,
     "metadata": {},
     "output_type": "execute_result"
    }
   ],
   "source": [
    "import pandas as pd\n",
    "data = pd.DataFrame(list(zip(target, source)), columns=[\"src\", \"tgt\"])\n",
    "data.head()"
   ]
  },
  {
   "cell_type": "code",
   "execution_count": 5,
   "metadata": {
    "scrolled": true
   },
   "outputs": [
    {
     "name": "stdout",
     "output_type": "stream",
     "text": [
      "test size: 3155 unique sentences\n",
      "train size: 63938 sample senteces (with duplication)\n"
     ]
    }
   ],
   "source": [
    "li = random.choices(data.src.unique(), k = int(len(data.src.unique()) *0.1 ))\n",
    "train_df = data[~data.src.isin(li)]\n",
    "test_df = data[data.src.isin(li)]\n",
    "\n",
    "print(\"test size: {} unique sentences\".format(len(li)))\n",
    "print(\"train size: {} sample senteces (with duplication)\".format(sum(~data.src.isin(li))) )"
   ]
  },
  {
   "cell_type": "code",
   "execution_count": 6,
   "metadata": {},
   "outputs": [],
   "source": [
    "SOS_token = 0\n",
    "EOS_token = 1\n",
    "\n",
    "\n",
    "class Lang:\n",
    "    def __init__(self, name):\n",
    "        self.name = name\n",
    "        self.word2index = {}\n",
    "        self.word2count = {}\n",
    "        self.index2word = {0: \"SOS\", 1: \"EOS\"}\n",
    "        self.n_words = 2  # Count SOS and EOS\n",
    "\n",
    "    def addSentence(self, sentence):\n",
    "        for word in sentence.split(' '):\n",
    "            self.addWord(word)\n",
    "\n",
    "    def addWord(self, word):\n",
    "        if word not in self.word2index:\n",
    "            self.word2index[word] = self.n_words\n",
    "            self.word2count[word] = 1\n",
    "            self.index2word[self.n_words] = word\n",
    "            self.n_words += 1\n",
    "        else:\n",
    "            self.word2count[word] += 1"
   ]
  },
  {
   "cell_type": "code",
   "execution_count": 7,
   "metadata": {},
   "outputs": [],
   "source": [
    "# Turn a Unicode string to plain ASCII, thanks to\n",
    "# https://stackoverflow.com/a/518232/2809427\n",
    "def unicodeToAscii(s):\n",
    "    return ''.join(\n",
    "        c for c in unicodedata.normalize('NFD', s)\n",
    "        if unicodedata.category(c) != 'Mn'\n",
    "    )\n",
    "\n",
    "# Lowercase, trim, and remove non-letter characters\n",
    "\n",
    "\n",
    "def normalizeString(s):\n",
    "    s = unicodeToAscii(s.lower().strip())\n",
    "    s = re.sub(r\"([\\:])\", r\" : \", s)\n",
    "    s = re.sub(r\"([\\.])\", r\" . \", s)\n",
    "#     s = re.sub(r\"[^a-zA-Z!?]+\", r\" \", s)\n",
    "    return s"
   ]
  },
  {
   "cell_type": "code",
   "execution_count": 8,
   "metadata": {},
   "outputs": [],
   "source": [
    "def readLangs(lang1, lang2):\n",
    "    print(\"Reading lines...\")\n",
    "\n",
    "    # Split every line into pairs and normalize\n",
    "    pairs = [[normalizeString(s), normalizeString(t) ]for s, t in list(zip(lang1, lang2))] \n",
    "\n",
    "    input_lang = Lang('src')\n",
    "    output_lang = Lang('tgt')\n",
    "\n",
    "    return input_lang, output_lang, pairs"
   ]
  },
  {
   "cell_type": "code",
   "execution_count": 9,
   "metadata": {},
   "outputs": [
    {
     "name": "stdout",
     "output_type": "stream",
     "text": [
      "Reading lines...\n",
      "Read 63938 sentence pairs\n",
      "Counting words...\n",
      "Counted words:\n",
      "src 5965\n",
      "tgt 7122\n",
      "['will it rain today', 'will it rain today']\n"
     ]
    }
   ],
   "source": [
    "def prepareData(lang1, lang2):\n",
    "    input_lang, output_lang, pairs = readLangs(lang1, lang2)\n",
    "    print(\"Read %s sentence pairs\" % len(pairs))\n",
    "#     pairs = filterPairs(pairs)\n",
    "#     print(\"Trimmed to %s sentence pairs\" % len(pairs))\n",
    "    print(\"Counting words...\")\n",
    "    for pair in pairs:\n",
    "        input_lang.addSentence(pair[0])\n",
    "        output_lang.addSentence(pair[1])\n",
    "    print(\"Counted words:\")\n",
    "    print(input_lang.name, input_lang.n_words)\n",
    "    print(output_lang.name, output_lang.n_words)\n",
    "    return input_lang, output_lang, pairs\n",
    "\n",
    "\n",
    "input_lang, output_lang, pairs = prepareData(train_df.src.tolist(), train_df.tgt.tolist())\n",
    "print(random.choice(pairs))"
   ]
  },
  {
   "cell_type": "code",
   "execution_count": 10,
   "metadata": {},
   "outputs": [],
   "source": [
    "class EncoderRNN(nn.Module):\n",
    "    def __init__(self, input_size, hidden_size):\n",
    "        super(EncoderRNN, self).__init__()\n",
    "        self.hidden_size = hidden_size\n",
    "\n",
    "        self.embedding = nn.Embedding(input_size, hidden_size)\n",
    "        self.gru = nn.GRU(hidden_size, hidden_size)\n",
    "\n",
    "    def forward(self, input, hidden):\n",
    "        embedded = self.embedding(input).view(1, 1, -1)\n",
    "        output = embedded\n",
    "        output, hidden = self.gru(output, hidden)\n",
    "        return output, hidden\n",
    "\n",
    "    def initHidden(self):\n",
    "        return torch.zeros(1, 1, self.hidden_size, device=device)"
   ]
  },
  {
   "cell_type": "code",
   "execution_count": 11,
   "metadata": {},
   "outputs": [],
   "source": [
    "class DecoderRNN(nn.Module):\n",
    "    def __init__(self, hidden_size, output_size):\n",
    "        super(DecoderRNN, self).__init__()\n",
    "        self.hidden_size = hidden_size\n",
    "\n",
    "        self.embedding = nn.Embedding(output_size, hidden_size)\n",
    "        self.gru = nn.GRU(hidden_size, hidden_size)\n",
    "        self.out = nn.Linear(hidden_size, output_size)\n",
    "        self.softmax = nn.LogSoftmax(dim=1)\n",
    "\n",
    "    def forward(self, input, hidden):\n",
    "        output = self.embedding(input).view(1, 1, -1)\n",
    "        output = F.relu(output)\n",
    "        output, hidden = self.gru(output, hidden)\n",
    "        output = self.softmax(self.out(output[0]))\n",
    "        return output, hidden\n",
    "\n",
    "    def initHidden(self):\n",
    "        return torch.zeros(1, 1, self.hidden_size, device=device)"
   ]
  },
  {
   "cell_type": "code",
   "execution_count": 12,
   "metadata": {},
   "outputs": [],
   "source": [
    "class AttnDecoderRNN(nn.Module):\n",
    "    def __init__(self, hidden_size, output_size, dropout_p=0.1, max_length=30):\n",
    "        super(AttnDecoderRNN, self).__init__()\n",
    "        self.hidden_size = hidden_size\n",
    "        self.output_size = output_size\n",
    "        self.dropout_p = dropout_p\n",
    "        self.max_length = max_length\n",
    "\n",
    "        self.embedding = nn.Embedding(self.output_size, self.hidden_size)\n",
    "        self.attn = nn.Linear(self.hidden_size * 2, self.max_length)\n",
    "        self.attn_combine = nn.Linear(self.hidden_size * 2, self.hidden_size)\n",
    "        self.dropout = nn.Dropout(self.dropout_p)\n",
    "        self.gru = nn.GRU(self.hidden_size, self.hidden_size)\n",
    "        self.out = nn.Linear(self.hidden_size, self.output_size)\n",
    "\n",
    "    def forward(self, input, hidden, encoder_outputs):\n",
    "        embedded = self.embedding(input).view(1, 1, -1)\n",
    "        embedded = self.dropout(embedded)\n",
    "\n",
    "        attn_weights = F.softmax(\n",
    "            self.attn(torch.cat((embedded[0], hidden[0]), 1)), dim=1)\n",
    "        attn_applied = torch.bmm(attn_weights.unsqueeze(0),\n",
    "                                 encoder_outputs.unsqueeze(0))\n",
    "\n",
    "        output = torch.cat((embedded[0], attn_applied[0]), 1)\n",
    "        output = self.attn_combine(output).unsqueeze(0)\n",
    "\n",
    "        output = F.relu(output)\n",
    "        output, hidden = self.gru(output, hidden)\n",
    "\n",
    "        output = F.log_softmax(self.out(output[0]), dim=1)\n",
    "        return output, hidden, attn_weights\n",
    "\n",
    "    def initHidden(self):\n",
    "        return torch.zeros(1, 1, self.hidden_size, device=device)"
   ]
  },
  {
   "cell_type": "code",
   "execution_count": 13,
   "metadata": {},
   "outputs": [],
   "source": [
    "def indexesFromSentence(lang, sentence):\n",
    "    return [lang.word2index[word] for word in sentence.split(' ')]\n",
    "\n",
    "\n",
    "def tensorFromSentence(lang, sentence):\n",
    "    indexes = indexesFromSentence(lang, sentence)\n",
    "    indexes.append(EOS_token)\n",
    "    return torch.tensor(indexes, dtype=torch.long, device=device).view(-1, 1)\n",
    "\n",
    "\n",
    "def tensorsFromPair(pair, method='bow'):\n",
    "    input_tensor = tensorFromSentence(input_lang, pair[0])\n",
    "    target_tensor = tensorFromSentence(output_lang, pair[1])\n",
    "    return (input_tensor, target_tensor)"
   ]
  },
  {
   "cell_type": "code",
   "execution_count": 14,
   "metadata": {},
   "outputs": [],
   "source": [
    "teacher_forcing_ratio = 0.5\n",
    "\n",
    "\n",
    "def train(input_tensor, target_tensor, encoder, decoder, encoder_optimizer, decoder_optimizer, criterion, max_length=30):\n",
    "    encoder_hidden = encoder.initHidden()\n",
    "\n",
    "    encoder_optimizer.zero_grad()\n",
    "    decoder_optimizer.zero_grad()\n",
    "\n",
    "    input_length = input_tensor.size(0)\n",
    "    target_length = target_tensor.size(0)\n",
    "\n",
    "    encoder_outputs = torch.zeros(max_length, encoder.hidden_size, device=device)\n",
    "\n",
    "    loss = 0\n",
    "\n",
    "    for ei in range(input_length):\n",
    "        encoder_output, encoder_hidden = encoder(\n",
    "            input_tensor[ei], encoder_hidden)\n",
    "        encoder_outputs[ei] = encoder_output[0, 0]\n",
    "\n",
    "    decoder_input = torch.tensor([[SOS_token]], device=device)\n",
    "\n",
    "    decoder_hidden = encoder_hidden\n",
    "\n",
    "    use_teacher_forcing = True if random.random() < teacher_forcing_ratio else False\n",
    "\n",
    "    if use_teacher_forcing:\n",
    "        # Teacher forcing: Feed the target as the next input\n",
    "        for di in range(target_length):\n",
    "            decoder_output, decoder_hidden, decoder_attention = decoder(\n",
    "                decoder_input, decoder_hidden, encoder_outputs)\n",
    "            loss += criterion(decoder_output, target_tensor[di])\n",
    "            decoder_input = target_tensor[di]  # Teacher forcing\n",
    "\n",
    "    else:\n",
    "        # Without teacher forcing: use its own predictions as the next input\n",
    "        for di in range(target_length):\n",
    "            decoder_output, decoder_hidden, decoder_attention = decoder(\n",
    "                decoder_input, decoder_hidden, encoder_outputs)\n",
    "            topv, topi = decoder_output.topk(1)\n",
    "            decoder_input = topi.squeeze().detach()  # detach from history as input\n",
    "\n",
    "            loss += criterion(decoder_output, target_tensor[di])\n",
    "            if decoder_input.item() == EOS_token:\n",
    "                break\n",
    "\n",
    "    loss.backward()\n",
    "\n",
    "    encoder_optimizer.step()\n",
    "    decoder_optimizer.step()\n",
    "\n",
    "    return loss.item() / target_length"
   ]
  },
  {
   "cell_type": "code",
   "execution_count": 15,
   "metadata": {},
   "outputs": [],
   "source": [
    "import time\n",
    "import math\n",
    "\n",
    "\n",
    "def asMinutes(s):\n",
    "    m = math.floor(s / 60)\n",
    "    s -= m * 60\n",
    "    return '%dm %ds' % (m, s)\n",
    "\n",
    "\n",
    "def timeSince(since, percent):\n",
    "    now = time.time()\n",
    "    s = now - since\n",
    "    es = s / (percent)\n",
    "    rs = es - s\n",
    "    return '%s (- %s)' % (asMinutes(s), asMinutes(rs))"
   ]
  },
  {
   "cell_type": "code",
   "execution_count": 16,
   "metadata": {},
   "outputs": [],
   "source": [
    "def trainIters(encoder, decoder, n_iters, print_every=1000, plot_every=100, learning_rate=0.01):\n",
    "    start = time.time()\n",
    "    plot_losses = []\n",
    "    print_loss_total = 0  # Reset every print_every\n",
    "    plot_loss_total = 0  # Reset every plot_every\n",
    "\n",
    "    encoder_optimizer = optim.SGD(encoder.parameters(), lr=learning_rate)\n",
    "    decoder_optimizer = optim.SGD(decoder.parameters(), lr=learning_rate)\n",
    "    training_pairs = [tensorsFromPair(random.choice(pairs))\n",
    "                      for i in range(n_iters)]\n",
    "    criterion = nn.NLLLoss()\n",
    "\n",
    "    for iter in range(1, n_iters + 1):\n",
    "        training_pair = training_pairs[iter - 1]\n",
    "        input_tensor = training_pair[0]\n",
    "        target_tensor = training_pair[1]\n",
    "\n",
    "        loss = train(input_tensor, target_tensor, encoder,\n",
    "                     decoder, encoder_optimizer, decoder_optimizer, criterion)\n",
    "        print_loss_total += loss\n",
    "        plot_loss_total += loss\n",
    "\n",
    "        if iter % print_every == 0:\n",
    "            print_loss_avg = print_loss_total / print_every\n",
    "            print_loss_total = 0\n",
    "            print('%s (%d %d%%) %.4f' % (timeSince(start, iter / n_iters),\n",
    "                                         iter, iter / n_iters * 100, print_loss_avg))\n",
    "\n",
    "        if iter % plot_every == 0:\n",
    "            plot_loss_avg = plot_loss_total / plot_every\n",
    "            plot_losses.append(plot_loss_avg)\n",
    "            plot_loss_total = 0\n",
    "\n",
    "    showPlot(plot_losses)"
   ]
  },
  {
   "cell_type": "code",
   "execution_count": 17,
   "metadata": {},
   "outputs": [],
   "source": [
    "import matplotlib.pyplot as plt\n",
    "# plt.switch_backend('agg')\n",
    "import matplotlib.ticker as ticker\n",
    "import numpy as np\n",
    "\n",
    "\n",
    "def showPlot(points):\n",
    "    plt.figure()\n",
    "    fig, ax = plt.subplots()\n",
    "    # this locator puts ticks at regular intervals\n",
    "    loc = ticker.MultipleLocator(base=0.2)\n",
    "    ax.yaxis.set_major_locator(loc)\n",
    "    plt.plot(points)"
   ]
  },
  {
   "cell_type": "code",
   "execution_count": 18,
   "metadata": {},
   "outputs": [],
   "source": [
    "def evaluate(encoder, decoder, sentence, max_length=30):\n",
    "    with torch.no_grad():\n",
    "        input_tensor = tensorFromSentence(input_lang, sentence)\n",
    "        input_length = input_tensor.size()[0]\n",
    "        encoder_hidden = encoder.initHidden()\n",
    "\n",
    "        encoder_outputs = torch.zeros(max_length, encoder.hidden_size, device=device)\n",
    "\n",
    "        for ei in range(input_length):\n",
    "            encoder_output, encoder_hidden = encoder(input_tensor[ei],\n",
    "                                                     encoder_hidden)\n",
    "            encoder_outputs[ei] += encoder_output[0, 0]\n",
    "\n",
    "        decoder_input = torch.tensor([[SOS_token]], device=device)  # SOS\n",
    "\n",
    "        decoder_hidden = encoder_hidden\n",
    "\n",
    "        decoded_words = []\n",
    "        decoder_attentions = torch.zeros(max_length, max_length)\n",
    "\n",
    "        for di in range(max_length):\n",
    "            decoder_output, decoder_hidden, decoder_attention = decoder(\n",
    "                decoder_input, decoder_hidden, encoder_outputs)\n",
    "            decoder_attentions[di] = decoder_attention.data\n",
    "            topv, topi = decoder_output.data.topk(1)\n",
    "            if topi.item() == EOS_token:\n",
    "                decoded_words.append('<EOS>')\n",
    "                break\n",
    "            else:\n",
    "                decoded_words.append(output_lang.index2word[topi.item()])\n",
    "\n",
    "            decoder_input = topi.squeeze().detach()\n",
    "\n",
    "        return decoded_words, decoder_attentions[:di + 1]"
   ]
  },
  {
   "cell_type": "code",
   "execution_count": 19,
   "metadata": {},
   "outputs": [],
   "source": [
    "def evaluateRandomly(encoder, decoder, n=10):\n",
    "    for i in range(n):\n",
    "        pair = random.choice(pairs)\n",
    "        print('>', pair[0])\n",
    "        print('=', pair[1])\n",
    "        output_words, attentions = evaluate(encoder, decoder, pair[0])\n",
    "        output_sentence = ' '.join(output_words)\n",
    "        print('<', output_sentence)\n",
    "        print('')"
   ]
  },
  {
   "cell_type": "code",
   "execution_count": 20,
   "metadata": {},
   "outputs": [
    {
     "name": "stdout",
     "output_type": "stream",
     "text": [
      "1m 40s (- 31m 56s) (3000 5%) 3.3483\n",
      "3m 20s (- 30m 8s) (6000 10%) 1.5996\n",
      "5m 2s (- 28m 35s) (9000 15%) 1.2391\n",
      "6m 43s (- 26m 53s) (12000 20%) 1.0781\n",
      "8m 26s (- 25m 19s) (15000 25%) 0.9210\n",
      "10m 10s (- 23m 44s) (18000 30%) 0.8447\n",
      "11m 56s (- 22m 11s) (21000 35%) 0.7295\n",
      "13m 42s (- 20m 33s) (24000 40%) 0.7511\n",
      "15m 25s (- 18m 51s) (27000 45%) 0.6457\n",
      "17m 11s (- 17m 11s) (30000 50%) 0.6360\n",
      "18m 56s (- 15m 29s) (33000 55%) 0.6764\n",
      "20m 39s (- 13m 46s) (36000 60%) 0.6187\n",
      "22m 24s (- 12m 4s) (39000 65%) 0.5719\n",
      "24m 10s (- 10m 21s) (42000 70%) 0.5280\n",
      "25m 55s (- 8m 38s) (45000 75%) 0.5281\n",
      "27m 40s (- 6m 55s) (48000 80%) 0.5881\n",
      "29m 25s (- 5m 11s) (51000 85%) 0.5073\n",
      "31m 11s (- 3m 27s) (54000 90%) 0.4843\n",
      "32m 58s (- 1m 44s) (57000 95%) 0.4966\n",
      "34m 43s (- 0m 0s) (60000 100%) 0.4793\n"
     ]
    },
    {
     "data": {
      "text/plain": [
       "<Figure size 432x288 with 0 Axes>"
      ]
     },
     "metadata": {},
     "output_type": "display_data"
    },
    {
     "data": {
      "image/png": "[encoded data removed]",
      "text/plain": [
       "<Figure size 432x288 with 1 Axes>"
      ]
     },
     "metadata": {
      "needs_background": "light"
     },
     "output_type": "display_data"
    }
   ],
   "source": [
    "hidden_size = 256\n",
    "encoder1 = EncoderRNN(input_lang.n_words, hidden_size).to(device)\n",
    "attn_decoder1 = AttnDecoderRNN(hidden_size, output_lang.n_words, dropout_p=0.1).to(device)\n",
    "\n",
    "trainIters(encoder1, attn_decoder1, 60000, print_every=3000, learning_rate=0.01)"
   ]
  },
  {
   "cell_type": "code",
   "execution_count": 21,
   "metadata": {
    "scrolled": false
   },
   "outputs": [
    {
     "name": "stdout",
     "output_type": "stream",
     "text": [
      "> how is the weather forecast for tremezzo\n",
      "= how is the weather forecast for tremezzo\n",
      "< how is the weather forecast for tremezzo <EOS>\n",
      "\n",
      "> i would like to watch amok\n",
      "= i would like to watch amok\n",
      "< i would like to watch <EOS>\n",
      "\n",
      "> how is the weather going to be\n",
      "= how is the weather going to be\n",
      "< how is the weather going to be <EOS>\n",
      "\n",
      "> will i freeze\n",
      "= will i freeze\n",
      "< will i freeze <EOS>\n",
      "\n",
      "> search for jupiler pro league\n",
      "= search for jupiler pro league\n",
      "< search for jupiler pro league <EOS>\n",
      "\n",
      "> please search for lily's driftwood bay\n",
      "= please search for lily's driftwood bay\n",
      "< please search for jupiler : <EOS>\n",
      "\n",
      "> can you tell me if i should take an umbrella with me\n",
      "= can you tell me if i should take an umbrella with me\n",
      "< can you tell me if i should take an umbrella with me <EOS>\n",
      "\n",
      "> turn on tv channel ten\n",
      "= turn on tv channel 10\n",
      "< turn on tv channel 10 <EOS>\n",
      "\n",
      "> i want to change the station to radio channel flower power radio\n",
      "= i want to change the station to radio channel flower power radio\n",
      "< i want to change the station to radio channel radio bernone radio - - - - radio - - - - - - - radio - - - radio -\n",
      "\n",
      "> tell me how the weather will be on sixth november in brenzone\n",
      "= tell me how the weather will be on 6 . 11 in brenzone\n",
      "< tell me how the weather will be on 6 . 11 in brenzone <EOS>\n",
      "\n"
     ]
    }
   ],
   "source": [
    "# evaluate in training set\n",
    "evaluateRandomly(encoder1, attn_decoder1)"
   ]
  },
  {
   "cell_type": "code",
   "execution_count": 41,
   "metadata": {},
   "outputs": [
    {
     "name": "stderr",
     "output_type": "stream",
     "text": [
      "100%|██████████| 3037/3037 [00:38<00:00, 79.26it/s] \n"
     ]
    },
    {
     "name": "stdout",
     "output_type": "stream",
     "text": [
      "WER: 0.19248487024797356\n",
      "> turn on netatmo in the bedroom\n",
      "= turn on netatmo in the bedroom\n",
      "< turn on netatmo in the bedroom <EOS>\n",
      "\n",
      "> how much will it rain at twenty one thirteen in st martin in passeier\n",
      "= how much will it rain at 21 : 13 in st-martin in passeier\n",
      "< how much will it rain at 21 : 13 in st-martin in passeier <EOS>\n",
      "\n",
      "> please turn on device hue ambiance spot one\n",
      "= please turn on device hue ambiance spot 1\n",
      "< please turn on device hue ambiance spot 1 <EOS>\n",
      "\n",
      "> four hundred and twenty eight\n",
      "= 428\n",
      "< 532 <EOS>\n",
      "\n",
      "> is it raining on fifteenth september\n",
      "= is it raining on 15 . 9\n",
      "< is it raining on 15 . 9 <EOS>\n",
      "\n",
      "> go to channel seventy seven\n",
      "= go to channel 77\n",
      "< go to channel 77 <EOS>\n",
      "\n",
      "> turn on regression\n",
      "= turn on regression\n",
      "> is it going to be nice outside at seventeen fifteen in milan\n",
      "= is it going to be nice outside at 17 : 15 in milan\n",
      "< is it going to be nice outside at 15 : 17 in milan <EOS>\n",
      "\n",
      "> look for buena vista social club adios\n",
      "= look for buena vista social club :  adios\n",
      "< look for lego :  .  .  .  .  .  .  .  <EOS>\n",
      "\n",
      "> tell me something about real betis sevilla\n",
      "= tell me something about real betis sevilla\n",
      "< tell me something about real jackson <EOS>\n",
      "\n"
     ]
    }
   ],
   "source": [
    "# evaluate in validation set\n",
    "from jiwer import wer\n",
    "from tqdm import tqdm \n",
    "\n",
    "def evaluateWER(encoder, decoder, n=10):\n",
    "    WER = 0\n",
    "    size = 0\n",
    "    for test_pair in tqdm(test_pairs):\n",
    "        try:\n",
    "            output_words, attentions = evaluate(encoder, decoder, test_pair[0])\n",
    "            output_sentence = ' '.join(output_words[:-1])\n",
    "            WER += wer(test_pair[1], output_sentence)\n",
    "            size += 1\n",
    "        except:\n",
    "            pass\n",
    "    print(\"WER: {}\".format(WER/ size))\n",
    "    for i in range(n):\n",
    "        try:\n",
    "            test_pair = random.choice(test_pairs)\n",
    "            print('>', test_pair[0])\n",
    "            print('=', test_pair[1])\n",
    "            output_words, attentions = evaluate(encoder, decoder, test_pair[0])\n",
    "            output_sentence = ' '.join(output_words)\n",
    "            print('<', output_sentence)\n",
    "            print('')\n",
    "        except:\n",
    "            pass\n",
    "\n",
    "test_pairs = [[normalizeString(s), normalizeString(t) ]for s, t in list(zip(test_df.drop_duplicates().src, test_df.drop_duplicates().tgt))] \n",
    "evaluateWER(encoder1, attn_decoder1, n=10)"
   ]
  },
  {
   "cell_type": "code",
   "execution_count": 43,
   "metadata": {
    "scrolled": false
   },
   "outputs": [
    {
     "name": "stdout",
     "output_type": "stream",
     "text": [
      "input = is it going to be nice outside at seventeen fifteen in milan\n",
      "output = is it going to be nice outside at 15 : 17 in milan <EOS>\n"
     ]
    },
    {
     "name": "stderr",
     "output_type": "stream",
     "text": [
      "<ipython-input-43-d0f1824d29dc>:9: UserWarning: FixedFormatter should only be used together with FixedLocator\n",
      "  ax.set_xticklabels([''] + input_sentence.split(' ') +\n",
      "<ipython-input-43-d0f1824d29dc>:11: UserWarning: FixedFormatter should only be used together with FixedLocator\n",
      "  ax.set_yticklabels([''] + output_words)\n"
     ]
    },
    {
     "data": {
      "image/png": "[encoded data removed]",
      "text/plain": [
       "<Figure size 432x288 with 2 Axes>"
      ]
     },
     "metadata": {
      "needs_background": "light"
     },
     "output_type": "display_data"
    },
    {
     "name": "stdout",
     "output_type": "stream",
     "text": [
      "input = tell me something about real betis sevilla\n",
      "output = tell me something about real jackson game <EOS>\n"
     ]
    },
    {
     "data": {
      "image/png": "[encoded data removed]",
      "text/plain": [
       "<Figure size 432x288 with 2 Axes>"
      ]
     },
     "metadata": {
      "needs_background": "light"
     },
     "output_type": "display_data"
    },
    {
     "name": "stdout",
     "output_type": "stream",
     "text": [
      "input = is it raining on fifteenth september\n",
      "output = is it raining on 15 . 9 <EOS>\n"
     ]
    },
    {
     "data": {
      "image/png": "[encoded data removed]",
      "text/plain": [
       "<Figure size 432x288 with 2 Axes>"
      ]
     },
     "metadata": {
      "needs_background": "light"
     },
     "output_type": "display_data"
    },
    {
     "name": "stdout",
     "output_type": "stream",
     "text": [
      "input = four hundred and twenty eight\n",
      "output = 532 <EOS>\n"
     ]
    },
    {
     "data": {
      "image/png": "[encoded data removed]",
      "text/plain": [
       "<Figure size 432x288 with 2 Axes>"
      ]
     },
     "metadata": {
      "needs_background": "light"
     },
     "output_type": "display_data"
    }
   ],
   "source": [
    "def showAttention(input_sentence, output_words, attentions):\n",
    "    # Set up figure with colorbar\n",
    "    fig = plt.figure()\n",
    "    ax = fig.add_subplot(111)\n",
    "    cax = ax.matshow(attentions.numpy(), cmap='bone')\n",
    "    fig.colorbar(cax)\n",
    "\n",
    "    # Set up axes\n",
    "    ax.set_xticklabels([''] + input_sentence.split(' ') +\n",
    "                       ['<EOS>'], rotation=90)\n",
    "    ax.set_yticklabels([''] + output_words)\n",
    "\n",
    "    # Show label at every tick\n",
    "    ax.xaxis.set_major_locator(ticker.MultipleLocator(1))\n",
    "    ax.yaxis.set_major_locator(ticker.MultipleLocator(1))\n",
    "\n",
    "    plt.show()\n",
    "\n",
    "\n",
    "def evaluateAndShowAttention(input_sentence):\n",
    "    output_words, attentions = evaluate(\n",
    "        encoder1, attn_decoder1, input_sentence)\n",
    "    print('input =', input_sentence)\n",
    "    print('output =', ' '.join(output_words))\n",
    "    showAttention(input_sentence, output_words, attentions)\n",
    "    \n",
    "evaluateAndShowAttention(\"is it going to be nice outside at seventeen fifteen in milan\")\n",
    "evaluateAndShowAttention(\"tell me something about real betis sevilla\")\n",
    "evaluateAndShowAttention(\"is it raining on fifteenth september\")\n",
    "evaluateAndShowAttention(\"four hundred and twenty eight\")"
   ]
  },
  {
   "cell_type": "code",
   "execution_count": 44,
   "metadata": {},
   "outputs": [],
   "source": [
    "embeddings_dict = {}\n",
    "with open(\"/home/zhechensu/glove/glove.6B.50d.txt\", 'r') as f:\n",
    "    for line in f:\n",
    "        values = line.split()\n",
    "        word = values[0]\n",
    "        vector = np.asarray(values[1:], \"float32\")\n",
    "        embeddings_dict[word] = vector"
   ]
  },
  {
   "cell_type": "code",
   "execution_count": 45,
   "metadata": {},
   "outputs": [
    {
     "data": {
      "text/plain": [
       "array([ 0.24861 , -0.37992 ,  0.90709 , -0.24283 ,  0.41397 ,  0.29452 ,\n",
       "        0.46014 , -0.59381 ,  0.034256, -0.33302 , -1.2157  , -0.53273 ,\n",
       "        0.42819 , -0.78494 ,  0.1835  , -1.0465  , -0.41301 ,  0.23301 ,\n",
       "       -0.52422 ,  0.68597 , -0.13336 , -0.62924 ,  0.62042 , -0.3149  ,\n",
       "       -0.017245,  0.54963 ,  0.43892 , -0.33399 , -0.27343 , -0.37997 ,\n",
       "        0.3367  ,  0.11261 ,  1.0372  ,  1.0415  ,  0.64125 , -0.12848 ,\n",
       "        0.55627 ,  0.20363 , -0.14634 ,  0.19242 , -0.30059 , -0.50745 ,\n",
       "        1.0043  ,  0.481   , -1.0141  ,  0.89509 , -0.43524 ,  0.1536  ,\n",
       "        0.088555, -0.1082  ], dtype=float32)"
      ]
     },
     "execution_count": 45,
     "metadata": {},
     "output_type": "execute_result"
    }
   ],
   "source": [
    "words = []\n",
    "idx = 0\n",
    "word2idx = {}\n",
    "vectors = bcolz.carray(np.zeros(1), rootdir=f'/gdrive/My Drive/glove.6B/6B.50.dat', mode='w')\n",
    " \n",
    "with open(f'/gdrive/My Drive/glove.6B/glove.6B.50d.txt', 'rb') as f:\n",
    "    for l in f:\n",
    "        line = l.decode().split()\n",
    "        word = line[0]\n",
    "        words.append(word)\n",
    "        word2idx[word] = idx\n",
    "        idx += 1\n",
    "        vect = np.array(line[1:]).astype(np.float)\n",
    "        vectors.append(vect)\n",
    "     \n",
    "vectors = bcolz.carray(vectors[1:].reshape((400000, 50)), rootdir=f'/gdrive/My Drive/glove.6B/6B.50.dat', mode='w')\n",
    "vectors.flush()\n",
    "pickle.dump(words, open(f'/gdrive/My Drive/glove.6B/6B.50_words.pkl', 'wb'))\n",
    "pickle.dump(word2idx, open(f'/gdrive/My Drive/glove.6B/6B.50_idx.pkl', 'wb'))"
   ]
  },
  {
   "cell_type": "markdown",
   "metadata": {},
   "source": [
    "## issue1: unkown mapping -> larger dataset"
   ]
  },
  {
   "cell_type": "code",
   "execution_count": 55,
   "metadata": {
    "scrolled": true
   },
   "outputs": [
    {
     "name": "stdout",
     "output_type": "stream",
     "text": [
      "input = change to radio channel forty two please\n",
      "output = change to radio channel 40 please <EOS>\n"
     ]
    }
   ],
   "source": [
    "evaluateAndShowAttention(\"change to radio channel forty two please\")"
   ]
  },
  {
   "cell_type": "markdown",
   "metadata": {},
   "source": [
    "## issue2: unkown words -> GloVe"
   ]
  },
  {
   "cell_type": "code",
   "execution_count": 42,
   "metadata": {
    "scrolled": true
   },
   "outputs": [
    {
     "name": "stdout",
     "output_type": "stream",
     "text": [
      "input = i'd like to watch lord of the ring\n",
      "output = i'd like to watch ice the the <EOS>\n"
     ]
    }
   ],
   "source": [
    "evaluateAndShowAttention(\"i'd like to watch lord of the ring\")"
   ]
  },
  {
   "cell_type": "code",
   "execution_count": 46,
   "metadata": {},
   "outputs": [
    {
     "data": {
      "text/plain": [
       "'models/s2s_60k+1k_decoder.pkl'"
      ]
     },
     "execution_count": 46,
     "metadata": {},
     "output_type": "execute_result"
    }
   ],
   "source": [
    "import pickle\n",
    "def save_variable(v,filename):\n",
    "    f=open(filename,'wb')\n",
    "    pickle.dump(v,f)\n",
    "    f.close()\n",
    "    return filename\n",
    " \n",
    "def load_variable(filename):\n",
    "    f=open(filename,'rb')\n",
    "    r=pickle.load(f)\n",
    "    f.close()\n",
    "    return r\n",
    "\n",
    "save_variable(encoder1, 'models/s2s_60k+1k_encoder.pkl') \n",
    "save_variable(attn_decoder1, 'models/s2s_60k+1k_decoder.pkl') "
   ]
  },
  {
   "cell_type": "markdown",
   "metadata": {},
   "source": [
    "Evaluation for 70K model"
   ]
  },
  {
   "cell_type": "code",
   "execution_count": 47,
   "metadata": {},
   "outputs": [
    {
     "name": "stdout",
     "output_type": "stream",
     "text": [
      "> i would like to know if it is raining in schlanders on twenty sixth may\n",
      "= i would like to know if it is raining in schlanders on 26 . 5\n",
      "< i would like to know if it is raining in schlanders on 26 . 5 <EOS>\n",
      "\n",
      "> play the movie vienna empire dynasty and dream\n",
      "= play the movie vienna :  empire, dynasty and dream\n",
      "< play the movie inside el and - :   .  .  .  .  .  .  .  <EOS>\n",
      "\n",
      "> do you know if it will be windy on twenty second october\n",
      "= do you know if it will be windy on 22 . 10\n",
      "< do you know if it will be windy on 22 . 10 <EOS>\n",
      "\n",
      "> i do not want to listen to this\n",
      "= i do not want to listen to this\n",
      "< i do not want to listen to this <EOS>\n",
      "\n",
      "> can you tell me the temperature for on seventeenth august\n",
      "= can you tell me the temperature for on 17 . 8\n",
      "< can you tell me the temperature for on 17 . 8 <EOS>\n",
      "\n",
      "> search for radio bern one rock\n",
      "= search for radio bern1 rock\n",
      "< search for radio bern1 rock <EOS>\n",
      "\n",
      "> i want to turn on device swisscom box one\n",
      "= i want to turn on device swisscom box 1\n",
      "< i want to turn on device swisscom box 1 <EOS>\n",
      "\n",
      "> i would like to know if it is raining in brenzone on nineteenth september\n",
      "= i would like to know if it is raining in brenzone on 19 . 9\n",
      "< i would like to know if it is raining in brenzone on 19 . 9 <EOS>\n",
      "\n",
      "> is there thunder\n",
      "= is there thunder\n"
     ]
    },
    {
     "name": "stderr",
     "output_type": "stream",
     "text": [
      "/home/zhechensu/miniconda3/envs/pp/lib/python3.8/site-packages/torch/nn/modules/rnn.py:734: UserWarning: RNN module weights are not part of single contiguous chunk of memory. This means they need to be compacted at every call, possibly greatly increasing memory usage. To compact weights again call flatten_parameters(). (Triggered internally at  /opt/conda/conda-bld/pytorch_1595629411241/work/aten/src/ATen/native/cudnn/RNN.cpp:1264.)\n",
      "  result = _VF.gru(input, hx, self._flat_weights, self.bias, self.num_layers,\n"
     ]
    },
    {
     "name": "stdout",
     "output_type": "stream",
     "text": [
      "< is there thunder <EOS>\n",
      "\n",
      "> is it pouring\n",
      "= is it pouring\n",
      "< is it pouring <EOS>\n",
      "\n"
     ]
    }
   ],
   "source": [
    "name = '60k+1k' #{'70k', '60k+1k'}\n",
    "a = load_variable('models/s2s_{}_encoder.pkl'.format(name))\n",
    "b = load_variable('models/s2s_{}_decoder.pkl'.format(name))\n",
    "evaluateRandomly(a, b)"
   ]
  },
  {
   "cell_type": "code",
   "execution_count": null,
   "metadata": {},
   "outputs": [],
   "source": []
  }
 ],
 "metadata": {
  "kernelspec": {
   "display_name": "Python 3",
   "language": "python",
   "name": "python3"
  },
  "language_info": {
   "codemirror_mode": {
    "name": "ipython",
    "version": 3
   },
   "file_extension": ".py",
   "mimetype": "text/x-python",
   "name": "python",
   "nbconvert_exporter": "python",
   "pygments_lexer": "ipython3",
   "version": "3.8.5"
  }
 },
 "nbformat": 4,
 "nbformat_minor": 1
}
