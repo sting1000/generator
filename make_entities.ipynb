{
 "metadata": {
  "language_info": {
   "codemirror_mode": {
    "name": "ipython",
    "version": 3
   },
   "file_extension": ".py",
   "mimetype": "text/x-python",
   "name": "python",
   "nbconvert_exporter": "python",
   "pygments_lexer": "ipython3",
   "version": "3.8.3-final"
  },
  "orig_nbformat": 2,
  "kernelspec": {
   "name": "python3",
   "language": "python",
   "display_name": "Python 3"
  }
 },
 "nbformat": 4,
 "nbformat_minor": 2,
 "cells": [
  {
   "cell_type": "code",
   "execution_count": 8,
   "metadata": {},
   "outputs": [],
   "source": [
    "from entiityMaker.maker import maker_LocalsearchTimeStampEndTime, maker_RouterWiFiDuration, \\\n",
    "    maker_TvChannelPosition, maker_RadioChannelPosition, maker_Duration, maker_LocalsearchTimeStampStartDay, \\\n",
    "    maker_LocalsearchTimeStampStartTime\n",
    "%load_ext autoreload\n",
    "%autoreload 2"
   ]
  },
  {
   "cell_type": "code",
   "execution_count": 6,
   "outputs": [],
   "source": [
    "# amount: the amount of entities sample from {entity_amount} of entities\n",
    "# entity amount: number of different entities, None means choose all\n",
    "all_json_list = []\n",
    "all_json_list += maker_Duration(language_list=['de', 'en'], entity_amount=None, amount=300)\n",
    "all_json_list += maker_RouterWiFiDuration(language_list=['de', 'en'], entity_amount=None, amount=300)\n",
    "all_json_list += maker_TvChannelPosition(language_list=['de', 'en'], entity_amount=None, amount=None, max_range=100)\n",
    "all_json_list += maker_RadioChannelPosition(language_list=['de', 'en'], entity_amount=None, amount=None, max_range=100)\n",
    "all_json_list += maker_LocalsearchTimeStampEndTime(language_list=['de', 'en'], entity_amount=None, amount=300)\n",
    "all_json_list += maker_LocalsearchTimeStampStartTime(language_list=['de', 'en'], entity_amount=None, amount=300)\n",
    "all_json_list += maker_LocalsearchTimeStampStartDay(language_list=['de', 'en'], entity_amount=None, amount=300)"
   ],
   "metadata": {
    "collapsed": false,
    "pycharm": {
     "name": "#%%\n"
    }
   }
  },
  {
   "cell_type": "code",
   "execution_count": 7,
   "metadata": {},
   "outputs": [],
   "source": [
    "import json\n",
    "dest_file = 'data/entities_custom.json'\n",
    "with open(dest_file, 'w') as fout:\n",
    "    json.dump(all_json_list, fout)\n"
   ]
  },
  {
   "cell_type": "code",
   "execution_count": null,
   "outputs": [],
   "source": [
    "\n"
   ],
   "metadata": {
    "collapsed": false,
    "pycharm": {
     "name": "#%%\n"
    }
   }
  }
 ]
}