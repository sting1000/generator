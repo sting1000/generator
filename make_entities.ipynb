{
 "metadata": {
  "language_info": {
   "codemirror_mode": {
    "name": "ipython",
    "version": 3
   },
   "file_extension": ".py",
   "mimetype": "text/x-python",
   "name": "python",
   "nbconvert_exporter": "python",
   "pygments_lexer": "ipython3",
   "version": "3.8.3-final"
  },
  "orig_nbformat": 2,
  "kernelspec": {
   "name": "python3",
   "language": "python",
   "display_name": "Python 3"
  }
 },
 "nbformat": 4,
 "nbformat_minor": 2,
 "cells": [
  {
   "cell_type": "code",
   "execution_count": 1,
   "metadata": {},
   "outputs": [],
   "source": [
    "from entityMaker.maker import maker_LocalsearchTimeStampEndTime, maker_RouterWiFiDuration, \\\n",
    "    maker_TvChannelPosition, maker_RadioChannelPosition, maker_Duration, maker_LocalsearchTimeStampStartDay, \\\n",
    "    maker_LocalsearchTimeStampStartTime\n",
    "from entityMaker.helper import clean_movie, merge_entity_types\n",
    "import pandas as pd\n",
    "import json\n",
    "%load_ext autoreload\n",
    "%autoreload 2"
   ]
  },
  {
   "cell_type": "markdown",
   "source": [
    "## Read data"
   ],
   "metadata": {
    "collapsed": false,
    "pycharm": {
     "name": "#%% md\n"
    }
   }
  },
  {
   "cell_type": "code",
   "execution_count": 34,
   "outputs": [
    {
     "data": {
      "text/plain": "              value                 type language normalizedValue aliases\n0            Widnau  LocalsearchLocation       de          widnau      []\n1            Zurigo  LocalsearchLocation       it          zurigo      []\n2         Solothurn  LocalsearchLocation       de       solothurn      []\n3           Muttenz  LocalsearchLocation       de         muttenz      []\n4              Lyss  LocalsearchLocation       de            lyss      []\n...             ...                  ...      ...             ...     ...\n65466    baby dance   SmartHomeSceneName       en      baby dance      []\n65467     Fernseher   SmartHomeSceneName       de       fernseher      []\n65468  tutto spento   SmartHomeSceneName       it    tutto spento      []\n65469     lumières    SmartHomeSceneName       fr        lumières      []\n65470           zen   SmartHomeSceneName       en             zen      []\n\n[65471 rows x 5 columns]",
      "text/html": "<div>\n<style scoped>\n    .dataframe tbody tr th:only-of-type {\n        vertical-align: middle;\n    }\n\n    .dataframe tbody tr th {\n        vertical-align: top;\n    }\n\n    .dataframe thead th {\n        text-align: right;\n    }\n</style>\n<table border=\"1\" class=\"dataframe\">\n  <thead>\n    <tr style=\"text-align: right;\">\n      <th></th>\n      <th>value</th>\n      <th>type</th>\n      <th>language</th>\n      <th>normalizedValue</th>\n      <th>aliases</th>\n    </tr>\n  </thead>\n  <tbody>\n    <tr>\n      <th>0</th>\n      <td>Widnau</td>\n      <td>LocalsearchLocation</td>\n      <td>de</td>\n      <td>widnau</td>\n      <td>[]</td>\n    </tr>\n    <tr>\n      <th>1</th>\n      <td>Zurigo</td>\n      <td>LocalsearchLocation</td>\n      <td>it</td>\n      <td>zurigo</td>\n      <td>[]</td>\n    </tr>\n    <tr>\n      <th>2</th>\n      <td>Solothurn</td>\n      <td>LocalsearchLocation</td>\n      <td>de</td>\n      <td>solothurn</td>\n      <td>[]</td>\n    </tr>\n    <tr>\n      <th>3</th>\n      <td>Muttenz</td>\n      <td>LocalsearchLocation</td>\n      <td>de</td>\n      <td>muttenz</td>\n      <td>[]</td>\n    </tr>\n    <tr>\n      <th>4</th>\n      <td>Lyss</td>\n      <td>LocalsearchLocation</td>\n      <td>de</td>\n      <td>lyss</td>\n      <td>[]</td>\n    </tr>\n    <tr>\n      <th>...</th>\n      <td>...</td>\n      <td>...</td>\n      <td>...</td>\n      <td>...</td>\n      <td>...</td>\n    </tr>\n    <tr>\n      <th>65466</th>\n      <td>baby dance</td>\n      <td>SmartHomeSceneName</td>\n      <td>en</td>\n      <td>baby dance</td>\n      <td>[]</td>\n    </tr>\n    <tr>\n      <th>65467</th>\n      <td>Fernseher</td>\n      <td>SmartHomeSceneName</td>\n      <td>de</td>\n      <td>fernseher</td>\n      <td>[]</td>\n    </tr>\n    <tr>\n      <th>65468</th>\n      <td>tutto spento</td>\n      <td>SmartHomeSceneName</td>\n      <td>it</td>\n      <td>tutto spento</td>\n      <td>[]</td>\n    </tr>\n    <tr>\n      <th>65469</th>\n      <td>lumières</td>\n      <td>SmartHomeSceneName</td>\n      <td>fr</td>\n      <td>lumières</td>\n      <td>[]</td>\n    </tr>\n    <tr>\n      <th>65470</th>\n      <td>zen</td>\n      <td>SmartHomeSceneName</td>\n      <td>en</td>\n      <td>zen</td>\n      <td>[]</td>\n    </tr>\n  </tbody>\n</table>\n<p>65471 rows × 5 columns</p>\n</div>"
     },
     "execution_count": 34,
     "metadata": {},
     "output_type": "execute_result"
    }
   ],
   "source": [
    "entities = pd.read_json(\"data/entities.json\")\n",
    "entities = entities[['value', 'type', 'language', 'normalizedValue', 'aliases']]\n",
    "entities"
   ],
   "metadata": {
    "collapsed": false,
    "pycharm": {
     "name": "#%%\n"
    }
   }
  },
  {
   "cell_type": "markdown",
   "source": [
    "## Merge different types in entities"
   ],
   "metadata": {
    "collapsed": false,
    "pycharm": {
     "name": "#%% md\n"
    }
   }
  },
  {
   "cell_type": "code",
   "execution_count": null,
   "outputs": [],
   "source": [
    "li = [\"VodName\", \"SeriesName\", \"BroadcastName\"]\n",
    "entities_with_collection = merge_entity_types(entities, li)\n",
    "entities_with_collection"
   ],
   "metadata": {
    "collapsed": false,
    "pycharm": {
     "name": "#%%\n"
    }
   }
  },
  {
   "cell_type": "markdown",
   "source": [
    "## Read custom entities\n",
    "Since not all entity types in template are included in entity table, such as channel num/ date/ time,\n",
    "we need to create them according to language specific rules."
   ],
   "metadata": {
    "collapsed": false
   }
  },
  {
   "cell_type": "code",
   "execution_count": null,
   "outputs": [],
   "source": [
    "# amount: the amount of entities sample from {entity_amount} of entities\n",
    "# entity amount: number of different entities, None means choose all\n",
    "all_json_list = []\n",
    "all_json_list += maker_Duration(language_list=['de', 'en'], entity_amount=None, amount=300)\n",
    "all_json_list += maker_RouterWiFiDuration(language_list=['de', 'en'], entity_amount=None, amount=300)\n",
    "all_json_list += maker_TvChannelPosition(language_list=['de', 'en'], entity_amount=None, amount=None, max_range=100)\n",
    "all_json_list += maker_RadioChannelPosition(language_list=['de', 'en'], entity_amount=None, amount=None, max_range=100)\n",
    "all_json_list += maker_LocalsearchTimeStampEndTime(language_list=['de', 'en'], entity_amount=None, amount=300)\n",
    "all_json_list += maker_LocalsearchTimeStampStartTime(language_list=['de', 'en'], entity_amount=None, amount=300)\n",
    "all_json_list += maker_LocalsearchTimeStampStartDay(language_list=['de', 'en'], entity_amount=None, amount=300)"
   ],
   "metadata": {
    "collapsed": false,
    "pycharm": {
     "name": "#%%\n"
    }
   }
  },
  {
   "cell_type": "markdown",
   "source": [
    "## Save file"
   ],
   "metadata": {
    "collapsed": false
   }
  },
  {
   "cell_type": "code",
   "execution_count": null,
   "outputs": [],
   "source": [
    "dest_file = 'data/entities_custom.json'\n",
    "with open(dest_file, 'w') as fout:\n",
    "    json.dump(all_json_list, fout)\n",
    "# entities_custom\n",
    "entities_custom = pd.read_json(\"data/entities_custom.json\")\n",
    "entities_meta = pd.concat([entities_with_collection, entities_custom]).reset_index(drop=True)\n",
    "entities_meta"
   ],
   "metadata": {
    "collapsed": false,
    "pycharm": {
     "name": "#%%\n"
    }
   }
  },
  {
   "cell_type": "code",
   "execution_count": null,
   "outputs": [],
   "source": [
    "entities_meta.to_json(\"data/entities_meta.json\")"
   ],
   "metadata": {
    "collapsed": false,
    "pycharm": {
     "name": "#%%\n"
    }
   }
  },
  {
   "cell_type": "code",
   "execution_count": null,
   "outputs": [],
   "source": [],
   "metadata": {
    "collapsed": false,
    "pycharm": {
     "name": "#%%\n"
    }
   }
  },
  {
   "cell_type": "code",
   "execution_count": null,
   "outputs": [],
   "source": [
    "entities_meta.to_json(\"data/entities_meta.json\")\n"
   ],
   "metadata": {
    "collapsed": false,
    "pycharm": {
     "name": "#%%\n"
    }
   }
  },
  {
   "cell_type": "markdown",
   "source": [
    "## Read custom entities\n",
    "Since not all entity types in template are included in entity table, such as channel num/ date/ time,\n",
    "we need to create them according to language specific rules."
   ],
   "metadata": {
    "collapsed": false
   }
  },
  {
   "cell_type": "code",
   "execution_count": null,
   "outputs": [],
   "source": [
    "# amount: the amount of entities sample from {entity_amount} of entities\n",
    "# entity amount: number of different entities, None means choose all\n",
    "all_json_list = []\n",
    "all_json_list += maker_Duration(language_list=['de', 'en'], entity_amount=None, amount=300)\n",
    "all_json_list += maker_RouterWiFiDuration(language_list=['de', 'en'], entity_amount=None, amount=300)\n",
    "all_json_list += maker_TvChannelPosition(language_list=['de', 'en'], entity_amount=None, amount=None, max_range=100)\n",
    "all_json_list += maker_RadioChannelPosition(language_list=['de', 'en'], entity_amount=None, amount=None, max_range=100)\n",
    "all_json_list += maker_LocalsearchTimeStampEndTime(language_list=['de', 'en'], entity_amount=None, amount=300)\n",
    "all_json_list += maker_LocalsearchTimeStampStartTime(language_list=['de', 'en'], entity_amount=None, amount=300)\n",
    "all_json_list += maker_LocalsearchTimeStampStartDay(language_list=['de', 'en'], entity_amount=None, amount=300)"
   ],
   "metadata": {
    "collapsed": false,
    "pycharm": {
     "name": "#%%\n"
    }
   }
  },
  {
   "cell_type": "markdown",
   "source": [
    "## Save file"
   ],
   "metadata": {
    "collapsed": false
   }
  },
  {
   "cell_type": "code",
   "execution_count": null,
   "outputs": [],
   "source": [
    "dest_file = 'data/entities_custom.json'\n",
    "with open(dest_file, 'w') as fout:\n",
    "    json.dump(all_json_list, fout)\n",
    "# entities_custom\n",
    "entities_custom = pd.read_json(\"data/entities_custom.json\")\n",
    "entities_meta = pd.concat([entities_with_collection, entities_custom]).reset_index(drop=True)\n",
    "entities_meta"
   ],
   "metadata": {
    "collapsed": false,
    "pycharm": {
     "name": "#%%\n"
    }
   }
  },
  {
   "cell_type": "code",
   "execution_count": null,
   "outputs": [],
   "source": [
    "entities_meta.to_json(\"data/entities_meta.json\")\n"
   ],
   "metadata": {
    "collapsed": false,
    "pycharm": {
     "name": "#%%\n"
    }
   }
  },
  {
   "cell_type": "code",
   "execution_count": null,
   "outputs": [],
   "source": [
    "entities_meta.to_json(\"data/entities_meta.json\")\n"
   ],
   "metadata": {
    "collapsed": false,
    "pycharm": {
     "name": "#%%\n"
    }
   }
  },
  {
   "cell_type": "markdown",
   "source": [
    "## Read custom entities\n",
    "Since not all entity types in template are included in entity table, such as channel num/ date/ time,\n",
    "we need to create them according to language specific rules."
   ],
   "metadata": {
    "collapsed": false
   }
  },
  {
   "cell_type": "code",
   "execution_count": null,
   "outputs": [],
   "source": [
    "# amount: the amount of entities sample from {entity_amount} of entities\n",
    "# entity amount: number of different entities, None means choose all\n",
    "all_json_list = []\n",
    "all_json_list += maker_Duration(language_list=['de', 'en'], entity_amount=None, amount=300)\n",
    "all_json_list += maker_RouterWiFiDuration(language_list=['de', 'en'], entity_amount=None, amount=300)\n",
    "all_json_list += maker_TvChannelPosition(language_list=['de', 'en'], entity_amount=None, amount=None, max_range=100)\n",
    "all_json_list += maker_RadioChannelPosition(language_list=['de', 'en'], entity_amount=None, amount=None, max_range=100)\n",
    "all_json_list += maker_LocalsearchTimeStampEndTime(language_list=['de', 'en'], entity_amount=None, amount=300)\n",
    "all_json_list += maker_LocalsearchTimeStampStartTime(language_list=['de', 'en'], entity_amount=None, amount=300)\n",
    "all_json_list += maker_LocalsearchTimeStampStartDay(language_list=['de', 'en'], entity_amount=None, amount=300)"
   ],
   "metadata": {
    "collapsed": false,
    "pycharm": {
     "name": "#%%\n"
    }
   }
  },
  {
   "cell_type": "markdown",
   "source": [
    "## Save file"
   ],
   "metadata": {
    "collapsed": false
   }
  },
  {
   "cell_type": "code",
   "execution_count": null,
   "outputs": [],
   "source": [
    "dest_file = 'data/entities_custom.json'\n",
    "with open(dest_file, 'w') as fout:\n",
    "    json.dump(all_json_list, fout)\n",
    "# entities_custom\n",
    "entities_custom = pd.read_json(\"data/entities_custom.json\")\n",
    "entities_meta = pd.concat([entities_with_collection, entities_custom]).reset_index(drop=True)\n",
    "entities_meta"
   ],
   "metadata": {
    "collapsed": false,
    "pycharm": {
     "name": "#%%\n"
    }
   }
  },
  {
   "cell_type": "code",
   "execution_count": null,
   "outputs": [],
   "source": [
    "entities_meta.to_json(\"data/entities_meta.json\")\n"
   ],
   "metadata": {
    "collapsed": false,
    "pycharm": {
     "name": "#%%\n"
    }
   }
  },
  {
   "cell_type": "code",
   "execution_count": null,
   "outputs": [],
   "source": [
    "entities_meta.to_json(\"data/entities_meta.json\")\n"
   ],
   "metadata": {
    "collapsed": false,
    "pycharm": {
     "name": "#%%\n"
    }
   }
  },
  {
   "cell_type": "markdown",
   "source": [
    "## Read custom entities\n",
    "Since not all entity types in template are included in entity table, such as channel num/ date/ time,\n",
    "we need to create them according to language specific rules."
   ],
   "metadata": {
    "collapsed": false
   }
  },
  {
   "cell_type": "code",
   "execution_count": null,
   "outputs": [],
   "source": [
    "# amount: the amount of entities sample from {entity_amount} of entities\n",
    "# entity amount: number of different entities, None means choose all\n",
    "all_json_list = []\n",
    "all_json_list += maker_Duration(language_list=['de', 'en'], entity_amount=None, amount=300)\n",
    "all_json_list += maker_RouterWiFiDuration(language_list=['de', 'en'], entity_amount=None, amount=300)\n",
    "all_json_list += maker_TvChannelPosition(language_list=['de', 'en'], entity_amount=None, amount=None, max_range=100)\n",
    "all_json_list += maker_RadioChannelPosition(language_list=['de', 'en'], entity_amount=None, amount=None, max_range=100)\n",
    "all_json_list += maker_LocalsearchTimeStampEndTime(language_list=['de', 'en'], entity_amount=None, amount=300)\n",
    "all_json_list += maker_LocalsearchTimeStampStartTime(language_list=['de', 'en'], entity_amount=None, amount=300)\n",
    "all_json_list += maker_LocalsearchTimeStampStartDay(language_list=['de', 'en'], entity_amount=None, amount=300)"
   ],
   "metadata": {
    "collapsed": false,
    "pycharm": {
     "name": "#%%\n"
    }
   }
  },
  {
   "cell_type": "markdown",
   "source": [
    "## Save file"
   ],
   "metadata": {
    "collapsed": false
   }
  },
  {
   "cell_type": "code",
   "execution_count": null,
   "outputs": [],
   "source": [
    "dest_file = 'data/entities_custom.json'\n",
    "with open(dest_file, 'w') as fout:\n",
    "    json.dump(all_json_list, fout)\n",
    "# entities_custom\n",
    "entities_custom = pd.read_json(\"data/entities_custom.json\")\n",
    "entities_meta = pd.concat([entities_with_collection, entities_custom]).reset_index(drop=True)\n",
    "entities_meta"
   ],
   "metadata": {
    "collapsed": false,
    "pycharm": {
     "name": "#%%\n"
    }
   }
  },
  {
   "cell_type": "code",
   "execution_count": null,
   "outputs": [],
   "source": [
    "entities_meta.to_json(\"data/entities_meta.json\")\n"
   ],
   "metadata": {
    "collapsed": false,
    "pycharm": {
     "name": "#%%\n"
    }
   }
  },
  {
   "cell_type": "code",
   "execution_count": null,
   "outputs": [],
   "source": [
    "entities_meta.to_json(\"data/entities_meta.json\")\n"
   ],
   "metadata": {
    "collapsed": false,
    "pycharm": {
     "name": "#%%\n"
    }
   }
  },
  {
   "cell_type": "markdown",
   "source": [
    "## Read custom entities\n",
    "Since not all entity types in template are included in entity table, such as channel num/ date/ time,\n",
    "we need to create them according to language specific rules."
   ],
   "metadata": {
    "collapsed": false
   }
  },
  {
   "cell_type": "code",
   "execution_count": null,
   "outputs": [],
   "source": [
    "# amount: the amount of entities sample from {entity_amount} of entities\n",
    "# entity amount: number of different entities, None means choose all\n",
    "all_json_list = []\n",
    "all_json_list += maker_Duration(language_list=['de', 'en'], entity_amount=None, amount=300)\n",
    "all_json_list += maker_RouterWiFiDuration(language_list=['de', 'en'], entity_amount=None, amount=300)\n",
    "all_json_list += maker_TvChannelPosition(language_list=['de', 'en'], entity_amount=None, amount=None, max_range=100)\n",
    "all_json_list += maker_RadioChannelPosition(language_list=['de', 'en'], entity_amount=None, amount=None, max_range=100)\n",
    "all_json_list += maker_LocalsearchTimeStampEndTime(language_list=['de', 'en'], entity_amount=None, amount=300)\n",
    "all_json_list += maker_LocalsearchTimeStampStartTime(language_list=['de', 'en'], entity_amount=None, amount=300)\n",
    "all_json_list += maker_LocalsearchTimeStampStartDay(language_list=['de', 'en'], entity_amount=None, amount=300)"
   ],
   "metadata": {
    "collapsed": false,
    "pycharm": {
     "name": "#%%\n"
    }
   }
  },
  {
   "cell_type": "markdown",
   "source": [
    "## Save file"
   ],
   "metadata": {
    "collapsed": false
   }
  },
  {
   "cell_type": "code",
   "execution_count": null,
   "outputs": [],
   "source": [
    "dest_file = 'data/entities_custom.json'\n",
    "with open(dest_file, 'w') as fout:\n",
    "    json.dump(all_json_list, fout)\n",
    "# entities_custom\n",
    "entities_custom = pd.read_json(\"data/entities_custom.json\")\n",
    "entities_meta = pd.concat([entities_with_collection, entities_custom]).reset_index(drop=True)\n",
    "entities_meta"
   ],
   "metadata": {
    "collapsed": false,
    "pycharm": {
     "name": "#%%\n"
    }
   }
  },
  {
   "cell_type": "code",
   "execution_count": null,
   "outputs": [],
   "source": [
    "entities_meta.to_json(\"data/entities_meta.json\")\n"
   ],
   "metadata": {
    "collapsed": false,
    "pycharm": {
     "name": "#%%\n"
    }
   }
  },
  {
   "cell_type": "code",
   "execution_count": null,
   "outputs": [],
   "source": [
    "entities_meta.to_json(\"data/entities_meta.json\")\n"
   ],
   "metadata": {
    "collapsed": false,
    "pycharm": {
     "name": "#%%\n"
    }
   }
  },
  {
   "cell_type": "markdown",
   "source": [
    "## Read custom entities\n",
    "Since not all entity types in template are included in entity table, such as channel num/ date/ time,\n",
    "we need to create them according to language specific rules."
   ],
   "metadata": {
    "collapsed": false
   }
  },
  {
   "cell_type": "code",
   "execution_count": null,
   "outputs": [],
   "source": [
    "# amount: the amount of entities sample from {entity_amount} of entities\n",
    "# entity amount: number of different entities, None means choose all\n",
    "all_json_list = []\n",
    "all_json_list += maker_Duration(language_list=['de', 'en'], entity_amount=None, amount=300)\n",
    "all_json_list += maker_RouterWiFiDuration(language_list=['de', 'en'], entity_amount=None, amount=300)\n",
    "all_json_list += maker_TvChannelPosition(language_list=['de', 'en'], entity_amount=None, amount=None, max_range=100)\n",
    "all_json_list += maker_RadioChannelPosition(language_list=['de', 'en'], entity_amount=None, amount=None, max_range=100)\n",
    "all_json_list += maker_LocalsearchTimeStampEndTime(language_list=['de', 'en'], entity_amount=None, amount=300)\n",
    "all_json_list += maker_LocalsearchTimeStampStartTime(language_list=['de', 'en'], entity_amount=None, amount=300)\n",
    "all_json_list += maker_LocalsearchTimeStampStartDay(language_list=['de', 'en'], entity_amount=None, amount=300)"
   ],
   "metadata": {
    "collapsed": false,
    "pycharm": {
     "name": "#%%\n"
    }
   }
  },
  {
   "cell_type": "markdown",
   "source": [
    "## Save file"
   ],
   "metadata": {
    "collapsed": false
   }
  },
  {
   "cell_type": "code",
   "execution_count": null,
   "outputs": [],
   "source": [
    "dest_file = 'data/entities_custom.json'\n",
    "with open(dest_file, 'w') as fout:\n",
    "    json.dump(all_json_list, fout)\n",
    "# entities_custom\n",
    "entities_custom = pd.read_json(\"data/entities_custom.json\")\n",
    "entities_meta = pd.concat([entities_with_collection, entities_custom]).reset_index(drop=True)\n",
    "entities_meta"
   ],
   "metadata": {
    "collapsed": false,
    "pycharm": {
     "name": "#%%\n"
    }
   }
  },
  {
   "cell_type": "code",
   "execution_count": null,
   "outputs": [],
   "source": [
    "entities_meta.to_json(\"data/entities_meta.json\")\n"
   ],
   "metadata": {
    "collapsed": false,
    "pycharm": {
     "name": "#%%\n"
    }
   }
  },
  {
   "cell_type": "code",
   "execution_count": null,
   "outputs": [],
   "source": [
    "entities_meta.to_json(\"data/entities_meta.json\")\n"
   ],
   "metadata": {
    "collapsed": false,
    "pycharm": {
     "name": "#%%\n"
    }
   }
  },
  {
   "cell_type": "markdown",
   "source": [
    "## Read custom entities\n",
    "Since not all entity types in template are included in entity table, such as channel num/ date/ time,\n",
    "we need to create them according to language specific rules."
   ],
   "metadata": {
    "collapsed": false
   }
  },
  {
   "cell_type": "code",
   "execution_count": null,
   "outputs": [],
   "source": [
    "# amount: the amount of entities sample from {entity_amount} of entities\n",
    "# entity amount: number of different entities, None means choose all\n",
    "all_json_list = []\n",
    "all_json_list += maker_Duration(language_list=['de', 'en'], entity_amount=None, amount=300)\n",
    "all_json_list += maker_RouterWiFiDuration(language_list=['de', 'en'], entity_amount=None, amount=300)\n",
    "all_json_list += maker_TvChannelPosition(language_list=['de', 'en'], entity_amount=None, amount=None, max_range=100)\n",
    "all_json_list += maker_RadioChannelPosition(language_list=['de', 'en'], entity_amount=None, amount=None, max_range=100)\n",
    "all_json_list += maker_LocalsearchTimeStampEndTime(language_list=['de', 'en'], entity_amount=None, amount=300)\n",
    "all_json_list += maker_LocalsearchTimeStampStartTime(language_list=['de', 'en'], entity_amount=None, amount=300)\n",
    "all_json_list += maker_LocalsearchTimeStampStartDay(language_list=['de', 'en'], entity_amount=None, amount=300)"
   ],
   "metadata": {
    "collapsed": false,
    "pycharm": {
     "name": "#%%\n"
    }
   }
  },
  {
   "cell_type": "markdown",
   "source": [
    "## Save file"
   ],
   "metadata": {
    "collapsed": false
   }
  },
  {
   "cell_type": "code",
   "execution_count": null,
   "outputs": [],
   "source": [
    "dest_file = 'data/entities_custom.json'\n",
    "with open(dest_file, 'w') as fout:\n",
    "    json.dump(all_json_list, fout)\n",
    "# entities_custom\n",
    "entities_custom = pd.read_json(\"data/entities_custom.json\")\n",
    "entities_meta = pd.concat([entities_with_collection, entities_custom]).reset_index(drop=True)\n",
    "entities_meta"
   ],
   "metadata": {
    "collapsed": false,
    "pycharm": {
     "name": "#%%\n"
    }
   }
  },
  {
   "cell_type": "code",
   "execution_count": null,
   "outputs": [],
   "source": [
    "entities_meta.to_json(\"data/entities_meta.json\")\n"
   ],
   "metadata": {
    "collapsed": false,
    "pycharm": {
     "name": "#%%\n"
    }
   }
  },
  {
   "cell_type": "code",
   "execution_count": 35,
   "outputs": [
    {
     "data": {
      "text/plain": "                                            value                 type  \\\n0                                          Widnau  LocalsearchLocation   \n1                                          Zurigo  LocalsearchLocation   \n2                                       Solothurn  LocalsearchLocation   \n3                                         Muttenz  LocalsearchLocation   \n4                                            Lyss  LocalsearchLocation   \n...                                           ...                  ...   \n135095  400 Thunder Australian Drag Racing Series        BroadcastName   \n135096                                   Missions        BroadcastName   \n135097                                   Missions        BroadcastName   \n135098                              Space Escapes        BroadcastName   \n135099    IMSA WeatherTech SportsCar Championship        BroadcastName   \n\n       language                                    normalizedValue aliases  \n0            de                                             widnau      []  \n1            it                                             zurigo      []  \n2            de                                          solothurn      []  \n3            de                                            muttenz      []  \n4            de                                               lyss      []  \n...         ...                                                ...     ...  \n135095       de  vierhundert thunder australian drag racing series      []  \n135096       en                                           missions      []  \n135097       de                                           missions      []  \n135098       fr                                      space escapes      []  \n135099       fr            IMSA weathertech sportscar championship      []  \n\n[135100 rows x 5 columns]",
      "text/html": "<div>\n<style scoped>\n    .dataframe tbody tr th:only-of-type {\n        vertical-align: middle;\n    }\n\n    .dataframe tbody tr th {\n        vertical-align: top;\n    }\n\n    .dataframe thead th {\n        text-align: right;\n    }\n</style>\n<table border=\"1\" class=\"dataframe\">\n  <thead>\n    <tr style=\"text-align: right;\">\n      <th></th>\n      <th>value</th>\n      <th>type</th>\n      <th>language</th>\n      <th>normalizedValue</th>\n      <th>aliases</th>\n    </tr>\n  </thead>\n  <tbody>\n    <tr>\n      <th>0</th>\n      <td>Widnau</td>\n      <td>LocalsearchLocation</td>\n      <td>de</td>\n      <td>widnau</td>\n      <td>[]</td>\n    </tr>\n    <tr>\n      <th>1</th>\n      <td>Zurigo</td>\n      <td>LocalsearchLocation</td>\n      <td>it</td>\n      <td>zurigo</td>\n      <td>[]</td>\n    </tr>\n    <tr>\n      <th>2</th>\n      <td>Solothurn</td>\n      <td>LocalsearchLocation</td>\n      <td>de</td>\n      <td>solothurn</td>\n      <td>[]</td>\n    </tr>\n    <tr>\n      <th>3</th>\n      <td>Muttenz</td>\n      <td>LocalsearchLocation</td>\n      <td>de</td>\n      <td>muttenz</td>\n      <td>[]</td>\n    </tr>\n    <tr>\n      <th>4</th>\n      <td>Lyss</td>\n      <td>LocalsearchLocation</td>\n      <td>de</td>\n      <td>lyss</td>\n      <td>[]</td>\n    </tr>\n    <tr>\n      <th>...</th>\n      <td>...</td>\n      <td>...</td>\n      <td>...</td>\n      <td>...</td>\n      <td>...</td>\n    </tr>\n    <tr>\n      <th>135095</th>\n      <td>400 Thunder Australian Drag Racing Series</td>\n      <td>BroadcastName</td>\n      <td>de</td>\n      <td>vierhundert thunder australian drag racing series</td>\n      <td>[]</td>\n    </tr>\n    <tr>\n      <th>135096</th>\n      <td>Missions</td>\n      <td>BroadcastName</td>\n      <td>en</td>\n      <td>missions</td>\n      <td>[]</td>\n    </tr>\n    <tr>\n      <th>135097</th>\n      <td>Missions</td>\n      <td>BroadcastName</td>\n      <td>de</td>\n      <td>missions</td>\n      <td>[]</td>\n    </tr>\n    <tr>\n      <th>135098</th>\n      <td>Space Escapes</td>\n      <td>BroadcastName</td>\n      <td>fr</td>\n      <td>space escapes</td>\n      <td>[]</td>\n    </tr>\n    <tr>\n      <th>135099</th>\n      <td>IMSA WeatherTech SportsCar Championship</td>\n      <td>BroadcastName</td>\n      <td>fr</td>\n      <td>IMSA weathertech sportscar championship</td>\n      <td>[]</td>\n    </tr>\n  </tbody>\n</table>\n<p>135100 rows × 5 columns</p>\n</div>"
     },
     "execution_count": 35,
     "metadata": {},
     "output_type": "execute_result"
    }
   ],
   "source": [
    "entities_meta.to_json(\"data/entities_meta.json\")\n"
   ],
   "metadata": {
    "collapsed": false,
    "pycharm": {
     "name": "#%%\n"
    }
   }
  },
  {
   "cell_type": "markdown",
   "source": [
    "## Read custom entities\n",
    "Since not all entity types in template are included in entity table, such as channel num/ date/ time,\n",
    "we need to create them according to language specific rules."
   ],
   "metadata": {
    "collapsed": false,
    "pycharm": {
     "name": "#%% md\n"
    }
   }
  },
  {
   "cell_type": "code",
   "execution_count": 26,
   "outputs": [],
   "source": [
    "# amount: the amount of entities sample from {entity_amount} of entities\n",
    "# entity amount: number of different entities, None means choose all\n",
    "all_json_list = []\n",
    "all_json_list += maker_Duration(language_list=['de', 'en'], entity_amount=None, amount=300)\n",
    "all_json_list += maker_RouterWiFiDuration(language_list=['de', 'en'], entity_amount=None, amount=300)\n",
    "all_json_list += maker_TvChannelPosition(language_list=['de', 'en'], entity_amount=None, amount=None, max_range=100)\n",
    "all_json_list += maker_RadioChannelPosition(language_list=['de', 'en'], entity_amount=None, amount=None, max_range=100)\n",
    "all_json_list += maker_LocalsearchTimeStampEndTime(language_list=['de', 'en'], entity_amount=None, amount=300)\n",
    "all_json_list += maker_LocalsearchTimeStampStartTime(language_list=['de', 'en'], entity_amount=None, amount=300)\n",
    "all_json_list += maker_LocalsearchTimeStampStartDay(language_list=['de', 'en'], entity_amount=None, amount=300)"
   ],
   "metadata": {
    "collapsed": false,
    "pycharm": {
     "name": "#%%\n"
    }
   }
  },
  {
   "cell_type": "markdown",
   "source": [
    "## Save file"
   ],
   "metadata": {
    "collapsed": false,
    "pycharm": {
     "name": "#%% md\n"
    }
   }
  },
  {
   "cell_type": "code",
   "execution_count": 37,
   "metadata": {},
   "outputs": [
    {
     "data": {
      "text/plain": "            value                          type language  \\\n0          Widnau           LocalsearchLocation       de   \n1          Zurigo           LocalsearchLocation       it   \n2       Solothurn           LocalsearchLocation       de   \n3         Muttenz           LocalsearchLocation       de   \n4            Lyss           LocalsearchLocation       de   \n...           ...                           ...      ...   \n136991      11.27  LocalsearchTimeStampStartDay       de   \n136992       12.3  LocalsearchTimeStampStartDay       de   \n136993       3.30  LocalsearchTimeStampStartDay       de   \n136994       9.20  LocalsearchTimeStampStartDay       en   \n136995       1.28  LocalsearchTimeStampStartDay       en   \n\n                     normalizedValue aliases  \n0                             widnau      []  \n1                             zurigo      []  \n2                          solothurn      []  \n3                            muttenz      []  \n4                               lyss      []  \n...                              ...     ...  \n136991  siebenundzwanzigste november      []  \n136992                  zwölfte märz      []  \n136993              dreissigste märz      []  \n136994           twentieth september      []  \n136995         twenty eighth january      []  \n\n[136996 rows x 5 columns]",
      "text/html": "<div>\n<style scoped>\n    .dataframe tbody tr th:only-of-type {\n        vertical-align: middle;\n    }\n\n    .dataframe tbody tr th {\n        vertical-align: top;\n    }\n\n    .dataframe thead th {\n        text-align: right;\n    }\n</style>\n<table border=\"1\" class=\"dataframe\">\n  <thead>\n    <tr style=\"text-align: right;\">\n      <th></th>\n      <th>value</th>\n      <th>type</th>\n      <th>language</th>\n      <th>normalizedValue</th>\n      <th>aliases</th>\n    </tr>\n  </thead>\n  <tbody>\n    <tr>\n      <th>0</th>\n      <td>Widnau</td>\n      <td>LocalsearchLocation</td>\n      <td>de</td>\n      <td>widnau</td>\n      <td>[]</td>\n    </tr>\n    <tr>\n      <th>1</th>\n      <td>Zurigo</td>\n      <td>LocalsearchLocation</td>\n      <td>it</td>\n      <td>zurigo</td>\n      <td>[]</td>\n    </tr>\n    <tr>\n      <th>2</th>\n      <td>Solothurn</td>\n      <td>LocalsearchLocation</td>\n      <td>de</td>\n      <td>solothurn</td>\n      <td>[]</td>\n    </tr>\n    <tr>\n      <th>3</th>\n      <td>Muttenz</td>\n      <td>LocalsearchLocation</td>\n      <td>de</td>\n      <td>muttenz</td>\n      <td>[]</td>\n    </tr>\n    <tr>\n      <th>4</th>\n      <td>Lyss</td>\n      <td>LocalsearchLocation</td>\n      <td>de</td>\n      <td>lyss</td>\n      <td>[]</td>\n    </tr>\n    <tr>\n      <th>...</th>\n      <td>...</td>\n      <td>...</td>\n      <td>...</td>\n      <td>...</td>\n      <td>...</td>\n    </tr>\n    <tr>\n      <th>136991</th>\n      <td>11.27</td>\n      <td>LocalsearchTimeStampStartDay</td>\n      <td>de</td>\n      <td>siebenundzwanzigste november</td>\n      <td>[]</td>\n    </tr>\n    <tr>\n      <th>136992</th>\n      <td>12.3</td>\n      <td>LocalsearchTimeStampStartDay</td>\n      <td>de</td>\n      <td>zwölfte märz</td>\n      <td>[]</td>\n    </tr>\n    <tr>\n      <th>136993</th>\n      <td>3.30</td>\n      <td>LocalsearchTimeStampStartDay</td>\n      <td>de</td>\n      <td>dreissigste märz</td>\n      <td>[]</td>\n    </tr>\n    <tr>\n      <th>136994</th>\n      <td>9.20</td>\n      <td>LocalsearchTimeStampStartDay</td>\n      <td>en</td>\n      <td>twentieth september</td>\n      <td>[]</td>\n    </tr>\n    <tr>\n      <th>136995</th>\n      <td>1.28</td>\n      <td>LocalsearchTimeStampStartDay</td>\n      <td>en</td>\n      <td>twenty eighth january</td>\n      <td>[]</td>\n    </tr>\n  </tbody>\n</table>\n<p>136996 rows × 5 columns</p>\n</div>"
     },
     "execution_count": 37,
     "metadata": {},
     "output_type": "execute_result"
    }
   ],
   "source": [
    "dest_file = 'data/entities_custom.json'\n",
    "with open(dest_file, 'w') as fout:\n",
    "    json.dump(all_json_list, fout)\n",
    "# entities_custom\n",
    "entities_custom = pd.read_json(\"data/entities_custom.json\")\n",
    "entities_meta = pd.concat([entities_with_collection, entities_custom]).reset_index(drop=True)\n",
    "entities_meta"
   ]
  },
  {
   "cell_type": "code",
   "execution_count": 38,
   "outputs": [],
   "source": [
    "entities_meta.to_json(\"data/entities_meta.json\")\n"
   ],
   "metadata": {
    "collapsed": false,
    "pycharm": {
     "name": "#%%\n"
    }
   }
  }
 ]
}