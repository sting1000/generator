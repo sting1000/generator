{
 "metadata": {
  "language_info": {
   "codemirror_mode": {
    "name": "ipython",
    "version": 3
   },
   "file_extension": ".py",
   "mimetype": "text/x-python",
   "name": "python",
   "nbconvert_exporter": "python",
   "pygments_lexer": "ipython3",
   "version": "3.8.3-final"
  },
  "orig_nbformat": 2,
  "kernelspec": {
   "name": "python3",
   "language": "python",
   "display_name": "Python 3"
  }
 },
 "nbformat": 4,
 "nbformat_minor": 2,
 "cells": [
  {
   "cell_type": "code",
   "execution_count": null,
   "outputs": [],
   "source": [
    "from entityMaker.maker import maker_LocalsearchTimeStampEndTime, maker_RouterWiFiDuration, \\\n",
    "    maker_TvChannelPosition, maker_RadioChannelPosition, maker_Duration, maker_LocalsearchTimeStampStartDay, \\\n",
    "    maker_LocalsearchTimeStampStartTime\n",
    "from entityMaker.helper import clean_movie, merge_entity_types\n",
    "import pandas as pd\n",
    "import json\n",
    "%load_ext autoreload\n",
    "%autoreload 2"
   ],
   "metadata": {
    "collapsed": false,
    "pycharm": {
     "name": "#%%\n"
    }
   }
  },
  {
   "cell_type": "markdown",
   "source": [
    "## Read data"
   ],
   "metadata": {
    "collapsed": false
   }
  },
  {
   "cell_type": "code",
   "execution_count": null,
   "outputs": [],
   "source": [
    "entities = pd.read_json(\"data/entities.json\")\n",
    "entities = entities[['value', 'type', 'language', 'normalizedValue', 'aliases']]\n",
    "entities"
   ],
   "metadata": {
    "collapsed": false,
    "pycharm": {
     "name": "#%%\n"
    }
   }
  },
  {
   "cell_type": "markdown",
   "source": [
    "## Merge different types in entities"
   ],
   "metadata": {
    "collapsed": false
   }
  },
  {
   "cell_type": "code",
   "execution_count": null,
   "outputs": [],
   "source": [
    "li = [\"VodName\", \"SeriesName\", \"BroadcastName\"]\n",
    "entities_with_collection = merge_entity_types(entities, li)\n",
    "entities_with_collection"
   ],
   "metadata": {
    "collapsed": false,
    "pycharm": {
     "name": "#%%\n"
    }
   }
  },
  {
   "cell_type": "markdown",
   "source": [
    "## Read custom entities\n",
    "Since not all entity types in template are included in entity table, such as channel num/ date/ time,\n",
    "we need to create them according to language specific rules."
   ],
   "metadata": {
    "collapsed": false
   }
  },
  {
   "cell_type": "code",
   "execution_count": null,
   "outputs": [],
   "source": [
    "# amount: the amount of entities sample from {entity_amount} of entities\n",
    "# entity amount: number of different entities, None means choose all\n",
    "all_json_list = []\n",
    "all_json_list += maker_Duration(language_list=['de', 'en'], entity_amount=None, amount=300)\n",
    "all_json_list += maker_RouterWiFiDuration(language_list=['de', 'en'], entity_amount=None, amount=300)\n",
    "all_json_list += maker_TvChannelPosition(language_list=['de', 'en'], entity_amount=None, amount=None, max_range=100)\n",
    "all_json_list += maker_RadioChannelPosition(language_list=['de', 'en'], entity_amount=None, amount=None, max_range=100)\n",
    "all_json_list += maker_LocalsearchTimeStampEndTime(language_list=['de', 'en'], entity_amount=None, amount=300)\n",
    "all_json_list += maker_LocalsearchTimeStampStartTime(language_list=['de', 'en'], entity_amount=None, amount=300)\n",
    "all_json_list += maker_LocalsearchTimeStampStartDay(language_list=['de', 'en'], entity_amount=None, amount=300)"
   ],
   "metadata": {
    "collapsed": false,
    "pycharm": {
     "name": "#%%\n"
    }
   }
  },
  {
   "cell_type": "markdown",
   "source": [
    "## Save file"
   ],
   "metadata": {
    "collapsed": false
   }
  },
  {
   "cell_type": "code",
   "execution_count": null,
   "outputs": [],
   "source": [
    "dest_file = 'data/entities_custom.json'\n",
    "with open(dest_file, 'w') as fout:\n",
    "    json.dump(all_json_list, fout)\n",
    "# entities_custom\n",
    "entities_custom = pd.read_json(\"data/entities_custom.json\")\n",
    "entities_meta = pd.concat([entities_with_collection, entities_custom]).reset_index(drop=True)\n",
    "entities_meta"
   ],
   "metadata": {
    "collapsed": false,
    "pycharm": {
     "name": "#%%\n"
    }
   }
  },
  {
   "cell_type": "code",
   "execution_count": null,
   "outputs": [],
   "source": [
    "entities_meta.to_json(\"data/entities_meta.json\")"
   ],
   "metadata": {
    "collapsed": false,
    "pycharm": {
     "name": "#%%\n"
    }
   }
  },
  {
   "cell_type": "code",
   "execution_count": null,
   "outputs": [],
   "source": [],
   "metadata": {
    "collapsed": false,
    "pycharm": {
     "name": "#%%\n"
    }
   }
  },
  {
   "cell_type": "code",
   "execution_count": null,
   "outputs": [],
   "source": [
    "entities_meta.to_json(\"data/entities_meta.json\")\n"
   ],
   "metadata": {
    "collapsed": false,
    "pycharm": {
     "name": "#%%\n"
    }
   }
  },
  {
   "cell_type": "markdown",
   "source": [
    "## Read custom entities\n",
    "Since not all entity types in template are included in entity table, such as channel num/ date/ time,\n",
    "we need to create them according to language specific rules."
   ],
   "metadata": {
    "collapsed": false
   }
  },
  {
   "cell_type": "code",
   "execution_count": null,
   "outputs": [],
   "source": [
    "# amount: the amount of entities sample from {entity_amount} of entities\n",
    "# entity amount: number of different entities, None means choose all\n",
    "all_json_list = []\n",
    "all_json_list += maker_Duration(language_list=['de', 'en'], entity_amount=None, amount=300)\n",
    "all_json_list += maker_RouterWiFiDuration(language_list=['de', 'en'], entity_amount=None, amount=300)\n",
    "all_json_list += maker_TvChannelPosition(language_list=['de', 'en'], entity_amount=None, amount=None, max_range=100)\n",
    "all_json_list += maker_RadioChannelPosition(language_list=['de', 'en'], entity_amount=None, amount=None, max_range=100)\n",
    "all_json_list += maker_LocalsearchTimeStampEndTime(language_list=['de', 'en'], entity_amount=None, amount=300)\n",
    "all_json_list += maker_LocalsearchTimeStampStartTime(language_list=['de', 'en'], entity_amount=None, amount=300)\n",
    "all_json_list += maker_LocalsearchTimeStampStartDay(language_list=['de', 'en'], entity_amount=None, amount=300)"
   ],
   "metadata": {
    "collapsed": false,
    "pycharm": {
     "name": "#%%\n"
    }
   }
  },
  {
   "cell_type": "markdown",
   "source": [
    "## Save file"
   ],
   "metadata": {
    "collapsed": false
   }
  },
  {
   "cell_type": "code",
   "execution_count": null,
   "outputs": [],
   "source": [
    "dest_file = 'data/entities_custom.json'\n",
    "with open(dest_file, 'w') as fout:\n",
    "    json.dump(all_json_list, fout)\n",
    "# entities_custom\n",
    "entities_custom = pd.read_json(\"data/entities_custom.json\")\n",
    "entities_meta = pd.concat([entities_with_collection, entities_custom]).reset_index(drop=True)\n",
    "entities_meta"
   ],
   "metadata": {
    "collapsed": false,
    "pycharm": {
     "name": "#%%\n"
    }
   }
  },
  {
   "cell_type": "code",
   "execution_count": null,
   "outputs": [],
   "source": [
    "entities_meta.to_json(\"data/entities_meta.json\")\n"
   ],
   "metadata": {
    "collapsed": false,
    "pycharm": {
     "name": "#%%\n"
    }
   }
  },
  {
   "cell_type": "code",
   "execution_count": null,
   "outputs": [],
   "source": [
    "entities_meta.to_json(\"data/entities_meta.json\")\n"
   ],
   "metadata": {
    "collapsed": false,
    "pycharm": {
     "name": "#%%\n"
    }
   }
  },
  {
   "cell_type": "markdown",
   "source": [
    "## Read custom entities\n",
    "Since not all entity types in template are included in entity table, such as channel num/ date/ time,\n",
    "we need to create them according to language specific rules."
   ],
   "metadata": {
    "collapsed": false
   }
  },
  {
   "cell_type": "code",
   "execution_count": null,
   "outputs": [],
   "source": [
    "# amount: the amount of entities sample from {entity_amount} of entities\n",
    "# entity amount: number of different entities, None means choose all\n",
    "all_json_list = []\n",
    "all_json_list += maker_Duration(language_list=['de', 'en'], entity_amount=None, amount=300)\n",
    "all_json_list += maker_RouterWiFiDuration(language_list=['de', 'en'], entity_amount=None, amount=300)\n",
    "all_json_list += maker_TvChannelPosition(language_list=['de', 'en'], entity_amount=None, amount=None, max_range=100)\n",
    "all_json_list += maker_RadioChannelPosition(language_list=['de', 'en'], entity_amount=None, amount=None, max_range=100)\n",
    "all_json_list += maker_LocalsearchTimeStampEndTime(language_list=['de', 'en'], entity_amount=None, amount=300)\n",
    "all_json_list += maker_LocalsearchTimeStampStartTime(language_list=['de', 'en'], entity_amount=None, amount=300)\n",
    "all_json_list += maker_LocalsearchTimeStampStartDay(language_list=['de', 'en'], entity_amount=None, amount=300)"
   ],
   "metadata": {
    "collapsed": false,
    "pycharm": {
     "name": "#%%\n"
    }
   }
  },
  {
   "cell_type": "markdown",
   "source": [
    "## Save file"
   ],
   "metadata": {
    "collapsed": false
   }
  },
  {
   "cell_type": "code",
   "execution_count": null,
   "outputs": [],
   "source": [
    "dest_file = 'data/entities_custom.json'\n",
    "with open(dest_file, 'w') as fout:\n",
    "    json.dump(all_json_list, fout)\n",
    "# entities_custom\n",
    "entities_custom = pd.read_json(\"data/entities_custom.json\")\n",
    "entities_meta = pd.concat([entities_with_collection, entities_custom]).reset_index(drop=True)\n",
    "entities_meta"
   ],
   "metadata": {
    "collapsed": false,
    "pycharm": {
     "name": "#%%\n"
    }
   }
  },
  {
   "cell_type": "code",
   "execution_count": null,
   "outputs": [],
   "source": [
    "entities_meta.to_json(\"data/entities_meta.json\")\n"
   ],
   "metadata": {
    "collapsed": false,
    "pycharm": {
     "name": "#%%\n"
    }
   }
  },
  {
   "cell_type": "code",
   "execution_count": null,
   "outputs": [],
   "source": [
    "entities_meta.to_json(\"data/entities_meta.json\")\n"
   ],
   "metadata": {
    "collapsed": false,
    "pycharm": {
     "name": "#%%\n"
    }
   }
  },
  {
   "cell_type": "markdown",
   "source": [
    "## Read custom entities\n",
    "Since not all entity types in template are included in entity table, such as channel num/ date/ time,\n",
    "we need to create them according to language specific rules."
   ],
   "metadata": {
    "collapsed": false
   }
  },
  {
   "cell_type": "code",
   "execution_count": null,
   "outputs": [],
   "source": [
    "# amount: the amount of entities sample from {entity_amount} of entities\n",
    "# entity amount: number of different entities, None means choose all\n",
    "all_json_list = []\n",
    "all_json_list += maker_Duration(language_list=['de', 'en'], entity_amount=None, amount=300)\n",
    "all_json_list += maker_RouterWiFiDuration(language_list=['de', 'en'], entity_amount=None, amount=300)\n",
    "all_json_list += maker_TvChannelPosition(language_list=['de', 'en'], entity_amount=None, amount=None, max_range=100)\n",
    "all_json_list += maker_RadioChannelPosition(language_list=['de', 'en'], entity_amount=None, amount=None, max_range=100)\n",
    "all_json_list += maker_LocalsearchTimeStampEndTime(language_list=['de', 'en'], entity_amount=None, amount=300)\n",
    "all_json_list += maker_LocalsearchTimeStampStartTime(language_list=['de', 'en'], entity_amount=None, amount=300)\n",
    "all_json_list += maker_LocalsearchTimeStampStartDay(language_list=['de', 'en'], entity_amount=None, amount=300)"
   ],
   "metadata": {
    "collapsed": false,
    "pycharm": {
     "name": "#%%\n"
    }
   }
  },
  {
   "cell_type": "markdown",
   "source": [
    "## Save file"
   ],
   "metadata": {
    "collapsed": false
   }
  },
  {
   "cell_type": "code",
   "execution_count": null,
   "outputs": [],
   "source": [
    "dest_file = 'data/entities_custom.json'\n",
    "with open(dest_file, 'w') as fout:\n",
    "    json.dump(all_json_list, fout)\n",
    "# entities_custom\n",
    "entities_custom = pd.read_json(\"data/entities_custom.json\")\n",
    "entities_meta = pd.concat([entities_with_collection, entities_custom]).reset_index(drop=True)\n",
    "entities_meta"
   ],
   "metadata": {
    "collapsed": false,
    "pycharm": {
     "name": "#%%\n"
    }
   }
  },
  {
   "cell_type": "code",
   "execution_count": null,
   "outputs": [],
   "source": [
    "entities_meta.to_json(\"data/entities_meta.json\")\n"
   ],
   "metadata": {
    "collapsed": false,
    "pycharm": {
     "name": "#%%\n"
    }
   }
  },
  {
   "cell_type": "code",
   "execution_count": null,
   "outputs": [],
   "source": [
    "entities_meta.to_json(\"data/entities_meta.json\")\n"
   ],
   "metadata": {
    "collapsed": false,
    "pycharm": {
     "name": "#%%\n"
    }
   }
  },
  {
   "cell_type": "markdown",
   "source": [
    "## Read custom entities\n",
    "Since not all entity types in template are included in entity table, such as channel num/ date/ time,\n",
    "we need to create them according to language specific rules."
   ],
   "metadata": {
    "collapsed": false
   }
  },
  {
   "cell_type": "code",
   "execution_count": null,
   "outputs": [],
   "source": [
    "# amount: the amount of entities sample from {entity_amount} of entities\n",
    "# entity amount: number of different entities, None means choose all\n",
    "all_json_list = []\n",
    "all_json_list += maker_Duration(language_list=['de', 'en'], entity_amount=None, amount=300)\n",
    "all_json_list += maker_RouterWiFiDuration(language_list=['de', 'en'], entity_amount=None, amount=300)\n",
    "all_json_list += maker_TvChannelPosition(language_list=['de', 'en'], entity_amount=None, amount=None, max_range=100)\n",
    "all_json_list += maker_RadioChannelPosition(language_list=['de', 'en'], entity_amount=None, amount=None, max_range=100)\n",
    "all_json_list += maker_LocalsearchTimeStampEndTime(language_list=['de', 'en'], entity_amount=None, amount=300)\n",
    "all_json_list += maker_LocalsearchTimeStampStartTime(language_list=['de', 'en'], entity_amount=None, amount=300)\n",
    "all_json_list += maker_LocalsearchTimeStampStartDay(language_list=['de', 'en'], entity_amount=None, amount=300)"
   ],
   "metadata": {
    "collapsed": false,
    "pycharm": {
     "name": "#%%\n"
    }
   }
  },
  {
   "cell_type": "markdown",
   "source": [
    "## Save file"
   ],
   "metadata": {
    "collapsed": false
   }
  },
  {
   "cell_type": "code",
   "execution_count": null,
   "outputs": [],
   "source": [
    "dest_file = 'data/entities_custom.json'\n",
    "with open(dest_file, 'w') as fout:\n",
    "    json.dump(all_json_list, fout)\n",
    "# entities_custom\n",
    "entities_custom = pd.read_json(\"data/entities_custom.json\")\n",
    "entities_meta = pd.concat([entities_with_collection, entities_custom]).reset_index(drop=True)\n",
    "entities_meta"
   ],
   "metadata": {
    "collapsed": false,
    "pycharm": {
     "name": "#%%\n"
    }
   }
  },
  {
   "cell_type": "code",
   "execution_count": null,
   "outputs": [],
   "source": [
    "entities_meta.to_json(\"data/entities_meta.json\")\n"
   ],
   "metadata": {
    "collapsed": false,
    "pycharm": {
     "name": "#%%\n"
    }
   }
  },
  {
   "cell_type": "code",
   "execution_count": null,
   "outputs": [],
   "source": [
    "entities_meta.to_json(\"data/entities_meta.json\")\n"
   ],
   "metadata": {
    "collapsed": false,
    "pycharm": {
     "name": "#%%\n"
    }
   }
  },
  {
   "cell_type": "markdown",
   "source": [
    "## Read custom entities\n",
    "Since not all entity types in template are included in entity table, such as channel num/ date/ time,\n",
    "we need to create them according to language specific rules."
   ],
   "metadata": {
    "collapsed": false
   }
  },
  {
   "cell_type": "code",
   "execution_count": null,
   "outputs": [],
   "source": [
    "# amount: the amount of entities sample from {entity_amount} of entities\n",
    "# entity amount: number of different entities, None means choose all\n",
    "all_json_list = []\n",
    "all_json_list += maker_Duration(language_list=['de', 'en'], entity_amount=None, amount=300)\n",
    "all_json_list += maker_RouterWiFiDuration(language_list=['de', 'en'], entity_amount=None, amount=300)\n",
    "all_json_list += maker_TvChannelPosition(language_list=['de', 'en'], entity_amount=None, amount=None, max_range=100)\n",
    "all_json_list += maker_RadioChannelPosition(language_list=['de', 'en'], entity_amount=None, amount=None, max_range=100)\n",
    "all_json_list += maker_LocalsearchTimeStampEndTime(language_list=['de', 'en'], entity_amount=None, amount=300)\n",
    "all_json_list += maker_LocalsearchTimeStampStartTime(language_list=['de', 'en'], entity_amount=None, amount=300)\n",
    "all_json_list += maker_LocalsearchTimeStampStartDay(language_list=['de', 'en'], entity_amount=None, amount=300)"
   ],
   "metadata": {
    "collapsed": false,
    "pycharm": {
     "name": "#%%\n"
    }
   }
  },
  {
   "cell_type": "markdown",
   "source": [
    "## Save file"
   ],
   "metadata": {
    "collapsed": false
   }
  },
  {
   "cell_type": "code",
   "execution_count": null,
   "outputs": [],
   "source": [
    "dest_file = 'data/entities_custom.json'\n",
    "with open(dest_file, 'w') as fout:\n",
    "    json.dump(all_json_list, fout)\n",
    "# entities_custom\n",
    "entities_custom = pd.read_json(\"data/entities_custom.json\")\n",
    "entities_meta = pd.concat([entities_with_collection, entities_custom]).reset_index(drop=True)\n",
    "entities_meta"
   ],
   "metadata": {
    "collapsed": false,
    "pycharm": {
     "name": "#%%\n"
    }
   }
  },
  {
   "cell_type": "code",
   "execution_count": null,
   "outputs": [],
   "source": [
    "entities_meta.to_json(\"data/entities_meta.json\")\n"
   ],
   "metadata": {
    "collapsed": false,
    "pycharm": {
     "name": "#%%\n"
    }
   }
  },
  {
   "cell_type": "code",
   "execution_count": null,
   "outputs": [],
   "source": [
    "entities_meta.to_json(\"data/entities_meta.json\")\n"
   ],
   "metadata": {
    "collapsed": false,
    "pycharm": {
     "name": "#%%\n"
    }
   }
  },
  {
   "cell_type": "markdown",
   "source": [
    "## Read custom entities\n",
    "Since not all entity types in template are included in entity table, such as channel num/ date/ time,\n",
    "we need to create them according to language specific rules."
   ],
   "metadata": {
    "collapsed": false
   }
  },
  {
   "cell_type": "code",
   "execution_count": null,
   "outputs": [],
   "source": [
    "# amount: the amount of entities sample from {entity_amount} of entities\n",
    "# entity amount: number of different entities, None means choose all\n",
    "all_json_list = []\n",
    "all_json_list += maker_Duration(language_list=['de', 'en'], entity_amount=None, amount=300)\n",
    "all_json_list += maker_RouterWiFiDuration(language_list=['de', 'en'], entity_amount=None, amount=300)\n",
    "all_json_list += maker_TvChannelPosition(language_list=['de', 'en'], entity_amount=None, amount=None, max_range=100)\n",
    "all_json_list += maker_RadioChannelPosition(language_list=['de', 'en'], entity_amount=None, amount=None, max_range=100)\n",
    "all_json_list += maker_LocalsearchTimeStampEndTime(language_list=['de', 'en'], entity_amount=None, amount=300)\n",
    "all_json_list += maker_LocalsearchTimeStampStartTime(language_list=['de', 'en'], entity_amount=None, amount=300)\n",
    "all_json_list += maker_LocalsearchTimeStampStartDay(language_list=['de', 'en'], entity_amount=None, amount=300)"
   ],
   "metadata": {
    "collapsed": false,
    "pycharm": {
     "name": "#%%\n"
    }
   }
  },
  {
   "cell_type": "markdown",
   "source": [
    "## Save file"
   ],
   "metadata": {
    "collapsed": false
   }
  },
  {
   "cell_type": "code",
   "execution_count": null,
   "outputs": [],
   "source": [
    "dest_file = 'data/entities_custom.json'\n",
    "with open(dest_file, 'w') as fout:\n",
    "    json.dump(all_json_list, fout)\n",
    "# entities_custom\n",
    "entities_custom = pd.read_json(\"data/entities_custom.json\")\n",
    "entities_meta = pd.concat([entities_with_collection, entities_custom]).reset_index(drop=True)\n",
    "entities_meta"
   ],
   "metadata": {
    "collapsed": false,
    "pycharm": {
     "name": "#%%\n"
    }
   }
  },
  {
   "cell_type": "code",
   "execution_count": null,
   "outputs": [],
   "source": [
    "entities_meta.to_json(\"data/entities_meta.json\")\n"
   ],
   "metadata": {
    "collapsed": false,
    "pycharm": {
     "name": "#%%\n"
    }
   }
  },
  {
   "cell_type": "code",
   "execution_count": null,
   "outputs": [],
   "source": [
    "entities_meta.to_json(\"data/entities_meta.json\")\n"
   ],
   "metadata": {
    "collapsed": false,
    "pycharm": {
     "name": "#%%\n"
    }
   }
  },
  {
   "cell_type": "markdown",
   "source": [
    "## Read custom entities\n",
    "Since not all entity types in template are included in entity table, such as channel num/ date/ time,\n",
    "we need to create them according to language specific rules."
   ],
   "metadata": {
    "collapsed": false
   }
  },
  {
   "cell_type": "code",
   "execution_count": null,
   "outputs": [],
   "source": [
    "# amount: the amount of entities sample from {entity_amount} of entities\n",
    "# entity amount: number of different entities, None means choose all\n",
    "all_json_list = []\n",
    "all_json_list += maker_Duration(language_list=['de', 'en'], entity_amount=None, amount=300)\n",
    "all_json_list += maker_RouterWiFiDuration(language_list=['de', 'en'], entity_amount=None, amount=300)\n",
    "all_json_list += maker_TvChannelPosition(language_list=['de', 'en'], entity_amount=None, amount=None, max_range=100)\n",
    "all_json_list += maker_RadioChannelPosition(language_list=['de', 'en'], entity_amount=None, amount=None, max_range=100)\n",
    "all_json_list += maker_LocalsearchTimeStampEndTime(language_list=['de', 'en'], entity_amount=None, amount=300)\n",
    "all_json_list += maker_LocalsearchTimeStampStartTime(language_list=['de', 'en'], entity_amount=None, amount=300)\n",
    "all_json_list += maker_LocalsearchTimeStampStartDay(language_list=['de', 'en'], entity_amount=None, amount=300)"
   ],
   "metadata": {
    "collapsed": false,
    "pycharm": {
     "name": "#%%\n"
    }
   }
  },
  {
   "cell_type": "markdown",
   "source": [
    "## Save file"
   ],
   "metadata": {
    "collapsed": false
   }
  },
  {
   "cell_type": "code",
   "execution_count": null,
   "outputs": [],
   "source": [
    "dest_file = 'data/entities_custom.json'\n",
    "with open(dest_file, 'w') as fout:\n",
    "    json.dump(all_json_list, fout)\n",
    "# entities_custom\n",
    "entities_custom = pd.read_json(\"data/entities_custom.json\")\n",
    "entities_meta = pd.concat([entities_with_collection, entities_custom]).reset_index(drop=True)\n",
    "entities_meta"
   ],
   "metadata": {
    "collapsed": false,
    "pycharm": {
     "name": "#%%\n"
    }
   }
  },
  {
   "cell_type": "code",
   "execution_count": null,
   "outputs": [],
   "source": [
    "entities_meta.to_json(\"data/entities_meta.json\")\n"
   ],
   "metadata": {
    "collapsed": false,
    "pycharm": {
     "name": "#%%\n"
    }
   }
  }
 ]
}