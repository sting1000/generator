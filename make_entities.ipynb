{
 "metadata": {
  "language_info": {
   "codemirror_mode": {
    "name": "ipython",
    "version": 3
   },
   "file_extension": ".py",
   "mimetype": "text/x-python",
   "name": "python",
   "nbconvert_exporter": "python",
   "pygments_lexer": "ipython3",
   "version": "3.8.3-final"
  },
  "orig_nbformat": 2,
  "kernelspec": {
   "name": "python3",
   "language": "python",
   "display_name": "Python 3"
  }
 },
 "nbformat": 4,
 "nbformat_minor": 2,
 "cells": [
  {
   "cell_type": "code",
   "execution_count": 1,
   "metadata": {},
   "outputs": [],
   "source": [
    "from entiityMaker.maker import maker_LocalsearchTimeStampEndTime, maker_RouterWiFiDuration, \\\n",
    "    maker_TvChannelPosition, maker_RadioChannelPosition, maker_Duration, maker_LocalsearchTimeStampStartDay, \\\n",
    "    maker_LocalsearchTimeStampStartTime\n",
    "%load_ext autoreload\n",
    "%autoreload 2"
   ]
  },
  {
   "cell_type": "code",
   "execution_count": 6,
   "outputs": [],
   "source": [
    "all_json_list = []\n",
    "all_json_list += maker_Duration()\n",
    "all_json_list += maker_RouterWiFiDuration()\n",
    "all_json_list += maker_TvChannelPosition()\n",
    "all_json_list += maker_RadioChannelPosition()\n",
    "all_json_list += maker_LocalsearchTimeStampEndTime(amount=300)\n",
    "all_json_list += maker_LocalsearchTimeStampStartTime(amount=300)\n",
    "all_json_list += maker_LocalsearchTimeStampStartDay(amount=300)"
   ],
   "metadata": {
    "collapsed": false,
    "pycharm": {
     "name": "#%%\n"
    }
   }
  },
  {
   "cell_type": "code",
   "execution_count": 7,
   "metadata": {},
   "outputs": [],
   "source": [
    "import json\n",
    "dest_file = 'data/entities_custom.json'\n",
    "with open(dest_file, 'w') as fout:\n",
    "    json.dump(all_json_list, fout)"
   ]
  },
  {
   "cell_type": "code",
   "execution_count": null,
   "metadata": {},
   "outputs": [],
   "source": []
  }
 ]
}