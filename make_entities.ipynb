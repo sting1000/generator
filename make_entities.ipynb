{
 "metadata": {
  "language_info": {
   "codemirror_mode": {
    "name": "ipython",
    "version": 3
   },
   "file_extension": ".py",
   "mimetype": "text/x-python",
   "name": "python",
   "nbconvert_exporter": "python",
   "pygments_lexer": "ipython3",
   "version": "3.7.7-final"
  },
  "orig_nbformat": 2,
  "kernelspec": {
   "name": "Python 3.7.7 64-bit ('jobposting': conda)",
   "display_name": "Python 3.7.7 64-bit ('jobposting': conda)",
   "metadata": {
    "interpreter": {
     "hash": "842c36dbd4d022e48dd97b298b94cd915ed381546a7091b7e6b3372736e6a5a4"
    }
   }
  }
 },
 "nbformat": 4,
 "nbformat_minor": 2,
 "cells": [
  {
   "cell_type": "code",
   "execution_count": 1,
   "metadata": {},
   "outputs": [],
   "source": [
    "from generator.normalizer import Normalizer\n",
    "import pandas as pd\n",
    "import json"
   ]
  },
  {
   "cell_type": "code",
   "execution_count": 2,
   "metadata": {},
   "outputs": [
    {
     "output_type": "error",
     "ename": "NameError",
     "evalue": "name &#39;false&#39; is not defined",
     "traceback": [
      "\u001b[0;31m---------------------------------------------------------------------------\u001b[0m",
      "\u001b[0;31mNameError\u001b[0m                                 Traceback (most recent call last)",
      "\u001b[0;32m&lt;ipython-input-2-e933a3993bee&gt;\u001b[0m in \u001b[0;36m&lt;module&gt;\u001b[0;34m\u001b[0m\n\u001b[1;32m     15\u001b[0m                 \u001b[0;34m&quot;suisse classique&quot;\u001b[0m\u001b[0;34m\u001b[0m\u001b[0;34m\u001b[0m\u001b[0m\n\u001b[1;32m     16\u001b[0m \t],\n\u001b[0;32m---&gt; 17\u001b[0;31m         \u001b[0;34m&quot;inactive&quot;\u001b[0m\u001b[0;34m:\u001b[0m \u001b[0mfalse\u001b[0m\u001b[0;34m\u001b[0m\u001b[0;34m\u001b[0m\u001b[0m\n\u001b[0m\u001b[1;32m     18\u001b[0m },\n",
      "\u001b[0;31mNameError\u001b[0m: name &#39;false&#39; is not defined"
     ]
    }
   ],
   "source": [
    "{\n",
    "\t\"_id\": {\n",
    "\t\t\"$oid\": \"5f63435fc7268ce2ef904d47\"\n",
    "\t},\n",
    "\t\"referenceId\": \"7743f894-9e3a-4df3-a6c6-2e228741a853\",\n",
    "\t\"externalId\": \"2f037c35e91c5a0522ef6ece6854328f\",\n",
    "\t\"value\": \"Radio Suisse Classique\",\n",
    "\t\"type\": \"RadioChannelName\",\n",
    "\t\"language\": \"en\",\n",
    "\t\"popularity\": 0.41919782486761925,\n",
    "\t\"modified\": \"2020-09-14T04:53:54Z\",\n",
    "\t\"normalizedValue\": \"radio suisse classique\",\n",
    "\t\"aliases\": [\n",
    "\t\t\"Suisse Classique\",\n",
    "\t\t\"suisse classique\"\n",
    "\t],\n",
    "\t\"inactive\": false\n",
    "},"
   ]
  },
  {
   "cell_type": "code",
   "execution_count": 3,
   "metadata": {},
   "outputs": [],
   "source": [
    "all_json_list = []\n",
    "\n",
    "for num in range(100):\n",
    "    for lan in [\"en\", \"fr\", \"de\", \"it\"]:\n",
    "        item = {\n",
    "            \"value\": str(num),\n",
    "            \"type\": \"RadioChannelPosition\",\n",
    "            \"language\": lan,\n",
    "            \"normalizedValue\": Normalizer().normalize_text(str(num), lan),\n",
    "            \"aliases\": []\n",
    "        }\n",
    "        all_json_list.append(item)"
   ]
  },
  {
   "cell_type": "code",
   "execution_count": 16,
   "metadata": {},
   "outputs": [],
   "source": [
    "import json\n",
    "dest_file = 'data/entities_custom.json'\n",
    "# output_file = open(dest_file, 'w')\n",
    "# json.dump(all_json_list, output_file) \n",
    "# for dic in all_json_list:\n",
    "#     json.dump(dic, output_file) \n",
    "#     output_file.write(\"\\n\")\n",
    "with open(dest_file, 'w') as fout:\n",
    "    json.dump(all_json_list, fout)"
   ]
  },
  {
   "cell_type": "code",
   "execution_count": 10,
   "metadata": {},
   "outputs": [
    {
     "output_type": "execute_result",
     "data": {
      "text/plain": "{&#39;value&#39;: &#39;0&#39;,\n &#39;type&#39;: &#39;RadioChannelPosition&#39;,\n &#39;language&#39;: &#39;en&#39;,\n &#39;normalizedValue&#39;: &#39;zero&#39;,\n &#39;aliases&#39;: []}"
     },
     "metadata": {},
     "execution_count": 10
    }
   ],
   "source": [
    "all_json_list[0]"
   ]
  },
  {
   "cell_type": "code",
   "execution_count": null,
   "metadata": {},
   "outputs": [],
   "source": []
  }
 ]
}