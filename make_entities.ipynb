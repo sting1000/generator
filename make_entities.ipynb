{
 "metadata": {
  "language_info": {
   "codemirror_mode": {
    "name": "ipython",
    "version": 3
   },
   "file_extension": ".py",
   "mimetype": "text/x-python",
   "name": "python",
   "nbconvert_exporter": "python",
   "pygments_lexer": "ipython3",
   "version": "3.8.3-final"
  },
  "orig_nbformat": 2,
  "kernelspec": {
   "name": "Python 3.8.3 64-bit ('miniconda3': conda)",
   "display_name": "Python 3.8.3 64-bit ('miniconda3': conda)",
   "metadata": {
    "interpreter": {
     "hash": "569d6b7e9215e11aba41c6454007e5c1b78bad7df09dab765d8cf00362c40f03"
    }
   }
  }
 },
 "nbformat": 4,
 "nbformat_minor": 2,
 "cells": [
  {
   "cell_type": "code",
   "execution_count": 1,
   "metadata": {},
   "outputs": [],
   "source": [
    "from generator.normalizer import Normalizer\n",
    "import pandas as pd\n",
    "import json"
   ]
  },
  {
   "cell_type": "code",
   "execution_count": 2,
   "metadata": {},
   "outputs": [
    {
     "output_type": "error",
     "ename": "NameError",
     "evalue": "name &#39;false&#39; is not defined",
     "traceback": [
      "\u001b[0;31m---------------------------------------------------------------------------\u001b[0m",
      "\u001b[0;31mNameError\u001b[0m                                 Traceback (most recent call last)",
      "\u001b[0;32m&lt;ipython-input-2-e933a3993bee&gt;\u001b[0m in \u001b[0;36m&lt;module&gt;\u001b[0;34m\u001b[0m\n\u001b[1;32m     15\u001b[0m                 \u001b[0;34m&quot;suisse classique&quot;\u001b[0m\u001b[0;34m\u001b[0m\u001b[0;34m\u001b[0m\u001b[0m\n\u001b[1;32m     16\u001b[0m \t],\n\u001b[0;32m---&gt; 17\u001b[0;31m         \u001b[0;34m&quot;inactive&quot;\u001b[0m\u001b[0;34m:\u001b[0m \u001b[0mfalse\u001b[0m\u001b[0;34m\u001b[0m\u001b[0;34m\u001b[0m\u001b[0m\n\u001b[0m\u001b[1;32m     18\u001b[0m },\n",
      "\u001b[0;31mNameError\u001b[0m: name &#39;false&#39; is not defined"
     ]
    }
   ],
   "source": [
    "{\n",
    "\t\"_id\": {\n",
    "\t\t\"$oid\": \"5f63435fc7268ce2ef904d47\"\n",
    "\t},\n",
    "\t\"referenceId\": \"7743f894-9e3a-4df3-a6c6-2e228741a853\",\n",
    "\t\"externalId\": \"2f037c35e91c5a0522ef6ece6854328f\",\n",
    "\t\"value\": \"Radio Suisse Classique\",\n",
    "\t\"type\": \"RadioChannelName\",\n",
    "\t\"language\": \"en\",\n",
    "\t\"popularity\": 0.41919782486761925,\n",
    "\t\"modified\": \"2020-09-14T04:53:54Z\",\n",
    "\t\"normalizedValue\": \"radio suisse classique\",\n",
    "\t\"aliases\": [\n",
    "\t\t\"Suisse Classique\",\n",
    "\t\t\"suisse classique\"\n",
    "\t],\n",
    "\t\"inactive\": false\n",
    "},"
   ]
  },
  {
   "source": [
    "# small dataset"
   ],
   "cell_type": "markdown",
   "metadata": {}
  },
  {
   "cell_type": "code",
   "execution_count": 8,
   "metadata": {},
   "outputs": [],
   "source": [
    "def get_item(value, type_, lan):\n",
    "    item = {\n",
    "        \"value\": value,\n",
    "        \"type\": type_,\n",
    "        \"language\": lan,\n",
    "        \"normalizedValue\": Normalizer().normalize_text(value, lan),\n",
    "        \"aliases\": []\n",
    "    }\n",
    "    return item"
   ]
  },
  {
   "cell_type": "code",
   "execution_count": 15,
   "metadata": {},
   "outputs": [],
   "source": [
    "all_json_list = []\n",
    "\n",
    "for num in range(10):\n",
    "    for lan in [\"en\", \"fr\", \"de\", \"it\"]:\n",
    "        item = {\n",
    "            \"value\": str(num),\n",
    "            \"type\": \"RadioChannelPosition\",\n",
    "            \"language\": lan,\n",
    "            \"normalizedValue\": Normalizer().normalize_text(str(num), lan),\n",
    "            \"aliases\": []\n",
    "        }\n",
    "        all_json_list.append(item)\n",
    "\n",
    "for num in range(10):\n",
    "    for lan in [\"en\", \"fr\", \"de\", \"it\"]:\n",
    "        item = {\n",
    "            \"value\": str(num),\n",
    "            \"type\": \"TvChannelPosition\",\n",
    "            \"language\": lan,\n",
    "            \"normalizedValue\": Normalizer().normalize_text(str(num), lan),\n",
    "            \"aliases\": []\n",
    "        }\n",
    "        all_json_list.append(item)\n",
    "\n"
   ]
  },
  {
   "cell_type": "code",
   "execution_count": 16,
   "metadata": {},
   "outputs": [],
   "source": [
    "type_ = \"RouterWiFiDuration\"\n",
    "\n",
    "# en\n",
    "lan = \"en\"\n",
    "for num in range(2, 60):\n",
    "    for appendix in [\" days\", \" minutes\", \" hours\"]:\n",
    "        all_json_list.append(get_item(str(num) + appendix, type_, lan))\n",
    "\n",
    "for appendix in [\" day\", \"  minute\", \" hour\"]:\n",
    "    all_json_list.append(get_item(\"1\" + appendix, type_, lan))\n",
    "\n",
    "    s = \" an\" if appendix == \" hour\" else \" a\"\n",
    "    all_json_list.append(get_item(\"half\" + s + appendix, type_, lan))\n",
    "\n",
    "# fr\n",
    "lan = \"fr\"\n",
    "for num in range(2, 60):\n",
    "    for appendix in [\" jours\", \" minutes\", \" heures\"]:\n",
    "        all_json_list.append(get_item(str(num) + appendix, type_, lan))\n",
    "\n",
    "for appendix in [\" jour\", \"  minute\", \" heure\"]:\n",
    "    all_json_list.append(get_item(\"1\" + appendix, type_, lan))\n",
    "\n",
    "    if appendix == \" jour\":\n",
    "        appendix = \" journée\"\n",
    "    all_json_list.append(get_item(\"une demi\" + appendix, type_, lan))\n",
    "\n",
    "# de\n",
    "lan = \"de\"\n",
    "for num in range(2, 60):\n",
    "    for appendix in [\" tage\", \" minuten\", \" stunden\"]:\n",
    "        all_json_list.append(get_item(str(num) + appendix, type_, lan))\n",
    "\n",
    "for appendix in [\" tag\", \"  minute\", \" stunde\"]:\n",
    "    all_json_list.append(get_item(str(num) + appendix, type_, lan))\n",
    "\n",
    "    s = \" halben\" if appendix == \" tag\" else \"halbe\"\n",
    "    all_json_list.append(get_item(\"einen halben\" + appendix, type_, lan))\n",
    "\n",
    "# it\n",
    "lan = \"it\"\n",
    "for num in range(2, 60):\n",
    "    for appendix in [\" giorni\", \" minuti\", \" ore\"]:\n",
    "        all_json_list.append(get_item(str(num) + appendix, type_, lan))\n",
    "\n",
    "for appendix in [\" giorno\", \"  minuto\", \" ora\"]:\n",
    "    all_json_list.append(get_item(\"1\" + appendix, type_, lan))\n",
    "\n",
    "for appendix in [\" giornata\", \"  minuto\", \" ora\"]:\n",
    "    all_json_list.append(get_item(\"mezzo\" + appendix, type_, lan))"
   ]
  },
  {
   "cell_type": "code",
   "execution_count": 17,
   "metadata": {},
   "outputs": [],
   "source": [
    "type_ = \"Duration\"\n",
    "\n",
    "# en\n",
    "lan = \"en\"\n",
    "for num in range(2, 60):\n",
    "    for appendix in [\" days\", \" minutes\", \" hours\"]:\n",
    "        all_json_list.append(get_item(str(num) + appendix, type_, lan))\n",
    "\n",
    "for appendix in [\" day\", \"  minute\", \" hour\"]:\n",
    "    all_json_list.append(get_item(\"1\" + appendix, type_, lan))\n",
    "\n",
    "    s = \" an\" if appendix == \" hour\" else \" a\"\n",
    "    all_json_list.append(get_item(\"half\" + s + appendix, type_, lan))\n",
    "\n",
    "# fr\n",
    "lan = \"fr\"\n",
    "for num in range(2, 60):\n",
    "    for appendix in [\" jours\", \" minutes\", \" heures\"]:\n",
    "        all_json_list.append(get_item(str(num) + appendix, type_, lan))\n",
    "\n",
    "for appendix in [\" jour\", \"  minute\", \" heure\"]:\n",
    "    all_json_list.append(get_item(\"1\" + appendix, type_, lan))\n",
    "\n",
    "    if appendix == \" jour\":\n",
    "        appendix = \" journée\"\n",
    "    all_json_list.append(get_item(\"une demi\" + appendix, type_, lan))\n",
    "\n",
    "# de\n",
    "lan = \"de\"\n",
    "for num in range(2, 60):\n",
    "    for appendix in [\" tage\", \" minuten\", \" stunden\"]:\n",
    "        all_json_list.append(get_item(str(num) + appendix, type_, lan))\n",
    "\n",
    "for appendix in [\" tag\", \"  minute\", \" stunde\"]:\n",
    "    all_json_list.append(get_item(str(num) + appendix, type_, lan))\n",
    "\n",
    "    s = \" halben\" if appendix == \" tag\" else \"halbe\"\n",
    "    all_json_list.append(get_item(\"einen halben\" + appendix, type_, lan))\n",
    "\n",
    "# it\n",
    "lan = \"it\"\n",
    "for num in range(2, 60):\n",
    "    for appendix in [\" giorni\", \" minuti\", \" ore\"]:\n",
    "        all_json_list.append(get_item(str(num) + appendix, type_, lan))\n",
    "\n",
    "for appendix in [\" giorno\", \"  minuto\", \" ora\"]:\n",
    "    all_json_list.append(get_item(\"1\" + appendix, type_, lan))\n",
    "\n",
    "for appendix in [\" giornata\", \"  minuto\", \" ora\"]:\n",
    "    all_json_list.append(get_item(\"mezzo\" + appendix, type_, lan))"
   ]
  },
  {
   "cell_type": "code",
   "execution_count": 18,
   "metadata": {},
   "outputs": [],
   "source": [
    "import json\n",
    "dest_file = 'data/entities_custom.json'\n",
    "with open(dest_file, 'w') as fout:\n",
    "    json.dump(all_json_list, fout)"
   ]
  },
  {
   "cell_type": "code",
   "execution_count": null,
   "metadata": {},
   "outputs": [],
   "source": []
  }
 ]
}