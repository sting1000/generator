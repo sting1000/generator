{
 "cells": [
  {
   "cell_type": "code",
   "execution_count": null,
   "metadata": {
    "collapsed": true
   },
   "outputs": [],
   "source": [
    "# Making Entities Special (entities with word-formatted num)\n",
    "print(\"Making Entities Special...\")\n",
    "df_entities_special = pd.DataFrame()\n",
    "for i in range(20):  # number less than 20 cover 90%+\n",
    "    for lan in languages:\n",
    "        num_word = Normalizer().normalize_text(str(i), lan)\n",
    "        reg = '^{num_word} | {num_word}$| {num_word} '.format(num_word=num_word)\n",
    "        df_entities_special = df_entities_special.append(df_entities[df_entities.value.str.contains(reg)])\n",
    "df_entities_special = df_entities_special.reset_index(drop=True)\n",
    "df_entities_special.to_json(data_dir / \"entities_special.json\")\n",
    "\n",
    "# Making number sequence ()\n",
    "print(\"Making number sequence...\")\n",
    "num_seq = []\n",
    "for lan in languages:\n",
    "    num_seq += generate_NumSequence(lan, amount=num_seq_amount, max_length=num_seq_length)\n",
    "pd.DataFrame(num_seq).to_json(data_dir / \"num_sequence.json\", orient='records')"
   ]
  }
 ],
 "metadata": {
  "kernelspec": {
   "display_name": "Python 3",
   "language": "python",
   "name": "python3"
  },
  "language_info": {
   "codemirror_mode": {
    "name": "ipython",
    "version": 2
   },
   "file_extension": ".py",
   "mimetype": "text/x-python",
   "name": "python",
   "nbconvert_exporter": "python",
   "pygments_lexer": "ipython2",
   "version": "2.7.6"
  }
 },
 "nbformat": 4,
 "nbformat_minor": 0
}