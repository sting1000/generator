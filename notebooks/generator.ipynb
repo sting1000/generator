{
 "cells": [
  {
   "cell_type": "markdown",
   "metadata": {},
   "source": [
    "# Get dataset"
   ]
  },
  {
   "cell_type": "code",
   "execution_count": 1,
   "metadata": {},
   "outputs": [],
   "source": [
    "import pandas as pd\n",
    "import numpy as np\n",
    "import random"
   ]
  },
  {
   "cell_type": "markdown",
   "metadata": {},
   "source": [
    "## Templates"
   ]
  },
  {
   "source": [
    "# templates\n",
    "templates = pd.read_json(\"../data/templates.json\")\n",
    "init_uttr_updated = pd.read_csv(\"../data/InitUtterance_list_updated.csv\")\n",
    "templates_updated = templates.merge(init_uttr_updated, on='id')\n",
    "templates_updated = templates_updated[['id','de', 'fr', 'it', 'en']]\n",
    "templates_updated.head()"
   ],
   "cell_type": "code",
   "metadata": {},
   "execution_count": 2,
   "outputs": [
    {
     "output_type": "execute_result",
     "data": {
      "text/plain": "                                     id  \\\n0       MyCloud.OpenArea.Init.Utterance   \n1    Router.SwitchOnWiFi.Init.Utterance   \n2     Tv.GenericExitToTv.Init.Utterance   \n3   Router.SwitchOffWiFi.Init.Utterance   \n4  Tv.RadioChannelChange.Init.Utterance   \n\n                                                  de  \\\n0  {'texts': [{'ttsText': '{MyCloudArea} auf #myC...   \n1  {'texts': [{'ttsText': 'aktiviere das Wlan'}, ...   \n2  {'texts': [{'ttsText': 'gehe zurück zum Fernse...   \n3  {'texts': [{'ttsText': 'deaktiviere das Wlan'}...   \n4  {'texts': [{'ttsText': 'auf Radio {RadioChanne...   \n\n                                                  fr  \\\n0  {'texts': [{'ttsText': 'afficher {MyCloudArea}...   \n1  {'texts': [{'ttsText': 'active le Wi-Fi'}, {'t...   \n2  {'texts': [{'ttsText': 'revenir à la télé'}, {...   \n3  {'texts': [{'ttsText': 'désactiver le Wi-Fi'},...   \n4  {'texts': [{'ttsText': 'prendre radio {RadioCh...   \n\n                                                  it  \\\n0  {'texts': [{'ttsText': 'apri {MyCloudArea} su ...   \n1  {'texts': [{'ttsText': 'attiva il #wifi'}, {'t...   \n2  {'texts': [{'ttsText': 'torna alla TV'}, {'tts...   \n3  {'texts': [{'ttsText': 'disattiva il wifi'}, {...   \n4  {'texts': [{'ttsText': 'metti radio {RadioChan...   \n\n                                                  en  \n0  {'texts': [{'ttsText': 'show {MyCloudArea} on ...  \n1  {'texts': [{'ttsText': 'activate the Wi-Fi'}, ...  \n2  {'texts': [{'ttsText': 'back to TV'}, {'ttsTex...  \n3  {'texts': [{'ttsText': 'can you please switch ...  \n4  {'texts': [{'ttsText': 'can you turn on radio ...  ",
      "text/html": "<div>\n<style scoped>\n    .dataframe tbody tr th:only-of-type {\n        vertical-align: middle;\n    }\n\n    .dataframe tbody tr th {\n        vertical-align: top;\n    }\n\n    .dataframe thead th {\n        text-align: right;\n    }\n</style>\n<table border=\"1\" class=\"dataframe\">\n  <thead>\n    <tr style=\"text-align: right;\">\n      <th></th>\n      <th>id</th>\n      <th>de</th>\n      <th>fr</th>\n      <th>it</th>\n      <th>en</th>\n    </tr>\n  </thead>\n  <tbody>\n    <tr>\n      <th>0</th>\n      <td>MyCloud.OpenArea.Init.Utterance</td>\n      <td>{'texts': [{'ttsText': '{MyCloudArea} auf #myC...</td>\n      <td>{'texts': [{'ttsText': 'afficher {MyCloudArea}...</td>\n      <td>{'texts': [{'ttsText': 'apri {MyCloudArea} su ...</td>\n      <td>{'texts': [{'ttsText': 'show {MyCloudArea} on ...</td>\n    </tr>\n    <tr>\n      <th>1</th>\n      <td>Router.SwitchOnWiFi.Init.Utterance</td>\n      <td>{'texts': [{'ttsText': 'aktiviere das Wlan'}, ...</td>\n      <td>{'texts': [{'ttsText': 'active le Wi-Fi'}, {'t...</td>\n      <td>{'texts': [{'ttsText': 'attiva il #wifi'}, {'t...</td>\n      <td>{'texts': [{'ttsText': 'activate the Wi-Fi'}, ...</td>\n    </tr>\n    <tr>\n      <th>2</th>\n      <td>Tv.GenericExitToTv.Init.Utterance</td>\n      <td>{'texts': [{'ttsText': 'gehe zurück zum Fernse...</td>\n      <td>{'texts': [{'ttsText': 'revenir à la télé'}, {...</td>\n      <td>{'texts': [{'ttsText': 'torna alla TV'}, {'tts...</td>\n      <td>{'texts': [{'ttsText': 'back to TV'}, {'ttsTex...</td>\n    </tr>\n    <tr>\n      <th>3</th>\n      <td>Router.SwitchOffWiFi.Init.Utterance</td>\n      <td>{'texts': [{'ttsText': 'deaktiviere das Wlan'}...</td>\n      <td>{'texts': [{'ttsText': 'désactiver le Wi-Fi'},...</td>\n      <td>{'texts': [{'ttsText': 'disattiva il wifi'}, {...</td>\n      <td>{'texts': [{'ttsText': 'can you please switch ...</td>\n    </tr>\n    <tr>\n      <th>4</th>\n      <td>Tv.RadioChannelChange.Init.Utterance</td>\n      <td>{'texts': [{'ttsText': 'auf Radio {RadioChanne...</td>\n      <td>{'texts': [{'ttsText': 'prendre radio {RadioCh...</td>\n      <td>{'texts': [{'ttsText': 'metti radio {RadioChan...</td>\n      <td>{'texts': [{'ttsText': 'can you turn on radio ...</td>\n    </tr>\n  </tbody>\n</table>\n</div>"
     },
     "metadata": {},
     "execution_count": 2
    }
   ]
  },
  {
   "cell_type": "code",
   "execution_count": 8,
   "metadata": {
    "scrolled": true
   },
   "outputs": [
    {
     "output_type": "error",
     "ename": "TypeError",
     "evalue": "unhashable type: 'dict'",
     "traceback": [
      "\u001b[0;31m---------------------------------------------------------------------------\u001b[0m",
      "\u001b[0;31mTypeError\u001b[0m                                 Traceback (most recent call last)",
      "\u001b[0;32mpandas/_libs/hashtable_class_helper.pxi\u001b[0m in \u001b[0;36mpandas._libs.hashtable.PyObjectHashTable.map_locations\u001b[0;34m()\u001b[0m\n",
      "\u001b[0;31mTypeError\u001b[0m: unhashable type: 'dict'"
     ]
    }
   ],
   "source": [
    "templates_updated.describe()"
   ]
  },
  {
   "cell_type": "markdown",
   "metadata": {},
   "source": [
    "## Entities"
   ]
  },
  {
   "cell_type": "code",
   "execution_count": 5,
   "metadata": {
    "scrolled": true
   },
   "outputs": [
    {
     "output_type": "execute_result",
     "data": {
      "text/plain": "       value                 type language normalizedValue aliases\n0     Widnau  LocalsearchLocation       de          widnau      []\n1     Zurigo  LocalsearchLocation       it          zurigo      []\n2  Solothurn  LocalsearchLocation       de       solothurn      []\n3    Muttenz  LocalsearchLocation       de         muttenz      []\n4       Lyss  LocalsearchLocation       de            lyss      []",
      "text/html": "<div>\n<style scoped>\n    .dataframe tbody tr th:only-of-type {\n        vertical-align: middle;\n    }\n\n    .dataframe tbody tr th {\n        vertical-align: top;\n    }\n\n    .dataframe thead th {\n        text-align: right;\n    }\n</style>\n<table border=\"1\" class=\"dataframe\">\n  <thead>\n    <tr style=\"text-align: right;\">\n      <th></th>\n      <th>value</th>\n      <th>type</th>\n      <th>language</th>\n      <th>normalizedValue</th>\n      <th>aliases</th>\n    </tr>\n  </thead>\n  <tbody>\n    <tr>\n      <th>0</th>\n      <td>Widnau</td>\n      <td>LocalsearchLocation</td>\n      <td>de</td>\n      <td>widnau</td>\n      <td>[]</td>\n    </tr>\n    <tr>\n      <th>1</th>\n      <td>Zurigo</td>\n      <td>LocalsearchLocation</td>\n      <td>it</td>\n      <td>zurigo</td>\n      <td>[]</td>\n    </tr>\n    <tr>\n      <th>2</th>\n      <td>Solothurn</td>\n      <td>LocalsearchLocation</td>\n      <td>de</td>\n      <td>solothurn</td>\n      <td>[]</td>\n    </tr>\n    <tr>\n      <th>3</th>\n      <td>Muttenz</td>\n      <td>LocalsearchLocation</td>\n      <td>de</td>\n      <td>muttenz</td>\n      <td>[]</td>\n    </tr>\n    <tr>\n      <th>4</th>\n      <td>Lyss</td>\n      <td>LocalsearchLocation</td>\n      <td>de</td>\n      <td>lyss</td>\n      <td>[]</td>\n    </tr>\n  </tbody>\n</table>\n</div>"
     },
     "metadata": {},
     "execution_count": 5
    }
   ],
   "source": [
    "# entities\n",
    "entities = pd.read_json(\"../data/entities.json\")\n",
    "entities = entities[['value', 'type', 'language', 'normalizedValue', 'aliases']]\n",
    "entities.head()"
   ]
  },
  {
   "cell_type": "code",
   "execution_count": 6,
   "metadata": {},
   "outputs": [
    {
     "output_type": "error",
     "ename": "TypeError",
     "evalue": "unhashable type: 'list'",
     "traceback": [
      "\u001b[0;31m---------------------------------------------------------------------------\u001b[0m",
      "\u001b[0;31mTypeError\u001b[0m                                 Traceback (most recent call last)",
      "\u001b[0;32mpandas/_libs/hashtable_class_helper.pxi\u001b[0m in \u001b[0;36mpandas._libs.hashtable.PyObjectHashTable.map_locations\u001b[0;34m()\u001b[0m\n",
      "\u001b[0;31mTypeError\u001b[0m: unhashable type: 'list'"
     ]
    }
   ],
   "source": [
    "entities.describe()"
   ]
  },
  {
   "cell_type": "markdown",
   "metadata": {},
   "source": [
    "# Explore data"
   ]
  },
  {
   "cell_type": "markdown",
   "metadata": {},
   "source": [
    "### Entities catagorical count"
   ]
  },
  {
   "cell_type": "code",
   "execution_count": 9,
   "metadata": {
    "scrolled": true
   },
   "outputs": [
    {
     "output_type": "execute_result",
     "data": {
      "text/plain": "language                     de      en      fr      it\ntype                                                   \nAlbumName                   NaN  1479.0     NaN     NaN\nAppName                   326.0   273.0   312.0   290.0\nAreaName                   26.0    26.0    26.0    26.0\nArtistName                  NaN   822.0     NaN     NaN\nBroadcastName             715.0   483.0   676.0   663.0\nCallingNumberType           3.0     4.0     4.0     4.0\nClipName                  353.0   320.0   342.0   338.0\nDossierName                 8.0     3.0     5.0     3.0\nFirstName                 952.0     NaN     NaN     NaN\nGenreName                   NaN     8.0     NaN     NaN\nLastName                  998.0     NaN     NaN     NaN\nLocalsearchLocation      3403.0    28.0  1909.0  1572.0\nMyCloudArea                 5.0     5.0     5.0     5.0\nNickName                   20.0    25.0    21.0    20.0\nParticipantName          2710.0   297.0  1473.0   575.0\nRadioChannelName          366.0   365.0   365.0   365.0\nSeriesName               6186.0  3281.0  4766.0  3680.0\nSmartHomeDeviceBrand        8.0    10.0    10.0     9.0\nSmartHomeDeviceCategory     5.0     5.0     5.0     5.0\nSmartHomeDeviceLocation     9.0     9.0     9.0     9.0\nSmartHomeDeviceName       100.0   100.0   100.0   101.0\nSmartHomeSceneName         50.0    49.0    50.0    50.0\nSportCompetitionName       20.0    20.0    20.0    20.0\nSportEventName            206.0   207.0   203.0   207.0\nSportParticipantName      432.0   432.0   432.0   432.0\nSportSportsName            10.0    10.0    10.0    10.0\nTrackName                   NaN  2701.0     NaN     NaN\nTvChannelName             635.0   623.0   633.0   633.0\nTvGenre                   137.0   131.0   131.0   127.0\nVodGenre                   99.0   107.0    99.0    99.0\nVodName                  4961.0  4209.0  3760.0  2083.0\nentitytype_1                1.0     NaN     NaN     NaN\ntest_aliasesTest            2.0     NaN     1.0     NaN",
      "text/html": "<div>\n<style scoped>\n    .dataframe tbody tr th:only-of-type {\n        vertical-align: middle;\n    }\n\n    .dataframe tbody tr th {\n        vertical-align: top;\n    }\n\n    .dataframe thead th {\n        text-align: right;\n    }\n</style>\n<table border=\"1\" class=\"dataframe\">\n  <thead>\n    <tr style=\"text-align: right;\">\n      <th>language</th>\n      <th>de</th>\n      <th>en</th>\n      <th>fr</th>\n      <th>it</th>\n    </tr>\n    <tr>\n      <th>type</th>\n      <th></th>\n      <th></th>\n      <th></th>\n      <th></th>\n    </tr>\n  </thead>\n  <tbody>\n    <tr>\n      <th>AlbumName</th>\n      <td>NaN</td>\n      <td>1479.0</td>\n      <td>NaN</td>\n      <td>NaN</td>\n    </tr>\n    <tr>\n      <th>AppName</th>\n      <td>326.0</td>\n      <td>273.0</td>\n      <td>312.0</td>\n      <td>290.0</td>\n    </tr>\n    <tr>\n      <th>AreaName</th>\n      <td>26.0</td>\n      <td>26.0</td>\n      <td>26.0</td>\n      <td>26.0</td>\n    </tr>\n    <tr>\n      <th>ArtistName</th>\n      <td>NaN</td>\n      <td>822.0</td>\n      <td>NaN</td>\n      <td>NaN</td>\n    </tr>\n    <tr>\n      <th>BroadcastName</th>\n      <td>715.0</td>\n      <td>483.0</td>\n      <td>676.0</td>\n      <td>663.0</td>\n    </tr>\n    <tr>\n      <th>CallingNumberType</th>\n      <td>3.0</td>\n      <td>4.0</td>\n      <td>4.0</td>\n      <td>4.0</td>\n    </tr>\n    <tr>\n      <th>ClipName</th>\n      <td>353.0</td>\n      <td>320.0</td>\n      <td>342.0</td>\n      <td>338.0</td>\n    </tr>\n    <tr>\n      <th>DossierName</th>\n      <td>8.0</td>\n      <td>3.0</td>\n      <td>5.0</td>\n      <td>3.0</td>\n    </tr>\n    <tr>\n      <th>FirstName</th>\n      <td>952.0</td>\n      <td>NaN</td>\n      <td>NaN</td>\n      <td>NaN</td>\n    </tr>\n    <tr>\n      <th>GenreName</th>\n      <td>NaN</td>\n      <td>8.0</td>\n      <td>NaN</td>\n      <td>NaN</td>\n    </tr>\n    <tr>\n      <th>LastName</th>\n      <td>998.0</td>\n      <td>NaN</td>\n      <td>NaN</td>\n      <td>NaN</td>\n    </tr>\n    <tr>\n      <th>LocalsearchLocation</th>\n      <td>3403.0</td>\n      <td>28.0</td>\n      <td>1909.0</td>\n      <td>1572.0</td>\n    </tr>\n    <tr>\n      <th>MyCloudArea</th>\n      <td>5.0</td>\n      <td>5.0</td>\n      <td>5.0</td>\n      <td>5.0</td>\n    </tr>\n    <tr>\n      <th>NickName</th>\n      <td>20.0</td>\n      <td>25.0</td>\n      <td>21.0</td>\n      <td>20.0</td>\n    </tr>\n    <tr>\n      <th>ParticipantName</th>\n      <td>2710.0</td>\n      <td>297.0</td>\n      <td>1473.0</td>\n      <td>575.0</td>\n    </tr>\n    <tr>\n      <th>RadioChannelName</th>\n      <td>366.0</td>\n      <td>365.0</td>\n      <td>365.0</td>\n      <td>365.0</td>\n    </tr>\n    <tr>\n      <th>SeriesName</th>\n      <td>6186.0</td>\n      <td>3281.0</td>\n      <td>4766.0</td>\n      <td>3680.0</td>\n    </tr>\n    <tr>\n      <th>SmartHomeDeviceBrand</th>\n      <td>8.0</td>\n      <td>10.0</td>\n      <td>10.0</td>\n      <td>9.0</td>\n    </tr>\n    <tr>\n      <th>SmartHomeDeviceCategory</th>\n      <td>5.0</td>\n      <td>5.0</td>\n      <td>5.0</td>\n      <td>5.0</td>\n    </tr>\n    <tr>\n      <th>SmartHomeDeviceLocation</th>\n      <td>9.0</td>\n      <td>9.0</td>\n      <td>9.0</td>\n      <td>9.0</td>\n    </tr>\n    <tr>\n      <th>SmartHomeDeviceName</th>\n      <td>100.0</td>\n      <td>100.0</td>\n      <td>100.0</td>\n      <td>101.0</td>\n    </tr>\n    <tr>\n      <th>SmartHomeSceneName</th>\n      <td>50.0</td>\n      <td>49.0</td>\n      <td>50.0</td>\n      <td>50.0</td>\n    </tr>\n    <tr>\n      <th>SportCompetitionName</th>\n      <td>20.0</td>\n      <td>20.0</td>\n      <td>20.0</td>\n      <td>20.0</td>\n    </tr>\n    <tr>\n      <th>SportEventName</th>\n      <td>206.0</td>\n      <td>207.0</td>\n      <td>203.0</td>\n      <td>207.0</td>\n    </tr>\n    <tr>\n      <th>SportParticipantName</th>\n      <td>432.0</td>\n      <td>432.0</td>\n      <td>432.0</td>\n      <td>432.0</td>\n    </tr>\n    <tr>\n      <th>SportSportsName</th>\n      <td>10.0</td>\n      <td>10.0</td>\n      <td>10.0</td>\n      <td>10.0</td>\n    </tr>\n    <tr>\n      <th>TrackName</th>\n      <td>NaN</td>\n      <td>2701.0</td>\n      <td>NaN</td>\n      <td>NaN</td>\n    </tr>\n    <tr>\n      <th>TvChannelName</th>\n      <td>635.0</td>\n      <td>623.0</td>\n      <td>633.0</td>\n      <td>633.0</td>\n    </tr>\n    <tr>\n      <th>TvGenre</th>\n      <td>137.0</td>\n      <td>131.0</td>\n      <td>131.0</td>\n      <td>127.0</td>\n    </tr>\n    <tr>\n      <th>VodGenre</th>\n      <td>99.0</td>\n      <td>107.0</td>\n      <td>99.0</td>\n      <td>99.0</td>\n    </tr>\n    <tr>\n      <th>VodName</th>\n      <td>4961.0</td>\n      <td>4209.0</td>\n      <td>3760.0</td>\n      <td>2083.0</td>\n    </tr>\n    <tr>\n      <th>entitytype_1</th>\n      <td>1.0</td>\n      <td>NaN</td>\n      <td>NaN</td>\n      <td>NaN</td>\n    </tr>\n    <tr>\n      <th>test_aliasesTest</th>\n      <td>2.0</td>\n      <td>NaN</td>\n      <td>1.0</td>\n      <td>NaN</td>\n    </tr>\n  </tbody>\n</table>\n</div>"
     },
     "metadata": {},
     "execution_count": 9
    }
   ],
   "source": [
    "df = entities[['type', 'language']]\n",
    "df = df.groupby(['type','language']).size().reset_index(name='count') \n",
    "df.pivot(index='type', columns='language', values='count')#.plot(kind='bar')"
   ]
  },
  {
   "cell_type": "code",
   "execution_count": 10,
   "metadata": {
    "scrolled": false
   },
   "outputs": [
    {
     "output_type": "execute_result",
     "data": {
      "text/plain": "                                     id  \\\n0       MyCloud.OpenArea.Init.Utterance   \n1    Router.SwitchOnWiFi.Init.Utterance   \n2     Tv.GenericExitToTv.Init.Utterance   \n3   Router.SwitchOffWiFi.Init.Utterance   \n4  Tv.RadioChannelChange.Init.Utterance   \n\n                                                  de  \\\n0  {'texts': [{'ttsText': '{MyCloudArea} auf #myC...   \n1  {'texts': [{'ttsText': 'aktiviere das Wlan'}, ...   \n2  {'texts': [{'ttsText': 'gehe zurück zum Fernse...   \n3  {'texts': [{'ttsText': 'deaktiviere das Wlan'}...   \n4  {'texts': [{'ttsText': 'auf Radio {RadioChanne...   \n\n                                                  fr  \\\n0  {'texts': [{'ttsText': 'afficher {MyCloudArea}...   \n1  {'texts': [{'ttsText': 'active le Wi-Fi'}, {'t...   \n2  {'texts': [{'ttsText': 'revenir à la télé'}, {...   \n3  {'texts': [{'ttsText': 'désactiver le Wi-Fi'},...   \n4  {'texts': [{'ttsText': 'prendre radio {RadioCh...   \n\n                                                  it  \\\n0  {'texts': [{'ttsText': 'apri {MyCloudArea} su ...   \n1  {'texts': [{'ttsText': 'attiva il #wifi'}, {'t...   \n2  {'texts': [{'ttsText': 'torna alla TV'}, {'tts...   \n3  {'texts': [{'ttsText': 'disattiva il wifi'}, {...   \n4  {'texts': [{'ttsText': 'metti radio {RadioChan...   \n\n                                                  en  \n0  {'texts': [{'ttsText': 'show {MyCloudArea} on ...  \n1  {'texts': [{'ttsText': 'activate the Wi-Fi'}, ...  \n2  {'texts': [{'ttsText': 'back to TV'}, {'ttsTex...  \n3  {'texts': [{'ttsText': 'can you please switch ...  \n4  {'texts': [{'ttsText': 'can you turn on radio ...  ",
      "text/html": "<div>\n<style scoped>\n    .dataframe tbody tr th:only-of-type {\n        vertical-align: middle;\n    }\n\n    .dataframe tbody tr th {\n        vertical-align: top;\n    }\n\n    .dataframe thead th {\n        text-align: right;\n    }\n</style>\n<table border=\"1\" class=\"dataframe\">\n  <thead>\n    <tr style=\"text-align: right;\">\n      <th></th>\n      <th>id</th>\n      <th>de</th>\n      <th>fr</th>\n      <th>it</th>\n      <th>en</th>\n    </tr>\n  </thead>\n  <tbody>\n    <tr>\n      <th>0</th>\n      <td>MyCloud.OpenArea.Init.Utterance</td>\n      <td>{'texts': [{'ttsText': '{MyCloudArea} auf #myC...</td>\n      <td>{'texts': [{'ttsText': 'afficher {MyCloudArea}...</td>\n      <td>{'texts': [{'ttsText': 'apri {MyCloudArea} su ...</td>\n      <td>{'texts': [{'ttsText': 'show {MyCloudArea} on ...</td>\n    </tr>\n    <tr>\n      <th>1</th>\n      <td>Router.SwitchOnWiFi.Init.Utterance</td>\n      <td>{'texts': [{'ttsText': 'aktiviere das Wlan'}, ...</td>\n      <td>{'texts': [{'ttsText': 'active le Wi-Fi'}, {'t...</td>\n      <td>{'texts': [{'ttsText': 'attiva il #wifi'}, {'t...</td>\n      <td>{'texts': [{'ttsText': 'activate the Wi-Fi'}, ...</td>\n    </tr>\n    <tr>\n      <th>2</th>\n      <td>Tv.GenericExitToTv.Init.Utterance</td>\n      <td>{'texts': [{'ttsText': 'gehe zurück zum Fernse...</td>\n      <td>{'texts': [{'ttsText': 'revenir à la télé'}, {...</td>\n      <td>{'texts': [{'ttsText': 'torna alla TV'}, {'tts...</td>\n      <td>{'texts': [{'ttsText': 'back to TV'}, {'ttsTex...</td>\n    </tr>\n    <tr>\n      <th>3</th>\n      <td>Router.SwitchOffWiFi.Init.Utterance</td>\n      <td>{'texts': [{'ttsText': 'deaktiviere das Wlan'}...</td>\n      <td>{'texts': [{'ttsText': 'désactiver le Wi-Fi'},...</td>\n      <td>{'texts': [{'ttsText': 'disattiva il wifi'}, {...</td>\n      <td>{'texts': [{'ttsText': 'can you please switch ...</td>\n    </tr>\n    <tr>\n      <th>4</th>\n      <td>Tv.RadioChannelChange.Init.Utterance</td>\n      <td>{'texts': [{'ttsText': 'auf Radio {RadioChanne...</td>\n      <td>{'texts': [{'ttsText': 'prendre radio {RadioCh...</td>\n      <td>{'texts': [{'ttsText': 'metti radio {RadioChan...</td>\n      <td>{'texts': [{'ttsText': 'can you turn on radio ...</td>\n    </tr>\n  </tbody>\n</table>\n</div>"
     },
     "metadata": {},
     "execution_count": 10
    }
   ],
   "source": [
    "templates_updated.head()"
   ]
  },
  {
   "cell_type": "code",
   "execution_count": 12,
   "metadata": {},
   "outputs": [],
   "source": [
    "target_id, target_lang = 'MyCloud.OpenArea.Init.Utterance', 'de'\n",
    "t = templates_updated[templates_updated['id'] == target_id]['de'][0]['texts'][0]['ttsText']"
   ]
  },
  {
   "cell_type": "code",
   "execution_count": 57,
   "metadata": {},
   "outputs": [
    {
     "output_type": "execute_result",
     "data": {
      "text/plain": "'Fotoalben auf #myCloud anzeigen {MyCloudArea}'"
     },
     "metadata": {},
     "execution_count": 57
    }
   ],
   "source": [
    "#multiple label\n",
    "re.sub('{'+ tags[0] + '}', selected_value, t + \" {MyCloudArea}\", 1)"
   ]
  },
  {
   "cell_type": "code",
   "execution_count": null,
   "metadata": {},
   "outputs": [],
   "source": [
    "selected_value"
   ]
  },
  {
   "cell_type": "code",
   "execution_count": 14,
   "metadata": {},
   "outputs": [],
   "source": [
    "import re  \n",
    "# re.sub('{\\S+}', 'DDD', t)\n",
    "tags = [ s[1 : -1] for s in re.findall('{\\S+}', t+\"{MyCloudArea}\")]"
   ]
  },
  {
   "cell_type": "code",
   "execution_count": 27,
   "metadata": {},
   "outputs": [
    {
     "output_type": "execute_result",
     "data": {
      "text/plain": "                     value         type language      normalizedValue  \\\n41769                Fotos  MyCloudArea       de                fotos   \n41772            Favoriten  MyCloudArea       de            favoriten   \n41774                Alben  MyCloudArea       de                alben   \n41776               Videos  MyCloudArea       de               videos   \n41780  Zuletzt hochgeladen  MyCloudArea       de  zuletzt hochgeladen   \n\n                                                 aliases  \n41769  [fotos, fotogalerie, Bilder, Bilder Galerie, m...  \n41772  [Lieblingsfotos, Lieblingsfoto, lieblingsaufna...  \n41774  [bilderalben, Foto Album, Fotoalben, Sammlung,...  \n41776  [Video Aufnahmen, Videoaufnahmen, videoaufnahm...  \n41780  [akutellen, letzte, aktuelle, jüngsten, neuest...  ",
      "text/html": "<div>\n<style scoped>\n    .dataframe tbody tr th:only-of-type {\n        vertical-align: middle;\n    }\n\n    .dataframe tbody tr th {\n        vertical-align: top;\n    }\n\n    .dataframe thead th {\n        text-align: right;\n    }\n</style>\n<table border=\"1\" class=\"dataframe\">\n  <thead>\n    <tr style=\"text-align: right;\">\n      <th></th>\n      <th>value</th>\n      <th>type</th>\n      <th>language</th>\n      <th>normalizedValue</th>\n      <th>aliases</th>\n    </tr>\n  </thead>\n  <tbody>\n    <tr>\n      <th>41769</th>\n      <td>Fotos</td>\n      <td>MyCloudArea</td>\n      <td>de</td>\n      <td>fotos</td>\n      <td>[fotos, fotogalerie, Bilder, Bilder Galerie, m...</td>\n    </tr>\n    <tr>\n      <th>41772</th>\n      <td>Favoriten</td>\n      <td>MyCloudArea</td>\n      <td>de</td>\n      <td>favoriten</td>\n      <td>[Lieblingsfotos, Lieblingsfoto, lieblingsaufna...</td>\n    </tr>\n    <tr>\n      <th>41774</th>\n      <td>Alben</td>\n      <td>MyCloudArea</td>\n      <td>de</td>\n      <td>alben</td>\n      <td>[bilderalben, Foto Album, Fotoalben, Sammlung,...</td>\n    </tr>\n    <tr>\n      <th>41776</th>\n      <td>Videos</td>\n      <td>MyCloudArea</td>\n      <td>de</td>\n      <td>videos</td>\n      <td>[Video Aufnahmen, Videoaufnahmen, videoaufnahm...</td>\n    </tr>\n    <tr>\n      <th>41780</th>\n      <td>Zuletzt hochgeladen</td>\n      <td>MyCloudArea</td>\n      <td>de</td>\n      <td>zuletzt hochgeladen</td>\n      <td>[akutellen, letzte, aktuelle, jüngsten, neuest...</td>\n    </tr>\n  </tbody>\n</table>\n</div>"
     },
     "metadata": {},
     "execution_count": 27
    }
   ],
   "source": [
    "entities[entities['type'] == tags[0]][entities['language'] == target_lang]"
   ]
  },
  {
   "cell_type": "code",
   "execution_count": 49,
   "metadata": {},
   "outputs": [
    {
     "output_type": "execute_result",
     "data": {
      "text/plain": "'Fotoalben'"
     },
     "metadata": {},
     "execution_count": 49
    }
   ],
   "source": [
    "\n",
    "selected_value = random.choice(selected_entity['aliases'].values[0] + [selected_entity['value'].values[0]])\n",
    "selected_value"
   ]
  },
  {
   "cell_type": "code",
   "execution_count": 68,
   "metadata": {},
   "outputs": [
    {
     "output_type": "execute_result",
     "data": {
      "text/plain": "                                     id  \\\n0       MyCloud.OpenArea.Init.Utterance   \n1    Router.SwitchOnWiFi.Init.Utterance   \n2     Tv.GenericExitToTv.Init.Utterance   \n3   Router.SwitchOffWiFi.Init.Utterance   \n4  Tv.RadioChannelChange.Init.Utterance   \n\n                                                  de  \\\n0  {'texts': [{'ttsText': '{MyCloudArea} auf #myC...   \n1  {'texts': [{'ttsText': 'aktiviere das Wlan'}, ...   \n2  {'texts': [{'ttsText': 'gehe zurück zum Fernse...   \n3  {'texts': [{'ttsText': 'deaktiviere das Wlan'}...   \n4  {'texts': [{'ttsText': 'auf Radio {RadioChanne...   \n\n                                                  fr  \\\n0  {'texts': [{'ttsText': 'afficher {MyCloudArea}...   \n1  {'texts': [{'ttsText': 'active le Wi-Fi'}, {'t...   \n2  {'texts': [{'ttsText': 'revenir à la télé'}, {...   \n3  {'texts': [{'ttsText': 'désactiver le Wi-Fi'},...   \n4  {'texts': [{'ttsText': 'prendre radio {RadioCh...   \n\n                                                  it  \\\n0  {'texts': [{'ttsText': 'apri {MyCloudArea} su ...   \n1  {'texts': [{'ttsText': 'attiva il #wifi'}, {'t...   \n2  {'texts': [{'ttsText': 'torna alla TV'}, {'tts...   \n3  {'texts': [{'ttsText': 'disattiva il wifi'}, {...   \n4  {'texts': [{'ttsText': 'metti radio {RadioChan...   \n\n                                                  en  \n0  {'texts': [{'ttsText': 'show {MyCloudArea} on ...  \n1  {'texts': [{'ttsText': 'activate the Wi-Fi'}, ...  \n2  {'texts': [{'ttsText': 'back to TV'}, {'ttsTex...  \n3  {'texts': [{'ttsText': 'can you please switch ...  \n4  {'texts': [{'ttsText': 'can you turn on radio ...  ",
      "text/html": "<div>\n<style scoped>\n    .dataframe tbody tr th:only-of-type {\n        vertical-align: middle;\n    }\n\n    .dataframe tbody tr th {\n        vertical-align: top;\n    }\n\n    .dataframe thead th {\n        text-align: right;\n    }\n</style>\n<table border=\"1\" class=\"dataframe\">\n  <thead>\n    <tr style=\"text-align: right;\">\n      <th></th>\n      <th>id</th>\n      <th>de</th>\n      <th>fr</th>\n      <th>it</th>\n      <th>en</th>\n    </tr>\n  </thead>\n  <tbody>\n    <tr>\n      <th>0</th>\n      <td>MyCloud.OpenArea.Init.Utterance</td>\n      <td>{'texts': [{'ttsText': '{MyCloudArea} auf #myC...</td>\n      <td>{'texts': [{'ttsText': 'afficher {MyCloudArea}...</td>\n      <td>{'texts': [{'ttsText': 'apri {MyCloudArea} su ...</td>\n      <td>{'texts': [{'ttsText': 'show {MyCloudArea} on ...</td>\n    </tr>\n    <tr>\n      <th>1</th>\n      <td>Router.SwitchOnWiFi.Init.Utterance</td>\n      <td>{'texts': [{'ttsText': 'aktiviere das Wlan'}, ...</td>\n      <td>{'texts': [{'ttsText': 'active le Wi-Fi'}, {'t...</td>\n      <td>{'texts': [{'ttsText': 'attiva il #wifi'}, {'t...</td>\n      <td>{'texts': [{'ttsText': 'activate the Wi-Fi'}, ...</td>\n    </tr>\n    <tr>\n      <th>2</th>\n      <td>Tv.GenericExitToTv.Init.Utterance</td>\n      <td>{'texts': [{'ttsText': 'gehe zurück zum Fernse...</td>\n      <td>{'texts': [{'ttsText': 'revenir à la télé'}, {...</td>\n      <td>{'texts': [{'ttsText': 'torna alla TV'}, {'tts...</td>\n      <td>{'texts': [{'ttsText': 'back to TV'}, {'ttsTex...</td>\n    </tr>\n    <tr>\n      <th>3</th>\n      <td>Router.SwitchOffWiFi.Init.Utterance</td>\n      <td>{'texts': [{'ttsText': 'deaktiviere das Wlan'}...</td>\n      <td>{'texts': [{'ttsText': 'désactiver le Wi-Fi'},...</td>\n      <td>{'texts': [{'ttsText': 'disattiva il wifi'}, {...</td>\n      <td>{'texts': [{'ttsText': 'can you please switch ...</td>\n    </tr>\n    <tr>\n      <th>4</th>\n      <td>Tv.RadioChannelChange.Init.Utterance</td>\n      <td>{'texts': [{'ttsText': 'auf Radio {RadioChanne...</td>\n      <td>{'texts': [{'ttsText': 'prendre radio {RadioCh...</td>\n      <td>{'texts': [{'ttsText': 'metti radio {RadioChan...</td>\n      <td>{'texts': [{'ttsText': 'can you turn on radio ...</td>\n    </tr>\n  </tbody>\n</table>\n</div>"
     },
     "metadata": {},
     "execution_count": 68
    }
   ],
   "source": [
    "templates_updated.head()"
   ]
  },
  {
   "cell_type": "code",
   "execution_count": 88,
   "metadata": {
    "scrolled": true,
    "tags": []
   },
   "outputs": [
    {
     "output_type": "execute_result",
     "data": {
      "text/plain": "'go back to the last channel'"
     },
     "metadata": {},
     "execution_count": 88
    }
   ],
   "source": [
    "target_id, target_lang = 'Tv.GenericExitToTv.Init.Utterance', 'en'\n",
    "\n",
    "#TODO: improve random\n",
    "\n",
    "from plato_ai_asr_preprocessor.preprocessor import Preprocessor\n",
    "class Normalizer:\n",
    "    preprocessor: Preprocessor = None\n",
    "\n",
    "    def __init__(self):\n",
    "        self.preprocessor = Preprocessor(use_case='kaldi-lm', cleaner_config=None, abbreviation_config=None)\n",
    "\n",
    "    def normalize_text(self, text: str, language: str) -> str:\n",
    "        normalized_text, _ = self.preprocessor.process(text=text, language=language)\n",
    "        return normalized_text\n",
    "        \n",
    "normalizer = Normalizer()\n",
    "\n",
    "def select_entity_from_table(entities, tag, target_lang):\n",
    "    selected_entity = (entities[entities['type'] == tag][entities['language'] == target_lang]).sample(n=1)\n",
    "    return selected_entity\n",
    "\n",
    "def select_value_from_entity(selected_entity):\n",
    "    selected_value = random.choice(selected_entity['aliases'].values[0] + [selected_entity['value'].values[0]])\n",
    "    return selected_value\n",
    "\n",
    "def select_template_from_table(templates, target_id, target_lang):\n",
    "    pattern_list = templates[templates['id'] == target_id][target_lang].values[0]['texts']\n",
    "    pattern = random.choice(pattern_list)['ttsText'] \n",
    "    return pattern\n",
    "\n",
    "def replace_tags(template, target_lang, entities):\n",
    "    tags = [s[1 : -1] for s in re.findall('{\\S+}', template)]\n",
    "    for tag in tags:\n",
    "        selected_entity = select_entity_from_table(entities, tag, target_lang)\n",
    "        selected_value = select_value_from_entity(selected_entity)\n",
    "        template = re.sub('{'+ tag + '}', selected_value, template, 1)\n",
    "    return template\n",
    "\n",
    "def generate_command_from_templates(templates, entities, target_id, target_lang):\n",
    "    template = select_template_from_table(templates, target_id, target_lang)\n",
    "    template = replace_tags(template, target_lang, entities)\n",
    "    return normalizer.normalize_text(template, target_lang)\n",
    "\n",
    "generate_command_from_templates(templates_updated, entities, target_id, target_lang)"
   ]
  }
 ],
 "metadata": {
  "kernelspec": {
   "name": "python37764bitjobpostingconda22929374449545e284a5643e9731aeaa",
   "display_name": "Python 3.7.7 64-bit ('jobposting': conda)",
   "metadata": {
    "interpreter": {
     "hash": "569d6b7e9215e11aba41c6454007e5c1b78bad7df09dab765d8cf00362c40f03"
    }
   }
  },
  "language_info": {
   "codemirror_mode": {
    "name": "ipython",
    "version": 3
   },
   "file_extension": ".py",
   "mimetype": "text/x-python",
   "name": "python",
   "nbconvert_exporter": "python",
   "pygments_lexer": "ipython3",
   "version": "3.7.7-final"
  }
 },
 "nbformat": 4,
 "nbformat_minor": 4
}