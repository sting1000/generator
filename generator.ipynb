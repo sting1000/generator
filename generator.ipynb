{
 "cells": [
  {
   "cell_type": "markdown",
   "metadata": {},
   "source": [
    "# Get dataset"
   ]
  },
  {
   "cell_type": "code",
   "execution_count": 44,
   "metadata": {
    "tags": []
   },
   "outputs": [
    {
     "output_type": "stream",
     "name": "stdout",
     "text": "The autoreload extension is already loaded. To reload it, use:\n  %reload_ext autoreload\n"
    }
   ],
   "source": [
    "import pandas as pd\n",
    "import numpy as np\n",
    "import random\n",
    "import re  \n",
    "%load_ext autoreload\n",
    "%autoreload 2"
   ]
  },
  {
   "cell_type": "markdown",
   "metadata": {},
   "source": [
    "## Templates"
   ]
  },
  {
   "source": [
    "# templates\n",
    "templates = pd.read_json(\"data/templates.json\")\n",
    "init_uttr_updated = pd.read_csv(\"data/InitUtterance_list_updated.csv\")\n",
    "templates_updated = templates.merge(init_uttr_updated, on='id')\n",
    "templates_updated = templates_updated[['id','de', 'fr', 'it', 'en']]\n",
    "templates_updated.head()"
   ],
   "cell_type": "code",
   "metadata": {},
   "execution_count": 4,
   "outputs": [
    {
     "output_type": "execute_result",
     "data": {
      "text/plain": "                                     id  \\\n0       MyCloud.OpenArea.Init.Utterance   \n1    Router.SwitchOnWiFi.Init.Utterance   \n2     Tv.GenericExitToTv.Init.Utterance   \n3   Router.SwitchOffWiFi.Init.Utterance   \n4  Tv.RadioChannelChange.Init.Utterance   \n\n                                                  de  \\\n0  {'texts': [{'ttsText': '{MyCloudArea} auf #myC...   \n1  {'texts': [{'ttsText': 'aktiviere das Wlan'}, ...   \n2  {'texts': [{'ttsText': 'gehe zurück zum Fernse...   \n3  {'texts': [{'ttsText': 'deaktiviere das Wlan'}...   \n4  {'texts': [{'ttsText': 'auf Radio {RadioChanne...   \n\n                                                  fr  \\\n0  {'texts': [{'ttsText': 'afficher {MyCloudArea}...   \n1  {'texts': [{'ttsText': 'active le Wi-Fi'}, {'t...   \n2  {'texts': [{'ttsText': 'revenir à la télé'}, {...   \n3  {'texts': [{'ttsText': 'désactiver le Wi-Fi'},...   \n4  {'texts': [{'ttsText': 'prendre radio {RadioCh...   \n\n                                                  it  \\\n0  {'texts': [{'ttsText': 'apri {MyCloudArea} su ...   \n1  {'texts': [{'ttsText': 'attiva il #wifi'}, {'t...   \n2  {'texts': [{'ttsText': 'torna alla TV'}, {'tts...   \n3  {'texts': [{'ttsText': 'disattiva il wifi'}, {...   \n4  {'texts': [{'ttsText': 'metti radio {RadioChan...   \n\n                                                  en  \n0  {'texts': [{'ttsText': 'show {MyCloudArea} on ...  \n1  {'texts': [{'ttsText': 'activate the Wi-Fi'}, ...  \n2  {'texts': [{'ttsText': 'back to TV'}, {'ttsTex...  \n3  {'texts': [{'ttsText': 'can you please switch ...  \n4  {'texts': [{'ttsText': 'can you turn on radio ...  ",
      "text/html": "<div>\n<style scoped>\n    .dataframe tbody tr th:only-of-type {\n        vertical-align: middle;\n    }\n\n    .dataframe tbody tr th {\n        vertical-align: top;\n    }\n\n    .dataframe thead th {\n        text-align: right;\n    }\n</style>\n<table border=\"1\" class=\"dataframe\">\n  <thead>\n    <tr style=\"text-align: right;\">\n      <th></th>\n      <th>id</th>\n      <th>de</th>\n      <th>fr</th>\n      <th>it</th>\n      <th>en</th>\n    </tr>\n  </thead>\n  <tbody>\n    <tr>\n      <th>0</th>\n      <td>MyCloud.OpenArea.Init.Utterance</td>\n      <td>{'texts': [{'ttsText': '{MyCloudArea} auf #myC...</td>\n      <td>{'texts': [{'ttsText': 'afficher {MyCloudArea}...</td>\n      <td>{'texts': [{'ttsText': 'apri {MyCloudArea} su ...</td>\n      <td>{'texts': [{'ttsText': 'show {MyCloudArea} on ...</td>\n    </tr>\n    <tr>\n      <th>1</th>\n      <td>Router.SwitchOnWiFi.Init.Utterance</td>\n      <td>{'texts': [{'ttsText': 'aktiviere das Wlan'}, ...</td>\n      <td>{'texts': [{'ttsText': 'active le Wi-Fi'}, {'t...</td>\n      <td>{'texts': [{'ttsText': 'attiva il #wifi'}, {'t...</td>\n      <td>{'texts': [{'ttsText': 'activate the Wi-Fi'}, ...</td>\n    </tr>\n    <tr>\n      <th>2</th>\n      <td>Tv.GenericExitToTv.Init.Utterance</td>\n      <td>{'texts': [{'ttsText': 'gehe zurück zum Fernse...</td>\n      <td>{'texts': [{'ttsText': 'revenir à la télé'}, {...</td>\n      <td>{'texts': [{'ttsText': 'torna alla TV'}, {'tts...</td>\n      <td>{'texts': [{'ttsText': 'back to TV'}, {'ttsTex...</td>\n    </tr>\n    <tr>\n      <th>3</th>\n      <td>Router.SwitchOffWiFi.Init.Utterance</td>\n      <td>{'texts': [{'ttsText': 'deaktiviere das Wlan'}...</td>\n      <td>{'texts': [{'ttsText': 'désactiver le Wi-Fi'},...</td>\n      <td>{'texts': [{'ttsText': 'disattiva il wifi'}, {...</td>\n      <td>{'texts': [{'ttsText': 'can you please switch ...</td>\n    </tr>\n    <tr>\n      <th>4</th>\n      <td>Tv.RadioChannelChange.Init.Utterance</td>\n      <td>{'texts': [{'ttsText': 'auf Radio {RadioChanne...</td>\n      <td>{'texts': [{'ttsText': 'prendre radio {RadioCh...</td>\n      <td>{'texts': [{'ttsText': 'metti radio {RadioChan...</td>\n      <td>{'texts': [{'ttsText': 'can you turn on radio ...</td>\n    </tr>\n  </tbody>\n</table>\n</div>"
     },
     "metadata": {},
     "execution_count": 4
    }
   ]
  },
  {
   "cell_type": "code",
   "execution_count": 5,
   "metadata": {
    "scrolled": true
   },
   "outputs": [
    {
     "output_type": "error",
     "ename": "TypeError",
     "evalue": "unhashable type: 'dict'",
     "traceback": [
      "\u001b[0;31m---------------------------------------------------------------------------\u001b[0m",
      "\u001b[0;31mTypeError\u001b[0m                                 Traceback (most recent call last)",
      "\u001b[0;32mpandas/_libs/hashtable_class_helper.pxi\u001b[0m in \u001b[0;36mpandas._libs.hashtable.PyObjectHashTable.map_locations\u001b[0;34m()\u001b[0m\n",
      "\u001b[0;31mTypeError\u001b[0m: unhashable type: 'dict'"
     ]
    }
   ],
   "source": [
    "templates_updated.describe()"
   ]
  },
  {
   "cell_type": "code",
   "execution_count": 69,
   "metadata": {},
   "outputs": [
    {
     "output_type": "execute_result",
     "data": {
      "text/plain": "'kann ich mir {MyCloudArea} bei #myCloud anschauen'"
     },
     "metadata": {},
     "execution_count": 69
    }
   ],
   "source": [
    "templates_updated.iloc[0]['de']['texts'][10]['ttsText']"
   ]
  },
  {
   "cell_type": "code",
   "execution_count": null,
   "metadata": {},
   "outputs": [],
   "source": []
  },
  {
   "cell_type": "markdown",
   "metadata": {},
   "source": [
    "## Entities"
   ]
  },
  {
   "cell_type": "code",
   "execution_count": 6,
   "metadata": {
    "scrolled": true
   },
   "outputs": [
    {
     "output_type": "execute_result",
     "data": {
      "text/plain": "       value                 type language normalizedValue aliases\n0     Widnau  LocalsearchLocation       de          widnau      []\n1     Zurigo  LocalsearchLocation       it          zurigo      []\n2  Solothurn  LocalsearchLocation       de       solothurn      []\n3    Muttenz  LocalsearchLocation       de         muttenz      []\n4       Lyss  LocalsearchLocation       de            lyss      []",
      "text/html": "<div>\n<style scoped>\n    .dataframe tbody tr th:only-of-type {\n        vertical-align: middle;\n    }\n\n    .dataframe tbody tr th {\n        vertical-align: top;\n    }\n\n    .dataframe thead th {\n        text-align: right;\n    }\n</style>\n<table border=\"1\" class=\"dataframe\">\n  <thead>\n    <tr style=\"text-align: right;\">\n      <th></th>\n      <th>value</th>\n      <th>type</th>\n      <th>language</th>\n      <th>normalizedValue</th>\n      <th>aliases</th>\n    </tr>\n  </thead>\n  <tbody>\n    <tr>\n      <th>0</th>\n      <td>Widnau</td>\n      <td>LocalsearchLocation</td>\n      <td>de</td>\n      <td>widnau</td>\n      <td>[]</td>\n    </tr>\n    <tr>\n      <th>1</th>\n      <td>Zurigo</td>\n      <td>LocalsearchLocation</td>\n      <td>it</td>\n      <td>zurigo</td>\n      <td>[]</td>\n    </tr>\n    <tr>\n      <th>2</th>\n      <td>Solothurn</td>\n      <td>LocalsearchLocation</td>\n      <td>de</td>\n      <td>solothurn</td>\n      <td>[]</td>\n    </tr>\n    <tr>\n      <th>3</th>\n      <td>Muttenz</td>\n      <td>LocalsearchLocation</td>\n      <td>de</td>\n      <td>muttenz</td>\n      <td>[]</td>\n    </tr>\n    <tr>\n      <th>4</th>\n      <td>Lyss</td>\n      <td>LocalsearchLocation</td>\n      <td>de</td>\n      <td>lyss</td>\n      <td>[]</td>\n    </tr>\n  </tbody>\n</table>\n</div>"
     },
     "metadata": {},
     "execution_count": 6
    }
   ],
   "source": [
    "# entities\n",
    "entities = pd.read_json(\"data/entities.json\")\n",
    "entities = entities[['value', 'type', 'language', 'normalizedValue', 'aliases']]\n",
    "entities.head()"
   ]
  },
  {
   "cell_type": "code",
   "execution_count": 7,
   "metadata": {},
   "outputs": [
    {
     "output_type": "error",
     "ename": "TypeError",
     "evalue": "unhashable type: 'list'",
     "traceback": [
      "\u001b[0;31m---------------------------------------------------------------------------\u001b[0m",
      "\u001b[0;31mTypeError\u001b[0m                                 Traceback (most recent call last)",
      "\u001b[0;32mpandas/_libs/hashtable_class_helper.pxi\u001b[0m in \u001b[0;36mpandas._libs.hashtable.PyObjectHashTable.map_locations\u001b[0;34m()\u001b[0m\n",
      "\u001b[0;31mTypeError\u001b[0m: unhashable type: 'list'"
     ]
    }
   ],
   "source": [
    "entities.describe()"
   ]
  },
  {
   "cell_type": "markdown",
   "metadata": {},
   "source": [
    "# Explore data"
   ]
  },
  {
   "cell_type": "markdown",
   "metadata": {},
   "source": [
    "### Entities catagorical count"
   ]
  },
  {
   "cell_type": "code",
   "execution_count": null,
   "metadata": {
    "scrolled": true
   },
   "outputs": [],
   "source": [
    "df = entities[['type', 'language']]\n",
    "df = df.groupby(['type','language']).size().reset_index(name='count') \n",
    "df.pivot(index='type', columns='language', values='count')#.plot(kind='bar')"
   ]
  },
  {
   "cell_type": "code",
   "execution_count": null,
   "metadata": {
    "scrolled": false
   },
   "outputs": [],
   "source": [
    "templates_updated.head()"
   ]
  },
  {
   "cell_type": "code",
   "execution_count": null,
   "metadata": {},
   "outputs": [],
   "source": [
    "target_id, target_lang = 'MyCloud.OpenArea.Init.Utterance', 'de'\n",
    "t = templates_updated[templates_updated['id'] == target_id]['de'][0]['texts'][0]['ttsText']"
   ]
  },
  {
   "cell_type": "code",
   "execution_count": 11,
   "metadata": {},
   "outputs": [
    {
     "output_type": "execute_result",
     "data": {
      "text/plain": "'{MyCloudArea} auf #myCloud anzeigen'"
     },
     "metadata": {},
     "execution_count": 11
    }
   ],
   "source": [
    "t"
   ]
  },
  {
   "cell_type": "code",
   "execution_count": 12,
   "metadata": {},
   "outputs": [
    {
     "output_type": "error",
     "ename": "NameError",
     "evalue": "name 'tags' is not defined",
     "traceback": [
      "\u001b[0;31m---------------------------------------------------------------------------\u001b[0m",
      "\u001b[0;31mNameError\u001b[0m                                 Traceback (most recent call last)",
      "\u001b[0;32m<ipython-input-12-5d26f523f4a2>\u001b[0m in \u001b[0;36m<module>\u001b[0;34m\u001b[0m\n\u001b[0;32m----> 1\u001b[0;31m \u001b[0mentities\u001b[0m\u001b[0;34m[\u001b[0m\u001b[0mentities\u001b[0m\u001b[0;34m[\u001b[0m\u001b[0;34m'type'\u001b[0m\u001b[0;34m]\u001b[0m \u001b[0;34m==\u001b[0m \u001b[0mtags\u001b[0m\u001b[0;34m[\u001b[0m\u001b[0;36m0\u001b[0m\u001b[0;34m]\u001b[0m\u001b[0;34m]\u001b[0m\u001b[0;34m[\u001b[0m\u001b[0mentities\u001b[0m\u001b[0;34m[\u001b[0m\u001b[0;34m'language'\u001b[0m\u001b[0;34m]\u001b[0m \u001b[0;34m==\u001b[0m \u001b[0mtarget_lang\u001b[0m\u001b[0;34m]\u001b[0m\u001b[0;34m\u001b[0m\u001b[0;34m\u001b[0m\u001b[0m\n\u001b[0m",
      "\u001b[0;31mNameError\u001b[0m: name 'tags' is not defined"
     ]
    }
   ],
   "source": [
    "entities[entities['type'] == tags[0]][entities['language'] == target_lang]"
   ]
  },
  {
   "cell_type": "code",
   "execution_count": 86,
   "metadata": {},
   "outputs": [
    {
     "output_type": "execute_result",
     "data": {
      "text/plain": "{'ttsText': '{MyCloudArea} auf #myCloud anzeigen'}"
     },
     "metadata": {},
     "execution_count": 86
    }
   ],
   "source": [
    "gen.templates.head(1)['de'].values[0]['texts']"
   ]
  },
  {
   "source": [
    "### Generate correct command"
   ],
   "cell_type": "markdown",
   "metadata": {}
  },
  {
   "cell_type": "code",
   "execution_count": 39,
   "metadata": {},
   "outputs": [
    {
     "output_type": "error",
     "ename": "SyntaxError",
     "evalue": "invalid syntax (<ipython-input-39-735915638b05>, line 1)",
     "traceback": [
      "\u001b[0;36m  File \u001b[0;32m\"<ipython-input-39-735915638b05>\"\u001b[0;36m, line \u001b[0;32m1\u001b[0m\n\u001b[0;31m    normalizer =\u001b[0m\n\u001b[0m                 ^\u001b[0m\n\u001b[0;31mSyntaxError\u001b[0m\u001b[0;31m:\u001b[0m invalid syntax\n"
     ]
    }
   ],
   "source": [
    "normalizer = \n",
    "gen = Generator(templates=templates_updated, entities=entities)\n",
    "\n",
    "gen.generate_command(target_id='Tv.GenericExitToTv.Init.Utterance', \n",
    "                    target_lang='de', \n",
    "                    normalizer= normalizer)"
   ]
  },
  {
   "cell_type": "code",
   "execution_count": null,
   "metadata": {},
   "outputs": [],
   "source": [
    "pd.DataFrame()"
   ]
  }
 ],
 "metadata": {
  "kernelspec": {
   "name": "python37764bitjobpostingconda22929374449545e284a5643e9731aeaa",
   "display_name": "Python 3.7.7 64-bit ('jobposting': conda)",
   "metadata": {
    "interpreter": {
     "hash": "569d6b7e9215e11aba41c6454007e5c1b78bad7df09dab765d8cf00362c40f03"
    }
   }
  },
  "language_info": {
   "codemirror_mode": {
    "name": "ipython",
    "version": 3
   },
   "file_extension": ".py",
   "mimetype": "text/x-python",
   "name": "python",
   "nbconvert_exporter": "python",
   "pygments_lexer": "ipython3",
   "version": "3.7.7-final"
  }
 },
 "nbformat": 4,
 "nbformat_minor": 4
}