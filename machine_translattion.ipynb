{
 "cells": [
  {
   "cell_type": "code",
   "metadata": {
    "collapsed": true,
    "pycharm": {
     "name": "#%%\n"
    }
   },
   "source": [
    "# https://www.kaggle.com/averkij/opennmt-machine-translation-baseline/notebook#Train-&-test-split\n",
    "# https://git.swisscom.com/projects/DPA/repos/plato-ai-gswtranslation/browse/training/train.py\n",
    "# https://github.com/Parkchanjun/OpenNMT-Colab-Tutorial/blob/master/OpenNMT_Pytorch_Tutorial.ipynb\n",
    "!git clone https://github.com/OpenNMT/OpenNMT-py\n",
    "!mkdir /kaggle/working/data\n",
    "!mkdir /kaggle/working/output"
   ],
   "execution_count": null,
   "outputs": []
  },
  {
   "cell_type": "code",
   "execution_count": null,
   "outputs": [],
   "source": [
    "train_count = 100000\n",
    "val_count = 5000\n",
    "test_count = 5000"
   ],
   "metadata": {
    "collapsed": false,
    "pycharm": {
     "name": "#%%\n"
    }
   }
  },
  {
   "cell_type": "code",
   "execution_count": null,
   "outputs": [],
   "source": [
    "with open('/kaggle/input/open_ru.txt', mode='r', encoding='utf-8') as ru_in, open('/kaggle/working/data/sent_ru_train.txt', mode='w', encoding='utf-8') as ru_out_train, \\\n",
    "     open('/kaggle/working/data/sent_ru_val.txt', mode='w', encoding='utf-8') as ru_out_val, open('/kaggle/working/data/sent_ru_test.txt', mode='w', encoding='utf-8') as ru_out_test:\n",
    "\n",
    "    for i in range(train_count):\n",
    "        if i < train_count-1:\n",
    "            ru_out_train.write(ru_in.readline().strip() + '\\n')\n",
    "        else:\n",
    "            ru_out_train.write(ru_in.readline().strip())\n",
    "\n",
    "    for i in range(val_count):\n",
    "        if i < val_count-1:\n",
    "            ru_out_val.write(ru_in.readline().strip() + '\\n')\n",
    "        else:\n",
    "            ru_out_val.write(ru_in.readline().strip())\n",
    "\n",
    "    for i in range(test_count):\n",
    "        if i < test_count-1:\n",
    "            ru_out_test.write(ru_in.readline().strip() + '\\n')\n",
    "        else:\n",
    "            ru_out_test.write(ru_in.readline().strip())"
   ],
   "metadata": {
    "collapsed": false,
    "pycharm": {
     "name": "#%%\n"
    }
   }
  },
  {
   "cell_type": "code",
   "execution_count": null,
   "outputs": [],
   "source": [
    "with open('/kaggle/input/open_zh.txt', mode='r', encoding='utf-8') as zh_in, open('/kaggle/working/data/sent_zh_train.txt', mode='w', encoding='utf-8') as zh_out_train, \\\n",
    "     open('/kaggle/working/data/sent_zh_val.txt', mode='w', encoding='utf-8') as zh_out_val, open('/kaggle/working/data/sent_zh_test.txt', mode='w', encoding='utf-8') as zh_out_test:\n",
    "\n",
    "    for i in range(train_count):\n",
    "        if i < train_count-1:\n",
    "            zh_out_train.write(zh_in.readline().strip() + '\\n')\n",
    "        else:\n",
    "            zh_out_train.write(zh_in.readline().strip())\n",
    "\n",
    "    for i in range(val_count):\n",
    "        if i < val_count-1:\n",
    "            zh_out_val.write(zh_in.readline().strip() + '\\n')\n",
    "        else:\n",
    "            zh_out_val.write(zh_in.readline().strip())\n",
    "\n",
    "    for i in range(test_count):\n",
    "        if i < test_count-1:\n",
    "            zh_out_test.write(zh_in.readline().strip() + '\\n')\n",
    "        else:\n",
    "            zh_out_test.write(zh_in.readline().strip())"
   ],
   "metadata": {
    "collapsed": false,
    "pycharm": {
     "name": "#%%\n"
    }
   }
  },
  {
   "cell_type": "code",
   "execution_count": null,
   "outputs": [],
   "source": [
    "!python /kaggle/working/OpenNMT-py/tools/learn_bpe.py -i /kaggle/working/data/sent_zh_train.txt -o /kaggle/working/data/src.code -s 32000\n",
    "!python /kaggle/working/OpenNMT-py/tools/learn_bpe.py -i /kaggle/working/data/sent_ru_train.txt -o /kaggle/working/data/trg.code -s 32000"
   ],
   "metadata": {
    "collapsed": false,
    "pycharm": {
     "name": "#%%\n"
    }
   }
  },
  {
   "cell_type": "code",
   "execution_count": null,
   "outputs": [],
   "source": [
    "!python /kaggle/working/OpenNMT-py/tools/apply_bpe.py -c /kaggle/working/data/src.code -i /kaggle/working/data/sent_zh_train.txt -o /kaggle/working/data/src-train-bpe.txt\n",
    "!python /kaggle/working/OpenNMT-py/tools/apply_bpe.py -c /kaggle/working/data/src.code -i /kaggle/working/data/sent_zh_val.txt -o /kaggle/working/data/src-val-bpe.txt\n",
    "!python /kaggle/working/OpenNMT-py/tools/apply_bpe.py -c /kaggle/working/data/src.code -i /kaggle/working/data/sent_zh_test.txt -o /kaggle/working/data/src-test-bpe.txt\n",
    "!python /kaggle/working/OpenNMT-py/tools/apply_bpe.py -c /kaggle/working/data/trg.code -i /kaggle/working/data/sent_ru_train.txt -o /kaggle/working/data/tgt-train-bpe.txt\n",
    "!python /kaggle/working/OpenNMT-py/tools/apply_bpe.py -c /kaggle/working/data/trg.code -i /kaggle/working/data/sent_ru_val.txt -o /kaggle/working/data/tgt-val-bpe.txt"
   ],
   "metadata": {
    "collapsed": false,
    "pycharm": {
     "name": "#%%\n"
    }
   }
  },
  {
   "cell_type": "code",
   "execution_count": null,
   "outputs": [],
   "source": [
    "!python /kaggle/working/OpenNMT-py/preprocess.py -train_src /kaggle/working/data/src-train-bpe.txt -train_tgt /kaggle/working/data/tgt-train-bpe.txt \\\n",
    "    -valid_src /kaggle/working/data/src-val-bpe.txt -valid_tgt /kaggle/working/data/tgt-val-bpe.txt -save_data /kaggle/working/data/ondatr \\\n",
    "    -src_vocab_size 32000 -tgt_vocab_size 32000"
   ],
   "metadata": {
    "collapsed": false,
    "pycharm": {
     "name": "#%%\n"
    }
   }
  },
  {
   "cell_type": "code",
   "execution_count": null,
   "outputs": [],
   "source": [
    "!python /kaggle/working/OpenNMT-py/train.py -data /kaggle/working/data/ondatr -save_model /kaggle/working/data/ondatr-trans -world_size 1 \\\n",
    "    -gpu_rank 0 --train_steps 5000 -save_checkpoint_steps 5000 --keep_checkpoint 10\n"
   ],
   "metadata": {
    "collapsed": false,
    "pycharm": {
     "name": "#%%\n"
    }
   }
  },
  {
   "cell_type": "code",
   "execution_count": null,
   "outputs": [],
   "source": [
    "!python /kaggle/working/OpenNMT-py/translate.py -model /kaggle/working/data/ondatr-trans_step_5000.pt -src /kaggle/working/data/src-test-bpe.txt \\\n",
    "    -output /kaggle/working/output/pred.bpe -replace_unk -verbose"
   ],
   "metadata": {
    "collapsed": false,
    "pycharm": {
     "name": "#%%\n"
    }
   }
  }
 ],
 "metadata": {
  "kernelspec": {
   "display_name": "Python 3",
   "language": "python",
   "name": "python3"
  },
  "language_info": {
   "codemirror_mode": {
    "name": "ipython",
    "version": 2
   },
   "file_extension": ".py",
   "mimetype": "text/x-python",
   "name": "python",
   "nbconvert_exporter": "python",
   "pygments_lexer": "ipython2",
   "version": "2.7.6"
  }
 },
 "nbformat": 4,
 "nbformat_minor": 0
}