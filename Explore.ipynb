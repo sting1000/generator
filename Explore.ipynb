{
 "cells": [
  {
   "cell_type": "markdown",
   "metadata": {},
   "source": [
    "# Dataset Generation"
   ]
  },
  {
   "cell_type": "code",
   "execution_count": 47,
   "metadata": {
    "tags": []
   },
   "outputs": [
    {
     "name": "stdout",
     "output_type": "stream",
     "text": [
      "The autoreload extension is already loaded. To reload it, use:\n",
      "  %reload_ext autoreload\n"
     ]
    }
   ],
   "source": [
    "import pandas as pd\n",
    "%load_ext autoreload\n",
    "%autoreload 2"
   ]
  },
  {
   "cell_type": "markdown",
   "metadata": {},
   "source": [
    "## Templates\n",
    "we have 39 kinds of templates for 4 languages, but we only use 'de' and 'en' here for testing."
   ]
  },
  {
   "source": [
    "# templates\n",
    "templates = pd.read_json(\"data/templates.json\")\n",
    "init_uttr_updated = pd.read_csv(\"data/InitUtterance_list_updated.csv\")\n",
    "templates_updated = templates.merge(init_uttr_updated, on='id')\n",
    "templates_updated = templates_updated[['id', 'de', 'en']] #'fr', 'it',\n",
    "templates_updated.head()"
   ],
   "cell_type": "code",
   "metadata": {},
   "execution_count": 48,
   "outputs": [
    {
     "data": {
      "text/plain": "                                     id  \\\n0       MyCloud.OpenArea.Init.Utterance   \n1    Router.SwitchOnWiFi.Init.Utterance   \n2     Tv.GenericExitToTv.Init.Utterance   \n3   Router.SwitchOffWiFi.Init.Utterance   \n4  Tv.RadioChannelChange.Init.Utterance   \n\n                                                  de  \\\n0  {'texts': [{'ttsText': '{MyCloudArea} auf #myC...   \n1  {'texts': [{'ttsText': 'aktiviere das Wlan'}, ...   \n2  {'texts': [{'ttsText': 'gehe zurück zum Fernse...   \n3  {'texts': [{'ttsText': 'deaktiviere das Wlan'}...   \n4  {'texts': [{'ttsText': 'auf Radio {RadioChanne...   \n\n                                                  en  \n0  {'texts': [{'ttsText': 'show {MyCloudArea} on ...  \n1  {'texts': [{'ttsText': 'activate the Wi-Fi'}, ...  \n2  {'texts': [{'ttsText': 'back to TV'}, {'ttsTex...  \n3  {'texts': [{'ttsText': 'can you please switch ...  \n4  {'texts': [{'ttsText': 'can you turn on radio ...  ",
      "text/html": "<div>\n<style scoped>\n    .dataframe tbody tr th:only-of-type {\n        vertical-align: middle;\n    }\n\n    .dataframe tbody tr th {\n        vertical-align: top;\n    }\n\n    .dataframe thead th {\n        text-align: right;\n    }\n</style>\n<table border=\"1\" class=\"dataframe\">\n  <thead>\n    <tr style=\"text-align: right;\">\n      <th></th>\n      <th>id</th>\n      <th>de</th>\n      <th>en</th>\n    </tr>\n  </thead>\n  <tbody>\n    <tr>\n      <th>0</th>\n      <td>MyCloud.OpenArea.Init.Utterance</td>\n      <td>{'texts': [{'ttsText': '{MyCloudArea} auf #myC...</td>\n      <td>{'texts': [{'ttsText': 'show {MyCloudArea} on ...</td>\n    </tr>\n    <tr>\n      <th>1</th>\n      <td>Router.SwitchOnWiFi.Init.Utterance</td>\n      <td>{'texts': [{'ttsText': 'aktiviere das Wlan'}, ...</td>\n      <td>{'texts': [{'ttsText': 'activate the Wi-Fi'}, ...</td>\n    </tr>\n    <tr>\n      <th>2</th>\n      <td>Tv.GenericExitToTv.Init.Utterance</td>\n      <td>{'texts': [{'ttsText': 'gehe zurück zum Fernse...</td>\n      <td>{'texts': [{'ttsText': 'back to TV'}, {'ttsTex...</td>\n    </tr>\n    <tr>\n      <th>3</th>\n      <td>Router.SwitchOffWiFi.Init.Utterance</td>\n      <td>{'texts': [{'ttsText': 'deaktiviere das Wlan'}...</td>\n      <td>{'texts': [{'ttsText': 'can you please switch ...</td>\n    </tr>\n    <tr>\n      <th>4</th>\n      <td>Tv.RadioChannelChange.Init.Utterance</td>\n      <td>{'texts': [{'ttsText': 'auf Radio {RadioChanne...</td>\n      <td>{'texts': [{'ttsText': 'can you turn on radio ...</td>\n    </tr>\n  </tbody>\n</table>\n</div>"
     },
     "execution_count": 48,
     "metadata": {},
     "output_type": "execute_result"
    }
   ]
  },
  {
   "cell_type": "code",
   "execution_count": 49,
   "metadata": {
    "scrolled": true
   },
   "outputs": [
    {
     "data": {
      "text/plain": "                                      id  \\\ncount                                 39   \nunique                                39   \ntop     Tv.NavigationLeft.Init.Utterance   \nfreq                                   1   \n\n                                                       de  \\\ncount                                                  39   \nunique                                                 39   \ntop     {'texts': [{'ttsText': '{SmartHomeSceneName} S...   \nfreq                                                    1   \n\n                                                       en  \ncount                                                  39  \nunique                                                 39  \ntop     {'texts': [{'ttsText': 'activate {SmartHomeSce...  \nfreq                                                    1  ",
      "text/html": "<div>\n<style scoped>\n    .dataframe tbody tr th:only-of-type {\n        vertical-align: middle;\n    }\n\n    .dataframe tbody tr th {\n        vertical-align: top;\n    }\n\n    .dataframe thead th {\n        text-align: right;\n    }\n</style>\n<table border=\"1\" class=\"dataframe\">\n  <thead>\n    <tr style=\"text-align: right;\">\n      <th></th>\n      <th>id</th>\n      <th>de</th>\n      <th>en</th>\n    </tr>\n  </thead>\n  <tbody>\n    <tr>\n      <th>count</th>\n      <td>39</td>\n      <td>39</td>\n      <td>39</td>\n    </tr>\n    <tr>\n      <th>unique</th>\n      <td>39</td>\n      <td>39</td>\n      <td>39</td>\n    </tr>\n    <tr>\n      <th>top</th>\n      <td>Tv.NavigationLeft.Init.Utterance</td>\n      <td>{'texts': [{'ttsText': '{SmartHomeSceneName} S...</td>\n      <td>{'texts': [{'ttsText': 'activate {SmartHomeSce...</td>\n    </tr>\n    <tr>\n      <th>freq</th>\n      <td>1</td>\n      <td>1</td>\n      <td>1</td>\n    </tr>\n  </tbody>\n</table>\n</div>"
     },
     "execution_count": 49,
     "metadata": {},
     "output_type": "execute_result"
    }
   ],
   "source": [
    "templates_updated.describe()"
   ]
  },
  {
   "cell_type": "markdown",
   "metadata": {},
   "source": [
    "## Entities\n",
    "65K entities of 33 different types are included.\n",
    "1/3 of them are from German environment."
   ]
  },
  {
   "cell_type": "code",
   "execution_count": 50,
   "metadata": {
    "scrolled": true
   },
   "outputs": [
    {
     "data": {
      "text/plain": "       value                 type language normalizedValue aliases\n0     Widnau  LocalsearchLocation       de          widnau      []\n1     Zurigo  LocalsearchLocation       it          zurigo      []\n2  Solothurn  LocalsearchLocation       de       solothurn      []\n3    Muttenz  LocalsearchLocation       de         muttenz      []\n4       Lyss  LocalsearchLocation       de            lyss      []",
      "text/html": "<div>\n<style scoped>\n    .dataframe tbody tr th:only-of-type {\n        vertical-align: middle;\n    }\n\n    .dataframe tbody tr th {\n        vertical-align: top;\n    }\n\n    .dataframe thead th {\n        text-align: right;\n    }\n</style>\n<table border=\"1\" class=\"dataframe\">\n  <thead>\n    <tr style=\"text-align: right;\">\n      <th></th>\n      <th>value</th>\n      <th>type</th>\n      <th>language</th>\n      <th>normalizedValue</th>\n      <th>aliases</th>\n    </tr>\n  </thead>\n  <tbody>\n    <tr>\n      <th>0</th>\n      <td>Widnau</td>\n      <td>LocalsearchLocation</td>\n      <td>de</td>\n      <td>widnau</td>\n      <td>[]</td>\n    </tr>\n    <tr>\n      <th>1</th>\n      <td>Zurigo</td>\n      <td>LocalsearchLocation</td>\n      <td>it</td>\n      <td>zurigo</td>\n      <td>[]</td>\n    </tr>\n    <tr>\n      <th>2</th>\n      <td>Solothurn</td>\n      <td>LocalsearchLocation</td>\n      <td>de</td>\n      <td>solothurn</td>\n      <td>[]</td>\n    </tr>\n    <tr>\n      <th>3</th>\n      <td>Muttenz</td>\n      <td>LocalsearchLocation</td>\n      <td>de</td>\n      <td>muttenz</td>\n      <td>[]</td>\n    </tr>\n    <tr>\n      <th>4</th>\n      <td>Lyss</td>\n      <td>LocalsearchLocation</td>\n      <td>de</td>\n      <td>lyss</td>\n      <td>[]</td>\n    </tr>\n  </tbody>\n</table>\n</div>"
     },
     "execution_count": 50,
     "metadata": {},
     "output_type": "execute_result"
    }
   ],
   "source": [
    "# entities\n",
    "entities = pd.read_json(\"data/entities.json\")\n",
    "entities = entities[['value', 'type', 'language', 'normalizedValue', 'aliases']]\n",
    "entities.head()"
   ]
  },
  {
   "cell_type": "code",
   "execution_count": 51,
   "metadata": {},
   "outputs": [
    {
     "data": {
      "text/plain": "        value        type language normalizedValue aliases\ncount   65471       65471    65471           65471   65471\nunique  51272          33        4           52082    3793\ntop      Golf  SeriesName       de            golf      []\nfreq       20       17913    22746              20   59649",
      "text/html": "<div>\n<style scoped>\n    .dataframe tbody tr th:only-of-type {\n        vertical-align: middle;\n    }\n\n    .dataframe tbody tr th {\n        vertical-align: top;\n    }\n\n    .dataframe thead th {\n        text-align: right;\n    }\n</style>\n<table border=\"1\" class=\"dataframe\">\n  <thead>\n    <tr style=\"text-align: right;\">\n      <th></th>\n      <th>value</th>\n      <th>type</th>\n      <th>language</th>\n      <th>normalizedValue</th>\n      <th>aliases</th>\n    </tr>\n  </thead>\n  <tbody>\n    <tr>\n      <th>count</th>\n      <td>65471</td>\n      <td>65471</td>\n      <td>65471</td>\n      <td>65471</td>\n      <td>65471</td>\n    </tr>\n    <tr>\n      <th>unique</th>\n      <td>51272</td>\n      <td>33</td>\n      <td>4</td>\n      <td>52082</td>\n      <td>3793</td>\n    </tr>\n    <tr>\n      <th>top</th>\n      <td>Golf</td>\n      <td>SeriesName</td>\n      <td>de</td>\n      <td>golf</td>\n      <td>[]</td>\n    </tr>\n    <tr>\n      <th>freq</th>\n      <td>20</td>\n      <td>17913</td>\n      <td>22746</td>\n      <td>20</td>\n      <td>59649</td>\n    </tr>\n  </tbody>\n</table>\n</div>"
     },
     "execution_count": 51,
     "metadata": {},
     "output_type": "execute_result"
    }
   ],
   "source": [
    "entities.describe()\n"
   ]
  },
  {
   "cell_type": "code",
   "execution_count": 156,
   "metadata": {
    "scrolled": true
   },
   "outputs": [
    {
     "data": {
      "text/plain": "<Figure size 432x288 with 1 Axes>",
      "image/png": "[encoded data removed]"
     },
     "metadata": {
      "needs_background": "light"
     },
     "output_type": "display_data"
    }
   ],
   "source": [
    "df = entities[['type', 'language']]\n",
    "df = df.groupby(['type','language']).size().reset_index(name='count')\n",
    "df2 = df.pivot(index='type', columns='language', values='count')\n",
    "df2['sum'] = 0\n",
    "df2 = df2.fillna(0)\n",
    "for lang in ['de', 'en', 'fr', 'it',]:\n",
    "    df2['sum'] += df2[lang]\n",
    "# df.sort_values('count', ascending=False)\n",
    "p = df2.sort_values('sum', ascending=False)[['de', 'en', 'fr', 'it']].plot(kind='bar')"
   ]
  },
  {
   "source": [
    "### Find the representative"
   ],
   "cell_type": "markdown",
   "metadata": {}
  },
  {
   "cell_type": "code",
   "execution_count": 132,
   "metadata": {
    "tags": []
   },
   "outputs": [
    {
     "data": {
      "text/plain": "['TF 3']"
     },
     "execution_count": 132,
     "metadata": {},
     "output_type": "execute_result"
    }
   ],
   "source": [
    "# TODO: deal with case \"a\"\n",
    "from generator.tools import filter_aliases\n",
    "sample_aliases1 = [\n",
    "\t\t\"TF 3\",         # value\n",
    "        \"TF three\",     # normalized\n",
    "\t\t\"T F 3\",        # alias\n",
    "\t\t\"t f three\",    # alias\n",
    "        \"t f 3\"         # alias\n",
    "\t]\n",
    "filter_aliases(sample_aliases1,'en')"
   ]
  },
  {
   "cell_type": "code",
   "execution_count": 53,
   "metadata": {
    "tags": []
   },
   "outputs": [
    {
     "data": {
      "text/plain": "['DRS',\n 'SRF',\n 'Schweiz 1',\n 'SRF eis',\n 'SR',\n 'DRS 1',\n 'SRF einz',\n 'Schweizer',\n 'SRF 1']"
     },
     "execution_count": 53,
     "metadata": {},
     "output_type": "execute_result"
    }
   ],
   "source": [
    "sample_aliases2 = [\n",
    "\t\t\"S R F\",\n",
    "        \"s r f\",\n",
    "        \"SRF\",\n",
    "\n",
    "        \"SRF 1\",\n",
    "        \"S R F 1\",\n",
    "\t\t\"s r f eins\",\n",
    "\t\t\"SRF eins\",\n",
    "        \"SRF einz\",\n",
    "\t\t\"S R F einz\",\n",
    "        \"S R F eis\",\n",
    "        \"s r f eis\",\n",
    "\t\t\"s r f einz\",\n",
    "\t\t\"SRF eis\",\n",
    "\n",
    "\t\t\"SR\",\n",
    "\t\t\"s r\",\n",
    "        \"S R\",\n",
    "\n",
    "\t\t\"D R S\",\n",
    "\t\t\"D R S 1\",\n",
    "\t\t\"DRS\",\n",
    "\t\t\"d r s\",\n",
    "        \"DRS 1\",\n",
    "\t\t\"d r s eins\",\n",
    "\t\t\"DRS eins\",\n",
    "\n",
    "\t\t\"schweizer\",\n",
    "\t\t\"Schweizer\",\n",
    "        \"Schweiz 1\",\n",
    "\t\t\"schweiz eins\"\n",
    "\t]\n",
    "filter_aliases(sample_aliases2, 'de')"
   ]
  },
  {
   "cell_type": "markdown",
   "source": [
    "## Read custom dataset"
   ],
   "metadata": {
    "collapsed": false,
    "pycharm": {
     "name": "#%% md\n"
    }
   }
  },
  {
   "cell_type": "code",
   "execution_count": 92,
   "outputs": [],
   "source": [
    "# entities_custom\n",
    "entities_custom = pd.read_json(\"data/entities_custom.json\")\n",
    "entities_updated = pd.concat([entities, entities_custom]).reset_index()\n",
    "# update template\n",
    "df = pd.read_json(\"data/timestamp_de_noted.json\")\n",
    "templates_updated.update(df)\n",
    "\n",
    "df = pd.read_json(\"data/timestamp_en_noted.json\")\n",
    "templates_updated.update(df)"
   ],
   "metadata": {
    "collapsed": false,
    "pycharm": {
     "name": "#%%\n"
    }
   }
  },
  {
   "cell_type": "code",
   "execution_count": 112,
   "metadata": {
    "tags": []
   },
   "outputs": [
    {
     "name": "stdout",
     "output_type": "stream",
     "text": [
      "Choose template: \n",
      "\t['please turn on {SmartHomeDeviceCategory} in the {SmartHomeDeviceLocation}']\n",
      "After tag removal: \n",
      "\t['please turn on cams in the powder room']\n"
     ]
    },
    {
     "data": {
      "text/plain": "['please turn on cams in the powder room']"
     },
     "execution_count": 112,
     "metadata": {},
     "output_type": "execute_result"
    }
   ],
   "source": [
    "from generator.module import Generator\n",
    "gen = Generator(templates=templates_updated, entities=entities_updated, method='one')\n",
    "\n",
    "gen.get_command(target_id='SmartHome.SwitchOnDevice.Init.Utterance',\n",
    "                target_lang='en',\n",
    "                 verbose=True)"
   ]
  },
  {
   "cell_type": "code",
   "execution_count": 124,
   "metadata": {},
   "outputs": [
    {
     "name": "stderr",
     "output_type": "stream",
     "text": [
      "/Users/admin/Desktop/generator/generator/module.py:27: UserWarning: Boolean Series key will be reindexed to match DataFrame index.\n",
      "  return\n"
     ]
    },
    {
     "data": {
      "text/plain": "                                                                                            de  \\\nid                                                                                               \nMyCloud.OpenArea.Init.Utterance                             [auf myCloud zu meine Fotos gehen]   \nRouter.SwitchOnWiFi.Init.Utterance                                   [das Wifi anlassen bitte]   \nTv.GenericExitToTv.Init.Utterance                                       [Live Fernsehen bitte]   \nRouter.SwitchOffWiFi.Init.Utterance                                             [das Wlan aus]   \nTv.RadioChannelChange.Init.Utterance                           [ich will Radiokanal 1 anhören]   \nRouter.ShowGuestWiFiPassword.Init.Utterance                [bitte Gast Wlan Passwort anzeigen]   \nTv.InitiateService.Init.Utterance                                       [tu die Box anstellen]   \nTv.OpenApplication.Init.Utterance                                    [bitte die App aufmachen]   \nSmartHome.SwitchOnDevice.Init.Utterance                                  [mach das Netatmo an]   \nTv.SkipCommercial.Init.Utterance                               [überspringe die Werbung bitte]   \nTv.WatchFromBeginning.Init.Utterance                                   [von Anfang an schauen]   \nTv.TvChannelChange.Init.Utterance                                     [stell auf Sender 66 um]   \nTv.TvSearch.Init.Utterance                                           [ich will Snooker gucken]   \nTv.VolumeUp.Init.Utterance                                            [Fernsehprogramm lauter]   \nTv.OpenUiArea.Init.Utterance                                    [ich möchte Videothek schauen]   \nTv.VolumeMute.Init.Utterance                                                         [mute an]   \nTv.VolumeUnmute.Init.Utterance                                                      [mute aus]   \nBluewin.NewsSummary.Init.Utterance                                               [Nachrichten]   \nRouter.ShowWiFiPassword.Init.Utterance       [bitte das Wlan Passwort auf dem Fernseher anz...   \nRouter.SwitchOnGuestWiFi.Init.Utterance      [bitte aktiviere das Internet für Gäste für 42...   \nTv.TrickModePlay.Init.Utterance                                              [drück kurz Play]   \nTv.TrickModeSkip.Init.Utterance                                           [ich will vorspulen]   \nTv.TvRecommendations.Init.Utterance                       [was wird heut im Fernsehen gezeigt]   \nSmartHome.StartScene.Init.Utterance                    [aktiviere die Szene Zuhause verlassen]   \nSmartHome.SwitchOffDevice.Init.Utterance          [kannst du das Gerät Esszimmer 2 ausstellen]   \nTv.VolumeDown.Init.Utterance                             [Lautstärke für den Fernseher runter]   \nLocalsearch.TemperatureInfo.Init.Utterance                                   [wie warm ist es]   \nTv.TrickModePause.Init.Utterance                                            [halt den Film an]   \nLocalsearch.RainInfo.Init.Utterance                            [wie stark wird es 5.21 regnen]   \nLocalsearch.WeatherInfo.Init.Utterance                                 [kommt die Sonne 11:07]   \nRouter.SwitchOffGuestWiFi.Init.Utterance                        [bitte mach das Gast Wifi aus]   \nTv.TerminateService.Init.Utterance                                                 [schalt ab]   \nTv.Recording.Init.Utterance                                 [bitte laufende Sendung aufnehmen]   \nTv.NavigationLeft.Init.Utterance                                                 [einen links]   \nTv.NavigationRight.Init.Utterance                                           [eins nach rechts]   \nTv.NavigationUp.Init.Utterance                                                      [geh rauf]   \nTv.NavigationDown.Init.Utterance                                               [weiter runter]   \nTv.NavigationOK.Init.Utterance                                                       [ansehen]   \nTv.WatchNextEpisode.Init.Utterance                                   [noch eine Episode bitte]   \n\n                                                                                            en  \nid                                                                                              \nMyCloud.OpenArea.Init.Utterance                 [can you please open myCloud and open folders]  \nRouter.SwitchOnWiFi.Init.Utterance                           [I need to get into the internet]  \nTv.GenericExitToTv.Init.Utterance                                          [back to TV please]  \nRouter.SwitchOffWiFi.Init.Utterance                              [please deactivate the Wi-Fi]  \nTv.RadioChannelChange.Init.Utterance                    [I think this radio station is boring]  \nRouter.ShowGuestWiFiPassword.Init.Utterance       [could you give me the guest Wi-Fi password]  \nTv.InitiateService.Init.Utterance                                               [switch TV on]  \nTv.OpenApplication.Init.Utterance                           [open No son tuits, son historias]  \nSmartHome.SwitchOnDevice.Init.Utterance                                   [turn my myStrom on]  \nTv.SkipCommercial.Init.Utterance                      [please go to the end of the commercial]  \nTv.WatchFromBeginning.Init.Utterance                     [I want to watch the beginning again]  \nTv.TvChannelChange.Init.Utterance                           [go to National Geographic Wild F]  \nTv.TvSearch.Init.Utterance                                         [I wanna watch Catastrophe]  \nTv.VolumeUp.Init.Utterance                                       [I want you to up the volume]  \nTv.OpenUiArea.Init.Utterance                                         [show me psycho thriller]  \nTv.VolumeMute.Init.Utterance                                            [switch off the sound]  \nTv.VolumeUnmute.Init.Utterance                             [I'd like the sound to be on again]  \nBluewin.NewsSummary.Init.Utterance                                                  [the news]  \nRouter.ShowWiFiPassword.Init.Utterance                  [I need the password for the internet]  \nRouter.SwitchOnGuestWiFi.Init.Utterance                          [my guests want to go online]  \nTv.TrickModePlay.Init.Utterance                    [can I please continue watching the series]  \nTv.TrickModeSkip.Init.Utterance                              [could you fast-forward 12 hours]  \nTv.TvRecommendations.Init.Utterance                               [I want to watch TV tonight]  \nSmartHome.StartScene.Init.Utterance                                        [turn on scene hot]  \nSmartHome.SwitchOffDevice.Init.Utterance               [I want you to switch off device light]  \nTv.VolumeDown.Init.Utterance                                      [please turn down the movie]  \nLocalsearch.TemperatureInfo.Init.Utterance              [I want you to tell me how warm it is]  \nTv.TrickModePause.Init.Utterance                                 [could you please pause this]  \nLocalsearch.RainInfo.Init.Utterance          [how much will it rain in Terlan from 15:03 to...  \nLocalsearch.WeatherInfo.Init.Utterance       [how will the weather be 11.30 in Münstertal (...  \nRouter.SwitchOffGuestWiFi.Init.Utterance             [can you please turn off the guest Wi-Fi]  \nTv.TerminateService.Init.Utterance                                  [please switch off the TV]  \nTv.Recording.Init.Utterance                                                           [record]  \nTv.NavigationLeft.Init.Utterance                                                 [scroll left]  \nTv.NavigationRight.Init.Utterance                                                  [one right]  \nTv.NavigationUp.Init.Utterance                                                     [up please]  \nTv.NavigationDown.Init.Utterance                                                 [scroll down]  \nTv.NavigationOK.Init.Utterance                                                          [okay]  \nTv.WatchNextEpisode.Init.Utterance                            [I want to see the next episode]  ",
      "text/html": "<div>\n<style scoped>\n    .dataframe tbody tr th:only-of-type {\n        vertical-align: middle;\n    }\n\n    .dataframe tbody tr th {\n        vertical-align: top;\n    }\n\n    .dataframe thead th {\n        text-align: right;\n    }\n</style>\n<table border=\"1\" class=\"dataframe\">\n  <thead>\n    <tr style=\"text-align: right;\">\n      <th></th>\n      <th>de</th>\n      <th>en</th>\n    </tr>\n    <tr>\n      <th>id</th>\n      <th></th>\n      <th></th>\n    </tr>\n  </thead>\n  <tbody>\n    <tr>\n      <th>MyCloud.OpenArea.Init.Utterance</th>\n      <td>[auf myCloud zu meine Fotos gehen]</td>\n      <td>[can you please open myCloud and open folders]</td>\n    </tr>\n    <tr>\n      <th>Router.SwitchOnWiFi.Init.Utterance</th>\n      <td>[das Wifi anlassen bitte]</td>\n      <td>[I need to get into the internet]</td>\n    </tr>\n    <tr>\n      <th>Tv.GenericExitToTv.Init.Utterance</th>\n      <td>[Live Fernsehen bitte]</td>\n      <td>[back to TV please]</td>\n    </tr>\n    <tr>\n      <th>Router.SwitchOffWiFi.Init.Utterance</th>\n      <td>[das Wlan aus]</td>\n      <td>[please deactivate the Wi-Fi]</td>\n    </tr>\n    <tr>\n      <th>Tv.RadioChannelChange.Init.Utterance</th>\n      <td>[ich will Radiokanal 1 anhören]</td>\n      <td>[I think this radio station is boring]</td>\n    </tr>\n    <tr>\n      <th>Router.ShowGuestWiFiPassword.Init.Utterance</th>\n      <td>[bitte Gast Wlan Passwort anzeigen]</td>\n      <td>[could you give me the guest Wi-Fi password]</td>\n    </tr>\n    <tr>\n      <th>Tv.InitiateService.Init.Utterance</th>\n      <td>[tu die Box anstellen]</td>\n      <td>[switch TV on]</td>\n    </tr>\n    <tr>\n      <th>Tv.OpenApplication.Init.Utterance</th>\n      <td>[bitte die App aufmachen]</td>\n      <td>[open No son tuits, son historias]</td>\n    </tr>\n    <tr>\n      <th>SmartHome.SwitchOnDevice.Init.Utterance</th>\n      <td>[mach das Netatmo an]</td>\n      <td>[turn my myStrom on]</td>\n    </tr>\n    <tr>\n      <th>Tv.SkipCommercial.Init.Utterance</th>\n      <td>[überspringe die Werbung bitte]</td>\n      <td>[please go to the end of the commercial]</td>\n    </tr>\n    <tr>\n      <th>Tv.WatchFromBeginning.Init.Utterance</th>\n      <td>[von Anfang an schauen]</td>\n      <td>[I want to watch the beginning again]</td>\n    </tr>\n    <tr>\n      <th>Tv.TvChannelChange.Init.Utterance</th>\n      <td>[stell auf Sender 66 um]</td>\n      <td>[go to National Geographic Wild F]</td>\n    </tr>\n    <tr>\n      <th>Tv.TvSearch.Init.Utterance</th>\n      <td>[ich will Snooker gucken]</td>\n      <td>[I wanna watch Catastrophe]</td>\n    </tr>\n    <tr>\n      <th>Tv.VolumeUp.Init.Utterance</th>\n      <td>[Fernsehprogramm lauter]</td>\n      <td>[I want you to up the volume]</td>\n    </tr>\n    <tr>\n      <th>Tv.OpenUiArea.Init.Utterance</th>\n      <td>[ich möchte Videothek schauen]</td>\n      <td>[show me psycho thriller]</td>\n    </tr>\n    <tr>\n      <th>Tv.VolumeMute.Init.Utterance</th>\n      <td>[mute an]</td>\n      <td>[switch off the sound]</td>\n    </tr>\n    <tr>\n      <th>Tv.VolumeUnmute.Init.Utterance</th>\n      <td>[mute aus]</td>\n      <td>[I'd like the sound to be on again]</td>\n    </tr>\n    <tr>\n      <th>Bluewin.NewsSummary.Init.Utterance</th>\n      <td>[Nachrichten]</td>\n      <td>[the news]</td>\n    </tr>\n    <tr>\n      <th>Router.ShowWiFiPassword.Init.Utterance</th>\n      <td>[bitte das Wlan Passwort auf dem Fernseher anz...</td>\n      <td>[I need the password for the internet]</td>\n    </tr>\n    <tr>\n      <th>Router.SwitchOnGuestWiFi.Init.Utterance</th>\n      <td>[bitte aktiviere das Internet für Gäste für 42...</td>\n      <td>[my guests want to go online]</td>\n    </tr>\n    <tr>\n      <th>Tv.TrickModePlay.Init.Utterance</th>\n      <td>[drück kurz Play]</td>\n      <td>[can I please continue watching the series]</td>\n    </tr>\n    <tr>\n      <th>Tv.TrickModeSkip.Init.Utterance</th>\n      <td>[ich will vorspulen]</td>\n      <td>[could you fast-forward 12 hours]</td>\n    </tr>\n    <tr>\n      <th>Tv.TvRecommendations.Init.Utterance</th>\n      <td>[was wird heut im Fernsehen gezeigt]</td>\n      <td>[I want to watch TV tonight]</td>\n    </tr>\n    <tr>\n      <th>SmartHome.StartScene.Init.Utterance</th>\n      <td>[aktiviere die Szene Zuhause verlassen]</td>\n      <td>[turn on scene hot]</td>\n    </tr>\n    <tr>\n      <th>SmartHome.SwitchOffDevice.Init.Utterance</th>\n      <td>[kannst du das Gerät Esszimmer 2 ausstellen]</td>\n      <td>[I want you to switch off device light]</td>\n    </tr>\n    <tr>\n      <th>Tv.VolumeDown.Init.Utterance</th>\n      <td>[Lautstärke für den Fernseher runter]</td>\n      <td>[please turn down the movie]</td>\n    </tr>\n    <tr>\n      <th>Localsearch.TemperatureInfo.Init.Utterance</th>\n      <td>[wie warm ist es]</td>\n      <td>[I want you to tell me how warm it is]</td>\n    </tr>\n    <tr>\n      <th>Tv.TrickModePause.Init.Utterance</th>\n      <td>[halt den Film an]</td>\n      <td>[could you please pause this]</td>\n    </tr>\n    <tr>\n      <th>Localsearch.RainInfo.Init.Utterance</th>\n      <td>[wie stark wird es 5.21 regnen]</td>\n      <td>[how much will it rain in Terlan from 15:03 to...</td>\n    </tr>\n    <tr>\n      <th>Localsearch.WeatherInfo.Init.Utterance</th>\n      <td>[kommt die Sonne 11:07]</td>\n      <td>[how will the weather be 11.30 in Münstertal (...</td>\n    </tr>\n    <tr>\n      <th>Router.SwitchOffGuestWiFi.Init.Utterance</th>\n      <td>[bitte mach das Gast Wifi aus]</td>\n      <td>[can you please turn off the guest Wi-Fi]</td>\n    </tr>\n    <tr>\n      <th>Tv.TerminateService.Init.Utterance</th>\n      <td>[schalt ab]</td>\n      <td>[please switch off the TV]</td>\n    </tr>\n    <tr>\n      <th>Tv.Recording.Init.Utterance</th>\n      <td>[bitte laufende Sendung aufnehmen]</td>\n      <td>[record]</td>\n    </tr>\n    <tr>\n      <th>Tv.NavigationLeft.Init.Utterance</th>\n      <td>[einen links]</td>\n      <td>[scroll left]</td>\n    </tr>\n    <tr>\n      <th>Tv.NavigationRight.Init.Utterance</th>\n      <td>[eins nach rechts]</td>\n      <td>[one right]</td>\n    </tr>\n    <tr>\n      <th>Tv.NavigationUp.Init.Utterance</th>\n      <td>[geh rauf]</td>\n      <td>[up please]</td>\n    </tr>\n    <tr>\n      <th>Tv.NavigationDown.Init.Utterance</th>\n      <td>[weiter runter]</td>\n      <td>[scroll down]</td>\n    </tr>\n    <tr>\n      <th>Tv.NavigationOK.Init.Utterance</th>\n      <td>[ansehen]</td>\n      <td>[okay]</td>\n    </tr>\n    <tr>\n      <th>Tv.WatchNextEpisode.Init.Utterance</th>\n      <td>[noch eine Episode bitte]</td>\n      <td>[I want to see the next episode]</td>\n    </tr>\n  </tbody>\n</table>\n</div>"
     },
     "execution_count": 124,
     "metadata": {},
     "output_type": "execute_result"
    }
   ],
   "source": [
    "command_pool = []\n",
    "sample_df = pd.DataFrame(columns=['de', 'en'], index=templates_updated.id)\n",
    "for temp in templates_updated.id:\n",
    "    for lang in ['en', 'de']:\n",
    "        sample_df.loc[temp, lang] = gen.get_command(target_id=temp,\n",
    "                                target_lang=lang,\n",
    "                                 verbose=False)\n",
    "sample_df"
   ]
  },
  {
   "cell_type": "code",
   "execution_count": 133,
   "outputs": [
    {
     "data": {
      "text/plain": "['turn my myStrom on']"
     },
     "execution_count": 133,
     "metadata": {},
     "output_type": "execute_result"
    }
   ],
   "source": [
    "# check a value\n",
    "sample_df.loc['SmartHome.SwitchOnDevice.Init.Utterance', 'en']"
   ],
   "metadata": {
    "collapsed": false,
    "pycharm": {
     "name": "#%%\n"
    }
   }
  },
  {
   "cell_type": "markdown",
   "metadata": {
    "pycharm": {
     "name": "#%% md\n"
    }
   },
   "source": [
    "## Issue: LocalsearchTimeStampStart (Day/Time)"
   ]
  },
  {
   "cell_type": "code",
   "execution_count": 20,
   "outputs": [],
   "source": [
    "miss_id = ['Localsearch.TemperatureInfo.Init.Utterance' ,\n",
    "            'Localsearch.RainInfo.Init.Utterance',\n",
    "            'Localsearch.WeatherInfo.Init.Utterance' ]\n",
    "\n",
    "k  = templates_updated[[t in miss_id for t in templates_updated.id]]\n",
    "k[['id', 'de']].to_json(\"data/timestamp_de.json\")\n",
    "k[['id', 'en']].to_json(\"data/timestamp_en.json\")\n",
    "\n",
    "\n",
    "\n"
   ],
   "metadata": {
    "collapsed": false,
    "pycharm": {
     "name": "#%%\n"
    }
   }
  }
 ],
 "metadata": {
  "kernelspec": {
   "name": "python3",
   "language": "python",
   "display_name": "Python 3"
  },
  "language_info": {
   "codemirror_mode": {
    "name": "ipython",
    "version": 3
   },
   "file_extension": ".py",
   "mimetype": "text/x-python",
   "name": "python",
   "nbconvert_exporter": "python",
   "pygments_lexer": "ipython3",
   "version": "3.7.7-final"
  }
 },
 "nbformat": 4,
 "nbformat_minor": 4
}