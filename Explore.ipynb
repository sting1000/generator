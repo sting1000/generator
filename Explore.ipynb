{
 "cells": [
  {
   "cell_type": "markdown",
   "metadata": {},
   "source": [
    "# Get dataset"
   ]
  },
  {
   "cell_type": "code",
   "execution_count": 27,
   "metadata": {
    "tags": []
   },
   "outputs": [
    {
     "output_type": "stream",
     "name": "stdout",
     "text": "The autoreload extension is already loaded. To reload it, use:\n  %reload_ext autoreload\n"
    }
   ],
   "source": [
    "import pandas as pd\n",
    "import numpy as np\n",
    "import random\n",
    "import re  \n",
    "%load_ext autoreload\n",
    "%autoreload 2"
   ]
  },
  {
   "cell_type": "markdown",
   "metadata": {},
   "source": [
    "## Templates"
   ]
  },
  {
   "source": [
    "# templates\n",
    "templates = pd.read_json(\"data/templates.json\")\n",
    "init_uttr_updated = pd.read_csv(\"data/InitUtterance_list_updated.csv\")\n",
    "templates_updated = templates.merge(init_uttr_updated, on='id')\n",
    "templates_updated = templates_updated[['id','de', 'fr', 'it', 'en']]\n",
    "templates_updated.head()"
   ],
   "cell_type": "code",
   "metadata": {},
   "execution_count": 28,
   "outputs": [
    {
     "output_type": "execute_result",
     "data": {
      "text/plain": "                                     id  \\\n0       MyCloud.OpenArea.Init.Utterance   \n1    Router.SwitchOnWiFi.Init.Utterance   \n2     Tv.GenericExitToTv.Init.Utterance   \n3   Router.SwitchOffWiFi.Init.Utterance   \n4  Tv.RadioChannelChange.Init.Utterance   \n\n                                                  de  \\\n0  {&#39;texts&#39;: [{&#39;ttsText&#39;: &#39;{MyCloudArea} auf #myC...   \n1  {&#39;texts&#39;: [{&#39;ttsText&#39;: &#39;aktiviere das Wlan&#39;}, ...   \n2  {&#39;texts&#39;: [{&#39;ttsText&#39;: &#39;gehe zurück zum Fernse...   \n3  {&#39;texts&#39;: [{&#39;ttsText&#39;: &#39;deaktiviere das Wlan&#39;}...   \n4  {&#39;texts&#39;: [{&#39;ttsText&#39;: &#39;auf Radio {RadioChanne...   \n\n                                                  fr  \\\n0  {&#39;texts&#39;: [{&#39;ttsText&#39;: &#39;afficher {MyCloudArea}...   \n1  {&#39;texts&#39;: [{&#39;ttsText&#39;: &#39;active le Wi-Fi&#39;}, {&#39;t...   \n2  {&#39;texts&#39;: [{&#39;ttsText&#39;: &#39;revenir à la télé&#39;}, {...   \n3  {&#39;texts&#39;: [{&#39;ttsText&#39;: &#39;désactiver le Wi-Fi&#39;},...   \n4  {&#39;texts&#39;: [{&#39;ttsText&#39;: &#39;prendre radio {RadioCh...   \n\n                                                  it  \\\n0  {&#39;texts&#39;: [{&#39;ttsText&#39;: &#39;apri {MyCloudArea} su ...   \n1  {&#39;texts&#39;: [{&#39;ttsText&#39;: &#39;attiva il #wifi&#39;}, {&#39;t...   \n2  {&#39;texts&#39;: [{&#39;ttsText&#39;: &#39;torna alla TV&#39;}, {&#39;tts...   \n3  {&#39;texts&#39;: [{&#39;ttsText&#39;: &#39;disattiva il wifi&#39;}, {...   \n4  {&#39;texts&#39;: [{&#39;ttsText&#39;: &#39;metti radio {RadioChan...   \n\n                                                  en  \n0  {&#39;texts&#39;: [{&#39;ttsText&#39;: &#39;show {MyCloudArea} on ...  \n1  {&#39;texts&#39;: [{&#39;ttsText&#39;: &#39;activate the Wi-Fi&#39;}, ...  \n2  {&#39;texts&#39;: [{&#39;ttsText&#39;: &#39;back to TV&#39;}, {&#39;ttsTex...  \n3  {&#39;texts&#39;: [{&#39;ttsText&#39;: &#39;can you please switch ...  \n4  {&#39;texts&#39;: [{&#39;ttsText&#39;: &#39;can you turn on radio ...  ",
      "text/html": "<div>\n<style scoped>\n    .dataframe tbody tr th:only-of-type {\n        vertical-align: middle;\n    }\n\n    .dataframe tbody tr th {\n        vertical-align: top;\n    }\n\n    .dataframe thead th {\n        text-align: right;\n    }\n</style>\n<table border=\"1\" class=\"dataframe\">\n  <thead>\n    <tr style=\"text-align: right;\">\n      <th></th>\n      <th>id</th>\n      <th>de</th>\n      <th>fr</th>\n      <th>it</th>\n      <th>en</th>\n    </tr>\n  </thead>\n  <tbody>\n    <tr>\n      <th>0</th>\n      <td>MyCloud.OpenArea.Init.Utterance</td>\n      <td>{'texts': [{'ttsText': '{MyCloudArea} auf #myC...</td>\n      <td>{'texts': [{'ttsText': 'afficher {MyCloudArea}...</td>\n      <td>{'texts': [{'ttsText': 'apri {MyCloudArea} su ...</td>\n      <td>{'texts': [{'ttsText': 'show {MyCloudArea} on ...</td>\n    </tr>\n    <tr>\n      <th>1</th>\n      <td>Router.SwitchOnWiFi.Init.Utterance</td>\n      <td>{'texts': [{'ttsText': 'aktiviere das Wlan'}, ...</td>\n      <td>{'texts': [{'ttsText': 'active le Wi-Fi'}, {'t...</td>\n      <td>{'texts': [{'ttsText': 'attiva il #wifi'}, {'t...</td>\n      <td>{'texts': [{'ttsText': 'activate the Wi-Fi'}, ...</td>\n    </tr>\n    <tr>\n      <th>2</th>\n      <td>Tv.GenericExitToTv.Init.Utterance</td>\n      <td>{'texts': [{'ttsText': 'gehe zurück zum Fernse...</td>\n      <td>{'texts': [{'ttsText': 'revenir à la télé'}, {...</td>\n      <td>{'texts': [{'ttsText': 'torna alla TV'}, {'tts...</td>\n      <td>{'texts': [{'ttsText': 'back to TV'}, {'ttsTex...</td>\n    </tr>\n    <tr>\n      <th>3</th>\n      <td>Router.SwitchOffWiFi.Init.Utterance</td>\n      <td>{'texts': [{'ttsText': 'deaktiviere das Wlan'}...</td>\n      <td>{'texts': [{'ttsText': 'désactiver le Wi-Fi'},...</td>\n      <td>{'texts': [{'ttsText': 'disattiva il wifi'}, {...</td>\n      <td>{'texts': [{'ttsText': 'can you please switch ...</td>\n    </tr>\n    <tr>\n      <th>4</th>\n      <td>Tv.RadioChannelChange.Init.Utterance</td>\n      <td>{'texts': [{'ttsText': 'auf Radio {RadioChanne...</td>\n      <td>{'texts': [{'ttsText': 'prendre radio {RadioCh...</td>\n      <td>{'texts': [{'ttsText': 'metti radio {RadioChan...</td>\n      <td>{'texts': [{'ttsText': 'can you turn on radio ...</td>\n    </tr>\n  </tbody>\n</table>\n</div>"
     },
     "metadata": {},
     "execution_count": 28
    }
   ]
  },
  {
   "cell_type": "code",
   "execution_count": 3,
   "metadata": {
    "scrolled": true
   },
   "outputs": [
    {
     "output_type": "execute_result",
     "data": {
      "text/plain": "                                  id  \\\ncount                             39   \nunique                            39   \ntop     Tv.VolumeDown.Init.Utterance   \nfreq                               1   \n\n                                                       de  \\\ncount                                                  39   \nunique                                                 39   \ntop     {&#39;texts&#39;: [{&#39;ttsText&#39;: &#39;{SmartHomeSceneName} S...   \nfreq                                                    1   \n\n                                                       fr  \\\ncount                                                  39   \nunique                                                 39   \ntop     {&#39;texts&#39;: [{&#39;ttsText&#39;: &#39;activer scène {SmartHo...   \nfreq                                                    1   \n\n                                                       it  \\\ncount                                                  39   \nunique                                                 39   \ntop     {&#39;texts&#39;: [{&#39;ttsText&#39;: &#39;attiva scena {SmartHom...   \nfreq                                                    1   \n\n                                                       en  \ncount                                                  39  \nunique                                                 39  \ntop     {&#39;texts&#39;: [{&#39;ttsText&#39;: &#39;activate {SmartHomeSce...  \nfreq                                                    1  ",
      "text/html": "<div>\n<style scoped>\n    .dataframe tbody tr th:only-of-type {\n        vertical-align: middle;\n    }\n\n    .dataframe tbody tr th {\n        vertical-align: top;\n    }\n\n    .dataframe thead th {\n        text-align: right;\n    }\n</style>\n<table border=\"1\" class=\"dataframe\">\n  <thead>\n    <tr style=\"text-align: right;\">\n      <th></th>\n      <th>id</th>\n      <th>de</th>\n      <th>fr</th>\n      <th>it</th>\n      <th>en</th>\n    </tr>\n  </thead>\n  <tbody>\n    <tr>\n      <th>count</th>\n      <td>39</td>\n      <td>39</td>\n      <td>39</td>\n      <td>39</td>\n      <td>39</td>\n    </tr>\n    <tr>\n      <th>unique</th>\n      <td>39</td>\n      <td>39</td>\n      <td>39</td>\n      <td>39</td>\n      <td>39</td>\n    </tr>\n    <tr>\n      <th>top</th>\n      <td>Tv.VolumeDown.Init.Utterance</td>\n      <td>{'texts': [{'ttsText': '{SmartHomeSceneName} S...</td>\n      <td>{'texts': [{'ttsText': 'activer scène {SmartHo...</td>\n      <td>{'texts': [{'ttsText': 'attiva scena {SmartHom...</td>\n      <td>{'texts': [{'ttsText': 'activate {SmartHomeSce...</td>\n    </tr>\n    <tr>\n      <th>freq</th>\n      <td>1</td>\n      <td>1</td>\n      <td>1</td>\n      <td>1</td>\n      <td>1</td>\n    </tr>\n  </tbody>\n</table>\n</div>"
     },
     "metadata": {},
     "execution_count": 3
    }
   ],
   "source": [
    "templates_updated.describe()"
   ]
  },
  {
   "cell_type": "markdown",
   "metadata": {},
   "source": [
    "## Entities"
   ]
  },
  {
   "cell_type": "code",
   "execution_count": 29,
   "metadata": {
    "scrolled": true
   },
   "outputs": [
    {
     "output_type": "execute_result",
     "data": {
      "text/plain": "       value                 type language normalizedValue aliases\n0     Widnau  LocalsearchLocation       de          widnau      []\n1     Zurigo  LocalsearchLocation       it          zurigo      []\n2  Solothurn  LocalsearchLocation       de       solothurn      []\n3    Muttenz  LocalsearchLocation       de         muttenz      []\n4       Lyss  LocalsearchLocation       de            lyss      []",
      "text/html": "<div>\n<style scoped>\n    .dataframe tbody tr th:only-of-type {\n        vertical-align: middle;\n    }\n\n    .dataframe tbody tr th {\n        vertical-align: top;\n    }\n\n    .dataframe thead th {\n        text-align: right;\n    }\n</style>\n<table border=\"1\" class=\"dataframe\">\n  <thead>\n    <tr style=\"text-align: right;\">\n      <th></th>\n      <th>value</th>\n      <th>type</th>\n      <th>language</th>\n      <th>normalizedValue</th>\n      <th>aliases</th>\n    </tr>\n  </thead>\n  <tbody>\n    <tr>\n      <th>0</th>\n      <td>Widnau</td>\n      <td>LocalsearchLocation</td>\n      <td>de</td>\n      <td>widnau</td>\n      <td>[]</td>\n    </tr>\n    <tr>\n      <th>1</th>\n      <td>Zurigo</td>\n      <td>LocalsearchLocation</td>\n      <td>it</td>\n      <td>zurigo</td>\n      <td>[]</td>\n    </tr>\n    <tr>\n      <th>2</th>\n      <td>Solothurn</td>\n      <td>LocalsearchLocation</td>\n      <td>de</td>\n      <td>solothurn</td>\n      <td>[]</td>\n    </tr>\n    <tr>\n      <th>3</th>\n      <td>Muttenz</td>\n      <td>LocalsearchLocation</td>\n      <td>de</td>\n      <td>muttenz</td>\n      <td>[]</td>\n    </tr>\n    <tr>\n      <th>4</th>\n      <td>Lyss</td>\n      <td>LocalsearchLocation</td>\n      <td>de</td>\n      <td>lyss</td>\n      <td>[]</td>\n    </tr>\n  </tbody>\n</table>\n</div>"
     },
     "metadata": {},
     "execution_count": 29
    }
   ],
   "source": [
    "# entities\n",
    "entities = pd.read_json(\"data/entities.json\")\n",
    "entities = entities[['value', 'type', 'language', 'normalizedValue', 'aliases']]\n",
    "entities.head()"
   ]
  },
  {
   "cell_type": "code",
   "execution_count": 5,
   "metadata": {},
   "outputs": [
    {
     "output_type": "execute_result",
     "data": {
      "text/plain": "        value        type language normalizedValue aliases\ncount   65471       65471    65471           65471   65471\nunique  51272          33        4           52082    3793\ntop      Golf  SeriesName       de            golf      []\nfreq       20       17913    22746              20   59649",
      "text/html": "<div>\n<style scoped>\n    .dataframe tbody tr th:only-of-type {\n        vertical-align: middle;\n    }\n\n    .dataframe tbody tr th {\n        vertical-align: top;\n    }\n\n    .dataframe thead th {\n        text-align: right;\n    }\n</style>\n<table border=\"1\" class=\"dataframe\">\n  <thead>\n    <tr style=\"text-align: right;\">\n      <th></th>\n      <th>value</th>\n      <th>type</th>\n      <th>language</th>\n      <th>normalizedValue</th>\n      <th>aliases</th>\n    </tr>\n  </thead>\n  <tbody>\n    <tr>\n      <th>count</th>\n      <td>65471</td>\n      <td>65471</td>\n      <td>65471</td>\n      <td>65471</td>\n      <td>65471</td>\n    </tr>\n    <tr>\n      <th>unique</th>\n      <td>51272</td>\n      <td>33</td>\n      <td>4</td>\n      <td>52082</td>\n      <td>3793</td>\n    </tr>\n    <tr>\n      <th>top</th>\n      <td>Golf</td>\n      <td>SeriesName</td>\n      <td>de</td>\n      <td>golf</td>\n      <td>[]</td>\n    </tr>\n    <tr>\n      <th>freq</th>\n      <td>20</td>\n      <td>17913</td>\n      <td>22746</td>\n      <td>20</td>\n      <td>59649</td>\n    </tr>\n  </tbody>\n</table>\n</div>"
     },
     "metadata": {},
     "execution_count": 5
    }
   ],
   "source": [
    "entities.describe()"
   ]
  },
  {
   "cell_type": "markdown",
   "metadata": {},
   "source": [
    "# Explore data"
   ]
  },
  {
   "cell_type": "markdown",
   "metadata": {},
   "source": [
    "### Entities catagorical count"
   ]
  },
  {
   "cell_type": "code",
   "execution_count": 6,
   "metadata": {
    "scrolled": true
   },
   "outputs": [
    {
     "output_type": "execute_result",
     "data": {
      "text/plain": "language                     de      en      fr      it\ntype                                                   \nAlbumName                   NaN  1479.0     NaN     NaN\nAppName                   326.0   273.0   312.0   290.0\nAreaName                   26.0    26.0    26.0    26.0\nArtistName                  NaN   822.0     NaN     NaN\nBroadcastName             715.0   483.0   676.0   663.0\nCallingNumberType           3.0     4.0     4.0     4.0\nClipName                  353.0   320.0   342.0   338.0\nDossierName                 8.0     3.0     5.0     3.0\nFirstName                 952.0     NaN     NaN     NaN\nGenreName                   NaN     8.0     NaN     NaN\nLastName                  998.0     NaN     NaN     NaN\nLocalsearchLocation      3403.0    28.0  1909.0  1572.0\nMyCloudArea                 5.0     5.0     5.0     5.0\nNickName                   20.0    25.0    21.0    20.0\nParticipantName          2710.0   297.0  1473.0   575.0\nRadioChannelName          366.0   365.0   365.0   365.0\nSeriesName               6186.0  3281.0  4766.0  3680.0\nSmartHomeDeviceBrand        8.0    10.0    10.0     9.0\nSmartHomeDeviceCategory     5.0     5.0     5.0     5.0\nSmartHomeDeviceLocation     9.0     9.0     9.0     9.0\nSmartHomeDeviceName       100.0   100.0   100.0   101.0\nSmartHomeSceneName         50.0    49.0    50.0    50.0\nSportCompetitionName       20.0    20.0    20.0    20.0\nSportEventName            206.0   207.0   203.0   207.0\nSportParticipantName      432.0   432.0   432.0   432.0\nSportSportsName            10.0    10.0    10.0    10.0\nTrackName                   NaN  2701.0     NaN     NaN\nTvChannelName             635.0   623.0   633.0   633.0\nTvGenre                   137.0   131.0   131.0   127.0\nVodGenre                   99.0   107.0    99.0    99.0\nVodName                  4961.0  4209.0  3760.0  2083.0\nentitytype_1                1.0     NaN     NaN     NaN\ntest_aliasesTest            2.0     NaN     1.0     NaN",
      "text/html": "<div>\n<style scoped>\n    .dataframe tbody tr th:only-of-type {\n        vertical-align: middle;\n    }\n\n    .dataframe tbody tr th {\n        vertical-align: top;\n    }\n\n    .dataframe thead th {\n        text-align: right;\n    }\n</style>\n<table border=\"1\" class=\"dataframe\">\n  <thead>\n    <tr style=\"text-align: right;\">\n      <th>language</th>\n      <th>de</th>\n      <th>en</th>\n      <th>fr</th>\n      <th>it</th>\n    </tr>\n    <tr>\n      <th>type</th>\n      <th></th>\n      <th></th>\n      <th></th>\n      <th></th>\n    </tr>\n  </thead>\n  <tbody>\n    <tr>\n      <th>AlbumName</th>\n      <td>NaN</td>\n      <td>1479.0</td>\n      <td>NaN</td>\n      <td>NaN</td>\n    </tr>\n    <tr>\n      <th>AppName</th>\n      <td>326.0</td>\n      <td>273.0</td>\n      <td>312.0</td>\n      <td>290.0</td>\n    </tr>\n    <tr>\n      <th>AreaName</th>\n      <td>26.0</td>\n      <td>26.0</td>\n      <td>26.0</td>\n      <td>26.0</td>\n    </tr>\n    <tr>\n      <th>ArtistName</th>\n      <td>NaN</td>\n      <td>822.0</td>\n      <td>NaN</td>\n      <td>NaN</td>\n    </tr>\n    <tr>\n      <th>BroadcastName</th>\n      <td>715.0</td>\n      <td>483.0</td>\n      <td>676.0</td>\n      <td>663.0</td>\n    </tr>\n    <tr>\n      <th>CallingNumberType</th>\n      <td>3.0</td>\n      <td>4.0</td>\n      <td>4.0</td>\n      <td>4.0</td>\n    </tr>\n    <tr>\n      <th>ClipName</th>\n      <td>353.0</td>\n      <td>320.0</td>\n      <td>342.0</td>\n      <td>338.0</td>\n    </tr>\n    <tr>\n      <th>DossierName</th>\n      <td>8.0</td>\n      <td>3.0</td>\n      <td>5.0</td>\n      <td>3.0</td>\n    </tr>\n    <tr>\n      <th>FirstName</th>\n      <td>952.0</td>\n      <td>NaN</td>\n      <td>NaN</td>\n      <td>NaN</td>\n    </tr>\n    <tr>\n      <th>GenreName</th>\n      <td>NaN</td>\n      <td>8.0</td>\n      <td>NaN</td>\n      <td>NaN</td>\n    </tr>\n    <tr>\n      <th>LastName</th>\n      <td>998.0</td>\n      <td>NaN</td>\n      <td>NaN</td>\n      <td>NaN</td>\n    </tr>\n    <tr>\n      <th>LocalsearchLocation</th>\n      <td>3403.0</td>\n      <td>28.0</td>\n      <td>1909.0</td>\n      <td>1572.0</td>\n    </tr>\n    <tr>\n      <th>MyCloudArea</th>\n      <td>5.0</td>\n      <td>5.0</td>\n      <td>5.0</td>\n      <td>5.0</td>\n    </tr>\n    <tr>\n      <th>NickName</th>\n      <td>20.0</td>\n      <td>25.0</td>\n      <td>21.0</td>\n      <td>20.0</td>\n    </tr>\n    <tr>\n      <th>ParticipantName</th>\n      <td>2710.0</td>\n      <td>297.0</td>\n      <td>1473.0</td>\n      <td>575.0</td>\n    </tr>\n    <tr>\n      <th>RadioChannelName</th>\n      <td>366.0</td>\n      <td>365.0</td>\n      <td>365.0</td>\n      <td>365.0</td>\n    </tr>\n    <tr>\n      <th>SeriesName</th>\n      <td>6186.0</td>\n      <td>3281.0</td>\n      <td>4766.0</td>\n      <td>3680.0</td>\n    </tr>\n    <tr>\n      <th>SmartHomeDeviceBrand</th>\n      <td>8.0</td>\n      <td>10.0</td>\n      <td>10.0</td>\n      <td>9.0</td>\n    </tr>\n    <tr>\n      <th>SmartHomeDeviceCategory</th>\n      <td>5.0</td>\n      <td>5.0</td>\n      <td>5.0</td>\n      <td>5.0</td>\n    </tr>\n    <tr>\n      <th>SmartHomeDeviceLocation</th>\n      <td>9.0</td>\n      <td>9.0</td>\n      <td>9.0</td>\n      <td>9.0</td>\n    </tr>\n    <tr>\n      <th>SmartHomeDeviceName</th>\n      <td>100.0</td>\n      <td>100.0</td>\n      <td>100.0</td>\n      <td>101.0</td>\n    </tr>\n    <tr>\n      <th>SmartHomeSceneName</th>\n      <td>50.0</td>\n      <td>49.0</td>\n      <td>50.0</td>\n      <td>50.0</td>\n    </tr>\n    <tr>\n      <th>SportCompetitionName</th>\n      <td>20.0</td>\n      <td>20.0</td>\n      <td>20.0</td>\n      <td>20.0</td>\n    </tr>\n    <tr>\n      <th>SportEventName</th>\n      <td>206.0</td>\n      <td>207.0</td>\n      <td>203.0</td>\n      <td>207.0</td>\n    </tr>\n    <tr>\n      <th>SportParticipantName</th>\n      <td>432.0</td>\n      <td>432.0</td>\n      <td>432.0</td>\n      <td>432.0</td>\n    </tr>\n    <tr>\n      <th>SportSportsName</th>\n      <td>10.0</td>\n      <td>10.0</td>\n      <td>10.0</td>\n      <td>10.0</td>\n    </tr>\n    <tr>\n      <th>TrackName</th>\n      <td>NaN</td>\n      <td>2701.0</td>\n      <td>NaN</td>\n      <td>NaN</td>\n    </tr>\n    <tr>\n      <th>TvChannelName</th>\n      <td>635.0</td>\n      <td>623.0</td>\n      <td>633.0</td>\n      <td>633.0</td>\n    </tr>\n    <tr>\n      <th>TvGenre</th>\n      <td>137.0</td>\n      <td>131.0</td>\n      <td>131.0</td>\n      <td>127.0</td>\n    </tr>\n    <tr>\n      <th>VodGenre</th>\n      <td>99.0</td>\n      <td>107.0</td>\n      <td>99.0</td>\n      <td>99.0</td>\n    </tr>\n    <tr>\n      <th>VodName</th>\n      <td>4961.0</td>\n      <td>4209.0</td>\n      <td>3760.0</td>\n      <td>2083.0</td>\n    </tr>\n    <tr>\n      <th>entitytype_1</th>\n      <td>1.0</td>\n      <td>NaN</td>\n      <td>NaN</td>\n      <td>NaN</td>\n    </tr>\n    <tr>\n      <th>test_aliasesTest</th>\n      <td>2.0</td>\n      <td>NaN</td>\n      <td>1.0</td>\n      <td>NaN</td>\n    </tr>\n  </tbody>\n</table>\n</div>"
     },
     "metadata": {},
     "execution_count": 6
    }
   ],
   "source": [
    "df = entities[['type', 'language']]\n",
    "df = df.groupby(['type','language']).size().reset_index(name='count') \n",
    "df.pivot(index='type', columns='language', values='count')#.plot(kind='bar')"
   ]
  },
  {
   "source": [
    "### Generate correct command"
   ],
   "cell_type": "markdown",
   "metadata": {}
  },
  {
   "cell_type": "code",
   "execution_count": 129,
   "metadata": {
    "tags": []
   },
   "outputs": [
    {
     "output_type": "execute_result",
     "data": {
      "text/plain": "[&#39;BN&#39;, &#39;BNTV&#39;, &#39;BN TV&#39;]"
     },
     "metadata": {},
     "execution_count": 129
    }
   ],
   "source": [
    "from generator.tools import filter_aliases\n",
    "l = [   \"SRF 3\",\n",
    "\t\t\"D R S 3\",\n",
    "\t\t\"Schweiz 3\",\n",
    "\t\t\"S R F 3\",\n",
    "\t\t\"DRS 3\",\n",
    "        \"s r f 3\",\n",
    "\t\t\"s r f drei\",\n",
    "\t\t\"d r s drei\",\n",
    "\t\t\"schweiz drei\",\n",
    "\t\t\"DRS drei\",\n",
    "        \"one and a half man\"\n",
    "\t]\n",
    "l2 = [\n",
    "\t\t\"D M A X\",\n",
    "\t\t\"d max\",\n",
    "\t\t\"DMAX\",\n",
    "\t\t\"d m a x\",\n",
    "\t\t\"D Max\",\n",
    "\t\t\"D Max Italia\",\n",
    "\t\t\"d max italia\"\n",
    "\t]\n",
    "l3 = [\n",
    "\t\t\"TF three\",\n",
    "\t\t\"TF 3\",\n",
    "\t\t\"T F 3\",\n",
    "\t\t\"t f three\"\n",
    "\t]\n",
    "l4 = [\n",
    "\t\t\"E V Z Academy\",\n",
    "\t\t\"e v z academy\"\n",
    "\t]\n",
    "l5 = [\n",
    "\t\t\"BN\",\n",
    "\t\t\"b n t v\",\n",
    "\t\t\"B N\",\n",
    "\t\t\"b n\",\n",
    "\t\t\"BN TV\",\n",
    "\t\t\"B N T V\"\n",
    "\t]\n",
    "filter_aliases(l5,'de')"
   ]
  },
  {
   "cell_type": "code",
   "execution_count": 130,
   "metadata": {
    "tags": []
   },
   "outputs": [
    {
     "output_type": "execute_result",
     "data": {
      "text/plain": "[&#39;SRF eis&#39;,\n &#39;SR&#39;,\n &#39;Schweiz 1&#39;,\n &#39;DRS 1&#39;,\n &#39;SRF&#39;,\n &#39;Schweizer&#39;,\n &#39;DRS&#39;,\n &#39;SRF einz&#39;,\n &#39;SRF 1&#39;]"
     },
     "metadata": {},
     "execution_count": 130
    }
   ],
   "source": [
    "l6 = [\n",
    "\t\t\"S R F\",\n",
    "\t\t\"Schweiz 1\",\n",
    "\t\t\"SRF eis\",\n",
    "\t\t\"DRS 1\",\n",
    "\t\t\"SRF\",\n",
    "\t\t\"S R F eis\",\n",
    "\t\t\"s r f einz\",\n",
    "\t\t\"d r s eins\",\n",
    "\t\t\"S R\",\n",
    "\t\t\"schweizer\",\n",
    "\t\t\"Schweizer\",\n",
    "\t\t\"DRS eins\",\n",
    "\t\t\"SR\",\n",
    "\t\t\"SRF einz\",\n",
    "\t\t\"D R S\",\n",
    "\t\t\"s r f eis\",\n",
    "\t\t\"SRF 1\",\n",
    "\t\t\"D R S 1\",\n",
    "\t\t\"DRS\",\n",
    "\t\t\"s r\",\n",
    "\t\t\"S R F 1\",\n",
    "\t\t\"s r f eins\",\n",
    "\t\t\"SRF eins\",\n",
    "\t\t\"d r s\",\n",
    "\t\t\"S R F einz\",\n",
    "\t\t\"s r f\",\n",
    "\t\t\"schweiz eins\"\n",
    "\t]\n",
    "filter_aliases(l6, 'de')"
   ]
  },
  {
   "cell_type": "code",
   "execution_count": 74,
   "metadata": {},
   "outputs": [
    {
     "output_type": "execute_result",
     "data": {
      "text/plain": "       index      value                  type language        normalizedValue  \\\n0          0     Widnau   LocalsearchLocation       de                 widnau   \n1          1     Zurigo   LocalsearchLocation       it                 zurigo   \n2          2  Solothurn   LocalsearchLocation       de              solothurn   \n3          3    Muttenz   LocalsearchLocation       de                muttenz   \n4          4       Lyss   LocalsearchLocation       de                   lyss   \n...      ...        ...                   ...      ...                    ...   \n65866    395         98  RadioChannelPosition       it             novantotto   \n65867    396         99  RadioChannelPosition       en            ninety nine   \n65868    397         99  RadioChannelPosition       fr  quatre vingt dix neuf   \n65869    398         99  RadioChannelPosition       de         neunundneunzig   \n65870    399         99  RadioChannelPosition       it            novantanove   \n\n      aliases  \n0          []  \n1          []  \n2          []  \n3          []  \n4          []  \n...       ...  \n65866      []  \n65867      []  \n65868      []  \n65869      []  \n65870      []  \n\n[65871 rows x 6 columns]",
      "text/html": "<div>\n<style scoped>\n    .dataframe tbody tr th:only-of-type {\n        vertical-align: middle;\n    }\n\n    .dataframe tbody tr th {\n        vertical-align: top;\n    }\n\n    .dataframe thead th {\n        text-align: right;\n    }\n</style>\n<table border=\"1\" class=\"dataframe\">\n  <thead>\n    <tr style=\"text-align: right;\">\n      <th></th>\n      <th>index</th>\n      <th>value</th>\n      <th>type</th>\n      <th>language</th>\n      <th>normalizedValue</th>\n      <th>aliases</th>\n    </tr>\n  </thead>\n  <tbody>\n    <tr>\n      <th>0</th>\n      <td>0</td>\n      <td>Widnau</td>\n      <td>LocalsearchLocation</td>\n      <td>de</td>\n      <td>widnau</td>\n      <td>[]</td>\n    </tr>\n    <tr>\n      <th>1</th>\n      <td>1</td>\n      <td>Zurigo</td>\n      <td>LocalsearchLocation</td>\n      <td>it</td>\n      <td>zurigo</td>\n      <td>[]</td>\n    </tr>\n    <tr>\n      <th>2</th>\n      <td>2</td>\n      <td>Solothurn</td>\n      <td>LocalsearchLocation</td>\n      <td>de</td>\n      <td>solothurn</td>\n      <td>[]</td>\n    </tr>\n    <tr>\n      <th>3</th>\n      <td>3</td>\n      <td>Muttenz</td>\n      <td>LocalsearchLocation</td>\n      <td>de</td>\n      <td>muttenz</td>\n      <td>[]</td>\n    </tr>\n    <tr>\n      <th>4</th>\n      <td>4</td>\n      <td>Lyss</td>\n      <td>LocalsearchLocation</td>\n      <td>de</td>\n      <td>lyss</td>\n      <td>[]</td>\n    </tr>\n    <tr>\n      <th>...</th>\n      <td>...</td>\n      <td>...</td>\n      <td>...</td>\n      <td>...</td>\n      <td>...</td>\n      <td>...</td>\n    </tr>\n    <tr>\n      <th>65866</th>\n      <td>395</td>\n      <td>98</td>\n      <td>RadioChannelPosition</td>\n      <td>it</td>\n      <td>novantotto</td>\n      <td>[]</td>\n    </tr>\n    <tr>\n      <th>65867</th>\n      <td>396</td>\n      <td>99</td>\n      <td>RadioChannelPosition</td>\n      <td>en</td>\n      <td>ninety nine</td>\n      <td>[]</td>\n    </tr>\n    <tr>\n      <th>65868</th>\n      <td>397</td>\n      <td>99</td>\n      <td>RadioChannelPosition</td>\n      <td>fr</td>\n      <td>quatre vingt dix neuf</td>\n      <td>[]</td>\n    </tr>\n    <tr>\n      <th>65869</th>\n      <td>398</td>\n      <td>99</td>\n      <td>RadioChannelPosition</td>\n      <td>de</td>\n      <td>neunundneunzig</td>\n      <td>[]</td>\n    </tr>\n    <tr>\n      <th>65870</th>\n      <td>399</td>\n      <td>99</td>\n      <td>RadioChannelPosition</td>\n      <td>it</td>\n      <td>novantanove</td>\n      <td>[]</td>\n    </tr>\n  </tbody>\n</table>\n<p>65871 rows × 6 columns</p>\n</div>"
     },
     "metadata": {},
     "execution_count": 74
    }
   ],
   "source": [
    "pd.concat([entities, a]).reset_index()"
   ]
  },
  {
   "cell_type": "code",
   "execution_count": 71,
   "metadata": {},
   "outputs": [
    {
     "output_type": "execute_result",
     "data": {
      "text/plain": "              value                 type language normalizedValue aliases\n0            Widnau  LocalsearchLocation       de          widnau      []\n1            Zurigo  LocalsearchLocation       it          zurigo      []\n2         Solothurn  LocalsearchLocation       de       solothurn      []\n3           Muttenz  LocalsearchLocation       de         muttenz      []\n4              Lyss  LocalsearchLocation       de            lyss      []\n...             ...                  ...      ...             ...     ...\n65466    baby dance   SmartHomeSceneName       en      baby dance      []\n65467     Fernseher   SmartHomeSceneName       de       fernseher      []\n65468  tutto spento   SmartHomeSceneName       it    tutto spento      []\n65469     lumières    SmartHomeSceneName       fr        lumières      []\n65470           zen   SmartHomeSceneName       en             zen      []\n\n[65471 rows x 5 columns]",
      "text/html": "<div>\n<style scoped>\n    .dataframe tbody tr th:only-of-type {\n        vertical-align: middle;\n    }\n\n    .dataframe tbody tr th {\n        vertical-align: top;\n    }\n\n    .dataframe thead th {\n        text-align: right;\n    }\n</style>\n<table border=\"1\" class=\"dataframe\">\n  <thead>\n    <tr style=\"text-align: right;\">\n      <th></th>\n      <th>value</th>\n      <th>type</th>\n      <th>language</th>\n      <th>normalizedValue</th>\n      <th>aliases</th>\n    </tr>\n  </thead>\n  <tbody>\n    <tr>\n      <th>0</th>\n      <td>Widnau</td>\n      <td>LocalsearchLocation</td>\n      <td>de</td>\n      <td>widnau</td>\n      <td>[]</td>\n    </tr>\n    <tr>\n      <th>1</th>\n      <td>Zurigo</td>\n      <td>LocalsearchLocation</td>\n      <td>it</td>\n      <td>zurigo</td>\n      <td>[]</td>\n    </tr>\n    <tr>\n      <th>2</th>\n      <td>Solothurn</td>\n      <td>LocalsearchLocation</td>\n      <td>de</td>\n      <td>solothurn</td>\n      <td>[]</td>\n    </tr>\n    <tr>\n      <th>3</th>\n      <td>Muttenz</td>\n      <td>LocalsearchLocation</td>\n      <td>de</td>\n      <td>muttenz</td>\n      <td>[]</td>\n    </tr>\n    <tr>\n      <th>4</th>\n      <td>Lyss</td>\n      <td>LocalsearchLocation</td>\n      <td>de</td>\n      <td>lyss</td>\n      <td>[]</td>\n    </tr>\n    <tr>\n      <th>...</th>\n      <td>...</td>\n      <td>...</td>\n      <td>...</td>\n      <td>...</td>\n      <td>...</td>\n    </tr>\n    <tr>\n      <th>65466</th>\n      <td>baby dance</td>\n      <td>SmartHomeSceneName</td>\n      <td>en</td>\n      <td>baby dance</td>\n      <td>[]</td>\n    </tr>\n    <tr>\n      <th>65467</th>\n      <td>Fernseher</td>\n      <td>SmartHomeSceneName</td>\n      <td>de</td>\n      <td>fernseher</td>\n      <td>[]</td>\n    </tr>\n    <tr>\n      <th>65468</th>\n      <td>tutto spento</td>\n      <td>SmartHomeSceneName</td>\n      <td>it</td>\n      <td>tutto spento</td>\n      <td>[]</td>\n    </tr>\n    <tr>\n      <th>65469</th>\n      <td>lumières</td>\n      <td>SmartHomeSceneName</td>\n      <td>fr</td>\n      <td>lumières</td>\n      <td>[]</td>\n    </tr>\n    <tr>\n      <th>65470</th>\n      <td>zen</td>\n      <td>SmartHomeSceneName</td>\n      <td>en</td>\n      <td>zen</td>\n      <td>[]</td>\n    </tr>\n  </tbody>\n</table>\n<p>65471 rows × 5 columns</p>\n</div>"
     },
     "metadata": {},
     "execution_count": 71
    }
   ],
   "source": [
    "entities"
   ]
  },
  {
   "cell_type": "code",
   "execution_count": 134,
   "metadata": {
    "tags": []
   },
   "outputs": [
    {
     "output_type": "execute_result",
     "data": {
      "text/plain": "[&#39;can you turn on radio station 99&#39;,\n &#39;change radio station&#39;,\n &#39;change to radio channel 99 please&#39;,\n &#39;change the radio channel&#39;,\n &#39;change the radio station please&#39;,\n &#39;change the radio station to Freundes-Dienst Schweiz&#39;,\n &#39;change the radio station to Radio Freundes - Dienst&#39;,\n &#39;change the radio station to Radio Freundes-Dienst Schweiz&#39;,\n &#39;change the radio station to Radio Freundes-Dienst&#39;,\n &#39;change the radio station to Radio Freundes - Dienst Schweiz&#39;,\n &#39;change the radio station to Freundes - Dienst Schweiz&#39;,\n &#39;change the station please&#39;,\n &#39;could you please change the radio station to Freundes-Dienst Schweiz&#39;,\n &#39;could you please change the radio station to Radio Freundes - Dienst&#39;,\n &#39;could you please change the radio station to Radio Freundes-Dienst Schweiz&#39;,\n &#39;could you please change the radio station to Radio Freundes-Dienst&#39;,\n &#39;could you please change the radio station to Radio Freundes - Dienst Schweiz&#39;,\n &#39;could you please change the radio station to Freundes - Dienst Schweiz&#39;,\n &#39;I do not want to listen to this&#39;,\n &quot;I don&#39;t want to listen to this&quot;,\n &#39;I think this radio station is boring&#39;,\n &#39;I wanna switch to radio channel 99&#39;,\n &#39;I want to change the radio station&#39;,\n &#39;I want to change the station to radio channel Freundes-Dienst Schweiz&#39;,\n &#39;I want to change the station to radio channel Radio Freundes - Dienst&#39;,\n &#39;I want to change the station to radio channel Radio Freundes-Dienst Schweiz&#39;,\n &#39;I want to change the station to radio channel Radio Freundes-Dienst&#39;,\n &#39;I want to change the station to radio channel Radio Freundes - Dienst Schweiz&#39;,\n &#39;I want to change the station to radio channel Freundes - Dienst Schweiz&#39;,\n &#39;I want to listen to Freundes-Dienst Schweiz&#39;,\n &#39;I want to listen to Radio Freundes - Dienst&#39;,\n &#39;I want to listen to Radio Freundes-Dienst Schweiz&#39;,\n &#39;I want to listen to Radio Freundes-Dienst&#39;,\n &#39;I want to listen to Radio Freundes - Dienst Schweiz&#39;,\n &#39;I want to listen to Freundes - Dienst Schweiz&#39;,\n &#39;I want to listen to radio station 99&#39;,\n &#39;I want to listen to something else&#39;,\n &#39;I want to switch to radio channel 99&#39;,\n &#39;I would like to change the radio station&#39;,\n &#39;I would like to listen to Freundes-Dienst Schweiz&#39;,\n &#39;I would like to listen to Radio Freundes - Dienst&#39;,\n &#39;I would like to listen to Radio Freundes-Dienst Schweiz&#39;,\n &#39;I would like to listen to Radio Freundes-Dienst&#39;,\n &#39;I would like to listen to Radio Freundes - Dienst Schweiz&#39;,\n &#39;I would like to listen to Freundes - Dienst Schweiz&#39;,\n &quot;I&#39;d like to listen to Freundes-Dienst Schweiz&quot;,\n &quot;I&#39;d like to listen to Radio Freundes - Dienst&quot;,\n &quot;I&#39;d like to listen to Radio Freundes-Dienst Schweiz&quot;,\n &quot;I&#39;d like to listen to Radio Freundes-Dienst&quot;,\n &quot;I&#39;d like to listen to Radio Freundes - Dienst Schweiz&quot;,\n &quot;I&#39;d like to listen to Freundes - Dienst Schweiz&quot;,\n &quot;I&#39;d like to listen to radio channel 99&quot;,\n &quot;I&#39;d like to listen to the radio&quot;,\n &quot;I&#39;m bored of this radio station&quot;,\n &#39;please change the radio station&#39;,\n &#39;please put on radio station 99&#39;,\n &#39;please switch to Freundes-Dienst Schweiz&#39;,\n &#39;please switch to Radio Freundes - Dienst&#39;,\n &#39;please switch to Radio Freundes-Dienst Schweiz&#39;,\n &#39;please switch to Radio Freundes-Dienst&#39;,\n &#39;please switch to Radio Freundes - Dienst Schweiz&#39;,\n &#39;please switch to Freundes - Dienst Schweiz&#39;,\n &#39;please switch to another radio station&#39;,\n &#39;search for Freundes-Dienst Schweiz&#39;,\n &#39;search for Radio Freundes - Dienst&#39;,\n &#39;search for Radio Freundes-Dienst Schweiz&#39;,\n &#39;search for Radio Freundes-Dienst&#39;,\n &#39;search for Radio Freundes - Dienst Schweiz&#39;,\n &#39;search for Freundes - Dienst Schweiz&#39;,\n &#39;put on Freundes-Dienst Schweiz&#39;,\n &#39;put on Radio Freundes - Dienst&#39;,\n &#39;put on Radio Freundes-Dienst Schweiz&#39;,\n &#39;put on Radio Freundes-Dienst&#39;,\n &#39;put on Radio Freundes - Dienst Schweiz&#39;,\n &#39;put on Freundes - Dienst Schweiz&#39;,\n &#39;put on Freundes-Dienst Schweiz please&#39;,\n &#39;put on Radio Freundes - Dienst please&#39;,\n &#39;put on Radio Freundes-Dienst Schweiz please&#39;,\n &#39;put on Radio Freundes-Dienst please&#39;,\n &#39;put on Radio Freundes - Dienst Schweiz please&#39;,\n &#39;put on Freundes - Dienst Schweiz please&#39;,\n &#39;put on radio channel 99&#39;,\n &#39;radio station 99 please&#39;,\n &#39;station change&#39;,\n &#39;switch to Freundes-Dienst Schweiz&#39;,\n &#39;switch to Radio Freundes - Dienst&#39;,\n &#39;switch to Radio Freundes-Dienst Schweiz&#39;,\n &#39;switch to Radio Freundes-Dienst&#39;,\n &#39;switch to Radio Freundes - Dienst Schweiz&#39;,\n &#39;switch to Freundes - Dienst Schweiz&#39;,\n &#39;switch to a different radio station&#39;,\n &#39;switch to radio channel 99&#39;,\n &#39;switch to radio station 99&#39;,\n &#39;this radio station is boring&#39;,\n &#39;turn on radio Freundes-Dienst Schweiz&#39;,\n &#39;turn on radio Radio Freundes - Dienst&#39;,\n &#39;turn on radio Radio Freundes-Dienst Schweiz&#39;,\n &#39;turn on radio Radio Freundes-Dienst&#39;,\n &#39;turn on radio Radio Freundes - Dienst Schweiz&#39;,\n &#39;turn on radio Freundes - Dienst Schweiz&#39;,\n &#39;turn on radio station 99&#39;,\n &#39;would you please change the radio station&#39;,\n &#39;turn the radio on&#39;,\n &#39;Freundes-Dienst Schweiz&#39;,\n &#39;Radio Freundes - Dienst&#39;,\n &#39;Radio Freundes-Dienst Schweiz&#39;,\n &#39;Radio Freundes-Dienst&#39;,\n &#39;Radio Freundes - Dienst Schweiz&#39;,\n &#39;Freundes - Dienst Schweiz&#39;]"
     },
     "metadata": {},
     "execution_count": 134
    }
   ],
   "source": [
    "from generator.module import Generator\n",
    "from generator.normalizer import Normalizer\n",
    "gen = Generator(templates=templates_updated, entities=pd.concat([entities, a]).reset_index(), method='all')\n",
    "gen.get_command(target_id='Tv.RadioChannelChange.Init.Utterance', \n",
    "                target_lang='en', \n",
    "                verbose=False)[:250]"
   ]
  },
  {
   "cell_type": "code",
   "execution_count": 85,
   "metadata": {
    "tags": []
   },
   "outputs": [
    {
     "output_type": "execute_result",
     "data": {
      "text/plain": "                     value         type language      normalizedValue  \\\n41769                Fotos  MyCloudArea       de                fotos   \n41772            Favoriten  MyCloudArea       de            favoriten   \n41774                Alben  MyCloudArea       de                alben   \n41776               Videos  MyCloudArea       de               videos   \n41780  Zuletzt hochgeladen  MyCloudArea       de  zuletzt hochgeladen   \n\n                                                 aliases  \n41769  [fotos, fotogalerie, Bilder, Bilder Galerie, m...  \n41772  [Lieblingsfotos, Lieblingsfoto, lieblingsaufna...  \n41774  [bilderalben, Foto Album, Fotoalben, Sammlung,...  \n41776  [Video Aufnahmen, Videoaufnahmen, videoaufnahm...  \n41780  [akutellen, letzte, aktuelle, jüngsten, neuest...  ",
      "text/html": "<div>\n<style scoped>\n    .dataframe tbody tr th:only-of-type {\n        vertical-align: middle;\n    }\n\n    .dataframe tbody tr th {\n        vertical-align: top;\n    }\n\n    .dataframe thead th {\n        text-align: right;\n    }\n</style>\n<table border=\"1\" class=\"dataframe\">\n  <thead>\n    <tr style=\"text-align: right;\">\n      <th></th>\n      <th>value</th>\n      <th>type</th>\n      <th>language</th>\n      <th>normalizedValue</th>\n      <th>aliases</th>\n    </tr>\n  </thead>\n  <tbody>\n    <tr>\n      <th>41769</th>\n      <td>Fotos</td>\n      <td>MyCloudArea</td>\n      <td>de</td>\n      <td>fotos</td>\n      <td>[fotos, fotogalerie, Bilder, Bilder Galerie, m...</td>\n    </tr>\n    <tr>\n      <th>41772</th>\n      <td>Favoriten</td>\n      <td>MyCloudArea</td>\n      <td>de</td>\n      <td>favoriten</td>\n      <td>[Lieblingsfotos, Lieblingsfoto, lieblingsaufna...</td>\n    </tr>\n    <tr>\n      <th>41774</th>\n      <td>Alben</td>\n      <td>MyCloudArea</td>\n      <td>de</td>\n      <td>alben</td>\n      <td>[bilderalben, Foto Album, Fotoalben, Sammlung,...</td>\n    </tr>\n    <tr>\n      <th>41776</th>\n      <td>Videos</td>\n      <td>MyCloudArea</td>\n      <td>de</td>\n      <td>videos</td>\n      <td>[Video Aufnahmen, Videoaufnahmen, videoaufnahm...</td>\n    </tr>\n    <tr>\n      <th>41780</th>\n      <td>Zuletzt hochgeladen</td>\n      <td>MyCloudArea</td>\n      <td>de</td>\n      <td>zuletzt hochgeladen</td>\n      <td>[akutellen, letzte, aktuelle, jüngsten, neuest...</td>\n    </tr>\n  </tbody>\n</table>\n</div>"
     },
     "metadata": {},
     "execution_count": 85
    }
   ],
   "source": [
    "import random\n",
    "k = entities[entities['type'] == 'MyCloudArea'][entities['language'] == 'de']\n",
    "k"
   ]
  },
  {
   "cell_type": "code",
   "execution_count": 136,
   "metadata": {
    "tags": []
   },
   "outputs": [
    {
     "output_type": "execute_result",
     "data": {
      "text/plain": "n&#39;,\n &#39;kann ich mir Bildersammlung bei myCloud anschauen&#39;,\n &#39;kann ich mir Alben bei myCloud anschauen&#39;,\n &#39;kann ich mir Fotoalbum bei myCloud anschauen&#39;,\n &#39;kann ich mir Foto Album bei myCloud anschauen&#39;,\n &#39;kann ich mir Fotoalben bei myCloud anschauen&#39;,\n &#39;kann ich mir Album bei myCloud anschauen&#39;,\n &#39;kann ich mir Bilderalben bei myCloud anschauen&#39;,\n &#39;kann ich mir Ordner bei myCloud anschauen&#39;,\n &#39;kann ich mir Video Aufnahmen bei myCloud anschauen&#39;,\n &#39;kann ich mir meine Filme bei myCloud anschauen&#39;,\n &#39;kann ich mir Videos bei myCloud anschauen&#39;,\n &#39;kann ich mir Videoaufnahmen bei myCloud anschauen&#39;,\n &#39;kann ich mir zuletzt hochgeladene bei myCloud anschauen&#39;,\n &#39;kann ich mir akutellen bei myCloud anschauen&#39;,\n &#39;kann ich mir jüngstes bei myCloud anschauen&#39;,\n &#39;kann ich mir neuesten bei myCloud anschauen&#39;,\n &#39;kann ich mir zuletzt hochgeladenes bei myCloud anschauen&#39;,\n &#39;kann ich mir aktuelle bei myCloud anschauen&#39;,\n &#39;kann ich mir aktuelles bei myCloud anschauen&#39;,\n &#39;kann ich mir letztes bei myCloud anschauen&#39;,\n &#39;kann ich mir neueste bei myCloud anschauen&#39;,\n &#39;kann ich mir jüngste bei myCloud anschauen&#39;,\n &#39;kann ich mir Zuletzt hochgeladen bei myCloud anschauen&#39;,\n &#39;kann ich mir jüngsten bei myCloud anschauen&#39;,\n &#39;kann ich mir neuestes bei myCloud anschauen&#39;,\n &#39;kann ich mir letzten bei myCloud anschauen&#39;,\n &#39;kann ich mir letzte bei myCloud anschauen&#39;,\n &#39;kannst du Galerie über myCloud öffnen&#39;,\n &#39;kannst du Fotostream über myCloud öffnen&#39;,\n &#39;kannst du Fotogalerie über myCloud öffnen&#39;,\n &#39;kannst du meine Bilder über myCloud öffnen&#39;,\n &#39;kannst du Foto über myCloud öffnen&#39;,\n &#39;kannst du Bilder Galerie über myCloud öffnen&#39;,\n &#39;kannst du Fotos über myCloud öffnen&#39;,\n &#39;kannst du Foto Galerie über myCloud öffnen&#39;,\n &#39;kannst du Foto Stream über myCloud öffnen&#39;,\n &#39;kannst du Aufnahmen über myCloud öffnen&#39;,\n &#39;kannst du Bildergalerie über myCloud öffnen&#39;,\n &#39;kannst du Bilder über myCloud öffnen&#39;,\n &#39;kannst du meine Fotos über myCloud öffnen&#39;,\n &#39;kannst du Lieblingsfoto über myCloud öffnen&#39;,\n &#39;kannst du markierte Fotos über myCloud öffnen&#39;,\n &#39;kannst du Lieblingsbild über myCloud öffnen&#39;,\n &#39;kannst du Lieblingsaufnahmen über myCloud öffnen&#39;,\n &#39;kannst du Lieblingsbilder über myCloud öffnen&#39;,\n &#39;kannst du Lieblingsaufnahme über myCloud öffnen&#39;,\n &#39;kannst du Favorit über myCloud öffnen&#39;,\n &#39;kannst du Favoriten über myCloud öffnen&#39;,\n &#39;kannst du Lieblingsfotos über myCloud öffnen&#39;,\n &#39;kannst du Bilder Alben über myCloud öffnen&#39;,\n &#39;kannst du Bilder Sammlung über myCloud öffnen&#39;,\n &#39;kannst du Foto Alben über myCloud öffnen&#39;,\n &#39;kannst du Sammlung über myCloud öffnen&#39;,\n &#39;kannst du Bildersammlung über myCloud öffnen&#39;,\n &#39;kannst du Alben über myCloud öffnen&#39;,\n &#39;kannst du Fotoalbum über myCloud öffnen&#39;,\n &#39;kannst du Foto Album über myCloud öffnen&#39;,\n &#39;kannst du Fotoalben über myCloud öffnen&#39;,\n &#39;kannst du Album über myCloud öffnen&#39;,\n &#39;kannst du Bilderalben über myCloud öffnen&#39;,\n &#39;kannst du Ordner über myCloud öffnen&#39;,\n &#39;kannst du Video Aufnahmen über myCloud öffnen&#39;,\n &#39;kannst du meine Filme über myCloud öffnen&#39;,\n &#39;kannst du Videos über myCloud öffnen&#39;,\n &#39;kannst du Videoaufnahmen über myCloud öffnen&#39;,\n &#39;kannst du zuletzt hochgeladene über myCloud öffnen&#39;,\n &#39;kannst du akutellen über myCloud öffnen&#39;,\n &#39;kannst du jüngstes über myCloud öffnen&#39;,\n &#39;kannst du neuesten über myCloud öffnen&#39;,\n &#39;kannst du zuletzt hochgeladenes über myCloud öffnen&#39;,\n &#39;kannst du aktuelle über myCloud öffnen&#39;,\n &#39;kannst du aktuelles über myCloud öffnen&#39;,\n &#39;kannst du letztes über myCloud öffnen&#39;,\n &#39;kannst du neueste über myCloud öffnen&#39;,\n &#39;kannst du jüngste über myCloud öffnen&#39;,\n &#39;kannst du Zuletzt hochgeladen über myCloud öffnen&#39;,\n &#39;kannst du jüngsten über myCloud öffnen&#39;,\n &#39;kannst du neuestes über myCloud öffnen&#39;,\n &#39;kannst du letzten über myCloud öffnen&#39;,\n &#39;kannst du letzte über myCloud öffnen&#39;,\n &#39;kannst du bitte Galerie bei myCloud anzeigen&#39;,\n &#39;kannst du bitte Fotostream bei myCloud anzeigen&#39;,\n &#39;kannst du bitte Fotogalerie bei myCloud anzeigen&#39;,\n &#39;kannst du bitte meine Bilder bei myCloud anzeigen&#39;,\n &#39;kannst du bitte Foto bei myCloud anzeigen&#39;,\n &#39;kannst du bitte Bilder Galerie bei myCloud anzeigen&#39;,\n &#39;kannst du bitte Fotos bei myCloud anzeigen&#39;,\n &#39;kannst du bitte Foto Galerie bei myCloud anzeigen&#39;,\n &#39;kannst du bitte Foto Stream bei myCloud anzeigen&#39;,\n &#39;kannst du bitte Aufnahmen bei myCloud anzeigen&#39;,\n &#39;kannst du bitte Bildergalerie bei myCloud anzeigen&#39;,\n &#39;kannst du bitte Bilder bei myCloud anzeigen&#39;,\n &#39;kannst du bitte meine Fotos bei myCloud anzeigen&#39;,\n &#39;kannst du bitte Lieblingsfoto bei myCloud anzeigen&#39;,\n &#39;kannst du bitte markierte Fotos bei myCloud anzeigen&#39;,\n &#39;kannst du bitte Lieblingsbild bei myCloud anzeigen&#39;,\n &#39;kannst du bitte Lieblingsaufnahmen bei myCloud anzeigen&#39;,\n &#39;kannst du bitte Lieblingsbilder bei myCloud anzeigen&#39;,\n &#39;kannst du bitte Lieblingsaufnahme bei myCloud anzeigen&#39;,\n &#39;kannst du bitte Favorit bei myCloud anzeigen&#39;,\n &#39;kannst du bitte Favoriten bei myCloud anzeigen&#39;,\n &#39;kannst du bitte Lieblingsfotos bei myCloud anzeigen&#39;,\n &#39;kannst du bitte Bilder Alben bei myCloud anzeigen&#39;,\n &#39;kannst du bitte Bilder Sammlung bei myCloud anzeigen&#39;,\n &#39;kannst du bitte Foto Alben bei myCloud anzeigen&#39;,\n &#39;kannst du bitte Sammlung bei myCloud anzeigen&#39;,\n &#39;kannst du bitte Bildersammlung bei myCloud anzeigen&#39;,\n &#39;kannst du bitte Alben bei myCloud anzeigen&#39;,\n &#39;kannst du bitte Fotoalbum bei myCloud anzeigen&#39;,\n &#39;kannst du bitte Foto Album bei myCloud anzeigen&#39;,\n &#39;kannst du bitte Fotoalben bei myCloud anzeigen&#39;,\n &#39;kannst du bitte Album bei myCloud anzeigen&#39;,\n &#39;kannst du bitte Bilderalben bei myCloud anzeigen&#39;,\n &#39;kannst du bitte Ordner bei myCloud anzeigen&#39;,\n &#39;kannst du bitte Video Aufnahmen bei myCloud anzeigen&#39;,\n &#39;kannst du bitte meine Filme bei myCloud anzeigen&#39;,\n &#39;kannst du bitte Videos bei myCloud anzeigen&#39;,\n &#39;kannst du bitte Videoaufnahmen bei myCloud anzeigen&#39;,\n &#39;kannst du bitte zuletzt hochgeladene bei myCloud anzeigen&#39;,\n &#39;kannst du bitte akutellen bei myCloud anzeigen&#39;,\n &#39;kannst du bitte jüngstes bei myCloud anzeigen&#39;,\n &#39;kannst du bitte neuesten bei myCloud anzeigen&#39;,\n &#39;kannst du bitte zuletzt hochgeladenes bei myCloud anzeigen&#39;,\n &#39;kannst du bitte aktuelle bei myCloud anzeigen&#39;,\n &#39;kannst du bitte aktuelles bei myCloud anzeigen&#39;,\n &#39;kannst du bitte letztes bei myCloud anzeigen&#39;,\n &#39;kannst du bitte neueste bei myCloud anzeigen&#39;,\n &#39;kannst du bitte jüngste bei myCloud anzeigen&#39;,\n &#39;kannst du bitte Zuletzt hochgeladen bei myCloud anzeigen&#39;,\n &#39;kannst du bitte jüngsten bei myCloud anzeigen&#39;,\n &#39;kannst du bitte neuestes bei myCloud anzeigen&#39;,\n &#39;kannst du bitte letzten bei myCloud anzeigen&#39;,\n &#39;kannst du bitte letzte bei myCloud anzeigen&#39;,\n &#39;öffne bitte Galerie auf myCloud&#39;,\n &#39;öffne bitte Fotostream auf myCloud&#39;,\n &#39;öffne bitte Fotogalerie auf myCloud&#39;,\n &#39;öffne bitte meine Bilder auf myCloud&#39;,\n &#39;öffne bitte Foto auf myCloud&#39;,\n &#39;öffne bitte Bilder Galerie auf myCloud&#39;,\n &#39;öffne bitte Fotos auf myCloud&#39;,\n &#39;öffne bitte Foto Galerie auf myCloud&#39;,\n &#39;öffne bitte Foto Stream auf myCloud&#39;,\n &#39;öffne bitte Aufnahmen auf myCloud&#39;,\n &#39;öffne bitte Bildergalerie auf myCloud&#39;,\n &#39;öffne bitte Bilder auf myCloud&#39;,\n &#39;öffne bitte meine Fotos auf myCloud&#39;,\n &#39;öffne bitte Lieblingsfoto auf myCloud&#39;,\n &#39;öffne bitte markierte Fotos auf myCloud&#39;,\n &#39;öffne bitte Lieblingsbild auf myCloud&#39;,\n &#39;öffne bitte Lieblingsaufnahmen auf myCloud&#39;,\n &#39;öffne bitte Lieblingsbilder auf myCloud&#39;,\n &#39;öffne bitte Lieblingsaufnahme auf myCloud&#39;,\n &#39;öffne bitte Favorit auf myCloud&#39;,\n &#39;öffne bitte Favoriten auf myCloud&#39;,\n &#39;öffne bitte Lieblingsfotos auf myCloud&#39;,\n &#39;öffne bitte Bilder Alben auf myCloud&#39;,\n &#39;öffne bitte Bilder Sammlung auf myCloud&#39;,\n &#39;öffne bitte Foto Alben auf myCloud&#39;,\n &#39;öffne bitte Sammlung auf myCloud&#39;,\n &#39;öffne bitte Bildersammlung auf myCloud&#39;,\n &#39;öffne bitte Alben auf myCloud&#39;,\n &#39;öffne bitte Fotoalbum auf myCloud&#39;,\n &#39;öffne bitte Foto Album auf myCloud&#39;,\n &#39;öffne bitte Fotoalben auf myCloud&#39;,\n &#39;öffne bitte Album auf myCloud&#39;,\n &#39;öffne bitte Bilderalben auf myCloud&#39;,\n &#39;öffne bitte Ordner auf myCloud&#39;,\n &#39;öffne bitte Video Aufnahmen auf myCloud&#39;,\n &#39;öffne bitte meine Filme auf myCloud&#39;,\n &#39;öffne bitte Videos auf myCloud&#39;,\n &#39;öffne bitte Videoaufnahmen auf myCloud&#39;,\n &#39;öffne bitte zuletzt hochgeladene auf myCloud&#39;,\n &#39;öffne bitte akutellen auf myCloud&#39;,\n &#39;öffne bitte jüngstes auf myCloud&#39;,\n &#39;öffne bitte neuesten auf myCloud&#39;,\n &#39;öffne bitte zuletzt hochgeladenes auf myCloud&#39;,\n &#39;öffne bitte aktuelle auf myCloud&#39;,\n &#39;öffne bitte aktuelles auf myCloud&#39;,\n &#39;öffne bitte letztes auf myCloud&#39;,\n &#39;öffne bitte neueste auf myCloud&#39;,\n &#39;öffne bitte jüngste auf myCloud&#39;,\n &#39;öffne bitte Zuletzt hochgeladen auf myCloud&#39;,\n &#39;öffne bitte jüngsten auf myCloud&#39;,\n &#39;öffne bitte neuestes auf myCloud&#39;,\n &#39;öffne bitte letzten auf myCloud&#39;,\n &#39;öffne bitte letzte auf myCloud&#39;,\n &#39;öffne mal Galerie über myCloud&#39;,\n &#39;öffne mal Fotostream über myCloud&#39;,\n &#39;öffne mal Fotogalerie über myCloud&#39;,\n &#39;öffne mal meine Bilder über myCloud&#39;,\n &#39;öffne mal Foto über myCloud&#39;,\n &#39;öffne mal Bilder Galerie über myCloud&#39;,\n &#39;öffne mal Fotos über myCloud&#39;,\n &#39;öffne mal Foto Galerie über myCloud&#39;,\n &#39;öffne mal Foto Stream über myCloud&#39;,\n &#39;öffne mal Aufnahmen über myCloud&#39;,\n &#39;öffne mal Bildergalerie über myCloud&#39;,\n &#39;öffne mal Bilder über myCloud&#39;,\n &#39;öffne mal meine Fotos über myCloud&#39;,\n &#39;öffne mal Lieblingsfoto über myCloud&#39;,\n &#39;öffne mal markierte Fotos über myCloud&#39;,\n &#39;öffne mal Lieblingsbild über myCloud&#39;,\n &#39;öffne mal Lieblingsaufnahmen über myCloud&#39;,\n &#39;öffne mal Lieblingsbilder über myCloud&#39;,\n &#39;öffne mal Lieblingsaufnahme über myCloud&#39;,\n &#39;öffne mal Favorit über myCloud&#39;,\n &#39;öffne mal Favoriten über myCloud&#39;,\n &#39;öffne mal Lieblingsfotos über myCloud&#39;,\n &#39;öffne mal Bilder Alben über myCloud&#39;,\n &#39;öffne mal Bilder Sammlung über myCloud&#39;,\n &#39;öffne mal Foto Alben über myCloud&#39;,\n &#39;öffne mal Sammlung über myCloud&#39;,\n &#39;öffne mal Bildersammlung über myCloud&#39;,\n &#39;öffne mal Alben über myCloud&#39;,\n &#39;öffne mal Fotoalbum über myCloud&#39;,\n &#39;öffne mal Foto Album über myCloud&#39;,\n &#39;öffne mal Fotoalben über myCloud&#39;,\n &#39;öffne mal Album über myCloud&#39;,\n &#39;öffne mal Bilderalben über myCloud&#39;,\n &#39;öffne mal Ordner über myCloud&#39;,\n &#39;öffne mal Video Aufnahmen über myCloud&#39;,\n &#39;öffne mal meine Filme über myCloud&#39;,\n &#39;öffne mal Videos über myCloud&#39;,\n &#39;öffne mal Videoaufnahmen über myCloud&#39;,\n &#39;öffne mal zuletzt hochgeladene über myCloud&#39;,\n &#39;öffne mal akutellen über myCloud&#39;,\n &#39;öffne mal jüngstes über myCloud&#39;,\n &#39;öffne mal neuesten über myCloud&#39;,\n &#39;öffne mal zuletzt hochgeladenes über myCloud&#39;,\n &#39;öffne mal aktuelle über myCloud&#39;,\n &#39;öffne mal aktuelles über myCloud&#39;,\n &#39;öffne mal letztes über myCloud&#39;,\n &#39;öffne mal neueste über myCloud&#39;,\n &#39;öffne mal jüngste über myCloud&#39;,\n &#39;öffne mal Zuletzt hochgeladen über myCloud&#39;,\n &#39;öffne mal jüngsten über myCloud&#39;,\n &#39;öffne mal neuestes über myCloud&#39;,\n &#39;öffne mal letzten über myCloud&#39;,\n &#39;öffne mal letzte über myCloud&#39;,\n &#39;würdest du bitte auf myCloud zu Galerie gehen&#39;,\n &#39;würdest du bitte auf myCloud zu Fotostream gehen&#39;,\n &#39;würdest du bitte auf myCloud zu Fotogalerie gehen&#39;,\n &#39;würdest du bitte auf myCloud zu meine Bilder gehen&#39;,\n &#39;würdest du bitte auf myCloud zu Foto gehen&#39;,\n &#39;würdest du bitte auf myCloud zu Bilder Galerie gehen&#39;,\n &#39;würdest du bitte auf myCloud zu Fotos gehen&#39;,\n &#39;würdest du bitte auf myCloud zu Foto Galerie gehen&#39;,\n &#39;würdest du bitte auf myCloud zu Foto Stream gehen&#39;,\n &#39;würdest du bitte auf myCloud zu Aufnahmen gehen&#39;,\n &#39;würdest du bitte auf myCloud zu Bildergalerie gehen&#39;,\n &#39;würdest du bitte auf myCloud zu Bilder gehen&#39;,\n &#39;würdest du bitte auf myCloud zu meine Fotos gehen&#39;,\n &#39;würdest du bitte auf myCloud zu Lieblingsfoto gehen&#39;,\n &#39;würdest du bitte auf myCloud zu markierte Fotos gehen&#39;,\n &#39;würdest du bitte auf myCloud zu Lieblingsbild gehen&#39;,\n &#39;würdest du bitte auf myCloud zu Lieblingsaufnahmen gehen&#39;,\n &#39;würdest du bitte auf myCloud zu Lieblingsbilder gehen&#39;,\n &#39;würdest du bitte auf myCloud zu Lieblingsaufnahme gehen&#39;,\n &#39;würdest du bitte auf myCloud zu Favorit gehen&#39;,\n &#39;würdest du bitte auf myCloud zu Favoriten gehen&#39;,\n &#39;würdest du bitte auf myCloud zu Lieblingsfotos gehen&#39;,\n &#39;würdest du bitte auf myCloud zu Bilder Alben gehen&#39;,\n &#39;würdest du bitte auf myCloud zu Bilder Sammlung gehen&#39;,\n &#39;würdest du bitte auf myCloud zu Foto Alben gehen&#39;,\n &#39;würdest du bitte auf myCloud zu Sammlung gehen&#39;,\n &#39;würdest du bitte auf myCloud zu Bildersammlung gehen&#39;,\n &#39;würdest du bitte auf myCloud zu Alben gehen&#39;,\n &#39;würdest du bitte auf myCloud zu Fotoalbum gehen&#39;,\n &#39;würdest du bitte auf myCloud zu Foto Album gehen&#39;,\n &#39;würdest du bitte auf myCloud zu Fotoalben gehen&#39;,\n &#39;würdest du bitte auf myCloud zu Album gehen&#39;,\n &#39;würdest du bitte auf myCloud zu Bilderalben gehen&#39;,\n &#39;würdest du bitte auf myCloud zu Ordner gehen&#39;,\n &#39;würdest du bitte auf myCloud zu Video Aufnahmen gehen&#39;,\n &#39;würdest du bitte auf myCloud zu meine Filme gehen&#39;,\n &#39;würdest du bitte auf myCloud zu Videos gehen&#39;,\n &#39;würdest du bitte auf myCloud zu Videoaufnahmen gehen&#39;,\n &#39;würdest du bitte auf myCloud zu zuletzt hochgeladene gehen&#39;,\n &#39;würdest du bitte auf myCloud zu akutellen gehen&#39;,\n &#39;würdest du bitte auf myCloud zu jüngstes gehen&#39;,\n &#39;würdest du bitte auf myCloud zu neuesten gehen&#39;,\n &#39;würdest du bitte auf myCloud zu zuletzt hochgeladenes gehen&#39;,\n &#39;würdest du bitte auf myCloud zu aktuelle gehen&#39;,\n &#39;würdest du bitte auf myCloud zu aktuelles gehen&#39;,\n &#39;würdest du bitte auf myCloud zu letztes gehen&#39;,\n &#39;würdest du bitte auf myCloud zu neueste gehen&#39;,\n &#39;würdest du bitte auf myCloud zu jüngste gehen&#39;,\n &#39;würdest du bitte auf myCloud zu Zuletzt hochgeladen gehen&#39;,\n &#39;würdest du bitte auf myCloud zu jüngsten gehen&#39;,\n &#39;würdest du bitte auf myCloud zu neuestes gehen&#39;,\n &#39;würdest du bitte auf myCloud zu letzten gehen&#39;,\n &#39;würdest du bitte auf myCloud zu letzte gehen&#39;,\n &#39;zeig mir Galerie über myCloud&#39;,\n &#39;zeig mir Fotostream über myCloud&#39;,\n &#39;zeig mir Fotogalerie über myCloud&#39;,\n &#39;zeig mir meine Bilder über myCloud&#39;,\n &#39;zeig mir Foto über myCloud&#39;,\n &#39;zeig mir Bilder Galerie über myCloud&#39;,\n &#39;zeig mir Fotos über myCloud&#39;,\n &#39;zeig mir Foto Galerie über myCloud&#39;,\n &#39;zeig mir Foto Stream über myCloud&#39;,\n &#39;zeig mir Aufnahmen über myCloud&#39;,\n &#39;zeig mir Bildergalerie über myCloud&#39;,\n &#39;zeig mir Bilder über myCloud&#39;,\n &#39;zeig mir meine Fotos über myCloud&#39;,\n &#39;zeig mir Lieblingsfoto über myCloud&#39;,\n &#39;zeig mir markierte Fotos über myCloud&#39;,\n &#39;zeig mir Lieblingsbild über myCloud&#39;,\n &#39;zeig mir Lieblingsaufnahmen über myCloud&#39;,\n &#39;zeig mir Lieblingsbilder über myCloud&#39;,\n &#39;zeig mir Lieblingsaufnahme über myCloud&#39;,\n &#39;zeig mir Favorit über myCloud&#39;,\n &#39;zeig mir Favoriten über myCloud&#39;,\n &#39;zeig mir Lieblingsfotos über myCloud&#39;,\n &#39;zeig mir Bilder Alben über myCloud&#39;,\n &#39;zeig mir Bilder Sammlung über myCloud&#39;,\n &#39;zeig mir Foto Alben über myCloud&#39;,\n &#39;zeig mir Sammlung über myCloud&#39;,\n &#39;zeig mir Bildersammlung über myCloud&#39;,\n &#39;zeig mir Alben über myCloud&#39;,\n &#39;zeig mir Fotoalbum über myCloud&#39;,\n &#39;zeig mir Foto Album über myCloud&#39;,\n &#39;zeig mir Fotoalben über myCloud&#39;,\n &#39;zeig mir Album über myCloud&#39;,\n &#39;zeig mir Bilderalben über myCloud&#39;,\n &#39;zeig mir Ordner über myCloud&#39;,\n &#39;zeig mir Video Aufnahmen über myCloud&#39;,\n &#39;zeig mir meine Filme über myCloud&#39;,\n &#39;zeig mir Videos über myCloud&#39;,\n &#39;zeig mir Videoaufnahmen über myCloud&#39;,\n &#39;zeig mir zuletzt hochgeladene über myCloud&#39;,\n &#39;zeig mir akutellen über myCloud&#39;,\n &#39;zeig mir jüngstes über myCloud&#39;,\n &#39;zeig mir neuesten über myCloud&#39;,\n &#39;zeig mir zuletzt hochgeladenes über myCloud&#39;,\n &#39;zeig mir aktuelle über myCloud&#39;,\n &#39;zeig mir aktuelles über myCloud&#39;,\n &#39;zeig mir letztes über myCloud&#39;,\n &#39;zeig mir neueste über myCloud&#39;,\n &#39;zeig mir jüngste über myCloud&#39;,\n &#39;zeig mir Zuletzt hochgeladen über myCloud&#39;,\n &#39;zeig mir jüngsten über myCloud&#39;,\n &#39;zeig mir neuestes über myCloud&#39;,\n &#39;zeig mir letzten über myCloud&#39;,\n &#39;zeig mir letzte über myCloud&#39;,\n &#39;zeig mir mal Galerie auf myCloud&#39;,\n &#39;zeig mir mal Fotostream auf myCloud&#39;,\n &#39;zeig mir mal Fotogalerie auf myCloud&#39;,\n &#39;zeig mir mal meine Bilder auf myCloud&#39;,\n &#39;zeig mir mal Foto auf myCloud&#39;,\n &#39;zeig mir mal Bilder Galerie auf myCloud&#39;,\n &#39;zeig mir mal Fotos auf myCloud&#39;,\n &#39;zeig mir mal Foto Galerie auf myCloud&#39;,\n &#39;zeig mir mal Foto Stream auf myCloud&#39;,\n &#39;zeig mir mal Aufnahmen auf myCloud&#39;,\n &#39;zeig mir mal Bildergalerie auf myCloud&#39;,\n &#39;zeig mir mal Bilder auf myCloud&#39;,\n &#39;zeig mir mal meine Fotos auf myCloud&#39;,\n &#39;zeig mir mal Lieblingsfoto auf myCloud&#39;,\n &#39;zeig mir mal markierte Fotos auf myCloud&#39;,\n &#39;zeig mir mal Lieblingsbild auf myCloud&#39;,\n &#39;zeig mir mal Lieblingsaufnahmen auf myCloud&#39;,\n &#39;zeig mir mal Lieblingsbilder auf myCloud&#39;,\n &#39;zeig mir mal Lieblingsaufnahme auf myCloud&#39;,\n &#39;zeig mir mal Favorit auf myCloud&#39;,\n &#39;zeig mir mal Favoriten auf myCloud&#39;,\n &#39;zeig mir mal Lieblingsfotos auf myCloud&#39;,\n &#39;zeig mir mal Bilder Alben auf myCloud&#39;,\n &#39;zeig mir mal Bilder Sammlung auf myCloud&#39;,\n &#39;zeig mir mal Foto Alben auf myCloud&#39;,\n &#39;zeig mir mal Sammlung auf myCloud&#39;,\n &#39;zeig mir mal Bildersammlung auf myCloud&#39;,\n &#39;zeig mir mal Alben auf myCloud&#39;,\n &#39;zeig mir mal Fotoalbum auf myCloud&#39;,\n &#39;zeig mir mal Foto Album auf myCloud&#39;,\n &#39;zeig mir mal Fotoalben auf myCloud&#39;,\n &#39;zeig mir mal Album auf myCloud&#39;,\n &#39;zeig mir mal Bilderalben auf myCloud&#39;,\n &#39;zeig mir mal Ordner auf myCloud&#39;,\n &#39;zeig mir mal Video Aufnahmen auf myCloud&#39;,\n &#39;zeig mir mal meine Filme auf myCloud&#39;,\n &#39;zeig mir mal Videos auf myCloud&#39;,\n &#39;zeig mir mal Videoaufnahmen auf myCloud&#39;,\n &#39;zeig mir mal zuletzt hochgeladene auf myCloud&#39;,\n &#39;zeig mir mal akutellen auf myCloud&#39;,\n &#39;zeig mir mal jüngstes auf myCloud&#39;,\n &#39;zeig mir mal neuesten auf myCloud&#39;,\n &#39;zeig mir mal zuletzt hochgeladenes auf myCloud&#39;,\n &#39;zeig mir mal aktuelle auf myCloud&#39;,\n &#39;zeig mir mal aktuelles auf myCloud&#39;,\n &#39;zeig mir mal letztes auf myCloud&#39;,\n &#39;zeig mir mal neueste auf myCloud&#39;,\n &#39;zeig mir mal jüngste auf myCloud&#39;,\n &#39;zeig mir mal Zuletzt hochgeladen auf myCloud&#39;,\n &#39;zeig mir mal jüngsten auf myCloud&#39;,\n &#39;zeig mir mal neuestes auf myCloud&#39;,\n &#39;zeig mir mal letzten auf myCloud&#39;,\n &#39;zeig mir mal letzte auf myCloud&#39;,\n &#39;zeigst du mir bitte Galerie bei myCloud an&#39;,\n &#39;zeigst du mir bitte Fotostream bei myCloud an&#39;,\n &#39;zeigst du mir bitte Fotogalerie bei myCloud an&#39;,\n &#39;zeigst du mir bitte meine Bilder bei myCloud an&#39;,\n &#39;zeigst du mir bitte Foto bei myCloud an&#39;,\n &#39;zeigst du mir bitte Bilder Galerie bei myCloud an&#39;,\n &#39;zeigst du mir bitte Fotos bei myCloud an&#39;,\n &#39;zeigst du mir bitte Foto Galerie bei myCloud an&#39;,\n &#39;zeigst du mir bitte Foto Stream bei myCloud an&#39;,\n &#39;zeigst du mir bitte Aufnahmen bei myCloud an&#39;,\n &#39;zeigst du mir bitte Bildergalerie bei myCloud an&#39;,\n &#39;zeigst du mir bitte Bilder bei myCloud an&#39;,\n &#39;zeigst du mir bitte meine Fotos bei myCloud an&#39;,\n &#39;zeigst du mir bitte Lieblingsfoto bei myCloud an&#39;,\n &#39;zeigst du mir bitte markierte Fotos bei myCloud an&#39;,\n &#39;zeigst du mir bitte Lieblingsbild bei myCloud an&#39;,\n &#39;zeigst du mir bitte Lieblingsaufnahmen bei myCloud an&#39;,\n &#39;zeigst du mir bitte Lieblingsbilder bei myCloud an&#39;,\n &#39;zeigst du mir bitte Lieblingsaufnahme bei myCloud an&#39;,\n &#39;zeigst du mir bitte Favorit bei myCloud an&#39;,\n &#39;zeigst du mir bitte Favoriten bei myCloud an&#39;,\n &#39;zeigst du mir bitte Lieblingsfotos bei myCloud an&#39;,\n &#39;zeigst du mir bitte Bilder Alben bei myCloud an&#39;,\n &#39;zeigst du mir bitte Bilder Sammlung bei myCloud an&#39;,\n &#39;zeigst du mir bitte Foto Alben bei myCloud an&#39;,\n &#39;zeigst du mir bitte Sammlung bei myCloud an&#39;,\n &#39;zeigst du mir bitte Bildersammlung bei myCloud an&#39;,\n &#39;zeigst du mir bitte Alben bei myCloud an&#39;,\n &#39;zeigst du mir bitte Fotoalbum bei myCloud an&#39;,\n &#39;zeigst du mir bitte Foto Album bei myCloud an&#39;,\n &#39;zeigst du mir bitte Fotoalben bei myCloud an&#39;,\n &#39;zeigst du mir bitte Album bei myCloud an&#39;,\n &#39;zeigst du mir bitte Bilderalben bei myCloud an&#39;,\n &#39;zeigst du mir bitte Ordner bei myCloud an&#39;,\n &#39;zeigst du mir bitte Video Aufnahmen bei myCloud an&#39;,\n &#39;zeigst du mir bitte meine Filme bei myCloud an&#39;,\n &#39;zeigst du mir bitte Videos bei myCloud an&#39;,\n &#39;zeigst du mir bitte Videoaufnahmen bei myCloud an&#39;,\n &#39;zeigst du mir bitte zuletzt hochgeladene bei myCloud an&#39;,\n &#39;zeigst du mir bitte akutellen bei myCloud an&#39;,\n &#39;zeigst du mir bitte jüngstes bei myCloud an&#39;,\n &#39;zeigst du mir bitte neuesten bei myCloud an&#39;,\n &#39;zeigst du mir bitte zuletzt hochgeladenes bei myCloud an&#39;,\n &#39;zeigst du mir bitte aktuelle bei myCloud an&#39;,\n &#39;zeigst du mir bitte aktuelles bei myCloud an&#39;,\n &#39;zeigst du mir bitte letztes bei myCloud an&#39;,\n ...]"
     },
     "metadata": {},
     "execution_count": 136
    }
   ],
   "source": [
    "\n",
    "gen.get_command(target_id='MyCloud.OpenArea.Init.Utterance', \n",
    "                    target_lang='de', \n",
    "                    verbose=False)"
   ]
  },
  {
   "cell_type": "code",
   "execution_count": 17,
   "metadata": {},
   "outputs": [
    {
     "output_type": "execute_result",
     "data": {
      "text/plain": "'wieder fernsehen'"
     },
     "metadata": {},
     "execution_count": 17
    }
   ],
   "source": [
    "normalizer = \n",
    "gen = Generator(templates=templates_updated, entities=entities)\n",
    "\n",
    "gen.generate_command(target_id='Tv.GenericExitToTv.Init.Utterance', \n",
    "                    target_lang='de', \n",
    "                    normalizer= normalizer)"
   ]
  },
  {
   "cell_type": "code",
   "execution_count": 54,
   "metadata": {},
   "outputs": [
    {
     "output_type": "execute_result",
     "data": {
      "text/plain": "&#39;montrer film sur myCloud&#39;"
     },
     "metadata": {},
     "execution_count": 54
    }
   ],
   "source": [
    "import re\n",
    "\n",
    "s"
   ]
  },
  {
   "cell_type": "code",
   "execution_count": null,
   "metadata": {},
   "outputs": [],
   "source": []
  }
 ],
 "metadata": {
  "kernelspec": {
   "name": "python37764bitjobpostingconda22929374449545e284a5643e9731aeaa",
   "display_name": "Python 3.7.7 64-bit ('jobposting': conda)",
   "metadata": {
    "interpreter": {
     "hash": "be9177f96cda1a47ee649a1fa453ad9b7424e7ec1c8a5fa4fe07b49f2dd75124"
    }
   }
  },
  "language_info": {
   "codemirror_mode": {
    "name": "ipython",
    "version": 3
   },
   "file_extension": ".py",
   "mimetype": "text/x-python",
   "name": "python",
   "nbconvert_exporter": "python",
   "pygments_lexer": "ipython3",
   "version": "3.7.7-final"
  }
 },
 "nbformat": 4,
 "nbformat_minor": 4
}