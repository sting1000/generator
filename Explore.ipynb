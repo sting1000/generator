{
 "cells": [
  {
   "cell_type": "markdown",
   "metadata": {},
   "source": [
    "# Get dataset"
   ]
  },
  {
   "cell_type": "code",
   "execution_count": 1,
   "metadata": {
    "tags": []
   },
   "outputs": [],
   "source": [
    "import pandas as pd\n",
    "import numpy as np\n",
    "import random\n",
    "import re  \n",
    "%load_ext autoreload\n",
    "%autoreload 2"
   ]
  },
  {
   "cell_type": "markdown",
   "metadata": {},
   "source": [
    "## Templates"
   ]
  },
  {
   "source": [
    "# templates\n",
    "templates = pd.read_json(\"data/templates.json\")\n",
    "init_uttr_updated = pd.read_csv(\"data/InitUtterance_list_updated.csv\")\n",
    "templates_updated = templates.merge(init_uttr_updated, on='id')\n",
    "templates_updated = templates_updated[['id','de',  'en']] #'fr', 'it',\n",
    "templates_updated.head()"
   ],
   "cell_type": "code",
   "metadata": {},
   "execution_count": 29,
   "outputs": [
    {
     "data": {
      "text/plain": "                                     id  \\\n0       MyCloud.OpenArea.Init.Utterance   \n1    Router.SwitchOnWiFi.Init.Utterance   \n2     Tv.GenericExitToTv.Init.Utterance   \n3   Router.SwitchOffWiFi.Init.Utterance   \n4  Tv.RadioChannelChange.Init.Utterance   \n\n                                                  de  \\\n0  {'texts': [{'ttsText': '{MyCloudArea} auf #myC...   \n1  {'texts': [{'ttsText': 'aktiviere das Wlan'}, ...   \n2  {'texts': [{'ttsText': 'gehe zurück zum Fernse...   \n3  {'texts': [{'ttsText': 'deaktiviere das Wlan'}...   \n4  {'texts': [{'ttsText': 'auf Radio {RadioChanne...   \n\n                                                  en  \n0  {'texts': [{'ttsText': 'show {MyCloudArea} on ...  \n1  {'texts': [{'ttsText': 'activate the Wi-Fi'}, ...  \n2  {'texts': [{'ttsText': 'back to TV'}, {'ttsTex...  \n3  {'texts': [{'ttsText': 'can you please switch ...  \n4  {'texts': [{'ttsText': 'can you turn on radio ...  ",
      "text/html": "<div>\n<style scoped>\n    .dataframe tbody tr th:only-of-type {\n        vertical-align: middle;\n    }\n\n    .dataframe tbody tr th {\n        vertical-align: top;\n    }\n\n    .dataframe thead th {\n        text-align: right;\n    }\n</style>\n<table border=\"1\" class=\"dataframe\">\n  <thead>\n    <tr style=\"text-align: right;\">\n      <th></th>\n      <th>id</th>\n      <th>de</th>\n      <th>en</th>\n    </tr>\n  </thead>\n  <tbody>\n    <tr>\n      <th>0</th>\n      <td>MyCloud.OpenArea.Init.Utterance</td>\n      <td>{'texts': [{'ttsText': '{MyCloudArea} auf #myC...</td>\n      <td>{'texts': [{'ttsText': 'show {MyCloudArea} on ...</td>\n    </tr>\n    <tr>\n      <th>1</th>\n      <td>Router.SwitchOnWiFi.Init.Utterance</td>\n      <td>{'texts': [{'ttsText': 'aktiviere das Wlan'}, ...</td>\n      <td>{'texts': [{'ttsText': 'activate the Wi-Fi'}, ...</td>\n    </tr>\n    <tr>\n      <th>2</th>\n      <td>Tv.GenericExitToTv.Init.Utterance</td>\n      <td>{'texts': [{'ttsText': 'gehe zurück zum Fernse...</td>\n      <td>{'texts': [{'ttsText': 'back to TV'}, {'ttsTex...</td>\n    </tr>\n    <tr>\n      <th>3</th>\n      <td>Router.SwitchOffWiFi.Init.Utterance</td>\n      <td>{'texts': [{'ttsText': 'deaktiviere das Wlan'}...</td>\n      <td>{'texts': [{'ttsText': 'can you please switch ...</td>\n    </tr>\n    <tr>\n      <th>4</th>\n      <td>Tv.RadioChannelChange.Init.Utterance</td>\n      <td>{'texts': [{'ttsText': 'auf Radio {RadioChanne...</td>\n      <td>{'texts': [{'ttsText': 'can you turn on radio ...</td>\n    </tr>\n  </tbody>\n</table>\n</div>"
     },
     "execution_count": 29,
     "metadata": {},
     "output_type": "execute_result"
    }
   ]
  },
  {
   "cell_type": "code",
   "execution_count": 3,
   "metadata": {
    "scrolled": true
   },
   "outputs": [
    {
     "data": {
      "text/plain": "                                    id  \\\ncount                               39   \nunique                              39   \ntop     Tv.VolumeUnmute.Init.Utterance   \nfreq                                 1   \n\n                                                       de  \\\ncount                                                  39   \nunique                                                 39   \ntop     {'texts': [{'ttsText': '{SmartHomeSceneName} S...   \nfreq                                                    1   \n\n                                                       fr  \\\ncount                                                  39   \nunique                                                 39   \ntop     {'texts': [{'ttsText': 'activer scène {SmartHo...   \nfreq                                                    1   \n\n                                                       it  \\\ncount                                                  39   \nunique                                                 39   \ntop     {'texts': [{'ttsText': 'attiva scena {SmartHom...   \nfreq                                                    1   \n\n                                                       en  \ncount                                                  39  \nunique                                                 39  \ntop     {'texts': [{'ttsText': 'activate {SmartHomeSce...  \nfreq                                                    1  ",
      "text/html": "<div>\n<style scoped>\n    .dataframe tbody tr th:only-of-type {\n        vertical-align: middle;\n    }\n\n    .dataframe tbody tr th {\n        vertical-align: top;\n    }\n\n    .dataframe thead th {\n        text-align: right;\n    }\n</style>\n<table border=\"1\" class=\"dataframe\">\n  <thead>\n    <tr style=\"text-align: right;\">\n      <th></th>\n      <th>id</th>\n      <th>de</th>\n      <th>fr</th>\n      <th>it</th>\n      <th>en</th>\n    </tr>\n  </thead>\n  <tbody>\n    <tr>\n      <th>count</th>\n      <td>39</td>\n      <td>39</td>\n      <td>39</td>\n      <td>39</td>\n      <td>39</td>\n    </tr>\n    <tr>\n      <th>unique</th>\n      <td>39</td>\n      <td>39</td>\n      <td>39</td>\n      <td>39</td>\n      <td>39</td>\n    </tr>\n    <tr>\n      <th>top</th>\n      <td>Tv.VolumeUnmute.Init.Utterance</td>\n      <td>{'texts': [{'ttsText': '{SmartHomeSceneName} S...</td>\n      <td>{'texts': [{'ttsText': 'activer scène {SmartHo...</td>\n      <td>{'texts': [{'ttsText': 'attiva scena {SmartHom...</td>\n      <td>{'texts': [{'ttsText': 'activate {SmartHomeSce...</td>\n    </tr>\n    <tr>\n      <th>freq</th>\n      <td>1</td>\n      <td>1</td>\n      <td>1</td>\n      <td>1</td>\n      <td>1</td>\n    </tr>\n  </tbody>\n</table>\n</div>"
     },
     "execution_count": 3,
     "metadata": {},
     "output_type": "execute_result"
    }
   ],
   "source": [
    "templates_updated.describe()"
   ]
  },
  {
   "cell_type": "markdown",
   "metadata": {},
   "source": [
    "## Entities"
   ]
  },
  {
   "cell_type": "code",
   "execution_count": 4,
   "metadata": {
    "scrolled": true
   },
   "outputs": [
    {
     "data": {
      "text/plain": "       value                 type language normalizedValue aliases\n0     Widnau  LocalsearchLocation       de          widnau      []\n1     Zurigo  LocalsearchLocation       it          zurigo      []\n2  Solothurn  LocalsearchLocation       de       solothurn      []\n3    Muttenz  LocalsearchLocation       de         muttenz      []\n4       Lyss  LocalsearchLocation       de            lyss      []",
      "text/html": "<div>\n<style scoped>\n    .dataframe tbody tr th:only-of-type {\n        vertical-align: middle;\n    }\n\n    .dataframe tbody tr th {\n        vertical-align: top;\n    }\n\n    .dataframe thead th {\n        text-align: right;\n    }\n</style>\n<table border=\"1\" class=\"dataframe\">\n  <thead>\n    <tr style=\"text-align: right;\">\n      <th></th>\n      <th>value</th>\n      <th>type</th>\n      <th>language</th>\n      <th>normalizedValue</th>\n      <th>aliases</th>\n    </tr>\n  </thead>\n  <tbody>\n    <tr>\n      <th>0</th>\n      <td>Widnau</td>\n      <td>LocalsearchLocation</td>\n      <td>de</td>\n      <td>widnau</td>\n      <td>[]</td>\n    </tr>\n    <tr>\n      <th>1</th>\n      <td>Zurigo</td>\n      <td>LocalsearchLocation</td>\n      <td>it</td>\n      <td>zurigo</td>\n      <td>[]</td>\n    </tr>\n    <tr>\n      <th>2</th>\n      <td>Solothurn</td>\n      <td>LocalsearchLocation</td>\n      <td>de</td>\n      <td>solothurn</td>\n      <td>[]</td>\n    </tr>\n    <tr>\n      <th>3</th>\n      <td>Muttenz</td>\n      <td>LocalsearchLocation</td>\n      <td>de</td>\n      <td>muttenz</td>\n      <td>[]</td>\n    </tr>\n    <tr>\n      <th>4</th>\n      <td>Lyss</td>\n      <td>LocalsearchLocation</td>\n      <td>de</td>\n      <td>lyss</td>\n      <td>[]</td>\n    </tr>\n  </tbody>\n</table>\n</div>"
     },
     "execution_count": 4,
     "metadata": {},
     "output_type": "execute_result"
    }
   ],
   "source": [
    "# entities\n",
    "entities = pd.read_json(\"data/entities.json\")\n",
    "entities = entities[['value', 'type', 'language', 'normalizedValue', 'aliases']]\n",
    "entities.head()"
   ]
  },
  {
   "cell_type": "code",
   "execution_count": 5,
   "metadata": {},
   "outputs": [
    {
     "data": {
      "text/plain": "        value        type language normalizedValue aliases\ncount   65471       65471    65471           65471   65471\nunique  51272          33        4           52082    3793\ntop      Golf  SeriesName       de            golf      []\nfreq       20       17913    22746              20   59649",
      "text/html": "<div>\n<style scoped>\n    .dataframe tbody tr th:only-of-type {\n        vertical-align: middle;\n    }\n\n    .dataframe tbody tr th {\n        vertical-align: top;\n    }\n\n    .dataframe thead th {\n        text-align: right;\n    }\n</style>\n<table border=\"1\" class=\"dataframe\">\n  <thead>\n    <tr style=\"text-align: right;\">\n      <th></th>\n      <th>value</th>\n      <th>type</th>\n      <th>language</th>\n      <th>normalizedValue</th>\n      <th>aliases</th>\n    </tr>\n  </thead>\n  <tbody>\n    <tr>\n      <th>count</th>\n      <td>65471</td>\n      <td>65471</td>\n      <td>65471</td>\n      <td>65471</td>\n      <td>65471</td>\n    </tr>\n    <tr>\n      <th>unique</th>\n      <td>51272</td>\n      <td>33</td>\n      <td>4</td>\n      <td>52082</td>\n      <td>3793</td>\n    </tr>\n    <tr>\n      <th>top</th>\n      <td>Golf</td>\n      <td>SeriesName</td>\n      <td>de</td>\n      <td>golf</td>\n      <td>[]</td>\n    </tr>\n    <tr>\n      <th>freq</th>\n      <td>20</td>\n      <td>17913</td>\n      <td>22746</td>\n      <td>20</td>\n      <td>59649</td>\n    </tr>\n  </tbody>\n</table>\n</div>"
     },
     "execution_count": 5,
     "metadata": {},
     "output_type": "execute_result"
    }
   ],
   "source": [
    "entities.describe()"
   ]
  },
  {
   "cell_type": "markdown",
   "metadata": {},
   "source": [
    "# Explore data"
   ]
  },
  {
   "cell_type": "markdown",
   "metadata": {},
   "source": [
    "### Entities catagorical count"
   ]
  },
  {
   "cell_type": "code",
   "execution_count": 6,
   "metadata": {
    "scrolled": true
   },
   "outputs": [
    {
     "output_type": "execute_result",
     "data": {
      "text/plain": "language                     de      en      fr      it\ntype                                                   \nAlbumName                   NaN  1479.0     NaN     NaN\nAppName                   326.0   273.0   312.0   290.0\nAreaName                   26.0    26.0    26.0    26.0\nArtistName                  NaN   822.0     NaN     NaN\nBroadcastName             715.0   483.0   676.0   663.0\nCallingNumberType           3.0     4.0     4.0     4.0\nClipName                  353.0   320.0   342.0   338.0\nDossierName                 8.0     3.0     5.0     3.0\nFirstName                 952.0     NaN     NaN     NaN\nGenreName                   NaN     8.0     NaN     NaN\nLastName                  998.0     NaN     NaN     NaN\nLocalsearchLocation      3403.0    28.0  1909.0  1572.0\nMyCloudArea                 5.0     5.0     5.0     5.0\nNickName                   20.0    25.0    21.0    20.0\nParticipantName          2710.0   297.0  1473.0   575.0\nRadioChannelName          366.0   365.0   365.0   365.0\nSeriesName               6186.0  3281.0  4766.0  3680.0\nSmartHomeDeviceBrand        8.0    10.0    10.0     9.0\nSmartHomeDeviceCategory     5.0     5.0     5.0     5.0\nSmartHomeDeviceLocation     9.0     9.0     9.0     9.0\nSmartHomeDeviceName       100.0   100.0   100.0   101.0\nSmartHomeSceneName         50.0    49.0    50.0    50.0\nSportCompetitionName       20.0    20.0    20.0    20.0\nSportEventName            206.0   207.0   203.0   207.0\nSportParticipantName      432.0   432.0   432.0   432.0\nSportSportsName            10.0    10.0    10.0    10.0\nTrackName                   NaN  2701.0     NaN     NaN\nTvChannelName             635.0   623.0   633.0   633.0\nTvGenre                   137.0   131.0   131.0   127.0\nVodGenre                   99.0   107.0    99.0    99.0\nVodName                  4961.0  4209.0  3760.0  2083.0\nentitytype_1                1.0     NaN     NaN     NaN\ntest_aliasesTest            2.0     NaN     1.0     NaN",
      "text/html": "<div>\n<style scoped>\n    .dataframe tbody tr th:only-of-type {\n        vertical-align: middle;\n    }\n\n    .dataframe tbody tr th {\n        vertical-align: top;\n    }\n\n    .dataframe thead th {\n        text-align: right;\n    }\n</style>\n<table border=\"1\" class=\"dataframe\">\n  <thead>\n    <tr style=\"text-align: right;\">\n      <th>language</th>\n      <th>de</th>\n      <th>en</th>\n      <th>fr</th>\n      <th>it</th>\n    </tr>\n    <tr>\n      <th>type</th>\n      <th></th>\n      <th></th>\n      <th></th>\n      <th></th>\n    </tr>\n  </thead>\n  <tbody>\n    <tr>\n      <th>AlbumName</th>\n      <td>NaN</td>\n      <td>1479.0</td>\n      <td>NaN</td>\n      <td>NaN</td>\n    </tr>\n    <tr>\n      <th>AppName</th>\n      <td>326.0</td>\n      <td>273.0</td>\n      <td>312.0</td>\n      <td>290.0</td>\n    </tr>\n    <tr>\n      <th>AreaName</th>\n      <td>26.0</td>\n      <td>26.0</td>\n      <td>26.0</td>\n      <td>26.0</td>\n    </tr>\n    <tr>\n      <th>ArtistName</th>\n      <td>NaN</td>\n      <td>822.0</td>\n      <td>NaN</td>\n      <td>NaN</td>\n    </tr>\n    <tr>\n      <th>BroadcastName</th>\n      <td>715.0</td>\n      <td>483.0</td>\n      <td>676.0</td>\n      <td>663.0</td>\n    </tr>\n    <tr>\n      <th>CallingNumberType</th>\n      <td>3.0</td>\n      <td>4.0</td>\n      <td>4.0</td>\n      <td>4.0</td>\n    </tr>\n    <tr>\n      <th>ClipName</th>\n      <td>353.0</td>\n      <td>320.0</td>\n      <td>342.0</td>\n      <td>338.0</td>\n    </tr>\n    <tr>\n      <th>DossierName</th>\n      <td>8.0</td>\n      <td>3.0</td>\n      <td>5.0</td>\n      <td>3.0</td>\n    </tr>\n    <tr>\n      <th>FirstName</th>\n      <td>952.0</td>\n      <td>NaN</td>\n      <td>NaN</td>\n      <td>NaN</td>\n    </tr>\n    <tr>\n      <th>GenreName</th>\n      <td>NaN</td>\n      <td>8.0</td>\n      <td>NaN</td>\n      <td>NaN</td>\n    </tr>\n    <tr>\n      <th>LastName</th>\n      <td>998.0</td>\n      <td>NaN</td>\n      <td>NaN</td>\n      <td>NaN</td>\n    </tr>\n    <tr>\n      <th>LocalsearchLocation</th>\n      <td>3403.0</td>\n      <td>28.0</td>\n      <td>1909.0</td>\n      <td>1572.0</td>\n    </tr>\n    <tr>\n      <th>MyCloudArea</th>\n      <td>5.0</td>\n      <td>5.0</td>\n      <td>5.0</td>\n      <td>5.0</td>\n    </tr>\n    <tr>\n      <th>NickName</th>\n      <td>20.0</td>\n      <td>25.0</td>\n      <td>21.0</td>\n      <td>20.0</td>\n    </tr>\n    <tr>\n      <th>ParticipantName</th>\n      <td>2710.0</td>\n      <td>297.0</td>\n      <td>1473.0</td>\n      <td>575.0</td>\n    </tr>\n    <tr>\n      <th>RadioChannelName</th>\n      <td>366.0</td>\n      <td>365.0</td>\n      <td>365.0</td>\n      <td>365.0</td>\n    </tr>\n    <tr>\n      <th>SeriesName</th>\n      <td>6186.0</td>\n      <td>3281.0</td>\n      <td>4766.0</td>\n      <td>3680.0</td>\n    </tr>\n    <tr>\n      <th>SmartHomeDeviceBrand</th>\n      <td>8.0</td>\n      <td>10.0</td>\n      <td>10.0</td>\n      <td>9.0</td>\n    </tr>\n    <tr>\n      <th>SmartHomeDeviceCategory</th>\n      <td>5.0</td>\n      <td>5.0</td>\n      <td>5.0</td>\n      <td>5.0</td>\n    </tr>\n    <tr>\n      <th>SmartHomeDeviceLocation</th>\n      <td>9.0</td>\n      <td>9.0</td>\n      <td>9.0</td>\n      <td>9.0</td>\n    </tr>\n    <tr>\n      <th>SmartHomeDeviceName</th>\n      <td>100.0</td>\n      <td>100.0</td>\n      <td>100.0</td>\n      <td>101.0</td>\n    </tr>\n    <tr>\n      <th>SmartHomeSceneName</th>\n      <td>50.0</td>\n      <td>49.0</td>\n      <td>50.0</td>\n      <td>50.0</td>\n    </tr>\n    <tr>\n      <th>SportCompetitionName</th>\n      <td>20.0</td>\n      <td>20.0</td>\n      <td>20.0</td>\n      <td>20.0</td>\n    </tr>\n    <tr>\n      <th>SportEventName</th>\n      <td>206.0</td>\n      <td>207.0</td>\n      <td>203.0</td>\n      <td>207.0</td>\n    </tr>\n    <tr>\n      <th>SportParticipantName</th>\n      <td>432.0</td>\n      <td>432.0</td>\n      <td>432.0</td>\n      <td>432.0</td>\n    </tr>\n    <tr>\n      <th>SportSportsName</th>\n      <td>10.0</td>\n      <td>10.0</td>\n      <td>10.0</td>\n      <td>10.0</td>\n    </tr>\n    <tr>\n      <th>TrackName</th>\n      <td>NaN</td>\n      <td>2701.0</td>\n      <td>NaN</td>\n      <td>NaN</td>\n    </tr>\n    <tr>\n      <th>TvChannelName</th>\n      <td>635.0</td>\n      <td>623.0</td>\n      <td>633.0</td>\n      <td>633.0</td>\n    </tr>\n    <tr>\n      <th>TvGenre</th>\n      <td>137.0</td>\n      <td>131.0</td>\n      <td>131.0</td>\n      <td>127.0</td>\n    </tr>\n    <tr>\n      <th>VodGenre</th>\n      <td>99.0</td>\n      <td>107.0</td>\n      <td>99.0</td>\n      <td>99.0</td>\n    </tr>\n    <tr>\n      <th>VodName</th>\n      <td>4961.0</td>\n      <td>4209.0</td>\n      <td>3760.0</td>\n      <td>2083.0</td>\n    </tr>\n    <tr>\n      <th>entitytype_1</th>\n      <td>1.0</td>\n      <td>NaN</td>\n      <td>NaN</td>\n      <td>NaN</td>\n    </tr>\n    <tr>\n      <th>test_aliasesTest</th>\n      <td>2.0</td>\n      <td>NaN</td>\n      <td>1.0</td>\n      <td>NaN</td>\n    </tr>\n  </tbody>\n</table>\n</div>"
     },
     "metadata": {},
     "execution_count": 6
    }
   ],
   "source": [
    "df = entities[['type', 'language']]\n",
    "df = df.groupby(['type','language']).size().reset_index(name='count') \n",
    "df.pivot(index='type', columns='language', values='count')#.plot(kind='bar')"
   ]
  },
  {
   "source": [
    "### Generate correct command"
   ],
   "cell_type": "markdown",
   "metadata": {}
  },
  {
   "cell_type": "code",
   "execution_count": 6,
   "metadata": {
    "tags": []
   },
   "outputs": [
    {
     "data": {
      "text/plain": "['BNTV', 'BN TV', 'BN']"
     },
     "execution_count": 6,
     "metadata": {},
     "output_type": "execute_result"
    }
   ],
   "source": [
    "from generator.tools import filter_aliases\n",
    "l = [   \"SRF 3\",\n",
    "\t\t\"D R S 3\",\n",
    "\t\t\"Schweiz 3\",\n",
    "\t\t\"S R F 3\",\n",
    "\t\t\"DRS 3\",\n",
    "        \"s r f 3\",\n",
    "\t\t\"s r f drei\",\n",
    "\t\t\"d r s drei\",\n",
    "\t\t\"schweiz drei\",\n",
    "\t\t\"DRS drei\",\n",
    "        \"one and a half man\"\n",
    "\t]\n",
    "l2 = [\n",
    "\t\t\"D M A X\",\n",
    "\t\t\"d max\",\n",
    "\t\t\"DMAX\",\n",
    "\t\t\"d m a x\",\n",
    "\t\t\"D Max\",\n",
    "\t\t\"D Max Italia\",\n",
    "\t\t\"d max italia\"\n",
    "\t]\n",
    "l3 = [\n",
    "\t\t\"TF three\",\n",
    "\t\t\"TF 3\",\n",
    "\t\t\"T F 3\",\n",
    "\t\t\"t f three\"\n",
    "\t]\n",
    "l4 = [\n",
    "\t\t\"E V Z Academy\",\n",
    "\t\t\"e v z academy\"\n",
    "\t]\n",
    "l5 = [\n",
    "\t\t\"BN\",\n",
    "\t\t\"b n t v\",\n",
    "\t\t\"B N\",\n",
    "\t\t\"b n\",\n",
    "\t\t\"BN TV\",\n",
    "\t\t\"B N T V\"\n",
    "\t]\n",
    "filter_aliases(l5,'de')"
   ]
  },
  {
   "cell_type": "code",
   "execution_count": 7,
   "metadata": {
    "tags": []
   },
   "outputs": [
    {
     "data": {
      "text/plain": "['SRF',\n 'Schweizer',\n 'DRS',\n 'DRS 1',\n 'SRF einz',\n 'SRF eis',\n 'SRF 1',\n 'SR',\n 'Schweiz 1']"
     },
     "execution_count": 7,
     "metadata": {},
     "output_type": "execute_result"
    }
   ],
   "source": [
    "l6 = [\n",
    "\t\t\"S R F\",\n",
    "\t\t\"Schweiz 1\",\n",
    "\t\t\"SRF eis\",\n",
    "\t\t\"DRS 1\",\n",
    "\t\t\"SRF\",\n",
    "\t\t\"S R F eis\",\n",
    "\t\t\"s r f einz\",\n",
    "\t\t\"d r s eins\",\n",
    "\t\t\"S R\",\n",
    "\t\t\"schweizer\",\n",
    "\t\t\"Schweizer\",\n",
    "\t\t\"DRS eins\",\n",
    "\t\t\"SR\",\n",
    "\t\t\"SRF einz\",\n",
    "\t\t\"D R S\",\n",
    "\t\t\"s r f eis\",\n",
    "\t\t\"SRF 1\",\n",
    "\t\t\"D R S 1\",\n",
    "\t\t\"DRS\",\n",
    "\t\t\"s r\",\n",
    "\t\t\"S R F 1\",\n",
    "\t\t\"s r f eins\",\n",
    "\t\t\"SRF eins\",\n",
    "\t\t\"d r s\",\n",
    "\t\t\"S R F einz\",\n",
    "\t\t\"s r f\",\n",
    "\t\t\"schweiz eins\"\n",
    "\t]\n",
    "filter_aliases(l6, 'de')\n"
   ]
  },
  {
   "cell_type": "code",
   "execution_count": 10,
   "outputs": [
    {
     "data": {
      "text/plain": "  value                  type language normalizedValue aliases\n0     0  RadioChannelPosition       en            zero      []\n1     0  RadioChannelPosition       fr            zéro      []\n2     0  RadioChannelPosition       de            null      []\n3     0  RadioChannelPosition       it            zero      []\n4     1  RadioChannelPosition       en             one      []",
      "text/html": "<div>\n<style scoped>\n    .dataframe tbody tr th:only-of-type {\n        vertical-align: middle;\n    }\n\n    .dataframe tbody tr th {\n        vertical-align: top;\n    }\n\n    .dataframe thead th {\n        text-align: right;\n    }\n</style>\n<table border=\"1\" class=\"dataframe\">\n  <thead>\n    <tr style=\"text-align: right;\">\n      <th></th>\n      <th>value</th>\n      <th>type</th>\n      <th>language</th>\n      <th>normalizedValue</th>\n      <th>aliases</th>\n    </tr>\n  </thead>\n  <tbody>\n    <tr>\n      <th>0</th>\n      <td>0</td>\n      <td>RadioChannelPosition</td>\n      <td>en</td>\n      <td>zero</td>\n      <td>[]</td>\n    </tr>\n    <tr>\n      <th>1</th>\n      <td>0</td>\n      <td>RadioChannelPosition</td>\n      <td>fr</td>\n      <td>zéro</td>\n      <td>[]</td>\n    </tr>\n    <tr>\n      <th>2</th>\n      <td>0</td>\n      <td>RadioChannelPosition</td>\n      <td>de</td>\n      <td>null</td>\n      <td>[]</td>\n    </tr>\n    <tr>\n      <th>3</th>\n      <td>0</td>\n      <td>RadioChannelPosition</td>\n      <td>it</td>\n      <td>zero</td>\n      <td>[]</td>\n    </tr>\n    <tr>\n      <th>4</th>\n      <td>1</td>\n      <td>RadioChannelPosition</td>\n      <td>en</td>\n      <td>one</td>\n      <td>[]</td>\n    </tr>\n  </tbody>\n</table>\n</div>"
     },
     "execution_count": 10,
     "metadata": {},
     "output_type": "execute_result"
    }
   ],
   "source": [
    "# entities_custom\n",
    "entities_custom = pd.read_json(\"data/entities_custom.json\")\n",
    "entities_custom.head()"
   ],
   "metadata": {
    "collapsed": false,
    "pycharm": {
     "name": "#%%\n"
    }
   }
  },
  {
   "cell_type": "code",
   "execution_count": 15,
   "metadata": {
    "tags": []
   },
   "outputs": [
    {
     "name": "stdout",
     "output_type": "stream",
     "text": [
      "Choose template: \n",
      "\t['ist es regnerisch', 'gibt es Regen', 'brauche ich einen Regenschirm', 'braucht man einen Schirm', 'braucht man {LocalsearchTimeStampStart} einen Regenschirm', 'sag mir ob ich {LocalsearchTimeStampStart} in {LocalsearchLocation} einen Regenschirm brauche', 'kannst du mir sagen ob ich einen Regenschirm mitnehmen soll', 'muss ich einen Regenschirm mitnehmen', 'sollte man {LocalsearchTimeStampStart} einen Regenschirm mitnehmen', 'sollte ich einen Schirm dabei haben', 'die Niederschlagsmenge für {LocalsearchTimeStampStart}', 'die Niederschlagsmenge {LocalsearchTimeStampStart} bitte', 'gibt es {LocalsearchTimeStampStart} in {LocalsearchLocation} Regen', 'werde ich {LocalsearchTimeStampStart} einen Regenschirm brauchen', 'komme ich {LocalsearchTimeStampStart} trocken nach Hause', 'muss ich von {LocalsearchTimeStampStart} bis {LocalsearchTimeStampEnd} mit Regen rechnen', 'wie stark wird es {LocalsearchTimeStampStart} regnen', 'wie sehr regnet es {LocalsearchTimeStampStart} in {LocalsearchLocation}', 'wird es {LocalsearchTimeStampStart} in {LocalsearchLocation} regnen', 'wird es {LocalsearchTimeStampStart} in {LocalsearchLocation} nass', 'wie hoch ist die Niederschlagsmenge in {LocalsearchLocation} von {LocalsearchTimeStampStart} bis {LocalsearchTimeStampEnd}', 'wird es {LocalsearchTimeStampStart} regnerisch sein', 'wie viel Niederschlag kann ich {LocalsearchTimeStampStart} in {LocalsearchLocation} erwarten', 'wie viel regnet es in {LocalsearchLocation} von {LocalsearchTimeStampStart} bis {LocalsearchTimeStampEnd}', 'gibt es zwischen {LocalsearchTimeStampStart} und {LocalsearchTimeStampEnd} in {LocalsearchLocation} Regen', 'meinst du dass es {LocalsearchTimeStampStart} regnet', 'brauche ich einen Schirm', 'braucht man einen Regenschirm {LocalsearchTimeStampStart} in {LocalsearchLocation}', 'gibt es {LocalsearchLocation} ein Regenwetter', 'ich würde gerne wissen ob es in {LocalsearchLocation} {LocalsearchTimeStampStart} regnet', 'muss man einen Schirm mitnehmen {LocalsearchTimeStampStart} in {LocalsearchLocation}', 'Niederschlag für {LocalsearchTimeStampStart}', 'pissts', 'regnet es {LocalsearchTimeStampStart}', 'regnet es {LocalsearchTimeStampStart} in {LocalsearchLocation}', 'regnet es fest', 'regnet es in {LocalsearchLocation} von {LocalsearchTimeStampStart} bis {LocalsearchTimeStampEnd}', 'regnet es in {LocalsearchLocation} zwischen {LocalsearchTimeStampStart} und {LocalsearchTimeStampEnd}', 'schifft es', 'schiffts', 'schiffts {LocalsearchTimeStampStart} in {LocalsearchLocation}', 'wie fest wird es {LocalsearchTimeStampStart} regnen', 'wie ist die Regenwahrscheinlichkeit {LocalsearchTimeStampStart}', 'wie wahrscheinlich ist Regen {LocalsearchTimeStampStart}', 'wird es {LocalsearchTimeStampStart} in {LocalsearchLocation} schiffen', 'wird es {LocalsearchTimeStampStart} Regenwetter geben', 'wird es {LocalsearchTimeStampStart} schiffen', 'wird es in {LocalsearchLocation} {LocalsearchTimeStampStart} regnen']\n",
      "ERROR: Tag LocalsearchTimeStampStart does not exist, try anther one.\n"
     ]
    },
    {
     "ename": "TypeError",
     "evalue": "'NoneType' object is not iterable",
     "output_type": "error",
     "traceback": [
      "\u001B[0;31m---------------------------------------------------------------------------\u001B[0m",
      "\u001B[0;31mTypeError\u001B[0m                                 Traceback (most recent call last)",
      "\u001B[0;32m<ipython-input-15-e856e1c20a55>\u001B[0m in \u001B[0;36m<module>\u001B[0;34m\u001B[0m\n\u001B[1;32m      4\u001B[0m gen.get_command(target_id='Localsearch.RainInfo.Init.Utterance',\n\u001B[1;32m      5\u001B[0m                 \u001B[0mtarget_lang\u001B[0m\u001B[0;34m=\u001B[0m\u001B[0;34m'de'\u001B[0m\u001B[0;34m,\u001B[0m\u001B[0;34m\u001B[0m\u001B[0;34m\u001B[0m\u001B[0m\n\u001B[0;32m----> 6\u001B[0;31m                 verbose=True)\n\u001B[0m\u001B[1;32m      7\u001B[0m \u001B[0;34m\u001B[0m\u001B[0m\n\u001B[1;32m      8\u001B[0m \u001B[0;34m\u001B[0m\u001B[0m\n",
      "\u001B[0;32m~/Desktop/generator/generator/module.py\u001B[0m in \u001B[0;36mget_command\u001B[0;34m(self, target_id, target_lang, verbose)\u001B[0m\n\u001B[1;32m     73\u001B[0m         \u001B[0;32mfor\u001B[0m \u001B[0mtemplate\u001B[0m \u001B[0;32min\u001B[0m \u001B[0mtemplates\u001B[0m\u001B[0;34m:\u001B[0m\u001B[0;34m\u001B[0m\u001B[0;34m\u001B[0m\u001B[0m\n\u001B[1;32m     74\u001B[0m             \u001B[0mtemplate\u001B[0m \u001B[0;34m=\u001B[0m \u001B[0mself\u001B[0m\u001B[0;34m.\u001B[0m\u001B[0mremove_sharp_sign\u001B[0m\u001B[0;34m(\u001B[0m\u001B[0mtemplate\u001B[0m\u001B[0;34m)\u001B[0m\u001B[0;34m\u001B[0m\u001B[0;34m\u001B[0m\u001B[0m\n\u001B[0;32m---> 75\u001B[0;31m             \u001B[0mcommand_pool\u001B[0m \u001B[0;34m+=\u001B[0m \u001B[0mself\u001B[0m\u001B[0;34m.\u001B[0m\u001B[0mreplace_tags\u001B[0m\u001B[0;34m(\u001B[0m\u001B[0mtemplate\u001B[0m\u001B[0;34m,\u001B[0m \u001B[0mtarget_lang\u001B[0m\u001B[0;34m)\u001B[0m\u001B[0;34m\u001B[0m\u001B[0;34m\u001B[0m\u001B[0m\n\u001B[0m\u001B[1;32m     76\u001B[0m         \u001B[0;32mif\u001B[0m \u001B[0mverbose\u001B[0m\u001B[0;34m:\u001B[0m\u001B[0;34m\u001B[0m\u001B[0;34m\u001B[0m\u001B[0m\n\u001B[1;32m     77\u001B[0m             \u001B[0mprint\u001B[0m\u001B[0;34m(\u001B[0m\u001B[0;34m\"After tag removal: \\n\\t{}\"\u001B[0m\u001B[0;34m.\u001B[0m\u001B[0mformat\u001B[0m\u001B[0;34m(\u001B[0m\u001B[0mcommand_pool\u001B[0m\u001B[0;34m)\u001B[0m\u001B[0;34m)\u001B[0m\u001B[0;34m\u001B[0m\u001B[0;34m\u001B[0m\u001B[0m\n",
      "\u001B[0;32m~/Desktop/generator/generator/module.py\u001B[0m in \u001B[0;36mreplace_tags\u001B[0;34m(self, template, target_lang)\u001B[0m\n\u001B[1;32m     58\u001B[0m         \u001B[0;32mfor\u001B[0m \u001B[0mtag\u001B[0m \u001B[0;32min\u001B[0m \u001B[0mtags\u001B[0m\u001B[0;34m:\u001B[0m\u001B[0;34m\u001B[0m\u001B[0;34m\u001B[0m\u001B[0m\n\u001B[1;32m     59\u001B[0m             \u001B[0mselected_values\u001B[0m \u001B[0;34m=\u001B[0m \u001B[0mself\u001B[0m\u001B[0;34m.\u001B[0m\u001B[0mget_values_from_tag\u001B[0m\u001B[0;34m(\u001B[0m\u001B[0mtag\u001B[0m\u001B[0;34m,\u001B[0m \u001B[0mtarget_lang\u001B[0m\u001B[0;34m)\u001B[0m\u001B[0;34m\u001B[0m\u001B[0;34m\u001B[0m\u001B[0m\n\u001B[0;32m---> 60\u001B[0;31m             \u001B[0;32mfor\u001B[0m \u001B[0mselected_value\u001B[0m \u001B[0;32min\u001B[0m \u001B[0mselected_values\u001B[0m\u001B[0;34m:\u001B[0m\u001B[0;34m\u001B[0m\u001B[0;34m\u001B[0m\u001B[0m\n\u001B[0m\u001B[1;32m     61\u001B[0m                 \u001B[0mtemplate_command_pool\u001B[0m\u001B[0;34m.\u001B[0m\u001B[0mappend\u001B[0m\u001B[0;34m(\u001B[0m\u001B[0mre\u001B[0m\u001B[0;34m.\u001B[0m\u001B[0msub\u001B[0m\u001B[0;34m(\u001B[0m\u001B[0;34m'{'\u001B[0m \u001B[0;34m+\u001B[0m \u001B[0mtag\u001B[0m \u001B[0;34m+\u001B[0m \u001B[0;34m'}'\u001B[0m\u001B[0;34m,\u001B[0m \u001B[0mselected_value\u001B[0m\u001B[0;34m,\u001B[0m \u001B[0mtemplate\u001B[0m\u001B[0;34m,\u001B[0m \u001B[0;36m1\u001B[0m\u001B[0;34m)\u001B[0m\u001B[0;34m)\u001B[0m\u001B[0;34m\u001B[0m\u001B[0;34m\u001B[0m\u001B[0m\n\u001B[1;32m     62\u001B[0m         \u001B[0;32mreturn\u001B[0m \u001B[0mtemplate_command_pool\u001B[0m\u001B[0;34m\u001B[0m\u001B[0;34m\u001B[0m\u001B[0m\n",
      "\u001B[0;31mTypeError\u001B[0m: 'NoneType' object is not iterable"
     ]
    }
   ],
   "source": [
    "from generator.module import Generator\n",
    "from generator.normalizer import Normalizer\n",
    "gen = Generator(templates=templates_updated, entities=pd.concat([entities, entities_custom]).reset_index(), method='all')\n",
    "gen.get_command(target_id='Localsearch.RainInfo.Init.Utterance',\n",
    "                target_lang='de',\n",
    "                verbose=True)"
   ]
  },
  {
   "cell_type": "code",
   "execution_count": 17,
   "metadata": {},
   "outputs": [
    {
     "name": "stdout",
     "output_type": "stream",
     "text": [
      "Router.SwitchOffGuestWiFi.Init.Utterance en\n",
      "Router.SwitchOffGuestWiFi.Init.Utterance de\n",
      "Router.SwitchOffGuestWiFi.Init.Utterance fr\n",
      "Router.SwitchOffGuestWiFi.Init.Utterance it\n",
      "Tv.TerminateService.Init.Utterance en\n",
      "Tv.TerminateService.Init.Utterance de\n",
      "Tv.TerminateService.Init.Utterance fr\n",
      "Tv.TerminateService.Init.Utterance it\n",
      "Tv.Recording.Init.Utterance en\n",
      "Tv.Recording.Init.Utterance de\n",
      "Tv.Recording.Init.Utterance fr\n",
      "Tv.Recording.Init.Utterance it\n",
      "Tv.NavigationLeft.Init.Utterance en\n",
      "Tv.NavigationLeft.Init.Utterance de\n",
      "Tv.NavigationLeft.Init.Utterance fr\n",
      "Tv.NavigationLeft.Init.Utterance it\n",
      "Tv.NavigationRight.Init.Utterance en\n",
      "Tv.NavigationRight.Init.Utterance de\n",
      "Tv.NavigationRight.Init.Utterance fr\n",
      "Tv.NavigationRight.Init.Utterance it\n",
      "Tv.NavigationUp.Init.Utterance en\n",
      "Tv.NavigationUp.Init.Utterance de\n",
      "Tv.NavigationUp.Init.Utterance fr\n",
      "Tv.NavigationUp.Init.Utterance it\n",
      "Tv.NavigationDown.Init.Utterance en\n",
      "Tv.NavigationDown.Init.Utterance de\n",
      "Tv.NavigationDown.Init.Utterance fr\n",
      "Tv.NavigationDown.Init.Utterance it\n",
      "Tv.NavigationOK.Init.Utterance en\n",
      "Tv.NavigationOK.Init.Utterance de\n",
      "Tv.NavigationOK.Init.Utterance fr\n",
      "Tv.NavigationOK.Init.Utterance it\n",
      "Tv.WatchNextEpisode.Init.Utterance en\n",
      "Tv.WatchNextEpisode.Init.Utterance de\n",
      "Tv.WatchNextEpisode.Init.Utterance fr\n",
      "Tv.WatchNextEpisode.Init.Utterance it\n"
     ]
    }
   ],
   "source": [
    "for temp in templates_updated.id[30:]:\n",
    "    for lang in ['en', 'de', 'fr', 'it']:\n",
    "        print(temp, lang)\n",
    "        gen.get_command(target_id=temp,\n",
    "                        target_lang=lang,\n",
    "                         verbose=False)"
   ]
  },
  {
   "cell_type": "code",
   "execution_count": 9,
   "metadata": {},
   "outputs": [
    {
     "data": {
      "text/plain": "0                 MyCloud.OpenArea.Init.Utterance\n1              Router.SwitchOnWiFi.Init.Utterance\n2               Tv.GenericExitToTv.Init.Utterance\n3             Router.SwitchOffWiFi.Init.Utterance\n4            Tv.RadioChannelChange.Init.Utterance\n5     Router.ShowGuestWiFiPassword.Init.Utterance\n6               Tv.InitiateService.Init.Utterance\n7               Tv.OpenApplication.Init.Utterance\n8         SmartHome.SwitchOnDevice.Init.Utterance\n9                Tv.SkipCommercial.Init.Utterance\n10           Tv.WatchFromBeginning.Init.Utterance\n11              Tv.TvChannelChange.Init.Utterance\n12                     Tv.TvSearch.Init.Utterance\n13                     Tv.VolumeUp.Init.Utterance\n14                   Tv.OpenUiArea.Init.Utterance\n15                   Tv.VolumeMute.Init.Utterance\n16                 Tv.VolumeUnmute.Init.Utterance\n17             Bluewin.NewsSummary.Init.Utterance\n18         Router.ShowWiFiPassword.Init.Utterance\n19        Router.SwitchOnGuestWiFi.Init.Utterance\n20                Tv.TrickModePlay.Init.Utterance\n21                Tv.TrickModeSkip.Init.Utterance\n22            Tv.TvRecommendations.Init.Utterance\n23            SmartHome.StartScene.Init.Utterance\n24       SmartHome.SwitchOffDevice.Init.Utterance\n25                   Tv.VolumeDown.Init.Utterance\n26     Localsearch.TemperatureInfo.Init.Utterance\n27               Tv.TrickModePause.Init.Utterance\n28            Localsearch.RainInfo.Init.Utterance\n29         Localsearch.WeatherInfo.Init.Utterance\n30       Router.SwitchOffGuestWiFi.Init.Utterance\n31             Tv.TerminateService.Init.Utterance\n32                    Tv.Recording.Init.Utterance\n33               Tv.NavigationLeft.Init.Utterance\n34              Tv.NavigationRight.Init.Utterance\n35                 Tv.NavigationUp.Init.Utterance\n36               Tv.NavigationDown.Init.Utterance\n37                 Tv.NavigationOK.Init.Utterance\n38             Tv.WatchNextEpisode.Init.Utterance\nName: id, dtype: object"
     },
     "execution_count": 9,
     "metadata": {},
     "output_type": "execute_result"
    }
   ],
   "source": [
    "templates_updated.id"
   ]
  },
  {
   "cell_type": "markdown",
   "metadata": {
    "pycharm": {
     "name": "#%% md\n"
    }
   },
   "source": [
    "## TODO: LocalsearchTimeStampStart"
   ]
  },
  {
   "cell_type": "code",
   "execution_count": 20,
   "outputs": [],
   "source": [
    "miss_id = ['Localsearch.TemperatureInfo.Init.Utterance' ,\n",
    "'Localsearch.RainInfo.Init.Utterance',\n",
    "'Localsearch.WeatherInfo.Init.Utterance' ]\n",
    "k  = templates_updated[[t in miss_id for t in templates_updated.id]]"
   ],
   "metadata": {
    "collapsed": false,
    "pycharm": {
     "name": "#%%\n"
    }
   }
  },
  {
   "cell_type": "code",
   "execution_count": 24,
   "outputs": [],
   "source": [
    "k.to_json(\"data/miss.json\")"
   ],
   "metadata": {
    "collapsed": false,
    "pycharm": {
     "name": "#%%\n"
    }
   }
  },
  {
   "cell_type": "code",
   "execution_count": 27,
   "outputs": [],
   "source": [
    "k[['id', 'de']].to_json(\"data/timestamp_de.json\")"
   ],
   "metadata": {
    "collapsed": false,
    "pycharm": {
     "name": "#%%\n"
    }
   }
  },
  {
   "cell_type": "code",
   "execution_count": 28,
   "outputs": [],
   "source": [
    "k[['id', 'en']].to_json(\"data/timestamp_en.json\")\n"
   ],
   "metadata": {
    "collapsed": false,
    "pycharm": {
     "name": "#%%\n"
    }
   }
  },
  {
   "cell_type": "code",
   "execution_count": null,
   "outputs": [],
   "source": [],
   "metadata": {
    "collapsed": false,
    "pycharm": {
     "name": "#%%\n"
    }
   }
  }
 ],
 "metadata": {
  "kernelspec": {
   "name": "python3",
   "language": "python",
   "display_name": "Python 3"
  },
  "language_info": {
   "codemirror_mode": {
    "name": "ipython",
    "version": 3
   },
   "file_extension": ".py",
   "mimetype": "text/x-python",
   "name": "python",
   "nbconvert_exporter": "python",
   "pygments_lexer": "ipython3",
   "version": "3.7.7-final"
  }
 },
 "nbformat": 4,
 "nbformat_minor": 4
}