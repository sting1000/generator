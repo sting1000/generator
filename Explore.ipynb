{
 "cells": [
  {
   "cell_type": "markdown",
   "metadata": {},
   "source": [
    "# Get dataset"
   ]
  },
  {
   "cell_type": "code",
   "execution_count": 1,
   "metadata": {},
   "outputs": [],
   "source": [
    "import pandas as pd\n",
    "import numpy as np\n",
    "import random\n",
    "import re  \n",
    "%load_ext autoreload\n",
    "%autoreload 2"
   ]
  },
  {
   "cell_type": "markdown",
   "metadata": {},
   "source": [
    "## Templates"
   ]
  },
  {
   "source": [
    "# templates\n",
    "templates = pd.read_json(\"data/templates.json\")\n",
    "init_uttr_updated = pd.read_csv(\"data/InitUtterance_list_updated.csv\")\n",
    "templates_updated = templates.merge(init_uttr_updated, on='id')\n",
    "templates_updated = templates_updated[['id','de', 'fr', 'it', 'en']]\n",
    "templates_updated.head()"
   ],
   "cell_type": "code",
   "metadata": {},
   "execution_count": 2,
   "outputs": [
    {
     "output_type": "execute_result",
     "data": {
      "text/plain": "                                     id  \\\n0       MyCloud.OpenArea.Init.Utterance   \n1    Router.SwitchOnWiFi.Init.Utterance   \n2     Tv.GenericExitToTv.Init.Utterance   \n3   Router.SwitchOffWiFi.Init.Utterance   \n4  Tv.RadioChannelChange.Init.Utterance   \n\n                                                  de  \\\n0  {&#39;texts&#39;: [{&#39;ttsText&#39;: &#39;{MyCloudArea} auf #myC...   \n1  {&#39;texts&#39;: [{&#39;ttsText&#39;: &#39;aktiviere das Wlan&#39;}, ...   \n2  {&#39;texts&#39;: [{&#39;ttsText&#39;: &#39;gehe zurück zum Fernse...   \n3  {&#39;texts&#39;: [{&#39;ttsText&#39;: &#39;deaktiviere das Wlan&#39;}...   \n4  {&#39;texts&#39;: [{&#39;ttsText&#39;: &#39;auf Radio {RadioChanne...   \n\n                                                  fr  \\\n0  {&#39;texts&#39;: [{&#39;ttsText&#39;: &#39;afficher {MyCloudArea}...   \n1  {&#39;texts&#39;: [{&#39;ttsText&#39;: &#39;active le Wi-Fi&#39;}, {&#39;t...   \n2  {&#39;texts&#39;: [{&#39;ttsText&#39;: &#39;revenir à la télé&#39;}, {...   \n3  {&#39;texts&#39;: [{&#39;ttsText&#39;: &#39;désactiver le Wi-Fi&#39;},...   \n4  {&#39;texts&#39;: [{&#39;ttsText&#39;: &#39;prendre radio {RadioCh...   \n\n                                                  it  \\\n0  {&#39;texts&#39;: [{&#39;ttsText&#39;: &#39;apri {MyCloudArea} su ...   \n1  {&#39;texts&#39;: [{&#39;ttsText&#39;: &#39;attiva il #wifi&#39;}, {&#39;t...   \n2  {&#39;texts&#39;: [{&#39;ttsText&#39;: &#39;torna alla TV&#39;}, {&#39;tts...   \n3  {&#39;texts&#39;: [{&#39;ttsText&#39;: &#39;disattiva il wifi&#39;}, {...   \n4  {&#39;texts&#39;: [{&#39;ttsText&#39;: &#39;metti radio {RadioChan...   \n\n                                                  en  \n0  {&#39;texts&#39;: [{&#39;ttsText&#39;: &#39;show {MyCloudArea} on ...  \n1  {&#39;texts&#39;: [{&#39;ttsText&#39;: &#39;activate the Wi-Fi&#39;}, ...  \n2  {&#39;texts&#39;: [{&#39;ttsText&#39;: &#39;back to TV&#39;}, {&#39;ttsTex...  \n3  {&#39;texts&#39;: [{&#39;ttsText&#39;: &#39;can you please switch ...  \n4  {&#39;texts&#39;: [{&#39;ttsText&#39;: &#39;can you turn on radio ...  ",
      "text/html": "<div>\n<style scoped>\n    .dataframe tbody tr th:only-of-type {\n        vertical-align: middle;\n    }\n\n    .dataframe tbody tr th {\n        vertical-align: top;\n    }\n\n    .dataframe thead th {\n        text-align: right;\n    }\n</style>\n<table border=\"1\" class=\"dataframe\">\n  <thead>\n    <tr style=\"text-align: right;\">\n      <th></th>\n      <th>id</th>\n      <th>de</th>\n      <th>fr</th>\n      <th>it</th>\n      <th>en</th>\n    </tr>\n  </thead>\n  <tbody>\n    <tr>\n      <th>0</th>\n      <td>MyCloud.OpenArea.Init.Utterance</td>\n      <td>{'texts': [{'ttsText': '{MyCloudArea} auf #myC...</td>\n      <td>{'texts': [{'ttsText': 'afficher {MyCloudArea}...</td>\n      <td>{'texts': [{'ttsText': 'apri {MyCloudArea} su ...</td>\n      <td>{'texts': [{'ttsText': 'show {MyCloudArea} on ...</td>\n    </tr>\n    <tr>\n      <th>1</th>\n      <td>Router.SwitchOnWiFi.Init.Utterance</td>\n      <td>{'texts': [{'ttsText': 'aktiviere das Wlan'}, ...</td>\n      <td>{'texts': [{'ttsText': 'active le Wi-Fi'}, {'t...</td>\n      <td>{'texts': [{'ttsText': 'attiva il #wifi'}, {'t...</td>\n      <td>{'texts': [{'ttsText': 'activate the Wi-Fi'}, ...</td>\n    </tr>\n    <tr>\n      <th>2</th>\n      <td>Tv.GenericExitToTv.Init.Utterance</td>\n      <td>{'texts': [{'ttsText': 'gehe zurück zum Fernse...</td>\n      <td>{'texts': [{'ttsText': 'revenir à la télé'}, {...</td>\n      <td>{'texts': [{'ttsText': 'torna alla TV'}, {'tts...</td>\n      <td>{'texts': [{'ttsText': 'back to TV'}, {'ttsTex...</td>\n    </tr>\n    <tr>\n      <th>3</th>\n      <td>Router.SwitchOffWiFi.Init.Utterance</td>\n      <td>{'texts': [{'ttsText': 'deaktiviere das Wlan'}...</td>\n      <td>{'texts': [{'ttsText': 'désactiver le Wi-Fi'},...</td>\n      <td>{'texts': [{'ttsText': 'disattiva il wifi'}, {...</td>\n      <td>{'texts': [{'ttsText': 'can you please switch ...</td>\n    </tr>\n    <tr>\n      <th>4</th>\n      <td>Tv.RadioChannelChange.Init.Utterance</td>\n      <td>{'texts': [{'ttsText': 'auf Radio {RadioChanne...</td>\n      <td>{'texts': [{'ttsText': 'prendre radio {RadioCh...</td>\n      <td>{'texts': [{'ttsText': 'metti radio {RadioChan...</td>\n      <td>{'texts': [{'ttsText': 'can you turn on radio ...</td>\n    </tr>\n  </tbody>\n</table>\n</div>"
     },
     "metadata": {},
     "execution_count": 2
    }
   ]
  },
  {
   "cell_type": "code",
   "execution_count": 3,
   "metadata": {
    "scrolled": true
   },
   "outputs": [
    {
     "output_type": "execute_result",
     "data": {
      "text/plain": "                                  id  \\\ncount                             39   \nunique                            39   \ntop     Tv.VolumeDown.Init.Utterance   \nfreq                               1   \n\n                                                       de  \\\ncount                                                  39   \nunique                                                 39   \ntop     {&#39;texts&#39;: [{&#39;ttsText&#39;: &#39;{SmartHomeSceneName} S...   \nfreq                                                    1   \n\n                                                       fr  \\\ncount                                                  39   \nunique                                                 39   \ntop     {&#39;texts&#39;: [{&#39;ttsText&#39;: &#39;activer scène {SmartHo...   \nfreq                                                    1   \n\n                                                       it  \\\ncount                                                  39   \nunique                                                 39   \ntop     {&#39;texts&#39;: [{&#39;ttsText&#39;: &#39;attiva scena {SmartHom...   \nfreq                                                    1   \n\n                                                       en  \ncount                                                  39  \nunique                                                 39  \ntop     {&#39;texts&#39;: [{&#39;ttsText&#39;: &#39;activate {SmartHomeSce...  \nfreq                                                    1  ",
      "text/html": "<div>\n<style scoped>\n    .dataframe tbody tr th:only-of-type {\n        vertical-align: middle;\n    }\n\n    .dataframe tbody tr th {\n        vertical-align: top;\n    }\n\n    .dataframe thead th {\n        text-align: right;\n    }\n</style>\n<table border=\"1\" class=\"dataframe\">\n  <thead>\n    <tr style=\"text-align: right;\">\n      <th></th>\n      <th>id</th>\n      <th>de</th>\n      <th>fr</th>\n      <th>it</th>\n      <th>en</th>\n    </tr>\n  </thead>\n  <tbody>\n    <tr>\n      <th>count</th>\n      <td>39</td>\n      <td>39</td>\n      <td>39</td>\n      <td>39</td>\n      <td>39</td>\n    </tr>\n    <tr>\n      <th>unique</th>\n      <td>39</td>\n      <td>39</td>\n      <td>39</td>\n      <td>39</td>\n      <td>39</td>\n    </tr>\n    <tr>\n      <th>top</th>\n      <td>Tv.VolumeDown.Init.Utterance</td>\n      <td>{'texts': [{'ttsText': '{SmartHomeSceneName} S...</td>\n      <td>{'texts': [{'ttsText': 'activer scène {SmartHo...</td>\n      <td>{'texts': [{'ttsText': 'attiva scena {SmartHom...</td>\n      <td>{'texts': [{'ttsText': 'activate {SmartHomeSce...</td>\n    </tr>\n    <tr>\n      <th>freq</th>\n      <td>1</td>\n      <td>1</td>\n      <td>1</td>\n      <td>1</td>\n      <td>1</td>\n    </tr>\n  </tbody>\n</table>\n</div>"
     },
     "metadata": {},
     "execution_count": 3
    }
   ],
   "source": [
    "templates_updated.describe()"
   ]
  },
  {
   "cell_type": "markdown",
   "metadata": {},
   "source": [
    "## Entities"
   ]
  },
  {
   "cell_type": "code",
   "execution_count": 3,
   "metadata": {
    "scrolled": true
   },
   "outputs": [
    {
     "output_type": "execute_result",
     "data": {
      "text/plain": "       value                 type language normalizedValue aliases\n0     Widnau  LocalsearchLocation       de          widnau      []\n1     Zurigo  LocalsearchLocation       it          zurigo      []\n2  Solothurn  LocalsearchLocation       de       solothurn      []\n3    Muttenz  LocalsearchLocation       de         muttenz      []\n4       Lyss  LocalsearchLocation       de            lyss      []",
      "text/html": "<div>\n<style scoped>\n    .dataframe tbody tr th:only-of-type {\n        vertical-align: middle;\n    }\n\n    .dataframe tbody tr th {\n        vertical-align: top;\n    }\n\n    .dataframe thead th {\n        text-align: right;\n    }\n</style>\n<table border=\"1\" class=\"dataframe\">\n  <thead>\n    <tr style=\"text-align: right;\">\n      <th></th>\n      <th>value</th>\n      <th>type</th>\n      <th>language</th>\n      <th>normalizedValue</th>\n      <th>aliases</th>\n    </tr>\n  </thead>\n  <tbody>\n    <tr>\n      <th>0</th>\n      <td>Widnau</td>\n      <td>LocalsearchLocation</td>\n      <td>de</td>\n      <td>widnau</td>\n      <td>[]</td>\n    </tr>\n    <tr>\n      <th>1</th>\n      <td>Zurigo</td>\n      <td>LocalsearchLocation</td>\n      <td>it</td>\n      <td>zurigo</td>\n      <td>[]</td>\n    </tr>\n    <tr>\n      <th>2</th>\n      <td>Solothurn</td>\n      <td>LocalsearchLocation</td>\n      <td>de</td>\n      <td>solothurn</td>\n      <td>[]</td>\n    </tr>\n    <tr>\n      <th>3</th>\n      <td>Muttenz</td>\n      <td>LocalsearchLocation</td>\n      <td>de</td>\n      <td>muttenz</td>\n      <td>[]</td>\n    </tr>\n    <tr>\n      <th>4</th>\n      <td>Lyss</td>\n      <td>LocalsearchLocation</td>\n      <td>de</td>\n      <td>lyss</td>\n      <td>[]</td>\n    </tr>\n  </tbody>\n</table>\n</div>"
     },
     "metadata": {},
     "execution_count": 3
    }
   ],
   "source": [
    "# entities\n",
    "entities = pd.read_json(\"data/entities.json\")\n",
    "entities = entities[['value', 'type', 'language', 'normalizedValue', 'aliases']]\n",
    "entities.head()"
   ]
  },
  {
   "cell_type": "code",
   "execution_count": 5,
   "metadata": {},
   "outputs": [
    {
     "output_type": "execute_result",
     "data": {
      "text/plain": "        value        type language normalizedValue aliases\ncount   65471       65471    65471           65471   65471\nunique  51272          33        4           52082    3793\ntop      Golf  SeriesName       de            golf      []\nfreq       20       17913    22746              20   59649",
      "text/html": "<div>\n<style scoped>\n    .dataframe tbody tr th:only-of-type {\n        vertical-align: middle;\n    }\n\n    .dataframe tbody tr th {\n        vertical-align: top;\n    }\n\n    .dataframe thead th {\n        text-align: right;\n    }\n</style>\n<table border=\"1\" class=\"dataframe\">\n  <thead>\n    <tr style=\"text-align: right;\">\n      <th></th>\n      <th>value</th>\n      <th>type</th>\n      <th>language</th>\n      <th>normalizedValue</th>\n      <th>aliases</th>\n    </tr>\n  </thead>\n  <tbody>\n    <tr>\n      <th>count</th>\n      <td>65471</td>\n      <td>65471</td>\n      <td>65471</td>\n      <td>65471</td>\n      <td>65471</td>\n    </tr>\n    <tr>\n      <th>unique</th>\n      <td>51272</td>\n      <td>33</td>\n      <td>4</td>\n      <td>52082</td>\n      <td>3793</td>\n    </tr>\n    <tr>\n      <th>top</th>\n      <td>Golf</td>\n      <td>SeriesName</td>\n      <td>de</td>\n      <td>golf</td>\n      <td>[]</td>\n    </tr>\n    <tr>\n      <th>freq</th>\n      <td>20</td>\n      <td>17913</td>\n      <td>22746</td>\n      <td>20</td>\n      <td>59649</td>\n    </tr>\n  </tbody>\n</table>\n</div>"
     },
     "metadata": {},
     "execution_count": 5
    }
   ],
   "source": [
    "entities.describe()"
   ]
  },
  {
   "cell_type": "markdown",
   "metadata": {},
   "source": [
    "# Explore data"
   ]
  },
  {
   "cell_type": "markdown",
   "metadata": {},
   "source": [
    "### Entities catagorical count"
   ]
  },
  {
   "cell_type": "code",
   "execution_count": 6,
   "metadata": {
    "scrolled": true
   },
   "outputs": [
    {
     "output_type": "execute_result",
     "data": {
      "text/plain": "language                     de      en      fr      it\ntype                                                   \nAlbumName                   NaN  1479.0     NaN     NaN\nAppName                   326.0   273.0   312.0   290.0\nAreaName                   26.0    26.0    26.0    26.0\nArtistName                  NaN   822.0     NaN     NaN\nBroadcastName             715.0   483.0   676.0   663.0\nCallingNumberType           3.0     4.0     4.0     4.0\nClipName                  353.0   320.0   342.0   338.0\nDossierName                 8.0     3.0     5.0     3.0\nFirstName                 952.0     NaN     NaN     NaN\nGenreName                   NaN     8.0     NaN     NaN\nLastName                  998.0     NaN     NaN     NaN\nLocalsearchLocation      3403.0    28.0  1909.0  1572.0\nMyCloudArea                 5.0     5.0     5.0     5.0\nNickName                   20.0    25.0    21.0    20.0\nParticipantName          2710.0   297.0  1473.0   575.0\nRadioChannelName          366.0   365.0   365.0   365.0\nSeriesName               6186.0  3281.0  4766.0  3680.0\nSmartHomeDeviceBrand        8.0    10.0    10.0     9.0\nSmartHomeDeviceCategory     5.0     5.0     5.0     5.0\nSmartHomeDeviceLocation     9.0     9.0     9.0     9.0\nSmartHomeDeviceName       100.0   100.0   100.0   101.0\nSmartHomeSceneName         50.0    49.0    50.0    50.0\nSportCompetitionName       20.0    20.0    20.0    20.0\nSportEventName            206.0   207.0   203.0   207.0\nSportParticipantName      432.0   432.0   432.0   432.0\nSportSportsName            10.0    10.0    10.0    10.0\nTrackName                   NaN  2701.0     NaN     NaN\nTvChannelName             635.0   623.0   633.0   633.0\nTvGenre                   137.0   131.0   131.0   127.0\nVodGenre                   99.0   107.0    99.0    99.0\nVodName                  4961.0  4209.0  3760.0  2083.0\nentitytype_1                1.0     NaN     NaN     NaN\ntest_aliasesTest            2.0     NaN     1.0     NaN",
      "text/html": "<div>\n<style scoped>\n    .dataframe tbody tr th:only-of-type {\n        vertical-align: middle;\n    }\n\n    .dataframe tbody tr th {\n        vertical-align: top;\n    }\n\n    .dataframe thead th {\n        text-align: right;\n    }\n</style>\n<table border=\"1\" class=\"dataframe\">\n  <thead>\n    <tr style=\"text-align: right;\">\n      <th>language</th>\n      <th>de</th>\n      <th>en</th>\n      <th>fr</th>\n      <th>it</th>\n    </tr>\n    <tr>\n      <th>type</th>\n      <th></th>\n      <th></th>\n      <th></th>\n      <th></th>\n    </tr>\n  </thead>\n  <tbody>\n    <tr>\n      <th>AlbumName</th>\n      <td>NaN</td>\n      <td>1479.0</td>\n      <td>NaN</td>\n      <td>NaN</td>\n    </tr>\n    <tr>\n      <th>AppName</th>\n      <td>326.0</td>\n      <td>273.0</td>\n      <td>312.0</td>\n      <td>290.0</td>\n    </tr>\n    <tr>\n      <th>AreaName</th>\n      <td>26.0</td>\n      <td>26.0</td>\n      <td>26.0</td>\n      <td>26.0</td>\n    </tr>\n    <tr>\n      <th>ArtistName</th>\n      <td>NaN</td>\n      <td>822.0</td>\n      <td>NaN</td>\n      <td>NaN</td>\n    </tr>\n    <tr>\n      <th>BroadcastName</th>\n      <td>715.0</td>\n      <td>483.0</td>\n      <td>676.0</td>\n      <td>663.0</td>\n    </tr>\n    <tr>\n      <th>CallingNumberType</th>\n      <td>3.0</td>\n      <td>4.0</td>\n      <td>4.0</td>\n      <td>4.0</td>\n    </tr>\n    <tr>\n      <th>ClipName</th>\n      <td>353.0</td>\n      <td>320.0</td>\n      <td>342.0</td>\n      <td>338.0</td>\n    </tr>\n    <tr>\n      <th>DossierName</th>\n      <td>8.0</td>\n      <td>3.0</td>\n      <td>5.0</td>\n      <td>3.0</td>\n    </tr>\n    <tr>\n      <th>FirstName</th>\n      <td>952.0</td>\n      <td>NaN</td>\n      <td>NaN</td>\n      <td>NaN</td>\n    </tr>\n    <tr>\n      <th>GenreName</th>\n      <td>NaN</td>\n      <td>8.0</td>\n      <td>NaN</td>\n      <td>NaN</td>\n    </tr>\n    <tr>\n      <th>LastName</th>\n      <td>998.0</td>\n      <td>NaN</td>\n      <td>NaN</td>\n      <td>NaN</td>\n    </tr>\n    <tr>\n      <th>LocalsearchLocation</th>\n      <td>3403.0</td>\n      <td>28.0</td>\n      <td>1909.0</td>\n      <td>1572.0</td>\n    </tr>\n    <tr>\n      <th>MyCloudArea</th>\n      <td>5.0</td>\n      <td>5.0</td>\n      <td>5.0</td>\n      <td>5.0</td>\n    </tr>\n    <tr>\n      <th>NickName</th>\n      <td>20.0</td>\n      <td>25.0</td>\n      <td>21.0</td>\n      <td>20.0</td>\n    </tr>\n    <tr>\n      <th>ParticipantName</th>\n      <td>2710.0</td>\n      <td>297.0</td>\n      <td>1473.0</td>\n      <td>575.0</td>\n    </tr>\n    <tr>\n      <th>RadioChannelName</th>\n      <td>366.0</td>\n      <td>365.0</td>\n      <td>365.0</td>\n      <td>365.0</td>\n    </tr>\n    <tr>\n      <th>SeriesName</th>\n      <td>6186.0</td>\n      <td>3281.0</td>\n      <td>4766.0</td>\n      <td>3680.0</td>\n    </tr>\n    <tr>\n      <th>SmartHomeDeviceBrand</th>\n      <td>8.0</td>\n      <td>10.0</td>\n      <td>10.0</td>\n      <td>9.0</td>\n    </tr>\n    <tr>\n      <th>SmartHomeDeviceCategory</th>\n      <td>5.0</td>\n      <td>5.0</td>\n      <td>5.0</td>\n      <td>5.0</td>\n    </tr>\n    <tr>\n      <th>SmartHomeDeviceLocation</th>\n      <td>9.0</td>\n      <td>9.0</td>\n      <td>9.0</td>\n      <td>9.0</td>\n    </tr>\n    <tr>\n      <th>SmartHomeDeviceName</th>\n      <td>100.0</td>\n      <td>100.0</td>\n      <td>100.0</td>\n      <td>101.0</td>\n    </tr>\n    <tr>\n      <th>SmartHomeSceneName</th>\n      <td>50.0</td>\n      <td>49.0</td>\n      <td>50.0</td>\n      <td>50.0</td>\n    </tr>\n    <tr>\n      <th>SportCompetitionName</th>\n      <td>20.0</td>\n      <td>20.0</td>\n      <td>20.0</td>\n      <td>20.0</td>\n    </tr>\n    <tr>\n      <th>SportEventName</th>\n      <td>206.0</td>\n      <td>207.0</td>\n      <td>203.0</td>\n      <td>207.0</td>\n    </tr>\n    <tr>\n      <th>SportParticipantName</th>\n      <td>432.0</td>\n      <td>432.0</td>\n      <td>432.0</td>\n      <td>432.0</td>\n    </tr>\n    <tr>\n      <th>SportSportsName</th>\n      <td>10.0</td>\n      <td>10.0</td>\n      <td>10.0</td>\n      <td>10.0</td>\n    </tr>\n    <tr>\n      <th>TrackName</th>\n      <td>NaN</td>\n      <td>2701.0</td>\n      <td>NaN</td>\n      <td>NaN</td>\n    </tr>\n    <tr>\n      <th>TvChannelName</th>\n      <td>635.0</td>\n      <td>623.0</td>\n      <td>633.0</td>\n      <td>633.0</td>\n    </tr>\n    <tr>\n      <th>TvGenre</th>\n      <td>137.0</td>\n      <td>131.0</td>\n      <td>131.0</td>\n      <td>127.0</td>\n    </tr>\n    <tr>\n      <th>VodGenre</th>\n      <td>99.0</td>\n      <td>107.0</td>\n      <td>99.0</td>\n      <td>99.0</td>\n    </tr>\n    <tr>\n      <th>VodName</th>\n      <td>4961.0</td>\n      <td>4209.0</td>\n      <td>3760.0</td>\n      <td>2083.0</td>\n    </tr>\n    <tr>\n      <th>entitytype_1</th>\n      <td>1.0</td>\n      <td>NaN</td>\n      <td>NaN</td>\n      <td>NaN</td>\n    </tr>\n    <tr>\n      <th>test_aliasesTest</th>\n      <td>2.0</td>\n      <td>NaN</td>\n      <td>1.0</td>\n      <td>NaN</td>\n    </tr>\n  </tbody>\n</table>\n</div>"
     },
     "metadata": {},
     "execution_count": 6
    }
   ],
   "source": [
    "df = entities[['type', 'language']]\n",
    "df = df.groupby(['type','language']).size().reset_index(name='count') \n",
    "df.pivot(index='type', columns='language', values='count')#.plot(kind='bar')"
   ]
  },
  {
   "source": [
    "### Generate correct command"
   ],
   "cell_type": "markdown",
   "metadata": {}
  },
  {
   "cell_type": "code",
   "execution_count": 5,
   "metadata": {
    "tags": []
   },
   "outputs": [
    {
     "output_type": "execute_result",
     "data": {
      "text/plain": "[&#39;BN&#39;, &#39;BNTV&#39;, &#39;BN TV&#39;]"
     },
     "metadata": {},
     "execution_count": 5
    }
   ],
   "source": [
    "from generator.tools import filter_aliases\n",
    "l = [   \"SRF 3\",\n",
    "\t\t\"D R S 3\",\n",
    "\t\t\"Schweiz 3\",\n",
    "\t\t\"S R F 3\",\n",
    "\t\t\"DRS 3\",\n",
    "        \"s r f 3\",\n",
    "\t\t\"s r f drei\",\n",
    "\t\t\"d r s drei\",\n",
    "\t\t\"schweiz drei\",\n",
    "\t\t\"DRS drei\",\n",
    "        \"one and a half man\"\n",
    "\t]\n",
    "l2 = [\n",
    "\t\t\"D M A X\",\n",
    "\t\t\"d max\",\n",
    "\t\t\"DMAX\",\n",
    "\t\t\"d m a x\",\n",
    "\t\t\"D Max\",\n",
    "\t\t\"D Max Italia\",\n",
    "\t\t\"d max italia\"\n",
    "\t]\n",
    "l3 = [\n",
    "\t\t\"TF three\",\n",
    "\t\t\"TF 3\",\n",
    "\t\t\"T F 3\",\n",
    "\t\t\"t f three\"\n",
    "\t]\n",
    "l4 = [\n",
    "\t\t\"E V Z Academy\",\n",
    "\t\t\"e v z academy\"\n",
    "\t]\n",
    "l5 = [\n",
    "\t\t\"BN\",\n",
    "\t\t\"b n t v\",\n",
    "\t\t\"B N\",\n",
    "\t\t\"b n\",\n",
    "\t\t\"BN TV\",\n",
    "\t\t\"B N T V\"\n",
    "\t]\n",
    "filter_aliases(l5)"
   ]
  },
  {
   "cell_type": "code",
   "execution_count": 6,
   "metadata": {},
   "outputs": [
    {
     "output_type": "execute_result",
     "data": {
      "text/plain": "[&#39;DRS eins&#39;,\n &#39;SRF eis&#39;,\n &#39;SR&#39;,\n &#39;Schweiz 1&#39;,\n &#39;DRS 1&#39;,\n &#39;SRF&#39;,\n &#39;Schweizer&#39;,\n &#39;DRS&#39;,\n &#39;SRF eins&#39;,\n &#39;schweiz eins&#39;,\n &#39;schweizer&#39;,\n &#39;SRF einz&#39;,\n &#39;SRF 1&#39;]"
     },
     "metadata": {},
     "execution_count": 6
    }
   ],
   "source": [
    "l6 = [\n",
    "\t\t\"S R F\",\n",
    "\t\t\"Schweiz 1\",\n",
    "\t\t\"SRF eis\",\n",
    "\t\t\"DRS 1\",\n",
    "\t\t\"SRF\",\n",
    "\t\t\"S R F eis\",\n",
    "\t\t\"s r f einz\",\n",
    "\t\t\"d r s eins\",\n",
    "\t\t\"S R\",\n",
    "\t\t\"schweizer\",\n",
    "\t\t\"Schweizer\",\n",
    "\t\t\"DRS eins\",\n",
    "\t\t\"SR\",\n",
    "\t\t\"SRF einz\",\n",
    "\t\t\"D R S\",\n",
    "\t\t\"s r f eis\",\n",
    "\t\t\"SRF 1\",\n",
    "\t\t\"D R S 1\",\n",
    "\t\t\"DRS\",\n",
    "\t\t\"s r\",\n",
    "\t\t\"S R F 1\",\n",
    "\t\t\"s r f eins\",\n",
    "\t\t\"SRF eins\",\n",
    "\t\t\"d r s\",\n",
    "\t\t\"S R F einz\",\n",
    "\t\t\"s r f\",\n",
    "\t\t\"schweiz eins\"\n",
    "\t]\n",
    "filter_aliases(l6)"
   ]
  },
  {
   "cell_type": "code",
   "execution_count": 61,
   "metadata": {},
   "outputs": [
    {
     "output_type": "execute_result",
     "data": {
      "text/plain": "&#39;un&#39;"
     },
     "metadata": {},
     "execution_count": 61
    }
   ],
   "source": [
    "Normalizer().normalize_text('1', '')"
   ]
  },
  {
   "cell_type": "code",
   "execution_count": 13,
   "metadata": {
    "tags": []
   },
   "outputs": [
    {
     "output_type": "stream",
     "name": "stdout",
     "text": "Choose template: \n\tauf Radio {RadioChannelName} schalten\n"
    },
    {
     "output_type": "error",
     "ename": "ValueError",
     "evalue": "list.remove(x): x not in list",
     "traceback": [
      "\u001b[0;31m---------------------------------------------------------------------------\u001b[0m",
      "\u001b[0;31mValueError\u001b[0m                                Traceback (most recent call last)",
      "\u001b[0;32m&lt;ipython-input-13-3e98a7127ac7&gt;\u001b[0m in \u001b[0;36m&lt;module&gt;\u001b[0;34m\u001b[0m\n\u001b[1;32m      4\u001b[0m gen.get_command(target_id=&#39;Tv.RadioChannelChange.Init.Utterance&#39;, \n\u001b[1;32m      5\u001b[0m                 \u001b[0mtarget_lang\u001b[0m\u001b[0;34m=\u001b[0m\u001b[0;34m&#39;de&#39;\u001b[0m\u001b[0;34m,\u001b[0m\u001b[0;34m\u001b[0m\u001b[0;34m\u001b[0m\u001b[0m\n\u001b[0;32m----&gt; 6\u001b[0;31m                 verbose=True)\n\u001b[0m",
      "\u001b[0;32m~/EPFL/PDM/generator/generator/module.py\u001b[0m in \u001b[0;36mget_command\u001b[0;34m(self, target_id, target_lang, verbose)\u001b[0m\n\u001b[1;32m     88\u001b[0m             \u001b[0mprint\u001b[0m\u001b[0;34m(\u001b[0m\u001b[0;34m&quot;Choose template: \\n\\t{}&quot;\u001b[0m\u001b[0;34m.\u001b[0m\u001b[0mformat\u001b[0m\u001b[0;34m(\u001b[0m\u001b[0mtemplate\u001b[0m\u001b[0;34m)\u001b[0m\u001b[0;34m)\u001b[0m\u001b[0;34m\u001b[0m\u001b[0;34m\u001b[0m\u001b[0m\n\u001b[1;32m     89\u001b[0m \u001b[0;34m\u001b[0m\u001b[0m\n\u001b[0;32m---&gt; 90\u001b[0;31m         \u001b[0mtemplate\u001b[0m \u001b[0;34m=\u001b[0m \u001b[0mself\u001b[0m\u001b[0;34m.\u001b[0m\u001b[0mremove_tags\u001b[0m\u001b[0;34m(\u001b[0m\u001b[0mtemplate\u001b[0m\u001b[0;34m,\u001b[0m \u001b[0mtarget_lang\u001b[0m\u001b[0;34m)\u001b[0m\u001b[0;34m\u001b[0m\u001b[0;34m\u001b[0m\u001b[0m\n\u001b[0m\u001b[1;32m     91\u001b[0m         \u001b[0;32mif\u001b[0m \u001b[0mverbose\u001b[0m\u001b[0;34m:\u001b[0m\u001b[0;34m\u001b[0m\u001b[0;34m\u001b[0m\u001b[0m\n\u001b[1;32m     92\u001b[0m             \u001b[0mprint\u001b[0m\u001b[0;34m(\u001b[0m\u001b[0;34m&quot;After tag removal: \\n\\t{}&quot;\u001b[0m\u001b[0;34m.\u001b[0m\u001b[0mformat\u001b[0m\u001b[0;34m(\u001b[0m\u001b[0mtemplate\u001b[0m\u001b[0;34m)\u001b[0m\u001b[0;34m)\u001b[0m\u001b[0;34m\u001b[0m\u001b[0;34m\u001b[0m\u001b[0m\n",
      "\u001b[0;32m~/EPFL/PDM/generator/generator/module.py\u001b[0m in \u001b[0;36mremove_tags\u001b[0;34m(self, template, target_lang)\u001b[0m\n\u001b[1;32m     74\u001b[0m         \u001b[0mtags\u001b[0m \u001b[0;34m=\u001b[0m \u001b[0;34m[\u001b[0m\u001b[0ms\u001b[0m\u001b[0;34m[\u001b[0m\u001b[0;36m1\u001b[0m \u001b[0;34m:\u001b[0m \u001b[0;34m-\u001b[0m\u001b[0;36m1\u001b[0m\u001b[0;34m]\u001b[0m \u001b[0;32mfor\u001b[0m \u001b[0ms\u001b[0m \u001b[0;32min\u001b[0m \u001b[0mre\u001b[0m\u001b[0;34m.\u001b[0m\u001b[0mfindall\u001b[0m\u001b[0;34m(\u001b[0m\u001b[0;34mr&#39;{\\S+}&#39;\u001b[0m\u001b[0;34m,\u001b[0m \u001b[0mtemplate\u001b[0m\u001b[0;34m)\u001b[0m\u001b[0;34m]\u001b[0m\u001b[0;34m\u001b[0m\u001b[0;34m\u001b[0m\u001b[0m\n\u001b[1;32m     75\u001b[0m         \u001b[0;32mfor\u001b[0m \u001b[0mtag\u001b[0m \u001b[0;32min\u001b[0m \u001b[0mtags\u001b[0m\u001b[0;34m:\u001b[0m\u001b[0;34m\u001b[0m\u001b[0;34m\u001b[0m\u001b[0m\n\u001b[0;32m---&gt; 76\u001b[0;31m             \u001b[0mselected_values\u001b[0m \u001b[0;34m=\u001b[0m \u001b[0mself\u001b[0m\u001b[0;34m.\u001b[0m\u001b[0mget_value_from_tag\u001b[0m\u001b[0;34m(\u001b[0m\u001b[0mtag\u001b[0m\u001b[0;34m,\u001b[0m \u001b[0mtarget_lang\u001b[0m\u001b[0;34m)\u001b[0m\u001b[0;34m\u001b[0m\u001b[0;34m\u001b[0m\u001b[0m\n\u001b[0m\u001b[1;32m     77\u001b[0m             \u001b[0;32mfor\u001b[0m \u001b[0mselected_value\u001b[0m \u001b[0;32min\u001b[0m \u001b[0mself\u001b[0m\u001b[0;34m.\u001b[0m\u001b[0mapply_method\u001b[0m\u001b[0;34m(\u001b[0m\u001b[0mselected_values\u001b[0m\u001b[0;34m)\u001b[0m\u001b[0;34m:\u001b[0m\u001b[0;34m\u001b[0m\u001b[0;34m\u001b[0m\u001b[0m\n\u001b[1;32m     78\u001b[0m                 \u001b[0mtemplate_command_pool\u001b[0m\u001b[0;34m.\u001b[0m\u001b[0mappend\u001b[0m\u001b[0;34m(\u001b[0m\u001b[0mre\u001b[0m\u001b[0;34m.\u001b[0m\u001b[0msub\u001b[0m\u001b[0;34m(\u001b[0m\u001b[0;34m&#39;{&#39;\u001b[0m \u001b[0;34m+\u001b[0m \u001b[0mtag\u001b[0m \u001b[0;34m+\u001b[0m \u001b[0;34m&#39;}&#39;\u001b[0m\u001b[0;34m,\u001b[0m \u001b[0mselected_value\u001b[0m\u001b[0;34m,\u001b[0m \u001b[0mtemplate\u001b[0m\u001b[0;34m,\u001b[0m \u001b[0;36m1\u001b[0m\u001b[0;34m)\u001b[0m\u001b[0;34m)\u001b[0m\u001b[0;34m\u001b[0m\u001b[0;34m\u001b[0m\u001b[0m\n",
      "\u001b[0;32m~/EPFL/PDM/generator/generator/module.py\u001b[0m in \u001b[0;36mget_value_from_tag\u001b[0;34m(self, tag, target_lang)\u001b[0m\n\u001b[1;32m     49\u001b[0m                 \u001b[0mfiltered_values\u001b[0m\u001b[0;34m.\u001b[0m\u001b[0mremove\u001b[0m\u001b[0;34m(\u001b[0m\u001b[0mvalue\u001b[0m\u001b[0;34m)\u001b[0m\u001b[0;34m\u001b[0m\u001b[0;34m\u001b[0m\u001b[0m\n\u001b[1;32m     50\u001b[0m                 \u001b[0mnormalized_value\u001b[0m \u001b[0;34m=\u001b[0m \u001b[0mself\u001b[0m\u001b[0;34m.\u001b[0m\u001b[0mnormalizer\u001b[0m\u001b[0;34m(\u001b[0m\u001b[0mvalue\u001b[0m\u001b[0;34m,\u001b[0m \u001b[0mtarget_lang\u001b[0m\u001b[0;34m)\u001b[0m\u001b[0;34m\u001b[0m\u001b[0;34m\u001b[0m\u001b[0m\n\u001b[0;32m---&gt; 51\u001b[0;31m                 \u001b[0mfiltered_values\u001b[0m\u001b[0;34m.\u001b[0m\u001b[0mremove\u001b[0m\u001b[0;34m(\u001b[0m\u001b[0mnormalized_value\u001b[0m\u001b[0;34m)\u001b[0m\u001b[0;34m\u001b[0m\u001b[0;34m\u001b[0m\u001b[0m\n\u001b[0m\u001b[1;32m     52\u001b[0m                 \u001b[0mfiltered_values\u001b[0m\u001b[0;34m.\u001b[0m\u001b[0mappend\u001b[0m\u001b[0;34m(\u001b[0m\u001b[0mvalue\u001b[0m\u001b[0;34m)\u001b[0m\u001b[0;34m\u001b[0m\u001b[0;34m\u001b[0m\u001b[0m\n\u001b[1;32m     53\u001b[0m             \u001b[0mvalues_pool\u001b[0m \u001b[0;34m+=\u001b[0m \u001b[0mfiltered_values\u001b[0m\u001b[0;34m\u001b[0m\u001b[0;34m\u001b[0m\u001b[0m\n",
      "\u001b[0;31mValueError\u001b[0m: list.remove(x): x not in list"
     ]
    }
   ],
   "source": [
    "from generator.module import Generator\n",
    "from generator.normalizer import Normalizer\n",
    "gen = Generator(templates=templates_updated, entities=entities, method='one')\n",
    "gen.get_command(target_id='Tv.RadioChannelChange.Init.Utterance', \n",
    "                target_lang='de', \n",
    "                verbose=True)"
   ]
  },
  {
   "cell_type": "code",
   "execution_count": 26,
   "metadata": {
    "tags": []
   },
   "outputs": [
    {
     "output_type": "execute_result",
     "data": {
      "text/plain": "                     value         type language      normalizedValue  \\\n41769                Fotos  MyCloudArea       de                fotos   \n41772            Favoriten  MyCloudArea       de            favoriten   \n41774                Alben  MyCloudArea       de                alben   \n41776               Videos  MyCloudArea       de               videos   \n41780  Zuletzt hochgeladen  MyCloudArea       de  zuletzt hochgeladen   \n\n                                                 aliases  \n41769  [fotos, fotogalerie, Bilder, Bilder Galerie, m...  \n41772  [Lieblingsfotos, Lieblingsfoto, lieblingsaufna...  \n41774  [bilderalben, Foto Album, Fotoalben, Sammlung,...  \n41776  [Video Aufnahmen, Videoaufnahmen, videoaufnahm...  \n41780  [akutellen, letzte, aktuelle, jüngsten, neuest...  ",
      "text/html": "<div>\n<style scoped>\n    .dataframe tbody tr th:only-of-type {\n        vertical-align: middle;\n    }\n\n    .dataframe tbody tr th {\n        vertical-align: top;\n    }\n\n    .dataframe thead th {\n        text-align: right;\n    }\n</style>\n<table border=\"1\" class=\"dataframe\">\n  <thead>\n    <tr style=\"text-align: right;\">\n      <th></th>\n      <th>value</th>\n      <th>type</th>\n      <th>language</th>\n      <th>normalizedValue</th>\n      <th>aliases</th>\n    </tr>\n  </thead>\n  <tbody>\n    <tr>\n      <th>41769</th>\n      <td>Fotos</td>\n      <td>MyCloudArea</td>\n      <td>de</td>\n      <td>fotos</td>\n      <td>[fotos, fotogalerie, Bilder, Bilder Galerie, m...</td>\n    </tr>\n    <tr>\n      <th>41772</th>\n      <td>Favoriten</td>\n      <td>MyCloudArea</td>\n      <td>de</td>\n      <td>favoriten</td>\n      <td>[Lieblingsfotos, Lieblingsfoto, lieblingsaufna...</td>\n    </tr>\n    <tr>\n      <th>41774</th>\n      <td>Alben</td>\n      <td>MyCloudArea</td>\n      <td>de</td>\n      <td>alben</td>\n      <td>[bilderalben, Foto Album, Fotoalben, Sammlung,...</td>\n    </tr>\n    <tr>\n      <th>41776</th>\n      <td>Videos</td>\n      <td>MyCloudArea</td>\n      <td>de</td>\n      <td>videos</td>\n      <td>[Video Aufnahmen, Videoaufnahmen, videoaufnahm...</td>\n    </tr>\n    <tr>\n      <th>41780</th>\n      <td>Zuletzt hochgeladen</td>\n      <td>MyCloudArea</td>\n      <td>de</td>\n      <td>zuletzt hochgeladen</td>\n      <td>[akutellen, letzte, aktuelle, jüngsten, neuest...</td>\n    </tr>\n  </tbody>\n</table>\n</div>"
     },
     "metadata": {},
     "execution_count": 26
    }
   ],
   "source": [
    "import random\n",
    "k = entities[entities['type'] == 'MyCloudArea'][entities['language'] == 'de']\n",
    "k"
   ]
  },
  {
   "cell_type": "code",
   "execution_count": 22,
   "metadata": {
    "tags": []
   },
   "outputs": [
    {
     "output_type": "stream",
     "name": "stdout",
     "text": "Choose template: \n\taller à {MyCloudArea} sur #myCloud\n"
    },
    {
     "output_type": "error",
     "ename": "TypeError",
     "evalue": "string indices must be integers",
     "traceback": [
      "\u001b[0;31m---------------------------------------------------------------------------\u001b[0m",
      "\u001b[0;31mTypeError\u001b[0m                                 Traceback (most recent call last)",
      "\u001b[0;32m&lt;ipython-input-22-3e121c8c5c5c&gt;\u001b[0m in \u001b[0;36m&lt;module&gt;\u001b[0;34m\u001b[0m\n\u001b[1;32m      1\u001b[0m gen.get_command(target_id=&#39;MyCloud.OpenArea.Init.Utterance&#39;, \n\u001b[1;32m      2\u001b[0m                     \u001b[0mtarget_lang\u001b[0m\u001b[0;34m=\u001b[0m\u001b[0;34m&#39;fr&#39;\u001b[0m\u001b[0;34m,\u001b[0m\u001b[0;34m\u001b[0m\u001b[0;34m\u001b[0m\u001b[0m\n\u001b[0;32m----&gt; 3\u001b[0;31m                     verbose=True)\n\u001b[0m",
      "\u001b[0;32m~/EPFL/PDM/generator/generator/module.py\u001b[0m in \u001b[0;36mget_command\u001b[0;34m(self, target_id, target_lang, verbose)\u001b[0m\n\u001b[1;32m     78\u001b[0m             \u001b[0mprint\u001b[0m\u001b[0;34m(\u001b[0m\u001b[0;34m&quot;Choose template: \\n\\t{}&quot;\u001b[0m\u001b[0;34m.\u001b[0m\u001b[0mformat\u001b[0m\u001b[0;34m(\u001b[0m\u001b[0mtemplate\u001b[0m\u001b[0;34m)\u001b[0m\u001b[0;34m)\u001b[0m\u001b[0;34m\u001b[0m\u001b[0;34m\u001b[0m\u001b[0m\n\u001b[1;32m     79\u001b[0m \u001b[0;34m\u001b[0m\u001b[0m\n\u001b[0;32m---&gt; 80\u001b[0;31m         \u001b[0mtemplate\u001b[0m \u001b[0;34m=\u001b[0m \u001b[0mself\u001b[0m\u001b[0;34m.\u001b[0m\u001b[0mremove_tags\u001b[0m\u001b[0;34m(\u001b[0m\u001b[0mtemplate\u001b[0m\u001b[0;34m,\u001b[0m \u001b[0mtarget_lang\u001b[0m\u001b[0;34m)\u001b[0m\u001b[0;34m\u001b[0m\u001b[0;34m\u001b[0m\u001b[0m\n\u001b[0m\u001b[1;32m     81\u001b[0m         \u001b[0;32mif\u001b[0m \u001b[0mverbose\u001b[0m\u001b[0;34m:\u001b[0m\u001b[0;34m\u001b[0m\u001b[0;34m\u001b[0m\u001b[0m\n\u001b[1;32m     82\u001b[0m             \u001b[0mprint\u001b[0m\u001b[0;34m(\u001b[0m\u001b[0;34m&quot;After tag removal: \\n\\t{}&quot;\u001b[0m\u001b[0;34m.\u001b[0m\u001b[0mformat\u001b[0m\u001b[0;34m(\u001b[0m\u001b[0mtemplate\u001b[0m\u001b[0;34m)\u001b[0m\u001b[0;34m)\u001b[0m\u001b[0;34m\u001b[0m\u001b[0;34m\u001b[0m\u001b[0m\n",
      "\u001b[0;32m~/EPFL/PDM/generator/generator/module.py\u001b[0m in \u001b[0;36mremove_tags\u001b[0;34m(self, template, target_lang)\u001b[0m\n\u001b[1;32m     64\u001b[0m         \u001b[0mtags\u001b[0m \u001b[0;34m=\u001b[0m \u001b[0;34m[\u001b[0m\u001b[0ms\u001b[0m\u001b[0;34m[\u001b[0m\u001b[0;36m1\u001b[0m \u001b[0;34m:\u001b[0m \u001b[0;34m-\u001b[0m\u001b[0;36m1\u001b[0m\u001b[0;34m]\u001b[0m \u001b[0;32mfor\u001b[0m \u001b[0ms\u001b[0m \u001b[0;32min\u001b[0m \u001b[0mre\u001b[0m\u001b[0;34m.\u001b[0m\u001b[0mfindall\u001b[0m\u001b[0;34m(\u001b[0m\u001b[0;34mr&#39;{\\S+}&#39;\u001b[0m\u001b[0;34m,\u001b[0m \u001b[0mtemplate\u001b[0m\u001b[0;34m)\u001b[0m\u001b[0;34m]\u001b[0m\u001b[0;34m\u001b[0m\u001b[0;34m\u001b[0m\u001b[0m\n\u001b[1;32m     65\u001b[0m         \u001b[0;32mfor\u001b[0m \u001b[0mtag\u001b[0m \u001b[0;32min\u001b[0m \u001b[0mtags\u001b[0m\u001b[0;34m:\u001b[0m\u001b[0;34m\u001b[0m\u001b[0;34m\u001b[0m\u001b[0m\n\u001b[0;32m---&gt; 66\u001b[0;31m             \u001b[0mselected_values\u001b[0m \u001b[0;34m=\u001b[0m \u001b[0mself\u001b[0m\u001b[0;34m.\u001b[0m\u001b[0mget_value_from_tag\u001b[0m\u001b[0;34m(\u001b[0m\u001b[0mtag\u001b[0m\u001b[0;34m,\u001b[0m \u001b[0mtarget_lang\u001b[0m\u001b[0;34m)\u001b[0m\u001b[0;34m\u001b[0m\u001b[0;34m\u001b[0m\u001b[0m\n\u001b[0m\u001b[1;32m     67\u001b[0m             \u001b[0;32mfor\u001b[0m \u001b[0mselected_value\u001b[0m \u001b[0;32min\u001b[0m \u001b[0mself\u001b[0m\u001b[0;34m.\u001b[0m\u001b[0mapply_method\u001b[0m\u001b[0;34m(\u001b[0m\u001b[0mselected_values\u001b[0m\u001b[0;34m)\u001b[0m\u001b[0;34m:\u001b[0m\u001b[0;34m\u001b[0m\u001b[0;34m\u001b[0m\u001b[0m\n\u001b[1;32m     68\u001b[0m                 \u001b[0mtemplate_command_pool\u001b[0m\u001b[0;34m.\u001b[0m\u001b[0mappend\u001b[0m\u001b[0;34m(\u001b[0m\u001b[0mre\u001b[0m\u001b[0;34m.\u001b[0m\u001b[0msub\u001b[0m\u001b[0;34m(\u001b[0m\u001b[0;34m&#39;{&#39;\u001b[0m \u001b[0;34m+\u001b[0m \u001b[0mtag\u001b[0m \u001b[0;34m+\u001b[0m \u001b[0;34m&#39;}&#39;\u001b[0m\u001b[0;34m,\u001b[0m \u001b[0mselected_value\u001b[0m\u001b[0;34m,\u001b[0m \u001b[0mtemplate\u001b[0m\u001b[0;34m,\u001b[0m \u001b[0;36m1\u001b[0m\u001b[0;34m)\u001b[0m\u001b[0;34m)\u001b[0m\u001b[0;34m\u001b[0m\u001b[0;34m\u001b[0m\u001b[0m\n",
      "\u001b[0;32m~/EPFL/PDM/generator/generator/module.py\u001b[0m in \u001b[0;36mget_value_from_tag\u001b[0;34m(self, tag, target_lang)\u001b[0m\n\u001b[1;32m     30\u001b[0m         \u001b[0mvalues_pool\u001b[0m \u001b[0;34m=\u001b[0m \u001b[0;34m[\u001b[0m\u001b[0;34m]\u001b[0m\u001b[0;34m\u001b[0m\u001b[0;34m\u001b[0m\u001b[0m\n\u001b[1;32m     31\u001b[0m         \u001b[0;32mfor\u001b[0m \u001b[0mselected_entity\u001b[0m \u001b[0;32min\u001b[0m \u001b[0mselected_entities\u001b[0m\u001b[0;34m:\u001b[0m\u001b[0;34m\u001b[0m\u001b[0;34m\u001b[0m\u001b[0m\n\u001b[0;32m---&gt; 32\u001b[0;31m             \u001b[0maliases\u001b[0m \u001b[0;34m=\u001b[0m \u001b[0mselected_entity\u001b[0m\u001b[0;34m[\u001b[0m\u001b[0;34m&#39;aliases&#39;\u001b[0m\u001b[0;34m]\u001b[0m\u001b[0;34m.\u001b[0m\u001b[0mvalues\u001b[0m\u001b[0;34m[\u001b[0m\u001b[0;36m0\u001b[0m\u001b[0;34m]\u001b[0m\u001b[0;34m\u001b[0m\u001b[0;34m\u001b[0m\u001b[0m\n\u001b[0m\u001b[1;32m     33\u001b[0m             \u001b[0mvalue\u001b[0m \u001b[0;34m=\u001b[0m \u001b[0;34m[\u001b[0m\u001b[0mselected_entity\u001b[0m\u001b[0;34m[\u001b[0m\u001b[0;34m&#39;value&#39;\u001b[0m\u001b[0;34m]\u001b[0m\u001b[0;34m.\u001b[0m\u001b[0mvalues\u001b[0m\u001b[0;34m[\u001b[0m\u001b[0;36m0\u001b[0m\u001b[0;34m]\u001b[0m\u001b[0;34m]\u001b[0m\u001b[0;34m\u001b[0m\u001b[0;34m\u001b[0m\u001b[0m\n\u001b[1;32m     34\u001b[0m             \u001b[0mnormalized_value\u001b[0m \u001b[0;34m=\u001b[0m \u001b[0;34m[\u001b[0m\u001b[0mselected_entity\u001b[0m\u001b[0;34m[\u001b[0m\u001b[0;34m&#39;normalizedValue&#39;\u001b[0m\u001b[0;34m]\u001b[0m\u001b[0;34m.\u001b[0m\u001b[0mvalues\u001b[0m\u001b[0;34m[\u001b[0m\u001b[0;36m0\u001b[0m\u001b[0;34m]\u001b[0m\u001b[0;34m]\u001b[0m\u001b[0;34m\u001b[0m\u001b[0;34m\u001b[0m\u001b[0m\n",
      "\u001b[0;31mTypeError\u001b[0m: string indices must be integers"
     ]
    }
   ],
   "source": [
    "\n",
    "gen.get_command(target_id='MyCloud.OpenArea.Init.Utterance', \n",
    "                    target_lang='fr', \n",
    "                    verbose=True)"
   ]
  },
  {
   "cell_type": "code",
   "execution_count": 17,
   "metadata": {},
   "outputs": [
    {
     "output_type": "execute_result",
     "data": {
      "text/plain": "'wieder fernsehen'"
     },
     "metadata": {},
     "execution_count": 17
    }
   ],
   "source": [
    "normalizer = \n",
    "gen = Generator(templates=templates_updated, entities=entities)\n",
    "\n",
    "gen.generate_command(target_id='Tv.GenericExitToTv.Init.Utterance', \n",
    "                    target_lang='de', \n",
    "                    normalizer= normalizer)"
   ]
  },
  {
   "cell_type": "code",
   "execution_count": null,
   "metadata": {},
   "outputs": [],
   "source": [
    "pd.DataFrame()"
   ]
  }
 ],
 "metadata": {
  "kernelspec": {
   "name": "python37764bitjobpostingconda22929374449545e284a5643e9731aeaa",
   "display_name": "Python 3.7.7 64-bit ('jobposting': conda)",
   "metadata": {
    "interpreter": {
     "hash": "be9177f96cda1a47ee649a1fa453ad9b7424e7ec1c8a5fa4fe07b49f2dd75124"
    }
   }
  },
  "language_info": {
   "codemirror_mode": {
    "name": "ipython",
    "version": 3
   },
   "file_extension": ".py",
   "mimetype": "text/x-python",
   "name": "python",
   "nbconvert_exporter": "python",
   "pygments_lexer": "ipython3",
   "version": "3.7.7-final"
  }
 },
 "nbformat": 4,
 "nbformat_minor": 4
}