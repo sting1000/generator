{
 "cells": [
  {
   "cell_type": "markdown",
   "metadata": {},
   "source": [
    "# Get dataset"
   ]
  },
  {
   "cell_type": "code",
   "execution_count": 1,
   "metadata": {},
   "outputs": [],
   "source": [
    "import pandas as pd\n",
    "import numpy as np\n",
    "import random\n",
    "import re  "
   ]
  },
  {
   "cell_type": "markdown",
   "metadata": {},
   "source": [
    "## Templates"
   ]
  },
  {
   "source": [
    "# templates\n",
    "templates = pd.read_json(\"data/templates.json\")\n",
    "init_uttr_updated = pd.read_csv(\"data/InitUtterance_list_updated.csv\")\n",
    "templates_updated = templates.merge(init_uttr_updated, on='id')\n",
    "templates_updated = templates_updated[['id','de', 'fr', 'it', 'en']]\n",
    "templates_updated.head()"
   ],
   "cell_type": "code",
   "metadata": {},
   "execution_count": 2,
   "outputs": [
    {
     "output_type": "execute_result",
     "data": {
      "text/plain": "                                     id  \\\n0       MyCloud.OpenArea.Init.Utterance   \n1    Router.SwitchOnWiFi.Init.Utterance   \n2     Tv.GenericExitToTv.Init.Utterance   \n3   Router.SwitchOffWiFi.Init.Utterance   \n4  Tv.RadioChannelChange.Init.Utterance   \n\n                                                  de  \\\n0  {'texts': [{'ttsText': '{MyCloudArea} auf #myC...   \n1  {'texts': [{'ttsText': 'aktiviere das Wlan'}, ...   \n2  {'texts': [{'ttsText': 'gehe zurück zum Fernse...   \n3  {'texts': [{'ttsText': 'deaktiviere das Wlan'}...   \n4  {'texts': [{'ttsText': 'auf Radio {RadioChanne...   \n\n                                                  fr  \\\n0  {'texts': [{'ttsText': 'afficher {MyCloudArea}...   \n1  {'texts': [{'ttsText': 'active le Wi-Fi'}, {'t...   \n2  {'texts': [{'ttsText': 'revenir à la télé'}, {...   \n3  {'texts': [{'ttsText': 'désactiver le Wi-Fi'},...   \n4  {'texts': [{'ttsText': 'prendre radio {RadioCh...   \n\n                                                  it  \\\n0  {'texts': [{'ttsText': 'apri {MyCloudArea} su ...   \n1  {'texts': [{'ttsText': 'attiva il #wifi'}, {'t...   \n2  {'texts': [{'ttsText': 'torna alla TV'}, {'tts...   \n3  {'texts': [{'ttsText': 'disattiva il wifi'}, {...   \n4  {'texts': [{'ttsText': 'metti radio {RadioChan...   \n\n                                                  en  \n0  {'texts': [{'ttsText': 'show {MyCloudArea} on ...  \n1  {'texts': [{'ttsText': 'activate the Wi-Fi'}, ...  \n2  {'texts': [{'ttsText': 'back to TV'}, {'ttsTex...  \n3  {'texts': [{'ttsText': 'can you please switch ...  \n4  {'texts': [{'ttsText': 'can you turn on radio ...  ",
      "text/html": "<div>\n<style scoped>\n    .dataframe tbody tr th:only-of-type {\n        vertical-align: middle;\n    }\n\n    .dataframe tbody tr th {\n        vertical-align: top;\n    }\n\n    .dataframe thead th {\n        text-align: right;\n    }\n</style>\n<table border=\"1\" class=\"dataframe\">\n  <thead>\n    <tr style=\"text-align: right;\">\n      <th></th>\n      <th>id</th>\n      <th>de</th>\n      <th>fr</th>\n      <th>it</th>\n      <th>en</th>\n    </tr>\n  </thead>\n  <tbody>\n    <tr>\n      <th>0</th>\n      <td>MyCloud.OpenArea.Init.Utterance</td>\n      <td>{'texts': [{'ttsText': '{MyCloudArea} auf #myC...</td>\n      <td>{'texts': [{'ttsText': 'afficher {MyCloudArea}...</td>\n      <td>{'texts': [{'ttsText': 'apri {MyCloudArea} su ...</td>\n      <td>{'texts': [{'ttsText': 'show {MyCloudArea} on ...</td>\n    </tr>\n    <tr>\n      <th>1</th>\n      <td>Router.SwitchOnWiFi.Init.Utterance</td>\n      <td>{'texts': [{'ttsText': 'aktiviere das Wlan'}, ...</td>\n      <td>{'texts': [{'ttsText': 'active le Wi-Fi'}, {'t...</td>\n      <td>{'texts': [{'ttsText': 'attiva il #wifi'}, {'t...</td>\n      <td>{'texts': [{'ttsText': 'activate the Wi-Fi'}, ...</td>\n    </tr>\n    <tr>\n      <th>2</th>\n      <td>Tv.GenericExitToTv.Init.Utterance</td>\n      <td>{'texts': [{'ttsText': 'gehe zurück zum Fernse...</td>\n      <td>{'texts': [{'ttsText': 'revenir à la télé'}, {...</td>\n      <td>{'texts': [{'ttsText': 'torna alla TV'}, {'tts...</td>\n      <td>{'texts': [{'ttsText': 'back to TV'}, {'ttsTex...</td>\n    </tr>\n    <tr>\n      <th>3</th>\n      <td>Router.SwitchOffWiFi.Init.Utterance</td>\n      <td>{'texts': [{'ttsText': 'deaktiviere das Wlan'}...</td>\n      <td>{'texts': [{'ttsText': 'désactiver le Wi-Fi'},...</td>\n      <td>{'texts': [{'ttsText': 'disattiva il wifi'}, {...</td>\n      <td>{'texts': [{'ttsText': 'can you please switch ...</td>\n    </tr>\n    <tr>\n      <th>4</th>\n      <td>Tv.RadioChannelChange.Init.Utterance</td>\n      <td>{'texts': [{'ttsText': 'auf Radio {RadioChanne...</td>\n      <td>{'texts': [{'ttsText': 'prendre radio {RadioCh...</td>\n      <td>{'texts': [{'ttsText': 'metti radio {RadioChan...</td>\n      <td>{'texts': [{'ttsText': 'can you turn on radio ...</td>\n    </tr>\n  </tbody>\n</table>\n</div>"
     },
     "metadata": {},
     "execution_count": 2
    }
   ]
  },
  {
   "cell_type": "code",
   "execution_count": 3,
   "metadata": {
    "scrolled": true
   },
   "outputs": [
    {
     "output_type": "execute_result",
     "data": {
      "text/plain": "                                  id  \\\ncount                             39   \nunique                            39   \ntop     Tv.OpenUiArea.Init.Utterance   \nfreq                               1   \n\n                                                       de  \\\ncount                                                  39   \nunique                                                 39   \ntop     {'texts': [{'ttsText': '{SmartHomeSceneName} S...   \nfreq                                                    1   \n\n                                                       fr  \\\ncount                                                  39   \nunique                                                 39   \ntop     {'texts': [{'ttsText': 'activer scène {SmartHo...   \nfreq                                                    1   \n\n                                                       it  \\\ncount                                                  39   \nunique                                                 39   \ntop     {'texts': [{'ttsText': 'attiva scena {SmartHom...   \nfreq                                                    1   \n\n                                                       en  \ncount                                                  39  \nunique                                                 39  \ntop     {'texts': [{'ttsText': 'activate {SmartHomeSce...  \nfreq                                                    1  ",
      "text/html": "<div>\n<style scoped>\n    .dataframe tbody tr th:only-of-type {\n        vertical-align: middle;\n    }\n\n    .dataframe tbody tr th {\n        vertical-align: top;\n    }\n\n    .dataframe thead th {\n        text-align: right;\n    }\n</style>\n<table border=\"1\" class=\"dataframe\">\n  <thead>\n    <tr style=\"text-align: right;\">\n      <th></th>\n      <th>id</th>\n      <th>de</th>\n      <th>fr</th>\n      <th>it</th>\n      <th>en</th>\n    </tr>\n  </thead>\n  <tbody>\n    <tr>\n      <th>count</th>\n      <td>39</td>\n      <td>39</td>\n      <td>39</td>\n      <td>39</td>\n      <td>39</td>\n    </tr>\n    <tr>\n      <th>unique</th>\n      <td>39</td>\n      <td>39</td>\n      <td>39</td>\n      <td>39</td>\n      <td>39</td>\n    </tr>\n    <tr>\n      <th>top</th>\n      <td>Tv.OpenUiArea.Init.Utterance</td>\n      <td>{'texts': [{'ttsText': '{SmartHomeSceneName} S...</td>\n      <td>{'texts': [{'ttsText': 'activer scène {SmartHo...</td>\n      <td>{'texts': [{'ttsText': 'attiva scena {SmartHom...</td>\n      <td>{'texts': [{'ttsText': 'activate {SmartHomeSce...</td>\n    </tr>\n    <tr>\n      <th>freq</th>\n      <td>1</td>\n      <td>1</td>\n      <td>1</td>\n      <td>1</td>\n      <td>1</td>\n    </tr>\n  </tbody>\n</table>\n</div>"
     },
     "metadata": {},
     "execution_count": 3
    }
   ],
   "source": [
    "templates_updated.describe()"
   ]
  },
  {
   "cell_type": "markdown",
   "metadata": {},
   "source": [
    "## Entities"
   ]
  },
  {
   "cell_type": "code",
   "execution_count": 4,
   "metadata": {
    "scrolled": true
   },
   "outputs": [
    {
     "output_type": "execute_result",
     "data": {
      "text/plain": "       value                 type language normalizedValue aliases\n0     Widnau  LocalsearchLocation       de          widnau      []\n1     Zurigo  LocalsearchLocation       it          zurigo      []\n2  Solothurn  LocalsearchLocation       de       solothurn      []\n3    Muttenz  LocalsearchLocation       de         muttenz      []\n4       Lyss  LocalsearchLocation       de            lyss      []",
      "text/html": "<div>\n<style scoped>\n    .dataframe tbody tr th:only-of-type {\n        vertical-align: middle;\n    }\n\n    .dataframe tbody tr th {\n        vertical-align: top;\n    }\n\n    .dataframe thead th {\n        text-align: right;\n    }\n</style>\n<table border=\"1\" class=\"dataframe\">\n  <thead>\n    <tr style=\"text-align: right;\">\n      <th></th>\n      <th>value</th>\n      <th>type</th>\n      <th>language</th>\n      <th>normalizedValue</th>\n      <th>aliases</th>\n    </tr>\n  </thead>\n  <tbody>\n    <tr>\n      <th>0</th>\n      <td>Widnau</td>\n      <td>LocalsearchLocation</td>\n      <td>de</td>\n      <td>widnau</td>\n      <td>[]</td>\n    </tr>\n    <tr>\n      <th>1</th>\n      <td>Zurigo</td>\n      <td>LocalsearchLocation</td>\n      <td>it</td>\n      <td>zurigo</td>\n      <td>[]</td>\n    </tr>\n    <tr>\n      <th>2</th>\n      <td>Solothurn</td>\n      <td>LocalsearchLocation</td>\n      <td>de</td>\n      <td>solothurn</td>\n      <td>[]</td>\n    </tr>\n    <tr>\n      <th>3</th>\n      <td>Muttenz</td>\n      <td>LocalsearchLocation</td>\n      <td>de</td>\n      <td>muttenz</td>\n      <td>[]</td>\n    </tr>\n    <tr>\n      <th>4</th>\n      <td>Lyss</td>\n      <td>LocalsearchLocation</td>\n      <td>de</td>\n      <td>lyss</td>\n      <td>[]</td>\n    </tr>\n  </tbody>\n</table>\n</div>"
     },
     "metadata": {},
     "execution_count": 4
    }
   ],
   "source": [
    "# entities\n",
    "entities = pd.read_json(\"data/entities.json\")\n",
    "entities = entities[['value', 'type', 'language', 'normalizedValue', 'aliases']]\n",
    "entities.head()"
   ]
  },
  {
   "cell_type": "code",
   "execution_count": 5,
   "metadata": {},
   "outputs": [
    {
     "output_type": "execute_result",
     "data": {
      "text/plain": "        value        type language normalizedValue aliases\ncount   65471       65471    65471           65471   65471\nunique  51272          33        4           52082    3793\ntop      Golf  SeriesName       de            golf      []\nfreq       20       17913    22746              20   59649",
      "text/html": "<div>\n<style scoped>\n    .dataframe tbody tr th:only-of-type {\n        vertical-align: middle;\n    }\n\n    .dataframe tbody tr th {\n        vertical-align: top;\n    }\n\n    .dataframe thead th {\n        text-align: right;\n    }\n</style>\n<table border=\"1\" class=\"dataframe\">\n  <thead>\n    <tr style=\"text-align: right;\">\n      <th></th>\n      <th>value</th>\n      <th>type</th>\n      <th>language</th>\n      <th>normalizedValue</th>\n      <th>aliases</th>\n    </tr>\n  </thead>\n  <tbody>\n    <tr>\n      <th>count</th>\n      <td>65471</td>\n      <td>65471</td>\n      <td>65471</td>\n      <td>65471</td>\n      <td>65471</td>\n    </tr>\n    <tr>\n      <th>unique</th>\n      <td>51272</td>\n      <td>33</td>\n      <td>4</td>\n      <td>52082</td>\n      <td>3793</td>\n    </tr>\n    <tr>\n      <th>top</th>\n      <td>Golf</td>\n      <td>SeriesName</td>\n      <td>de</td>\n      <td>golf</td>\n      <td>[]</td>\n    </tr>\n    <tr>\n      <th>freq</th>\n      <td>20</td>\n      <td>17913</td>\n      <td>22746</td>\n      <td>20</td>\n      <td>59649</td>\n    </tr>\n  </tbody>\n</table>\n</div>"
     },
     "metadata": {},
     "execution_count": 5
    }
   ],
   "source": [
    "entities.describe()"
   ]
  },
  {
   "cell_type": "markdown",
   "metadata": {},
   "source": [
    "# Explore data"
   ]
  },
  {
   "cell_type": "markdown",
   "metadata": {},
   "source": [
    "### Entities catagorical count"
   ]
  },
  {
   "cell_type": "code",
   "execution_count": 6,
   "metadata": {
    "scrolled": true
   },
   "outputs": [
    {
     "output_type": "execute_result",
     "data": {
      "text/plain": "language                     de      en      fr      it\ntype                                                   \nAlbumName                   NaN  1479.0     NaN     NaN\nAppName                   326.0   273.0   312.0   290.0\nAreaName                   26.0    26.0    26.0    26.0\nArtistName                  NaN   822.0     NaN     NaN\nBroadcastName             715.0   483.0   676.0   663.0\nCallingNumberType           3.0     4.0     4.0     4.0\nClipName                  353.0   320.0   342.0   338.0\nDossierName                 8.0     3.0     5.0     3.0\nFirstName                 952.0     NaN     NaN     NaN\nGenreName                   NaN     8.0     NaN     NaN\nLastName                  998.0     NaN     NaN     NaN\nLocalsearchLocation      3403.0    28.0  1909.0  1572.0\nMyCloudArea                 5.0     5.0     5.0     5.0\nNickName                   20.0    25.0    21.0    20.0\nParticipantName          2710.0   297.0  1473.0   575.0\nRadioChannelName          366.0   365.0   365.0   365.0\nSeriesName               6186.0  3281.0  4766.0  3680.0\nSmartHomeDeviceBrand        8.0    10.0    10.0     9.0\nSmartHomeDeviceCategory     5.0     5.0     5.0     5.0\nSmartHomeDeviceLocation     9.0     9.0     9.0     9.0\nSmartHomeDeviceName       100.0   100.0   100.0   101.0\nSmartHomeSceneName         50.0    49.0    50.0    50.0\nSportCompetitionName       20.0    20.0    20.0    20.0\nSportEventName            206.0   207.0   203.0   207.0\nSportParticipantName      432.0   432.0   432.0   432.0\nSportSportsName            10.0    10.0    10.0    10.0\nTrackName                   NaN  2701.0     NaN     NaN\nTvChannelName             635.0   623.0   633.0   633.0\nTvGenre                   137.0   131.0   131.0   127.0\nVodGenre                   99.0   107.0    99.0    99.0\nVodName                  4961.0  4209.0  3760.0  2083.0\nentitytype_1                1.0     NaN     NaN     NaN\ntest_aliasesTest            2.0     NaN     1.0     NaN",
      "text/html": "<div>\n<style scoped>\n    .dataframe tbody tr th:only-of-type {\n        vertical-align: middle;\n    }\n\n    .dataframe tbody tr th {\n        vertical-align: top;\n    }\n\n    .dataframe thead th {\n        text-align: right;\n    }\n</style>\n<table border=\"1\" class=\"dataframe\">\n  <thead>\n    <tr style=\"text-align: right;\">\n      <th>language</th>\n      <th>de</th>\n      <th>en</th>\n      <th>fr</th>\n      <th>it</th>\n    </tr>\n    <tr>\n      <th>type</th>\n      <th></th>\n      <th></th>\n      <th></th>\n      <th></th>\n    </tr>\n  </thead>\n  <tbody>\n    <tr>\n      <th>AlbumName</th>\n      <td>NaN</td>\n      <td>1479.0</td>\n      <td>NaN</td>\n      <td>NaN</td>\n    </tr>\n    <tr>\n      <th>AppName</th>\n      <td>326.0</td>\n      <td>273.0</td>\n      <td>312.0</td>\n      <td>290.0</td>\n    </tr>\n    <tr>\n      <th>AreaName</th>\n      <td>26.0</td>\n      <td>26.0</td>\n      <td>26.0</td>\n      <td>26.0</td>\n    </tr>\n    <tr>\n      <th>ArtistName</th>\n      <td>NaN</td>\n      <td>822.0</td>\n      <td>NaN</td>\n      <td>NaN</td>\n    </tr>\n    <tr>\n      <th>BroadcastName</th>\n      <td>715.0</td>\n      <td>483.0</td>\n      <td>676.0</td>\n      <td>663.0</td>\n    </tr>\n    <tr>\n      <th>CallingNumberType</th>\n      <td>3.0</td>\n      <td>4.0</td>\n      <td>4.0</td>\n      <td>4.0</td>\n    </tr>\n    <tr>\n      <th>ClipName</th>\n      <td>353.0</td>\n      <td>320.0</td>\n      <td>342.0</td>\n      <td>338.0</td>\n    </tr>\n    <tr>\n      <th>DossierName</th>\n      <td>8.0</td>\n      <td>3.0</td>\n      <td>5.0</td>\n      <td>3.0</td>\n    </tr>\n    <tr>\n      <th>FirstName</th>\n      <td>952.0</td>\n      <td>NaN</td>\n      <td>NaN</td>\n      <td>NaN</td>\n    </tr>\n    <tr>\n      <th>GenreName</th>\n      <td>NaN</td>\n      <td>8.0</td>\n      <td>NaN</td>\n      <td>NaN</td>\n    </tr>\n    <tr>\n      <th>LastName</th>\n      <td>998.0</td>\n      <td>NaN</td>\n      <td>NaN</td>\n      <td>NaN</td>\n    </tr>\n    <tr>\n      <th>LocalsearchLocation</th>\n      <td>3403.0</td>\n      <td>28.0</td>\n      <td>1909.0</td>\n      <td>1572.0</td>\n    </tr>\n    <tr>\n      <th>MyCloudArea</th>\n      <td>5.0</td>\n      <td>5.0</td>\n      <td>5.0</td>\n      <td>5.0</td>\n    </tr>\n    <tr>\n      <th>NickName</th>\n      <td>20.0</td>\n      <td>25.0</td>\n      <td>21.0</td>\n      <td>20.0</td>\n    </tr>\n    <tr>\n      <th>ParticipantName</th>\n      <td>2710.0</td>\n      <td>297.0</td>\n      <td>1473.0</td>\n      <td>575.0</td>\n    </tr>\n    <tr>\n      <th>RadioChannelName</th>\n      <td>366.0</td>\n      <td>365.0</td>\n      <td>365.0</td>\n      <td>365.0</td>\n    </tr>\n    <tr>\n      <th>SeriesName</th>\n      <td>6186.0</td>\n      <td>3281.0</td>\n      <td>4766.0</td>\n      <td>3680.0</td>\n    </tr>\n    <tr>\n      <th>SmartHomeDeviceBrand</th>\n      <td>8.0</td>\n      <td>10.0</td>\n      <td>10.0</td>\n      <td>9.0</td>\n    </tr>\n    <tr>\n      <th>SmartHomeDeviceCategory</th>\n      <td>5.0</td>\n      <td>5.0</td>\n      <td>5.0</td>\n      <td>5.0</td>\n    </tr>\n    <tr>\n      <th>SmartHomeDeviceLocation</th>\n      <td>9.0</td>\n      <td>9.0</td>\n      <td>9.0</td>\n      <td>9.0</td>\n    </tr>\n    <tr>\n      <th>SmartHomeDeviceName</th>\n      <td>100.0</td>\n      <td>100.0</td>\n      <td>100.0</td>\n      <td>101.0</td>\n    </tr>\n    <tr>\n      <th>SmartHomeSceneName</th>\n      <td>50.0</td>\n      <td>49.0</td>\n      <td>50.0</td>\n      <td>50.0</td>\n    </tr>\n    <tr>\n      <th>SportCompetitionName</th>\n      <td>20.0</td>\n      <td>20.0</td>\n      <td>20.0</td>\n      <td>20.0</td>\n    </tr>\n    <tr>\n      <th>SportEventName</th>\n      <td>206.0</td>\n      <td>207.0</td>\n      <td>203.0</td>\n      <td>207.0</td>\n    </tr>\n    <tr>\n      <th>SportParticipantName</th>\n      <td>432.0</td>\n      <td>432.0</td>\n      <td>432.0</td>\n      <td>432.0</td>\n    </tr>\n    <tr>\n      <th>SportSportsName</th>\n      <td>10.0</td>\n      <td>10.0</td>\n      <td>10.0</td>\n      <td>10.0</td>\n    </tr>\n    <tr>\n      <th>TrackName</th>\n      <td>NaN</td>\n      <td>2701.0</td>\n      <td>NaN</td>\n      <td>NaN</td>\n    </tr>\n    <tr>\n      <th>TvChannelName</th>\n      <td>635.0</td>\n      <td>623.0</td>\n      <td>633.0</td>\n      <td>633.0</td>\n    </tr>\n    <tr>\n      <th>TvGenre</th>\n      <td>137.0</td>\n      <td>131.0</td>\n      <td>131.0</td>\n      <td>127.0</td>\n    </tr>\n    <tr>\n      <th>VodGenre</th>\n      <td>99.0</td>\n      <td>107.0</td>\n      <td>99.0</td>\n      <td>99.0</td>\n    </tr>\n    <tr>\n      <th>VodName</th>\n      <td>4961.0</td>\n      <td>4209.0</td>\n      <td>3760.0</td>\n      <td>2083.0</td>\n    </tr>\n    <tr>\n      <th>entitytype_1</th>\n      <td>1.0</td>\n      <td>NaN</td>\n      <td>NaN</td>\n      <td>NaN</td>\n    </tr>\n    <tr>\n      <th>test_aliasesTest</th>\n      <td>2.0</td>\n      <td>NaN</td>\n      <td>1.0</td>\n      <td>NaN</td>\n    </tr>\n  </tbody>\n</table>\n</div>"
     },
     "metadata": {},
     "execution_count": 6
    }
   ],
   "source": [
    "df = entities[['type', 'language']]\n",
    "df = df.groupby(['type','language']).size().reset_index(name='count') \n",
    "df.pivot(index='type', columns='language', values='count')#.plot(kind='bar')"
   ]
  },
  {
   "source": [
    "### Generate correct command"
   ],
   "cell_type": "markdown",
   "metadata": {}
  },
  {
   "cell_type": "code",
   "execution_count": 25,
   "metadata": {
    "tags": []
   },
   "outputs": [
    {
     "output_type": "stream",
     "name": "stdout",
     "text": "Choose template: \n\tstell auf Radio {RadioChannelName}\nAfter tag removal: \n\tstell auf Radio radio austria\nAfter normalizer: \n\tstell auf radio radio austria\n"
    },
    {
     "output_type": "execute_result",
     "data": {
      "text/plain": "'stell auf radio radio austria'"
     },
     "metadata": {},
     "execution_count": 25
    }
   ],
   "source": [
    "from generator.module import Generator, Normalizer\n",
    "gen = Generator(templates=templates_updated, entities=entities)\n",
    "gen.get_command(target_id='Tv.RadioChannelChange.Init.Utterance', \n",
    "                target_lang='de', \n",
    "                normalizer= Normalizer().normalize_text,\n",
    "                verbose=True)"
   ]
  },
  {
   "cell_type": "code",
   "execution_count": 19,
   "metadata": {
    "tags": []
   },
   "outputs": [
    {
     "output_type": "stream",
     "name": "stdout",
     "text": "Choose template: \n\ttu peux m'afficher {MyCloudArea} sur #myCloud s'il te plaît\nAfter tag removal: \n\ttu peux m'afficher albums sur #myCloud s'il te plaît\nAfter normalizer: \n\ttu peux m'afficher albums sur mycloud s'il te plaît\n"
    },
    {
     "output_type": "execute_result",
     "data": {
      "text/plain": "\"tu peux m'afficher albums sur mycloud s'il te plaît\""
     },
     "metadata": {},
     "execution_count": 19
    }
   ],
   "source": [
    "\n",
    "gen.get_command(target_id='MyCloud.OpenArea.Init.Utterance', \n",
    "                    target_lang='fr', \n",
    "                    normalizer= Normalizer().normalize_text,\n",
    "                    verbose=True)"
   ]
  },
  {
   "cell_type": "code",
   "execution_count": 17,
   "metadata": {},
   "outputs": [
    {
     "output_type": "execute_result",
     "data": {
      "text/plain": "'wieder fernsehen'"
     },
     "metadata": {},
     "execution_count": 17
    }
   ],
   "source": [
    "normalizer = \n",
    "gen = Generator(templates=templates_updated, entities=entities)\n",
    "\n",
    "gen.generate_command(target_id='Tv.GenericExitToTv.Init.Utterance', \n",
    "                    target_lang='de', \n",
    "                    normalizer= normalizer)"
   ]
  },
  {
   "cell_type": "code",
   "execution_count": null,
   "metadata": {},
   "outputs": [],
   "source": [
    "pd.DataFrame()"
   ]
  }
 ],
 "metadata": {
  "kernelspec": {
   "name": "Python 3.6.12 64-bit ('pp': conda)",
   "display_name": "Python 3.6.12 64-bit ('pp': conda)",
   "metadata": {
    "interpreter": {
     "hash": "be9177f96cda1a47ee649a1fa453ad9b7424e7ec1c8a5fa4fe07b49f2dd75124"
    }
   }
  },
  "language_info": {
   "codemirror_mode": {
    "name": "ipython",
    "version": 3
   },
   "file_extension": ".py",
   "mimetype": "text/x-python",
   "name": "python",
   "nbconvert_exporter": "python",
   "pygments_lexer": "ipython3",
   "version": "3.6.12-final"
  }
 },
 "nbformat": 4,
 "nbformat_minor": 4
}