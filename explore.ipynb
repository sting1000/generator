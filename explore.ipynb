{
 "cells": [
  {
   "cell_type": "markdown",
   "metadata": {},
   "source": [
    "# Dataset Generation"
   ]
  },
  {
   "cell_type": "code",
   "execution_count": 15,
   "metadata": {
    "tags": []
   },
   "outputs": [
    {
     "name": "stdout",
     "output_type": "stream",
     "text": [
      "The autoreload extension is already loaded. To reload it, use:\n",
      "  %reload_ext autoreload\n"
     ]
    }
   ],
   "source": [
    "import pandas as pd\n",
    "import warnings\n",
    "warnings.filterwarnings('ignore')\n",
    "%load_ext autoreload\n",
    "%autoreload 2"
   ]
  },
  {
   "cell_type": "markdown",
   "metadata": {},
   "source": [
    "## Templates\n",
    "we have 39 kinds of templates for 4 languages, but we only use 'de' and 'en' here for testing."
   ]
  },
  {
   "source": [
    "# templates\n",
    "templates = pd.read_json(\"data/templates.json\")\n",
    "init_uttr_updated = pd.read_csv(\"data/InitUtterance_list_updated.csv\")\n",
    "templates_updated = templates.merge(init_uttr_updated, on='id')\n",
    "templates_updated = templates_updated[['id', 'de', 'en']] #'fr', 'it',\n",
    "templates_updated.head()"
   ],
   "cell_type": "code",
   "metadata": {},
   "execution_count": 2,
   "outputs": [
    {
     "data": {
      "text/plain": "                                     id  \\\n0       MyCloud.OpenArea.Init.Utterance   \n1    Router.SwitchOnWiFi.Init.Utterance   \n2     Tv.GenericExitToTv.Init.Utterance   \n3   Router.SwitchOffWiFi.Init.Utterance   \n4  Tv.RadioChannelChange.Init.Utterance   \n\n                                                  de  \\\n0  {'texts': [{'ttsText': '{MyCloudArea} auf #myC...   \n1  {'texts': [{'ttsText': 'aktiviere das Wlan'}, ...   \n2  {'texts': [{'ttsText': 'gehe zurück zum Fernse...   \n3  {'texts': [{'ttsText': 'deaktiviere das Wlan'}...   \n4  {'texts': [{'ttsText': 'auf Radio {RadioChanne...   \n\n                                                  en  \n0  {'texts': [{'ttsText': 'show {MyCloudArea} on ...  \n1  {'texts': [{'ttsText': 'activate the Wi-Fi'}, ...  \n2  {'texts': [{'ttsText': 'back to TV'}, {'ttsTex...  \n3  {'texts': [{'ttsText': 'can you please switch ...  \n4  {'texts': [{'ttsText': 'can you turn on radio ...  ",
      "text/html": "<div>\n<style scoped>\n    .dataframe tbody tr th:only-of-type {\n        vertical-align: middle;\n    }\n\n    .dataframe tbody tr th {\n        vertical-align: top;\n    }\n\n    .dataframe thead th {\n        text-align: right;\n    }\n</style>\n<table border=\"1\" class=\"dataframe\">\n  <thead>\n    <tr style=\"text-align: right;\">\n      <th></th>\n      <th>id</th>\n      <th>de</th>\n      <th>en</th>\n    </tr>\n  </thead>\n  <tbody>\n    <tr>\n      <th>0</th>\n      <td>MyCloud.OpenArea.Init.Utterance</td>\n      <td>{'texts': [{'ttsText': '{MyCloudArea} auf #myC...</td>\n      <td>{'texts': [{'ttsText': 'show {MyCloudArea} on ...</td>\n    </tr>\n    <tr>\n      <th>1</th>\n      <td>Router.SwitchOnWiFi.Init.Utterance</td>\n      <td>{'texts': [{'ttsText': 'aktiviere das Wlan'}, ...</td>\n      <td>{'texts': [{'ttsText': 'activate the Wi-Fi'}, ...</td>\n    </tr>\n    <tr>\n      <th>2</th>\n      <td>Tv.GenericExitToTv.Init.Utterance</td>\n      <td>{'texts': [{'ttsText': 'gehe zurück zum Fernse...</td>\n      <td>{'texts': [{'ttsText': 'back to TV'}, {'ttsTex...</td>\n    </tr>\n    <tr>\n      <th>3</th>\n      <td>Router.SwitchOffWiFi.Init.Utterance</td>\n      <td>{'texts': [{'ttsText': 'deaktiviere das Wlan'}...</td>\n      <td>{'texts': [{'ttsText': 'can you please switch ...</td>\n    </tr>\n    <tr>\n      <th>4</th>\n      <td>Tv.RadioChannelChange.Init.Utterance</td>\n      <td>{'texts': [{'ttsText': 'auf Radio {RadioChanne...</td>\n      <td>{'texts': [{'ttsText': 'can you turn on radio ...</td>\n    </tr>\n  </tbody>\n</table>\n</div>"
     },
     "execution_count": 2,
     "metadata": {},
     "output_type": "execute_result"
    }
   ]
  },
  {
   "cell_type": "code",
   "execution_count": 3,
   "metadata": {
    "scrolled": true
   },
   "outputs": [
    {
     "data": {
      "text/plain": "                                    id  \\\ncount                               39   \nunique                              39   \ntop     Tv.VolumeUnmute.Init.Utterance   \nfreq                                 1   \n\n                                                       de  \\\ncount                                                  39   \nunique                                                 39   \ntop     {'texts': [{'ttsText': '{SmartHomeSceneName} S...   \nfreq                                                    1   \n\n                                                       en  \ncount                                                  39  \nunique                                                 39  \ntop     {'texts': [{'ttsText': 'activate {SmartHomeSce...  \nfreq                                                    1  ",
      "text/html": "<div>\n<style scoped>\n    .dataframe tbody tr th:only-of-type {\n        vertical-align: middle;\n    }\n\n    .dataframe tbody tr th {\n        vertical-align: top;\n    }\n\n    .dataframe thead th {\n        text-align: right;\n    }\n</style>\n<table border=\"1\" class=\"dataframe\">\n  <thead>\n    <tr style=\"text-align: right;\">\n      <th></th>\n      <th>id</th>\n      <th>de</th>\n      <th>en</th>\n    </tr>\n  </thead>\n  <tbody>\n    <tr>\n      <th>count</th>\n      <td>39</td>\n      <td>39</td>\n      <td>39</td>\n    </tr>\n    <tr>\n      <th>unique</th>\n      <td>39</td>\n      <td>39</td>\n      <td>39</td>\n    </tr>\n    <tr>\n      <th>top</th>\n      <td>Tv.VolumeUnmute.Init.Utterance</td>\n      <td>{'texts': [{'ttsText': '{SmartHomeSceneName} S...</td>\n      <td>{'texts': [{'ttsText': 'activate {SmartHomeSce...</td>\n    </tr>\n    <tr>\n      <th>freq</th>\n      <td>1</td>\n      <td>1</td>\n      <td>1</td>\n    </tr>\n  </tbody>\n</table>\n</div>"
     },
     "execution_count": 3,
     "metadata": {},
     "output_type": "execute_result"
    }
   ],
   "source": [
    "templates_updated.describe()"
   ]
  },
  {
   "cell_type": "markdown",
   "metadata": {},
   "source": [
    "## Entities\n",
    "65K entities of 33 different types are included.\n",
    "1/3 of them are from German environment."
   ]
  },
  {
   "cell_type": "code",
   "execution_count": 3,
   "metadata": {
    "scrolled": true
   },
   "outputs": [
    {
     "data": {
      "text/plain": "       value                 type language normalizedValue aliases\n0     Widnau  LocalsearchLocation       de          widnau      []\n1     Zurigo  LocalsearchLocation       it          zurigo      []\n2  Solothurn  LocalsearchLocation       de       solothurn      []\n3    Muttenz  LocalsearchLocation       de         muttenz      []\n4       Lyss  LocalsearchLocation       de            lyss      []",
      "text/html": "<div>\n<style scoped>\n    .dataframe tbody tr th:only-of-type {\n        vertical-align: middle;\n    }\n\n    .dataframe tbody tr th {\n        vertical-align: top;\n    }\n\n    .dataframe thead th {\n        text-align: right;\n    }\n</style>\n<table border=\"1\" class=\"dataframe\">\n  <thead>\n    <tr style=\"text-align: right;\">\n      <th></th>\n      <th>value</th>\n      <th>type</th>\n      <th>language</th>\n      <th>normalizedValue</th>\n      <th>aliases</th>\n    </tr>\n  </thead>\n  <tbody>\n    <tr>\n      <th>0</th>\n      <td>Widnau</td>\n      <td>LocalsearchLocation</td>\n      <td>de</td>\n      <td>widnau</td>\n      <td>[]</td>\n    </tr>\n    <tr>\n      <th>1</th>\n      <td>Zurigo</td>\n      <td>LocalsearchLocation</td>\n      <td>it</td>\n      <td>zurigo</td>\n      <td>[]</td>\n    </tr>\n    <tr>\n      <th>2</th>\n      <td>Solothurn</td>\n      <td>LocalsearchLocation</td>\n      <td>de</td>\n      <td>solothurn</td>\n      <td>[]</td>\n    </tr>\n    <tr>\n      <th>3</th>\n      <td>Muttenz</td>\n      <td>LocalsearchLocation</td>\n      <td>de</td>\n      <td>muttenz</td>\n      <td>[]</td>\n    </tr>\n    <tr>\n      <th>4</th>\n      <td>Lyss</td>\n      <td>LocalsearchLocation</td>\n      <td>de</td>\n      <td>lyss</td>\n      <td>[]</td>\n    </tr>\n  </tbody>\n</table>\n</div>"
     },
     "execution_count": 3,
     "metadata": {},
     "output_type": "execute_result"
    }
   ],
   "source": [
    "# entities\n",
    "entities = pd.read_json(\"data/entities.json\")\n",
    "entities = entities[['value', 'type', 'language', 'normalizedValue', 'aliases']]\n",
    "entities.head()"
   ]
  },
  {
   "cell_type": "code",
   "execution_count": 5,
   "metadata": {},
   "outputs": [
    {
     "data": {
      "text/plain": "        value        type language normalizedValue aliases\ncount   65471       65471    65471           65471   65471\nunique  51272          33        4           52082    3793\ntop      Golf  SeriesName       de            golf      []\nfreq       20       17913    22746              20   59649",
      "text/html": "<div>\n<style scoped>\n    .dataframe tbody tr th:only-of-type {\n        vertical-align: middle;\n    }\n\n    .dataframe tbody tr th {\n        vertical-align: top;\n    }\n\n    .dataframe thead th {\n        text-align: right;\n    }\n</style>\n<table border=\"1\" class=\"dataframe\">\n  <thead>\n    <tr style=\"text-align: right;\">\n      <th></th>\n      <th>value</th>\n      <th>type</th>\n      <th>language</th>\n      <th>normalizedValue</th>\n      <th>aliases</th>\n    </tr>\n  </thead>\n  <tbody>\n    <tr>\n      <th>count</th>\n      <td>65471</td>\n      <td>65471</td>\n      <td>65471</td>\n      <td>65471</td>\n      <td>65471</td>\n    </tr>\n    <tr>\n      <th>unique</th>\n      <td>51272</td>\n      <td>33</td>\n      <td>4</td>\n      <td>52082</td>\n      <td>3793</td>\n    </tr>\n    <tr>\n      <th>top</th>\n      <td>Golf</td>\n      <td>SeriesName</td>\n      <td>de</td>\n      <td>golf</td>\n      <td>[]</td>\n    </tr>\n    <tr>\n      <th>freq</th>\n      <td>20</td>\n      <td>17913</td>\n      <td>22746</td>\n      <td>20</td>\n      <td>59649</td>\n    </tr>\n  </tbody>\n</table>\n</div>"
     },
     "execution_count": 5,
     "metadata": {},
     "output_type": "execute_result"
    }
   ],
   "source": [
    "entities.describe()\n"
   ]
  },
  {
   "cell_type": "code",
   "execution_count": 4,
   "metadata": {
    "scrolled": true
   },
   "outputs": [
    {
     "data": {
      "text/plain": "<Figure size 1080x360 with 1 Axes>",
      "image/png": "[encoded data removed]"
     },
     "metadata": {
      "needs_background": "light"
     },
     "output_type": "display_data"
    }
   ],
   "source": [
    "df = entities[['type', 'language']]\n",
    "df = df.groupby(['type','language']).size().reset_index(name='count')\n",
    "df2 = df.pivot(index='type', columns='language', values='count')\n",
    "df2['sum'] = 0\n",
    "df2 = df2.fillna(0)\n",
    "for lang in ['de', 'en', 'fr', 'it',]:\n",
    "    df2['sum'] += df2[lang]\n",
    "# df.sort_values('count', ascending=False)\n",
    "p = df2.sort_values('sum', ascending=False)[['de', 'en', 'fr', 'it']].plot(kind='bar', figsize=(15, 5))"
   ]
  },
  {
   "source": [
    "### Find the representative\n",
    "One entity usually has various name, thus, to improve speed, we need to find the representative ones that could retrieve all.\n",
    "Considering the speaking speed and noise of ASR, we decide to:\n",
    "1. Combine abbreviation as a upper case word (s r f, S R F -> SRF)\n",
    "2. Keep the uppercase one if two words spell same (Schweiz, schweiz -> Schweiz)"
   ],
   "cell_type": "markdown",
   "metadata": {}
  },
  {
   "cell_type": "code",
   "execution_count": 5,
   "metadata": {
    "tags": []
   },
   "outputs": [
    {
     "data": {
      "text/plain": "['TF 3']"
     },
     "execution_count": 5,
     "metadata": {},
     "output_type": "execute_result"
    }
   ],
   "source": [
    "# TODO: deal with case \"a\"\n",
    "from generator.tools import filter_aliases\n",
    "sample_aliases1 = [\n",
    "    \"TF 3\",         # value\n",
    "    \"TF three\",     # normalized\n",
    "    \"T F 3\",        # alias\n",
    "    \"t f three\",    # alias\n",
    "    \"t f 3\"         # alias\n",
    "    ]\n",
    "filter_aliases(sample_aliases1,'en')"
   ]
  },
  {
   "cell_type": "code",
   "execution_count": 6,
   "metadata": {
    "tags": []
   },
   "outputs": [
    {
     "data": {
      "text/plain": "['Schweizer',\n 'SRF',\n 'SRF eis',\n 'SRF einz',\n 'DRS',\n 'Schweiz 1',\n 'SRF 1',\n 'DRS 1',\n 'SR']"
     },
     "execution_count": 6,
     "metadata": {},
     "output_type": "execute_result"
    }
   ],
   "source": [
    "sample_aliases2 = [\n",
    "    \"S R F\",\n",
    "    \"s r f\",\n",
    "    \"SRF\",\n",
    "\n",
    "    \"SRF 1\",\n",
    "    \"S R F 1\",\n",
    "    \"s r f eins\",\n",
    "    \"SRF eins\",\n",
    "    \"SRF einz\",\n",
    "    \"S R F einz\",\n",
    "    \"S R F eis\",\n",
    "    \"s r f eis\",\n",
    "    \"s r f einz\",\n",
    "    \"SRF eis\",\n",
    "\n",
    "    \"D R S\",\n",
    "    \"D R S 1\",\n",
    "    \"DRS\",\n",
    "    \"d r s\",\n",
    "    \"DRS 1\",\n",
    "    \"d r s eins\",\n",
    "    \"DRS eins\",\n",
    "\n",
    "    \"schweizer\",\n",
    "    \"Schweizer\",\n",
    "    \"Schweiz 1\",\n",
    "    \"schweiz eins\"\n",
    "\t]\n",
    "filter_aliases(sample_aliases2, 'de')"
   ]
  },
  {
   "cell_type": "markdown",
   "source": [
    "## Read custom entities\n",
    "Since not all entity types in template are included in entity table, such as channel num/ date/ time,\n",
    "we need to create them according to language specific rules."
   ],
   "metadata": {
    "collapsed": false,
    "pycharm": {
     "name": "#%% md\n"
    }
   }
  },
  {
   "cell_type": "code",
   "execution_count": 7,
   "outputs": [],
   "source": [
    "# entities_custom\n",
    "entities_custom = pd.read_json(\"data/entities_custom.json\")\n",
    "entities_updated = pd.concat([entities, entities_custom]).reset_index()"
   ],
   "metadata": {
    "collapsed": false,
    "pycharm": {
     "name": "#%%\n"
    }
   }
  },
  {
   "cell_type": "markdown",
   "source": [
    "## Read custom template\n",
    "For time related templates:\n",
    "* Localsearch.TemperatureInfo.Init.Utterance\n",
    "* Localsearch.RainInfo.Init.Utterance\n",
    "* Localsearch.WeatherInfo.Init.Utterance\n",
    "\n",
    "exist problem that they use \"TimeStamp\" to represent both clock time (3 o'clock) and day time (\"tomorrow\", \"Monday\", etc.)\n",
    "But their use cases are different. So we updated general \"TimeStamp\" -> \"TimeStampDay\" and \"TimeStampTime\" for DE and EN"
   ],
   "metadata": {
    "collapsed": false
   }
  },
  {
   "cell_type": "code",
   "execution_count": null,
   "outputs": [],
   "source": [
    "# update template\n",
    "df = pd.read_json(\"data/timestamp_de_noted.json\")\n",
    "templates_updated.update(df)\n",
    "\n",
    "df = pd.read_json(\"data/timestamp_en_noted.json\")\n",
    "templates_updated.update(df)"
   ],
   "metadata": {
    "collapsed": false,
    "pycharm": {
     "name": "#%%\n"
    }
   }
  },
  {
   "cell_type": "markdown",
   "source": [
    "## Generation"
   ],
   "metadata": {
    "collapsed": false,
    "pycharm": {
     "name": "#%% md\n"
    }
   }
  },
  {
   "cell_type": "code",
   "execution_count": 17,
   "metadata": {
    "tags": []
   },
   "outputs": [
    {
     "name": "stdout",
     "output_type": "stream",
     "text": [
      "Choose template: \n",
      "\t['can you please switch on device {SmartHomeDeviceName}']\n",
      "After tag removal: \n",
      "\t[('can you please switch on device hue white lamp 3', '{Template} {Template} {Template} {Template} {Template} {Template} {SmartHomeDeviceName} {SmartHomeDeviceName} {SmartHomeDeviceName} {SmartHomeDeviceName}')]\n"
     ]
    }
   ],
   "source": [
    "from generator.module import Generator\n",
    "gen = Generator(templates=templates_updated, entities=entities_updated, method='one')\n",
    "\n",
    "t = gen.get_command(target_id='SmartHome.SwitchOnDevice.Init.Utterance',\n",
    "                target_lang='en',\n",
    "                 verbose=True)"
   ]
  },
  {
   "cell_type": "code",
   "execution_count": 24,
   "metadata": {},
   "outputs": [
    {
     "data": {
      "text/plain": "                                                                                            de  \\\nid                                                                                               \nMyCloud.OpenArea.Init.Utterance              würdest du bitte auf myCloud zu Bilder Sammlun...   \nRouter.SwitchOnWiFi.Init.Utterance                             drahtlose Verbindung herstellen   \nTv.GenericExitToTv.Init.Utterance                                                zum Fernsehen   \nRouter.SwitchOffWiFi.Init.Utterance                                    mach bitte das Wlan aus   \nTv.RadioChannelChange.Init.Utterance                                  das Radioprogramm ändern   \nRouter.ShowGuestWiFiPassword.Init.Utterance       kannst du mir das Gäste Wlan Passwort zeigen   \nTv.InitiateService.Init.Utterance                                                  TV anmachen   \nTv.OpenApplication.Init.Utterance                                               starte die App   \nSmartHome.SwitchOnDevice.Init.Utterance                  kannst du bitte das Gerät WC anmachen   \nTv.SkipCommercial.Init.Utterance                                   weiter bis nach der Werbung   \nTv.WatchFromBeginning.Init.Utterance                                spring bitte an den Anfang   \nTv.TvChannelChange.Init.Utterance                                            zapp woanders hin   \nTv.TvSearch.Init.Utterance                                                        hast du Lara   \nTv.VolumeUp.Init.Utterance                                 mach mal lauter ich verstehe nichts   \nTv.OpenUiArea.Init.Utterance                                                zeig kurz das Menu   \nTv.VolumeMute.Init.Utterance                                                         mach mute   \nTv.VolumeUnmute.Init.Utterance                                                nicht mehr stumm   \nBluewin.NewsSummary.Init.Utterance                                   den Rückblick auf den Tag   \nRouter.ShowWiFiPassword.Init.Utterance                               was ist das Wlan Passwort   \nRouter.SwitchOnGuestWiFi.Init.Utterance         bitte schalte das Gäste Internet 46 minuten an   \nTv.TrickModePlay.Init.Utterance                                                      mach Play   \nTv.TrickModeSkip.Init.Utterance                                            ein bisschen zurück   \nTv.TvRecommendations.Init.Utterance                                         mir ist langweilig   \nSmartHome.StartScene.Init.Utterance                                 starte die Szene alles aus   \nSmartHome.SwitchOffDevice.Init.Utterance     kannst du bitte das Gerät Nachttischlampe abst...   \nTv.VolumeDown.Init.Utterance                                               mach den Ton leiser   \nLocalsearch.TemperatureInfo.Init.Utterance             sag mir kurz wie heiss es um 20:17 wird   \nTv.TrickModePause.Init.Utterance                                             halte den Film an   \nLocalsearch.RainInfo.Init.Utterance                                                 schifft es   \nLocalsearch.WeatherInfo.Init.Utterance                                               blitzt es   \nRouter.SwitchOffGuestWiFi.Init.Utterance                            schalte das Gäste Wlan aus   \nTv.TerminateService.Init.Utterance                                                      TV aus   \nTv.Recording.Init.Utterance                                                    Aufnahme machen   \nTv.NavigationLeft.Init.Utterance                                                 nochmal links   \nTv.NavigationRight.Init.Utterance                                                scroll rechts   \nTv.NavigationUp.Init.Utterance                                                     wieder rauf   \nTv.NavigationDown.Init.Utterance                                                        runter   \nTv.NavigationOK.Init.Utterance                                              Auswahl bestätigen   \nTv.WatchNextEpisode.Init.Utterance                   kannst du bitte die nächste Folge starten   \n\n                                                                                      de_label  \\\nid                                                                                               \nMyCloud.OpenArea.Init.Utterance              {Template} {Template} {Template} {Template} {T...   \nRouter.SwitchOnWiFi.Init.Utterance                            {Template} {Template} {Template}   \nTv.GenericExitToTv.Init.Utterance                                        {Template} {Template}   \nRouter.SwitchOffWiFi.Init.Utterance          {Template} {Template} {Template} {Template} {T...   \nTv.RadioChannelChange.Init.Utterance                          {Template} {Template} {Template}   \nRouter.ShowGuestWiFiPassword.Init.Utterance  {Template} {Template} {Template} {Template} {T...   \nTv.InitiateService.Init.Utterance                                        {Template} {Template}   \nTv.OpenApplication.Init.Utterance                             {Template} {Template} {Template}   \nSmartHome.SwitchOnDevice.Init.Utterance      {Template} {Template} {Template} {Template} {T...   \nTv.SkipCommercial.Init.Utterance             {Template} {Template} {Template} {Template} {T...   \nTv.WatchFromBeginning.Init.Utterance         {Template} {Template} {Template} {Template} {T...   \nTv.TvChannelChange.Init.Utterance                             {Template} {Template} {Template}   \nTv.TvSearch.Init.Utterance                                     {Template} {Template} {VodName}   \nTv.VolumeUp.Init.Utterance                   {Template} {Template} {Template} {Template} {T...   \nTv.OpenUiArea.Init.Utterance                       {Template} {Template} {Template} {Template}   \nTv.VolumeMute.Init.Utterance                                             {Template} {Template}   \nTv.VolumeUnmute.Init.Utterance                                {Template} {Template} {Template}   \nBluewin.NewsSummary.Init.Utterance           {Template} {Template} {Template} {Template} {T...   \nRouter.ShowWiFiPassword.Init.Utterance       {Template} {Template} {Template} {Template} {T...   \nRouter.SwitchOnGuestWiFi.Init.Utterance      {Template} {Template} {Template} {Template} {T...   \nTv.TrickModePlay.Init.Utterance                                          {Template} {Template}   \nTv.TrickModeSkip.Init.Utterance                               {Template} {Template} {Template}   \nTv.TvRecommendations.Init.Utterance                           {Template} {Template} {Template}   \nSmartHome.StartScene.Init.Utterance          {Template} {Template} {Template} {SmartHomeSce...   \nSmartHome.SwitchOffDevice.Init.Utterance     {Template} {Template} {Template} {Template} {T...   \nTv.VolumeDown.Init.Utterance                       {Template} {Template} {Template} {Template}   \nLocalsearch.TemperatureInfo.Init.Utterance   {Template} {Template} {Template} {Template} {T...   \nTv.TrickModePause.Init.Utterance                   {Template} {Template} {Template} {Template}   \nLocalsearch.RainInfo.Init.Utterance                                      {Template} {Template}   \nLocalsearch.WeatherInfo.Init.Utterance                                   {Template} {Template}   \nRouter.SwitchOffGuestWiFi.Init.Utterance     {Template} {Template} {Template} {Template} {T...   \nTv.TerminateService.Init.Utterance                                       {Template} {Template}   \nTv.Recording.Init.Utterance                                              {Template} {Template}   \nTv.NavigationLeft.Init.Utterance                                         {Template} {Template}   \nTv.NavigationRight.Init.Utterance                                        {Template} {Template}   \nTv.NavigationUp.Init.Utterance                                           {Template} {Template}   \nTv.NavigationDown.Init.Utterance                                                    {Template}   \nTv.NavigationOK.Init.Utterance                                           {Template} {Template}   \nTv.WatchNextEpisode.Init.Utterance           {Template} {Template} {Template} {Template} {T...   \n\n                                                                                            en  \\\nid                                                                                               \nMyCloud.OpenArea.Init.Utterance                           I want to see foto stream on myCloud   \nRouter.SwitchOnWiFi.Init.Utterance                                         connect to theWi-Fi   \nTv.GenericExitToTv.Init.Utterance                                                      live TV   \nRouter.SwitchOffWiFi.Init.Utterance                                        internet off please   \nTv.RadioChannelChange.Init.Utterance                        I want to change the radio station   \nRouter.ShowGuestWiFiPassword.Init.Utterance           can you show me the guest Wi-Fi password   \nTv.InitiateService.Init.Utterance                                     please turn my TV box on   \nTv.OpenApplication.Init.Utterance                                             got to France 24   \nSmartHome.SwitchOnDevice.Init.Utterance            start device Plant light in the dining room   \nTv.SkipCommercial.Init.Utterance                                 I want to skip the commercial   \nTv.WatchFromBeginning.Init.Utterance                          start episode from the beginning   \nTv.TvChannelChange.Init.Utterance                                 I wanna switch to channel 49   \nTv.TvSearch.Init.Utterance                   can I please watch When TV Guests Go Horribly ...   \nTv.VolumeUp.Init.Utterance                                                   this is too quiet   \nTv.OpenUiArea.Init.Utterance                          could you please show me wild west movie   \nTv.VolumeMute.Init.Utterance                                       I want the TV to be on mute   \nTv.VolumeUnmute.Init.Utterance                               I'd like the sound to be on again   \nBluewin.NewsSummary.Init.Utterance                                        I need a news update   \nRouter.ShowWiFiPassword.Init.Utterance                    I need the password for the internet   \nRouter.SwitchOnGuestWiFi.Init.Utterance                connect to the guest Wi-Fi for 13 hours   \nTv.TrickModePlay.Init.Utterance                                              press play please   \nTv.TrickModeSkip.Init.Utterance                                                         rewind   \nTv.TvRecommendations.Init.Utterance                                                  I'm bored   \nSmartHome.StartScene.Init.Utterance          I would like you to start the home in slash ou...   \nSmartHome.SwitchOffDevice.Init.Utterance                     device Living Play One off please   \nTv.VolumeDown.Init.Utterance                                               turn the movie down   \nLocalsearch.TemperatureInfo.Init.Utterance                                      how cold is it   \nTv.TrickModePause.Init.Utterance                            I need to pause what I am watching   \nLocalsearch.RainInfo.Init.Utterance                                        is it raining 10.17   \nLocalsearch.WeatherInfo.Init.Utterance         I am interested in the weather in Tremezzo 1.10   \nRouter.SwitchOffGuestWiFi.Init.Utterance                         deactivate the guest internet   \nTv.TerminateService.Init.Utterance                                           shut the box down   \nTv.Recording.Init.Utterance                                                             record   \nTv.NavigationLeft.Init.Utterance                                                      one left   \nTv.NavigationRight.Init.Utterance                                         the one on the right   \nTv.NavigationUp.Init.Utterance                                                       up please   \nTv.NavigationDown.Init.Utterance                                           go down another one   \nTv.NavigationOK.Init.Utterance                                                            okay   \nTv.WatchNextEpisode.Init.Utterance                               can you play the next episode   \n\n                                                                                      en_label  \nid                                                                                              \nMyCloud.OpenArea.Init.Utterance              {Template} {Template} {Template} {Template} {M...  \nRouter.SwitchOnWiFi.Init.Utterance                 {Template} {Template} {Template}-{Template}  \nTv.GenericExitToTv.Init.Utterance                                        {Template} {Template}  \nRouter.SwitchOffWiFi.Init.Utterance                           {Template} {Template} {Template}  \nTv.RadioChannelChange.Init.Utterance         {Template} {Template} {Template} {Template} {T...  \nRouter.ShowGuestWiFiPassword.Init.Utterance  {Template} {Template} {Template} {Template} {T...  \nTv.InitiateService.Init.Utterance            {Template} {Template} {Template} {Template} {T...  \nTv.OpenApplication.Init.Utterance                    {Template} {Template} {AppName} {AppName}  \nSmartHome.SwitchOnDevice.Init.Utterance      {Template} {Template} {SmartHomeDeviceName} {S...  \nTv.SkipCommercial.Init.Utterance             {Template} {Template} {Template} {Template} {T...  \nTv.WatchFromBeginning.Init.Utterance         {Template} {Template} {Template} {Template} {T...  \nTv.TvChannelChange.Init.Utterance            {Template} {Template} {Template} {Template} {T...  \nTv.TvSearch.Init.Utterance                   {Template} {Template} {Template} {Template} {B...  \nTv.VolumeUp.Init.Utterance                         {Template} {Template} {Template} {Template}  \nTv.OpenUiArea.Init.Utterance                 {Template} {Template} {Template} {Template} {T...  \nTv.VolumeMute.Init.Utterance                 {Template} {Template} {Template} {Template} {T...  \nTv.VolumeUnmute.Init.Utterance               {Template}'{Template} {Template} {Template} {T...  \nBluewin.NewsSummary.Init.Utterance           {Template} {Template} {Template} {Template} {T...  \nRouter.ShowWiFiPassword.Init.Utterance       {Template} {Template} {Template} {Template} {T...  \nRouter.SwitchOnGuestWiFi.Init.Utterance      {Template} {Template} {Template} {Template} {T...  \nTv.TrickModePlay.Init.Utterance                               {Template} {Template} {Template}  \nTv.TrickModeSkip.Init.Utterance                                                     {Template}  \nTv.TvRecommendations.Init.Utterance                           {Template}'{Template} {Template}  \nSmartHome.StartScene.Init.Utterance          {Template} {Template} {Template} {Template} {T...  \nSmartHome.SwitchOffDevice.Init.Utterance     {Template} {SmartHomeDeviceName} {SmartHomeDev...  \nTv.VolumeDown.Init.Utterance                       {Template} {Template} {Template} {Template}  \nLocalsearch.TemperatureInfo.Init.Utterance         {Template} {Template} {Template} {Template}  \nTv.TrickModePause.Init.Utterance             {Template} {Template} {Template} {Template} {T...  \nLocalsearch.RainInfo.Init.Utterance          {Template} {Template} {Template} {LocalsearchT...  \nLocalsearch.WeatherInfo.Init.Utterance       {Template} {Template} {Template} {Template} {T...  \nRouter.SwitchOffGuestWiFi.Init.Utterance           {Template} {Template} {Template} {Template}  \nTv.TerminateService.Init.Utterance                 {Template} {Template} {Template} {Template}  \nTv.Recording.Init.Utterance                                                         {Template}  \nTv.NavigationLeft.Init.Utterance                                         {Template} {Template}  \nTv.NavigationRight.Init.Utterance            {Template} {Template} {Template} {Template} {T...  \nTv.NavigationUp.Init.Utterance                                           {Template} {Template}  \nTv.NavigationDown.Init.Utterance                   {Template} {Template} {Template} {Template}  \nTv.NavigationOK.Init.Utterance                                                      {Template}  \nTv.WatchNextEpisode.Init.Utterance           {Template} {Template} {Template} {Template} {T...  ",
      "text/html": "<div>\n<style scoped>\n    .dataframe tbody tr th:only-of-type {\n        vertical-align: middle;\n    }\n\n    .dataframe tbody tr th {\n        vertical-align: top;\n    }\n\n    .dataframe thead th {\n        text-align: right;\n    }\n</style>\n<table border=\"1\" class=\"dataframe\">\n  <thead>\n    <tr style=\"text-align: right;\">\n      <th></th>\n      <th>de</th>\n      <th>de_label</th>\n      <th>en</th>\n      <th>en_label</th>\n    </tr>\n    <tr>\n      <th>id</th>\n      <th></th>\n      <th></th>\n      <th></th>\n      <th></th>\n    </tr>\n  </thead>\n  <tbody>\n    <tr>\n      <th>MyCloud.OpenArea.Init.Utterance</th>\n      <td>würdest du bitte auf myCloud zu Bilder Sammlun...</td>\n      <td>{Template} {Template} {Template} {Template} {T...</td>\n      <td>I want to see foto stream on myCloud</td>\n      <td>{Template} {Template} {Template} {Template} {M...</td>\n    </tr>\n    <tr>\n      <th>Router.SwitchOnWiFi.Init.Utterance</th>\n      <td>drahtlose Verbindung herstellen</td>\n      <td>{Template} {Template} {Template}</td>\n      <td>connect to theWi-Fi</td>\n      <td>{Template} {Template} {Template}-{Template}</td>\n    </tr>\n    <tr>\n      <th>Tv.GenericExitToTv.Init.Utterance</th>\n      <td>zum Fernsehen</td>\n      <td>{Template} {Template}</td>\n      <td>live TV</td>\n      <td>{Template} {Template}</td>\n    </tr>\n    <tr>\n      <th>Router.SwitchOffWiFi.Init.Utterance</th>\n      <td>mach bitte das Wlan aus</td>\n      <td>{Template} {Template} {Template} {Template} {T...</td>\n      <td>internet off please</td>\n      <td>{Template} {Template} {Template}</td>\n    </tr>\n    <tr>\n      <th>Tv.RadioChannelChange.Init.Utterance</th>\n      <td>das Radioprogramm ändern</td>\n      <td>{Template} {Template} {Template}</td>\n      <td>I want to change the radio station</td>\n      <td>{Template} {Template} {Template} {Template} {T...</td>\n    </tr>\n    <tr>\n      <th>Router.ShowGuestWiFiPassword.Init.Utterance</th>\n      <td>kannst du mir das Gäste Wlan Passwort zeigen</td>\n      <td>{Template} {Template} {Template} {Template} {T...</td>\n      <td>can you show me the guest Wi-Fi password</td>\n      <td>{Template} {Template} {Template} {Template} {T...</td>\n    </tr>\n    <tr>\n      <th>Tv.InitiateService.Init.Utterance</th>\n      <td>TV anmachen</td>\n      <td>{Template} {Template}</td>\n      <td>please turn my TV box on</td>\n      <td>{Template} {Template} {Template} {Template} {T...</td>\n    </tr>\n    <tr>\n      <th>Tv.OpenApplication.Init.Utterance</th>\n      <td>starte die App</td>\n      <td>{Template} {Template} {Template}</td>\n      <td>got to France 24</td>\n      <td>{Template} {Template} {AppName} {AppName}</td>\n    </tr>\n    <tr>\n      <th>SmartHome.SwitchOnDevice.Init.Utterance</th>\n      <td>kannst du bitte das Gerät WC anmachen</td>\n      <td>{Template} {Template} {Template} {Template} {T...</td>\n      <td>start device Plant light in the dining room</td>\n      <td>{Template} {Template} {SmartHomeDeviceName} {S...</td>\n    </tr>\n    <tr>\n      <th>Tv.SkipCommercial.Init.Utterance</th>\n      <td>weiter bis nach der Werbung</td>\n      <td>{Template} {Template} {Template} {Template} {T...</td>\n      <td>I want to skip the commercial</td>\n      <td>{Template} {Template} {Template} {Template} {T...</td>\n    </tr>\n    <tr>\n      <th>Tv.WatchFromBeginning.Init.Utterance</th>\n      <td>spring bitte an den Anfang</td>\n      <td>{Template} {Template} {Template} {Template} {T...</td>\n      <td>start episode from the beginning</td>\n      <td>{Template} {Template} {Template} {Template} {T...</td>\n    </tr>\n    <tr>\n      <th>Tv.TvChannelChange.Init.Utterance</th>\n      <td>zapp woanders hin</td>\n      <td>{Template} {Template} {Template}</td>\n      <td>I wanna switch to channel 49</td>\n      <td>{Template} {Template} {Template} {Template} {T...</td>\n    </tr>\n    <tr>\n      <th>Tv.TvSearch.Init.Utterance</th>\n      <td>hast du Lara</td>\n      <td>{Template} {Template} {VodName}</td>\n      <td>can I please watch When TV Guests Go Horribly ...</td>\n      <td>{Template} {Template} {Template} {Template} {B...</td>\n    </tr>\n    <tr>\n      <th>Tv.VolumeUp.Init.Utterance</th>\n      <td>mach mal lauter ich verstehe nichts</td>\n      <td>{Template} {Template} {Template} {Template} {T...</td>\n      <td>this is too quiet</td>\n      <td>{Template} {Template} {Template} {Template}</td>\n    </tr>\n    <tr>\n      <th>Tv.OpenUiArea.Init.Utterance</th>\n      <td>zeig kurz das Menu</td>\n      <td>{Template} {Template} {Template} {Template}</td>\n      <td>could you please show me wild west movie</td>\n      <td>{Template} {Template} {Template} {Template} {T...</td>\n    </tr>\n    <tr>\n      <th>Tv.VolumeMute.Init.Utterance</th>\n      <td>mach mute</td>\n      <td>{Template} {Template}</td>\n      <td>I want the TV to be on mute</td>\n      <td>{Template} {Template} {Template} {Template} {T...</td>\n    </tr>\n    <tr>\n      <th>Tv.VolumeUnmute.Init.Utterance</th>\n      <td>nicht mehr stumm</td>\n      <td>{Template} {Template} {Template}</td>\n      <td>I'd like the sound to be on again</td>\n      <td>{Template}'{Template} {Template} {Template} {T...</td>\n    </tr>\n    <tr>\n      <th>Bluewin.NewsSummary.Init.Utterance</th>\n      <td>den Rückblick auf den Tag</td>\n      <td>{Template} {Template} {Template} {Template} {T...</td>\n      <td>I need a news update</td>\n      <td>{Template} {Template} {Template} {Template} {T...</td>\n    </tr>\n    <tr>\n      <th>Router.ShowWiFiPassword.Init.Utterance</th>\n      <td>was ist das Wlan Passwort</td>\n      <td>{Template} {Template} {Template} {Template} {T...</td>\n      <td>I need the password for the internet</td>\n      <td>{Template} {Template} {Template} {Template} {T...</td>\n    </tr>\n    <tr>\n      <th>Router.SwitchOnGuestWiFi.Init.Utterance</th>\n      <td>bitte schalte das Gäste Internet 46 minuten an</td>\n      <td>{Template} {Template} {Template} {Template} {T...</td>\n      <td>connect to the guest Wi-Fi for 13 hours</td>\n      <td>{Template} {Template} {Template} {Template} {T...</td>\n    </tr>\n    <tr>\n      <th>Tv.TrickModePlay.Init.Utterance</th>\n      <td>mach Play</td>\n      <td>{Template} {Template}</td>\n      <td>press play please</td>\n      <td>{Template} {Template} {Template}</td>\n    </tr>\n    <tr>\n      <th>Tv.TrickModeSkip.Init.Utterance</th>\n      <td>ein bisschen zurück</td>\n      <td>{Template} {Template} {Template}</td>\n      <td>rewind</td>\n      <td>{Template}</td>\n    </tr>\n    <tr>\n      <th>Tv.TvRecommendations.Init.Utterance</th>\n      <td>mir ist langweilig</td>\n      <td>{Template} {Template} {Template}</td>\n      <td>I'm bored</td>\n      <td>{Template}'{Template} {Template}</td>\n    </tr>\n    <tr>\n      <th>SmartHome.StartScene.Init.Utterance</th>\n      <td>starte die Szene alles aus</td>\n      <td>{Template} {Template} {Template} {SmartHomeSce...</td>\n      <td>I would like you to start the home in slash ou...</td>\n      <td>{Template} {Template} {Template} {Template} {T...</td>\n    </tr>\n    <tr>\n      <th>SmartHome.SwitchOffDevice.Init.Utterance</th>\n      <td>kannst du bitte das Gerät Nachttischlampe abst...</td>\n      <td>{Template} {Template} {Template} {Template} {T...</td>\n      <td>device Living Play One off please</td>\n      <td>{Template} {SmartHomeDeviceName} {SmartHomeDev...</td>\n    </tr>\n    <tr>\n      <th>Tv.VolumeDown.Init.Utterance</th>\n      <td>mach den Ton leiser</td>\n      <td>{Template} {Template} {Template} {Template}</td>\n      <td>turn the movie down</td>\n      <td>{Template} {Template} {Template} {Template}</td>\n    </tr>\n    <tr>\n      <th>Localsearch.TemperatureInfo.Init.Utterance</th>\n      <td>sag mir kurz wie heiss es um 20:17 wird</td>\n      <td>{Template} {Template} {Template} {Template} {T...</td>\n      <td>how cold is it</td>\n      <td>{Template} {Template} {Template} {Template}</td>\n    </tr>\n    <tr>\n      <th>Tv.TrickModePause.Init.Utterance</th>\n      <td>halte den Film an</td>\n      <td>{Template} {Template} {Template} {Template}</td>\n      <td>I need to pause what I am watching</td>\n      <td>{Template} {Template} {Template} {Template} {T...</td>\n    </tr>\n    <tr>\n      <th>Localsearch.RainInfo.Init.Utterance</th>\n      <td>schifft es</td>\n      <td>{Template} {Template}</td>\n      <td>is it raining 10.17</td>\n      <td>{Template} {Template} {Template} {LocalsearchT...</td>\n    </tr>\n    <tr>\n      <th>Localsearch.WeatherInfo.Init.Utterance</th>\n      <td>blitzt es</td>\n      <td>{Template} {Template}</td>\n      <td>I am interested in the weather in Tremezzo 1.10</td>\n      <td>{Template} {Template} {Template} {Template} {T...</td>\n    </tr>\n    <tr>\n      <th>Router.SwitchOffGuestWiFi.Init.Utterance</th>\n      <td>schalte das Gäste Wlan aus</td>\n      <td>{Template} {Template} {Template} {Template} {T...</td>\n      <td>deactivate the guest internet</td>\n      <td>{Template} {Template} {Template} {Template}</td>\n    </tr>\n    <tr>\n      <th>Tv.TerminateService.Init.Utterance</th>\n      <td>TV aus</td>\n      <td>{Template} {Template}</td>\n      <td>shut the box down</td>\n      <td>{Template} {Template} {Template} {Template}</td>\n    </tr>\n    <tr>\n      <th>Tv.Recording.Init.Utterance</th>\n      <td>Aufnahme machen</td>\n      <td>{Template} {Template}</td>\n      <td>record</td>\n      <td>{Template}</td>\n    </tr>\n    <tr>\n      <th>Tv.NavigationLeft.Init.Utterance</th>\n      <td>nochmal links</td>\n      <td>{Template} {Template}</td>\n      <td>one left</td>\n      <td>{Template} {Template}</td>\n    </tr>\n    <tr>\n      <th>Tv.NavigationRight.Init.Utterance</th>\n      <td>scroll rechts</td>\n      <td>{Template} {Template}</td>\n      <td>the one on the right</td>\n      <td>{Template} {Template} {Template} {Template} {T...</td>\n    </tr>\n    <tr>\n      <th>Tv.NavigationUp.Init.Utterance</th>\n      <td>wieder rauf</td>\n      <td>{Template} {Template}</td>\n      <td>up please</td>\n      <td>{Template} {Template}</td>\n    </tr>\n    <tr>\n      <th>Tv.NavigationDown.Init.Utterance</th>\n      <td>runter</td>\n      <td>{Template}</td>\n      <td>go down another one</td>\n      <td>{Template} {Template} {Template} {Template}</td>\n    </tr>\n    <tr>\n      <th>Tv.NavigationOK.Init.Utterance</th>\n      <td>Auswahl bestätigen</td>\n      <td>{Template} {Template}</td>\n      <td>okay</td>\n      <td>{Template}</td>\n    </tr>\n    <tr>\n      <th>Tv.WatchNextEpisode.Init.Utterance</th>\n      <td>kannst du bitte die nächste Folge starten</td>\n      <td>{Template} {Template} {Template} {Template} {T...</td>\n      <td>can you play the next episode</td>\n      <td>{Template} {Template} {Template} {Template} {T...</td>\n    </tr>\n  </tbody>\n</table>\n</div>"
     },
     "execution_count": 24,
     "metadata": {},
     "output_type": "execute_result"
    }
   ],
   "source": [
    "command_pool = []\n",
    "sample_df = pd.DataFrame(columns=['de','de_label', 'en', 'en_label'], index=templates_updated.id)\n",
    "for temp in templates_updated.id:\n",
    "    for lang in ['en', 'de']:\n",
    "        sample_df.loc[temp, lang], sample_df.loc[temp, lang + '_label'] = gen.get_command(target_id=temp,\n",
    "                                                                                            target_lang=lang,\n",
    "                                                                                             verbose=False)[0]\n",
    "sample_df"
   ]
  },
  {
   "cell_type": "code",
   "execution_count": 25,
   "outputs": [
    {
     "data": {
      "text/plain": "'is it raining 10.17'"
     },
     "execution_count": 25,
     "metadata": {},
     "output_type": "execute_result"
    }
   ],
   "source": [
    "# check a value\n",
    "sample_df.loc['Localsearch.RainInfo.Init.Utterance', 'en']"
   ],
   "metadata": {
    "collapsed": false,
    "pycharm": {
     "name": "#%%\n"
    }
   }
  },
  {
   "cell_type": "code",
   "execution_count": 26,
   "outputs": [
    {
     "data": {
      "text/plain": "'{Template} {Template} {Template} {LocalsearchTimeStampStartDay}'"
     },
     "execution_count": 26,
     "metadata": {},
     "output_type": "execute_result"
    }
   ],
   "source": [
    "sample_df.loc['Localsearch.RainInfo.Init.Utterance', 'en_label']"
   ],
   "metadata": {
    "collapsed": false,
    "pycharm": {
     "name": "#%%\n"
    }
   }
  },
  {
   "cell_type": "markdown",
   "metadata": {
    "pycharm": {
     "name": "#%% md\n"
    }
   },
   "source": [
    "## Test tools"
   ]
  },
  {
   "cell_type": "code",
   "execution_count": 20,
   "outputs": [],
   "source": [
    "miss_id = ['Localsearch.TemperatureInfo.Init.Utterance' ,\n",
    "            'Localsearch.RainInfo.Init.Utterance',\n",
    "            'Localsearch.WeatherInfo.Init.Utterance' ]\n",
    "\n",
    "k  = templates_updated[[t in miss_id for t in templates_updated.id]]\n",
    "k[['id', 'de']].to_json(\"data/timestamp_de.json\")\n",
    "k[['id', 'en']].to_json(\"data/timestamp_en.json\")\n"
   ],
   "metadata": {
    "collapsed": false,
    "pycharm": {
     "name": "#%%\n"
    }
   }
  },
  {
   "cell_type": "code",
   "execution_count": 23,
   "outputs": [
    {
     "data": {
      "text/plain": "'procreate'"
     },
     "execution_count": 23,
     "metadata": {},
     "output_type": "execute_result"
    }
   ],
   "source": [
    "from generator.normalizer import Normalizer\n",
    "Normalizer().normalize_text(\"ProCreate\", 'en')\n",
    "\n"
   ],
   "metadata": {
    "collapsed": false,
    "pycharm": {
     "name": "#%%\n"
    }
   }
  }
 ],
 "metadata": {
  "kernelspec": {
   "name": "python37764bitjobpostingconda22929374449545e284a5643e9731aeaa",
   "language": "python",
   "display_name": "Python 3.7.7 64-bit ('jobposting': conda)"
  },
  "language_info": {
   "codemirror_mode": {
    "name": "ipython",
    "version": 3
   },
   "file_extension": ".py",
   "mimetype": "text/x-python",
   "name": "python",
   "nbconvert_exporter": "python",
   "pygments_lexer": "ipython3",
   "version": "3.7.7-final"
  }
 },
 "nbformat": 4,
 "nbformat_minor": 4
}