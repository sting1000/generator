{
 "cells": [
  {
   "cell_type": "markdown",
   "metadata": {},
   "source": [
    "# Dataset Generation"
   ]
  },
  {
   "cell_type": "code",
   "execution_count": 1,
   "metadata": {
    "tags": []
   },
   "outputs": [],
   "source": [
    "import pandas as pd\n",
    "import warnings\n",
    "warnings.filterwarnings('ignore')\n",
    "%load_ext autoreload\n",
    "%autoreload 2"
   ]
  },
  {
   "cell_type": "markdown",
   "metadata": {},
   "source": [
    "## Templates\n",
    "we have 39 kinds of templates for 4 languages, but we only use 'de' and 'en' here for testing."
   ]
  },
  {
   "cell_type": "code",
   "execution_count": 2,
   "metadata": {},
   "outputs": [
    {
     "data": {
      "text/html": [
       "<div>\n",
       "<style scoped>\n",
       "    .dataframe tbody tr th:only-of-type {\n",
       "        vertical-align: middle;\n",
       "    }\n",
       "\n",
       "    .dataframe tbody tr th {\n",
       "        vertical-align: top;\n",
       "    }\n",
       "\n",
       "    .dataframe thead th {\n",
       "        text-align: right;\n",
       "    }\n",
       "</style>\n",
       "<table border=\"1\" class=\"dataframe\">\n",
       "  <thead>\n",
       "    <tr style=\"text-align: right;\">\n",
       "      <th></th>\n",
       "      <th>id</th>\n",
       "      <th>en</th>\n",
       "    </tr>\n",
       "  </thead>\n",
       "  <tbody>\n",
       "    <tr>\n",
       "      <th>0</th>\n",
       "      <td>MyCloud.OpenArea.Init.Utterance</td>\n",
       "      <td>{'texts': [{'ttsText': 'show {MyCloudArea} on ...</td>\n",
       "    </tr>\n",
       "    <tr>\n",
       "      <th>1</th>\n",
       "      <td>Router.SwitchOnWiFi.Init.Utterance</td>\n",
       "      <td>{'texts': [{'ttsText': 'activate the Wi-Fi'}, ...</td>\n",
       "    </tr>\n",
       "    <tr>\n",
       "      <th>2</th>\n",
       "      <td>Tv.GenericExitToTv.Init.Utterance</td>\n",
       "      <td>{'texts': [{'ttsText': 'back to TV'}, {'ttsTex...</td>\n",
       "    </tr>\n",
       "    <tr>\n",
       "      <th>3</th>\n",
       "      <td>Router.SwitchOffWiFi.Init.Utterance</td>\n",
       "      <td>{'texts': [{'ttsText': 'can you please switch ...</td>\n",
       "    </tr>\n",
       "    <tr>\n",
       "      <th>4</th>\n",
       "      <td>Tv.RadioChannelChange.Init.Utterance</td>\n",
       "      <td>{'texts': [{'ttsText': 'can you turn on radio ...</td>\n",
       "    </tr>\n",
       "  </tbody>\n",
       "</table>\n",
       "</div>"
      ],
      "text/plain": [
       "                                     id  \\\n",
       "0       MyCloud.OpenArea.Init.Utterance   \n",
       "1    Router.SwitchOnWiFi.Init.Utterance   \n",
       "2     Tv.GenericExitToTv.Init.Utterance   \n",
       "3   Router.SwitchOffWiFi.Init.Utterance   \n",
       "4  Tv.RadioChannelChange.Init.Utterance   \n",
       "\n",
       "                                                  en  \n",
       "0  {'texts': [{'ttsText': 'show {MyCloudArea} on ...  \n",
       "1  {'texts': [{'ttsText': 'activate the Wi-Fi'}, ...  \n",
       "2  {'texts': [{'ttsText': 'back to TV'}, {'ttsTex...  \n",
       "3  {'texts': [{'ttsText': 'can you please switch ...  \n",
       "4  {'texts': [{'ttsText': 'can you turn on radio ...  "
      ]
     },
     "execution_count": 2,
     "metadata": {},
     "output_type": "execute_result"
    }
   ],
   "source": [
    "# templates\n",
    "templates = pd.read_json(\"data/templates.json\")\n",
    "init_uttr_updated = pd.read_csv(\"data/InitUtterance_list_updated.csv\")\n",
    "templates_updated = templates.merge(init_uttr_updated, on='id')\n",
    "templates_updated = templates_updated[['id', 'en']] #'fr', 'it', 'de',\n",
    "templates_updated.head()"
   ]
  },
  {
   "cell_type": "code",
   "execution_count": 3,
   "metadata": {
    "scrolled": true
   },
   "outputs": [
    {
     "ename": "TypeError",
     "evalue": "unhashable type: 'dict'",
     "output_type": "error",
     "traceback": [
      "\u001b[0;31m---------------------------------------------------------------------------\u001b[0m",
      "\u001b[0;31mTypeError\u001b[0m                                 Traceback (most recent call last)",
      "\u001b[0;32mpandas/_libs/hashtable_class_helper.pxi\u001b[0m in \u001b[0;36mpandas._libs.hashtable.PyObjectHashTable.map_locations\u001b[0;34m()\u001b[0m\n",
      "\u001b[0;31mTypeError\u001b[0m: unhashable type: 'dict'"
     ]
    },
    {
     "name": "stderr",
     "output_type": "stream",
     "text": [
      "Exception ignored in: 'pandas._libs.index.IndexEngine._call_map_locations'\n",
      "Traceback (most recent call last):\n",
      "  File \"pandas/_libs/hashtable_class_helper.pxi\", line 1653, in pandas._libs.hashtable.PyObjectHashTable.map_locations\n",
      "TypeError: unhashable type: 'dict'\n"
     ]
    },
    {
     "data": {
      "text/html": [
       "<div>\n",
       "<style scoped>\n",
       "    .dataframe tbody tr th:only-of-type {\n",
       "        vertical-align: middle;\n",
       "    }\n",
       "\n",
       "    .dataframe tbody tr th {\n",
       "        vertical-align: top;\n",
       "    }\n",
       "\n",
       "    .dataframe thead th {\n",
       "        text-align: right;\n",
       "    }\n",
       "</style>\n",
       "<table border=\"1\" class=\"dataframe\">\n",
       "  <thead>\n",
       "    <tr style=\"text-align: right;\">\n",
       "      <th></th>\n",
       "      <th>id</th>\n",
       "      <th>en</th>\n",
       "    </tr>\n",
       "  </thead>\n",
       "  <tbody>\n",
       "    <tr>\n",
       "      <th>count</th>\n",
       "      <td>39</td>\n",
       "      <td>39</td>\n",
       "    </tr>\n",
       "    <tr>\n",
       "      <th>unique</th>\n",
       "      <td>39</td>\n",
       "      <td>39</td>\n",
       "    </tr>\n",
       "    <tr>\n",
       "      <th>top</th>\n",
       "      <td>Tv.Recording.Init.Utterance</td>\n",
       "      <td>{'texts': [{'ttsText': 'activate {SmartHomeSce...</td>\n",
       "    </tr>\n",
       "    <tr>\n",
       "      <th>freq</th>\n",
       "      <td>1</td>\n",
       "      <td>1</td>\n",
       "    </tr>\n",
       "  </tbody>\n",
       "</table>\n",
       "</div>"
      ],
      "text/plain": [
       "                                 id  \\\n",
       "count                            39   \n",
       "unique                           39   \n",
       "top     Tv.Recording.Init.Utterance   \n",
       "freq                              1   \n",
       "\n",
       "                                                       en  \n",
       "count                                                  39  \n",
       "unique                                                 39  \n",
       "top     {'texts': [{'ttsText': 'activate {SmartHomeSce...  \n",
       "freq                                                    1  "
      ]
     },
     "execution_count": 3,
     "metadata": {},
     "output_type": "execute_result"
    }
   ],
   "source": [
    "templates_updated.describe()"
   ]
  },
  {
   "cell_type": "markdown",
   "metadata": {},
   "source": [
    "## Entities\n",
    "65K entities of 33 different types are included.\n",
    "1/3 of them are from German environment."
   ]
  },
  {
   "cell_type": "code",
   "execution_count": 10,
   "metadata": {
    "scrolled": true
   },
   "outputs": [
    {
     "data": {
      "text/html": [
       "<div>\n",
       "<style scoped>\n",
       "    .dataframe tbody tr th:only-of-type {\n",
       "        vertical-align: middle;\n",
       "    }\n",
       "\n",
       "    .dataframe tbody tr th {\n",
       "        vertical-align: top;\n",
       "    }\n",
       "\n",
       "    .dataframe thead th {\n",
       "        text-align: right;\n",
       "    }\n",
       "</style>\n",
       "<table border=\"1\" class=\"dataframe\">\n",
       "  <thead>\n",
       "    <tr style=\"text-align: right;\">\n",
       "      <th></th>\n",
       "      <th>value</th>\n",
       "      <th>type</th>\n",
       "      <th>language</th>\n",
       "      <th>normalizedValue</th>\n",
       "      <th>aliases</th>\n",
       "    </tr>\n",
       "  </thead>\n",
       "  <tbody>\n",
       "    <tr>\n",
       "      <th>0</th>\n",
       "      <td>Widnau</td>\n",
       "      <td>LocalsearchLocation</td>\n",
       "      <td>de</td>\n",
       "      <td>widnau</td>\n",
       "      <td>[]</td>\n",
       "    </tr>\n",
       "    <tr>\n",
       "      <th>1</th>\n",
       "      <td>Zurigo</td>\n",
       "      <td>LocalsearchLocation</td>\n",
       "      <td>it</td>\n",
       "      <td>zurigo</td>\n",
       "      <td>[]</td>\n",
       "    </tr>\n",
       "    <tr>\n",
       "      <th>2</th>\n",
       "      <td>Solothurn</td>\n",
       "      <td>LocalsearchLocation</td>\n",
       "      <td>de</td>\n",
       "      <td>solothurn</td>\n",
       "      <td>[]</td>\n",
       "    </tr>\n",
       "    <tr>\n",
       "      <th>3</th>\n",
       "      <td>Muttenz</td>\n",
       "      <td>LocalsearchLocation</td>\n",
       "      <td>de</td>\n",
       "      <td>muttenz</td>\n",
       "      <td>[]</td>\n",
       "    </tr>\n",
       "    <tr>\n",
       "      <th>4</th>\n",
       "      <td>Lyss</td>\n",
       "      <td>LocalsearchLocation</td>\n",
       "      <td>de</td>\n",
       "      <td>lyss</td>\n",
       "      <td>[]</td>\n",
       "    </tr>\n",
       "  </tbody>\n",
       "</table>\n",
       "</div>"
      ],
      "text/plain": [
       "       value                 type language normalizedValue aliases\n",
       "0     Widnau  LocalsearchLocation       de          widnau      []\n",
       "1     Zurigo  LocalsearchLocation       it          zurigo      []\n",
       "2  Solothurn  LocalsearchLocation       de       solothurn      []\n",
       "3    Muttenz  LocalsearchLocation       de         muttenz      []\n",
       "4       Lyss  LocalsearchLocation       de            lyss      []"
      ]
     },
     "execution_count": 10,
     "metadata": {},
     "output_type": "execute_result"
    }
   ],
   "source": [
    "# entities\n",
    "entities = pd.read_json(\"data/entities.json\")\n",
    "entities = entities[['value', 'type', 'language', 'normalizedValue', 'aliases']]\n",
    "entities.head()"
   ]
  },
  {
   "cell_type": "code",
   "execution_count": 7,
   "metadata": {},
   "outputs": [
    {
     "data": {
      "text/html": [
       "<div>\n",
       "<style scoped>\n",
       "    .dataframe tbody tr th:only-of-type {\n",
       "        vertical-align: middle;\n",
       "    }\n",
       "\n",
       "    .dataframe tbody tr th {\n",
       "        vertical-align: top;\n",
       "    }\n",
       "\n",
       "    .dataframe thead th {\n",
       "        text-align: right;\n",
       "    }\n",
       "</style>\n",
       "<table border=\"1\" class=\"dataframe\">\n",
       "  <thead>\n",
       "    <tr style=\"text-align: right;\">\n",
       "      <th></th>\n",
       "      <th>value</th>\n",
       "      <th>type</th>\n",
       "      <th>language</th>\n",
       "      <th>normalizedValue</th>\n",
       "      <th>aliases</th>\n",
       "    </tr>\n",
       "  </thead>\n",
       "  <tbody>\n",
       "    <tr>\n",
       "      <th>count</th>\n",
       "      <td>65471</td>\n",
       "      <td>65471</td>\n",
       "      <td>65471</td>\n",
       "      <td>65471</td>\n",
       "      <td>65471</td>\n",
       "    </tr>\n",
       "    <tr>\n",
       "      <th>unique</th>\n",
       "      <td>51272</td>\n",
       "      <td>33</td>\n",
       "      <td>4</td>\n",
       "      <td>52082</td>\n",
       "      <td>3793</td>\n",
       "    </tr>\n",
       "    <tr>\n",
       "      <th>top</th>\n",
       "      <td>Golf</td>\n",
       "      <td>SeriesName</td>\n",
       "      <td>de</td>\n",
       "      <td>golf</td>\n",
       "      <td>[]</td>\n",
       "    </tr>\n",
       "    <tr>\n",
       "      <th>freq</th>\n",
       "      <td>20</td>\n",
       "      <td>17913</td>\n",
       "      <td>22746</td>\n",
       "      <td>20</td>\n",
       "      <td>59649</td>\n",
       "    </tr>\n",
       "  </tbody>\n",
       "</table>\n",
       "</div>"
      ],
      "text/plain": [
       "        value        type language normalizedValue aliases\n",
       "count   65471       65471    65471           65471   65471\n",
       "unique  51272          33        4           52082    3793\n",
       "top      Golf  SeriesName       de            golf      []\n",
       "freq       20       17913    22746              20   59649"
      ]
     },
     "execution_count": 7,
     "metadata": {},
     "output_type": "execute_result"
    }
   ],
   "source": [
    "entities.describe()"
   ]
  },
  {
   "cell_type": "code",
   "execution_count": 4,
   "metadata": {
    "scrolled": true
   },
   "outputs": [
    {
     "data": {
      "image/png": "[encoded data removed]",
      "text/plain": [
       "<Figure size 1080x360 with 1 Axes>"
      ]
     },
     "metadata": {
      "needs_background": "light"
     },
     "output_type": "display_data"
    }
   ],
   "source": [
    "df = entities[['type', 'language']]\n",
    "df = df.groupby(['type','language']).size().reset_index(name='count')\n",
    "df2 = df.pivot(index='type', columns='language', values='count')\n",
    "df2['sum'] = 0\n",
    "df2 = df2.fillna(0)\n",
    "for lang in ['de', 'en', 'fr', 'it',]:\n",
    "    df2['sum'] += df2[lang]\n",
    "# df.sort_values('count', ascending=False)\n",
    "p = df2.sort_values('sum', ascending=False)[['de', 'en', 'fr', 'it']].plot(kind='bar', figsize=(15, 5))"
   ]
  },
  {
   "cell_type": "markdown",
   "metadata": {
    "pycharm": {
     "name": "#%% md\n"
    }
   },
   "source": [
    "## Entities_meta"
   ]
  },
  {
   "cell_type": "code",
   "execution_count": 3,
   "metadata": {
    "pycharm": {
     "name": "#%%\n"
    }
   },
   "outputs": [
    {
     "data": {
      "text/html": [
       "<div>\n",
       "<style scoped>\n",
       "    .dataframe tbody tr th:only-of-type {\n",
       "        vertical-align: middle;\n",
       "    }\n",
       "\n",
       "    .dataframe tbody tr th {\n",
       "        vertical-align: top;\n",
       "    }\n",
       "\n",
       "    .dataframe thead th {\n",
       "        text-align: right;\n",
       "    }\n",
       "</style>\n",
       "<table border=\"1\" class=\"dataframe\">\n",
       "  <thead>\n",
       "    <tr style=\"text-align: right;\">\n",
       "      <th></th>\n",
       "      <th>value</th>\n",
       "      <th>type</th>\n",
       "      <th>language</th>\n",
       "      <th>normalizedValue</th>\n",
       "      <th>aliases</th>\n",
       "    </tr>\n",
       "  </thead>\n",
       "  <tbody>\n",
       "    <tr>\n",
       "      <th>0</th>\n",
       "      <td>Widnau</td>\n",
       "      <td>LocalsearchLocation</td>\n",
       "      <td>de</td>\n",
       "      <td>widnau</td>\n",
       "      <td>[]</td>\n",
       "    </tr>\n",
       "    <tr>\n",
       "      <th>1</th>\n",
       "      <td>Zurigo</td>\n",
       "      <td>LocalsearchLocation</td>\n",
       "      <td>it</td>\n",
       "      <td>zurigo</td>\n",
       "      <td>[]</td>\n",
       "    </tr>\n",
       "    <tr>\n",
       "      <th>2</th>\n",
       "      <td>Solothurn</td>\n",
       "      <td>LocalsearchLocation</td>\n",
       "      <td>de</td>\n",
       "      <td>solothurn</td>\n",
       "      <td>[]</td>\n",
       "    </tr>\n",
       "    <tr>\n",
       "      <th>3</th>\n",
       "      <td>Muttenz</td>\n",
       "      <td>LocalsearchLocation</td>\n",
       "      <td>de</td>\n",
       "      <td>muttenz</td>\n",
       "      <td>[]</td>\n",
       "    </tr>\n",
       "    <tr>\n",
       "      <th>4</th>\n",
       "      <td>Lyss</td>\n",
       "      <td>LocalsearchLocation</td>\n",
       "      <td>de</td>\n",
       "      <td>lyss</td>\n",
       "      <td>[]</td>\n",
       "    </tr>\n",
       "  </tbody>\n",
       "</table>\n",
       "</div>"
      ],
      "text/plain": [
       "       value                 type language normalizedValue aliases\n",
       "0     Widnau  LocalsearchLocation       de          widnau      []\n",
       "1     Zurigo  LocalsearchLocation       it          zurigo      []\n",
       "2  Solothurn  LocalsearchLocation       de       solothurn      []\n",
       "3    Muttenz  LocalsearchLocation       de         muttenz      []\n",
       "4       Lyss  LocalsearchLocation       de            lyss      []"
      ]
     },
     "execution_count": 3,
     "metadata": {},
     "output_type": "execute_result"
    }
   ],
   "source": [
    "# entities\n",
    "entities_meta = pd.read_json(\"data/entities_meta.json\").sort_index()\n",
    "entities_meta.head()\n"
   ]
  },
  {
   "cell_type": "code",
   "execution_count": 7,
   "metadata": {
    "pycharm": {
     "name": "#%%\n"
    }
   },
   "outputs": [
    {
     "data": {
      "image/png": "[encoded data removed]",
      "text/plain": [
       "<Figure size 1080x360 with 1 Axes>"
      ]
     },
     "metadata": {
      "needs_background": "light"
     },
     "output_type": "display_data"
    }
   ],
   "source": [
    "df = entities_meta[['type', 'language']]\n",
    "df = df.groupby(['type','language']).size().reset_index(name='count')\n",
    "df2 = df.pivot(index='type', columns='language', values='count')\n",
    "df2['sum'] = 0\n",
    "df2 = df2.fillna(0)\n",
    "for lang in ['de', 'en', 'fr', 'it',]:\n",
    "    df2['sum'] += df2[lang]\n",
    "# df.sort_values('count', ascending=False)\n",
    "p = df2.sort_values('sum', ascending=False)[['de', 'en', 'fr', 'it']].plot(kind='bar', figsize=(15, 5))\n"
   ]
  },
  {
   "cell_type": "markdown",
   "metadata": {},
   "source": [
    "### Find the representative\n",
    "One entity usually has various name, thus, to improve speed, we need to find the representative ones that could retrieve all.\n",
    "Considering the speaking speed and noise of ASR, we decide to:\n",
    "1. Combine abbreviation as a upper case word (s r f, S R F -> SRF)\n",
    "2. Keep the uppercase one if two words spell same (Schweiz, schweiz -> Schweiz)"
   ]
  },
  {
   "cell_type": "code",
   "execution_count": 5,
   "metadata": {
    "tags": []
   },
   "outputs": [
    {
     "data": {
      "text/plain": [
       "['TF 3']"
      ]
     },
     "execution_count": 5,
     "metadata": {},
     "output_type": "execute_result"
    }
   ],
   "source": [
    "# TODO: deal with case \"a\"\n",
    "from generator.tools import filter_aliases\n",
    "sample_aliases1 = [\n",
    "    \"TF 3\",         # value\n",
    "    \"TF three\",     # normalized\n",
    "    \"T F 3\",        # alias\n",
    "    \"t f three\",    # alias\n",
    "    \"t f 3\"         # alias\n",
    "    ]\n",
    "filter_aliases(sample_aliases1,'en')"
   ]
  },
  {
   "cell_type": "markdown",
   "metadata": {
    "pycharm": {
     "name": "#%% md\n"
    }
   },
   "source": [
    "## Read custom template\n",
    "For time related templates:\n",
    "* Localsearch.TemperatureInfo.Init.Utterance\n",
    "* Localsearch.RainInfo.Init.Utterance\n",
    "* Localsearch.WeatherInfo.Init.Utterance\n",
    "\n",
    "exist problem that they use \"TimeStamp\" to represent both clock time (3 o'clock) and day time (\"tomorrow\", \"Monday\", etc.)\n",
    "But their use cases are different. So we updated general \"TimeStamp\" -> \"TimeStampDay\" and \"TimeStampTime\" for DE and EN"
   ]
  },
  {
   "cell_type": "code",
   "execution_count": 4,
   "metadata": {
    "pycharm": {
     "name": "#%%\n"
    }
   },
   "outputs": [],
   "source": [
    "# update template\n",
    "df = pd.read_json(\"data/timestamp_de_noted.json\")\n",
    "templates_updated.update(df)\n",
    "\n",
    "df = pd.read_json(\"data/timestamp_en_noted.json\")\n",
    "templates_updated.update(df)"
   ]
  },
  {
   "cell_type": "markdown",
   "metadata": {
    "pycharm": {
     "name": "#%% md\n"
    }
   },
   "source": [
    "## Generation"
   ]
  },
  {
   "cell_type": "code",
   "execution_count": 6,
   "metadata": {},
   "outputs": [
    {
     "data": {
      "text/plain": [
       "[(['can',\n",
       "   'you',\n",
       "   'tell',\n",
       "   'me',\n",
       "   'how',\n",
       "   'warm',\n",
       "   'it',\n",
       "   'will',\n",
       "   'get',\n",
       "   'on',\n",
       "   '5.4'],\n",
       "  ['can',\n",
       "   'you',\n",
       "   'tell',\n",
       "   'me',\n",
       "   'how',\n",
       "   'warm',\n",
       "   'it',\n",
       "   'will',\n",
       "   'get',\n",
       "   'on',\n",
       "   'fifth',\n",
       "   'april'])]"
      ]
     },
     "execution_count": 6,
     "metadata": {},
     "output_type": "execute_result"
    }
   ],
   "source": [
    "from tqdm import tqdm\n",
    "from generator.module import Generator\n",
    "\n",
    "gen = Generator(templates=templates_updated, entities=entities_meta, method='one')\n",
    "gen.get_command(target_id='Localsearch.TemperatureInfo.Init.Utterance', target_lang='en', verbose=False)"
   ]
  },
  {
   "cell_type": "code",
   "execution_count": 7,
   "metadata": {
    "pycharm": {
     "name": "#%%\n"
    }
   },
   "outputs": [
    {
     "name": "stderr",
     "output_type": "stream",
     "text": [
      "100%|██████████| 10000/10000 [14:03<00:00, 11.85it/s]\n",
      "100%|██████████| 10000/10000 [11:49<00:00, 14.09it/s]\n",
      "100%|██████████| 10000/10000 [12:42<00:00, 13.11it/s]\n",
      "100%|██████████| 10000/10000 [5:15:35<00:00,  1.89s/it]  \n",
      "100%|██████████| 10000/10000 [25:04<00:00,  6.64it/s]\n",
      "100%|██████████| 10000/10000 [19:15<00:00,  8.66it/s]\n",
      "100%|██████████| 10000/10000 [07:49<00:00, 21.32it/s]\n"
     ]
    }
   ],
   "source": [
    "from tqdm import tqdm\n",
    "from generator.module import Generator\n",
    "\n",
    "gen = Generator(templates=templates_updated, entities=entities_meta, method='one')\n",
    "sample_size = 10000\n",
    "f_source = open(\"data/commands_source_en_70k.txt\", \"a\")\n",
    "f_target = open(\"data/commands_target_en_70k.txt\", \"a\")\n",
    "\n",
    "for temp_id in ['Localsearch.TemperatureInfo.Init.Utterance' ,\n",
    "                'Localsearch.RainInfo.Init.Utterance',\n",
    "                'Localsearch.WeatherInfo.Init.Utterance',\n",
    "                'Tv.TvSearch.Init.Utterance',\n",
    "                'Tv.TvChannelChange.Init.Utterance',\n",
    "                'Tv.RadioChannelChange.Init.Utterance',\n",
    "                'SmartHome.SwitchOnDevice.Init.Utterance'\n",
    "                ]:\n",
    "    for _ in tqdm(range(sample_size)):\n",
    "        command_en, label_en = gen.get_command(target_id=temp_id, target_lang='en', verbose=False)[0]\n",
    "        f_source.write(\"{}\\n\".format(' '.join(command_en)))\n",
    "        f_target.write(\"{}\\n\".format(' '.join(label_en)))\n",
    "f_source.close()\n",
    "f_target.close()\n",
    "\n"
   ]
  },
  {
   "cell_type": "code",
   "execution_count": 4,
   "metadata": {
    "pycharm": {
     "name": "#%%\n"
    }
   },
   "outputs": [],
   "source": [
    "from generator.normalizer import Normalizer\n",
    "f_source = open(\"data/nums_source_en_10k.txt\", \"a\")\n",
    "f_target = open(\"data/nums_target_en_10k.txt\", \"a\")\n",
    "\n",
    "for num in range(10000):\n",
    "    num_str = str(num) \n",
    "    num_norm = Normalizer().normalize_text(num_str, 'en')\n",
    "    f_source.write(\"{}\\n\".format(num_str))\n",
    "    f_target.write(\"{}\\n\".format(num_norm))\n",
    "f_source.close()\n",
    "f_target.close()"
   ]
  },
  {
   "cell_type": "code",
   "execution_count": null,
   "metadata": {},
   "outputs": [],
   "source": []
  }
 ],
 "metadata": {
  "kernelspec": {
   "display_name": "Python 3.7.7 64-bit ('jobposting': conda)",
   "language": "python",
   "name": "python37764bitjobpostingconda22929374449545e284a5643e9731aeaa"
  },
  "language_info": {
   "codemirror_mode": {
    "name": "ipython",
    "version": 3
   },
   "file_extension": ".py",
   "mimetype": "text/x-python",
   "name": "python",
   "nbconvert_exporter": "python",
   "pygments_lexer": "ipython3",
   "version": "3.7.7"
  }
 },
 "nbformat": 4,
 "nbformat_minor": 4
}
