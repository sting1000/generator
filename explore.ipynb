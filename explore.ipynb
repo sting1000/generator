{
 "cells": [
  {
   "cell_type": "markdown",
   "metadata": {},
   "source": [
    "# Dataset Generation"
   ]
  },
  {
   "cell_type": "code",
   "execution_count": 2,
   "metadata": {
    "pycharm": {
     "is_executing": true
    },
    "tags": []
   },
   "outputs": [
    {
     "name": "stdout",
     "output_type": "stream",
     "text": [
      "The autoreload extension is already loaded. To reload it, use:\n",
      "  %reload_ext autoreload\n"
     ]
    }
   ],
   "source": [
    "import pandas as pd\n",
    "from pathlib import Path\n",
    "import json\n",
    "import warnings\n",
    "from generator.module import Generator\n",
    "from generator.normalizer import Normalizer\n",
    "from sklearn.model_selection import train_test_split\n",
    "from generator.tools import filter_aliases\n",
    "from tqdm import tqdm\n",
    "import time\n",
    "\n",
    "warnings.filterwarnings('ignore')\n",
    "%load_ext autoreload\n",
    "%autoreload 2"
   ]
  },
  {
   "cell_type": "code",
   "execution_count": 25,
   "metadata": {},
   "outputs": [
    {
     "name": "stderr",
     "output_type": "stream",
     "text": [
      "100%|██████████| 39/39 [00:10<00:00,  3.70it/s]\n"
     ]
    }
   ],
   "source": [
    "# load config values\n",
    "config_file = Path('config') / 'command_generator_config.json'\n",
    "with open(config_file, 'r', encoding='utf-8') as fp:\n",
    "    config = json.load(fp)\n",
    "\n",
    "data_dir = Path(config['data_dir'])\n",
    "output_dir = Path(config['output_dir'])\n",
    "templates_filename = config['templates_filename']\n",
    "entities_filename = config['entities_filename']\n",
    "languages = config['languages']\n",
    "id_size = config[\"id_size\"]\n",
    "extra_num_size = config['extra_num_size']\n",
    "random_seed = config['random_seed']\n",
    "test_ratio = config['split']['test_ratio']\n",
    "valid_ratio = config['split']['valid_ratio']\n",
    "train_ratio = config['split']['train_ratio']\n",
    "\n",
    "# read dataframe\n",
    "templates = pd.read_json(data_dir / templates_filename)[['id'] + languages]\n",
    "entities = pd.read_json(data_dir / entities_filename)\n",
    "\n",
    "# make train and test for templates\n",
    "time_start = time.time()\n",
    "gen = Generator(templates=templates, entities=entities)\n",
    "df_temp = pd.DataFrame(columns=[\"id\", \"language\", \"text\"])\n",
    "for tem_id in tqdm(templates.id):\n",
    "    for lan in languages:\n",
    "        for text in gen.get_templates(tem_id, lan):\n",
    "            df_temp = df_temp.append({\n",
    "                \"id\": tem_id,\n",
    "                \"language\": lan,\n",
    "                \"text\": text\n",
    "            }, ignore_index=True)\n",
    "df_temp = drop_small_class(df_temp.drop_duplicates(), ['id', 'language'])\n",
    "df_temp_train, df_temp_test_valid = train_test_split(df_temp,\n",
    "                                                     train_size=train_ratio,\n",
    "                                                     stratify=df_temp[['id', 'language']],\n",
    "                                                     random_state=random_seed)\n"
   ]
  },
  {
   "cell_type": "code",
   "execution_count": 26,
   "metadata": {},
   "outputs": [
    {
     "data": {
      "text/plain": [
       "de    1181\n",
       "en     992\n",
       "fr     875\n",
       "it     750\n",
       "Name: language, dtype: int64"
      ]
     },
     "execution_count": 26,
     "metadata": {},
     "output_type": "execute_result"
    }
   ],
   "source": [
    "df_temp_train['language'].value_counts()"
   ]
  },
  {
   "cell_type": "code",
   "execution_count": 27,
   "metadata": {},
   "outputs": [
    {
     "data": {
      "text/plain": [
       "de    297\n",
       "en    247\n",
       "fr    220\n",
       "it    186\n",
       "Name: language, dtype: int64"
      ]
     },
     "execution_count": 27,
     "metadata": {},
     "output_type": "execute_result"
    }
   ],
   "source": [
    "df_temp_test_valid['language'].value_counts()"
   ]
  },
  {
   "cell_type": "code",
   "execution_count": 32,
   "metadata": {},
   "outputs": [],
   "source": [
    "df_temp_test_valid = drop_small_class(df_temp_test_valid, ['language'])\n",
    "df_temp_valid, df_temp_test = train_test_split(df_temp_test_valid,\n",
    "                                               test_size=test_ratio / (valid_ratio + test_ratio),\n",
    "                                               stratify=df_temp_test_valid[[ 'language']],\n",
    "                                               random_state=random_seed)"
   ]
  },
  {
   "cell_type": "code",
   "execution_count": 35,
   "metadata": {},
   "outputs": [],
   "source": [
    "# entities = entities[entities.language.isin(languages)]\n",
    "# df_entities = pd.DataFrame(columns=[\"value\", \"type\", \"language\"])\n",
    "# for _, selected_entity in tqdm(entities.iterrows()):\n",
    "#     aliases = selected_entity['aliases']\n",
    "#     value = [str(selected_entity['value'])]\n",
    "#     normalized_value = [selected_entity['normalizedValue']]\n",
    "#     lang = selected_entity['language']\n",
    "#     filtered_values = filter_aliases(aliases + value + normalized_value, lang)\n",
    "#     for v in filtered_values:\n",
    "#         df_entities = df_entities.append({\n",
    "#             \"value\": v,\n",
    "#             \"language\": lang,\n",
    "#             \"type\": selected_entity.type\n",
    "#         }, ignore_index=True)\n",
    "\n",
    "df_entities = drop_small_class(df_entities, ['type', 'language'])\n",
    "df_entities_train, df_entities_test_valid = train_test_split(df_entities,\n",
    "                                                             train_size=train_ratio,\n",
    "                                                             stratify=df_entities[['type', 'language']],\n",
    "                                                             random_state=random_seed)\n"
   ]
  },
  {
   "cell_type": "code",
   "execution_count": 40,
   "metadata": {},
   "outputs": [
    {
     "data": {
      "text/plain": [
       "de    1167\n",
       "en     885\n",
       "fr     786\n",
       "it     691\n",
       "Name: language, dtype: int64"
      ]
     },
     "execution_count": 40,
     "metadata": {},
     "output_type": "execute_result"
    }
   ],
   "source": [
    "df_entities_test['language'].value_counts()"
   ]
  },
  {
   "cell_type": "code",
   "execution_count": 38,
   "metadata": {},
   "outputs": [],
   "source": [
    "df_entities_test_valid = drop_small_class(df_entities_test_valid, ['language'])\n",
    "df_entities_valid, df_entities_test = train_test_split(df_entities_test_valid,\n",
    "                                                       test_size=test_ratio / (valid_ratio + test_ratio),\n",
    "                                                       stratify=df_entities_test_valid[[ 'language']],\n",
    "                                                       random_state=random_seed)"
   ]
  },
  {
   "cell_type": "code",
   "execution_count": 13,
   "metadata": {},
   "outputs": [],
   "source": [
    "def drop_small_class(df, columns, thresh=2):\n",
    "    df_group = df.groupby(columns).count()\n",
    "    df_group = df_group[df_group.values < thresh]\n",
    "    condition = [True] * len(df)\n",
    "    for targets_ind in df_group.index:\n",
    "        for match in zip(columns, targets_ind):\n",
    "            condition = condition & (df[match[0]] != match[1])\n",
    "    return df[condition]"
   ]
  },
  {
   "cell_type": "code",
   "execution_count": 45,
   "metadata": {
    "pycharm": {
     "name": "#%%\n"
    }
   },
   "outputs": [],
   "source": [
    "# load config values\n",
    "config_file = Path('config') / 'command_generator_config.json'\n",
    "with open(config_file, 'r', encoding='utf-8') as fp:\n",
    "    config = json.load(fp)\n",
    "\n",
    "data_dir = Path(\"data/nmt_data\", )\n",
    "output_dir = Path(config['output_dir'])\n",
    "threshold = config['permute_thresh']\n",
    "languages = config['languages']\n",
    "\n",
    "\n",
    "def read_train_valid_test(path, prefix, appendix, lans):\n",
    "    train = pd.read_csv(path / (prefix + '_train' + appendix))\n",
    "    valid = pd.read_csv(path / (prefix + '_valid' + appendix))\n",
    "    test = pd.read_csv(path / (prefix + '_test' + appendix))\n",
    "\n",
    "    train = train[train['language'].isin(lans)]\n",
    "    valid = valid[valid['language'].isin(lans)]\n",
    "    test = test[test['language'].isin(lans)]\n",
    "    return train, valid, test\n",
    "\n",
    "df_temp_train, df_temp_valid, df_temp_test = read_train_valid_test(output_dir, 'templates', '.csv', languages)\n",
    "df_entities_train, df_entities_valid, df_entities_test = read_train_valid_test(output_dir, 'entities', '.csv', languages)\n"
   ]
  },
  {
   "cell_type": "code",
   "execution_count": 46,
   "metadata": {},
   "outputs": [
    {
     "data": {
      "text/plain": [
       "de    6305\n",
       "fr    4639\n",
       "en    3985\n",
       "it    3291\n",
       "Name: language, dtype: int64"
      ]
     },
     "execution_count": 46,
     "metadata": {},
     "output_type": "execute_result"
    }
   ],
   "source": [
    "df_entities_valid['language'].value_counts()"
   ]
  },
  {
   "cell_type": "code",
   "execution_count": 26,
   "metadata": {},
   "outputs": [],
   "source": [
    "time_start = time.time()\n",
    "gen = Generator(templates=templates, entities=entities)\n",
    "df_temp = pd.DataFrame(columns=[\"id\", \"language\", \"text\"])\n",
    "for tem_id in templates.id:\n",
    "    for lan in languages:\n",
    "        for text in gen.get_templates(tem_id, lan):\n",
    "            df_temp = df_temp.append({\n",
    "                \"id\": tem_id,\n",
    "                \"language\": lan,\n",
    "                \"text\": text\n",
    "            }, ignore_index=True)"
   ]
  },
  {
   "cell_type": "code",
   "execution_count": 34,
   "metadata": {},
   "outputs": [
    {
     "data": {
      "text/html": [
       "<div>\n",
       "<style scoped>\n",
       "    .dataframe tbody tr th:only-of-type {\n",
       "        vertical-align: middle;\n",
       "    }\n",
       "\n",
       "    .dataframe tbody tr th {\n",
       "        vertical-align: top;\n",
       "    }\n",
       "\n",
       "    .dataframe thead th {\n",
       "        text-align: right;\n",
       "    }\n",
       "</style>\n",
       "<table border=\"1\" class=\"dataframe\">\n",
       "  <thead>\n",
       "    <tr style=\"text-align: right;\">\n",
       "      <th></th>\n",
       "      <th></th>\n",
       "      <th>text</th>\n",
       "    </tr>\n",
       "    <tr>\n",
       "      <th>id</th>\n",
       "      <th>language</th>\n",
       "      <th></th>\n",
       "    </tr>\n",
       "  </thead>\n",
       "  <tbody>\n",
       "    <tr>\n",
       "      <th>Tv.NavigationDown.Init.Utterance</th>\n",
       "      <th>en</th>\n",
       "      <td>9</td>\n",
       "    </tr>\n",
       "    <tr>\n",
       "      <th rowspan=\"2\" valign=\"top\">Tv.NavigationOK.Init.Utterance</th>\n",
       "      <th>en</th>\n",
       "      <td>7</td>\n",
       "    </tr>\n",
       "    <tr>\n",
       "      <th>fr</th>\n",
       "      <td>3</td>\n",
       "    </tr>\n",
       "  </tbody>\n",
       "</table>\n",
       "</div>"
      ],
      "text/plain": [
       "                                           text\n",
       "id                               language      \n",
       "Tv.NavigationDown.Init.Utterance en           9\n",
       "Tv.NavigationOK.Init.Utterance   en           7\n",
       "                                 fr           3"
      ]
     },
     "execution_count": 34,
     "metadata": {},
     "output_type": "execute_result"
    }
   ],
   "source": [
    "j = df_temp.groupby(['id', 'language']).count()#\n",
    "j[j.values <10]"
   ]
  },
  {
   "cell_type": "code",
   "execution_count": 6,
   "metadata": {
    "pycharm": {
     "name": "#%%\n"
    }
   },
   "outputs": [
    {
     "name": "stderr",
     "output_type": "stream",
     "text": [
      "36440it [04:00, 151.65it/s]\n"
     ]
    },
    {
     "ename": "KeyboardInterrupt",
     "evalue": "",
     "output_type": "error",
     "traceback": [
      "\u001b[0;31m---------------------------------------------------------------------------\u001b[0m",
      "\u001b[0;31mKeyboardInterrupt\u001b[0m                         Traceback (most recent call last)",
      "\u001b[0;32m<ipython-input-6-1bd66aca62f9>\u001b[0m in \u001b[0;36m<module>\u001b[0;34m\u001b[0m\n\u001b[1;32m     13\u001b[0m             \u001b[0;34m\"language\"\u001b[0m\u001b[0;34m:\u001b[0m \u001b[0mlang\u001b[0m\u001b[0;34m,\u001b[0m\u001b[0;34m\u001b[0m\u001b[0;34m\u001b[0m\u001b[0m\n\u001b[1;32m     14\u001b[0m             \u001b[0;34m\"type\"\u001b[0m\u001b[0;34m:\u001b[0m \u001b[0mselected_entity\u001b[0m\u001b[0;34m.\u001b[0m\u001b[0mtype\u001b[0m\u001b[0;34m\u001b[0m\u001b[0;34m\u001b[0m\u001b[0m\n\u001b[0;32m---> 15\u001b[0;31m         }, ignore_index=True)\n\u001b[0m",
      "\u001b[0;32m~/anaconda3/envs/jobposting/lib/python3.7/site-packages/pandas/core/frame.py\u001b[0m in \u001b[0;36mappend\u001b[0;34m(self, other, ignore_index, verify_integrity, sort)\u001b[0m\n\u001b[1;32m   7083\u001b[0m             \u001b[0mignore_index\u001b[0m\u001b[0;34m=\u001b[0m\u001b[0mignore_index\u001b[0m\u001b[0;34m,\u001b[0m\u001b[0;34m\u001b[0m\u001b[0;34m\u001b[0m\u001b[0m\n\u001b[1;32m   7084\u001b[0m             \u001b[0mverify_integrity\u001b[0m\u001b[0;34m=\u001b[0m\u001b[0mverify_integrity\u001b[0m\u001b[0;34m,\u001b[0m\u001b[0;34m\u001b[0m\u001b[0;34m\u001b[0m\u001b[0m\n\u001b[0;32m-> 7085\u001b[0;31m             \u001b[0msort\u001b[0m\u001b[0;34m=\u001b[0m\u001b[0msort\u001b[0m\u001b[0;34m,\u001b[0m\u001b[0;34m\u001b[0m\u001b[0;34m\u001b[0m\u001b[0m\n\u001b[0m\u001b[1;32m   7086\u001b[0m         )\n\u001b[1;32m   7087\u001b[0m \u001b[0;34m\u001b[0m\u001b[0m\n",
      "\u001b[0;32m~/anaconda3/envs/jobposting/lib/python3.7/site-packages/pandas/core/reshape/concat.py\u001b[0m in \u001b[0;36mconcat\u001b[0;34m(objs, axis, join, ignore_index, keys, levels, names, verify_integrity, sort, copy)\u001b[0m\n\u001b[1;32m    282\u001b[0m     )\n\u001b[1;32m    283\u001b[0m \u001b[0;34m\u001b[0m\u001b[0m\n\u001b[0;32m--> 284\u001b[0;31m     \u001b[0;32mreturn\u001b[0m \u001b[0mop\u001b[0m\u001b[0;34m.\u001b[0m\u001b[0mget_result\u001b[0m\u001b[0;34m(\u001b[0m\u001b[0;34m)\u001b[0m\u001b[0;34m\u001b[0m\u001b[0;34m\u001b[0m\u001b[0m\n\u001b[0m\u001b[1;32m    285\u001b[0m \u001b[0;34m\u001b[0m\u001b[0m\n\u001b[1;32m    286\u001b[0m \u001b[0;34m\u001b[0m\u001b[0m\n",
      "\u001b[0;32m~/anaconda3/envs/jobposting/lib/python3.7/site-packages/pandas/core/reshape/concat.py\u001b[0m in \u001b[0;36mget_result\u001b[0;34m(self)\u001b[0m\n\u001b[1;32m    495\u001b[0m \u001b[0;34m\u001b[0m\u001b[0m\n\u001b[1;32m    496\u001b[0m             new_data = concatenate_block_managers(\n\u001b[0;32m--> 497\u001b[0;31m                 \u001b[0mmgrs_indexers\u001b[0m\u001b[0;34m,\u001b[0m \u001b[0mself\u001b[0m\u001b[0;34m.\u001b[0m\u001b[0mnew_axes\u001b[0m\u001b[0;34m,\u001b[0m \u001b[0mconcat_axis\u001b[0m\u001b[0;34m=\u001b[0m\u001b[0mself\u001b[0m\u001b[0;34m.\u001b[0m\u001b[0maxis\u001b[0m\u001b[0;34m,\u001b[0m \u001b[0mcopy\u001b[0m\u001b[0;34m=\u001b[0m\u001b[0mself\u001b[0m\u001b[0;34m.\u001b[0m\u001b[0mcopy\u001b[0m\u001b[0;34m\u001b[0m\u001b[0;34m\u001b[0m\u001b[0m\n\u001b[0m\u001b[1;32m    498\u001b[0m             )\n\u001b[1;32m    499\u001b[0m             \u001b[0;32mif\u001b[0m \u001b[0;32mnot\u001b[0m \u001b[0mself\u001b[0m\u001b[0;34m.\u001b[0m\u001b[0mcopy\u001b[0m\u001b[0;34m:\u001b[0m\u001b[0;34m\u001b[0m\u001b[0;34m\u001b[0m\u001b[0m\n",
      "\u001b[0;32m~/anaconda3/envs/jobposting/lib/python3.7/site-packages/pandas/core/internals/managers.py\u001b[0m in \u001b[0;36mconcatenate_block_managers\u001b[0;34m(mgrs_indexers, axes, concat_axis, copy)\u001b[0m\n\u001b[1;32m   2014\u001b[0m                 \u001b[0mvalues\u001b[0m \u001b[0;34m=\u001b[0m \u001b[0mvalues\u001b[0m\u001b[0;34m.\u001b[0m\u001b[0mview\u001b[0m\u001b[0;34m(\u001b[0m\u001b[0;34m)\u001b[0m\u001b[0;34m\u001b[0m\u001b[0;34m\u001b[0m\u001b[0m\n\u001b[1;32m   2015\u001b[0m             \u001b[0mb\u001b[0m \u001b[0;34m=\u001b[0m \u001b[0mb\u001b[0m\u001b[0;34m.\u001b[0m\u001b[0mmake_block_same_class\u001b[0m\u001b[0;34m(\u001b[0m\u001b[0mvalues\u001b[0m\u001b[0;34m,\u001b[0m \u001b[0mplacement\u001b[0m\u001b[0;34m=\u001b[0m\u001b[0mplacement\u001b[0m\u001b[0;34m)\u001b[0m\u001b[0;34m\u001b[0m\u001b[0;34m\u001b[0m\u001b[0m\n\u001b[0;32m-> 2016\u001b[0;31m         \u001b[0;32melif\u001b[0m \u001b[0mis_uniform_join_units\u001b[0m\u001b[0;34m(\u001b[0m\u001b[0mjoin_units\u001b[0m\u001b[0;34m)\u001b[0m\u001b[0;34m:\u001b[0m\u001b[0;34m\u001b[0m\u001b[0;34m\u001b[0m\u001b[0m\n\u001b[0m\u001b[1;32m   2017\u001b[0m             b = join_units[0].block.concat_same_type(\n\u001b[1;32m   2018\u001b[0m                 \u001b[0;34m[\u001b[0m\u001b[0mju\u001b[0m\u001b[0;34m.\u001b[0m\u001b[0mblock\u001b[0m \u001b[0;32mfor\u001b[0m \u001b[0mju\u001b[0m \u001b[0;32min\u001b[0m \u001b[0mjoin_units\u001b[0m\u001b[0;34m]\u001b[0m\u001b[0;34m,\u001b[0m \u001b[0mplacement\u001b[0m\u001b[0;34m=\u001b[0m\u001b[0mplacement\u001b[0m\u001b[0;34m\u001b[0m\u001b[0;34m\u001b[0m\u001b[0m\n",
      "\u001b[0;32m~/anaconda3/envs/jobposting/lib/python3.7/site-packages/pandas/core/internals/concat.py\u001b[0m in \u001b[0;36mis_uniform_join_units\u001b[0;34m(join_units)\u001b[0m\n\u001b[1;32m    386\u001b[0m         \u001b[0;31m# no blocks that would get missing values (can lead to type upcasts)\u001b[0m\u001b[0;34m\u001b[0m\u001b[0;34m\u001b[0m\u001b[0;34m\u001b[0m\u001b[0m\n\u001b[1;32m    387\u001b[0m         \u001b[0;31m# unless we're an extension dtype.\u001b[0m\u001b[0;34m\u001b[0m\u001b[0;34m\u001b[0m\u001b[0;34m\u001b[0m\u001b[0m\n\u001b[0;32m--> 388\u001b[0;31m         \u001b[0mall\u001b[0m\u001b[0;34m(\u001b[0m\u001b[0;32mnot\u001b[0m \u001b[0mju\u001b[0m\u001b[0;34m.\u001b[0m\u001b[0mis_na\u001b[0m \u001b[0;32mor\u001b[0m \u001b[0mju\u001b[0m\u001b[0;34m.\u001b[0m\u001b[0mblock\u001b[0m\u001b[0;34m.\u001b[0m\u001b[0mis_extension\u001b[0m \u001b[0;32mfor\u001b[0m \u001b[0mju\u001b[0m \u001b[0;32min\u001b[0m \u001b[0mjoin_units\u001b[0m\u001b[0;34m)\u001b[0m\u001b[0;34m\u001b[0m\u001b[0;34m\u001b[0m\u001b[0m\n\u001b[0m\u001b[1;32m    389\u001b[0m         \u001b[0;32mand\u001b[0m\u001b[0;34m\u001b[0m\u001b[0;34m\u001b[0m\u001b[0m\n\u001b[1;32m    390\u001b[0m         \u001b[0;31m# no blocks with indexers (as then the dimensions do not fit)\u001b[0m\u001b[0;34m\u001b[0m\u001b[0;34m\u001b[0m\u001b[0;34m\u001b[0m\u001b[0m\n",
      "\u001b[0;32m~/anaconda3/envs/jobposting/lib/python3.7/site-packages/pandas/core/internals/concat.py\u001b[0m in \u001b[0;36m<genexpr>\u001b[0;34m(.0)\u001b[0m\n\u001b[1;32m    386\u001b[0m         \u001b[0;31m# no blocks that would get missing values (can lead to type upcasts)\u001b[0m\u001b[0;34m\u001b[0m\u001b[0;34m\u001b[0m\u001b[0;34m\u001b[0m\u001b[0m\n\u001b[1;32m    387\u001b[0m         \u001b[0;31m# unless we're an extension dtype.\u001b[0m\u001b[0;34m\u001b[0m\u001b[0;34m\u001b[0m\u001b[0;34m\u001b[0m\u001b[0m\n\u001b[0;32m--> 388\u001b[0;31m         \u001b[0mall\u001b[0m\u001b[0;34m(\u001b[0m\u001b[0;32mnot\u001b[0m \u001b[0mju\u001b[0m\u001b[0;34m.\u001b[0m\u001b[0mis_na\u001b[0m \u001b[0;32mor\u001b[0m \u001b[0mju\u001b[0m\u001b[0;34m.\u001b[0m\u001b[0mblock\u001b[0m\u001b[0;34m.\u001b[0m\u001b[0mis_extension\u001b[0m \u001b[0;32mfor\u001b[0m \u001b[0mju\u001b[0m \u001b[0;32min\u001b[0m \u001b[0mjoin_units\u001b[0m\u001b[0;34m)\u001b[0m\u001b[0;34m\u001b[0m\u001b[0;34m\u001b[0m\u001b[0m\n\u001b[0m\u001b[1;32m    389\u001b[0m         \u001b[0;32mand\u001b[0m\u001b[0;34m\u001b[0m\u001b[0;34m\u001b[0m\u001b[0m\n\u001b[1;32m    390\u001b[0m         \u001b[0;31m# no blocks with indexers (as then the dimensions do not fit)\u001b[0m\u001b[0;34m\u001b[0m\u001b[0;34m\u001b[0m\u001b[0;34m\u001b[0m\u001b[0m\n",
      "\u001b[0;32mpandas/_libs/properties.pyx\u001b[0m in \u001b[0;36mpandas._libs.properties.CachedProperty.__get__\u001b[0;34m()\u001b[0m\n",
      "\u001b[0;32m~/anaconda3/envs/jobposting/lib/python3.7/site-packages/pandas/core/internals/concat.py\u001b[0m in \u001b[0;36mis_na\u001b[0;34m(self)\u001b[0m\n\u001b[1;32m    166\u001b[0m         \u001b[0mchunk_len\u001b[0m \u001b[0;34m=\u001b[0m \u001b[0mmax\u001b[0m\u001b[0;34m(\u001b[0m\u001b[0mtotal_len\u001b[0m \u001b[0;34m//\u001b[0m \u001b[0;36m40\u001b[0m\u001b[0;34m,\u001b[0m \u001b[0;36m1000\u001b[0m\u001b[0;34m)\u001b[0m\u001b[0;34m\u001b[0m\u001b[0;34m\u001b[0m\u001b[0m\n\u001b[1;32m    167\u001b[0m         \u001b[0;32mfor\u001b[0m \u001b[0mi\u001b[0m \u001b[0;32min\u001b[0m \u001b[0mrange\u001b[0m\u001b[0;34m(\u001b[0m\u001b[0;36m0\u001b[0m\u001b[0;34m,\u001b[0m \u001b[0mtotal_len\u001b[0m\u001b[0;34m,\u001b[0m \u001b[0mchunk_len\u001b[0m\u001b[0;34m)\u001b[0m\u001b[0;34m:\u001b[0m\u001b[0;34m\u001b[0m\u001b[0;34m\u001b[0m\u001b[0m\n\u001b[0;32m--> 168\u001b[0;31m             \u001b[0;32mif\u001b[0m \u001b[0;32mnot\u001b[0m \u001b[0misna\u001b[0m\u001b[0;34m(\u001b[0m\u001b[0mvalues_flat\u001b[0m\u001b[0;34m[\u001b[0m\u001b[0mi\u001b[0m \u001b[0;34m:\u001b[0m \u001b[0mi\u001b[0m \u001b[0;34m+\u001b[0m \u001b[0mchunk_len\u001b[0m\u001b[0;34m]\u001b[0m\u001b[0;34m)\u001b[0m\u001b[0;34m.\u001b[0m\u001b[0mall\u001b[0m\u001b[0;34m(\u001b[0m\u001b[0;34m)\u001b[0m\u001b[0;34m:\u001b[0m\u001b[0;34m\u001b[0m\u001b[0;34m\u001b[0m\u001b[0m\n\u001b[0m\u001b[1;32m    169\u001b[0m                 \u001b[0;32mreturn\u001b[0m \u001b[0;32mFalse\u001b[0m\u001b[0;34m\u001b[0m\u001b[0;34m\u001b[0m\u001b[0m\n\u001b[1;32m    170\u001b[0m \u001b[0;34m\u001b[0m\u001b[0m\n",
      "\u001b[0;32m~/anaconda3/envs/jobposting/lib/python3.7/site-packages/pandas/core/dtypes/missing.py\u001b[0m in \u001b[0;36misna\u001b[0;34m(obj)\u001b[0m\n\u001b[1;32m    124\u001b[0m     \u001b[0mName\u001b[0m\u001b[0;34m:\u001b[0m \u001b[0;36m1\u001b[0m\u001b[0;34m,\u001b[0m \u001b[0mdtype\u001b[0m\u001b[0;34m:\u001b[0m \u001b[0mbool\u001b[0m\u001b[0;34m\u001b[0m\u001b[0;34m\u001b[0m\u001b[0m\n\u001b[1;32m    125\u001b[0m     \"\"\"\n\u001b[0;32m--> 126\u001b[0;31m     \u001b[0;32mreturn\u001b[0m \u001b[0m_isna\u001b[0m\u001b[0;34m(\u001b[0m\u001b[0mobj\u001b[0m\u001b[0;34m)\u001b[0m\u001b[0;34m\u001b[0m\u001b[0;34m\u001b[0m\u001b[0m\n\u001b[0m\u001b[1;32m    127\u001b[0m \u001b[0;34m\u001b[0m\u001b[0m\n\u001b[1;32m    128\u001b[0m \u001b[0;34m\u001b[0m\u001b[0m\n",
      "\u001b[0;32m~/anaconda3/envs/jobposting/lib/python3.7/site-packages/pandas/core/dtypes/missing.py\u001b[0m in \u001b[0;36m_isna_new\u001b[0;34m(obj)\u001b[0m\n\u001b[1;32m    150\u001b[0m         ),\n\u001b[1;32m    151\u001b[0m     ):\n\u001b[0;32m--> 152\u001b[0;31m         \u001b[0;32mreturn\u001b[0m \u001b[0m_isna_ndarraylike\u001b[0m\u001b[0;34m(\u001b[0m\u001b[0mobj\u001b[0m\u001b[0;34m)\u001b[0m\u001b[0;34m\u001b[0m\u001b[0;34m\u001b[0m\u001b[0m\n\u001b[0m\u001b[1;32m    153\u001b[0m     \u001b[0;32melif\u001b[0m \u001b[0misinstance\u001b[0m\u001b[0;34m(\u001b[0m\u001b[0mobj\u001b[0m\u001b[0;34m,\u001b[0m \u001b[0mABCGeneric\u001b[0m\u001b[0;34m)\u001b[0m\u001b[0;34m:\u001b[0m\u001b[0;34m\u001b[0m\u001b[0;34m\u001b[0m\u001b[0m\n\u001b[1;32m    154\u001b[0m         \u001b[0;32mreturn\u001b[0m \u001b[0mobj\u001b[0m\u001b[0;34m.\u001b[0m\u001b[0m_constructor\u001b[0m\u001b[0;34m(\u001b[0m\u001b[0mobj\u001b[0m\u001b[0;34m.\u001b[0m\u001b[0m_data\u001b[0m\u001b[0;34m.\u001b[0m\u001b[0misna\u001b[0m\u001b[0;34m(\u001b[0m\u001b[0mfunc\u001b[0m\u001b[0;34m=\u001b[0m\u001b[0misna\u001b[0m\u001b[0;34m)\u001b[0m\u001b[0;34m)\u001b[0m\u001b[0;34m\u001b[0m\u001b[0;34m\u001b[0m\u001b[0m\n",
      "\u001b[0;32m~/anaconda3/envs/jobposting/lib/python3.7/site-packages/pandas/core/dtypes/missing.py\u001b[0m in \u001b[0;36m_isna_ndarraylike\u001b[0;34m(obj)\u001b[0m\n\u001b[1;32m    243\u001b[0m     \u001b[0;32melif\u001b[0m \u001b[0misinstance\u001b[0m\u001b[0;34m(\u001b[0m\u001b[0mobj\u001b[0m\u001b[0;34m,\u001b[0m \u001b[0mABCDatetimeArray\u001b[0m\u001b[0;34m)\u001b[0m\u001b[0;34m:\u001b[0m\u001b[0;34m\u001b[0m\u001b[0;34m\u001b[0m\u001b[0m\n\u001b[1;32m    244\u001b[0m         \u001b[0;32mreturn\u001b[0m \u001b[0mobj\u001b[0m\u001b[0;34m.\u001b[0m\u001b[0misna\u001b[0m\u001b[0;34m(\u001b[0m\u001b[0;34m)\u001b[0m\u001b[0;34m\u001b[0m\u001b[0;34m\u001b[0m\u001b[0m\n\u001b[0;32m--> 245\u001b[0;31m     \u001b[0;32melif\u001b[0m \u001b[0mis_string_dtype\u001b[0m\u001b[0;34m(\u001b[0m\u001b[0mdtype\u001b[0m\u001b[0;34m)\u001b[0m\u001b[0;34m:\u001b[0m\u001b[0;34m\u001b[0m\u001b[0;34m\u001b[0m\u001b[0m\n\u001b[0m\u001b[1;32m    246\u001b[0m         \u001b[0;31m# Working around NumPy ticket 1542\u001b[0m\u001b[0;34m\u001b[0m\u001b[0;34m\u001b[0m\u001b[0;34m\u001b[0m\u001b[0m\n\u001b[1;32m    247\u001b[0m         \u001b[0mshape\u001b[0m \u001b[0;34m=\u001b[0m \u001b[0mvalues\u001b[0m\u001b[0;34m.\u001b[0m\u001b[0mshape\u001b[0m\u001b[0;34m\u001b[0m\u001b[0;34m\u001b[0m\u001b[0m\n",
      "\u001b[0;32m~/anaconda3/envs/jobposting/lib/python3.7/site-packages/pandas/core/dtypes/common.py\u001b[0m in \u001b[0;36mis_string_dtype\u001b[0;34m(arr_or_dtype)\u001b[0m\n\u001b[1;32m    613\u001b[0m         \u001b[0;32mreturn\u001b[0m \u001b[0many\u001b[0m\u001b[0;34m(\u001b[0m\u001b[0mis_excluded\u001b[0m\u001b[0;34m(\u001b[0m\u001b[0mdtype\u001b[0m\u001b[0;34m)\u001b[0m \u001b[0;32mfor\u001b[0m \u001b[0mis_excluded\u001b[0m \u001b[0;32min\u001b[0m \u001b[0mis_excluded_checks\u001b[0m\u001b[0;34m)\u001b[0m\u001b[0;34m\u001b[0m\u001b[0;34m\u001b[0m\u001b[0m\n\u001b[1;32m    614\u001b[0m \u001b[0;34m\u001b[0m\u001b[0m\n\u001b[0;32m--> 615\u001b[0;31m     \u001b[0;32mreturn\u001b[0m \u001b[0m_is_dtype\u001b[0m\u001b[0;34m(\u001b[0m\u001b[0marr_or_dtype\u001b[0m\u001b[0;34m,\u001b[0m \u001b[0mcondition\u001b[0m\u001b[0;34m)\u001b[0m\u001b[0;34m\u001b[0m\u001b[0;34m\u001b[0m\u001b[0m\n\u001b[0m\u001b[1;32m    616\u001b[0m \u001b[0;34m\u001b[0m\u001b[0m\n\u001b[1;32m    617\u001b[0m \u001b[0;34m\u001b[0m\u001b[0m\n",
      "\u001b[0;32m~/anaconda3/envs/jobposting/lib/python3.7/site-packages/pandas/core/dtypes/common.py\u001b[0m in \u001b[0;36m_is_dtype\u001b[0;34m(arr_or_dtype, condition)\u001b[0m\n\u001b[1;32m   1667\u001b[0m     \u001b[0;32mexcept\u001b[0m \u001b[0;34m(\u001b[0m\u001b[0mTypeError\u001b[0m\u001b[0;34m,\u001b[0m \u001b[0mValueError\u001b[0m\u001b[0;34m,\u001b[0m \u001b[0mUnicodeEncodeError\u001b[0m\u001b[0;34m)\u001b[0m\u001b[0;34m:\u001b[0m\u001b[0;34m\u001b[0m\u001b[0;34m\u001b[0m\u001b[0m\n\u001b[1;32m   1668\u001b[0m         \u001b[0;32mreturn\u001b[0m \u001b[0;32mFalse\u001b[0m\u001b[0;34m\u001b[0m\u001b[0;34m\u001b[0m\u001b[0m\n\u001b[0;32m-> 1669\u001b[0;31m     \u001b[0;32mreturn\u001b[0m \u001b[0mcondition\u001b[0m\u001b[0;34m(\u001b[0m\u001b[0mdtype\u001b[0m\u001b[0;34m)\u001b[0m\u001b[0;34m\u001b[0m\u001b[0;34m\u001b[0m\u001b[0m\n\u001b[0m\u001b[1;32m   1670\u001b[0m \u001b[0;34m\u001b[0m\u001b[0m\n\u001b[1;32m   1671\u001b[0m \u001b[0;34m\u001b[0m\u001b[0m\n",
      "\u001b[0;32m~/anaconda3/envs/jobposting/lib/python3.7/site-packages/pandas/core/dtypes/common.py\u001b[0m in \u001b[0;36mcondition\u001b[0;34m(dtype)\u001b[0m\n\u001b[1;32m    604\u001b[0m     \u001b[0;31m# TODO: gh-15585: consider making the checks stricter.\u001b[0m\u001b[0;34m\u001b[0m\u001b[0;34m\u001b[0m\u001b[0;34m\u001b[0m\u001b[0m\n\u001b[1;32m    605\u001b[0m     \u001b[0;32mdef\u001b[0m \u001b[0mcondition\u001b[0m\u001b[0;34m(\u001b[0m\u001b[0mdtype\u001b[0m\u001b[0;34m)\u001b[0m \u001b[0;34m->\u001b[0m \u001b[0mbool\u001b[0m\u001b[0;34m:\u001b[0m\u001b[0;34m\u001b[0m\u001b[0;34m\u001b[0m\u001b[0m\n\u001b[0;32m--> 606\u001b[0;31m         \u001b[0;32mreturn\u001b[0m \u001b[0mdtype\u001b[0m\u001b[0;34m.\u001b[0m\u001b[0mkind\u001b[0m \u001b[0;32min\u001b[0m \u001b[0;34m(\u001b[0m\u001b[0;34m\"O\"\u001b[0m\u001b[0;34m,\u001b[0m \u001b[0;34m\"S\"\u001b[0m\u001b[0;34m,\u001b[0m \u001b[0;34m\"U\"\u001b[0m\u001b[0;34m)\u001b[0m \u001b[0;32mand\u001b[0m \u001b[0;32mnot\u001b[0m \u001b[0mis_excluded_dtype\u001b[0m\u001b[0;34m(\u001b[0m\u001b[0mdtype\u001b[0m\u001b[0;34m)\u001b[0m\u001b[0;34m\u001b[0m\u001b[0;34m\u001b[0m\u001b[0m\n\u001b[0m\u001b[1;32m    607\u001b[0m \u001b[0;34m\u001b[0m\u001b[0m\n\u001b[1;32m    608\u001b[0m     \u001b[0;32mdef\u001b[0m \u001b[0mis_excluded_dtype\u001b[0m\u001b[0;34m(\u001b[0m\u001b[0mdtype\u001b[0m\u001b[0;34m)\u001b[0m \u001b[0;34m->\u001b[0m \u001b[0mbool\u001b[0m\u001b[0;34m:\u001b[0m\u001b[0;34m\u001b[0m\u001b[0;34m\u001b[0m\u001b[0m\n",
      "\u001b[0;32m~/anaconda3/envs/jobposting/lib/python3.7/site-packages/pandas/core/dtypes/common.py\u001b[0m in \u001b[0;36mis_excluded_dtype\u001b[0;34m(dtype)\u001b[0m\n\u001b[1;32m    611\u001b[0m         \"\"\"\n\u001b[1;32m    612\u001b[0m         \u001b[0mis_excluded_checks\u001b[0m \u001b[0;34m=\u001b[0m \u001b[0;34m(\u001b[0m\u001b[0mis_period_dtype\u001b[0m\u001b[0;34m,\u001b[0m \u001b[0mis_interval_dtype\u001b[0m\u001b[0;34m)\u001b[0m\u001b[0;34m\u001b[0m\u001b[0;34m\u001b[0m\u001b[0m\n\u001b[0;32m--> 613\u001b[0;31m         \u001b[0;32mreturn\u001b[0m \u001b[0many\u001b[0m\u001b[0;34m(\u001b[0m\u001b[0mis_excluded\u001b[0m\u001b[0;34m(\u001b[0m\u001b[0mdtype\u001b[0m\u001b[0;34m)\u001b[0m \u001b[0;32mfor\u001b[0m \u001b[0mis_excluded\u001b[0m \u001b[0;32min\u001b[0m \u001b[0mis_excluded_checks\u001b[0m\u001b[0;34m)\u001b[0m\u001b[0;34m\u001b[0m\u001b[0;34m\u001b[0m\u001b[0m\n\u001b[0m\u001b[1;32m    614\u001b[0m \u001b[0;34m\u001b[0m\u001b[0m\n\u001b[1;32m    615\u001b[0m     \u001b[0;32mreturn\u001b[0m \u001b[0m_is_dtype\u001b[0m\u001b[0;34m(\u001b[0m\u001b[0marr_or_dtype\u001b[0m\u001b[0;34m,\u001b[0m \u001b[0mcondition\u001b[0m\u001b[0;34m)\u001b[0m\u001b[0;34m\u001b[0m\u001b[0;34m\u001b[0m\u001b[0m\n",
      "\u001b[0;32m~/anaconda3/envs/jobposting/lib/python3.7/site-packages/pandas/core/dtypes/common.py\u001b[0m in \u001b[0;36m<genexpr>\u001b[0;34m(.0)\u001b[0m\n\u001b[1;32m    611\u001b[0m         \"\"\"\n\u001b[1;32m    612\u001b[0m         \u001b[0mis_excluded_checks\u001b[0m \u001b[0;34m=\u001b[0m \u001b[0;34m(\u001b[0m\u001b[0mis_period_dtype\u001b[0m\u001b[0;34m,\u001b[0m \u001b[0mis_interval_dtype\u001b[0m\u001b[0;34m)\u001b[0m\u001b[0;34m\u001b[0m\u001b[0;34m\u001b[0m\u001b[0m\n\u001b[0;32m--> 613\u001b[0;31m         \u001b[0;32mreturn\u001b[0m \u001b[0many\u001b[0m\u001b[0;34m(\u001b[0m\u001b[0mis_excluded\u001b[0m\u001b[0;34m(\u001b[0m\u001b[0mdtype\u001b[0m\u001b[0;34m)\u001b[0m \u001b[0;32mfor\u001b[0m \u001b[0mis_excluded\u001b[0m \u001b[0;32min\u001b[0m \u001b[0mis_excluded_checks\u001b[0m\u001b[0;34m)\u001b[0m\u001b[0;34m\u001b[0m\u001b[0;34m\u001b[0m\u001b[0m\n\u001b[0m\u001b[1;32m    614\u001b[0m \u001b[0;34m\u001b[0m\u001b[0m\n\u001b[1;32m    615\u001b[0m     \u001b[0;32mreturn\u001b[0m \u001b[0m_is_dtype\u001b[0m\u001b[0;34m(\u001b[0m\u001b[0marr_or_dtype\u001b[0m\u001b[0;34m,\u001b[0m \u001b[0mcondition\u001b[0m\u001b[0;34m)\u001b[0m\u001b[0;34m\u001b[0m\u001b[0;34m\u001b[0m\u001b[0m\n",
      "\u001b[0;32m~/anaconda3/envs/jobposting/lib/python3.7/site-packages/pandas/core/dtypes/common.py\u001b[0m in \u001b[0;36mis_period_dtype\u001b[0;34m(arr_or_dtype)\u001b[0m\n\u001b[1;32m    501\u001b[0m     \u001b[0;32mif\u001b[0m \u001b[0marr_or_dtype\u001b[0m \u001b[0;32mis\u001b[0m \u001b[0;32mNone\u001b[0m\u001b[0;34m:\u001b[0m\u001b[0;34m\u001b[0m\u001b[0;34m\u001b[0m\u001b[0m\n\u001b[1;32m    502\u001b[0m         \u001b[0;32mreturn\u001b[0m \u001b[0;32mFalse\u001b[0m\u001b[0;34m\u001b[0m\u001b[0;34m\u001b[0m\u001b[0m\n\u001b[0;32m--> 503\u001b[0;31m     \u001b[0;32mreturn\u001b[0m \u001b[0mPeriodDtype\u001b[0m\u001b[0;34m.\u001b[0m\u001b[0mis_dtype\u001b[0m\u001b[0;34m(\u001b[0m\u001b[0marr_or_dtype\u001b[0m\u001b[0;34m)\u001b[0m\u001b[0;34m\u001b[0m\u001b[0;34m\u001b[0m\u001b[0m\n\u001b[0m\u001b[1;32m    504\u001b[0m \u001b[0;34m\u001b[0m\u001b[0m\n\u001b[1;32m    505\u001b[0m \u001b[0;34m\u001b[0m\u001b[0m\n",
      "\u001b[0;32m~/anaconda3/envs/jobposting/lib/python3.7/site-packages/pandas/core/dtypes/dtypes.py\u001b[0m in \u001b[0;36mis_dtype\u001b[0;34m(cls, dtype)\u001b[0m\n\u001b[1;32m    935\u001b[0m             \u001b[0;32melse\u001b[0m\u001b[0;34m:\u001b[0m\u001b[0;34m\u001b[0m\u001b[0;34m\u001b[0m\u001b[0m\n\u001b[1;32m    936\u001b[0m                 \u001b[0;32mreturn\u001b[0m \u001b[0;32mFalse\u001b[0m\u001b[0;34m\u001b[0m\u001b[0;34m\u001b[0m\u001b[0m\n\u001b[0;32m--> 937\u001b[0;31m         \u001b[0;32mreturn\u001b[0m \u001b[0msuper\u001b[0m\u001b[0;34m(\u001b[0m\u001b[0;34m)\u001b[0m\u001b[0;34m.\u001b[0m\u001b[0mis_dtype\u001b[0m\u001b[0;34m(\u001b[0m\u001b[0mdtype\u001b[0m\u001b[0;34m)\u001b[0m\u001b[0;34m\u001b[0m\u001b[0;34m\u001b[0m\u001b[0m\n\u001b[0m\u001b[1;32m    938\u001b[0m \u001b[0;34m\u001b[0m\u001b[0m\n\u001b[1;32m    939\u001b[0m     \u001b[0;34m@\u001b[0m\u001b[0mclassmethod\u001b[0m\u001b[0;34m\u001b[0m\u001b[0;34m\u001b[0m\u001b[0m\n",
      "\u001b[0;32m~/anaconda3/envs/jobposting/lib/python3.7/site-packages/pandas/core/dtypes/base.py\u001b[0m in \u001b[0;36mis_dtype\u001b[0;34m(cls, dtype)\u001b[0m\n\u001b[1;32m    271\u001b[0m         \u001b[0mdtype\u001b[0m \u001b[0;34m=\u001b[0m \u001b[0mgetattr\u001b[0m\u001b[0;34m(\u001b[0m\u001b[0mdtype\u001b[0m\u001b[0;34m,\u001b[0m \u001b[0;34m\"dtype\"\u001b[0m\u001b[0;34m,\u001b[0m \u001b[0mdtype\u001b[0m\u001b[0;34m)\u001b[0m\u001b[0;34m\u001b[0m\u001b[0;34m\u001b[0m\u001b[0m\n\u001b[1;32m    272\u001b[0m \u001b[0;34m\u001b[0m\u001b[0m\n\u001b[0;32m--> 273\u001b[0;31m         \u001b[0;32mif\u001b[0m \u001b[0misinstance\u001b[0m\u001b[0;34m(\u001b[0m\u001b[0mdtype\u001b[0m\u001b[0;34m,\u001b[0m \u001b[0;34m(\u001b[0m\u001b[0mABCSeries\u001b[0m\u001b[0;34m,\u001b[0m \u001b[0mABCIndexClass\u001b[0m\u001b[0;34m,\u001b[0m \u001b[0mABCDataFrame\u001b[0m\u001b[0;34m,\u001b[0m \u001b[0mnp\u001b[0m\u001b[0;34m.\u001b[0m\u001b[0mdtype\u001b[0m\u001b[0;34m)\u001b[0m\u001b[0;34m)\u001b[0m\u001b[0;34m:\u001b[0m\u001b[0;34m\u001b[0m\u001b[0;34m\u001b[0m\u001b[0m\n\u001b[0m\u001b[1;32m    274\u001b[0m             \u001b[0;31m# https://github.com/pandas-dev/pandas/issues/22960\u001b[0m\u001b[0;34m\u001b[0m\u001b[0;34m\u001b[0m\u001b[0;34m\u001b[0m\u001b[0m\n\u001b[1;32m    275\u001b[0m             \u001b[0;31m# avoid passing data to `construct_from_string`. This could\u001b[0m\u001b[0;34m\u001b[0m\u001b[0;34m\u001b[0m\u001b[0;34m\u001b[0m\u001b[0m\n",
      "\u001b[0;32m~/anaconda3/envs/jobposting/lib/python3.7/site-packages/pandas/core/dtypes/generic.py\u001b[0m in \u001b[0;36m_check\u001b[0;34m(cls, inst)\u001b[0m\n\u001b[1;32m      8\u001b[0m     \u001b[0;31m# https://github.com/python/mypy/issues/1006\u001b[0m\u001b[0;34m\u001b[0m\u001b[0;34m\u001b[0m\u001b[0;34m\u001b[0m\u001b[0m\n\u001b[1;32m      9\u001b[0m     \u001b[0;31m# error: 'classmethod' used with a non-method\u001b[0m\u001b[0;34m\u001b[0m\u001b[0;34m\u001b[0m\u001b[0;34m\u001b[0m\u001b[0m\n\u001b[0;32m---> 10\u001b[0;31m     \u001b[0;34m@\u001b[0m\u001b[0mclassmethod\u001b[0m  \u001b[0;31m# type: ignore\u001b[0m\u001b[0;34m\u001b[0m\u001b[0;34m\u001b[0m\u001b[0m\n\u001b[0m\u001b[1;32m     11\u001b[0m     \u001b[0;32mdef\u001b[0m \u001b[0m_check\u001b[0m\u001b[0;34m(\u001b[0m\u001b[0mcls\u001b[0m\u001b[0;34m,\u001b[0m \u001b[0minst\u001b[0m\u001b[0;34m)\u001b[0m \u001b[0;34m->\u001b[0m \u001b[0mbool\u001b[0m\u001b[0;34m:\u001b[0m\u001b[0;34m\u001b[0m\u001b[0;34m\u001b[0m\u001b[0m\n\u001b[1;32m     12\u001b[0m         \u001b[0;32mreturn\u001b[0m \u001b[0mgetattr\u001b[0m\u001b[0;34m(\u001b[0m\u001b[0minst\u001b[0m\u001b[0;34m,\u001b[0m \u001b[0mattr\u001b[0m\u001b[0;34m,\u001b[0m \u001b[0;34m\"_typ\"\u001b[0m\u001b[0;34m)\u001b[0m \u001b[0;32min\u001b[0m \u001b[0mcomp\u001b[0m\u001b[0;34m\u001b[0m\u001b[0;34m\u001b[0m\u001b[0m\n",
      "\u001b[0;31mKeyboardInterrupt\u001b[0m: "
     ]
    }
   ],
   "source": [
    "time_start = time.time()\n",
    "entities = entities[entities.language.isin(languages)]\n",
    "df_entities = pd.DataFrame(columns=[\"value\", \"type\", \"language\"])\n",
    "for _, selected_entity in tqdm(entities.iterrows()):\n",
    "    aliases = selected_entity['aliases']\n",
    "    value = [str(selected_entity['value'])]\n",
    "    normalized_value = [selected_entity['normalizedValue']]\n",
    "    lang = selected_entity['language']\n",
    "    filtered_values = filter_aliases(aliases + value + normalized_value, lang)\n",
    "    for v in filtered_values:\n",
    "        df_entities = df_entities.append({\n",
    "            \"value\": v,\n",
    "            \"language\": lang,\n",
    "            \"type\": selected_entity.type\n",
    "        }, ignore_index=True)"
   ]
  },
  {
   "cell_type": "code",
   "execution_count": 7,
   "metadata": {},
   "outputs": [
    {
     "data": {
      "text/html": [
       "<div>\n",
       "<style scoped>\n",
       "    .dataframe tbody tr th:only-of-type {\n",
       "        vertical-align: middle;\n",
       "    }\n",
       "\n",
       "    .dataframe tbody tr th {\n",
       "        vertical-align: top;\n",
       "    }\n",
       "\n",
       "    .dataframe thead th {\n",
       "        text-align: right;\n",
       "    }\n",
       "</style>\n",
       "<table border=\"1\" class=\"dataframe\">\n",
       "  <thead>\n",
       "    <tr style=\"text-align: right;\">\n",
       "      <th></th>\n",
       "      <th>value</th>\n",
       "      <th>type</th>\n",
       "      <th>language</th>\n",
       "    </tr>\n",
       "  </thead>\n",
       "  <tbody>\n",
       "    <tr>\n",
       "      <th>0</th>\n",
       "      <td>12 singles volume 1</td>\n",
       "      <td>AlbumName</td>\n",
       "      <td>en</td>\n",
       "    </tr>\n",
       "    <tr>\n",
       "      <th>1</th>\n",
       "      <td>1 gott</td>\n",
       "      <td>AlbumName</td>\n",
       "      <td>en</td>\n",
       "    </tr>\n",
       "    <tr>\n",
       "      <th>2</th>\n",
       "      <td>20 th century boy</td>\n",
       "      <td>AlbumName</td>\n",
       "      <td>en</td>\n",
       "    </tr>\n",
       "    <tr>\n",
       "      <th>3</th>\n",
       "      <td>11 ta stock sound 2</td>\n",
       "      <td>AlbumName</td>\n",
       "      <td>en</td>\n",
       "    </tr>\n",
       "    <tr>\n",
       "      <th>4</th>\n",
       "      <td>20 jahre dj ötzi party ohne ende</td>\n",
       "      <td>AlbumName</td>\n",
       "      <td>de</td>\n",
       "    </tr>\n",
       "    <tr>\n",
       "      <th>...</th>\n",
       "      <td>...</td>\n",
       "      <td>...</td>\n",
       "      <td>...</td>\n",
       "    </tr>\n",
       "    <tr>\n",
       "      <th>48692</th>\n",
       "      <td>sciencesuisse</td>\n",
       "      <td>SeriesName</td>\n",
       "      <td>fr</td>\n",
       "    </tr>\n",
       "    <tr>\n",
       "      <th>48693</th>\n",
       "      <td>The Fall</td>\n",
       "      <td>SeriesName</td>\n",
       "      <td>fr</td>\n",
       "    </tr>\n",
       "    <tr>\n",
       "      <th>48694</th>\n",
       "      <td>Wissper</td>\n",
       "      <td>SeriesName</td>\n",
       "      <td>it</td>\n",
       "    </tr>\n",
       "    <tr>\n",
       "      <th>48695</th>\n",
       "      <td>Strike Back</td>\n",
       "      <td>SeriesName</td>\n",
       "      <td>fr</td>\n",
       "    </tr>\n",
       "    <tr>\n",
       "      <th>48696</th>\n",
       "      <td>Créatures de légendes</td>\n",
       "      <td>SeriesName</td>\n",
       "      <td>fr</td>\n",
       "    </tr>\n",
       "  </tbody>\n",
       "</table>\n",
       "<p>48697 rows × 3 columns</p>\n",
       "</div>"
      ],
      "text/plain": [
       "                                  value        type language\n",
       "0                   12 singles volume 1   AlbumName       en\n",
       "1                                1 gott   AlbumName       en\n",
       "2                     20 th century boy   AlbumName       en\n",
       "3                   11 ta stock sound 2   AlbumName       en\n",
       "4      20 jahre dj ötzi party ohne ende   AlbumName       de\n",
       "...                                 ...         ...      ...\n",
       "48692                     sciencesuisse  SeriesName       fr\n",
       "48693                          The Fall  SeriesName       fr\n",
       "48694                           Wissper  SeriesName       it\n",
       "48695                       Strike Back  SeriesName       fr\n",
       "48696             Créatures de légendes  SeriesName       fr\n",
       "\n",
       "[48697 rows x 3 columns]"
      ]
     },
     "execution_count": 7,
     "metadata": {},
     "output_type": "execute_result"
    }
   ],
   "source": [
    "df_entities"
   ]
  },
  {
   "cell_type": "code",
   "execution_count": 70,
   "metadata": {},
   "outputs": [],
   "source": [
    "def drop_small_class(df, columns, thresh=4):\n",
    "    df_group = df.groupby(columns).count()\n",
    "    df_group = df_group[df_group.values < thresh]\n",
    "    condition = True\n",
    "    for targets_ind in df_group.index:\n",
    "        for match in zip(columns, targets_ind):\n",
    "            condition = condition & (df[match[0]] != match[1])\n",
    "    return df[condition]"
   ]
  },
  {
   "cell_type": "code",
   "execution_count": 66,
   "metadata": {
    "scrolled": true
   },
   "outputs": [
    {
     "data": {
      "text/html": [
       "<div>\n",
       "<style scoped>\n",
       "    .dataframe tbody tr th:only-of-type {\n",
       "        vertical-align: middle;\n",
       "    }\n",
       "\n",
       "    .dataframe tbody tr th {\n",
       "        vertical-align: top;\n",
       "    }\n",
       "\n",
       "    .dataframe thead th {\n",
       "        text-align: right;\n",
       "    }\n",
       "</style>\n",
       "<table border=\"1\" class=\"dataframe\">\n",
       "  <thead>\n",
       "    <tr style=\"text-align: right;\">\n",
       "      <th></th>\n",
       "      <th></th>\n",
       "      <th>text</th>\n",
       "    </tr>\n",
       "    <tr>\n",
       "      <th>id</th>\n",
       "      <th>language</th>\n",
       "      <th></th>\n",
       "    </tr>\n",
       "  </thead>\n",
       "  <tbody>\n",
       "    <tr>\n",
       "      <th rowspan=\"4\" valign=\"top\">Bluewin.NewsSummary.Init.Utterance</th>\n",
       "      <th>de</th>\n",
       "      <td>38</td>\n",
       "    </tr>\n",
       "    <tr>\n",
       "      <th>en</th>\n",
       "      <td>40</td>\n",
       "    </tr>\n",
       "    <tr>\n",
       "      <th>fr</th>\n",
       "      <td>38</td>\n",
       "    </tr>\n",
       "    <tr>\n",
       "      <th>it</th>\n",
       "      <td>36</td>\n",
       "    </tr>\n",
       "    <tr>\n",
       "      <th>Localsearch.RainInfo.Init.Utterance</th>\n",
       "      <th>de</th>\n",
       "      <td>48</td>\n",
       "    </tr>\n",
       "    <tr>\n",
       "      <th>...</th>\n",
       "      <th>...</th>\n",
       "      <td>...</td>\n",
       "    </tr>\n",
       "    <tr>\n",
       "      <th>Tv.WatchFromBeginning.Init.Utterance</th>\n",
       "      <th>it</th>\n",
       "      <td>17</td>\n",
       "    </tr>\n",
       "    <tr>\n",
       "      <th rowspan=\"4\" valign=\"top\">Tv.WatchNextEpisode.Init.Utterance</th>\n",
       "      <th>de</th>\n",
       "      <td>20</td>\n",
       "    </tr>\n",
       "    <tr>\n",
       "      <th>en</th>\n",
       "      <td>13</td>\n",
       "    </tr>\n",
       "    <tr>\n",
       "      <th>fr</th>\n",
       "      <td>14</td>\n",
       "    </tr>\n",
       "    <tr>\n",
       "      <th>it</th>\n",
       "      <td>15</td>\n",
       "    </tr>\n",
       "  </tbody>\n",
       "</table>\n",
       "<p>156 rows × 1 columns</p>\n",
       "</div>"
      ],
      "text/plain": [
       "                                               text\n",
       "id                                   language      \n",
       "Bluewin.NewsSummary.Init.Utterance   de          38\n",
       "                                     en          40\n",
       "                                     fr          38\n",
       "                                     it          36\n",
       "Localsearch.RainInfo.Init.Utterance  de          48\n",
       "...                                             ...\n",
       "Tv.WatchFromBeginning.Init.Utterance it          17\n",
       "Tv.WatchNextEpisode.Init.Utterance   de          20\n",
       "                                     en          13\n",
       "                                     fr          14\n",
       "                                     it          15\n",
       "\n",
       "[156 rows x 1 columns]"
      ]
     },
     "execution_count": 66,
     "metadata": {},
     "output_type": "execute_result"
    }
   ],
   "source": [
    "df_temp.groupby(['id', 'language']).count()"
   ]
  },
  {
   "cell_type": "code",
   "execution_count": 82,
   "metadata": {},
   "outputs": [
    {
     "data": {
      "text/html": [
       "<div>\n",
       "<style scoped>\n",
       "    .dataframe tbody tr th:only-of-type {\n",
       "        vertical-align: middle;\n",
       "    }\n",
       "\n",
       "    .dataframe tbody tr th {\n",
       "        vertical-align: top;\n",
       "    }\n",
       "\n",
       "    .dataframe thead th {\n",
       "        text-align: right;\n",
       "    }\n",
       "</style>\n",
       "<table border=\"1\" class=\"dataframe\">\n",
       "  <thead>\n",
       "    <tr style=\"text-align: right;\">\n",
       "      <th></th>\n",
       "      <th>id</th>\n",
       "      <th>language</th>\n",
       "      <th>text</th>\n",
       "    </tr>\n",
       "  </thead>\n",
       "  <tbody>\n",
       "    <tr>\n",
       "      <th>0</th>\n",
       "      <td>MyCloud.OpenArea.Init.Utterance</td>\n",
       "      <td>en</td>\n",
       "      <td>show {MyCloudArea} on myCloud</td>\n",
       "    </tr>\n",
       "    <tr>\n",
       "      <th>1</th>\n",
       "      <td>MyCloud.OpenArea.Init.Utterance</td>\n",
       "      <td>en</td>\n",
       "      <td>{MyCloudArea} in myCloud</td>\n",
       "    </tr>\n",
       "    <tr>\n",
       "      <th>2</th>\n",
       "      <td>MyCloud.OpenArea.Init.Utterance</td>\n",
       "      <td>en</td>\n",
       "      <td>play {MyCloudArea} on myCloud</td>\n",
       "    </tr>\n",
       "    <tr>\n",
       "      <th>3</th>\n",
       "      <td>MyCloud.OpenArea.Init.Utterance</td>\n",
       "      <td>en</td>\n",
       "      <td>play {MyCloudArea} on myCloud</td>\n",
       "    </tr>\n",
       "    <tr>\n",
       "      <th>4</th>\n",
       "      <td>MyCloud.OpenArea.Init.Utterance</td>\n",
       "      <td>en</td>\n",
       "      <td>go to {MyCloudArea} on myCloud</td>\n",
       "    </tr>\n",
       "    <tr>\n",
       "      <th>...</th>\n",
       "      <td>...</td>\n",
       "      <td>...</td>\n",
       "      <td>...</td>\n",
       "    </tr>\n",
       "    <tr>\n",
       "      <th>4788</th>\n",
       "      <td>Tv.WatchNextEpisode.Init.Utterance</td>\n",
       "      <td>it</td>\n",
       "      <td>vorrei vedere la puntata dopo</td>\n",
       "    </tr>\n",
       "    <tr>\n",
       "      <th>4789</th>\n",
       "      <td>Tv.WatchNextEpisode.Init.Utterance</td>\n",
       "      <td>it</td>\n",
       "      <td>riproduci il prossimo episodio</td>\n",
       "    </tr>\n",
       "    <tr>\n",
       "      <th>4790</th>\n",
       "      <td>Tv.WatchNextEpisode.Init.Utterance</td>\n",
       "      <td>it</td>\n",
       "      <td>per favore riproduci la prossima puntata</td>\n",
       "    </tr>\n",
       "    <tr>\n",
       "      <th>4791</th>\n",
       "      <td>Tv.WatchNextEpisode.Init.Utterance</td>\n",
       "      <td>it</td>\n",
       "      <td>riproduci puntata successiva</td>\n",
       "    </tr>\n",
       "    <tr>\n",
       "      <th>4792</th>\n",
       "      <td>Tv.WatchNextEpisode.Init.Utterance</td>\n",
       "      <td>it</td>\n",
       "      <td>fai partire l'episodio dopo</td>\n",
       "    </tr>\n",
       "  </tbody>\n",
       "</table>\n",
       "<p>4793 rows × 3 columns</p>\n",
       "</div>"
      ],
      "text/plain": [
       "                                      id language  \\\n",
       "0        MyCloud.OpenArea.Init.Utterance       en   \n",
       "1        MyCloud.OpenArea.Init.Utterance       en   \n",
       "2        MyCloud.OpenArea.Init.Utterance       en   \n",
       "3        MyCloud.OpenArea.Init.Utterance       en   \n",
       "4        MyCloud.OpenArea.Init.Utterance       en   \n",
       "...                                  ...      ...   \n",
       "4788  Tv.WatchNextEpisode.Init.Utterance       it   \n",
       "4789  Tv.WatchNextEpisode.Init.Utterance       it   \n",
       "4790  Tv.WatchNextEpisode.Init.Utterance       it   \n",
       "4791  Tv.WatchNextEpisode.Init.Utterance       it   \n",
       "4792  Tv.WatchNextEpisode.Init.Utterance       it   \n",
       "\n",
       "                                          text  \n",
       "0                show {MyCloudArea} on myCloud  \n",
       "1                     {MyCloudArea} in myCloud  \n",
       "2                play {MyCloudArea} on myCloud  \n",
       "3                play {MyCloudArea} on myCloud  \n",
       "4               go to {MyCloudArea} on myCloud  \n",
       "...                                        ...  \n",
       "4788             vorrei vedere la puntata dopo  \n",
       "4789            riproduci il prossimo episodio  \n",
       "4790  per favore riproduci la prossima puntata  \n",
       "4791              riproduci puntata successiva  \n",
       "4792               fai partire l'episodio dopo  \n",
       "\n",
       "[4793 rows x 3 columns]"
      ]
     },
     "execution_count": 82,
     "metadata": {},
     "output_type": "execute_result"
    }
   ],
   "source": [
    "df_temp"
   ]
  },
  {
   "cell_type": "code",
   "execution_count": 55,
   "metadata": {},
   "outputs": [],
   "source": [
    "k = df_temp.groupby(['id', 'language']).count()#.value_counts()\n",
    "i = k[k['value'] < 10].index"
   ]
  },
  {
   "cell_type": "code",
   "execution_count": 100,
   "metadata": {},
   "outputs": [],
   "source": [
    "df = df_temp\n",
    "columns = ['id', 'language']\n",
    "df_group = df.groupby(columns).count()\n",
    "df_group = df_group[df_group.values < 5]\n",
    "condition = [True] * len(df)\n",
    "for targets_ind in df_group.index:\n",
    "    for match in zip(columns, targets_ind):\n",
    "        condition = condition & (df[match[0]] != match[1])"
   ]
  },
  {
   "cell_type": "code",
   "execution_count": 101,
   "metadata": {},
   "outputs": [
    {
     "data": {
      "text/html": [
       "<div>\n",
       "<style scoped>\n",
       "    .dataframe tbody tr th:only-of-type {\n",
       "        vertical-align: middle;\n",
       "    }\n",
       "\n",
       "    .dataframe tbody tr th {\n",
       "        vertical-align: top;\n",
       "    }\n",
       "\n",
       "    .dataframe thead th {\n",
       "        text-align: right;\n",
       "    }\n",
       "</style>\n",
       "<table border=\"1\" class=\"dataframe\">\n",
       "  <thead>\n",
       "    <tr style=\"text-align: right;\">\n",
       "      <th></th>\n",
       "      <th>id</th>\n",
       "      <th>language</th>\n",
       "      <th>text</th>\n",
       "    </tr>\n",
       "  </thead>\n",
       "  <tbody>\n",
       "    <tr>\n",
       "      <th>0</th>\n",
       "      <td>MyCloud.OpenArea.Init.Utterance</td>\n",
       "      <td>en</td>\n",
       "      <td>show {MyCloudArea} on myCloud</td>\n",
       "    </tr>\n",
       "    <tr>\n",
       "      <th>1</th>\n",
       "      <td>MyCloud.OpenArea.Init.Utterance</td>\n",
       "      <td>en</td>\n",
       "      <td>{MyCloudArea} in myCloud</td>\n",
       "    </tr>\n",
       "    <tr>\n",
       "      <th>2</th>\n",
       "      <td>MyCloud.OpenArea.Init.Utterance</td>\n",
       "      <td>en</td>\n",
       "      <td>play {MyCloudArea} on myCloud</td>\n",
       "    </tr>\n",
       "    <tr>\n",
       "      <th>3</th>\n",
       "      <td>MyCloud.OpenArea.Init.Utterance</td>\n",
       "      <td>en</td>\n",
       "      <td>play {MyCloudArea} on myCloud</td>\n",
       "    </tr>\n",
       "    <tr>\n",
       "      <th>4</th>\n",
       "      <td>MyCloud.OpenArea.Init.Utterance</td>\n",
       "      <td>en</td>\n",
       "      <td>go to {MyCloudArea} on myCloud</td>\n",
       "    </tr>\n",
       "    <tr>\n",
       "      <th>...</th>\n",
       "      <td>...</td>\n",
       "      <td>...</td>\n",
       "      <td>...</td>\n",
       "    </tr>\n",
       "    <tr>\n",
       "      <th>4788</th>\n",
       "      <td>Tv.WatchNextEpisode.Init.Utterance</td>\n",
       "      <td>it</td>\n",
       "      <td>vorrei vedere la puntata dopo</td>\n",
       "    </tr>\n",
       "    <tr>\n",
       "      <th>4789</th>\n",
       "      <td>Tv.WatchNextEpisode.Init.Utterance</td>\n",
       "      <td>it</td>\n",
       "      <td>riproduci il prossimo episodio</td>\n",
       "    </tr>\n",
       "    <tr>\n",
       "      <th>4790</th>\n",
       "      <td>Tv.WatchNextEpisode.Init.Utterance</td>\n",
       "      <td>it</td>\n",
       "      <td>per favore riproduci la prossima puntata</td>\n",
       "    </tr>\n",
       "    <tr>\n",
       "      <th>4791</th>\n",
       "      <td>Tv.WatchNextEpisode.Init.Utterance</td>\n",
       "      <td>it</td>\n",
       "      <td>riproduci puntata successiva</td>\n",
       "    </tr>\n",
       "    <tr>\n",
       "      <th>4792</th>\n",
       "      <td>Tv.WatchNextEpisode.Init.Utterance</td>\n",
       "      <td>it</td>\n",
       "      <td>fai partire l'episodio dopo</td>\n",
       "    </tr>\n",
       "  </tbody>\n",
       "</table>\n",
       "<p>3646 rows × 3 columns</p>\n",
       "</div>"
      ],
      "text/plain": [
       "                                      id language  \\\n",
       "0        MyCloud.OpenArea.Init.Utterance       en   \n",
       "1        MyCloud.OpenArea.Init.Utterance       en   \n",
       "2        MyCloud.OpenArea.Init.Utterance       en   \n",
       "3        MyCloud.OpenArea.Init.Utterance       en   \n",
       "4        MyCloud.OpenArea.Init.Utterance       en   \n",
       "...                                  ...      ...   \n",
       "4788  Tv.WatchNextEpisode.Init.Utterance       it   \n",
       "4789  Tv.WatchNextEpisode.Init.Utterance       it   \n",
       "4790  Tv.WatchNextEpisode.Init.Utterance       it   \n",
       "4791  Tv.WatchNextEpisode.Init.Utterance       it   \n",
       "4792  Tv.WatchNextEpisode.Init.Utterance       it   \n",
       "\n",
       "                                          text  \n",
       "0                show {MyCloudArea} on myCloud  \n",
       "1                     {MyCloudArea} in myCloud  \n",
       "2                play {MyCloudArea} on myCloud  \n",
       "3                play {MyCloudArea} on myCloud  \n",
       "4               go to {MyCloudArea} on myCloud  \n",
       "...                                        ...  \n",
       "4788             vorrei vedere la puntata dopo  \n",
       "4789            riproduci il prossimo episodio  \n",
       "4790  per favore riproduci la prossima puntata  \n",
       "4791              riproduci puntata successiva  \n",
       "4792               fai partire l'episodio dopo  \n",
       "\n",
       "[3646 rows x 3 columns]"
      ]
     },
     "execution_count": 101,
     "metadata": {},
     "output_type": "execute_result"
    }
   ],
   "source": [
    "df[condition]"
   ]
  },
  {
   "cell_type": "code",
   "execution_count": 95,
   "metadata": {},
   "outputs": [
    {
     "data": {
      "text/plain": [
       "4793"
      ]
     },
     "execution_count": 95,
     "metadata": {},
     "output_type": "execute_result"
    }
   ],
   "source": [
    "len(df)"
   ]
  },
  {
   "cell_type": "code",
   "execution_count": 102,
   "metadata": {},
   "outputs": [],
   "source": [
    "def drop_small_class(df, columns, thresh=4):\n",
    "    df_group = df.groupby(columns).count()\n",
    "    df_group = df_group[df_group.values < thresh]\n",
    "    condition = [True] * len(df)\n",
    "    for targets_ind in df_group.index:\n",
    "        for match in zip(columns, targets_ind):\n",
    "            condition = condition & (df[match[0]] != match[1])\n",
    "    return df[condition]\n"
   ]
  },
  {
   "cell_type": "code",
   "execution_count": 108,
   "metadata": {},
   "outputs": [
    {
     "data": {
      "text/html": [
       "<div>\n",
       "<style scoped>\n",
       "    .dataframe tbody tr th:only-of-type {\n",
       "        vertical-align: middle;\n",
       "    }\n",
       "\n",
       "    .dataframe tbody tr th {\n",
       "        vertical-align: top;\n",
       "    }\n",
       "\n",
       "    .dataframe thead th {\n",
       "        text-align: right;\n",
       "    }\n",
       "</style>\n",
       "<table border=\"1\" class=\"dataframe\">\n",
       "  <thead>\n",
       "    <tr style=\"text-align: right;\">\n",
       "      <th></th>\n",
       "      <th></th>\n",
       "      <th>text</th>\n",
       "    </tr>\n",
       "    <tr>\n",
       "      <th>id</th>\n",
       "      <th>language</th>\n",
       "      <th></th>\n",
       "    </tr>\n",
       "  </thead>\n",
       "  <tbody>\n",
       "    <tr>\n",
       "      <th rowspan=\"3\" valign=\"top\">Bluewin.NewsSummary.Init.Utterance</th>\n",
       "      <th>de</th>\n",
       "      <td>38</td>\n",
       "    </tr>\n",
       "    <tr>\n",
       "      <th>en</th>\n",
       "      <td>40</td>\n",
       "    </tr>\n",
       "    <tr>\n",
       "      <th>it</th>\n",
       "      <td>36</td>\n",
       "    </tr>\n",
       "    <tr>\n",
       "      <th rowspan=\"2\" valign=\"top\">Localsearch.RainInfo.Init.Utterance</th>\n",
       "      <th>de</th>\n",
       "      <td>48</td>\n",
       "    </tr>\n",
       "    <tr>\n",
       "      <th>en</th>\n",
       "      <td>51</td>\n",
       "    </tr>\n",
       "    <tr>\n",
       "      <th>...</th>\n",
       "      <th>...</th>\n",
       "      <td>...</td>\n",
       "    </tr>\n",
       "    <tr>\n",
       "      <th rowspan=\"2\" valign=\"top\">Tv.WatchFromBeginning.Init.Utterance</th>\n",
       "      <th>en</th>\n",
       "      <td>18</td>\n",
       "    </tr>\n",
       "    <tr>\n",
       "      <th>it</th>\n",
       "      <td>17</td>\n",
       "    </tr>\n",
       "    <tr>\n",
       "      <th rowspan=\"3\" valign=\"top\">Tv.WatchNextEpisode.Init.Utterance</th>\n",
       "      <th>de</th>\n",
       "      <td>20</td>\n",
       "    </tr>\n",
       "    <tr>\n",
       "      <th>en</th>\n",
       "      <td>13</td>\n",
       "    </tr>\n",
       "    <tr>\n",
       "      <th>it</th>\n",
       "      <td>15</td>\n",
       "    </tr>\n",
       "  </tbody>\n",
       "</table>\n",
       "<p>114 rows × 1 columns</p>\n",
       "</div>"
      ],
      "text/plain": [
       "                                               text\n",
       "id                                   language      \n",
       "Bluewin.NewsSummary.Init.Utterance   de          38\n",
       "                                     en          40\n",
       "                                     it          36\n",
       "Localsearch.RainInfo.Init.Utterance  de          48\n",
       "                                     en          51\n",
       "...                                             ...\n",
       "Tv.WatchFromBeginning.Init.Utterance en          18\n",
       "                                     it          17\n",
       "Tv.WatchNextEpisode.Init.Utterance   de          20\n",
       "                                     en          13\n",
       "                                     it          15\n",
       "\n",
       "[114 rows x 1 columns]"
      ]
     },
     "execution_count": 108,
     "metadata": {},
     "output_type": "execute_result"
    }
   ],
   "source": [
    "drop_small_class(df_temp.drop_duplicates(), ['id', 'language'], thresh=5).groupby(['id', 'language']).count()"
   ]
  },
  {
   "cell_type": "code",
   "execution_count": 60,
   "metadata": {},
   "outputs": [
    {
     "data": {
      "text/plain": [
       "0        False\n",
       "1        False\n",
       "2        False\n",
       "3        False\n",
       "4         True\n",
       "         ...  \n",
       "48692    False\n",
       "48693    False\n",
       "48694    False\n",
       "48695    False\n",
       "48696    False\n",
       "Length: 48697, dtype: bool"
      ]
     },
     "execution_count": 60,
     "metadata": {},
     "output_type": "execute_result"
    }
   ],
   "source": [
    "condition = True\n",
    "for c in i:\n",
    "    for e in zip(['type', 'language'],  c):\n",
    "        condition = condition & (df_entities[e[0]] != e[1])\n",
    "condition"
   ]
  },
  {
   "cell_type": "code",
   "execution_count": 61,
   "metadata": {},
   "outputs": [
    {
     "data": {
      "text/html": [
       "<div>\n",
       "<style scoped>\n",
       "    .dataframe tbody tr th:only-of-type {\n",
       "        vertical-align: middle;\n",
       "    }\n",
       "\n",
       "    .dataframe tbody tr th {\n",
       "        vertical-align: top;\n",
       "    }\n",
       "\n",
       "    .dataframe thead th {\n",
       "        text-align: right;\n",
       "    }\n",
       "</style>\n",
       "<table border=\"1\" class=\"dataframe\">\n",
       "  <thead>\n",
       "    <tr style=\"text-align: right;\">\n",
       "      <th></th>\n",
       "      <th></th>\n",
       "      <th>value</th>\n",
       "    </tr>\n",
       "    <tr>\n",
       "      <th>type</th>\n",
       "      <th>language</th>\n",
       "      <th></th>\n",
       "    </tr>\n",
       "  </thead>\n",
       "  <tbody>\n",
       "    <tr>\n",
       "      <th>AlbumName</th>\n",
       "      <th>de</th>\n",
       "      <td>105</td>\n",
       "    </tr>\n",
       "    <tr>\n",
       "      <th>AppName</th>\n",
       "      <th>de</th>\n",
       "      <td>384</td>\n",
       "    </tr>\n",
       "    <tr>\n",
       "      <th>AreaName</th>\n",
       "      <th>de</th>\n",
       "      <td>318</td>\n",
       "    </tr>\n",
       "    <tr>\n",
       "      <th>BroadcastName</th>\n",
       "      <th>de</th>\n",
       "      <td>1746</td>\n",
       "    </tr>\n",
       "    <tr>\n",
       "      <th>CallingNumberType</th>\n",
       "      <th>de</th>\n",
       "      <td>33</td>\n",
       "    </tr>\n",
       "    <tr>\n",
       "      <th>FirstName</th>\n",
       "      <th>de</th>\n",
       "      <td>952</td>\n",
       "    </tr>\n",
       "    <tr>\n",
       "      <th>LastName</th>\n",
       "      <th>de</th>\n",
       "      <td>998</td>\n",
       "    </tr>\n",
       "    <tr>\n",
       "      <th>LocalsearchLocation</th>\n",
       "      <th>de</th>\n",
       "      <td>3609</td>\n",
       "    </tr>\n",
       "    <tr>\n",
       "      <th>MyCloudArea</th>\n",
       "      <th>de</th>\n",
       "      <td>53</td>\n",
       "    </tr>\n",
       "    <tr>\n",
       "      <th>NickName</th>\n",
       "      <th>de</th>\n",
       "      <td>20</td>\n",
       "    </tr>\n",
       "    <tr>\n",
       "      <th>RadioChannelName</th>\n",
       "      <th>de</th>\n",
       "      <td>800</td>\n",
       "    </tr>\n",
       "    <tr>\n",
       "      <th>SeriesName</th>\n",
       "      <th>de</th>\n",
       "      <td>5911</td>\n",
       "    </tr>\n",
       "    <tr>\n",
       "      <th>SportCompetitionName</th>\n",
       "      <th>de</th>\n",
       "      <td>22</td>\n",
       "    </tr>\n",
       "    <tr>\n",
       "      <th>SportSportsName</th>\n",
       "      <th>de</th>\n",
       "      <td>10</td>\n",
       "    </tr>\n",
       "    <tr>\n",
       "      <th>TrackName</th>\n",
       "      <th>de</th>\n",
       "      <td>209</td>\n",
       "    </tr>\n",
       "    <tr>\n",
       "      <th>TvChannelName</th>\n",
       "      <th>de</th>\n",
       "      <td>1218</td>\n",
       "    </tr>\n",
       "  </tbody>\n",
       "</table>\n",
       "</div>"
      ],
      "text/plain": [
       "                               value\n",
       "type                 language       \n",
       "AlbumName            de          105\n",
       "AppName              de          384\n",
       "AreaName             de          318\n",
       "BroadcastName        de         1746\n",
       "CallingNumberType    de           33\n",
       "FirstName            de          952\n",
       "LastName             de          998\n",
       "LocalsearchLocation  de         3609\n",
       "MyCloudArea          de           53\n",
       "NickName             de           20\n",
       "RadioChannelName     de          800\n",
       "SeriesName           de         5911\n",
       "SportCompetitionName de           22\n",
       "SportSportsName      de           10\n",
       "TrackName            de          209\n",
       "TvChannelName        de         1218"
      ]
     },
     "execution_count": 61,
     "metadata": {},
     "output_type": "execute_result"
    }
   ],
   "source": [
    "df_entities[condition].groupby(['type', 'language']).count()"
   ]
  },
  {
   "cell_type": "code",
   "execution_count": null,
   "metadata": {},
   "outputs": [],
   "source": [
    "df_entities[df_entities['type', 'language']]"
   ]
  },
  {
   "cell_type": "code",
   "execution_count": 170,
   "metadata": {},
   "outputs": [],
   "source": [
    "df_temp_train, df_temp_test_valid = train_test_split(df_temp,\n",
    "                                                     train_size=train_ratio,\n",
    "                                                     stratify=df_temp[['id', 'language']],\n",
    "                                                     random_state=random_seed)\n"
   ]
  },
  {
   "cell_type": "code",
   "execution_count": 110,
   "metadata": {},
   "outputs": [
    {
     "name": "stderr",
     "output_type": "stream",
     "text": [
      "100%|██████████| 39/39 [00:11<00:00,  3.40it/s]\n"
     ]
    }
   ],
   "source": [
    "import pandas as pd\n",
    "from pathlib import Path\n",
    "import json\n",
    "import warnings\n",
    "from generator.module import Generator\n",
    "from generator.normalizer import Normalizer\n",
    "from sklearn.model_selection import train_test_split\n",
    "from generator.tools import filter_aliases\n",
    "from tqdm import tqdm\n",
    "import time\n",
    "\n",
    "warnings.filterwarnings('ignore')\n",
    "\n",
    "\n",
    "def drop_small_class(df, columns, thresh=4):\n",
    "    df_group = df.groupby(columns).count()\n",
    "    df_group = df_group[df_group.values < thresh]\n",
    "    condition = [True] * len(df)\n",
    "    for targets_ind in df_group.index:\n",
    "        for match in zip(columns, targets_ind):\n",
    "            condition = condition & (df[match[0]] != match[1])\n",
    "    return df[condition]\n",
    "\n",
    "\n",
    "# load config values\n",
    "config_file = Path('config') / 'command_generator_config.json'\n",
    "with open(config_file, 'r', encoding='utf-8') as fp:\n",
    "    config = json.load(fp)\n",
    "\n",
    "data_dir = Path(config['data_dir'])\n",
    "output_dir = Path(config['output_dir'])\n",
    "templates_filename = config['templates_filename']\n",
    "entities_filename = config['entities_filename']\n",
    "languages = config['languages']\n",
    "id_size = config[\"id_size\"]\n",
    "extra_num_size = config['extra_num_size']\n",
    "random_seed = config['random_seed']\n",
    "test_ratio = config['split']['test_ratio']\n",
    "valid_ratio = config['split']['valid_ratio']\n",
    "train_ratio = config['split']['train_ratio']\n",
    "\n",
    "# read dataframe\n",
    "templates = pd.read_json(data_dir / templates_filename)[['id'] + languages]\n",
    "entities = pd.read_json(data_dir / entities_filename)\n",
    "\n",
    "# make train and test for templates\n",
    "time_start = time.time()\n",
    "gen = Generator(templates=templates, entities=entities)\n",
    "df_temp = pd.DataFrame(columns=[\"id\", \"language\", \"text\"])\n",
    "for tem_id in tqdm(templates.id):\n",
    "    for lan in languages:\n",
    "        for text in gen.get_templates(tem_id, lan):\n",
    "            df_temp = df_temp.append({\n",
    "                \"id\": tem_id,\n",
    "                \"language\": lan,\n",
    "                \"text\": text\n",
    "            }, ignore_index=True)\n",
    "df_temp = drop_small_class(df_temp.drop_duplicates(), ['id', 'language'])\n",
    "df_temp_train, df_temp_test_valid = train_test_split(df_temp,\n",
    "                                                     train_size=train_ratio,\n",
    "                                                     stratify=df_temp[['id', 'language']],\n",
    "                                                     random_state=random_seed)\n",
    "# df_temp_test_valid = drop_small_class(df_temp_test_valid, ['id', 'language'])\n",
    "# df_temp_valid, df_temp_test = train_test_split(df_temp_test_valid,\n",
    "#                                                test_size=test_ratio / (valid_ratio + test_ratio),\n",
    "#                                                stratify=df_temp_test_valid[['id', 'language']],\n",
    "#                                                random_state=random_seed)\n",
    "# df_temp_train.to_csv(output_dir / \"templates_train.csv\", index=False)\n",
    "# df_temp_valid.to_csv(output_dir / \"templates_valid.csv\", index=False)\n",
    "# df_temp_test.to_csv(output_dir / \"templates_test.csv\", index=False)\n",
    "# time_end = time.time()\n",
    "# print(\"Templates split done:\", time_end - time_start, 's')\n"
   ]
  },
  {
   "cell_type": "code",
   "execution_count": 112,
   "metadata": {},
   "outputs": [
    {
     "data": {
      "text/html": [
       "<div>\n",
       "<style scoped>\n",
       "    .dataframe tbody tr th:only-of-type {\n",
       "        vertical-align: middle;\n",
       "    }\n",
       "\n",
       "    .dataframe tbody tr th {\n",
       "        vertical-align: top;\n",
       "    }\n",
       "\n",
       "    .dataframe thead th {\n",
       "        text-align: right;\n",
       "    }\n",
       "</style>\n",
       "<table border=\"1\" class=\"dataframe\">\n",
       "  <thead>\n",
       "    <tr style=\"text-align: right;\">\n",
       "      <th></th>\n",
       "      <th>id</th>\n",
       "      <th>language</th>\n",
       "      <th>text</th>\n",
       "    </tr>\n",
       "  </thead>\n",
       "  <tbody>\n",
       "    <tr>\n",
       "      <th>4223</th>\n",
       "      <td>Router.SwitchOffGuestWiFi.Init.Utterance</td>\n",
       "      <td>de</td>\n",
       "      <td>Gäste Wlan ausstellen</td>\n",
       "    </tr>\n",
       "    <tr>\n",
       "      <th>531</th>\n",
       "      <td>Tv.RadioChannelChange.Init.Utterance</td>\n",
       "      <td>de</td>\n",
       "      <td>schalt um auf Radio {RadioChannelName}</td>\n",
       "    </tr>\n",
       "    <tr>\n",
       "      <th>2480</th>\n",
       "      <td>Router.SwitchOnGuestWiFi.Init.Utterance</td>\n",
       "      <td>en</td>\n",
       "      <td>please turn on the guest Wi-Fi</td>\n",
       "    </tr>\n",
       "    <tr>\n",
       "      <th>2021</th>\n",
       "      <td>Tv.OpenUiArea.Init.Utterance</td>\n",
       "      <td>it</td>\n",
       "      <td>voglio aprire {AreaName}</td>\n",
       "    </tr>\n",
       "    <tr>\n",
       "      <th>1444</th>\n",
       "      <td>Tv.TvChannelChange.Init.Utterance</td>\n",
       "      <td>de</td>\n",
       "      <td>auf TV Sender {TvChannelPosition} umschalten</td>\n",
       "    </tr>\n",
       "    <tr>\n",
       "      <th>...</th>\n",
       "      <td>...</td>\n",
       "      <td>...</td>\n",
       "      <td>...</td>\n",
       "    </tr>\n",
       "    <tr>\n",
       "      <th>3786</th>\n",
       "      <td>Localsearch.RainInfo.Init.Utterance</td>\n",
       "      <td>en</td>\n",
       "      <td>is there rain</td>\n",
       "    </tr>\n",
       "    <tr>\n",
       "      <th>4044</th>\n",
       "      <td>Localsearch.WeatherInfo.Init.Utterance</td>\n",
       "      <td>de</td>\n",
       "      <td>gibt es {LocalsearchTimeStampStartDay} hässlic...</td>\n",
       "    </tr>\n",
       "    <tr>\n",
       "      <th>4591</th>\n",
       "      <td>Tv.NavigationRight.Init.Utterance</td>\n",
       "      <td>it</td>\n",
       "      <td>destra</td>\n",
       "    </tr>\n",
       "    <tr>\n",
       "      <th>3075</th>\n",
       "      <td>SmartHome.StartScene.Init.Utterance</td>\n",
       "      <td>de</td>\n",
       "      <td>bitte schalte die Szene {SmartHomeSceneName} ein</td>\n",
       "    </tr>\n",
       "    <tr>\n",
       "      <th>3974</th>\n",
       "      <td>Localsearch.WeatherInfo.Init.Utterance</td>\n",
       "      <td>en</td>\n",
       "      <td>weather update please</td>\n",
       "    </tr>\n",
       "  </tbody>\n",
       "</table>\n",
       "<p>2898 rows × 3 columns</p>\n",
       "</div>"
      ],
      "text/plain": [
       "                                            id language  \\\n",
       "4223  Router.SwitchOffGuestWiFi.Init.Utterance       de   \n",
       "531       Tv.RadioChannelChange.Init.Utterance       de   \n",
       "2480   Router.SwitchOnGuestWiFi.Init.Utterance       en   \n",
       "2021              Tv.OpenUiArea.Init.Utterance       it   \n",
       "1444         Tv.TvChannelChange.Init.Utterance       de   \n",
       "...                                        ...      ...   \n",
       "3786       Localsearch.RainInfo.Init.Utterance       en   \n",
       "4044    Localsearch.WeatherInfo.Init.Utterance       de   \n",
       "4591         Tv.NavigationRight.Init.Utterance       it   \n",
       "3075       SmartHome.StartScene.Init.Utterance       de   \n",
       "3974    Localsearch.WeatherInfo.Init.Utterance       en   \n",
       "\n",
       "                                                   text  \n",
       "4223                              Gäste Wlan ausstellen  \n",
       "531              schalt um auf Radio {RadioChannelName}  \n",
       "2480                     please turn on the guest Wi-Fi  \n",
       "2021                           voglio aprire {AreaName}  \n",
       "1444       auf TV Sender {TvChannelPosition} umschalten  \n",
       "...                                                 ...  \n",
       "3786                                      is there rain  \n",
       "4044  gibt es {LocalsearchTimeStampStartDay} hässlic...  \n",
       "4591                                             destra  \n",
       "3075   bitte schalte die Szene {SmartHomeSceneName} ein  \n",
       "3974                              weather update please  \n",
       "\n",
       "[2898 rows x 3 columns]"
      ]
     },
     "execution_count": 112,
     "metadata": {},
     "output_type": "execute_result"
    }
   ],
   "source": [
    "df_temp_train"
   ]
  },
  {
   "cell_type": "code",
   "execution_count": 111,
   "metadata": {},
   "outputs": [
    {
     "data": {
      "text/html": [
       "<div>\n",
       "<style scoped>\n",
       "    .dataframe tbody tr th:only-of-type {\n",
       "        vertical-align: middle;\n",
       "    }\n",
       "\n",
       "    .dataframe tbody tr th {\n",
       "        vertical-align: top;\n",
       "    }\n",
       "\n",
       "    .dataframe thead th {\n",
       "        text-align: right;\n",
       "    }\n",
       "</style>\n",
       "<table border=\"1\" class=\"dataframe\">\n",
       "  <thead>\n",
       "    <tr style=\"text-align: right;\">\n",
       "      <th></th>\n",
       "      <th>id</th>\n",
       "      <th>language</th>\n",
       "      <th>text</th>\n",
       "    </tr>\n",
       "  </thead>\n",
       "  <tbody>\n",
       "    <tr>\n",
       "      <th>3363</th>\n",
       "      <td>SmartHome.SwitchOffDevice.Init.Utterance</td>\n",
       "      <td>it</td>\n",
       "      <td>spegni la {SmartHomeDeviceCategory}</td>\n",
       "    </tr>\n",
       "    <tr>\n",
       "      <th>713</th>\n",
       "      <td>Router.ShowGuestWiFiPassword.Init.Utterance</td>\n",
       "      <td>de</td>\n",
       "      <td>wie ist das Gast Wlan Passwort</td>\n",
       "    </tr>\n",
       "    <tr>\n",
       "      <th>4615</th>\n",
       "      <td>Tv.NavigationUp.Init.Utterance</td>\n",
       "      <td>de</td>\n",
       "      <td>nach oben</td>\n",
       "    </tr>\n",
       "    <tr>\n",
       "      <th>478</th>\n",
       "      <td>Tv.RadioChannelChange.Init.Utterance</td>\n",
       "      <td>en</td>\n",
       "      <td>change the radio channel</td>\n",
       "    </tr>\n",
       "    <tr>\n",
       "      <th>4555</th>\n",
       "      <td>Tv.NavigationLeft.Init.Utterance</td>\n",
       "      <td>it</td>\n",
       "      <td>sinistra</td>\n",
       "    </tr>\n",
       "    <tr>\n",
       "      <th>...</th>\n",
       "      <td>...</td>\n",
       "      <td>...</td>\n",
       "      <td>...</td>\n",
       "    </tr>\n",
       "    <tr>\n",
       "      <th>4521</th>\n",
       "      <td>Tv.NavigationLeft.Init.Utterance</td>\n",
       "      <td>de</td>\n",
       "      <td>eins nach links</td>\n",
       "    </tr>\n",
       "    <tr>\n",
       "      <th>2681</th>\n",
       "      <td>Tv.TrickModePlay.Init.Utterance</td>\n",
       "      <td>en</td>\n",
       "      <td>I'd like to continue</td>\n",
       "    </tr>\n",
       "    <tr>\n",
       "      <th>1037</th>\n",
       "      <td>SmartHome.SwitchOnDevice.Init.Utterance</td>\n",
       "      <td>en</td>\n",
       "      <td>turn on all devices in the {SmartHomeDeviceLoc...</td>\n",
       "    </tr>\n",
       "    <tr>\n",
       "      <th>2340</th>\n",
       "      <td>Router.ShowWiFiPassword.Init.Utterance</td>\n",
       "      <td>en</td>\n",
       "      <td>I would like the Wi-Fi password</td>\n",
       "    </tr>\n",
       "    <tr>\n",
       "      <th>1843</th>\n",
       "      <td>Tv.VolumeUp.Init.Utterance</td>\n",
       "      <td>de</td>\n",
       "      <td>lauter einstellen</td>\n",
       "    </tr>\n",
       "  </tbody>\n",
       "</table>\n",
       "<p>725 rows × 3 columns</p>\n",
       "</div>"
      ],
      "text/plain": [
       "                                               id language  \\\n",
       "3363     SmartHome.SwitchOffDevice.Init.Utterance       it   \n",
       "713   Router.ShowGuestWiFiPassword.Init.Utterance       de   \n",
       "4615               Tv.NavigationUp.Init.Utterance       de   \n",
       "478          Tv.RadioChannelChange.Init.Utterance       en   \n",
       "4555             Tv.NavigationLeft.Init.Utterance       it   \n",
       "...                                           ...      ...   \n",
       "4521             Tv.NavigationLeft.Init.Utterance       de   \n",
       "2681              Tv.TrickModePlay.Init.Utterance       en   \n",
       "1037      SmartHome.SwitchOnDevice.Init.Utterance       en   \n",
       "2340       Router.ShowWiFiPassword.Init.Utterance       en   \n",
       "1843                   Tv.VolumeUp.Init.Utterance       de   \n",
       "\n",
       "                                                   text  \n",
       "3363                spegni la {SmartHomeDeviceCategory}  \n",
       "713                      wie ist das Gast Wlan Passwort  \n",
       "4615                                          nach oben  \n",
       "478                            change the radio channel  \n",
       "4555                                           sinistra  \n",
       "...                                                 ...  \n",
       "4521                                    eins nach links  \n",
       "2681                               I'd like to continue  \n",
       "1037  turn on all devices in the {SmartHomeDeviceLoc...  \n",
       "2340                    I would like the Wi-Fi password  \n",
       "1843                                  lauter einstellen  \n",
       "\n",
       "[725 rows x 3 columns]"
      ]
     },
     "execution_count": 111,
     "metadata": {},
     "output_type": "execute_result"
    }
   ],
   "source": [
    "df_temp_test_valid"
   ]
  },
  {
   "cell_type": "code",
   "execution_count": 116,
   "metadata": {},
   "outputs": [
    {
     "data": {
      "text/html": [
       "<div>\n",
       "<style scoped>\n",
       "    .dataframe tbody tr th:only-of-type {\n",
       "        vertical-align: middle;\n",
       "    }\n",
       "\n",
       "    .dataframe tbody tr th {\n",
       "        vertical-align: top;\n",
       "    }\n",
       "\n",
       "    .dataframe thead th {\n",
       "        text-align: right;\n",
       "    }\n",
       "</style>\n",
       "<table border=\"1\" class=\"dataframe\">\n",
       "  <thead>\n",
       "    <tr style=\"text-align: right;\">\n",
       "      <th></th>\n",
       "      <th>id</th>\n",
       "      <th>language</th>\n",
       "      <th>text</th>\n",
       "    </tr>\n",
       "  </thead>\n",
       "  <tbody>\n",
       "    <tr>\n",
       "      <th>3363</th>\n",
       "      <td>SmartHome.SwitchOffDevice.Init.Utterance</td>\n",
       "      <td>it</td>\n",
       "      <td>spegni la {SmartHomeDeviceCategory}</td>\n",
       "    </tr>\n",
       "    <tr>\n",
       "      <th>713</th>\n",
       "      <td>Router.ShowGuestWiFiPassword.Init.Utterance</td>\n",
       "      <td>de</td>\n",
       "      <td>wie ist das Gast Wlan Passwort</td>\n",
       "    </tr>\n",
       "    <tr>\n",
       "      <th>4615</th>\n",
       "      <td>Tv.NavigationUp.Init.Utterance</td>\n",
       "      <td>de</td>\n",
       "      <td>nach oben</td>\n",
       "    </tr>\n",
       "    <tr>\n",
       "      <th>478</th>\n",
       "      <td>Tv.RadioChannelChange.Init.Utterance</td>\n",
       "      <td>en</td>\n",
       "      <td>change the radio channel</td>\n",
       "    </tr>\n",
       "    <tr>\n",
       "      <th>4555</th>\n",
       "      <td>Tv.NavigationLeft.Init.Utterance</td>\n",
       "      <td>it</td>\n",
       "      <td>sinistra</td>\n",
       "    </tr>\n",
       "    <tr>\n",
       "      <th>...</th>\n",
       "      <td>...</td>\n",
       "      <td>...</td>\n",
       "      <td>...</td>\n",
       "    </tr>\n",
       "    <tr>\n",
       "      <th>4521</th>\n",
       "      <td>Tv.NavigationLeft.Init.Utterance</td>\n",
       "      <td>de</td>\n",
       "      <td>eins nach links</td>\n",
       "    </tr>\n",
       "    <tr>\n",
       "      <th>2681</th>\n",
       "      <td>Tv.TrickModePlay.Init.Utterance</td>\n",
       "      <td>en</td>\n",
       "      <td>I'd like to continue</td>\n",
       "    </tr>\n",
       "    <tr>\n",
       "      <th>1037</th>\n",
       "      <td>SmartHome.SwitchOnDevice.Init.Utterance</td>\n",
       "      <td>en</td>\n",
       "      <td>turn on all devices in the {SmartHomeDeviceLoc...</td>\n",
       "    </tr>\n",
       "    <tr>\n",
       "      <th>2340</th>\n",
       "      <td>Router.ShowWiFiPassword.Init.Utterance</td>\n",
       "      <td>en</td>\n",
       "      <td>I would like the Wi-Fi password</td>\n",
       "    </tr>\n",
       "    <tr>\n",
       "      <th>1843</th>\n",
       "      <td>Tv.VolumeUp.Init.Utterance</td>\n",
       "      <td>de</td>\n",
       "      <td>lauter einstellen</td>\n",
       "    </tr>\n",
       "  </tbody>\n",
       "</table>\n",
       "<p>725 rows × 3 columns</p>\n",
       "</div>"
      ],
      "text/plain": [
       "                                               id language  \\\n",
       "3363     SmartHome.SwitchOffDevice.Init.Utterance       it   \n",
       "713   Router.ShowGuestWiFiPassword.Init.Utterance       de   \n",
       "4615               Tv.NavigationUp.Init.Utterance       de   \n",
       "478          Tv.RadioChannelChange.Init.Utterance       en   \n",
       "4555             Tv.NavigationLeft.Init.Utterance       it   \n",
       "...                                           ...      ...   \n",
       "4521             Tv.NavigationLeft.Init.Utterance       de   \n",
       "2681              Tv.TrickModePlay.Init.Utterance       en   \n",
       "1037      SmartHome.SwitchOnDevice.Init.Utterance       en   \n",
       "2340       Router.ShowWiFiPassword.Init.Utterance       en   \n",
       "1843                   Tv.VolumeUp.Init.Utterance       de   \n",
       "\n",
       "                                                   text  \n",
       "3363                spegni la {SmartHomeDeviceCategory}  \n",
       "713                      wie ist das Gast Wlan Passwort  \n",
       "4615                                          nach oben  \n",
       "478                            change the radio channel  \n",
       "4555                                           sinistra  \n",
       "...                                                 ...  \n",
       "4521                                    eins nach links  \n",
       "2681                               I'd like to continue  \n",
       "1037  turn on all devices in the {SmartHomeDeviceLoc...  \n",
       "2340                    I would like the Wi-Fi password  \n",
       "1843                                  lauter einstellen  \n",
       "\n",
       "[725 rows x 3 columns]"
      ]
     },
     "execution_count": 116,
     "metadata": {},
     "output_type": "execute_result"
    }
   ],
   "source": [
    "drop_small_class(df_temp_test_valid, ['id', 'language'], thresh=2)"
   ]
  },
  {
   "cell_type": "code",
   "execution_count": 205,
   "metadata": {},
   "outputs": [],
   "source": [
    "from generator.tools import filter_aliases\n",
    "df_entities = pd.DataFrame(columns=[\"value\", \"type\", \"language\"])\n",
    "            \n",
    "for _, selected_entity in entities.iterrows():\n",
    "    aliases = selected_entity['aliases']\n",
    "    value = [str(selected_entity['value'])]\n",
    "    normalized_value = [selected_entity['normalizedValue']]\n",
    "    lang = selected_entity['language']\n",
    "    filtered_values = filter_aliases(aliases + value + normalized_value, lang)\n",
    "    for v in filtered_values:\n",
    "        df_entities = df_entities.append({\n",
    "            \"value\": v,\n",
    "            \"language\": lang,\n",
    "            \"type\": selected_entity.type\n",
    "        }, ignore_index=True)"
   ]
  },
  {
   "cell_type": "code",
   "execution_count": 210,
   "metadata": {},
   "outputs": [
    {
     "data": {
      "text/plain": [
       "array(['Sewer Men', 'AI Artificial Intelligence',\n",
       "       'A.i. Artificial Intelligence', 'A . i . Artificial Intelligence',\n",
       "       'The Fourth Kind', 'How to Build British',\n",
       "       'Dave Gorman: Modern Life is Goodish', 'Imagine',\n",
       "       'A Nightmare On Elm Street', 'Songs of Praise', 'Twister',\n",
       "       'Brit Cops: Frontline Crime', 'The Millionaire Matchmaker',\n",
       "       'I Spit On Your Grave 2', 'Hey Duggee',\n",
       "       'Delicious Duets! 1990-1999', 'The Mule', 'Surveillance',\n",
       "       'The Wilde Wedding', 'Mr Magoo',\n",
       "       'Landgericht - Geschichte Einer Familie - Teil 2', 'Diana',\n",
       "       'London Fashion Week', 'Watters World', 'MTB Heroes: Trailblazers',\n",
       "       'Kissinger', 'British Masters', \"Olaf's Frozen Adventure\",\n",
       "       'Play to the Whistle', 'Cop Car Workshop',\n",
       "       'Lego Batman: The Movie - Dc Superheroes Unite', 'Gladiator',\n",
       "       'Formula 1 Belgian Grand Prix', 'Killing Ground',\n",
       "       'Shaun The Sheep Movie: Farmageddon', 'The Bounty Hunter',\n",
       "       'Perfect Mothers', 'Nie Yin Niang', 'Boogeyman 3', 'Art Ninja',\n",
       "       'Jimmy', 'The Darkest Hour', 'Under The Silver Lake',\n",
       "       'Mercury Rising', 'Love And Air Sex',\n",
       "       'The Royal Family: Scandals at the Palace', 'Saving Lives at Sea',\n",
       "       'Predestination', 'Crimewatch Roadshow', \"Ocean's 8\", 'Flash',\n",
       "       'Transformers: Age Of Extinction', \"JenCarlos' Pool Party Anthems\",\n",
       "       'Up All Night! Kiss Beats', 'Derry Girls',\n",
       "       'X - men: Days Of Future Past', 'X-men: Days Of Future Past',\n",
       "       'I, Tonya', 'Greatest Ever TV Blunders', 'Outlander',\n",
       "       'Social Animals', 'The Weekend Anthems',\n",
       "       'CNN Newsroom with Kim Brunhuber', 'New York Minute',\n",
       "       'Nothing to Declare UK', 'Kiss Hottest Beats', 'Bohemian Rhapsody',\n",
       "       'Stuber', 'Free Fall', 'The Queen v No 10: Behind Closed Doors',\n",
       "       'NHK Newsline', 'Gold', 'Liar', 'Contracted - Phase Ii',\n",
       "       'Contracted - Phase the second', 'Contracted - Phase II',\n",
       "       'CNN Newsroom', 'The Imitation Game',\n",
       "       'Nutty Professor Ii: The Klumps', \"Tom Kerridge's Proper Pub Food\",\n",
       "       'Faces In The Crowd', 'Superbad', 'Staatenlos', 'Land of Gremlins',\n",
       "       'Medical Frontiers', 'Pilgrimage', 'Cars',\n",
       "       'Bloomberg Markets: Balance of Power', 'The Way To The Stars',\n",
       "       'Garden Rescue: Top of the Plots',\n",
       "       'God Gave Rock & Roll To Us! Top 30', 'Bears About the House',\n",
       "       'Shooting the War', 'Barbie In A Fashion Fairytale',\n",
       "       \"Peter Kay's Car Share\", 'Coffee & TV', 'Mary Poppins',\n",
       "       'LEGO Marvel Superheroes', 'Monster High: Friday Night Frights',\n",
       "       'Land Of The Dead', 'Classic Albums', 'Sporting Funnies',\n",
       "       'Simon Bates New Golden Hour: 1998', \"4 O'Clock Club\",\n",
       "       'Eat , Play , Love', 'Eat, Play, Love', 'New Day Saturday',\n",
       "       'Drop Dead Weird', 'The Double', 'The Lawyer', 'Mortdecai',\n",
       "       'Rich Kids Go Skint', 'Casino', 'Spirit Riders',\n",
       "       'Eastern Promises', 'The Gentlemen', 'I Feel Pretty', 'Laggies',\n",
       "       'Coexister', 'San Ging Chaat Goo Si', 'The Bachelors', 'Plus One',\n",
       "       'Bumblebee', 'The Resident', 'Dirty Games', 'How To Be Single',\n",
       "       'Anna And The King', 'Hangover 2',\n",
       "       'Bargain Loving Brits in the Sun',\n",
       "       'Gardening Together with Diarmuid Gavin',\n",
       "       'The Ultimate Wave Tahiti', 'Sounds of the Sixties',\n",
       "       \"Becca's Bunch\", 'Nightmare Nurse', 'Ex Machina',\n",
       "       'Judge John Deed', \"David Attenborough's Natural Curiosities\",\n",
       "       'Invictus', 'The Jungle Book',\n",
       "       'Bambi And The Great Prince Of The Forest',\n",
       "       'Barbie & Her Sisters In A Puppy Chase',\n",
       "       'Barbie and Her Sisters In A Puppy Chase', 'Hanni and Nanni',\n",
       "       'Hanni & Nanni', 'You Are What You Wear',\n",
       "       'An Inconvenient Sequel: Truth To Power', 'ITV2 Nightscreen',\n",
       "       'Curse Of The Nun', 'Caught on Dashcam', 'Star Trek: Nemesis',\n",
       "       'In Search Of Greatness', 'Eragon', 'Red Army Hooligans',\n",
       "       'Celebrity Gogglebox Usa', 'Rampage', 'Bad Boys 2',\n",
       "       \"The Caveman's Valentine\", 'Eat Well for Less?',\n",
       "       'Brokedown Palace', 'Kojak',\n",
       "       \"Egypt's Greatest Treasures with Bettany Hughes\", 'Gifted',\n",
       "       'Batman and Robin', 'Batman & Robin',\n",
       "       'Khatia Buniatishvili & Zubin Mehta: Liszt & Beethoven',\n",
       "       'Khatia Buniatishvili and Zubin Mehta: Liszt and Beethoven',\n",
       "       'Run All Night', 'The Details', 'Diego Maradona',\n",
       "       'Erin Burnett OutFront', 'Wednesday in Parliament',\n",
       "       'The Con Is On', 'The Bridges Of Madison County',\n",
       "       'Nella the Princess Knight', 'Barefoot Contessa: Back to Basics',\n",
       "       'Rambo - First Blood Part Ii', 'Cuba: Castro vs. the World',\n",
       "       'Vanilla Sky', 'Bee Movie', 'Golf: PGA Tour Highlights',\n",
       "       'UK Playlist', \"Un Juif Pour L'exemple\",\n",
       "       'Princess Margaret: The Rebel Royal', 'Scrambled!',\n",
       "       'Royals in Wartime', 'Maigret', 'The Accountant',\n",
       "       'Canals: The Making of a Nation', 'French Connections',\n",
       "       'Bombshell', 'Celeb 5 Go Caravanning: Back on the Road',\n",
       "       'Beyond A Reasonable Doubt', 'The Flying Archaeologist', 'Traffic',\n",
       "       'Sawer Men Almadye', 'Absolute Genius with Dick and Dom',\n",
       "       'Aldi vs Lidl: Supermarket Wars', 'Arctic Secrets', 'Sicario',\n",
       "       \"The Girl In The Spider's Web\", 'Misfit Garage',\n",
       "       'Snakes On A Plane', \"Pippi's Adventure In The South Sea\",\n",
       "       'Walk Of Shame', 'Judge Rinder',\n",
       "       'Last Rampage: The Escape Of Gary Tison', 'Plan De Fuga',\n",
       "       'Greatest Ever Movie Blunders', 'The Hunter', 'The Vanishing',\n",
       "       'OMG', 'The Amazing Spider-man', 'The Amazing Spider - Man',\n",
       "       'Lifeline', 'Athletics: Diamond League', 'John Wick: Chapter Two',\n",
       "       'Ice Lake Rebels', \"Jamie's Great Italian Escape\",\n",
       "       'Football - FA Cup', 'Victor', 'Bridal', 'Allied',\n",
       "       'Maverick Moments', 'Bill Hemmer Reports', 'S ruba pameti',\n",
       "       \"Paul Hollywood's Bread\", 'Silent Witness', 'Moonlight',\n",
       "       \"Isn't It Romantic\", 'Sisters', 'The Back-up Plan',\n",
       "       'The Back - up Plan', 'The Swan Princess : A Royal Myztery',\n",
       "       'The Comedy Years', 'Miss Congeniality 2',\n",
       "       'Criminals: Caught on Camera', 'Fargo', 'DC Super Hero Girls',\n",
       "       'Tag', 'Le Fidèle', 'Karate Kid',\n",
       "       \"Lucy Calcines' Latin Pop Hit List\", 'Hypothetical', 'Kiri',\n",
       "       'Adopte Un Veuf', 'Years and Years', 'Horse Racing',\n",
       "       'Peace & Prosperity', 'Nick Helm: The Killing Machine',\n",
       "       \"Nadiya's British Food Adventure\", 'Steve Jobs: I - genius',\n",
       "       'Steve Jobs: I-genius', 'Front Row Late', 'Daisy & Ollie',\n",
       "       'Celebrity Catchphrase',\n",
       "       'Romancing the Stone: The Golden Ages of British Sculpture',\n",
       "       \"De Rouille Et D'os\", 'What A Girl Wants',\n",
       "       'Last of the Summer Wine', 'Hotel for Dogs',\n",
       "       'Edinburgh Festival 2020', 'Reasonable Doubt',\n",
       "       'Absolute Genius: Monster Builds', 'The Condemned',\n",
       "       'Sam and Billie: The Mummy Diaries', '55 Steps',\n",
       "       'UEFA Europa League', 'Where We Call Home', 'Gavin & Stacey',\n",
       "       \"Britain's Great River with Tony Robinson\", 'Kate Bush at the BBC',\n",
       "       'Stalked By My Doctor: The Return', 'Animanimals',\n",
       "       \"Lost at Sea: My Dad's Last Journey\", 'Backdraft',\n",
       "       'Barbie Spy Squad', 'Country Strong', \"The Devil's Double\",\n",
       "       'Trolljegeren', 'Icarus', 'Documentary', 'Antarctica', 'Blade',\n",
       "       'That Sugar Film', 'Canal Boat Diaries', 'Outrageous Comedy',\n",
       "       'Jane Got a Gun', 'Every Song From NOW 40 - 1998',\n",
       "       'Liliane Susewind', 'African Voices Changemakers', 'War Factories',\n",
       "       'Lampedusa Im Winter', 'Before I Go To Sleep',\n",
       "       \"Mayor's Question Time\", 'Car Racing', 'The Driver',\n",
       "       \"Britain's Biggest Dig\", 'Sophy Ridge on Sunday',\n",
       "       'The Lord Of The Rings: The Return Of The King (extended Edition)',\n",
       "       'The Wrestler', 'Nicky, Ricky, Dicky & Dawn',\n",
       "       'A Week in Interviews', 'Island of the Monsoon',\n",
       "       'George and Mildred', 'The Situation Room',\n",
       "       'Rocky Mountain Express', 'Motorsports: ESET V4 Cup',\n",
       "       'Star Trek: The Next Generation', 'Inside...',\n",
       "       'From Russia With Love', 'Buchanan Rides Alone', 'Boychoir',\n",
       "       'Find Me Guilty', 'Timeless', 'Aquarela',\n",
       "       'Off the Hook: Extreme Catches',\n",
       "       'System Shock: How The Mp3 Changed Music', 'The Specialist',\n",
       "       'Charming', 'Stan & Ollie', 'Stan and Ollie', 'The Intern',\n",
       "       'Dc Super Hero Girls: Legends Of Atlantis',\n",
       "       'The Tonight Show Starring Jimmy Fallon',\n",
       "       'Bloomberg Businessweek Debrief', 'The Constant Gardener',\n",
       "       'Neighbourhood Blues', 'Early Morning Hit List',\n",
       "       'Law and Order: Criminal Intent', 'Replicas', 'J-arena', 'News UK',\n",
       "       'The Voice Kids', 'Giada at Home', 'Earth from Space',\n",
       "       'Ultimate Processes', 'X - Men: Apocalypse', 'X-men: Apocalypse',\n",
       "       'Antiques Road Trip', 'All Sports: Watts', 'The Coroner',\n",
       "       'The Wife', '40 Smash No.1s from the Ladies!',\n",
       "       'The Age Of Adaline', 'Neck Deep Presents the Anthems',\n",
       "       'The Ledge', 'The Visit', 'Labour of Love',\n",
       "       'The Rubbish World of David Spud',\n",
       "       'Lego Dc Comics Super Heroes: Aquaman - Rage Of Atlantis',\n",
       "       'Malyshariki',\n",
       "       'Pettersson Und Findus: Kleiner Quälgeist - Grosse Freundschaft',\n",
       "       'The Lord Of The Rings: The Fellowship Of The Ring (extended Edition)',\n",
       "       'Railroad Tigers', 'Umrika', 'Antz', 'The Guard', 'Hannity',\n",
       "       'Kassettenliebe', 'Archer', 'Van Der Valk', 'Inside Number 10',\n",
       "       'Fifth Gear', 'CBeebies Little Red Riding Hood', 'Kate & Leopold',\n",
       "       'Kate and Leopold', 'Justice with Judge Jeanine',\n",
       "       \"Secrets of the World's Toughest Prison\", 'Memento', 'Poupoupidou',\n",
       "       'The Daily Briefing', 'Bridge Of Spies', 'Speed Kills', 'Make-up',\n",
       "       'Das Tagebuch Der Anne Frank', 'Pay The Ghost', 'Ostwind 3',\n",
       "       'Lords Of Chaos', 'Miranda', 'Normal People', 'Sing Street',\n",
       "       'The Sun Is Also A Star', 'Wild Hokkaido!', 'Crimson Peak',\n",
       "       'Puppy School', 'Pimped', 'Until Forever',\n",
       "       'Fun With Dick And Jane', 'Yogi Bear', 'Release the Hounds',\n",
       "       'The Railways That Built Britain with Chris Tarrant',\n",
       "       'The Big Chill', 'The Last Dalai Lama?', 'Lap Dance',\n",
       "       'City Wildlife Rescue', \"Peter Kay's Comedy Shuffle\",\n",
       "       'Home Of The Brave', 'Pet Sematary', 'Personal Shopper',\n",
       "       'Access All Areas', 'The Professor And The Madman', 'Paprika',\n",
       "       'Car S.O.S.', 'car SOS', \"Izzie's Way Home\",\n",
       "       \"Dude, You're Screwed\", \"Cycling - Tour de l'Ain\",\n",
       "       'Amrica Belmassryee', 'Taxi 5', 'Belgica', 'Nine Lives'],\n",
       "      dtype=object)"
      ]
     },
     "execution_count": 210,
     "metadata": {},
     "output_type": "execute_result"
    }
   ],
   "source": [
    "df_entities[df_entities['type'] == 'BroadcastName'][df_entities['language'] == 'en'].value.values\n"
   ]
  },
  {
   "cell_type": "code",
   "execution_count": 179,
   "metadata": {},
   "outputs": [
    {
     "data": {
      "text/html": [
       "<div>\n",
       "<style scoped>\n",
       "    .dataframe tbody tr th:only-of-type {\n",
       "        vertical-align: middle;\n",
       "    }\n",
       "\n",
       "    .dataframe tbody tr th {\n",
       "        vertical-align: top;\n",
       "    }\n",
       "\n",
       "    .dataframe thead th {\n",
       "        text-align: right;\n",
       "    }\n",
       "</style>\n",
       "<table border=\"1\" class=\"dataframe\">\n",
       "  <thead>\n",
       "    <tr style=\"text-align: right;\">\n",
       "      <th></th>\n",
       "      <th>value</th>\n",
       "      <th>type</th>\n",
       "      <th>language</th>\n",
       "      <th>normalizedValue</th>\n",
       "      <th>aliases</th>\n",
       "    </tr>\n",
       "  </thead>\n",
       "  <tbody>\n",
       "    <tr>\n",
       "      <th>14</th>\n",
       "      <td>Lucerne</td>\n",
       "      <td>LocalsearchLocation</td>\n",
       "      <td>en</td>\n",
       "      <td>lucerne</td>\n",
       "      <td>[]</td>\n",
       "    </tr>\n",
       "    <tr>\n",
       "      <th>23</th>\n",
       "      <td>Geneva</td>\n",
       "      <td>LocalsearchLocation</td>\n",
       "      <td>en</td>\n",
       "      <td>geneva</td>\n",
       "      <td>[]</td>\n",
       "    </tr>\n",
       "    <tr>\n",
       "      <th>45</th>\n",
       "      <td>Zurich</td>\n",
       "      <td>LocalsearchLocation</td>\n",
       "      <td>en</td>\n",
       "      <td>zurich</td>\n",
       "      <td>[]</td>\n",
       "    </tr>\n",
       "    <tr>\n",
       "      <th>105</th>\n",
       "      <td>Berne</td>\n",
       "      <td>LocalsearchLocation</td>\n",
       "      <td>en</td>\n",
       "      <td>berne</td>\n",
       "      <td>[]</td>\n",
       "    </tr>\n",
       "    <tr>\n",
       "      <th>476</th>\n",
       "      <td>Biel</td>\n",
       "      <td>LocalsearchLocation</td>\n",
       "      <td>en</td>\n",
       "      <td>biel</td>\n",
       "      <td>[]</td>\n",
       "    </tr>\n",
       "    <tr>\n",
       "      <th>...</th>\n",
       "      <td>...</td>\n",
       "      <td>...</td>\n",
       "      <td>...</td>\n",
       "      <td>...</td>\n",
       "      <td>...</td>\n",
       "    </tr>\n",
       "    <tr>\n",
       "      <th>136988</th>\n",
       "      <td>on 17.12</td>\n",
       "      <td>LocalsearchTimeStampStartDay</td>\n",
       "      <td>en</td>\n",
       "      <td>on seventeenth december</td>\n",
       "      <td>[]</td>\n",
       "    </tr>\n",
       "    <tr>\n",
       "      <th>136989</th>\n",
       "      <td>on 8.8</td>\n",
       "      <td>LocalsearchTimeStampStartDay</td>\n",
       "      <td>en</td>\n",
       "      <td>on eighth august</td>\n",
       "      <td>[]</td>\n",
       "    </tr>\n",
       "    <tr>\n",
       "      <th>136990</th>\n",
       "      <td>on 11.11</td>\n",
       "      <td>LocalsearchTimeStampStartDay</td>\n",
       "      <td>en</td>\n",
       "      <td>on eleventh november</td>\n",
       "      <td>[]</td>\n",
       "    </tr>\n",
       "    <tr>\n",
       "      <th>136994</th>\n",
       "      <td>on 20.9</td>\n",
       "      <td>LocalsearchTimeStampStartDay</td>\n",
       "      <td>en</td>\n",
       "      <td>on twentieth september</td>\n",
       "      <td>[]</td>\n",
       "    </tr>\n",
       "    <tr>\n",
       "      <th>136995</th>\n",
       "      <td>on 28.1</td>\n",
       "      <td>LocalsearchTimeStampStartDay</td>\n",
       "      <td>en</td>\n",
       "      <td>on twenty eighth january</td>\n",
       "      <td>[]</td>\n",
       "    </tr>\n",
       "  </tbody>\n",
       "</table>\n",
       "<p>32685 rows × 5 columns</p>\n",
       "</div>"
      ],
      "text/plain": [
       "           value                          type language  \\\n",
       "14       Lucerne           LocalsearchLocation       en   \n",
       "23        Geneva           LocalsearchLocation       en   \n",
       "45        Zurich           LocalsearchLocation       en   \n",
       "105        Berne           LocalsearchLocation       en   \n",
       "476         Biel           LocalsearchLocation       en   \n",
       "...          ...                           ...      ...   \n",
       "136988  on 17.12  LocalsearchTimeStampStartDay       en   \n",
       "136989    on 8.8  LocalsearchTimeStampStartDay       en   \n",
       "136990  on 11.11  LocalsearchTimeStampStartDay       en   \n",
       "136994   on 20.9  LocalsearchTimeStampStartDay       en   \n",
       "136995   on 28.1  LocalsearchTimeStampStartDay       en   \n",
       "\n",
       "                 normalizedValue aliases  \n",
       "14                       lucerne      []  \n",
       "23                        geneva      []  \n",
       "45                        zurich      []  \n",
       "105                        berne      []  \n",
       "476                         biel      []  \n",
       "...                          ...     ...  \n",
       "136988   on seventeenth december      []  \n",
       "136989          on eighth august      []  \n",
       "136990      on eleventh november      []  \n",
       "136994    on twentieth september      []  \n",
       "136995  on twenty eighth january      []  \n",
       "\n",
       "[32685 rows x 5 columns]"
      ]
     },
     "execution_count": 179,
     "metadata": {},
     "output_type": "execute_result"
    }
   ],
   "source": [
    "entities[entities.language.isin(languages)]#.drop_duplicates()"
   ]
  },
  {
   "cell_type": "code",
   "execution_count": 32,
   "metadata": {},
   "outputs": [
    {
     "data": {
      "text/html": [
       "<div>\n",
       "<style scoped>\n",
       "    .dataframe tbody tr th:only-of-type {\n",
       "        vertical-align: middle;\n",
       "    }\n",
       "\n",
       "    .dataframe tbody tr th {\n",
       "        vertical-align: top;\n",
       "    }\n",
       "\n",
       "    .dataframe thead th {\n",
       "        text-align: right;\n",
       "    }\n",
       "</style>\n",
       "<table border=\"1\" class=\"dataframe\">\n",
       "  <thead>\n",
       "    <tr style=\"text-align: right;\">\n",
       "      <th></th>\n",
       "      <th>id</th>\n",
       "      <th>language</th>\n",
       "      <th>text</th>\n",
       "    </tr>\n",
       "  </thead>\n",
       "  <tbody>\n",
       "    <tr>\n",
       "      <th>0</th>\n",
       "      <td>MyCloud.OpenArea.Init.Utterance</td>\n",
       "      <td>en</td>\n",
       "      <td>show {MyCloudArea} on myCloud</td>\n",
       "    </tr>\n",
       "    <tr>\n",
       "      <th>1</th>\n",
       "      <td>MyCloud.OpenArea.Init.Utterance</td>\n",
       "      <td>en</td>\n",
       "      <td>{MyCloudArea} in myCloud</td>\n",
       "    </tr>\n",
       "    <tr>\n",
       "      <th>2</th>\n",
       "      <td>MyCloud.OpenArea.Init.Utterance</td>\n",
       "      <td>en</td>\n",
       "      <td>play {MyCloudArea} on myCloud</td>\n",
       "    </tr>\n",
       "    <tr>\n",
       "      <th>3</th>\n",
       "      <td>MyCloud.OpenArea.Init.Utterance</td>\n",
       "      <td>en</td>\n",
       "      <td>play {MyCloudArea} on myCloud</td>\n",
       "    </tr>\n",
       "    <tr>\n",
       "      <th>4</th>\n",
       "      <td>MyCloud.OpenArea.Init.Utterance</td>\n",
       "      <td>en</td>\n",
       "      <td>go to {MyCloudArea} on myCloud</td>\n",
       "    </tr>\n",
       "    <tr>\n",
       "      <th>...</th>\n",
       "      <td>...</td>\n",
       "      <td>...</td>\n",
       "      <td>...</td>\n",
       "    </tr>\n",
       "    <tr>\n",
       "      <th>1247</th>\n",
       "      <td>Tv.WatchNextEpisode.Init.Utterance</td>\n",
       "      <td>en</td>\n",
       "      <td>I'd like to watch the next episode please</td>\n",
       "    </tr>\n",
       "    <tr>\n",
       "      <th>1248</th>\n",
       "      <td>Tv.WatchNextEpisode.Init.Utterance</td>\n",
       "      <td>en</td>\n",
       "      <td>can you play the next episode</td>\n",
       "    </tr>\n",
       "    <tr>\n",
       "      <th>1249</th>\n",
       "      <td>Tv.WatchNextEpisode.Init.Utterance</td>\n",
       "      <td>en</td>\n",
       "      <td>next episode please</td>\n",
       "    </tr>\n",
       "    <tr>\n",
       "      <th>1250</th>\n",
       "      <td>Tv.WatchNextEpisode.Init.Utterance</td>\n",
       "      <td>en</td>\n",
       "      <td>another episode</td>\n",
       "    </tr>\n",
       "    <tr>\n",
       "      <th>1251</th>\n",
       "      <td>Tv.WatchNextEpisode.Init.Utterance</td>\n",
       "      <td>en</td>\n",
       "      <td>one more episode</td>\n",
       "    </tr>\n",
       "  </tbody>\n",
       "</table>\n",
       "<p>1252 rows × 3 columns</p>\n",
       "</div>"
      ],
      "text/plain": [
       "                                      id language  \\\n",
       "0        MyCloud.OpenArea.Init.Utterance       en   \n",
       "1        MyCloud.OpenArea.Init.Utterance       en   \n",
       "2        MyCloud.OpenArea.Init.Utterance       en   \n",
       "3        MyCloud.OpenArea.Init.Utterance       en   \n",
       "4        MyCloud.OpenArea.Init.Utterance       en   \n",
       "...                                  ...      ...   \n",
       "1247  Tv.WatchNextEpisode.Init.Utterance       en   \n",
       "1248  Tv.WatchNextEpisode.Init.Utterance       en   \n",
       "1249  Tv.WatchNextEpisode.Init.Utterance       en   \n",
       "1250  Tv.WatchNextEpisode.Init.Utterance       en   \n",
       "1251  Tv.WatchNextEpisode.Init.Utterance       en   \n",
       "\n",
       "                                           text  \n",
       "0                 show {MyCloudArea} on myCloud  \n",
       "1                      {MyCloudArea} in myCloud  \n",
       "2                 play {MyCloudArea} on myCloud  \n",
       "3                 play {MyCloudArea} on myCloud  \n",
       "4                go to {MyCloudArea} on myCloud  \n",
       "...                                         ...  \n",
       "1247  I'd like to watch the next episode please  \n",
       "1248              can you play the next episode  \n",
       "1249                        next episode please  \n",
       "1250                            another episode  \n",
       "1251                           one more episode  \n",
       "\n",
       "[1252 rows x 3 columns]"
      ]
     },
     "execution_count": 32,
     "metadata": {},
     "output_type": "execute_result"
    }
   ],
   "source": [
    "df_temp = pd.DataFrame(columns=[\"id\", \"language\", \"text\"])\n",
    "for tem_id in templates.id:\n",
    "    for lan in languages:\n",
    "        for text in gen.get_templates(tem_id, lan):\n",
    "            df_temp = df_temp.append({\n",
    "                 \"id\": tem_id,\n",
    "                 \"language\": lan,\n",
    "                 \"text\":  text\n",
    "                  }, ignore_index=True)\n",
    "df_temp"
   ]
  },
  {
   "cell_type": "code",
   "execution_count": 120,
   "metadata": {},
   "outputs": [],
   "source": [
    "gen_1 = Generator(templates=test, entities=df_entities_test, method='all')"
   ]
  },
  {
   "cell_type": "code",
   "execution_count": 182,
   "metadata": {},
   "outputs": [
    {
     "data": {
      "text/plain": [
       "['bedtime ']"
      ]
     },
     "execution_count": 182,
     "metadata": {},
     "output_type": "execute_result"
    }
   ],
   "source": [
    "[]+['bedtime ']"
   ]
  },
  {
   "cell_type": "code",
   "execution_count": 119,
   "metadata": {},
   "outputs": [
    {
     "data": {
      "text/html": [
       "<div>\n",
       "<style scoped>\n",
       "    .dataframe tbody tr th:only-of-type {\n",
       "        vertical-align: middle;\n",
       "    }\n",
       "\n",
       "    .dataframe tbody tr th {\n",
       "        vertical-align: top;\n",
       "    }\n",
       "\n",
       "    .dataframe thead th {\n",
       "        text-align: right;\n",
       "    }\n",
       "</style>\n",
       "<table border=\"1\" class=\"dataframe\">\n",
       "  <thead>\n",
       "    <tr style=\"text-align: right;\">\n",
       "      <th></th>\n",
       "      <th>id</th>\n",
       "      <th>language</th>\n",
       "      <th>text</th>\n",
       "    </tr>\n",
       "  </thead>\n",
       "  <tbody>\n",
       "    <tr>\n",
       "      <th>24</th>\n",
       "      <td>MyCloud.OpenArea.Init.Utterance</td>\n",
       "      <td>en</td>\n",
       "      <td>I wanna look at my {MyCloudArea} on myCloud</td>\n",
       "    </tr>\n",
       "    <tr>\n",
       "      <th>11</th>\n",
       "      <td>MyCloud.OpenArea.Init.Utterance</td>\n",
       "      <td>en</td>\n",
       "      <td>can you please open {MyCloudArea} on myCloud</td>\n",
       "    </tr>\n",
       "    <tr>\n",
       "      <th>3</th>\n",
       "      <td>MyCloud.OpenArea.Init.Utterance</td>\n",
       "      <td>en</td>\n",
       "      <td>play {MyCloudArea} on myCloud</td>\n",
       "    </tr>\n",
       "    <tr>\n",
       "      <th>21</th>\n",
       "      <td>MyCloud.OpenArea.Init.Utterance</td>\n",
       "      <td>en</td>\n",
       "      <td>I would like to see {MyCloudArea} on myCloud</td>\n",
       "    </tr>\n",
       "    <tr>\n",
       "      <th>13</th>\n",
       "      <td>MyCloud.OpenArea.Init.Utterance</td>\n",
       "      <td>en</td>\n",
       "      <td>please open {MyCloudArea} on myCloud</td>\n",
       "    </tr>\n",
       "    <tr>\n",
       "      <th>8</th>\n",
       "      <td>MyCloud.OpenArea.Init.Utterance</td>\n",
       "      <td>en</td>\n",
       "      <td>I want to see {MyCloudArea} on myCloud</td>\n",
       "    </tr>\n",
       "  </tbody>\n",
       "</table>\n",
       "</div>"
      ],
      "text/plain": [
       "                                 id language  \\\n",
       "24  MyCloud.OpenArea.Init.Utterance       en   \n",
       "11  MyCloud.OpenArea.Init.Utterance       en   \n",
       "3   MyCloud.OpenArea.Init.Utterance       en   \n",
       "21  MyCloud.OpenArea.Init.Utterance       en   \n",
       "13  MyCloud.OpenArea.Init.Utterance       en   \n",
       "8   MyCloud.OpenArea.Init.Utterance       en   \n",
       "\n",
       "                                            text  \n",
       "24   I wanna look at my {MyCloudArea} on myCloud  \n",
       "11  can you please open {MyCloudArea} on myCloud  \n",
       "3                  play {MyCloudArea} on myCloud  \n",
       "21  I would like to see {MyCloudArea} on myCloud  \n",
       "13          please open {MyCloudArea} on myCloud  \n",
       "8         I want to see {MyCloudArea} on myCloud  "
      ]
     },
     "execution_count": 119,
     "metadata": {},
     "output_type": "execute_result"
    }
   ],
   "source": [
    "test[test.id =='MyCloud.OpenArea.Init.Utterance']"
   ]
  },
  {
   "cell_type": "code",
   "execution_count": 98,
   "metadata": {},
   "outputs": [
    {
     "data": {
      "text/plain": [
       "['recent uploads',\n",
       " 'newest uploads',\n",
       " 'last Uploaded',\n",
       " 'latest uploads',\n",
       " 'last uploaded']"
      ]
     },
     "execution_count": 98,
     "metadata": {},
     "output_type": "execute_result"
    }
   ],
   "source": [
    "df_entities_test[df_entities_test.type =='MyCloudArea'].aliases.values[0]"
   ]
  },
  {
   "cell_type": "code",
   "execution_count": 116,
   "metadata": {},
   "outputs": [
    {
     "data": {
      "text/plain": [
       "['latest uploads', 'recent uploads', 'newest uploads', 'last Uploaded']"
      ]
     },
     "execution_count": 116,
     "metadata": {},
     "output_type": "execute_result"
    }
   ],
   "source": [
    "c = gen_1.get_values_from_tag('MyCloudArea', 'en')\n",
    "c"
   ]
  },
  {
   "cell_type": "code",
   "execution_count": 127,
   "metadata": {},
   "outputs": [
    {
     "data": {
      "text/plain": [
       "{'MyCloudArea': ['gallery',\n",
       "  'photo',\n",
       "  'photo stream',\n",
       "  'pictures',\n",
       "  'my photos',\n",
       "  'images',\n",
       "  'my shots',\n",
       "  'photos',\n",
       "  'foto stream',\n",
       "  'photostream',\n",
       "  'my pictures',\n",
       "  'fotostream',\n",
       "  'library',\n",
       "  'latest uploads',\n",
       "  'recent uploads',\n",
       "  'newest uploads',\n",
       "  'last Uploaded',\n",
       "  'favourite photo',\n",
       "  'favourites',\n",
       "  'favourite photos',\n",
       "  'favourite pictures',\n",
       "  'marked photos',\n",
       "  'favourite picture',\n",
       "  'favourite',\n",
       "  'albums',\n",
       "  'folders',\n",
       "  'picture collection',\n",
       "  'photo albums',\n",
       "  'photo album',\n",
       "  'videos',\n",
       "  'my videos',\n",
       "  'video clips',\n",
       "  'video recordings',\n",
       "  'clips']}"
      ]
     },
     "execution_count": 127,
     "metadata": {},
     "output_type": "execute_result"
    }
   ],
   "source": [
    "gen.tag_dic"
   ]
  },
  {
   "cell_type": "code",
   "execution_count": 105,
   "metadata": {},
   "outputs": [
    {
     "data": {
      "text/plain": [
       "[['latest uploads', 'recent uploads', 'newest uploads', 'last Uploaded']]"
      ]
     },
     "execution_count": 105,
     "metadata": {},
     "output_type": "execute_result"
    }
   ],
   "source": [
    "a = []\n",
    "a.append(c)\n",
    "a"
   ]
  },
  {
   "cell_type": "code",
   "execution_count": 108,
   "metadata": {},
   "outputs": [
    {
     "data": {
      "text/plain": [
       "1"
      ]
     },
     "execution_count": 108,
     "metadata": {},
     "output_type": "execute_result"
    }
   ],
   "source": [
    "len(list(itertools.product(*a))[0])"
   ]
  },
  {
   "cell_type": "code",
   "execution_count": 99,
   "metadata": {},
   "outputs": [
    {
     "data": {
      "text/plain": [
       "['latest uploads', 'recent uploads', 'newest uploads', 'last Uploaded', [...]]"
      ]
     },
     "execution_count": 99,
     "metadata": {},
     "output_type": "execute_result"
    }
   ],
   "source": [
    "gen_1.get_values_from_tag('MyCloudArea', 'en')"
   ]
  },
  {
   "cell_type": "code",
   "execution_count": 123,
   "metadata": {},
   "outputs": [],
   "source": [
    "from sklearn.model_selection import train_test_split\n",
    "train, test = train_test_split(df_temp, train_size=0.8, stratify=df_temp[['id']])"
   ]
  },
  {
   "cell_type": "code",
   "execution_count": 159,
   "metadata": {},
   "outputs": [
    {
     "data": {
      "text/html": [
       "<div>\n",
       "<style scoped>\n",
       "    .dataframe tbody tr th:only-of-type {\n",
       "        vertical-align: middle;\n",
       "    }\n",
       "\n",
       "    .dataframe tbody tr th {\n",
       "        vertical-align: top;\n",
       "    }\n",
       "\n",
       "    .dataframe thead th {\n",
       "        text-align: right;\n",
       "    }\n",
       "</style>\n",
       "<table border=\"1\" class=\"dataframe\">\n",
       "  <thead>\n",
       "    <tr style=\"text-align: right;\">\n",
       "      <th></th>\n",
       "      <th>id</th>\n",
       "      <th>language</th>\n",
       "      <th>text</th>\n",
       "    </tr>\n",
       "  </thead>\n",
       "  <tbody>\n",
       "    <tr>\n",
       "      <th>342</th>\n",
       "      <td>Tv.WatchFromBeginning.Init.Utterance</td>\n",
       "      <td>en</td>\n",
       "      <td>watch from beginning</td>\n",
       "    </tr>\n",
       "    <tr>\n",
       "      <th>343</th>\n",
       "      <td>Tv.WatchFromBeginning.Init.Utterance</td>\n",
       "      <td>en</td>\n",
       "      <td>watch from the beginning</td>\n",
       "    </tr>\n",
       "    <tr>\n",
       "      <th>344</th>\n",
       "      <td>Tv.WatchFromBeginning.Init.Utterance</td>\n",
       "      <td>en</td>\n",
       "      <td>start from the beginning</td>\n",
       "    </tr>\n",
       "    <tr>\n",
       "      <th>345</th>\n",
       "      <td>Tv.WatchFromBeginning.Init.Utterance</td>\n",
       "      <td>en</td>\n",
       "      <td>please start this show from the beginning</td>\n",
       "    </tr>\n",
       "    <tr>\n",
       "      <th>346</th>\n",
       "      <td>Tv.WatchFromBeginning.Init.Utterance</td>\n",
       "      <td>en</td>\n",
       "      <td>show episode from the beginning</td>\n",
       "    </tr>\n",
       "    <tr>\n",
       "      <th>...</th>\n",
       "      <td>...</td>\n",
       "      <td>...</td>\n",
       "      <td>...</td>\n",
       "    </tr>\n",
       "    <tr>\n",
       "      <th>1247</th>\n",
       "      <td>Tv.WatchNextEpisode.Init.Utterance</td>\n",
       "      <td>en</td>\n",
       "      <td>I'd like to watch the next episode please</td>\n",
       "    </tr>\n",
       "    <tr>\n",
       "      <th>1248</th>\n",
       "      <td>Tv.WatchNextEpisode.Init.Utterance</td>\n",
       "      <td>en</td>\n",
       "      <td>can you play the next episode</td>\n",
       "    </tr>\n",
       "    <tr>\n",
       "      <th>1249</th>\n",
       "      <td>Tv.WatchNextEpisode.Init.Utterance</td>\n",
       "      <td>en</td>\n",
       "      <td>next episode please</td>\n",
       "    </tr>\n",
       "    <tr>\n",
       "      <th>1250</th>\n",
       "      <td>Tv.WatchNextEpisode.Init.Utterance</td>\n",
       "      <td>en</td>\n",
       "      <td>another episode</td>\n",
       "    </tr>\n",
       "    <tr>\n",
       "      <th>1251</th>\n",
       "      <td>Tv.WatchNextEpisode.Init.Utterance</td>\n",
       "      <td>en</td>\n",
       "      <td>one more episode</td>\n",
       "    </tr>\n",
       "  </tbody>\n",
       "</table>\n",
       "<p>109 rows × 3 columns</p>\n",
       "</div>"
      ],
      "text/plain": [
       "                                        id language  \\\n",
       "342   Tv.WatchFromBeginning.Init.Utterance       en   \n",
       "343   Tv.WatchFromBeginning.Init.Utterance       en   \n",
       "344   Tv.WatchFromBeginning.Init.Utterance       en   \n",
       "345   Tv.WatchFromBeginning.Init.Utterance       en   \n",
       "346   Tv.WatchFromBeginning.Init.Utterance       en   \n",
       "...                                    ...      ...   \n",
       "1247    Tv.WatchNextEpisode.Init.Utterance       en   \n",
       "1248    Tv.WatchNextEpisode.Init.Utterance       en   \n",
       "1249    Tv.WatchNextEpisode.Init.Utterance       en   \n",
       "1250    Tv.WatchNextEpisode.Init.Utterance       en   \n",
       "1251    Tv.WatchNextEpisode.Init.Utterance       en   \n",
       "\n",
       "                                           text  \n",
       "342                        watch from beginning  \n",
       "343                    watch from the beginning  \n",
       "344                    start from the beginning  \n",
       "345   please start this show from the beginning  \n",
       "346             show episode from the beginning  \n",
       "...                                         ...  \n",
       "1247  I'd like to watch the next episode please  \n",
       "1248              can you play the next episode  \n",
       "1249                        next episode please  \n",
       "1250                            another episode  \n",
       "1251                           one more episode  \n",
       "\n",
       "[109 rows x 3 columns]"
      ]
     },
     "execution_count": 159,
     "metadata": {},
     "output_type": "execute_result"
    }
   ],
   "source": [
    "s = df_temp.id.value_counts()\n",
    "df_temp[df_temp.id.isin(s[s < 20].index.values)]"
   ]
  },
  {
   "cell_type": "code",
   "execution_count": 12,
   "metadata": {},
   "outputs": [
    {
     "data": {
      "text/plain": [
       "39"
      ]
     },
     "execution_count": 12,
     "metadata": {},
     "output_type": "execute_result"
    }
   ],
   "source": [
    "df = df_temp[['type', 'language']]\n",
    "df = df.groupby(['type','language']).size().reset_index(name='count')\n",
    "df2 = df.pivot(index='type', columns='language', values='count')\n",
    "df2['sum'] = 0\n",
    "df2 = df2.fillna(0)\n",
    "for lang in ['de', 'en', 'fr', 'it',]:\n",
    "    df2['sum'] += df2[lang]\n",
    "# df.sort_values('count', ascending=False)\n",
    "p = df2.sort_values('sum', ascending=False)[['de', 'en', 'fr', 'it']].plot(kind='bar', figsize=(15, 5))"
   ]
  },
  {
   "cell_type": "code",
   "execution_count": 146,
   "metadata": {},
   "outputs": [],
   "source": [
    "df_entities = entities[entities.language.isin(languages)]\n",
    "df_entities_train, df_entities_test = train_test_split(df_entities,\n",
    "                                                       test_size=0.05,\n",
    "                                                       stratify=df_entities[['type', 'language']],\n",
    "                                                       random_state=42)"
   ]
  },
  {
   "cell_type": "code",
   "execution_count": 47,
   "metadata": {},
   "outputs": [],
   "source": [
    "import itertools\n",
    "s=[ [ 'a', 'b', 'c'], ['d'], ['e', 'f'] ]\n",
    "a = list(itertools.product(*s))"
   ]
  },
  {
   "cell_type": "code",
   "execution_count": 147,
   "metadata": {},
   "outputs": [
    {
     "ename": "ValueError",
     "evalue": "The least populated class in y has only 1 member, which is too few. The minimum number of groups for any class cannot be less than 2.",
     "output_type": "error",
     "traceback": [
      "\u001b[0;31m---------------------------------------------------------------------------\u001b[0m",
      "\u001b[0;31mValueError\u001b[0m                                Traceback (most recent call last)",
      "\u001b[0;32m<ipython-input-147-a48b076e068b>\u001b[0m in \u001b[0;36m<module>\u001b[0;34m\u001b[0m\n\u001b[1;32m      7\u001b[0m                                                \u001b[0mtest_size\u001b[0m\u001b[0;34m=\u001b[0m\u001b[0;36m0.5\u001b[0m\u001b[0;34m,\u001b[0m\u001b[0;34m\u001b[0m\u001b[0;34m\u001b[0m\u001b[0m\n\u001b[1;32m      8\u001b[0m                                                \u001b[0mstratify\u001b[0m\u001b[0;34m=\u001b[0m\u001b[0mdf_temp_test_valid\u001b[0m\u001b[0;34m[\u001b[0m\u001b[0;34m[\u001b[0m\u001b[0;34m'id'\u001b[0m\u001b[0;34m,\u001b[0m \u001b[0;34m'language'\u001b[0m\u001b[0;34m]\u001b[0m\u001b[0;34m]\u001b[0m\u001b[0;34m,\u001b[0m\u001b[0;34m\u001b[0m\u001b[0;34m\u001b[0m\u001b[0m\n\u001b[0;32m----> 9\u001b[0;31m                                                random_state=random_seed)\n\u001b[0m",
      "\u001b[0;32m~/anaconda3/envs/jobposting/lib/python3.7/site-packages/sklearn/model_selection/_split.py\u001b[0m in \u001b[0;36mtrain_test_split\u001b[0;34m(*arrays, **options)\u001b[0m\n\u001b[1;32m   2141\u001b[0m                      random_state=random_state)\n\u001b[1;32m   2142\u001b[0m \u001b[0;34m\u001b[0m\u001b[0m\n\u001b[0;32m-> 2143\u001b[0;31m         \u001b[0mtrain\u001b[0m\u001b[0;34m,\u001b[0m \u001b[0mtest\u001b[0m \u001b[0;34m=\u001b[0m \u001b[0mnext\u001b[0m\u001b[0;34m(\u001b[0m\u001b[0mcv\u001b[0m\u001b[0;34m.\u001b[0m\u001b[0msplit\u001b[0m\u001b[0;34m(\u001b[0m\u001b[0mX\u001b[0m\u001b[0;34m=\u001b[0m\u001b[0marrays\u001b[0m\u001b[0;34m[\u001b[0m\u001b[0;36m0\u001b[0m\u001b[0;34m]\u001b[0m\u001b[0;34m,\u001b[0m \u001b[0my\u001b[0m\u001b[0;34m=\u001b[0m\u001b[0mstratify\u001b[0m\u001b[0;34m)\u001b[0m\u001b[0;34m)\u001b[0m\u001b[0;34m\u001b[0m\u001b[0;34m\u001b[0m\u001b[0m\n\u001b[0m\u001b[1;32m   2144\u001b[0m \u001b[0;34m\u001b[0m\u001b[0m\n\u001b[1;32m   2145\u001b[0m     return list(chain.from_iterable((_safe_indexing(a, train),\n",
      "\u001b[0;32m~/anaconda3/envs/jobposting/lib/python3.7/site-packages/sklearn/model_selection/_split.py\u001b[0m in \u001b[0;36msplit\u001b[0;34m(self, X, y, groups)\u001b[0m\n\u001b[1;32m   1327\u001b[0m         \"\"\"\n\u001b[1;32m   1328\u001b[0m         \u001b[0mX\u001b[0m\u001b[0;34m,\u001b[0m \u001b[0my\u001b[0m\u001b[0;34m,\u001b[0m \u001b[0mgroups\u001b[0m \u001b[0;34m=\u001b[0m \u001b[0mindexable\u001b[0m\u001b[0;34m(\u001b[0m\u001b[0mX\u001b[0m\u001b[0;34m,\u001b[0m \u001b[0my\u001b[0m\u001b[0;34m,\u001b[0m \u001b[0mgroups\u001b[0m\u001b[0;34m)\u001b[0m\u001b[0;34m\u001b[0m\u001b[0;34m\u001b[0m\u001b[0m\n\u001b[0;32m-> 1329\u001b[0;31m         \u001b[0;32mfor\u001b[0m \u001b[0mtrain\u001b[0m\u001b[0;34m,\u001b[0m \u001b[0mtest\u001b[0m \u001b[0;32min\u001b[0m \u001b[0mself\u001b[0m\u001b[0;34m.\u001b[0m\u001b[0m_iter_indices\u001b[0m\u001b[0;34m(\u001b[0m\u001b[0mX\u001b[0m\u001b[0;34m,\u001b[0m \u001b[0my\u001b[0m\u001b[0;34m,\u001b[0m \u001b[0mgroups\u001b[0m\u001b[0;34m)\u001b[0m\u001b[0;34m:\u001b[0m\u001b[0;34m\u001b[0m\u001b[0;34m\u001b[0m\u001b[0m\n\u001b[0m\u001b[1;32m   1330\u001b[0m             \u001b[0;32myield\u001b[0m \u001b[0mtrain\u001b[0m\u001b[0;34m,\u001b[0m \u001b[0mtest\u001b[0m\u001b[0;34m\u001b[0m\u001b[0;34m\u001b[0m\u001b[0m\n\u001b[1;32m   1331\u001b[0m \u001b[0;34m\u001b[0m\u001b[0m\n",
      "\u001b[0;32m~/anaconda3/envs/jobposting/lib/python3.7/site-packages/sklearn/model_selection/_split.py\u001b[0m in \u001b[0;36m_iter_indices\u001b[0;34m(self, X, y, groups)\u001b[0m\n\u001b[1;32m   1657\u001b[0m         \u001b[0mclass_counts\u001b[0m \u001b[0;34m=\u001b[0m \u001b[0mnp\u001b[0m\u001b[0;34m.\u001b[0m\u001b[0mbincount\u001b[0m\u001b[0;34m(\u001b[0m\u001b[0my_indices\u001b[0m\u001b[0;34m)\u001b[0m\u001b[0;34m\u001b[0m\u001b[0;34m\u001b[0m\u001b[0m\n\u001b[1;32m   1658\u001b[0m         \u001b[0;32mif\u001b[0m \u001b[0mnp\u001b[0m\u001b[0;34m.\u001b[0m\u001b[0mmin\u001b[0m\u001b[0;34m(\u001b[0m\u001b[0mclass_counts\u001b[0m\u001b[0;34m)\u001b[0m \u001b[0;34m<\u001b[0m \u001b[0;36m2\u001b[0m\u001b[0;34m:\u001b[0m\u001b[0;34m\u001b[0m\u001b[0;34m\u001b[0m\u001b[0m\n\u001b[0;32m-> 1659\u001b[0;31m             raise ValueError(\"The least populated class in y has only 1\"\n\u001b[0m\u001b[1;32m   1660\u001b[0m                              \u001b[0;34m\" member, which is too few. The minimum\"\u001b[0m\u001b[0;34m\u001b[0m\u001b[0;34m\u001b[0m\u001b[0m\n\u001b[1;32m   1661\u001b[0m                              \u001b[0;34m\" number of groups for any class cannot\"\u001b[0m\u001b[0;34m\u001b[0m\u001b[0;34m\u001b[0m\u001b[0m\n",
      "\u001b[0;31mValueError\u001b[0m: The least populated class in y has only 1 member, which is too few. The minimum number of groups for any class cannot be less than 2."
     ]
    }
   ],
   "source": [
    "random_seed = 42\n",
    "df_temp_train, df_temp_test_valid = train_test_split(df_temp,\n",
    "                                                     train_size=0.8,\n",
    "                                                     stratify=df_temp[['id', 'language']],\n",
    "                                                     random_state=random_seed)\n",
    "df_temp_test_valid.drop()\n",
    "df_temp_valid, df_temp_test = train_test_split(df_temp_test_valid,\n",
    "                                               test_size=0.5,\n",
    "                                               stratify=df_temp_test_valid[['id', 'language']],\n",
    "                                               random_state=random_seed)"
   ]
  },
  {
   "cell_type": "code",
   "execution_count": 149,
   "metadata": {},
   "outputs": [
    {
     "data": {
      "text/plain": [
       "Localsearch.WeatherInfo.Init.Utterance         15\n",
       "SmartHome.SwitchOnDevice.Init.Utterance        13\n",
       "SmartHome.SwitchOffDevice.Init.Utterance       13\n",
       "Router.SwitchOnGuestWiFi.Init.Utterance        13\n",
       "Localsearch.RainInfo.Init.Utterance            10\n",
       "Tv.TvChannelChange.Init.Utterance              10\n",
       "Localsearch.TemperatureInfo.Init.Utterance     10\n",
       "Tv.RadioChannelChange.Init.Utterance            9\n",
       "Router.SwitchOnWiFi.Init.Utterance              8\n",
       "Bluewin.NewsSummary.Init.Utterance              8\n",
       "Tv.TvRecommendations.Init.Utterance             7\n",
       "Router.SwitchOffGuestWiFi.Init.Utterance        7\n",
       "SmartHome.StartScene.Init.Utterance             7\n",
       "Tv.TrickModeSkip.Init.Utterance                 7\n",
       "Router.SwitchOffWiFi.Init.Utterance             7\n",
       "Tv.TvSearch.Init.Utterance                      7\n",
       "Tv.OpenUiArea.Init.Utterance                    7\n",
       "Router.ShowGuestWiFiPassword.Init.Utterance     6\n",
       "Router.ShowWiFiPassword.Init.Utterance          6\n",
       "Tv.GenericExitToTv.Init.Utterance               6\n",
       "MyCloud.OpenArea.Init.Utterance                 6\n",
       "Tv.TerminateService.Init.Utterance              6\n",
       "Tv.TrickModePlay.Init.Utterance                 6\n",
       "Tv.VolumeUp.Init.Utterance                      6\n",
       "Tv.OpenApplication.Init.Utterance               6\n",
       "Tv.VolumeDown.Init.Utterance                    6\n",
       "Tv.TrickModePause.Init.Utterance                5\n",
       "Tv.InitiateService.Init.Utterance               5\n",
       "Tv.WatchFromBeginning.Init.Utterance            4\n",
       "Tv.Recording.Init.Utterance                     4\n",
       "Tv.SkipCommercial.Init.Utterance                4\n",
       "Tv.VolumeMute.Init.Utterance                    3\n",
       "Tv.VolumeUnmute.Init.Utterance                  3\n",
       "Tv.NavigationRight.Init.Utterance               2\n",
       "Tv.NavigationUp.Init.Utterance                  2\n",
       "Tv.NavigationDown.Init.Utterance                2\n",
       "Tv.NavigationLeft.Init.Utterance                2\n",
       "Tv.WatchNextEpisode.Init.Utterance              2\n",
       "Tv.NavigationOK.Init.Utterance                  1\n",
       "Name: id, dtype: int64"
      ]
     },
     "execution_count": 149,
     "metadata": {},
     "output_type": "execute_result"
    }
   ],
   "source": [
    "df_temp_test_valid.id.value_counts()"
   ]
  },
  {
   "cell_type": "code",
   "execution_count": 143,
   "metadata": {},
   "outputs": [
    {
     "data": {
      "text/plain": [
       "VodName                          7885\n",
       "SeriesName                       7885\n",
       "BroadcastName                    7885\n",
       "TrackName                        2700\n",
       "AlbumName                        1479\n",
       "ArtistName                        822\n",
       "TvChannelName                     623\n",
       "SportParticipantName              432\n",
       "RadioChannelName                  365\n",
       "ClipName                          320\n",
       "ParticipantName                   297\n",
       "AppName                           273\n",
       "SportEventName                    207\n",
       "LocalsearchTimeStampEndTime       158\n",
       "LocalsearchTimeStampStartTime     158\n",
       "Duration                          154\n",
       "LocalsearchTimeStampStartDay      152\n",
       "RouterWiFiDuration                152\n",
       "TvGenre                           131\n",
       "VodGenre                          107\n",
       "SmartHomeDeviceName               100\n",
       "RadioChannelPosition               99\n",
       "TvChannelPosition                  99\n",
       "SmartHomeSceneName                 49\n",
       "LocalsearchLocation                28\n",
       "AreaName                           26\n",
       "NickName                           25\n",
       "SportCompetitionName               20\n",
       "SmartHomeDeviceBrand               10\n",
       "SportSportsName                    10\n",
       "SmartHomeDeviceLocation             9\n",
       "GenreName                           8\n",
       "MyCloudArea                         5\n",
       "SmartHomeDeviceCategory             5\n",
       "CallingNumberType                   4\n",
       "DossierName                         3\n",
       "Name: type, dtype: int64"
      ]
     },
     "execution_count": 143,
     "metadata": {},
     "output_type": "execute_result"
    }
   ],
   "source": [
    "df_entities.type.value_counts()"
   ]
  },
  {
   "cell_type": "code",
   "execution_count": null,
   "metadata": {
    "pycharm": {
     "name": "#%%\n"
    }
   },
   "outputs": [],
   "source": [
    "gen = Generator(templates=templates, entities=entities, method='one')\n",
    "gen.get_command(target_id=\"Localsearch.WeatherInfo.Init.Utterance\", target_lang='en', verbose=False)[0]"
   ]
  },
  {
   "cell_type": "code",
   "execution_count": 6,
   "metadata": {},
   "outputs": [
    {
     "data": {
      "text/plain": [
       "('how is the weather going to be between 04:05 and 22:11',\n",
       " 'how is the weather going to be between four oh five and twenty two eleven')"
      ]
     },
     "execution_count": 6,
     "metadata": {},
     "output_type": "execute_result"
    }
   ],
   "source": [
    "gen = Generator(templates=templates, entities=entities, method='one')\n",
    "f_source = open(output_dir / ('commands_source_' + '_'.join(languages) + '.txt'), \"a\")\n",
    "f_target = open(output_dir / ('commands_target_' + '_'.join(languages) + '.txt'), \"a\")\n",
    "\n",
    "for temp_id, size in id_size.items():\n",
    "    for _ in tqdm(range(size)):\n",
    "        for lan in languages:\n",
    "            command, label = gen.get_command(target_id=temp_id, target_lang=lan, verbose=False)[0]\n",
    "            f_source.write(\"{}\\n\".format(' '.join(command)))\n",
    "            f_target.write(\"{}\\n\".format(' '.join(label)))\n",
    "            \n",
    "    for num in range(extra_num_size):\n",
    "        for lan in languages:\n",
    "            num_norm = Normalizer().normalize_text(str(num), lan)\n",
    "            f_source.write(\"{}\\n\".format(str(num)))\n",
    "            f_target.write(\"{}\\n\".format(num_norm))\n",
    "f_source.close()\n",
    "f_target.close()"
   ]
  },
  {
   "cell_type": "code",
   "execution_count": 31,
   "metadata": {},
   "outputs": [],
   "source": [
    "gen = Generator(templates=templates, entities=entities, method='one')\n",
    "f_source = open(output_dir / ('commands_source_' + '_'.join(languages) + '.txt'), \"a\")\n",
    "f_target = open(output_dir / ('commands_target_' + '_'.join(languages) + '.txt'), \"a\")\n",
    "\n",
    "for temp_id, size in id_size.items():\n",
    "    for _ in tqdm(range(size)):\n",
    "        for lan in languages:\n",
    "            command, label = gen.get_command(target_id=temp_id, target_lang=lan, verbose=False)[0]\n",
    "            f_source.write(\"{}\\n\".format(' '.join(command)))\n",
    "            f_target.write(\"{}\\n\".format(' '.join(label)))\n",
    "            \n",
    "    for num in range(extra_num_size):\n",
    "        for lan in languages:\n",
    "            num_norm = Normalizer().normalize_text(str(num), lan)\n",
    "            f_source.write(\"{}\\n\".format(str(num)))\n",
    "            f_target.write(\"{}\\n\".format(num_norm))\n",
    "f_source.close()\n",
    "f_target.close()"
   ]
  },
  {
   "cell_type": "code",
   "execution_count": null,
   "metadata": {},
   "outputs": [],
   "source": [
    "templates_updated = pd.read_csv(\"data/nmt_data/templates_updated.csv\")\n",
    "templates_updated = templates_updated[['id', 'en']] #'fr', 'it', 'de',\n",
    "templates_updated.head()"
   ]
  },
  {
   "cell_type": "code",
   "execution_count": null,
   "metadata": {
    "pycharm": {
     "name": "#%%\n"
    }
   },
   "outputs": [],
   "source": [
    "entities_meta = pd.read_json(\"data/entities_meta.json\")"
   ]
  },
  {
   "cell_type": "code",
   "execution_count": 7,
   "metadata": {
    "pycharm": {
     "name": "#%%\n"
    },
    "scrolled": true
   },
   "outputs": [
    {
     "data": {
      "text/html": [
       "<div>\n",
       "<style scoped>\n",
       "    .dataframe tbody tr th:only-of-type {\n",
       "        vertical-align: middle;\n",
       "    }\n",
       "\n",
       "    .dataframe tbody tr th {\n",
       "        vertical-align: top;\n",
       "    }\n",
       "\n",
       "    .dataframe thead th {\n",
       "        text-align: right;\n",
       "    }\n",
       "</style>\n",
       "<table border=\"1\" class=\"dataframe\">\n",
       "  <thead>\n",
       "    <tr style=\"text-align: right;\">\n",
       "      <th></th>\n",
       "      <th>id</th>\n",
       "      <th>de</th>\n",
       "      <th>fr</th>\n",
       "      <th>it</th>\n",
       "      <th>en</th>\n",
       "      <th>created</th>\n",
       "    </tr>\n",
       "  </thead>\n",
       "  <tbody>\n",
       "    <tr>\n",
       "      <th>count</th>\n",
       "      <td>39</td>\n",
       "      <td>39</td>\n",
       "      <td>39</td>\n",
       "      <td>39</td>\n",
       "      <td>39</td>\n",
       "      <td>39</td>\n",
       "    </tr>\n",
       "    <tr>\n",
       "      <th>unique</th>\n",
       "      <td>39</td>\n",
       "      <td>39</td>\n",
       "      <td>39</td>\n",
       "      <td>39</td>\n",
       "      <td>39</td>\n",
       "      <td>7</td>\n",
       "    </tr>\n",
       "    <tr>\n",
       "      <th>top</th>\n",
       "      <td>Tv.OpenApplication.Init.Utterance</td>\n",
       "      <td>{'texts': [{'ttsText': '{SmartHomeSceneName} S...</td>\n",
       "      <td>{'texts': [{'ttsText': 'activer scène {SmartHo...</td>\n",
       "      <td>{'texts': [{'ttsText': 'attiva scena {SmartHom...</td>\n",
       "      <td>{'texts': [{'ttsText': 'activate {SmartHomeSce...</td>\n",
       "      <td>2020-09-04T08:15:13Z</td>\n",
       "    </tr>\n",
       "    <tr>\n",
       "      <th>freq</th>\n",
       "      <td>1</td>\n",
       "      <td>1</td>\n",
       "      <td>1</td>\n",
       "      <td>1</td>\n",
       "      <td>1</td>\n",
       "      <td>19</td>\n",
       "    </tr>\n",
       "  </tbody>\n",
       "</table>\n",
       "</div>"
      ],
      "text/plain": [
       "                                       id  \\\n",
       "count                                  39   \n",
       "unique                                 39   \n",
       "top     Tv.OpenApplication.Init.Utterance   \n",
       "freq                                    1   \n",
       "\n",
       "                                                       de  \\\n",
       "count                                                  39   \n",
       "unique                                                 39   \n",
       "top     {'texts': [{'ttsText': '{SmartHomeSceneName} S...   \n",
       "freq                                                    1   \n",
       "\n",
       "                                                       fr  \\\n",
       "count                                                  39   \n",
       "unique                                                 39   \n",
       "top     {'texts': [{'ttsText': 'activer scène {SmartHo...   \n",
       "freq                                                    1   \n",
       "\n",
       "                                                       it  \\\n",
       "count                                                  39   \n",
       "unique                                                 39   \n",
       "top     {'texts': [{'ttsText': 'attiva scena {SmartHom...   \n",
       "freq                                                    1   \n",
       "\n",
       "                                                       en  \\\n",
       "count                                                  39   \n",
       "unique                                                 39   \n",
       "top     {'texts': [{'ttsText': 'activate {SmartHomeSce...   \n",
       "freq                                                    1   \n",
       "\n",
       "                     created  \n",
       "count                     39  \n",
       "unique                     7  \n",
       "top     2020-09-04T08:15:13Z  \n",
       "freq                      19  "
      ]
     },
     "execution_count": 7,
     "metadata": {},
     "output_type": "execute_result"
    }
   ],
   "source": [
    "templates_updated.describe()"
   ]
  },
  {
   "cell_type": "markdown",
   "metadata": {
    "pycharm": {
     "name": "#%% md\n"
    }
   },
   "source": [
    "## Entities\n",
    "65K entities of 33 different types are included.\n",
    "1/3 of them are from German environment."
   ]
  },
  {
   "cell_type": "code",
   "execution_count": 10,
   "metadata": {
    "pycharm": {
     "name": "#%%\n"
    },
    "scrolled": true
   },
   "outputs": [
    {
     "data": {
      "text/html": [
       "<div>\n",
       "<style scoped>\n",
       "    .dataframe tbody tr th:only-of-type {\n",
       "        vertical-align: middle;\n",
       "    }\n",
       "\n",
       "    .dataframe tbody tr th {\n",
       "        vertical-align: top;\n",
       "    }\n",
       "\n",
       "    .dataframe thead th {\n",
       "        text-align: right;\n",
       "    }\n",
       "</style>\n",
       "<table border=\"1\" class=\"dataframe\">\n",
       "  <thead>\n",
       "    <tr style=\"text-align: right;\">\n",
       "      <th></th>\n",
       "      <th>value</th>\n",
       "      <th>type</th>\n",
       "      <th>language</th>\n",
       "      <th>normalizedValue</th>\n",
       "      <th>aliases</th>\n",
       "    </tr>\n",
       "  </thead>\n",
       "  <tbody>\n",
       "    <tr>\n",
       "      <th>0</th>\n",
       "      <td>Widnau</td>\n",
       "      <td>LocalsearchLocation</td>\n",
       "      <td>de</td>\n",
       "      <td>widnau</td>\n",
       "      <td>[]</td>\n",
       "    </tr>\n",
       "    <tr>\n",
       "      <th>1</th>\n",
       "      <td>Zurigo</td>\n",
       "      <td>LocalsearchLocation</td>\n",
       "      <td>it</td>\n",
       "      <td>zurigo</td>\n",
       "      <td>[]</td>\n",
       "    </tr>\n",
       "    <tr>\n",
       "      <th>2</th>\n",
       "      <td>Solothurn</td>\n",
       "      <td>LocalsearchLocation</td>\n",
       "      <td>de</td>\n",
       "      <td>solothurn</td>\n",
       "      <td>[]</td>\n",
       "    </tr>\n",
       "    <tr>\n",
       "      <th>3</th>\n",
       "      <td>Muttenz</td>\n",
       "      <td>LocalsearchLocation</td>\n",
       "      <td>de</td>\n",
       "      <td>muttenz</td>\n",
       "      <td>[]</td>\n",
       "    </tr>\n",
       "    <tr>\n",
       "      <th>4</th>\n",
       "      <td>Lyss</td>\n",
       "      <td>LocalsearchLocation</td>\n",
       "      <td>de</td>\n",
       "      <td>lyss</td>\n",
       "      <td>[]</td>\n",
       "    </tr>\n",
       "  </tbody>\n",
       "</table>\n",
       "</div>"
      ],
      "text/plain": [
       "       value                 type language normalizedValue aliases\n",
       "0     Widnau  LocalsearchLocation       de          widnau      []\n",
       "1     Zurigo  LocalsearchLocation       it          zurigo      []\n",
       "2  Solothurn  LocalsearchLocation       de       solothurn      []\n",
       "3    Muttenz  LocalsearchLocation       de         muttenz      []\n",
       "4       Lyss  LocalsearchLocation       de            lyss      []"
      ]
     },
     "execution_count": 10,
     "metadata": {},
     "output_type": "execute_result"
    }
   ],
   "source": [
    "# entities\n",
    "entities = pd.read_json(\"data/entities.json\")\n",
    "entities = entities[['value', 'type', 'language', 'normalizedValue', 'aliases']]\n",
    "entities.head()"
   ]
  },
  {
   "cell_type": "code",
   "execution_count": 7,
   "metadata": {
    "pycharm": {
     "name": "#%%\n"
    }
   },
   "outputs": [
    {
     "data": {
      "text/html": [
       "<div>\n",
       "<style scoped>\n",
       "    .dataframe tbody tr th:only-of-type {\n",
       "        vertical-align: middle;\n",
       "    }\n",
       "\n",
       "    .dataframe tbody tr th {\n",
       "        vertical-align: top;\n",
       "    }\n",
       "\n",
       "    .dataframe thead th {\n",
       "        text-align: right;\n",
       "    }\n",
       "</style>\n",
       "<table border=\"1\" class=\"dataframe\">\n",
       "  <thead>\n",
       "    <tr style=\"text-align: right;\">\n",
       "      <th></th>\n",
       "      <th>value</th>\n",
       "      <th>type</th>\n",
       "      <th>language</th>\n",
       "      <th>normalizedValue</th>\n",
       "      <th>aliases</th>\n",
       "    </tr>\n",
       "  </thead>\n",
       "  <tbody>\n",
       "    <tr>\n",
       "      <th>count</th>\n",
       "      <td>65471</td>\n",
       "      <td>65471</td>\n",
       "      <td>65471</td>\n",
       "      <td>65471</td>\n",
       "      <td>65471</td>\n",
       "    </tr>\n",
       "    <tr>\n",
       "      <th>unique</th>\n",
       "      <td>51272</td>\n",
       "      <td>33</td>\n",
       "      <td>4</td>\n",
       "      <td>52082</td>\n",
       "      <td>3793</td>\n",
       "    </tr>\n",
       "    <tr>\n",
       "      <th>top</th>\n",
       "      <td>Golf</td>\n",
       "      <td>SeriesName</td>\n",
       "      <td>de</td>\n",
       "      <td>golf</td>\n",
       "      <td>[]</td>\n",
       "    </tr>\n",
       "    <tr>\n",
       "      <th>freq</th>\n",
       "      <td>20</td>\n",
       "      <td>17913</td>\n",
       "      <td>22746</td>\n",
       "      <td>20</td>\n",
       "      <td>59649</td>\n",
       "    </tr>\n",
       "  </tbody>\n",
       "</table>\n",
       "</div>"
      ],
      "text/plain": [
       "        value        type language normalizedValue aliases\n",
       "count   65471       65471    65471           65471   65471\n",
       "unique  51272          33        4           52082    3793\n",
       "top      Golf  SeriesName       de            golf      []\n",
       "freq       20       17913    22746              20   59649"
      ]
     },
     "execution_count": 7,
     "metadata": {},
     "output_type": "execute_result"
    }
   ],
   "source": [
    "entities.describe()"
   ]
  },
  {
   "cell_type": "code",
   "execution_count": 4,
   "metadata": {
    "pycharm": {
     "name": "#%%\n"
    },
    "scrolled": true
   },
   "outputs": [
    {
     "data": {
      "image/png": "[encoded data removed]",
      "text/plain": [
       "<Figure size 1080x360 with 1 Axes>"
      ]
     },
     "metadata": {
      "needs_background": "light"
     },
     "output_type": "display_data"
    }
   ],
   "source": [
    "df = entities[['type', 'language']]\n",
    "df = df.groupby(['type','language']).size().reset_index(name='count')\n",
    "df2 = df.pivot(index='type', columns='language', values='count')\n",
    "df2['sum'] = 0\n",
    "df2 = df2.fillna(0)\n",
    "for lang in ['de', 'en', 'fr', 'it',]:\n",
    "    df2['sum'] += df2[lang]\n",
    "# df.sort_values('count', ascending=False)\n",
    "p = df2.sort_values('sum', ascending=False)[['de', 'en', 'fr', 'it']].plot(kind='bar', figsize=(15, 5))"
   ]
  },
  {
   "cell_type": "markdown",
   "metadata": {
    "pycharm": {
     "name": "#%% md\n"
    }
   },
   "source": [
    "## Entities_meta"
   ]
  },
  {
   "cell_type": "code",
   "execution_count": 3,
   "metadata": {
    "pycharm": {
     "name": "#%%\n"
    }
   },
   "outputs": [
    {
     "data": {
      "text/html": [
       "<div>\n",
       "<style scoped>\n",
       "    .dataframe tbody tr th:only-of-type {\n",
       "        vertical-align: middle;\n",
       "    }\n",
       "\n",
       "    .dataframe tbody tr th {\n",
       "        vertical-align: top;\n",
       "    }\n",
       "\n",
       "    .dataframe thead th {\n",
       "        text-align: right;\n",
       "    }\n",
       "</style>\n",
       "<table border=\"1\" class=\"dataframe\">\n",
       "  <thead>\n",
       "    <tr style=\"text-align: right;\">\n",
       "      <th></th>\n",
       "      <th>value</th>\n",
       "      <th>type</th>\n",
       "      <th>language</th>\n",
       "      <th>normalizedValue</th>\n",
       "      <th>aliases</th>\n",
       "    </tr>\n",
       "  </thead>\n",
       "  <tbody>\n",
       "    <tr>\n",
       "      <th>0</th>\n",
       "      <td>Widnau</td>\n",
       "      <td>LocalsearchLocation</td>\n",
       "      <td>de</td>\n",
       "      <td>widnau</td>\n",
       "      <td>[]</td>\n",
       "    </tr>\n",
       "    <tr>\n",
       "      <th>1</th>\n",
       "      <td>Zurigo</td>\n",
       "      <td>LocalsearchLocation</td>\n",
       "      <td>it</td>\n",
       "      <td>zurigo</td>\n",
       "      <td>[]</td>\n",
       "    </tr>\n",
       "    <tr>\n",
       "      <th>2</th>\n",
       "      <td>Solothurn</td>\n",
       "      <td>LocalsearchLocation</td>\n",
       "      <td>de</td>\n",
       "      <td>solothurn</td>\n",
       "      <td>[]</td>\n",
       "    </tr>\n",
       "    <tr>\n",
       "      <th>3</th>\n",
       "      <td>Muttenz</td>\n",
       "      <td>LocalsearchLocation</td>\n",
       "      <td>de</td>\n",
       "      <td>muttenz</td>\n",
       "      <td>[]</td>\n",
       "    </tr>\n",
       "    <tr>\n",
       "      <th>4</th>\n",
       "      <td>Lyss</td>\n",
       "      <td>LocalsearchLocation</td>\n",
       "      <td>de</td>\n",
       "      <td>lyss</td>\n",
       "      <td>[]</td>\n",
       "    </tr>\n",
       "  </tbody>\n",
       "</table>\n",
       "</div>"
      ],
      "text/plain": [
       "       value                 type language normalizedValue aliases\n",
       "0     Widnau  LocalsearchLocation       de          widnau      []\n",
       "1     Zurigo  LocalsearchLocation       it          zurigo      []\n",
       "2  Solothurn  LocalsearchLocation       de       solothurn      []\n",
       "3    Muttenz  LocalsearchLocation       de         muttenz      []\n",
       "4       Lyss  LocalsearchLocation       de            lyss      []"
      ]
     },
     "execution_count": 3,
     "metadata": {},
     "output_type": "execute_result"
    }
   ],
   "source": [
    "# entities\n",
    "entities_meta = pd.read_json(\"data/entities_meta.json\").sort_index()\n",
    "entities_meta.head()\n"
   ]
  },
  {
   "cell_type": "code",
   "execution_count": 7,
   "metadata": {
    "pycharm": {
     "name": "#%%\n"
    }
   },
   "outputs": [
    {
     "data": {
      "image/png": "[encoded data removed]",
      "text/plain": [
       "<Figure size 1080x360 with 1 Axes>"
      ]
     },
     "metadata": {
      "needs_background": "light"
     },
     "output_type": "display_data"
    }
   ],
   "source": [
    "df = entities_meta[['type', 'language']]\n",
    "df = df.groupby(['type','language']).size().reset_index(name='count')\n",
    "df2 = df.pivot(index='type', columns='language', values='count')\n",
    "df2['sum'] = 0\n",
    "df2 = df2.fillna(0)\n",
    "for lang in ['de', 'en', 'fr', 'it',]:\n",
    "    df2['sum'] += df2[lang]\n",
    "# df.sort_values('count', ascending=False)\n",
    "p = df2.sort_values('sum', ascending=False)[['de', 'en', 'fr', 'it']].plot(kind='bar', figsize=(15, 5))\n"
   ]
  },
  {
   "cell_type": "markdown",
   "metadata": {
    "pycharm": {
     "name": "#%% md\n"
    }
   },
   "source": [
    "### Find the representative\n",
    "One entity usually has various name, thus, to improve speed, we need to find the representative ones that could retrieve all.\n",
    "Considering the speaking speed and noise of ASR, we decide to:\n",
    "1. Combine abbreviation as a upper case word (s r f, S R F -> SRF)\n",
    "2. Keep the uppercase one if two words spell same (Schweiz, schweiz -> Schweiz)"
   ]
  },
  {
   "cell_type": "code",
   "execution_count": null,
   "metadata": {
    "pycharm": {
     "name": "#%%\n"
    }
   },
   "outputs": [],
   "source": [
    "# TODO: deal with case \"a\"\n",
    "from generator.tools import filter_aliases\n",
    "sample_aliases1 = [\n",
    "    \"TF 3\",         # value\n",
    "    \"TF three\",     # normalized\n",
    "    \"T F 3\",        # alias\n",
    "    \"t f three\",    # alias\n",
    "    \"t f 3\"         # alias\n",
    "    ]\n",
    "filter_aliases(sample_aliases1,'en')"
   ]
  },
  {
   "cell_type": "markdown",
   "metadata": {},
   "source": [
    "## Read custom template\n",
    "For time related templates:\n",
    "* Localsearch.TemperatureInfo.Init.Utterance\n",
    "* Localsearch.RainInfo.Init.Utterance\n",
    "* Localsearch.WeatherInfo.Init.Utterance\n",
    "\n",
    "exist problem that they use \"TimeStamp\" to represent both clock time (3 o'clock) and day time (\"tomorrow\", \"Monday\", etc.)\n",
    "But their use cases are different. So we updated general \"TimeStamp\" -> \"TimeStampDay\" and \"TimeStampTime\" for DE and EN"
   ]
  },
  {
   "cell_type": "code",
   "execution_count": null,
   "metadata": {
    "pycharm": {
     "name": "#%%\n"
    }
   },
   "outputs": [],
   "source": [
    "# update template\n",
    "df = pd.read_json(\"data/timestamp_de_noted.json\")\n",
    "templates_updated.update(df)\n",
    "\n",
    "df = pd.read_json(\"data/timestamp_en_noted.json\")\n",
    "templates_updated.update(df)"
   ]
  },
  {
   "cell_type": "markdown",
   "metadata": {},
   "source": [
    "## Generation"
   ]
  },
  {
   "cell_type": "code",
   "execution_count": null,
   "metadata": {
    "pycharm": {
     "name": "#%%\n"
    }
   },
   "outputs": [],
   "source": [
    "from tqdm import tqdm\n",
    "from generator.module import Generator\n",
    "\n",
    "gen = Generator(templates=templates_updated, entities=entities_meta, method='one')\n",
    "gen.get_command(target_id='Localsearch.TemperatureInfo.Init.Utterance', target_lang='en', verbose=False)"
   ]
  },
  {
   "cell_type": "code",
   "execution_count": null,
   "metadata": {
    "pycharm": {
     "name": "#%%\n"
    }
   },
   "outputs": [],
   "source": [
    "from tqdm import tqdm\n",
    "from generator.module import Generator\n",
    "\n",
    "gen = Generator(templates=templates_updated, entities=entities_meta, method='one')\n",
    "sample_size = 10000\n",
    "f_source = open(\"data/commands_source_en_70k.txt\", \"a\")\n",
    "f_target = open(\"data/commands_target_en_70k.txt\", \"a\")\n",
    "\n",
    "for temp_id in ['Localsearch.TemperatureInfo.Init.Utterance' ,\n",
    "                'Localsearch.RainInfo.Init.Utterance',\n",
    "                'Localsearch.WeatherInfo.Init.Utterance',\n",
    "                'Tv.TvSearch.Init.Utterance',\n",
    "                'Tv.TvChannelChange.Init.Utterance',\n",
    "                'Tv.RadioChannelChange.Init.Utterance',\n",
    "                'SmartHome.SwitchOnDevice.Init.Utterance'\n",
    "                ]:\n",
    "    for _ in tqdm(range(sample_size)):\n",
    "        command_en, label_en = gen.get_command(target_id=temp_id, target_lang='en', verbose=False)[0]\n",
    "        f_source.write(\"{}\\n\".format(' '.join(command_en)))\n",
    "        f_target.write(\"{}\\n\".format(' '.join(label_en)))\n",
    "f_source.close()\n",
    "f_target.close()"
   ]
  },
  {
   "cell_type": "markdown",
   "metadata": {},
   "source": [
    "from generator.normalizer import Normalizer\n",
    "f_source = open(\"data/nums_source_en_10k.txt\", \"a\")\n",
    "f_target = open(\"data/nums_target_en_10k.txt\", \"a\")\n",
    "\n",
    "for num in range(10000):\n",
    "    num_str = str(num) \n",
    "    num_norm = Normalizer().normalize_text(num_str, 'en')\n",
    "    f_source.write(\"{}\\n\".format(num_str))\n",
    "    f_target.write(\"{}\\n\".format(num_norm))\n",
    "f_source.close()\n",
    "f_target.close()"
   ]
  },
  {
   "cell_type": "code",
   "execution_count": null,
   "metadata": {
    "pycharm": {
     "name": "#%%\n"
    }
   },
   "outputs": [],
   "source": [
    "# update template\n",
    "df = pd.read_json(\"data/timestamp_de_noted.json\")\n",
    "templates_updated.update(df)\n",
    "\n",
    "df = pd.read_json(\"data/timestamp_en_noted.json\")\n",
    "templates_updated.update(df)"
   ]
  },
  {
   "cell_type": "markdown",
   "metadata": {},
   "source": [
    "## Generation"
   ]
  },
  {
   "cell_type": "code",
   "execution_count": null,
   "metadata": {
    "pycharm": {
     "name": "#%%\n"
    }
   },
   "outputs": [],
   "source": [
    "from tqdm import tqdm\n",
    "from generator.module import Generator\n",
    "\n",
    "gen = Generator(templates=templates_updated, entities=entities_meta, method='one')\n",
    "gen.get_command(target_id='Localsearch.TemperatureInfo.Init.Utterance', target_lang='en', verbose=False)"
   ]
  },
  {
   "cell_type": "code",
   "execution_count": null,
   "metadata": {
    "pycharm": {
     "name": "#%%\n"
    }
   },
   "outputs": [],
   "source": [
    "from tqdm import tqdm\n",
    "from generator.module import Generator\n",
    "\n",
    "gen = Generator(templates=templates_updated, entities=entities_meta, method='one')\n",
    "sample_size = 10000\n",
    "f_source = open(\"data/commands_source_en_70k.txt\", \"a\")\n",
    "f_target = open(\"data/commands_target_en_70k.txt\", \"a\")\n",
    "\n",
    "for temp_id in ['Localsearch.TemperatureInfo.Init.Utterance' ,\n",
    "                'Localsearch.RainInfo.Init.Utterance',\n",
    "                'Localsearch.WeatherInfo.Init.Utterance',\n",
    "                'Tv.TvSearch.Init.Utterance',\n",
    "                'Tv.TvChannelChange.Init.Utterance',\n",
    "                'Tv.RadioChannelChange.Init.Utterance',\n",
    "                'SmartHome.SwitchOnDevice.Init.Utterance'\n",
    "                ]:\n",
    "    for _ in tqdm(range(sample_size)):\n",
    "        command_en, label_en = gen.get_command(target_id=temp_id, target_lang='en', verbose=False)[0]\n",
    "        f_source.write(\"{}\\n\".format(' '.join(command_en)))\n",
    "        f_target.write(\"{}\\n\".format(' '.join(label_en)))\n",
    "f_source.close()\n",
    "f_target.close()"
   ]
  },
  {
   "cell_type": "code",
   "execution_count": 5,
   "metadata": {
    "tags": []
   },
   "outputs": [
    {
     "data": {
      "text/plain": [
       "['TF 3']"
      ]
     },
     "execution_count": 5,
     "metadata": {},
     "output_type": "execute_result"
    }
   ],
   "source": [
    "from generator.normalizer import Normalizer\n",
    "f_source = open(\"data/nums_source_en_10k.txt\", \"a\")\n",
    "f_target = open(\"data/nums_target_en_10k.txt\", \"a\")\n",
    "\n",
    "for num in range(10000):\n",
    "    num_str = str(num) \n",
    "    num_norm = Normalizer().normalize_text(num_str, 'en')\n",
    "    f_source.write(\"{}\\n\".format(num_str))\n",
    "    f_target.write(\"{}\\n\".format(num_norm))\n",
    "f_source.close()\n",
    "f_target.close()"
   ]
  },
  {
   "cell_type": "markdown",
   "metadata": {},
   "source": [
    "## Read custom template\n",
    "For time related templates:\n",
    "* Localsearch.TemperatureInfo.Init.Utterance\n",
    "* Localsearch.RainInfo.Init.Utterance\n",
    "* Localsearch.WeatherInfo.Init.Utterance\n",
    "\n",
    "exist problem that they use \"TimeStamp\" to represent both clock time (3 o'clock) and day time (\"tomorrow\", \"Monday\", etc.)\n",
    "But their use cases are different. So we updated general \"TimeStamp\" -> \"TimeStampDay\" and \"TimeStampTime\" for DE and EN"
   ]
  },
  {
   "cell_type": "code",
   "execution_count": null,
   "metadata": {
    "pycharm": {
     "name": "#%%\n"
    }
   },
   "outputs": [],
   "source": [
    "# update template\n",
    "df = pd.read_json(\"data/timestamp_de_noted.json\")\n",
    "templates_updated.update(df)\n",
    "\n",
    "df = pd.read_json(\"data/timestamp_en_noted.json\")\n",
    "templates_updated.update(df)"
   ]
  },
  {
   "cell_type": "markdown",
   "metadata": {},
   "source": [
    "## Generation"
   ]
  },
  {
   "cell_type": "code",
   "execution_count": null,
   "metadata": {
    "pycharm": {
     "name": "#%%\n"
    }
   },
   "outputs": [],
   "source": [
    "from tqdm import tqdm\n",
    "from generator.module import Generator\n",
    "\n",
    "gen = Generator(templates=templates_updated, entities=entities_meta, method='one')\n",
    "gen.get_command(target_id='Localsearch.TemperatureInfo.Init.Utterance', target_lang='en', verbose=False)"
   ]
  },
  {
   "cell_type": "code",
   "execution_count": null,
   "metadata": {
    "pycharm": {
     "name": "#%%\n"
    }
   },
   "outputs": [],
   "source": [
    "from tqdm import tqdm\n",
    "from generator.module import Generator\n",
    "\n",
    "gen = Generator(templates=templates_updated, entities=entities_meta, method='one')\n",
    "sample_size = 10000\n",
    "f_source = open(\"data/commands_source_en_70k.txt\", \"a\")\n",
    "f_target = open(\"data/commands_target_en_70k.txt\", \"a\")\n",
    "\n",
    "for temp_id in ['Localsearch.TemperatureInfo.Init.Utterance' ,\n",
    "                'Localsearch.RainInfo.Init.Utterance',\n",
    "                'Localsearch.WeatherInfo.Init.Utterance',\n",
    "                'Tv.TvSearch.Init.Utterance',\n",
    "                'Tv.TvChannelChange.Init.Utterance',\n",
    "                'Tv.RadioChannelChange.Init.Utterance',\n",
    "                'SmartHome.SwitchOnDevice.Init.Utterance'\n",
    "                ]:\n",
    "    for _ in tqdm(range(sample_size)):\n",
    "        command_en, label_en = gen.get_command(target_id=temp_id, target_lang='en', verbose=False)[0]\n",
    "        f_source.write(\"{}\\n\".format(' '.join(command_en)))\n",
    "        f_target.write(\"{}\\n\".format(' '.join(label_en)))\n",
    "f_source.close()\n",
    "f_target.close()"
   ]
  },
  {
   "cell_type": "markdown",
   "metadata": {
    "pycharm": {
     "name": "#%% md\n"
    }
   },
   "source": [
    "from generator.normalizer import Normalizer\n",
    "f_source = open(\"data/nums_source_en_10k.txt\", \"a\")\n",
    "f_target = open(\"data/nums_target_en_10k.txt\", \"a\")\n",
    "\n",
    "for num in range(10000):\n",
    "    num_str = str(num) \n",
    "    num_norm = Normalizer().normalize_text(num_str, 'en')\n",
    "    f_source.write(\"{}\\n\".format(num_str))\n",
    "    f_target.write(\"{}\\n\".format(num_norm))\n",
    "f_source.close()\n",
    "f_target.close()"
   ]
  },
  {
   "cell_type": "code",
   "execution_count": 4,
   "metadata": {
    "pycharm": {
     "name": "#%%\n"
    }
   },
   "outputs": [],
   "source": [
    "# update template\n",
    "df = pd.read_json(\"data/timestamp_de_noted.json\")\n",
    "templates_updated.update(df)\n",
    "\n",
    "df = pd.read_json(\"data/timestamp_en_noted.json\")\n",
    "templates_updated.update(df)"
   ]
  },
  {
   "cell_type": "markdown",
   "metadata": {
    "pycharm": {
     "name": "#%% md\n"
    }
   },
   "source": [
    "## Generation"
   ]
  },
  {
   "cell_type": "code",
   "execution_count": 6,
   "metadata": {},
   "outputs": [
    {
     "data": {
      "text/plain": [
       "[(['can',\n",
       "   'you',\n",
       "   'tell',\n",
       "   'me',\n",
       "   'how',\n",
       "   'warm',\n",
       "   'it',\n",
       "   'will',\n",
       "   'get',\n",
       "   'on',\n",
       "   '5.4'],\n",
       "  ['can',\n",
       "   'you',\n",
       "   'tell',\n",
       "   'me',\n",
       "   'how',\n",
       "   'warm',\n",
       "   'it',\n",
       "   'will',\n",
       "   'get',\n",
       "   'on',\n",
       "   'fifth',\n",
       "   'april'])]"
      ]
     },
     "execution_count": 6,
     "metadata": {},
     "output_type": "execute_result"
    }
   ],
   "source": [
    "from tqdm import tqdm\n",
    "from generator.module import Generator\n",
    "\n",
    "gen = Generator(templates=templates_updated, entities=entities_meta, method='one')\n",
    "gen.get_command(target_id='Localsearch.TemperatureInfo.Init.Utterance', target_lang='en', verbose=False)"
   ]
  },
  {
   "cell_type": "code",
   "execution_count": 7,
   "metadata": {
    "pycharm": {
     "name": "#%%\n"
    }
   },
   "outputs": [
    {
     "name": "stderr",
     "output_type": "stream",
     "text": [
      "100%|██████████| 10000/10000 [14:03<00:00, 11.85it/s]\n",
      "100%|██████████| 10000/10000 [11:49<00:00, 14.09it/s]\n",
      "100%|██████████| 10000/10000 [12:42<00:00, 13.11it/s]\n",
      "100%|██████████| 10000/10000 [5:15:35<00:00,  1.89s/it]  \n",
      "100%|██████████| 10000/10000 [25:04<00:00,  6.64it/s]\n",
      "100%|██████████| 10000/10000 [19:15<00:00,  8.66it/s]\n",
      "100%|██████████| 10000/10000 [07:49<00:00, 21.32it/s]\n"
     ]
    }
   ],
   "source": [
    "from tqdm import tqdm\n",
    "from generator.module import Generator\n",
    "\n",
    "gen = Generator(templates=templates_updated, entities=entities_meta, method='one')\n",
    "sample_size = 10000\n",
    "f_source = open(\"data/commands_source_en_70k.txt\", \"a\")\n",
    "f_target = open(\"data/commands_target_en_70k.txt\", \"a\")\n",
    "\n",
    "for temp_id in ['Localsearch.TemperatureInfo.Init.Utterance' ,\n",
    "                'Localsearch.RainInfo.Init.Utterance',\n",
    "                'Localsearch.WeatherInfo.Init.Utterance',\n",
    "                'Tv.TvSearch.Init.Utterance',\n",
    "                'Tv.TvChannelChange.Init.Utterance',\n",
    "                'Tv.RadioChannelChange.Init.Utterance',\n",
    "                'SmartHome.SwitchOnDevice.Init.Utterance'\n",
    "                ]:\n",
    "    for _ in tqdm(range(sample_size)):\n",
    "        command_en, label_en = gen.get_command(target_id=temp_id, target_lang='en', verbose=False)[0]\n",
    "        f_source.write(\"{}\\n\".format(' '.join(command_en)))\n",
    "        f_target.write(\"{}\\n\".format(' '.join(label_en)))\n",
    "f_source.close()\n",
    "f_target.close()"
   ]
  },
  {
   "cell_type": "code",
   "execution_count": 4,
   "metadata": {
    "pycharm": {
     "name": "#%%\n"
    }
   },
   "outputs": [],
   "source": [
    "from generator.normalizer import Normalizer\n",
    "f_source = open(\"data/nums_source_en_10k.txt\", \"a\")\n",
    "f_target = open(\"data/nums_target_en_10k.txt\", \"a\")\n",
    "\n",
    "for num in range(10000):\n",
    "    num_str = str(num) \n",
    "    num_norm = Normalizer().normalize_text(num_str, 'en')\n",
    "    f_source.write(\"{}\\n\".format(num_str))\n",
    "    f_target.write(\"{}\\n\".format(num_norm))\n",
    "f_source.close()\n",
    "f_target.close()"
   ]
  },
  {
   "cell_type": "code",
   "execution_count": null,
   "metadata": {},
   "outputs": [],
   "source": []
  }
 ],
 "metadata": {
  "kernelspec": {
   "display_name": "Python 3.7.7 64-bit ('jobposting': conda)",
   "language": "python",
   "name": "python37764bitjobpostingconda22929374449545e284a5643e9731aeaa"
  },
  "language_info": {
   "codemirror_mode": {
    "name": "ipython",
    "version": 3
   },
   "file_extension": ".py",
   "mimetype": "text/x-python",
   "name": "python",
   "nbconvert_exporter": "python",
   "pygments_lexer": "ipython3",
   "version": "3.7.7"
  }
 },
 "nbformat": 4,
 "nbformat_minor": 4
}
