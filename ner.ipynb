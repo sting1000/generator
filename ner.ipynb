{
 "cells": [
  {
   "cell_type": "code",
   "execution_count": 16,
   "metadata": {
    "collapsed": true
   },
   "outputs": [
    {
     "data": {
      "text/plain": "         sentence_id            intent language         written  \\\n0                  0               Pad      NaN             NaN   \n1                  0          OpenArea       en            show   \n2                  0          OpenArea       en  newest uploads   \n3                  0          OpenArea       en  newest uploads   \n4                  0          OpenArea       en              on   \n...              ...               ...      ...             ...   \n1843349       173970               Pad      NaN             NaN   \n1843350       173970  WatchNextEpisode       en             one   \n1843351       173970  WatchNextEpisode       en            more   \n1843352       173970  WatchNextEpisode       en         episode   \n1843353       173970               Pad      NaN             NaN   \n\n                 spoken         type    token  token_id tag  \n0                   NaN        plain    <sos>         0   O  \n1                  show        plain     show         1   O  \n2        newest uploads  mycloudarea   newest         2   O  \n3        newest uploads  mycloudarea  uploads         2   O  \n4                    on        plain       on         3   O  \n...                 ...          ...      ...       ...  ..  \n1843349             NaN        plain    <sos>         0   O  \n1843350             one        plain      one         1   O  \n1843351            more        plain     more         2   O  \n1843352         episode        plain  episode         3   O  \n1843353             NaN        plain    <sos>         0   O  \n\n[1843354 rows x 9 columns]",
      "text/html": "<div>\n<style scoped>\n    .dataframe tbody tr th:only-of-type {\n        vertical-align: middle;\n    }\n\n    .dataframe tbody tr th {\n        vertical-align: top;\n    }\n\n    .dataframe thead th {\n        text-align: right;\n    }\n</style>\n<table border=\"1\" class=\"dataframe\">\n  <thead>\n    <tr style=\"text-align: right;\">\n      <th></th>\n      <th>sentence_id</th>\n      <th>intent</th>\n      <th>language</th>\n      <th>written</th>\n      <th>spoken</th>\n      <th>type</th>\n      <th>token</th>\n      <th>token_id</th>\n      <th>tag</th>\n    </tr>\n  </thead>\n  <tbody>\n    <tr>\n      <th>0</th>\n      <td>0</td>\n      <td>Pad</td>\n      <td>NaN</td>\n      <td>NaN</td>\n      <td>NaN</td>\n      <td>plain</td>\n      <td>&lt;sos&gt;</td>\n      <td>0</td>\n      <td>O</td>\n    </tr>\n    <tr>\n      <th>1</th>\n      <td>0</td>\n      <td>OpenArea</td>\n      <td>en</td>\n      <td>show</td>\n      <td>show</td>\n      <td>plain</td>\n      <td>show</td>\n      <td>1</td>\n      <td>O</td>\n    </tr>\n    <tr>\n      <th>2</th>\n      <td>0</td>\n      <td>OpenArea</td>\n      <td>en</td>\n      <td>newest uploads</td>\n      <td>newest uploads</td>\n      <td>mycloudarea</td>\n      <td>newest</td>\n      <td>2</td>\n      <td>O</td>\n    </tr>\n    <tr>\n      <th>3</th>\n      <td>0</td>\n      <td>OpenArea</td>\n      <td>en</td>\n      <td>newest uploads</td>\n      <td>newest uploads</td>\n      <td>mycloudarea</td>\n      <td>uploads</td>\n      <td>2</td>\n      <td>O</td>\n    </tr>\n    <tr>\n      <th>4</th>\n      <td>0</td>\n      <td>OpenArea</td>\n      <td>en</td>\n      <td>on</td>\n      <td>on</td>\n      <td>plain</td>\n      <td>on</td>\n      <td>3</td>\n      <td>O</td>\n    </tr>\n    <tr>\n      <th>...</th>\n      <td>...</td>\n      <td>...</td>\n      <td>...</td>\n      <td>...</td>\n      <td>...</td>\n      <td>...</td>\n      <td>...</td>\n      <td>...</td>\n      <td>...</td>\n    </tr>\n    <tr>\n      <th>1843349</th>\n      <td>173970</td>\n      <td>Pad</td>\n      <td>NaN</td>\n      <td>NaN</td>\n      <td>NaN</td>\n      <td>plain</td>\n      <td>&lt;sos&gt;</td>\n      <td>0</td>\n      <td>O</td>\n    </tr>\n    <tr>\n      <th>1843350</th>\n      <td>173970</td>\n      <td>WatchNextEpisode</td>\n      <td>en</td>\n      <td>one</td>\n      <td>one</td>\n      <td>plain</td>\n      <td>one</td>\n      <td>1</td>\n      <td>O</td>\n    </tr>\n    <tr>\n      <th>1843351</th>\n      <td>173970</td>\n      <td>WatchNextEpisode</td>\n      <td>en</td>\n      <td>more</td>\n      <td>more</td>\n      <td>plain</td>\n      <td>more</td>\n      <td>2</td>\n      <td>O</td>\n    </tr>\n    <tr>\n      <th>1843352</th>\n      <td>173970</td>\n      <td>WatchNextEpisode</td>\n      <td>en</td>\n      <td>episode</td>\n      <td>episode</td>\n      <td>plain</td>\n      <td>episode</td>\n      <td>3</td>\n      <td>O</td>\n    </tr>\n    <tr>\n      <th>1843353</th>\n      <td>173970</td>\n      <td>Pad</td>\n      <td>NaN</td>\n      <td>NaN</td>\n      <td>NaN</td>\n      <td>plain</td>\n      <td>&lt;sos&gt;</td>\n      <td>0</td>\n      <td>O</td>\n    </tr>\n  </tbody>\n</table>\n<p>1843354 rows × 9 columns</p>\n</div>"
     },
     "execution_count": 16,
     "metadata": {},
     "output_type": "execute_result"
    }
   ],
   "source": [
    "import pandas as pd\n",
    "import numpy as np\n",
    "import os\n",
    "import pickle\n",
    "from tqdm import tqdm\n",
    "import gc\n",
    "import xgboost as xgb\n",
    "import numpy as np\n",
    "import re\n",
    "import pandas as pd\n",
    "from sklearn.model_selection import train_test_split\n",
    "\n",
    "out_path = r'.'\n",
    "df = pd.read_csv(r'data/bio/all_2.csv', header=None)\n",
    "df.columns = ['sentence_id', 'intent', 'language', 'written', 'spoken','type', 'token', 'token_id', 'tag']\n",
    "df.sentence_id = df.sentence_id.astype(int)\n",
    "df.token_id.fillna(0, inplace=True)\n",
    "df.token.fillna('<sos>', inplace=True)\n",
    "df.token_id = df.token_id.astype(int)\n",
    "df"
   ]
  },
  {
   "cell_type": "code",
   "execution_count": 171,
   "outputs": [
    {
     "data": {
      "text/plain": "              0                 1   2              3              4  \\\n0             0          OpenArea  en           show           show   \n1             0          OpenArea  en  last uploaded  last uploaded   \n2             0          OpenArea  en             on             on   \n3             0          OpenArea  en        mycloud        mycloud   \n4             1          OpenArea  en           show           show   \n...         ...               ...  ..            ...            ...   \n1087426  173969  WatchNextEpisode  en        another        another   \n1087427  173969  WatchNextEpisode  en        episode        episode   \n1087428  173970  WatchNextEpisode  en            one            one   \n1087429  173970  WatchNextEpisode  en           more           more   \n1087430  173970  WatchNextEpisode  en        episode        episode   \n\n                   5  \n0              plain  \n1        mycloudarea  \n2              plain  \n3              plain  \n4              plain  \n...              ...  \n1087426        plain  \n1087427        plain  \n1087428        plain  \n1087429        plain  \n1087430        plain  \n\n[1087431 rows x 6 columns]",
      "text/html": "<div>\n<style scoped>\n    .dataframe tbody tr th:only-of-type {\n        vertical-align: middle;\n    }\n\n    .dataframe tbody tr th {\n        vertical-align: top;\n    }\n\n    .dataframe thead th {\n        text-align: right;\n    }\n</style>\n<table border=\"1\" class=\"dataframe\">\n  <thead>\n    <tr style=\"text-align: right;\">\n      <th></th>\n      <th>0</th>\n      <th>1</th>\n      <th>2</th>\n      <th>3</th>\n      <th>4</th>\n      <th>5</th>\n    </tr>\n  </thead>\n  <tbody>\n    <tr>\n      <th>0</th>\n      <td>0</td>\n      <td>OpenArea</td>\n      <td>en</td>\n      <td>show</td>\n      <td>show</td>\n      <td>plain</td>\n    </tr>\n    <tr>\n      <th>1</th>\n      <td>0</td>\n      <td>OpenArea</td>\n      <td>en</td>\n      <td>last uploaded</td>\n      <td>last uploaded</td>\n      <td>mycloudarea</td>\n    </tr>\n    <tr>\n      <th>2</th>\n      <td>0</td>\n      <td>OpenArea</td>\n      <td>en</td>\n      <td>on</td>\n      <td>on</td>\n      <td>plain</td>\n    </tr>\n    <tr>\n      <th>3</th>\n      <td>0</td>\n      <td>OpenArea</td>\n      <td>en</td>\n      <td>mycloud</td>\n      <td>mycloud</td>\n      <td>plain</td>\n    </tr>\n    <tr>\n      <th>4</th>\n      <td>1</td>\n      <td>OpenArea</td>\n      <td>en</td>\n      <td>show</td>\n      <td>show</td>\n      <td>plain</td>\n    </tr>\n    <tr>\n      <th>...</th>\n      <td>...</td>\n      <td>...</td>\n      <td>...</td>\n      <td>...</td>\n      <td>...</td>\n      <td>...</td>\n    </tr>\n    <tr>\n      <th>1087426</th>\n      <td>173969</td>\n      <td>WatchNextEpisode</td>\n      <td>en</td>\n      <td>another</td>\n      <td>another</td>\n      <td>plain</td>\n    </tr>\n    <tr>\n      <th>1087427</th>\n      <td>173969</td>\n      <td>WatchNextEpisode</td>\n      <td>en</td>\n      <td>episode</td>\n      <td>episode</td>\n      <td>plain</td>\n    </tr>\n    <tr>\n      <th>1087428</th>\n      <td>173970</td>\n      <td>WatchNextEpisode</td>\n      <td>en</td>\n      <td>one</td>\n      <td>one</td>\n      <td>plain</td>\n    </tr>\n    <tr>\n      <th>1087429</th>\n      <td>173970</td>\n      <td>WatchNextEpisode</td>\n      <td>en</td>\n      <td>more</td>\n      <td>more</td>\n      <td>plain</td>\n    </tr>\n    <tr>\n      <th>1087430</th>\n      <td>173970</td>\n      <td>WatchNextEpisode</td>\n      <td>en</td>\n      <td>episode</td>\n      <td>episode</td>\n      <td>plain</td>\n    </tr>\n  </tbody>\n</table>\n<p>1087431 rows × 6 columns</p>\n</div>"
     },
     "execution_count": 171,
     "metadata": {},
     "output_type": "execute_result"
    }
   ],
   "source": [
    "pd.read_csv(r'data/bio/try.csv', header=None)"
   ],
   "metadata": {
    "collapsed": false,
    "pycharm": {
     "name": "#%%\n"
    }
   }
  },
  {
   "cell_type": "code",
   "execution_count": 18,
   "outputs": [],
   "source": [
    "import random\n",
    "test_ratio = 0.1\n",
    "random.seed(10)\n",
    "max_id = max(df.sentence_id)\n",
    "sentence_id = list(range(max_id))\n",
    "random.shuffle(sentence_id)\n",
    "t = int(test_ratio * max_id)\n",
    "test_id = sentence_id[:t]\n",
    "train_id = sentence_id[t:]\n",
    "\n",
    "train = df[df['sentence_id'].isin(train_id)]\n",
    "test = df[df['sentence_id'].isin(test_id)]\n"
   ],
   "metadata": {
    "collapsed": false,
    "pycharm": {
     "name": "#%%\n"
    }
   }
  },
  {
   "cell_type": "code",
   "execution_count": 3,
   "outputs": [],
   "source": [
    "def context_window_transform(data, pad_size, boundary_letter, max_num_features):\n",
    "    pre = np.zeros(max_num_features)\n",
    "    pre = [pre for x in np.arange(pad_size)]\n",
    "    data = pre + data + pre\n",
    "    neo_data = []\n",
    "    for i in tqdm(np.arange(len(data) - pad_size * 2)):\n",
    "        row = []\n",
    "        for x in data[i : i + pad_size * 2 + 1]:\n",
    "            row.append([boundary_letter])\n",
    "            row.append(x)\n",
    "        row.append([boundary_letter])\n",
    "        neo_data.append([int(x) for y in row for x in y])\n",
    "    return neo_data\n",
    "\n",
    "def load_data(df, max_num_features=10, pad_size=1, boundary_letter=-1, space_letter=0, max_data_size=-1):\n",
    "    x_data = []\n",
    "    y_data =  pd.factorize(df['tag'])\n",
    "    labels = y_data[1]\n",
    "    y_data = y_data[0]\n",
    "    gc.collect()\n",
    "    for x in tqdm(df['token'].values):\n",
    "        x_row = np.ones(max_num_features, dtype=int) * space_letter\n",
    "        for xi, i in zip(list(str(x)), np.arange(max_num_features)):\n",
    "            x_row[i] = ord(xi)\n",
    "        x_data.append(x_row)\n",
    "\n",
    "    x_data = x_data[:max_data_size]\n",
    "    y_data = y_data[:max_data_size]\n",
    "    x_data = np.array(context_window_transform(x_data, pad_size, boundary_letter, max_num_features))\n",
    "    gc.collect()\n",
    "    x_data = np.array(x_data)\n",
    "    y_data = np.array(y_data)\n",
    "\n",
    "    print('Total number of samples:', len(x_data))\n",
    "    print('Use: ', max_data_size)\n",
    "    print('x_data sample:')\n",
    "    print(x_data[0])\n",
    "    print('y_data sample:')\n",
    "    print(y_data[0])\n",
    "    print('labels:')\n",
    "    print(labels)\n",
    "\n",
    "    return x_data, y_data, labels"
   ],
   "metadata": {
    "collapsed": false,
    "pycharm": {
     "name": "#%%\n"
    }
   }
  },
  {
   "cell_type": "code",
   "execution_count": 4,
   "outputs": [
    {
     "name": "stderr",
     "output_type": "stream",
     "text": [
      "100%|██████████| 1658461/1658461 [00:14<00:00, 110754.12it/s]\n",
      "100%|██████████| 1658460/1658460 [00:22<00:00, 74343.19it/s]\n",
      "100%|██████████| 184956/184956 [00:01<00:00, 108382.86it/s]\n",
      "100%|██████████| 184955/184955 [00:02<00:00, 82551.47it/s]\n"
     ]
    },
    {
     "name": "stdout",
     "output_type": "stream",
     "text": [
      "Train set:\n",
      "Total number of samples: 1658460\n",
      "Use:  -1\n",
      "x_data sample:\n",
      "[ -1   0   0   0   0   0   0   0   0   0   0  -1  60 115 111 115  62   0\n",
      "   0   0   0   0  -1 115 104 111 119   0   0   0   0   0   0  -1]\n",
      "y_data sample:\n",
      "0\n",
      "labels:\n",
      "Index(['O', 'B-TBNorm', 'I-TBNorm'], dtype='object')\n",
      "\n",
      "Valid set:\n",
      "Total number of samples: 184955\n",
      "Use:  -1\n",
      "x_data sample:\n",
      "[ -1   0   0   0   0   0   0   0   0   0   0  -1  60 115 111 115  62   0\n",
      "   0   0   0   0  -1 115 104 111 119   0   0   0   0   0   0  -1]\n",
      "y_data sample:\n",
      "0\n",
      "labels:\n",
      "Index(['O', 'B-TBNorm', 'I-TBNorm'], dtype='object')\n",
      "\n"
     ]
    }
   ],
   "source": [
    "max_num_features = 10\n",
    "pad_size = 1\n",
    "boundary_letter = -1\n",
    "space_letter = 0\n",
    "max_data_size = -1\n",
    "\n",
    "print(\"Train set:\")\n",
    "x_train, y_train, labels_train = load_data(train,\n",
    "                                           max_num_features=max_num_features,\n",
    "                                           pad_size=pad_size,\n",
    "                                           boundary_letter=boundary_letter,\n",
    "                                           space_letter=space_letter,\n",
    "                                           max_data_size=max_data_size)\n",
    "gc.collect()\n",
    "print()\n",
    "\n",
    "print(\"Valid set:\")\n",
    "x_valid, y_valid, labels_valid = load_data(test,\n",
    "                                           max_num_features=max_num_features,\n",
    "                                           pad_size=pad_size,\n",
    "                                           boundary_letter=boundary_letter,\n",
    "                                           space_letter=space_letter,\n",
    "                                           max_data_size=max_data_size)\n",
    "gc.collect()\n",
    "print()\n"
   ],
   "metadata": {
    "collapsed": false,
    "pycharm": {
     "name": "#%%\n"
    }
   }
  },
  {
   "cell_type": "code",
   "execution_count": 5,
   "outputs": [
    {
     "name": "stdout",
     "output_type": "stream",
     "text": [
      "[0]\tvalid-merror:0.03056\ttrain-merror:0.03032\n",
      "Multiple eval metrics have been passed: 'train-merror' will be used for early stopping.\n",
      "\n",
      "Will train until train-merror hasn't improved in 20 rounds.\n",
      "[10]\tvalid-merror:0.01207\ttrain-merror:0.01184\n",
      "[20]\tvalid-merror:0.00650\ttrain-merror:0.00646\n",
      "[30]\tvalid-merror:0.00434\ttrain-merror:0.00411\n",
      "[40]\tvalid-merror:0.00375\ttrain-merror:0.00339\n",
      "[50]\tvalid-merror:0.00338\ttrain-merror:0.00289\n",
      "[60]\tvalid-merror:0.00322\ttrain-merror:0.00262\n",
      "[70]\tvalid-merror:0.00305\ttrain-merror:0.00241\n",
      "[80]\tvalid-merror:0.00294\ttrain-merror:0.00224\n",
      "[90]\tvalid-merror:0.00289\ttrain-merror:0.00215\n",
      "[100]\tvalid-merror:0.00283\ttrain-merror:0.00208\n",
      "[110]\tvalid-merror:0.00282\ttrain-merror:0.00203\n",
      "[120]\tvalid-merror:0.00280\ttrain-merror:0.00200\n",
      "[130]\tvalid-merror:0.00280\ttrain-merror:0.00199\n",
      "[140]\tvalid-merror:0.00278\ttrain-merror:0.00196\n",
      "[150]\tvalid-merror:0.00276\ttrain-merror:0.00195\n",
      "[160]\tvalid-merror:0.00276\ttrain-merror:0.00195\n",
      "[170]\tvalid-merror:0.00275\ttrain-merror:0.00195\n",
      "[180]\tvalid-merror:0.00275\ttrain-merror:0.00194\n",
      "[190]\tvalid-merror:0.00274\ttrain-merror:0.00193\n",
      "[200]\tvalid-merror:0.00272\ttrain-merror:0.00193\n",
      "[210]\tvalid-merror:0.00269\ttrain-merror:0.00193\n",
      "[220]\tvalid-merror:0.00270\ttrain-merror:0.00193\n",
      "[230]\tvalid-merror:0.00271\ttrain-merror:0.00193\n",
      "Stopping. Best iteration:\n",
      "[211]\tvalid-merror:0.00269\ttrain-merror:0.00193\n",
      "\n"
     ]
    }
   ],
   "source": [
    "labels = labels_train\n",
    "num_class = len(labels)\n",
    "dtrain = xgb.DMatrix(x_train, label=y_train)\n",
    "dvalid = xgb.DMatrix(x_valid, label=y_valid)\n",
    "watchlist = [(dvalid, 'valid'), (dtrain, 'train')]\n",
    "\n",
    "param = {'objective':'multi:softmax',\n",
    "         'eta':'0.3', 'max_depth':10,\n",
    "         'silent':1, 'nthread':-1,\n",
    "         'num_class':num_class,\n",
    "         'eval_metric':'auc'}\n",
    "model = xgb.train(param, dtrain, 500, watchlist, early_stopping_rounds=20, verbose_eval=10)\n",
    "# model = xgb.Booster({'nthread': -1})  # init model\n",
    "# model.load_model(os.path.join(out_path, 'xgb_model'))\n",
    "gc.collect()\n",
    "\n",
    "pred = model.predict(dvalid)\n",
    "pred = [labels[int(x)] for x in pred]\n",
    "y_valid = [labels[x] for x in y_valid]\n",
    "x_valid = [ [ chr(x) for x in y[2 + max_num_features: 2 + max_num_features * 2]] for y in x_valid]\n",
    "x_valid = [''.join(x) for x in x_valid]\n",
    "x_valid = [re.sub('a+$', '', x) for x in x_valid]\n",
    "\n",
    "gc.collect()\n",
    "\n",
    "df_pred = pd.DataFrame(columns=['data', 'predict', 'target'])\n",
    "df_pred['data'] = x_valid\n",
    "df_pred['predict'] = pred\n",
    "df_pred['target'] = y_valid\n",
    "df_pred.to_csv(os.path.join(out_path, 'pred.csv'))\n",
    "\n",
    "df_erros = df_pred.loc[df_pred['predict'] != df_pred['target']]\n",
    "df_erros.to_csv(os.path.join(out_path, 'errors.csv'), index=False)\n",
    "model.save_model(os.path.join(out_path, 'xgb_model'))"
   ],
   "metadata": {
    "collapsed": false,
    "pycharm": {
     "name": "#%%\n"
    }
   }
  },
  {
   "cell_type": "code",
   "execution_count": 24,
   "outputs": [
    {
     "data": {
      "text/plain": "        sentence_id    token tag\n0                32    <sos>   O\n1                32     show   O\n2                32    clips   O\n3                32       on   O\n4                32  mycloud   O\n...             ...      ...  ..\n184880       173935    <sos>   O\n184881       173935      can   O\n184882       173935      you   O\n184883       173935       go   O\n184884       173935       up   O\n\n[184885 rows x 3 columns]",
      "text/html": "<div>\n<style scoped>\n    .dataframe tbody tr th:only-of-type {\n        vertical-align: middle;\n    }\n\n    .dataframe tbody tr th {\n        vertical-align: top;\n    }\n\n    .dataframe thead th {\n        text-align: right;\n    }\n</style>\n<table border=\"1\" class=\"dataframe\">\n  <thead>\n    <tr style=\"text-align: right;\">\n      <th></th>\n      <th>sentence_id</th>\n      <th>token</th>\n      <th>tag</th>\n    </tr>\n  </thead>\n  <tbody>\n    <tr>\n      <th>0</th>\n      <td>32</td>\n      <td>&lt;sos&gt;</td>\n      <td>O</td>\n    </tr>\n    <tr>\n      <th>1</th>\n      <td>32</td>\n      <td>show</td>\n      <td>O</td>\n    </tr>\n    <tr>\n      <th>2</th>\n      <td>32</td>\n      <td>clips</td>\n      <td>O</td>\n    </tr>\n    <tr>\n      <th>3</th>\n      <td>32</td>\n      <td>on</td>\n      <td>O</td>\n    </tr>\n    <tr>\n      <th>4</th>\n      <td>32</td>\n      <td>mycloud</td>\n      <td>O</td>\n    </tr>\n    <tr>\n      <th>...</th>\n      <td>...</td>\n      <td>...</td>\n      <td>...</td>\n    </tr>\n    <tr>\n      <th>184880</th>\n      <td>173935</td>\n      <td>&lt;sos&gt;</td>\n      <td>O</td>\n    </tr>\n    <tr>\n      <th>184881</th>\n      <td>173935</td>\n      <td>can</td>\n      <td>O</td>\n    </tr>\n    <tr>\n      <th>184882</th>\n      <td>173935</td>\n      <td>you</td>\n      <td>O</td>\n    </tr>\n    <tr>\n      <th>184883</th>\n      <td>173935</td>\n      <td>go</td>\n      <td>O</td>\n    </tr>\n    <tr>\n      <th>184884</th>\n      <td>173935</td>\n      <td>up</td>\n      <td>O</td>\n    </tr>\n  </tbody>\n</table>\n<p>184885 rows × 3 columns</p>\n</div>"
     },
     "execution_count": 24,
     "metadata": {},
     "output_type": "execute_result"
    }
   ],
   "source": [
    "k = test.copy()\n",
    "k = k.reset_index(drop=True).iloc[:-1]\n",
    "# k['tag'] = df_pred.predict\n",
    "# k = k[k.intent != 'Pad']\n",
    "k = k[['sentence_id', 'token', 'tag']]\n",
    "k"
   ],
   "metadata": {
    "collapsed": false,
    "pycharm": {
     "name": "#%%\n"
    }
   }
  },
  {
   "cell_type": "code",
   "execution_count": 25,
   "outputs": [
    {
     "name": "stderr",
     "output_type": "stream",
     "text": [
      "184885it [00:16, 10906.15it/s]\n"
     ]
    }
   ],
   "source": [
    "tag_before = 'O'\n",
    "token_buffer = []\n",
    "id_before = -1\n",
    "k.sentence_id = k.sentence_id.astype(str)\n",
    "with open('pred_id.csv', 'w') as outfile:\n",
    "    for i, row in tqdm(k.iterrows()):\n",
    "        item = {}\n",
    "        if row['tag'] == 'O':\n",
    "            if token_buffer:\n",
    "                # output buffer\n",
    "                item['sentence_id'] = id_before\n",
    "                item['token'] = ' '.join(token_buffer)\n",
    "                item['tag'] = 'B'\n",
    "                token_buffer = []\n",
    "                outfile.write(','.join(item.values()) + '\\n')\n",
    "\n",
    "            # output self\n",
    "            item['sentence_id'] = row['sentence_id']\n",
    "            item['token'] = row['token']\n",
    "            item['tag'] = 'O'\n",
    "            tag_before = 'O'\n",
    "            id_before = row['sentence_id']\n",
    "            outfile.write(','.join(item.values()) + '\\n')\n",
    "        else:\n",
    "            token_buffer.append(row['token'])\n",
    "            id_before = row['sentence_id']"
   ],
   "metadata": {
    "collapsed": false,
    "pycharm": {
     "name": "#%%\n"
    }
   }
  },
  {
   "cell_type": "code",
   "execution_count": 26,
   "outputs": [
    {
     "data": {
      "text/plain": "            0                                   1\n0          32               show clips on mycloud\n1          40             photo albums in mycloud\n2          74        play photo albums on mycloud\n3          77  play favourite pictures on mycloud\n4          80           play favourite on mycloud\n...       ...                                 ...\n17392  173894             please record this show\n17393  173905                      save for later\n17394  173926                   move to the right\n17395  173927                 go one to the right\n17396  173935                       can you go up\n\n[17397 rows x 2 columns]",
      "text/html": "<div>\n<style scoped>\n    .dataframe tbody tr th:only-of-type {\n        vertical-align: middle;\n    }\n\n    .dataframe tbody tr th {\n        vertical-align: top;\n    }\n\n    .dataframe thead th {\n        text-align: right;\n    }\n</style>\n<table border=\"1\" class=\"dataframe\">\n  <thead>\n    <tr style=\"text-align: right;\">\n      <th></th>\n      <th>0</th>\n      <th>1</th>\n    </tr>\n  </thead>\n  <tbody>\n    <tr>\n      <th>0</th>\n      <td>32</td>\n      <td>show clips on mycloud</td>\n    </tr>\n    <tr>\n      <th>1</th>\n      <td>40</td>\n      <td>photo albums in mycloud</td>\n    </tr>\n    <tr>\n      <th>2</th>\n      <td>74</td>\n      <td>play photo albums on mycloud</td>\n    </tr>\n    <tr>\n      <th>3</th>\n      <td>77</td>\n      <td>play favourite pictures on mycloud</td>\n    </tr>\n    <tr>\n      <th>4</th>\n      <td>80</td>\n      <td>play favourite on mycloud</td>\n    </tr>\n    <tr>\n      <th>...</th>\n      <td>...</td>\n      <td>...</td>\n    </tr>\n    <tr>\n      <th>17392</th>\n      <td>173894</td>\n      <td>please record this show</td>\n    </tr>\n    <tr>\n      <th>17393</th>\n      <td>173905</td>\n      <td>save for later</td>\n    </tr>\n    <tr>\n      <th>17394</th>\n      <td>173926</td>\n      <td>move to the right</td>\n    </tr>\n    <tr>\n      <th>17395</th>\n      <td>173927</td>\n      <td>go one to the right</td>\n    </tr>\n    <tr>\n      <th>17396</th>\n      <td>173935</td>\n      <td>can you go up</td>\n    </tr>\n  </tbody>\n</table>\n<p>17397 rows × 2 columns</p>\n</div>"
     },
     "execution_count": 26,
     "metadata": {},
     "output_type": "execute_result"
    }
   ],
   "source": [
    "r = pd.read_csv('pred_id.csv', header=None)\n",
    "r = r[r[1] != '<sos>']\n",
    "r = r.groupby([0], as_index = False).agg({1: ' '.join})\n",
    "r"
   ],
   "metadata": {
    "collapsed": false,
    "pycharm": {
     "name": "#%%\n"
    }
   }
  },
  {
   "cell_type": "code",
   "execution_count": 19,
   "outputs": [
    {
     "data": {
      "text/plain": "       sentence_id                              spoken\n0               32               show clips on mycloud\n1               40             photo albums in mycloud\n2               74        play photo albums on mycloud\n3               77  play favourite pictures on mycloud\n4               80           play favourite on mycloud\n...            ...                                 ...\n17392       173894             please record this show\n17393       173905                      save for later\n17394       173926                   move to the right\n17395       173927                 go one to the right\n17396       173935                       can you go up\n\n[17397 rows x 2 columns]",
      "text/html": "<div>\n<style scoped>\n    .dataframe tbody tr th:only-of-type {\n        vertical-align: middle;\n    }\n\n    .dataframe tbody tr th {\n        vertical-align: top;\n    }\n\n    .dataframe thead th {\n        text-align: right;\n    }\n</style>\n<table border=\"1\" class=\"dataframe\">\n  <thead>\n    <tr style=\"text-align: right;\">\n      <th></th>\n      <th>sentence_id</th>\n      <th>spoken</th>\n    </tr>\n  </thead>\n  <tbody>\n    <tr>\n      <th>0</th>\n      <td>32</td>\n      <td>show clips on mycloud</td>\n    </tr>\n    <tr>\n      <th>1</th>\n      <td>40</td>\n      <td>photo albums in mycloud</td>\n    </tr>\n    <tr>\n      <th>2</th>\n      <td>74</td>\n      <td>play photo albums on mycloud</td>\n    </tr>\n    <tr>\n      <th>3</th>\n      <td>77</td>\n      <td>play favourite pictures on mycloud</td>\n    </tr>\n    <tr>\n      <th>4</th>\n      <td>80</td>\n      <td>play favourite on mycloud</td>\n    </tr>\n    <tr>\n      <th>...</th>\n      <td>...</td>\n      <td>...</td>\n    </tr>\n    <tr>\n      <th>17392</th>\n      <td>173894</td>\n      <td>please record this show</td>\n    </tr>\n    <tr>\n      <th>17393</th>\n      <td>173905</td>\n      <td>save for later</td>\n    </tr>\n    <tr>\n      <th>17394</th>\n      <td>173926</td>\n      <td>move to the right</td>\n    </tr>\n    <tr>\n      <th>17395</th>\n      <td>173927</td>\n      <td>go one to the right</td>\n    </tr>\n    <tr>\n      <th>17396</th>\n      <td>173935</td>\n      <td>can you go up</td>\n    </tr>\n  </tbody>\n</table>\n<p>17397 rows × 2 columns</p>\n</div>"
     },
     "execution_count": 19,
     "metadata": {},
     "output_type": "execute_result"
    }
   ],
   "source": [
    "t = test.copy()\n",
    "t = t[['sentence_id', 'token_id', 'language', 'written', 'spoken']]\n",
    "t = t.drop_duplicates()\n",
    "t = t[t.token_id != 0]\n",
    "t = t.groupby(['sentence_id'], as_index = False).agg({'spoken': ' '.join})\n",
    "t"
   ],
   "metadata": {
    "collapsed": false,
    "pycharm": {
     "name": "#%%\n"
    }
   }
  },
  {
   "cell_type": "code",
   "execution_count": 27,
   "outputs": [
    {
     "data": {
      "text/plain": "Empty DataFrame\nColumns: []\nIndex: []",
      "text/html": "<div>\n<style scoped>\n    .dataframe tbody tr th:only-of-type {\n        vertical-align: middle;\n    }\n\n    .dataframe tbody tr th {\n        vertical-align: top;\n    }\n\n    .dataframe thead tr th {\n        text-align: left;\n    }\n</style>\n<table border=\"1\" class=\"dataframe\">\n  <thead>\n  </thead>\n  <tbody>\n  </tbody>\n</table>\n</div>"
     },
     "execution_count": 27,
     "metadata": {},
     "output_type": "execute_result"
    }
   ],
   "source": [
    "r.columns = t.columns\n",
    "t.compare(r)"
   ],
   "metadata": {
    "collapsed": false,
    "pycharm": {
     "name": "#%%\n"
    }
   }
  },
  {
   "cell_type": "code",
   "execution_count": 7,
   "outputs": [
    {
     "name": "stdout",
     "output_type": "stream",
     "text": [
      "              precision    recall  f1-score   support\n",
      "\n",
      "    B-TBNorm       0.98      0.99      0.99     10694\n",
      "    I-TBNorm       1.00      0.99      0.99     30916\n",
      "           O       1.00      1.00      1.00    143345\n",
      "\n",
      "    accuracy                           1.00    184955\n",
      "   macro avg       0.99      0.99      0.99    184955\n",
      "weighted avg       1.00      1.00      1.00    184955\n",
      "\n"
     ]
    }
   ],
   "source": [
    "from sklearn.metrics import classification_report as report\n",
    "print(report(df_pred.predict, df_pred.target))\n"
   ],
   "metadata": {
    "collapsed": false,
    "pycharm": {
     "name": "#%%\n"
    }
   }
  },
  {
   "cell_type": "code",
   "execution_count": 29,
   "outputs": [
    {
     "data": {
      "text/plain": "<Figure size 432x288 with 2 Axes>",
      "image/png": "[encoded data removed]"
     },
     "metadata": {
      "needs_background": "light"
     },
     "output_type": "display_data"
    }
   ],
   "source": [
    "from sklearn.metrics import confusion_matrix as cm\n",
    "from classification_report import  plot_confusion_matrix\n",
    "matrix = cm(df_pred.predict, df_pred.target)\n",
    "plot_confusion_matrix(matrix, classes=['I', 'B', 'O'],\n",
    "                      title='XGBoost Confusion Matrix [{}]'.format('en'))\n"
   ],
   "metadata": {
    "collapsed": false,
    "pycharm": {
     "name": "#%%\n"
    }
   }
  },
  {
   "cell_type": "code",
   "execution_count": 35,
   "outputs": [
    {
     "data": {
      "text/plain": "         sentence_id  token_id language                       written  \\\n8962            1062         2       en          yahoo news & finance   \n8978            1065         2       en                      sun&moon   \n9037            1078         2       en         abc 7 tampa area news   \n9055            1081         2       en  france 24 international news   \n9078            1085         2       en                        nasa 1   \n...              ...       ...      ...                           ...   \n1842269       173804         5       en                      on 26.12   \n1842279       173805         5       en                      on 27.12   \n1842289       173806         5       en                      on 28.12   \n1842299       173807         5       en                      on 29.12   \n1842309       173808         5       en                      on 30.12   \n\n                                        spoken  \\\n8962                    yahoo news and finance   \n8978                              sun and moon   \n9037                 abc seven tampa area news   \n9055     france twenty four international news   \n9078                                  nasa one   \n...                                        ...   \n1842269               on twenty sixth december   \n1842279             on twenty seventh december   \n1842289              on twenty eighth december   \n1842299               on twenty ninth december   \n1842309                  on thirtieth december   \n\n                                                  tgt_char  \\\n8962               y a h o o _ n e w s _ & _ f i n a n c e   \n8978                                       s u n & m o o n   \n9037             a b c _ 7 _ t a m p a _ a r e a _ n e w s   \n9055     f r a n c e _ 2 4 _ i n t e r n a t i o n a l ...   \n9078                                           n a s a _ 1   \n...                                                    ...   \n1842269                                    o n _ 2 6 . 1 2   \n1842279                                    o n _ 2 7 . 1 2   \n1842289                                    o n _ 2 8 . 1 2   \n1842299                                    o n _ 2 9 . 1 2   \n1842309                                    o n _ 3 0 . 1 2   \n\n                                                  src_char  \n8962           y a h o o _ n e w s _ a n d _ f i n a n c e  \n8978                               s u n _ a n d _ m o o n  \n9037     a b c _ s e v e n _ t a m p a _ a r e a _ n e w s  \n9055     f r a n c e _ t w e n t y _ f o u r _ i n t e ...  \n9078                                       n a s a _ o n e  \n...                                                    ...  \n1842269    o n _ t w e n t y _ s i x t h _ d e c e m b e r  \n1842279  o n _ t w e n t y _ s e v e n t h _ d e c e m ...  \n1842289  o n _ t w e n t y _ e i g h t h _ d e c e m b e r  \n1842299    o n _ t w e n t y _ n i n t h _ d e c e m b e r  \n1842309          o n _ t h i r t i e t h _ d e c e m b e r  \n\n[97474 rows x 7 columns]",
      "text/html": "<div>\n<style scoped>\n    .dataframe tbody tr th:only-of-type {\n        vertical-align: middle;\n    }\n\n    .dataframe tbody tr th {\n        vertical-align: top;\n    }\n\n    .dataframe thead th {\n        text-align: right;\n    }\n</style>\n<table border=\"1\" class=\"dataframe\">\n  <thead>\n    <tr style=\"text-align: right;\">\n      <th></th>\n      <th>sentence_id</th>\n      <th>token_id</th>\n      <th>language</th>\n      <th>written</th>\n      <th>spoken</th>\n      <th>tgt_char</th>\n      <th>src_char</th>\n    </tr>\n  </thead>\n  <tbody>\n    <tr>\n      <th>8962</th>\n      <td>1062</td>\n      <td>2</td>\n      <td>en</td>\n      <td>yahoo news &amp; finance</td>\n      <td>yahoo news and finance</td>\n      <td>y a h o o _ n e w s _ &amp; _ f i n a n c e</td>\n      <td>y a h o o _ n e w s _ a n d _ f i n a n c e</td>\n    </tr>\n    <tr>\n      <th>8978</th>\n      <td>1065</td>\n      <td>2</td>\n      <td>en</td>\n      <td>sun&amp;moon</td>\n      <td>sun and moon</td>\n      <td>s u n &amp; m o o n</td>\n      <td>s u n _ a n d _ m o o n</td>\n    </tr>\n    <tr>\n      <th>9037</th>\n      <td>1078</td>\n      <td>2</td>\n      <td>en</td>\n      <td>abc 7 tampa area news</td>\n      <td>abc seven tampa area news</td>\n      <td>a b c _ 7 _ t a m p a _ a r e a _ n e w s</td>\n      <td>a b c _ s e v e n _ t a m p a _ a r e a _ n e w s</td>\n    </tr>\n    <tr>\n      <th>9055</th>\n      <td>1081</td>\n      <td>2</td>\n      <td>en</td>\n      <td>france 24 international news</td>\n      <td>france twenty four international news</td>\n      <td>f r a n c e _ 2 4 _ i n t e r n a t i o n a l ...</td>\n      <td>f r a n c e _ t w e n t y _ f o u r _ i n t e ...</td>\n    </tr>\n    <tr>\n      <th>9078</th>\n      <td>1085</td>\n      <td>2</td>\n      <td>en</td>\n      <td>nasa 1</td>\n      <td>nasa one</td>\n      <td>n a s a _ 1</td>\n      <td>n a s a _ o n e</td>\n    </tr>\n    <tr>\n      <th>...</th>\n      <td>...</td>\n      <td>...</td>\n      <td>...</td>\n      <td>...</td>\n      <td>...</td>\n      <td>...</td>\n      <td>...</td>\n    </tr>\n    <tr>\n      <th>1842269</th>\n      <td>173804</td>\n      <td>5</td>\n      <td>en</td>\n      <td>on 26.12</td>\n      <td>on twenty sixth december</td>\n      <td>o n _ 2 6 . 1 2</td>\n      <td>o n _ t w e n t y _ s i x t h _ d e c e m b e r</td>\n    </tr>\n    <tr>\n      <th>1842279</th>\n      <td>173805</td>\n      <td>5</td>\n      <td>en</td>\n      <td>on 27.12</td>\n      <td>on twenty seventh december</td>\n      <td>o n _ 2 7 . 1 2</td>\n      <td>o n _ t w e n t y _ s e v e n t h _ d e c e m ...</td>\n    </tr>\n    <tr>\n      <th>1842289</th>\n      <td>173806</td>\n      <td>5</td>\n      <td>en</td>\n      <td>on 28.12</td>\n      <td>on twenty eighth december</td>\n      <td>o n _ 2 8 . 1 2</td>\n      <td>o n _ t w e n t y _ e i g h t h _ d e c e m b e r</td>\n    </tr>\n    <tr>\n      <th>1842299</th>\n      <td>173807</td>\n      <td>5</td>\n      <td>en</td>\n      <td>on 29.12</td>\n      <td>on twenty ninth december</td>\n      <td>o n _ 2 9 . 1 2</td>\n      <td>o n _ t w e n t y _ n i n t h _ d e c e m b e r</td>\n    </tr>\n    <tr>\n      <th>1842309</th>\n      <td>173808</td>\n      <td>5</td>\n      <td>en</td>\n      <td>on 30.12</td>\n      <td>on thirtieth december</td>\n      <td>o n _ 3 0 . 1 2</td>\n      <td>o n _ t h i r t i e t h _ d e c e m b e r</td>\n    </tr>\n  </tbody>\n</table>\n<p>97474 rows × 7 columns</p>\n</div>"
     },
     "execution_count": 35,
     "metadata": {},
     "output_type": "execute_result"
    }
   ],
   "source": [
    "# use Opennmt\n",
    "from helper import replace_space, make_src_tgt\n",
    "from pathlib import Path\n",
    "def prepare_onmt(df, name):\n",
    "    data = df[df.tag != 'O']\n",
    "    data = data[['sentence_id', 'token_id', 'language', 'written', 'spoken']]\n",
    "    data = data.drop_duplicates().astype(str)\n",
    "    data['tgt_char'] = data.written.apply(replace_space)\n",
    "    data['src_char'] = data.spoken.apply(replace_space)\n",
    "    make_src_tgt(data, name, data_output_dir=Path('.'), encoder_level='char', decoder_level='char')\n",
    "\n",
    "prepare_onmt(train, 'train')\n",
    "prepare_onmt(test, 'valid')"
   ],
   "metadata": {
    "collapsed": false,
    "pycharm": {
     "name": "#%%\n"
    }
   }
  },
  {
   "cell_type": "code",
   "execution_count": 46,
   "outputs": [
    {
     "data": {
      "text/plain": "256"
     },
     "execution_count": 46,
     "metadata": {},
     "output_type": "execute_result"
    }
   ],
   "source": [
    "from helper import replace_path_in_yaml\n",
    "onmt_path = '../OpenNMT-py'\n",
    "new_yaml_path = './ner/ner.yaml'\n",
    "model = Path('ner') / '_step_{steps}.pt'.format( steps=10000)\n",
    "output_path = 'ner/data/src_valid_pred.txt'\n",
    "\n",
    "replace_path_in_yaml(yaml_path='./ner.yaml', new_yaml_path=new_yaml_path, model_path='./ner')\n",
    "command_build_vocab = \"python {onmt_path}/build_vocab.py -config  {yaml_path} -n_sample -1\".format(\n",
    "        onmt_path=onmt_path, yaml_path=new_yaml_path)\n",
    "command_train = \"python {onmt_path}/train.py -config {yaml_path}\".format(onmt_path=onmt_path, yaml_path=new_yaml_path)\n",
    "\n",
    "command_pred = \"python {onmt_path}/translate.py -model {model} -src ner/data/src_valid.txt -output {output_path} \" \\\n",
    "               \"-beam_size {beam_size} -report_time\".format(onmt_path=onmt_path, model=model,\n",
    "                                                            output_path=output_path, beam_size=5)"
   ],
   "metadata": {
    "collapsed": false,
    "pycharm": {
     "name": "#%%\n"
    }
   }
  },
  {
   "cell_type": "code",
   "execution_count": null,
   "outputs": [],
   "source": [
    "command_build_vocab"
   ],
   "metadata": {
    "collapsed": false,
    "pycharm": {
     "name": "#%%\n"
    }
   }
  },
  {
   "cell_type": "code",
   "execution_count": 48,
   "outputs": [
    {
     "data": {
      "text/plain": "'python ../OpenNMT-py/train.py -config ./ner/ner.yaml'"
     },
     "execution_count": 48,
     "metadata": {},
     "output_type": "execute_result"
    }
   ],
   "source": [
    "command_train"
   ],
   "metadata": {
    "collapsed": false,
    "pycharm": {
     "name": "#%%\n"
    }
   }
  },
  {
   "cell_type": "code",
   "execution_count": 56,
   "outputs": [
    {
     "data": {
      "text/plain": "'python ../OpenNMT-py/translate.py -model ner/_step_10000.pt -src ner/data/src_valid.txt -output ner/data/src_valid_pred.txt -beam_size 5 -report_time'"
     },
     "execution_count": 56,
     "metadata": {},
     "output_type": "execute_result"
    }
   ],
   "source": [
    "command_pred"
   ],
   "metadata": {
    "collapsed": false,
    "pycharm": {
     "name": "#%%\n"
    }
   }
  },
  {
   "cell_type": "code",
   "execution_count": 162,
   "outputs": [
    {
     "data": {
      "text/plain": "             prediction_char prediction_token                        src  \\\n0              p i p e s _ 2          pipes 2                  pipes two   \n1      o t t p l a y e r _ 2      ottplayer 2              ottplayer two   \n2          r u s t a v i _ 2        rustavi 2                rustavi two   \n3                          5                5                       five   \n4                        2 1               21                 twenty one   \n...                      ...              ...                        ...   \n10851          o n _ 1 . 1 2          on 1.12          on first december   \n10852          o n _ 2 . 1 2          on 2.12         on second december   \n10853        o n _ 1 0 . 1 2         on 10.12          on tenth december   \n10854        o n _ 2 2 . 1 2         on 22.12  on twenty second december   \n10855        o n _ 3 1 . 1 2         on 31.12   on thirty first december   \n\n               tgt  \n0          pipes 2  \n1      ottplayer 2  \n2        rustavi 2  \n3                5  \n4               21  \n...            ...  \n10851      on 1.12  \n10852      on 2.12  \n10853     on 10.12  \n10854     on 22.12  \n10855     on 31.12  \n\n[10856 rows x 4 columns]",
      "text/html": "<div>\n<style scoped>\n    .dataframe tbody tr th:only-of-type {\n        vertical-align: middle;\n    }\n\n    .dataframe tbody tr th {\n        vertical-align: top;\n    }\n\n    .dataframe thead th {\n        text-align: right;\n    }\n</style>\n<table border=\"1\" class=\"dataframe\">\n  <thead>\n    <tr style=\"text-align: right;\">\n      <th></th>\n      <th>prediction_char</th>\n      <th>prediction_token</th>\n      <th>src</th>\n      <th>tgt</th>\n    </tr>\n  </thead>\n  <tbody>\n    <tr>\n      <th>0</th>\n      <td>p i p e s _ 2</td>\n      <td>pipes 2</td>\n      <td>pipes two</td>\n      <td>pipes 2</td>\n    </tr>\n    <tr>\n      <th>1</th>\n      <td>o t t p l a y e r _ 2</td>\n      <td>ottplayer 2</td>\n      <td>ottplayer two</td>\n      <td>ottplayer 2</td>\n    </tr>\n    <tr>\n      <th>2</th>\n      <td>r u s t a v i _ 2</td>\n      <td>rustavi 2</td>\n      <td>rustavi two</td>\n      <td>rustavi 2</td>\n    </tr>\n    <tr>\n      <th>3</th>\n      <td>5</td>\n      <td>5</td>\n      <td>five</td>\n      <td>5</td>\n    </tr>\n    <tr>\n      <th>4</th>\n      <td>2 1</td>\n      <td>21</td>\n      <td>twenty one</td>\n      <td>21</td>\n    </tr>\n    <tr>\n      <th>...</th>\n      <td>...</td>\n      <td>...</td>\n      <td>...</td>\n      <td>...</td>\n    </tr>\n    <tr>\n      <th>10851</th>\n      <td>o n _ 1 . 1 2</td>\n      <td>on 1.12</td>\n      <td>on first december</td>\n      <td>on 1.12</td>\n    </tr>\n    <tr>\n      <th>10852</th>\n      <td>o n _ 2 . 1 2</td>\n      <td>on 2.12</td>\n      <td>on second december</td>\n      <td>on 2.12</td>\n    </tr>\n    <tr>\n      <th>10853</th>\n      <td>o n _ 1 0 . 1 2</td>\n      <td>on 10.12</td>\n      <td>on tenth december</td>\n      <td>on 10.12</td>\n    </tr>\n    <tr>\n      <th>10854</th>\n      <td>o n _ 2 2 . 1 2</td>\n      <td>on 22.12</td>\n      <td>on twenty second december</td>\n      <td>on 22.12</td>\n    </tr>\n    <tr>\n      <th>10855</th>\n      <td>o n _ 3 1 . 1 2</td>\n      <td>on 31.12</td>\n      <td>on thirty first december</td>\n      <td>on 31.12</td>\n    </tr>\n  </tbody>\n</table>\n<p>10856 rows × 4 columns</p>\n</div>"
     },
     "execution_count": 162,
     "metadata": {},
     "output_type": "execute_result"
    }
   ],
   "source": [
    "from helper import recover_space\n",
    "output_path = 'ner/data/src_valid_pred.txt'\n",
    "data = pd.read_csv(output_path, sep=\"\\n\", header=None, skip_blank_lines=False)\n",
    "data = data.fillna('')\n",
    "data.columns = [\"prediction_char\"]\n",
    "data['prediction_token'] = data[\"prediction_char\"].apply(recover_space)\n",
    "data['src']= pd.read_csv('ner/data/src_valid.txt', sep=\"\\n\", header=None, skip_blank_lines=False)[0].apply(recover_space)\n",
    "data['tgt'] = pd.read_csv('ner/data/tgt_valid.txt', sep=\"\\n\", header=None, skip_blank_lines=False)[0].apply(recover_space)\n",
    "data"
   ],
   "metadata": {
    "collapsed": false,
    "pycharm": {
     "name": "#%%\n"
    }
   }
  },
  {
   "cell_type": "code",
   "execution_count": 163,
   "outputs": [
    {
     "name": "stdout",
     "output_type": "stream",
     "text": [
      "Tokens to be normalized : 10856\n",
      "Tokens to remain self : 98279\n"
     ]
    },
    {
     "data": {
      "text/plain": "       sentence_id                              spoken  \\\n0               32               show clips on mycloud   \n1               40             photo albums in mycloud   \n2               74        play photo albums on mycloud   \n3               77  play favourite pictures on mycloud   \n4               80           play favourite on mycloud   \n...            ...                                 ...   \n17392       173894             please record this show   \n17393       173905                      save for later   \n17394       173926                   move to the right   \n17395       173927                 go one to the right   \n17396       173935                       can you go up   \n\n                                  written                               after  \n0                   show clips on mycloud               show clips on mycloud  \n1                 photo albums in mycloud             photo albums in mycloud  \n2            play photo albums on mycloud        play photo albums on mycloud  \n3      play favourite pictures on mycloud  play favourite pictures on mycloud  \n4               play favourite on mycloud           play favourite on mycloud  \n...                                   ...                                 ...  \n17392             please record this show             please record this show  \n17393                      save for later                      save for later  \n17394                   move to the right                   move to the right  \n17395                 go one to the right                 go one to the right  \n17396                       can you go up                       can you go up  \n\n[17397 rows x 4 columns]",
      "text/html": "<div>\n<style scoped>\n    .dataframe tbody tr th:only-of-type {\n        vertical-align: middle;\n    }\n\n    .dataframe tbody tr th {\n        vertical-align: top;\n    }\n\n    .dataframe thead th {\n        text-align: right;\n    }\n</style>\n<table border=\"1\" class=\"dataframe\">\n  <thead>\n    <tr style=\"text-align: right;\">\n      <th></th>\n      <th>sentence_id</th>\n      <th>spoken</th>\n      <th>written</th>\n      <th>after</th>\n    </tr>\n  </thead>\n  <tbody>\n    <tr>\n      <th>0</th>\n      <td>32</td>\n      <td>show clips on mycloud</td>\n      <td>show clips on mycloud</td>\n      <td>show clips on mycloud</td>\n    </tr>\n    <tr>\n      <th>1</th>\n      <td>40</td>\n      <td>photo albums in mycloud</td>\n      <td>photo albums in mycloud</td>\n      <td>photo albums in mycloud</td>\n    </tr>\n    <tr>\n      <th>2</th>\n      <td>74</td>\n      <td>play photo albums on mycloud</td>\n      <td>play photo albums on mycloud</td>\n      <td>play photo albums on mycloud</td>\n    </tr>\n    <tr>\n      <th>3</th>\n      <td>77</td>\n      <td>play favourite pictures on mycloud</td>\n      <td>play favourite pictures on mycloud</td>\n      <td>play favourite pictures on mycloud</td>\n    </tr>\n    <tr>\n      <th>4</th>\n      <td>80</td>\n      <td>play favourite on mycloud</td>\n      <td>play favourite on mycloud</td>\n      <td>play favourite on mycloud</td>\n    </tr>\n    <tr>\n      <th>...</th>\n      <td>...</td>\n      <td>...</td>\n      <td>...</td>\n      <td>...</td>\n    </tr>\n    <tr>\n      <th>17392</th>\n      <td>173894</td>\n      <td>please record this show</td>\n      <td>please record this show</td>\n      <td>please record this show</td>\n    </tr>\n    <tr>\n      <th>17393</th>\n      <td>173905</td>\n      <td>save for later</td>\n      <td>save for later</td>\n      <td>save for later</td>\n    </tr>\n    <tr>\n      <th>17394</th>\n      <td>173926</td>\n      <td>move to the right</td>\n      <td>move to the right</td>\n      <td>move to the right</td>\n    </tr>\n    <tr>\n      <th>17395</th>\n      <td>173927</td>\n      <td>go one to the right</td>\n      <td>go one to the right</td>\n      <td>go one to the right</td>\n    </tr>\n    <tr>\n      <th>17396</th>\n      <td>173935</td>\n      <td>can you go up</td>\n      <td>can you go up</td>\n      <td>can you go up</td>\n    </tr>\n  </tbody>\n</table>\n<p>17397 rows × 4 columns</p>\n</div>"
     },
     "execution_count": 163,
     "metadata": {},
     "output_type": "execute_result"
    }
   ],
   "source": [
    "# Evaluate Normalization\n",
    "t = test.copy()\n",
    "t = t[['sentence_id', 'token_id', 'language', 'written', 'spoken', 'tag']]\n",
    "t.loc[t.tag!='O', 'tag'] = 'B'\n",
    "t = t.drop_duplicates()\n",
    "t = t[t.token_id != 0]\n",
    "id_tobenormalized = t.index[t['tag']=='B'].tolist()\n",
    "id_remainself = t.index[t['tag']=='O'].tolist()\n",
    "print('Tokens to be normalized : {}'.format(len(id_tobenormalized)))\n",
    "print('Tokens to remain self : {}'.format(len(id_remainself)))\n",
    "t['after'] = ''\n",
    "t.loc[id_tobenormalized, 'after'] = data['prediction_token'].tolist()\n",
    "t.loc[id_remainself, 'after'] = t.loc[id_remainself, 'spoken']\n",
    "t = t.groupby(['sentence_id'], as_index = False).agg({'spoken': ' '.join, 'written': ' '.join, 'after': ' '.join})\n",
    "t\n",
    "\n"
   ],
   "metadata": {
    "collapsed": false,
    "pycharm": {
     "name": "#%%\n"
    }
   }
  },
  {
   "cell_type": "code",
   "execution_count": 158,
   "outputs": [
    {
     "name": "stderr",
     "output_type": "stream",
     "text": [
      "10856it [00:02, 4260.82it/s]\n"
     ]
    },
    {
     "name": "stdout",
     "output_type": "stream",
     "text": [
      "Making src tgt for:  test\n"
     ]
    },
    {
     "data": {
      "text/plain": "        sentence_id  written tag       src_char       tgt_char\n1                32     show   O        s h o w        s h o w\n2                32    clips   O      c l i p s      c l i p s\n3                32       on   O            o n            o n\n4                32  mycloud   O  m y c l o u d  m y c l o u d\n7                40    photo   O      p h o t o      p h o t o\n...             ...      ...  ..            ...            ...\n154072       173927    right   O      r i g h t      r i g h t\n154075       173935      can   O          c a n          c a n\n154076       173935      you   O          y o u          y o u\n154077       173935       go   O            g o            g o\n154078       173935       up   O            u p            u p\n\n[119286 rows x 5 columns]",
      "text/html": "<div>\n<style scoped>\n    .dataframe tbody tr th:only-of-type {\n        vertical-align: middle;\n    }\n\n    .dataframe tbody tr th {\n        vertical-align: top;\n    }\n\n    .dataframe thead th {\n        text-align: right;\n    }\n</style>\n<table border=\"1\" class=\"dataframe\">\n  <thead>\n    <tr style=\"text-align: right;\">\n      <th></th>\n      <th>sentence_id</th>\n      <th>written</th>\n      <th>tag</th>\n      <th>src_char</th>\n      <th>tgt_char</th>\n    </tr>\n  </thead>\n  <tbody>\n    <tr>\n      <th>1</th>\n      <td>32</td>\n      <td>show</td>\n      <td>O</td>\n      <td>s h o w</td>\n      <td>s h o w</td>\n    </tr>\n    <tr>\n      <th>2</th>\n      <td>32</td>\n      <td>clips</td>\n      <td>O</td>\n      <td>c l i p s</td>\n      <td>c l i p s</td>\n    </tr>\n    <tr>\n      <th>3</th>\n      <td>32</td>\n      <td>on</td>\n      <td>O</td>\n      <td>o n</td>\n      <td>o n</td>\n    </tr>\n    <tr>\n      <th>4</th>\n      <td>32</td>\n      <td>mycloud</td>\n      <td>O</td>\n      <td>m y c l o u d</td>\n      <td>m y c l o u d</td>\n    </tr>\n    <tr>\n      <th>7</th>\n      <td>40</td>\n      <td>photo</td>\n      <td>O</td>\n      <td>p h o t o</td>\n      <td>p h o t o</td>\n    </tr>\n    <tr>\n      <th>...</th>\n      <td>...</td>\n      <td>...</td>\n      <td>...</td>\n      <td>...</td>\n      <td>...</td>\n    </tr>\n    <tr>\n      <th>154072</th>\n      <td>173927</td>\n      <td>right</td>\n      <td>O</td>\n      <td>r i g h t</td>\n      <td>r i g h t</td>\n    </tr>\n    <tr>\n      <th>154075</th>\n      <td>173935</td>\n      <td>can</td>\n      <td>O</td>\n      <td>c a n</td>\n      <td>c a n</td>\n    </tr>\n    <tr>\n      <th>154076</th>\n      <td>173935</td>\n      <td>you</td>\n      <td>O</td>\n      <td>y o u</td>\n      <td>y o u</td>\n    </tr>\n    <tr>\n      <th>154077</th>\n      <td>173935</td>\n      <td>go</td>\n      <td>O</td>\n      <td>g o</td>\n      <td>g o</td>\n    </tr>\n    <tr>\n      <th>154078</th>\n      <td>173935</td>\n      <td>up</td>\n      <td>O</td>\n      <td>u p</td>\n      <td>u p</td>\n    </tr>\n  </tbody>\n</table>\n<p>119286 rows × 5 columns</p>\n</div>"
     },
     "execution_count": 158,
     "metadata": {},
     "output_type": "execute_result"
    }
   ],
   "source": [
    "classified_data = pd.read_csv('pred_id.csv', header=None)\n",
    "classified_data.columns = ['sentence_id', 'written', 'tag']\n",
    "classified_data = classified_data[classified_data['written'] != '<sos>']\n",
    "classified_data['src_char'] = classified_data.written.apply(replace_space)\n",
    "classified_data['tgt_char'] = classified_data['src_char']\n",
    "make_src_tgt(classified_data[classified_data.tag != 'O'], 'test', data_output_dir=Path('./ner/data'), encoder_level='char', decoder_level='char')\n",
    "classified_data"
   ],
   "metadata": {
    "collapsed": false,
    "pycharm": {
     "name": "#%%\n"
    }
   }
  },
  {
   "cell_type": "code",
   "execution_count": 159,
   "outputs": [
    {
     "data": {
      "text/plain": "             prediction_char prediction_token                        src\n0              p i p e s _ 2          pipes 2                  pipes two\n1      o t t p l a y e r _ 2      ottplayer 2              ottplayer two\n2          r u s t a v i _ 2        rustavi 2                rustavi two\n3                          5                5                       five\n4                        2 1               21                 twenty one\n...                      ...              ...                        ...\n10851          o n _ 1 . 1 2          on 1.12          on first december\n10852          o n _ 2 . 1 2          on 2.12         on second december\n10853        o n _ 1 0 . 1 2         on 10.12          on tenth december\n10854        o n _ 2 2 . 1 2         on 22.12  on twenty second december\n10855        o n _ 3 1 . 1 2         on 31.12   on thirty first december\n\n[10856 rows x 3 columns]",
      "text/html": "<div>\n<style scoped>\n    .dataframe tbody tr th:only-of-type {\n        vertical-align: middle;\n    }\n\n    .dataframe tbody tr th {\n        vertical-align: top;\n    }\n\n    .dataframe thead th {\n        text-align: right;\n    }\n</style>\n<table border=\"1\" class=\"dataframe\">\n  <thead>\n    <tr style=\"text-align: right;\">\n      <th></th>\n      <th>prediction_char</th>\n      <th>prediction_token</th>\n      <th>src</th>\n    </tr>\n  </thead>\n  <tbody>\n    <tr>\n      <th>0</th>\n      <td>p i p e s _ 2</td>\n      <td>pipes 2</td>\n      <td>pipes two</td>\n    </tr>\n    <tr>\n      <th>1</th>\n      <td>o t t p l a y e r _ 2</td>\n      <td>ottplayer 2</td>\n      <td>ottplayer two</td>\n    </tr>\n    <tr>\n      <th>2</th>\n      <td>r u s t a v i _ 2</td>\n      <td>rustavi 2</td>\n      <td>rustavi two</td>\n    </tr>\n    <tr>\n      <th>3</th>\n      <td>5</td>\n      <td>5</td>\n      <td>five</td>\n    </tr>\n    <tr>\n      <th>4</th>\n      <td>2 1</td>\n      <td>21</td>\n      <td>twenty one</td>\n    </tr>\n    <tr>\n      <th>...</th>\n      <td>...</td>\n      <td>...</td>\n      <td>...</td>\n    </tr>\n    <tr>\n      <th>10851</th>\n      <td>o n _ 1 . 1 2</td>\n      <td>on 1.12</td>\n      <td>on first december</td>\n    </tr>\n    <tr>\n      <th>10852</th>\n      <td>o n _ 2 . 1 2</td>\n      <td>on 2.12</td>\n      <td>on second december</td>\n    </tr>\n    <tr>\n      <th>10853</th>\n      <td>o n _ 1 0 . 1 2</td>\n      <td>on 10.12</td>\n      <td>on tenth december</td>\n    </tr>\n    <tr>\n      <th>10854</th>\n      <td>o n _ 2 2 . 1 2</td>\n      <td>on 22.12</td>\n      <td>on twenty second december</td>\n    </tr>\n    <tr>\n      <th>10855</th>\n      <td>o n _ 3 1 . 1 2</td>\n      <td>on 31.12</td>\n      <td>on thirty first december</td>\n    </tr>\n  </tbody>\n</table>\n<p>10856 rows × 3 columns</p>\n</div>"
     },
     "execution_count": 159,
     "metadata": {},
     "output_type": "execute_result"
    }
   ],
   "source": [
    "test_pred = pd.read_csv('ner/data/src_test_pred.txt', sep=\"\\n\", header=None, skip_blank_lines=False)\n",
    "test_pred = test_pred.fillna('')\n",
    "test_pred.columns = [\"prediction_char\"]\n",
    "test_pred['prediction_token'] = test_pred[\"prediction_char\"].apply(recover_space)\n",
    "test_pred['src']= pd.read_csv('ner/data/src_test.txt', sep=\"\\n\", header=None, skip_blank_lines=False)[0].apply(recover_space)\n",
    "test_pred"
   ],
   "metadata": {
    "collapsed": false,
    "pycharm": {
     "name": "#%%\n"
    }
   }
  },
  {
   "cell_type": "code",
   "execution_count": 168,
   "outputs": [
    {
     "name": "stdout",
     "output_type": "stream",
     "text": [
      "Tokens to be normalized : 10856\n",
      "Tokens to remain self : 108430\n"
     ]
    },
    {
     "data": {
      "text/plain": "       sentence_id                              spoken  \\\n0               32               show clips on mycloud   \n1               40             photo albums in mycloud   \n2               74        play photo albums on mycloud   \n3               77  play favourite pictures on mycloud   \n4               80           play favourite on mycloud   \n...            ...                                 ...   \n17392       173894             please record this show   \n17393       173905                      save for later   \n17394       173926                   move to the right   \n17395       173927                 go one to the right   \n17396       173935                       can you go up   \n\n                                  written                               after  \\\n0                   show clips on mycloud               show clips on mycloud   \n1                 photo albums in mycloud             photo albums in mycloud   \n2            play photo albums on mycloud        play photo albums on mycloud   \n3      play favourite pictures on mycloud  play favourite pictures on mycloud   \n4               play favourite on mycloud           play favourite on mycloud   \n...                                   ...                                 ...   \n17392             please record this show             please record this show   \n17393                      save for later                      save for later   \n17394                   move to the right                   move to the right   \n17395                 go one to the right                 go one to the right   \n17396                       can you go up                       can you go up   \n\n                         classified_after  \n0                   show clips on mycloud  \n1                 photo albums in mycloud  \n2            play photo albums on mycloud  \n3      play favourite pictures on mycloud  \n4               play favourite on mycloud  \n...                                   ...  \n17392             please record this show  \n17393                      save for later  \n17394                   move to the right  \n17395                 go one to the right  \n17396                       can you go up  \n\n[17397 rows x 5 columns]",
      "text/html": "<div>\n<style scoped>\n    .dataframe tbody tr th:only-of-type {\n        vertical-align: middle;\n    }\n\n    .dataframe tbody tr th {\n        vertical-align: top;\n    }\n\n    .dataframe thead th {\n        text-align: right;\n    }\n</style>\n<table border=\"1\" class=\"dataframe\">\n  <thead>\n    <tr style=\"text-align: right;\">\n      <th></th>\n      <th>sentence_id</th>\n      <th>spoken</th>\n      <th>written</th>\n      <th>after</th>\n      <th>classified_after</th>\n    </tr>\n  </thead>\n  <tbody>\n    <tr>\n      <th>0</th>\n      <td>32</td>\n      <td>show clips on mycloud</td>\n      <td>show clips on mycloud</td>\n      <td>show clips on mycloud</td>\n      <td>show clips on mycloud</td>\n    </tr>\n    <tr>\n      <th>1</th>\n      <td>40</td>\n      <td>photo albums in mycloud</td>\n      <td>photo albums in mycloud</td>\n      <td>photo albums in mycloud</td>\n      <td>photo albums in mycloud</td>\n    </tr>\n    <tr>\n      <th>2</th>\n      <td>74</td>\n      <td>play photo albums on mycloud</td>\n      <td>play photo albums on mycloud</td>\n      <td>play photo albums on mycloud</td>\n      <td>play photo albums on mycloud</td>\n    </tr>\n    <tr>\n      <th>3</th>\n      <td>77</td>\n      <td>play favourite pictures on mycloud</td>\n      <td>play favourite pictures on mycloud</td>\n      <td>play favourite pictures on mycloud</td>\n      <td>play favourite pictures on mycloud</td>\n    </tr>\n    <tr>\n      <th>4</th>\n      <td>80</td>\n      <td>play favourite on mycloud</td>\n      <td>play favourite on mycloud</td>\n      <td>play favourite on mycloud</td>\n      <td>play favourite on mycloud</td>\n    </tr>\n    <tr>\n      <th>...</th>\n      <td>...</td>\n      <td>...</td>\n      <td>...</td>\n      <td>...</td>\n      <td>...</td>\n    </tr>\n    <tr>\n      <th>17392</th>\n      <td>173894</td>\n      <td>please record this show</td>\n      <td>please record this show</td>\n      <td>please record this show</td>\n      <td>please record this show</td>\n    </tr>\n    <tr>\n      <th>17393</th>\n      <td>173905</td>\n      <td>save for later</td>\n      <td>save for later</td>\n      <td>save for later</td>\n      <td>save for later</td>\n    </tr>\n    <tr>\n      <th>17394</th>\n      <td>173926</td>\n      <td>move to the right</td>\n      <td>move to the right</td>\n      <td>move to the right</td>\n      <td>move to the right</td>\n    </tr>\n    <tr>\n      <th>17395</th>\n      <td>173927</td>\n      <td>go one to the right</td>\n      <td>go one to the right</td>\n      <td>go one to the right</td>\n      <td>go one to the right</td>\n    </tr>\n    <tr>\n      <th>17396</th>\n      <td>173935</td>\n      <td>can you go up</td>\n      <td>can you go up</td>\n      <td>can you go up</td>\n      <td>can you go up</td>\n    </tr>\n  </tbody>\n</table>\n<p>17397 rows × 5 columns</p>\n</div>"
     },
     "execution_count": 168,
     "metadata": {},
     "output_type": "execute_result"
    }
   ],
   "source": [
    "# Evaluate Normalization\n",
    "id_tobenormalized = classified_data.index[classified_data['tag']=='B'].tolist()\n",
    "id_remainself = classified_data.index[classified_data['tag']=='O'].tolist()\n",
    "print('Tokens to be normalized : {}'.format(len(id_tobenormalized)))\n",
    "print('Tokens to remain self : {}'.format(len(id_remainself)))\n",
    "classified_data['after'] = ''\n",
    "classified_data.loc[id_tobenormalized, 'after'] = test_pred['prediction_token'].tolist()\n",
    "classified_data.loc[id_remainself, 'after'] = classified_data.loc[id_remainself, 'written']\n",
    "classified_res = classified_data.groupby(['sentence_id'], as_index = False).agg({'written': ' '.join, 'after': ' '.join})\n",
    "t['classified_after'] = classified_res['after']\n",
    "t"
   ],
   "metadata": {
    "collapsed": false,
    "pycharm": {
     "name": "#%%\n"
    }
   }
  },
  {
   "cell_type": "code",
   "execution_count": 169,
   "outputs": [
    {
     "data": {
      "text/plain": "      sentence_id                                             spoken  \\\n354          3445                 change the radio station to fm one   \n376          3669  change the radio station to bern one love and ...   \n379          3693  change the radio station to my one hundred and...   \n398          3819  change the radio station to my one hundred and...   \n402          3856                change the radio station to swr two   \n...           ...                                                ...   \n8865        88718  i wanna watch monsta beatz of the two thousand...   \n8874        88861                   i wanna watch ten puppies and us   \n8915        89219                  i wanna watch eight hundred words   \n8927        89335                   i wanna watch flight hs thirteen   \n8936        89403  i wanna watch elizabeth i and elizabeth the se...   \n\n                                                written  \\\n354                    change the radio station to fm 1   \n376        change the radio station to bern1 love&relax   \n379    change the radio station to my 105 italian style   \n398            change the radio station to my 105 fresh   \n402                    change the radio station to swr2   \n...                                                 ...   \n8865           i wanna watch monsta beatz of the 2010 s   \n8874                    i wanna watch 10 puppies and us   \n8915                            i wanna watch 800 words   \n8927                          i wanna watch flight hs13   \n8936  i wanna watch elizabeth i & elizabeth the seco...   \n\n                                                  after  \\\n354                    change the radio station to fm 1   \n376       change the radio station to bern 1 love&relax   \n379    change the radio station to my 105 italian style   \n398            change the radio station to my 105 fresh   \n402                   change the radio station to swr 2   \n...                                                 ...   \n8865            i wanna watch monsta beatz of the 2010s   \n8874                      i wanna watch 10 puppies & us   \n8915                    i wanna watch 800 wondred words   \n8927                          i wanna watch flight hs 3   \n8936  i wanna watch elizabeth & elizabeth & elizabet...   \n\n                                     classified_after  \n354                   change the radio station to fm1  \n376     change the radio station to bern 1 love&relax  \n379   change the radio station to my105 italian style  \n398           change the radio station to my105 fresh  \n402                 change the radio station to swr 2  \n...                                               ...  \n8865           i wanna watch monsta beatz of the 2010  \n8874                    i wanna watch 10 puppies & us  \n8915                  i wanna watch 800 hondred words  \n8927                       i wanna watch flight hs 13  \n8936        i wanna watch elizabeth the second britai  \n\n[230 rows x 5 columns]",
      "text/html": "<div>\n<style scoped>\n    .dataframe tbody tr th:only-of-type {\n        vertical-align: middle;\n    }\n\n    .dataframe tbody tr th {\n        vertical-align: top;\n    }\n\n    .dataframe thead th {\n        text-align: right;\n    }\n</style>\n<table border=\"1\" class=\"dataframe\">\n  <thead>\n    <tr style=\"text-align: right;\">\n      <th></th>\n      <th>sentence_id</th>\n      <th>spoken</th>\n      <th>written</th>\n      <th>after</th>\n      <th>classified_after</th>\n    </tr>\n  </thead>\n  <tbody>\n    <tr>\n      <th>354</th>\n      <td>3445</td>\n      <td>change the radio station to fm one</td>\n      <td>change the radio station to fm 1</td>\n      <td>change the radio station to fm 1</td>\n      <td>change the radio station to fm1</td>\n    </tr>\n    <tr>\n      <th>376</th>\n      <td>3669</td>\n      <td>change the radio station to bern one love and ...</td>\n      <td>change the radio station to bern1 love&amp;relax</td>\n      <td>change the radio station to bern 1 love&amp;relax</td>\n      <td>change the radio station to bern 1 love&amp;relax</td>\n    </tr>\n    <tr>\n      <th>379</th>\n      <td>3693</td>\n      <td>change the radio station to my one hundred and...</td>\n      <td>change the radio station to my 105 italian style</td>\n      <td>change the radio station to my 105 italian style</td>\n      <td>change the radio station to my105 italian style</td>\n    </tr>\n    <tr>\n      <th>398</th>\n      <td>3819</td>\n      <td>change the radio station to my one hundred and...</td>\n      <td>change the radio station to my 105 fresh</td>\n      <td>change the radio station to my 105 fresh</td>\n      <td>change the radio station to my105 fresh</td>\n    </tr>\n    <tr>\n      <th>402</th>\n      <td>3856</td>\n      <td>change the radio station to swr two</td>\n      <td>change the radio station to swr2</td>\n      <td>change the radio station to swr 2</td>\n      <td>change the radio station to swr 2</td>\n    </tr>\n    <tr>\n      <th>...</th>\n      <td>...</td>\n      <td>...</td>\n      <td>...</td>\n      <td>...</td>\n      <td>...</td>\n    </tr>\n    <tr>\n      <th>8865</th>\n      <td>88718</td>\n      <td>i wanna watch monsta beatz of the two thousand...</td>\n      <td>i wanna watch monsta beatz of the 2010 s</td>\n      <td>i wanna watch monsta beatz of the 2010s</td>\n      <td>i wanna watch monsta beatz of the 2010</td>\n    </tr>\n    <tr>\n      <th>8874</th>\n      <td>88861</td>\n      <td>i wanna watch ten puppies and us</td>\n      <td>i wanna watch 10 puppies and us</td>\n      <td>i wanna watch 10 puppies &amp; us</td>\n      <td>i wanna watch 10 puppies &amp; us</td>\n    </tr>\n    <tr>\n      <th>8915</th>\n      <td>89219</td>\n      <td>i wanna watch eight hundred words</td>\n      <td>i wanna watch 800 words</td>\n      <td>i wanna watch 800 wondred words</td>\n      <td>i wanna watch 800 hondred words</td>\n    </tr>\n    <tr>\n      <th>8927</th>\n      <td>89335</td>\n      <td>i wanna watch flight hs thirteen</td>\n      <td>i wanna watch flight hs13</td>\n      <td>i wanna watch flight hs 3</td>\n      <td>i wanna watch flight hs 13</td>\n    </tr>\n    <tr>\n      <th>8936</th>\n      <td>89403</td>\n      <td>i wanna watch elizabeth i and elizabeth the se...</td>\n      <td>i wanna watch elizabeth i &amp; elizabeth the seco...</td>\n      <td>i wanna watch elizabeth &amp; elizabeth &amp; elizabet...</td>\n      <td>i wanna watch elizabeth the second britai</td>\n    </tr>\n  </tbody>\n</table>\n<p>230 rows × 5 columns</p>\n</div>"
     },
     "execution_count": 169,
     "metadata": {},
     "output_type": "execute_result"
    }
   ],
   "source": [
    "t[t['written'] != t['classified_after']]"
   ],
   "metadata": {
    "collapsed": false,
    "pycharm": {
     "name": "#%%\n"
    }
   }
  },
  {
   "cell_type": "code",
   "execution_count": null,
   "outputs": [],
   "source": [],
   "metadata": {
    "collapsed": false,
    "pycharm": {
     "name": "#%%\n"
    }
   }
  }
 ],
 "metadata": {
  "kernelspec": {
   "name": "python37764bitjobpostingconda22929374449545e284a5643e9731aeaa",
   "language": "python",
   "display_name": "Python 3.7.7 64-bit ('jobposting': conda)"
  },
  "language_info": {
   "codemirror_mode": {
    "name": "ipython",
    "version": 2
   },
   "file_extension": ".py",
   "mimetype": "text/x-python",
   "name": "python",
   "nbconvert_exporter": "python",
   "pygments_lexer": "ipython2",
   "version": "2.7.6"
  }
 },
 "nbformat": 4,
 "nbformat_minor": 0
}