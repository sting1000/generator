{
 "cells": [
  {
   "cell_type": "code",
   "execution_count": 51,
   "metadata": {
    "collapsed": true
   },
   "outputs": [
    {
     "data": {
      "text/plain": "         sentence_id          intent language        written         spoken  \\\n0                  0        OpenArea       en           show           show   \n1                  0        OpenArea       en  last uploaded  last uploaded   \n2                  0        OpenArea       en             on             on   \n3                  0        OpenArea       en        mycloud        mycloud   \n4                  1        OpenArea       en           show           show   \n...              ...             ...      ...            ...            ...   \n1083571       173204  SwitchOnDevice       en            all            all   \n1083572       173204  SwitchOnDevice       en           ikea           ikea   \n1083573       173204  SwitchOnDevice       en             in             in   \n1083574       173204  SwitchOnDevice       en            the            the   \n1083575       173204  SwitchOnDevice       en        balcony        balcony   \n\n                            type  \n0                          plain  \n1                    mycloudarea  \n2                          plain  \n3                          plain  \n4                          plain  \n...                          ...  \n1083571                    plain  \n1083572     smarthomedevicebrand  \n1083573                    plain  \n1083574                    plain  \n1083575  smarthomedevicelocation  \n\n[1083576 rows x 6 columns]",
      "text/html": "<div>\n<style scoped>\n    .dataframe tbody tr th:only-of-type {\n        vertical-align: middle;\n    }\n\n    .dataframe tbody tr th {\n        vertical-align: top;\n    }\n\n    .dataframe thead th {\n        text-align: right;\n    }\n</style>\n<table border=\"1\" class=\"dataframe\">\n  <thead>\n    <tr style=\"text-align: right;\">\n      <th></th>\n      <th>sentence_id</th>\n      <th>intent</th>\n      <th>language</th>\n      <th>written</th>\n      <th>spoken</th>\n      <th>type</th>\n    </tr>\n  </thead>\n  <tbody>\n    <tr>\n      <th>0</th>\n      <td>0</td>\n      <td>OpenArea</td>\n      <td>en</td>\n      <td>show</td>\n      <td>show</td>\n      <td>plain</td>\n    </tr>\n    <tr>\n      <th>1</th>\n      <td>0</td>\n      <td>OpenArea</td>\n      <td>en</td>\n      <td>last uploaded</td>\n      <td>last uploaded</td>\n      <td>mycloudarea</td>\n    </tr>\n    <tr>\n      <th>2</th>\n      <td>0</td>\n      <td>OpenArea</td>\n      <td>en</td>\n      <td>on</td>\n      <td>on</td>\n      <td>plain</td>\n    </tr>\n    <tr>\n      <th>3</th>\n      <td>0</td>\n      <td>OpenArea</td>\n      <td>en</td>\n      <td>mycloud</td>\n      <td>mycloud</td>\n      <td>plain</td>\n    </tr>\n    <tr>\n      <th>4</th>\n      <td>1</td>\n      <td>OpenArea</td>\n      <td>en</td>\n      <td>show</td>\n      <td>show</td>\n      <td>plain</td>\n    </tr>\n    <tr>\n      <th>...</th>\n      <td>...</td>\n      <td>...</td>\n      <td>...</td>\n      <td>...</td>\n      <td>...</td>\n      <td>...</td>\n    </tr>\n    <tr>\n      <th>1083571</th>\n      <td>173204</td>\n      <td>SwitchOnDevice</td>\n      <td>en</td>\n      <td>all</td>\n      <td>all</td>\n      <td>plain</td>\n    </tr>\n    <tr>\n      <th>1083572</th>\n      <td>173204</td>\n      <td>SwitchOnDevice</td>\n      <td>en</td>\n      <td>ikea</td>\n      <td>ikea</td>\n      <td>smarthomedevicebrand</td>\n    </tr>\n    <tr>\n      <th>1083573</th>\n      <td>173204</td>\n      <td>SwitchOnDevice</td>\n      <td>en</td>\n      <td>in</td>\n      <td>in</td>\n      <td>plain</td>\n    </tr>\n    <tr>\n      <th>1083574</th>\n      <td>173204</td>\n      <td>SwitchOnDevice</td>\n      <td>en</td>\n      <td>the</td>\n      <td>the</td>\n      <td>plain</td>\n    </tr>\n    <tr>\n      <th>1083575</th>\n      <td>173204</td>\n      <td>SwitchOnDevice</td>\n      <td>en</td>\n      <td>balcony</td>\n      <td>balcony</td>\n      <td>smarthomedevicelocation</td>\n    </tr>\n  </tbody>\n</table>\n<p>1083576 rows × 6 columns</p>\n</div>"
     },
     "execution_count": 51,
     "metadata": {},
     "output_type": "execute_result"
    }
   ],
   "source": [
    "import pandas as pd\n",
    "import numpy as np\n",
    "import os\n",
    "import pickle\n",
    "import gc\n",
    "import xgboost as xgb\n",
    "import numpy as np\n",
    "import re\n",
    "import pandas as pd\n",
    "from sklearn.model_selection import train_test_split\n",
    "\n",
    "max_num_features = 10\n",
    "pad_size = 1\n",
    "boundary_letter = -1\n",
    "space_letter = 0\n",
    "max_data_size = 320000\n",
    "\n",
    "out_path = r'.'\n",
    "df = pd.read_csv(r'data/bio/all.csv',)\n",
    "df = df[['sentence_id', 'intent', 'language', 'written', 'spoken',\n",
    "       'type']]\n",
    "df.sentence_id = df.sentence_id.astype(int)\n",
    "df"
   ]
  },
  {
   "cell_type": "code",
   "execution_count": 52,
   "outputs": [],
   "source": [
    "from tqdm import tqdm\n",
    "def make_bio(df):\n",
    "    t2 = pd.DataFrame()\n",
    "    id_before = -1\n",
    "    for ind, row in df.iterrows():\n",
    "        if row.sentence_id != id_before:\n",
    "            tmp = row\n",
    "            tmp['intent'] = 'None'\n",
    "            tmp['type'] = 'plain'\n",
    "            tmp['spoken'] = '<sep>'\n",
    "            tmp['written'] = '<sep>'\n",
    "            tmp['tag'] = 'O'\n",
    "            t2 = t2.append(tmp)\n",
    "            id_before = row.sentence_id\n",
    "        if row['type'] != 'PLAIN' and row['written'] != row['spoken']:\n",
    "            for i, word in enumerate(row['spoken'].split()):\n",
    "                tmp = row\n",
    "                tmp['spoken'] = word\n",
    "                if i == 0:\n",
    "                    tmp['tag'] = 'B'\n",
    "                else:\n",
    "                    tmp['tag'] = 'I'\n",
    "                t2 = t2.append(tmp)\n",
    "        else:\n",
    "            for i, word in enumerate(row['spoken'].split()):\n",
    "                tmp = row\n",
    "                tmp['spoken'] = word\n",
    "                tmp['tag'] = 'O'\n",
    "                t2 = t2.append(tmp)\n",
    "    return t2"
   ],
   "metadata": {
    "collapsed": false,
    "pycharm": {
     "name": "#%%\n"
    }
   }
  },
  {
   "cell_type": "code",
   "execution_count": 53,
   "outputs": [
    {
     "name": "stderr",
     "output_type": "stream",
     "text": [
      "100%|██████████| 500/500 [1:13:43<00:00,  8.85s/it]\n"
     ]
    },
    {
     "data": {
      "text/plain": "          intent language  sentence_id     spoken tag  \\\n0           None       en          0.0      <sep>   O   \n1           None       en          0.0      <sep>   O   \n2       OpenArea       en          0.0       last   O   \n3       OpenArea       en          0.0   uploaded   O   \n4       OpenArea       en          0.0         on   O   \n...          ...      ...          ...        ...  ..   \n777764  RainInfo       en      92688.0         in   O   \n777765  RainInfo       en      92688.0  tremosine   O   \n777766  RainInfo       en      92688.0         on   B   \n777767  RainInfo       en      92688.0      fifth   I   \n777768  RainInfo       en      92688.0    january   I   \n\n                                type        written  \n0                              plain          <sep>  \n1                              plain          <sep>  \n2                        mycloudarea  last uploaded  \n3                        mycloudarea  last uploaded  \n4                              plain             on  \n...                              ...            ...  \n777764                         plain             in  \n777765           localsearchlocation      tremosine  \n777766  localsearchtimestampstartday         on 5.1  \n777767  localsearchtimestampstartday         on 5.1  \n777768  localsearchtimestampstartday         on 5.1  \n\n[777769 rows x 7 columns]",
      "text/html": "<div>\n<style scoped>\n    .dataframe tbody tr th:only-of-type {\n        vertical-align: middle;\n    }\n\n    .dataframe tbody tr th {\n        vertical-align: top;\n    }\n\n    .dataframe thead th {\n        text-align: right;\n    }\n</style>\n<table border=\"1\" class=\"dataframe\">\n  <thead>\n    <tr style=\"text-align: right;\">\n      <th></th>\n      <th>intent</th>\n      <th>language</th>\n      <th>sentence_id</th>\n      <th>spoken</th>\n      <th>tag</th>\n      <th>type</th>\n      <th>written</th>\n    </tr>\n  </thead>\n  <tbody>\n    <tr>\n      <th>0</th>\n      <td>None</td>\n      <td>en</td>\n      <td>0.0</td>\n      <td>&lt;sep&gt;</td>\n      <td>O</td>\n      <td>plain</td>\n      <td>&lt;sep&gt;</td>\n    </tr>\n    <tr>\n      <th>1</th>\n      <td>None</td>\n      <td>en</td>\n      <td>0.0</td>\n      <td>&lt;sep&gt;</td>\n      <td>O</td>\n      <td>plain</td>\n      <td>&lt;sep&gt;</td>\n    </tr>\n    <tr>\n      <th>2</th>\n      <td>OpenArea</td>\n      <td>en</td>\n      <td>0.0</td>\n      <td>last</td>\n      <td>O</td>\n      <td>mycloudarea</td>\n      <td>last uploaded</td>\n    </tr>\n    <tr>\n      <th>3</th>\n      <td>OpenArea</td>\n      <td>en</td>\n      <td>0.0</td>\n      <td>uploaded</td>\n      <td>O</td>\n      <td>mycloudarea</td>\n      <td>last uploaded</td>\n    </tr>\n    <tr>\n      <th>4</th>\n      <td>OpenArea</td>\n      <td>en</td>\n      <td>0.0</td>\n      <td>on</td>\n      <td>O</td>\n      <td>plain</td>\n      <td>on</td>\n    </tr>\n    <tr>\n      <th>...</th>\n      <td>...</td>\n      <td>...</td>\n      <td>...</td>\n      <td>...</td>\n      <td>...</td>\n      <td>...</td>\n      <td>...</td>\n    </tr>\n    <tr>\n      <th>777764</th>\n      <td>RainInfo</td>\n      <td>en</td>\n      <td>92688.0</td>\n      <td>in</td>\n      <td>O</td>\n      <td>plain</td>\n      <td>in</td>\n    </tr>\n    <tr>\n      <th>777765</th>\n      <td>RainInfo</td>\n      <td>en</td>\n      <td>92688.0</td>\n      <td>tremosine</td>\n      <td>O</td>\n      <td>localsearchlocation</td>\n      <td>tremosine</td>\n    </tr>\n    <tr>\n      <th>777766</th>\n      <td>RainInfo</td>\n      <td>en</td>\n      <td>92688.0</td>\n      <td>on</td>\n      <td>B</td>\n      <td>localsearchtimestampstartday</td>\n      <td>on 5.1</td>\n    </tr>\n    <tr>\n      <th>777767</th>\n      <td>RainInfo</td>\n      <td>en</td>\n      <td>92688.0</td>\n      <td>fifth</td>\n      <td>I</td>\n      <td>localsearchtimestampstartday</td>\n      <td>on 5.1</td>\n    </tr>\n    <tr>\n      <th>777768</th>\n      <td>RainInfo</td>\n      <td>en</td>\n      <td>92688.0</td>\n      <td>january</td>\n      <td>I</td>\n      <td>localsearchtimestampstartday</td>\n      <td>on 5.1</td>\n    </tr>\n  </tbody>\n</table>\n<p>777769 rows × 7 columns</p>\n</div>"
     },
     "execution_count": 53,
     "metadata": {},
     "output_type": "execute_result"
    }
   ],
   "source": [
    "k = pd.DataFrame()\n",
    "base=1000\n",
    "for i in tqdm(range(500)):\n",
    "    begin = i * base\n",
    "    end = (i + 1) * base\n",
    "    df_ = make_bio(df.iloc[begin:end])\n",
    "    k = pd.concat([k, df_])\n",
    "k = k.reset_index(drop=True)\n",
    "k"
   ],
   "metadata": {
    "collapsed": false,
    "pycharm": {
     "name": "#%%\n"
    }
   }
  },
  {
   "cell_type": "code",
   "execution_count": 54,
   "outputs": [
    {
     "data": {
      "text/plain": "O    611878\nI    122027\nB     43864\nName: tag, dtype: int64"
     },
     "execution_count": 54,
     "metadata": {},
     "output_type": "execute_result"
    }
   ],
   "source": [
    "k.tag.value_counts()"
   ],
   "metadata": {
    "collapsed": false,
    "pycharm": {
     "name": "#%%\n"
    }
   }
  },
  {
   "cell_type": "code",
   "execution_count": 57,
   "outputs": [
    {
     "data": {
      "text/plain": "      intent language  sentence_id      spoken tag         type  \\\n0       None       en          0.0       <sep>   O        plain   \n1       None       en          0.0       <sep>   O        plain   \n2   OpenArea       en          0.0        last   O  mycloudarea   \n3   OpenArea       en          0.0    uploaded   O  mycloudarea   \n4   OpenArea       en          0.0          on   O        plain   \n5   OpenArea       en          0.0     mycloud   O        plain   \n6       None       en          1.0       <sep>   O        plain   \n7       None       en          1.0       <sep>   O        plain   \n8   OpenArea       en          1.0      latest   O  mycloudarea   \n9   OpenArea       en          1.0     uploads   O  mycloudarea   \n10  OpenArea       en          1.0          on   O        plain   \n11  OpenArea       en          1.0     mycloud   O        plain   \n12      None       en          2.0       <sep>   O        plain   \n13      None       en          2.0       <sep>   O        plain   \n14  OpenArea       en          2.0      recent   O  mycloudarea   \n15  OpenArea       en          2.0     uploads   O  mycloudarea   \n16  OpenArea       en          2.0          on   O        plain   \n17  OpenArea       en          2.0     mycloud   O        plain   \n18      None       en          3.0       <sep>   O        plain   \n19      None       en          3.0       <sep>   O        plain   \n20  OpenArea       en          3.0      newest   O  mycloudarea   \n21  OpenArea       en          3.0     uploads   O  mycloudarea   \n22  OpenArea       en          3.0          on   O        plain   \n23  OpenArea       en          3.0     mycloud   O        plain   \n24      None       en          4.0       <sep>   O        plain   \n25      None       en          4.0       <sep>   O        plain   \n26  OpenArea       en          4.0       photo   O  mycloudarea   \n27  OpenArea       en          4.0       album   O  mycloudarea   \n28  OpenArea       en          4.0          on   O        plain   \n29  OpenArea       en          4.0     mycloud   O        plain   \n30      None       en          5.0       <sep>   O        plain   \n31      None       en          5.0       <sep>   O        plain   \n32  OpenArea       en          5.0     picture   O  mycloudarea   \n33  OpenArea       en          5.0  collection   O  mycloudarea   \n34  OpenArea       en          5.0          on   O        plain   \n35  OpenArea       en          5.0     mycloud   O        plain   \n36      None       en          6.0       <sep>   O        plain   \n37      None       en          6.0       <sep>   O        plain   \n38  OpenArea       en          6.0     folders   O  mycloudarea   \n39  OpenArea       en          6.0          on   O        plain   \n40  OpenArea       en          6.0     mycloud   O        plain   \n41      None       en          7.0       <sep>   O        plain   \n42      None       en          7.0       <sep>   O        plain   \n43  OpenArea       en          7.0       photo   O  mycloudarea   \n44  OpenArea       en          7.0      albums   O  mycloudarea   \n45  OpenArea       en          7.0          on   O        plain   \n46  OpenArea       en          7.0     mycloud   O        plain   \n47      None       en          8.0       <sep>   O        plain   \n48      None       en          8.0       <sep>   O        plain   \n49  OpenArea       en          8.0      albums   O  mycloudarea   \n\n               written  \n0                <sep>  \n1                <sep>  \n2        last uploaded  \n3        last uploaded  \n4                   on  \n5              mycloud  \n6                <sep>  \n7                <sep>  \n8       latest uploads  \n9       latest uploads  \n10                  on  \n11             mycloud  \n12               <sep>  \n13               <sep>  \n14      recent uploads  \n15      recent uploads  \n16                  on  \n17             mycloud  \n18               <sep>  \n19               <sep>  \n20      newest uploads  \n21      newest uploads  \n22                  on  \n23             mycloud  \n24               <sep>  \n25               <sep>  \n26         photo album  \n27         photo album  \n28                  on  \n29             mycloud  \n30               <sep>  \n31               <sep>  \n32  picture collection  \n33  picture collection  \n34                  on  \n35             mycloud  \n36               <sep>  \n37               <sep>  \n38             folders  \n39                  on  \n40             mycloud  \n41               <sep>  \n42               <sep>  \n43        photo albums  \n44        photo albums  \n45                  on  \n46             mycloud  \n47               <sep>  \n48               <sep>  \n49              albums  ",
      "text/html": "<div>\n<style scoped>\n    .dataframe tbody tr th:only-of-type {\n        vertical-align: middle;\n    }\n\n    .dataframe tbody tr th {\n        vertical-align: top;\n    }\n\n    .dataframe thead th {\n        text-align: right;\n    }\n</style>\n<table border=\"1\" class=\"dataframe\">\n  <thead>\n    <tr style=\"text-align: right;\">\n      <th></th>\n      <th>intent</th>\n      <th>language</th>\n      <th>sentence_id</th>\n      <th>spoken</th>\n      <th>tag</th>\n      <th>type</th>\n      <th>written</th>\n    </tr>\n  </thead>\n  <tbody>\n    <tr>\n      <th>0</th>\n      <td>None</td>\n      <td>en</td>\n      <td>0.0</td>\n      <td>&lt;sep&gt;</td>\n      <td>O</td>\n      <td>plain</td>\n      <td>&lt;sep&gt;</td>\n    </tr>\n    <tr>\n      <th>1</th>\n      <td>None</td>\n      <td>en</td>\n      <td>0.0</td>\n      <td>&lt;sep&gt;</td>\n      <td>O</td>\n      <td>plain</td>\n      <td>&lt;sep&gt;</td>\n    </tr>\n    <tr>\n      <th>2</th>\n      <td>OpenArea</td>\n      <td>en</td>\n      <td>0.0</td>\n      <td>last</td>\n      <td>O</td>\n      <td>mycloudarea</td>\n      <td>last uploaded</td>\n    </tr>\n    <tr>\n      <th>3</th>\n      <td>OpenArea</td>\n      <td>en</td>\n      <td>0.0</td>\n      <td>uploaded</td>\n      <td>O</td>\n      <td>mycloudarea</td>\n      <td>last uploaded</td>\n    </tr>\n    <tr>\n      <th>4</th>\n      <td>OpenArea</td>\n      <td>en</td>\n      <td>0.0</td>\n      <td>on</td>\n      <td>O</td>\n      <td>plain</td>\n      <td>on</td>\n    </tr>\n    <tr>\n      <th>5</th>\n      <td>OpenArea</td>\n      <td>en</td>\n      <td>0.0</td>\n      <td>mycloud</td>\n      <td>O</td>\n      <td>plain</td>\n      <td>mycloud</td>\n    </tr>\n    <tr>\n      <th>6</th>\n      <td>None</td>\n      <td>en</td>\n      <td>1.0</td>\n      <td>&lt;sep&gt;</td>\n      <td>O</td>\n      <td>plain</td>\n      <td>&lt;sep&gt;</td>\n    </tr>\n    <tr>\n      <th>7</th>\n      <td>None</td>\n      <td>en</td>\n      <td>1.0</td>\n      <td>&lt;sep&gt;</td>\n      <td>O</td>\n      <td>plain</td>\n      <td>&lt;sep&gt;</td>\n    </tr>\n    <tr>\n      <th>8</th>\n      <td>OpenArea</td>\n      <td>en</td>\n      <td>1.0</td>\n      <td>latest</td>\n      <td>O</td>\n      <td>mycloudarea</td>\n      <td>latest uploads</td>\n    </tr>\n    <tr>\n      <th>9</th>\n      <td>OpenArea</td>\n      <td>en</td>\n      <td>1.0</td>\n      <td>uploads</td>\n      <td>O</td>\n      <td>mycloudarea</td>\n      <td>latest uploads</td>\n    </tr>\n    <tr>\n      <th>10</th>\n      <td>OpenArea</td>\n      <td>en</td>\n      <td>1.0</td>\n      <td>on</td>\n      <td>O</td>\n      <td>plain</td>\n      <td>on</td>\n    </tr>\n    <tr>\n      <th>11</th>\n      <td>OpenArea</td>\n      <td>en</td>\n      <td>1.0</td>\n      <td>mycloud</td>\n      <td>O</td>\n      <td>plain</td>\n      <td>mycloud</td>\n    </tr>\n    <tr>\n      <th>12</th>\n      <td>None</td>\n      <td>en</td>\n      <td>2.0</td>\n      <td>&lt;sep&gt;</td>\n      <td>O</td>\n      <td>plain</td>\n      <td>&lt;sep&gt;</td>\n    </tr>\n    <tr>\n      <th>13</th>\n      <td>None</td>\n      <td>en</td>\n      <td>2.0</td>\n      <td>&lt;sep&gt;</td>\n      <td>O</td>\n      <td>plain</td>\n      <td>&lt;sep&gt;</td>\n    </tr>\n    <tr>\n      <th>14</th>\n      <td>OpenArea</td>\n      <td>en</td>\n      <td>2.0</td>\n      <td>recent</td>\n      <td>O</td>\n      <td>mycloudarea</td>\n      <td>recent uploads</td>\n    </tr>\n    <tr>\n      <th>15</th>\n      <td>OpenArea</td>\n      <td>en</td>\n      <td>2.0</td>\n      <td>uploads</td>\n      <td>O</td>\n      <td>mycloudarea</td>\n      <td>recent uploads</td>\n    </tr>\n    <tr>\n      <th>16</th>\n      <td>OpenArea</td>\n      <td>en</td>\n      <td>2.0</td>\n      <td>on</td>\n      <td>O</td>\n      <td>plain</td>\n      <td>on</td>\n    </tr>\n    <tr>\n      <th>17</th>\n      <td>OpenArea</td>\n      <td>en</td>\n      <td>2.0</td>\n      <td>mycloud</td>\n      <td>O</td>\n      <td>plain</td>\n      <td>mycloud</td>\n    </tr>\n    <tr>\n      <th>18</th>\n      <td>None</td>\n      <td>en</td>\n      <td>3.0</td>\n      <td>&lt;sep&gt;</td>\n      <td>O</td>\n      <td>plain</td>\n      <td>&lt;sep&gt;</td>\n    </tr>\n    <tr>\n      <th>19</th>\n      <td>None</td>\n      <td>en</td>\n      <td>3.0</td>\n      <td>&lt;sep&gt;</td>\n      <td>O</td>\n      <td>plain</td>\n      <td>&lt;sep&gt;</td>\n    </tr>\n    <tr>\n      <th>20</th>\n      <td>OpenArea</td>\n      <td>en</td>\n      <td>3.0</td>\n      <td>newest</td>\n      <td>O</td>\n      <td>mycloudarea</td>\n      <td>newest uploads</td>\n    </tr>\n    <tr>\n      <th>21</th>\n      <td>OpenArea</td>\n      <td>en</td>\n      <td>3.0</td>\n      <td>uploads</td>\n      <td>O</td>\n      <td>mycloudarea</td>\n      <td>newest uploads</td>\n    </tr>\n    <tr>\n      <th>22</th>\n      <td>OpenArea</td>\n      <td>en</td>\n      <td>3.0</td>\n      <td>on</td>\n      <td>O</td>\n      <td>plain</td>\n      <td>on</td>\n    </tr>\n    <tr>\n      <th>23</th>\n      <td>OpenArea</td>\n      <td>en</td>\n      <td>3.0</td>\n      <td>mycloud</td>\n      <td>O</td>\n      <td>plain</td>\n      <td>mycloud</td>\n    </tr>\n    <tr>\n      <th>24</th>\n      <td>None</td>\n      <td>en</td>\n      <td>4.0</td>\n      <td>&lt;sep&gt;</td>\n      <td>O</td>\n      <td>plain</td>\n      <td>&lt;sep&gt;</td>\n    </tr>\n    <tr>\n      <th>25</th>\n      <td>None</td>\n      <td>en</td>\n      <td>4.0</td>\n      <td>&lt;sep&gt;</td>\n      <td>O</td>\n      <td>plain</td>\n      <td>&lt;sep&gt;</td>\n    </tr>\n    <tr>\n      <th>26</th>\n      <td>OpenArea</td>\n      <td>en</td>\n      <td>4.0</td>\n      <td>photo</td>\n      <td>O</td>\n      <td>mycloudarea</td>\n      <td>photo album</td>\n    </tr>\n    <tr>\n      <th>27</th>\n      <td>OpenArea</td>\n      <td>en</td>\n      <td>4.0</td>\n      <td>album</td>\n      <td>O</td>\n      <td>mycloudarea</td>\n      <td>photo album</td>\n    </tr>\n    <tr>\n      <th>28</th>\n      <td>OpenArea</td>\n      <td>en</td>\n      <td>4.0</td>\n      <td>on</td>\n      <td>O</td>\n      <td>plain</td>\n      <td>on</td>\n    </tr>\n    <tr>\n      <th>29</th>\n      <td>OpenArea</td>\n      <td>en</td>\n      <td>4.0</td>\n      <td>mycloud</td>\n      <td>O</td>\n      <td>plain</td>\n      <td>mycloud</td>\n    </tr>\n    <tr>\n      <th>30</th>\n      <td>None</td>\n      <td>en</td>\n      <td>5.0</td>\n      <td>&lt;sep&gt;</td>\n      <td>O</td>\n      <td>plain</td>\n      <td>&lt;sep&gt;</td>\n    </tr>\n    <tr>\n      <th>31</th>\n      <td>None</td>\n      <td>en</td>\n      <td>5.0</td>\n      <td>&lt;sep&gt;</td>\n      <td>O</td>\n      <td>plain</td>\n      <td>&lt;sep&gt;</td>\n    </tr>\n    <tr>\n      <th>32</th>\n      <td>OpenArea</td>\n      <td>en</td>\n      <td>5.0</td>\n      <td>picture</td>\n      <td>O</td>\n      <td>mycloudarea</td>\n      <td>picture collection</td>\n    </tr>\n    <tr>\n      <th>33</th>\n      <td>OpenArea</td>\n      <td>en</td>\n      <td>5.0</td>\n      <td>collection</td>\n      <td>O</td>\n      <td>mycloudarea</td>\n      <td>picture collection</td>\n    </tr>\n    <tr>\n      <th>34</th>\n      <td>OpenArea</td>\n      <td>en</td>\n      <td>5.0</td>\n      <td>on</td>\n      <td>O</td>\n      <td>plain</td>\n      <td>on</td>\n    </tr>\n    <tr>\n      <th>35</th>\n      <td>OpenArea</td>\n      <td>en</td>\n      <td>5.0</td>\n      <td>mycloud</td>\n      <td>O</td>\n      <td>plain</td>\n      <td>mycloud</td>\n    </tr>\n    <tr>\n      <th>36</th>\n      <td>None</td>\n      <td>en</td>\n      <td>6.0</td>\n      <td>&lt;sep&gt;</td>\n      <td>O</td>\n      <td>plain</td>\n      <td>&lt;sep&gt;</td>\n    </tr>\n    <tr>\n      <th>37</th>\n      <td>None</td>\n      <td>en</td>\n      <td>6.0</td>\n      <td>&lt;sep&gt;</td>\n      <td>O</td>\n      <td>plain</td>\n      <td>&lt;sep&gt;</td>\n    </tr>\n    <tr>\n      <th>38</th>\n      <td>OpenArea</td>\n      <td>en</td>\n      <td>6.0</td>\n      <td>folders</td>\n      <td>O</td>\n      <td>mycloudarea</td>\n      <td>folders</td>\n    </tr>\n    <tr>\n      <th>39</th>\n      <td>OpenArea</td>\n      <td>en</td>\n      <td>6.0</td>\n      <td>on</td>\n      <td>O</td>\n      <td>plain</td>\n      <td>on</td>\n    </tr>\n    <tr>\n      <th>40</th>\n      <td>OpenArea</td>\n      <td>en</td>\n      <td>6.0</td>\n      <td>mycloud</td>\n      <td>O</td>\n      <td>plain</td>\n      <td>mycloud</td>\n    </tr>\n    <tr>\n      <th>41</th>\n      <td>None</td>\n      <td>en</td>\n      <td>7.0</td>\n      <td>&lt;sep&gt;</td>\n      <td>O</td>\n      <td>plain</td>\n      <td>&lt;sep&gt;</td>\n    </tr>\n    <tr>\n      <th>42</th>\n      <td>None</td>\n      <td>en</td>\n      <td>7.0</td>\n      <td>&lt;sep&gt;</td>\n      <td>O</td>\n      <td>plain</td>\n      <td>&lt;sep&gt;</td>\n    </tr>\n    <tr>\n      <th>43</th>\n      <td>OpenArea</td>\n      <td>en</td>\n      <td>7.0</td>\n      <td>photo</td>\n      <td>O</td>\n      <td>mycloudarea</td>\n      <td>photo albums</td>\n    </tr>\n    <tr>\n      <th>44</th>\n      <td>OpenArea</td>\n      <td>en</td>\n      <td>7.0</td>\n      <td>albums</td>\n      <td>O</td>\n      <td>mycloudarea</td>\n      <td>photo albums</td>\n    </tr>\n    <tr>\n      <th>45</th>\n      <td>OpenArea</td>\n      <td>en</td>\n      <td>7.0</td>\n      <td>on</td>\n      <td>O</td>\n      <td>plain</td>\n      <td>on</td>\n    </tr>\n    <tr>\n      <th>46</th>\n      <td>OpenArea</td>\n      <td>en</td>\n      <td>7.0</td>\n      <td>mycloud</td>\n      <td>O</td>\n      <td>plain</td>\n      <td>mycloud</td>\n    </tr>\n    <tr>\n      <th>47</th>\n      <td>None</td>\n      <td>en</td>\n      <td>8.0</td>\n      <td>&lt;sep&gt;</td>\n      <td>O</td>\n      <td>plain</td>\n      <td>&lt;sep&gt;</td>\n    </tr>\n    <tr>\n      <th>48</th>\n      <td>None</td>\n      <td>en</td>\n      <td>8.0</td>\n      <td>&lt;sep&gt;</td>\n      <td>O</td>\n      <td>plain</td>\n      <td>&lt;sep&gt;</td>\n    </tr>\n    <tr>\n      <th>49</th>\n      <td>OpenArea</td>\n      <td>en</td>\n      <td>8.0</td>\n      <td>albums</td>\n      <td>O</td>\n      <td>mycloudarea</td>\n      <td>albums</td>\n    </tr>\n  </tbody>\n</table>\n</div>"
     },
     "execution_count": 57,
     "metadata": {},
     "output_type": "execute_result"
    }
   ],
   "source": [
    "k.iloc[:50]"
   ],
   "metadata": {
    "collapsed": false,
    "pycharm": {
     "name": "#%%\n"
    }
   }
  },
  {
   "cell_type": "code",
   "execution_count": 58,
   "outputs": [
    {
     "name": "stdout",
     "output_type": "stream",
     "text": [
      "Total number of samples: 500000\n",
      "Use:  500000\n",
      "x_data sample:\n",
      "[ -1   0   0   0   0   0   0   0   0   0   0  -1   0   0   0   0   0   0\n",
      "   0   0   0   0  -1  60 115 101 112  62   0   0   0   0   0  -1  60 115\n",
      " 101 112  62   0   0   0   0   0  -1 108  97 115 116   0   0   0   0   0\n",
      "   0  -1]\n",
      "y_data sample:\n",
      "0\n",
      "labels:\n",
      "Index(['O', 'B', 'I'], dtype='object')\n"
     ]
    }
   ],
   "source": [
    "df = k\n",
    "max_data_size = 500000\n",
    "pad_size = 2\n",
    "x_data = []\n",
    "y_data =  pd.factorize(df['tag'])\n",
    "labels = y_data[1]\n",
    "y_data = y_data[0]\n",
    "gc.collect()\n",
    "for x in df['spoken'].values:\n",
    "    x_row = np.ones(max_num_features, dtype=int) * space_letter\n",
    "    for xi, i in zip(list(str(x)), np.arange(max_num_features)):\n",
    "        x_row[i] = ord(xi)\n",
    "    x_data.append(x_row)\n",
    "\n",
    "def context_window_transform(data, pad_size):\n",
    "    pre = np.zeros(max_num_features)\n",
    "    pre = [pre for x in np.arange(pad_size)]\n",
    "    data = pre + data + pre\n",
    "    neo_data = []\n",
    "    for i in np.arange(len(data) - pad_size * 2):\n",
    "        row = []\n",
    "        for x in data[i : i + pad_size * 2 + 1]:\n",
    "            row.append([boundary_letter])\n",
    "            row.append(x)\n",
    "        row.append([boundary_letter])\n",
    "        neo_data.append([int(x) for y in row for x in y])\n",
    "    return neo_data\n",
    "\n",
    "x_data = x_data[:max_data_size]\n",
    "y_data = y_data[:max_data_size]\n",
    "x_data = np.array(context_window_transform(x_data, pad_size))\n",
    "gc.collect()\n",
    "x_data = np.array(x_data)\n",
    "y_data = np.array(y_data)\n",
    "\n",
    "print('Total number of samples:', len(x_data))\n",
    "print('Use: ', max_data_size)\n",
    "#x_data = np.array(x_data)\n",
    "#y_data = np.array(y_data)\n",
    "\n",
    "print('x_data sample:')\n",
    "print(x_data[0])\n",
    "print('y_data sample:')\n",
    "print(y_data[0])\n",
    "print('labels:')\n",
    "print(labels)"
   ],
   "metadata": {
    "collapsed": false,
    "pycharm": {
     "name": "#%%\n"
    }
   }
  },
  {
   "cell_type": "code",
   "execution_count": 59,
   "outputs": [
    {
     "name": "stdout",
     "output_type": "stream",
     "text": [
      "[0]\tvalid-merror:0.03140\ttrain-merror:0.03072\n",
      "Multiple eval metrics have been passed: 'train-merror' will be used for early stopping.\n",
      "\n",
      "Will train until train-merror hasn't improved in 20 rounds.\n",
      "[10]\tvalid-merror:0.01508\ttrain-merror:0.01357\n",
      "[20]\tvalid-merror:0.01032\ttrain-merror:0.00767\n",
      "[30]\tvalid-merror:0.00658\ttrain-merror:0.00408\n",
      "[40]\tvalid-merror:0.00560\ttrain-merror:0.00270\n",
      "[50]\tvalid-merror:0.00466\ttrain-merror:0.00166\n",
      "[60]\tvalid-merror:0.00404\ttrain-merror:0.00104\n",
      "[70]\tvalid-merror:0.00356\ttrain-merror:0.00076\n",
      "[80]\tvalid-merror:0.00332\ttrain-merror:0.00065\n",
      "[90]\tvalid-merror:0.00314\ttrain-merror:0.00054\n",
      "[100]\tvalid-merror:0.00306\ttrain-merror:0.00050\n",
      "[110]\tvalid-merror:0.00300\ttrain-merror:0.00048\n",
      "[120]\tvalid-merror:0.00300\ttrain-merror:0.00047\n",
      "[130]\tvalid-merror:0.00288\ttrain-merror:0.00046\n",
      "[140]\tvalid-merror:0.00292\ttrain-merror:0.00046\n",
      "[150]\tvalid-merror:0.00290\ttrain-merror:0.00046\n",
      "[160]\tvalid-merror:0.00288\ttrain-merror:0.00045\n",
      "[170]\tvalid-merror:0.00290\ttrain-merror:0.00045\n",
      "Stopping. Best iteration:\n",
      "[155]\tvalid-merror:0.00290\ttrain-merror:0.00045\n",
      "\n"
     ]
    }
   ],
   "source": [
    "x_train = x_data\n",
    "y_train = y_data\n",
    "gc.collect()\n",
    "\n",
    "x_train, x_valid, y_train, y_valid= train_test_split(x_train, y_train,\n",
    "                                                      test_size=0.1, random_state=2017)\n",
    "gc.collect()\n",
    "num_class = len(labels)\n",
    "dtrain = xgb.DMatrix(x_train, label=y_train)\n",
    "dvalid = xgb.DMatrix(x_valid, label=y_valid)\n",
    "watchlist = [(dvalid, 'valid'), (dtrain, 'train')]\n",
    "\n",
    "param = {'objective':'multi:softmax',\n",
    "         'eta':'0.3', 'max_depth':10,\n",
    "         'silent':1, 'nthread':-1,\n",
    "         'num_class':num_class,\n",
    "         'eval_metric':'merror'}\n",
    "model = xgb.train(param, dtrain, 500, watchlist, early_stopping_rounds=20,\n",
    "                  verbose_eval=10)\n",
    "gc.collect()\n",
    "\n",
    "pred = model.predict(dvalid)\n",
    "pred = [labels[int(x)] for x in pred]\n",
    "y_valid = [labels[x] for x in y_valid]\n",
    "x_valid = [ [ chr(x) for x in y[2 + max_num_features: 2 + max_num_features * 2]] for y in x_valid]\n",
    "x_valid = [''.join(x) for x in x_valid]\n",
    "x_valid = [re.sub('a+$', '', x) for x in x_valid]\n",
    "\n",
    "gc.collect()\n",
    "\n",
    "df_pred = pd.DataFrame(columns=['data', 'predict', 'target'])\n",
    "df_pred['data'] = x_valid\n",
    "df_pred['predict'] = pred\n",
    "df_pred['target'] = y_valid\n",
    "df_pred.to_csv(os.path.join(out_path, 'pred.csv'))\n",
    "\n",
    "df_erros = df_pred.loc[df_pred['predict'] != df_pred['target']]\n",
    "df_erros.to_csv(os.path.join(out_path, 'errors.csv'), index=False)\n",
    "\n",
    "model.save_model(os.path.join(out_path, 'xgb_model'))\n"
   ],
   "metadata": {
    "collapsed": false,
    "pycharm": {
     "name": "#%%\n"
    }
   }
  },
  {
   "cell_type": "code",
   "execution_count": 60,
   "outputs": [
    {
     "data": {
      "text/plain": "             data predict target\n113    for\u0000\u0000\u0000\u0000\u0000\u0000\u0000       B      O\n146    and\u0000\u0000\u0000\u0000\u0000\u0000\u0000       O      I\n432    and\u0000\u0000\u0000\u0000\u0000\u0000\u0000       O      I\n539    with\u0000\u0000\u0000\u0000\u0000\u0000       O      I\n678    bbc\u0000\u0000\u0000\u0000\u0000\u0000\u0000       I      O\n...           ...     ...    ...\n47531  bradley\u0000\u0000\u0000       O      I\n48085  <sep>\u0000\u0000\u0000\u0000\u0000       O      B\n48451  barbie\u0000\u0000\u0000\u0000       O      I\n48701  fantastic\u0000       I      O\n48896  <sep>\u0000\u0000\u0000\u0000\u0000       O      B\n\n[145 rows x 3 columns]",
      "text/html": "<div>\n<style scoped>\n    .dataframe tbody tr th:only-of-type {\n        vertical-align: middle;\n    }\n\n    .dataframe tbody tr th {\n        vertical-align: top;\n    }\n\n    .dataframe thead th {\n        text-align: right;\n    }\n</style>\n<table border=\"1\" class=\"dataframe\">\n  <thead>\n    <tr style=\"text-align: right;\">\n      <th></th>\n      <th>data</th>\n      <th>predict</th>\n      <th>target</th>\n    </tr>\n  </thead>\n  <tbody>\n    <tr>\n      <th>113</th>\n      <td>for\u0000\u0000\u0000\u0000\u0000\u0000\u0000</td>\n      <td>B</td>\n      <td>O</td>\n    </tr>\n    <tr>\n      <th>146</th>\n      <td>and\u0000\u0000\u0000\u0000\u0000\u0000\u0000</td>\n      <td>O</td>\n      <td>I</td>\n    </tr>\n    <tr>\n      <th>432</th>\n      <td>and\u0000\u0000\u0000\u0000\u0000\u0000\u0000</td>\n      <td>O</td>\n      <td>I</td>\n    </tr>\n    <tr>\n      <th>539</th>\n      <td>with\u0000\u0000\u0000\u0000\u0000\u0000</td>\n      <td>O</td>\n      <td>I</td>\n    </tr>\n    <tr>\n      <th>678</th>\n      <td>bbc\u0000\u0000\u0000\u0000\u0000\u0000\u0000</td>\n      <td>I</td>\n      <td>O</td>\n    </tr>\n    <tr>\n      <th>...</th>\n      <td>...</td>\n      <td>...</td>\n      <td>...</td>\n    </tr>\n    <tr>\n      <th>47531</th>\n      <td>bradley\u0000\u0000\u0000</td>\n      <td>O</td>\n      <td>I</td>\n    </tr>\n    <tr>\n      <th>48085</th>\n      <td>&lt;sep&gt;\u0000\u0000\u0000\u0000\u0000</td>\n      <td>O</td>\n      <td>B</td>\n    </tr>\n    <tr>\n      <th>48451</th>\n      <td>barbie\u0000\u0000\u0000\u0000</td>\n      <td>O</td>\n      <td>I</td>\n    </tr>\n    <tr>\n      <th>48701</th>\n      <td>fantastic\u0000</td>\n      <td>I</td>\n      <td>O</td>\n    </tr>\n    <tr>\n      <th>48896</th>\n      <td>&lt;sep&gt;\u0000\u0000\u0000\u0000\u0000</td>\n      <td>O</td>\n      <td>B</td>\n    </tr>\n  </tbody>\n</table>\n<p>145 rows × 3 columns</p>\n</div>"
     },
     "execution_count": 60,
     "metadata": {},
     "output_type": "execute_result"
    }
   ],
   "source": [
    "df_erros\n"
   ],
   "metadata": {
    "collapsed": false,
    "pycharm": {
     "name": "#%%\n"
    }
   }
  },
  {
   "cell_type": "code",
   "execution_count": 62,
   "outputs": [
    {
     "ename": "ValueError",
     "evalue": "Bad conll tag 'B'",
     "output_type": "error",
     "traceback": [
      "\u001B[0;31m---------------------------------------------------------------------------\u001B[0m",
      "\u001B[0;31mValueError\u001B[0m                                Traceback (most recent call last)",
      "\u001B[0;32m<ipython-input-62-7363f8b45861>\u001B[0m in \u001B[0;36m<module>\u001B[0;34m\u001B[0m\n\u001B[1;32m     18\u001B[0m \u001B[0;31m# convert the BIO / IOB tags to tree\u001B[0m\u001B[0;34m\u001B[0m\u001B[0;34m\u001B[0m\u001B[0;34m\u001B[0m\u001B[0m\n\u001B[1;32m     19\u001B[0m \u001B[0mconlltags\u001B[0m \u001B[0;34m=\u001B[0m \u001B[0;34m[\u001B[0m\u001B[0;34m(\u001B[0m\u001B[0mtoken\u001B[0m\u001B[0;34m,\u001B[0m \u001B[0mpos\u001B[0m\u001B[0;34m,\u001B[0m \u001B[0mtg\u001B[0m\u001B[0;34m)\u001B[0m \u001B[0;32mfor\u001B[0m \u001B[0mtoken\u001B[0m\u001B[0;34m,\u001B[0m \u001B[0mpos\u001B[0m\u001B[0;34m,\u001B[0m \u001B[0mtg\u001B[0m \u001B[0;32min\u001B[0m \u001B[0mzip\u001B[0m\u001B[0;34m(\u001B[0m\u001B[0mtokens\u001B[0m\u001B[0;34m,\u001B[0m \u001B[0mpos_tags\u001B[0m\u001B[0;34m,\u001B[0m \u001B[0mtags\u001B[0m\u001B[0;34m)\u001B[0m\u001B[0;34m]\u001B[0m\u001B[0;34m\u001B[0m\u001B[0;34m\u001B[0m\u001B[0m\n\u001B[0;32m---> 20\u001B[0;31m \u001B[0mne_tree\u001B[0m \u001B[0;34m=\u001B[0m \u001B[0mconlltags2tree\u001B[0m\u001B[0;34m(\u001B[0m\u001B[0mconlltags\u001B[0m\u001B[0;34m)\u001B[0m\u001B[0;34m\u001B[0m\u001B[0;34m\u001B[0m\u001B[0m\n\u001B[0m\u001B[1;32m     21\u001B[0m \u001B[0;31m# parse the tree to get our original text\u001B[0m\u001B[0;34m\u001B[0m\u001B[0;34m\u001B[0m\u001B[0;34m\u001B[0m\u001B[0m\n\u001B[1;32m     22\u001B[0m \u001B[0moriginal_text\u001B[0m \u001B[0;34m=\u001B[0m \u001B[0;34m[\u001B[0m\u001B[0;34m]\u001B[0m\u001B[0;34m\u001B[0m\u001B[0;34m\u001B[0m\u001B[0m\n",
      "\u001B[0;32m~/anaconda3/envs/jobposting/lib/python3.7/site-packages/nltk/chunk/util.py\u001B[0m in \u001B[0;36mconlltags2tree\u001B[0;34m(sentence, chunk_types, root_label, strict)\u001B[0m\n\u001B[1;32m    486\u001B[0m             \u001B[0mtree\u001B[0m\u001B[0;34m.\u001B[0m\u001B[0mappend\u001B[0m\u001B[0;34m(\u001B[0m\u001B[0;34m(\u001B[0m\u001B[0mword\u001B[0m\u001B[0;34m,\u001B[0m \u001B[0mpostag\u001B[0m\u001B[0;34m)\u001B[0m\u001B[0;34m)\u001B[0m\u001B[0;34m\u001B[0m\u001B[0;34m\u001B[0m\u001B[0m\n\u001B[1;32m    487\u001B[0m         \u001B[0;32melse\u001B[0m\u001B[0;34m:\u001B[0m\u001B[0;34m\u001B[0m\u001B[0;34m\u001B[0m\u001B[0m\n\u001B[0;32m--> 488\u001B[0;31m             \u001B[0;32mraise\u001B[0m \u001B[0mValueError\u001B[0m\u001B[0;34m(\u001B[0m\u001B[0;34m\"Bad conll tag {0!r}\"\u001B[0m\u001B[0;34m.\u001B[0m\u001B[0mformat\u001B[0m\u001B[0;34m(\u001B[0m\u001B[0mchunktag\u001B[0m\u001B[0;34m)\u001B[0m\u001B[0;34m)\u001B[0m\u001B[0;34m\u001B[0m\u001B[0;34m\u001B[0m\u001B[0m\n\u001B[0m\u001B[1;32m    489\u001B[0m     \u001B[0;32mreturn\u001B[0m \u001B[0mtree\u001B[0m\u001B[0;34m\u001B[0m\u001B[0;34m\u001B[0m\u001B[0m\n\u001B[1;32m    490\u001B[0m \u001B[0;34m\u001B[0m\u001B[0m\n",
      "\u001B[0;31mValueError\u001B[0m: Bad conll tag 'B'"
     ]
    }
   ],
   "source": [
    "from nltk import pos_tag\n",
    "from nltk.tree import Tree\n",
    "from nltk.chunk import conlltags2tree\n",
    "tokens = ['In', 'Beirut', ',', 'a', 'string', 'of', 'officials',\n",
    "          'voiced', 'their', 'anger', ',', 'while', 'at',\n",
    "          'the', 'United', 'Nations', 'summit', 'in', 'New',\n",
    "          'York', ',', 'Prime', 'Minister', 'Fouad', 'Siniora',\n",
    "          'said', 'the', 'Lebanese', 'people', 'are', 'resolute',\n",
    "          'in', 'preventing', 'such', 'attempts', 'from',\n",
    "          'destroying', 'their', 'spirit', '.']\n",
    "tags = ['O', 'B', 'O', 'O', 'O', 'O', 'O', 'O', 'O', 'O',\n",
    "        'O', 'O', 'O', 'O', 'B', 'I', 'O', 'O', 'B',\n",
    "        'I', 'O', 'B', 'O', 'B', 'I', 'O', 'O',\n",
    "        'B', 'O', 'O', 'O', 'O', 'O', 'O', 'O', 'O', 'O',\n",
    "        'O', 'O', 'O']\n",
    "# tag each token with pos\n",
    "pos_tags = [pos for token, pos in pos_tag(tokens)]\n",
    "# convert the BIO / IOB tags to tree\n",
    "conlltags = [(token, pos, tg) for token, pos, tg in zip(tokens, pos_tags, tags)]\n",
    "ne_tree = conlltags2tree(conlltags)\n",
    "# parse the tree to get our original text\n",
    "original_text = []\n",
    "for subtree in ne_tree:\n",
    "    # checking for 'O' tags\n",
    "    if type(subtree) == Tree:\n",
    "        original_label = subtree.label()\n",
    "        original_string = \" \".join([token for token, pos in                      subtree.leaves()])\n",
    "        original_text.append((original_string, original_label))\n",
    "print(original_text)"
   ],
   "metadata": {
    "collapsed": false,
    "pycharm": {
     "name": "#%%\n"
    }
   }
  },
  {
   "cell_type": "code",
   "execution_count": null,
   "outputs": [],
   "source": [],
   "metadata": {
    "collapsed": false,
    "pycharm": {
     "name": "#%%\n"
    }
   }
  }
 ],
 "metadata": {
  "kernelspec": {
   "name": "python37764bitjobpostingconda22929374449545e284a5643e9731aeaa",
   "language": "python",
   "display_name": "Python 3.7.7 64-bit ('jobposting': conda)"
  },
  "language_info": {
   "codemirror_mode": {
    "name": "ipython",
    "version": 2
   },
   "file_extension": ".py",
   "mimetype": "text/x-python",
   "name": "python",
   "nbconvert_exporter": "python",
   "pygments_lexer": "ipython2",
   "version": "2.7.6"
  }
 },
 "nbformat": 4,
 "nbformat_minor": 0
}